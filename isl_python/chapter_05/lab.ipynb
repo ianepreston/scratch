{
 "cells": [
  {
   "cell_type": "code",
   "execution_count": 1,
   "metadata": {},
   "outputs": [],
   "source": [
    "import statsmodels.api as sm\n",
    "import numpy as np\n",
    "from sklearn.model_selection import train_test_split, LeaveOneOut, KFold\n",
    "from sklearn.linear_model import LinearRegression\n",
    "from sklearn.metrics import mean_squared_error\n",
    "from sklearn.preprocessing import PolynomialFeatures"
   ]
  },
  {
   "cell_type": "markdown",
   "metadata": {},
   "source": [
    "# 5.3 Lab: Cross-Validation and the Bootstrap\n",
    "\n",
    "## 5.3.1 The Validation Set Approach"
   ]
  },
  {
   "cell_type": "code",
   "execution_count": 2,
   "metadata": {},
   "outputs": [
    {
     "name": "stderr",
     "output_type": "stream",
     "text": [
      "/home/ipreston/miniconda3/envs/isl/lib/python3.7/site-packages/statsmodels/datasets/utils.py:185: FutureWarning: `item` has been deprecated and will be removed in a future version\n",
      "  return dataset_meta[\"Title\"].item()\n"
     ]
    }
   ],
   "source": [
    "df = sm.datasets.get_rdataset(\"Auto\", \"ISLR\", cache=True).data"
   ]
  },
  {
   "cell_type": "code",
   "execution_count": 3,
   "metadata": {},
   "outputs": [
    {
     "data": {
      "text/html": [
       "<div>\n",
       "<style scoped>\n",
       "    .dataframe tbody tr th:only-of-type {\n",
       "        vertical-align: middle;\n",
       "    }\n",
       "\n",
       "    .dataframe tbody tr th {\n",
       "        vertical-align: top;\n",
       "    }\n",
       "\n",
       "    .dataframe thead th {\n",
       "        text-align: right;\n",
       "    }\n",
       "</style>\n",
       "<table border=\"1\" class=\"dataframe\">\n",
       "  <thead>\n",
       "    <tr style=\"text-align: right;\">\n",
       "      <th></th>\n",
       "      <th>mpg</th>\n",
       "      <th>cylinders</th>\n",
       "      <th>displacement</th>\n",
       "      <th>horsepower</th>\n",
       "      <th>weight</th>\n",
       "      <th>acceleration</th>\n",
       "      <th>year</th>\n",
       "      <th>origin</th>\n",
       "      <th>name</th>\n",
       "    </tr>\n",
       "  </thead>\n",
       "  <tbody>\n",
       "    <tr>\n",
       "      <th>1</th>\n",
       "      <td>18.0</td>\n",
       "      <td>8</td>\n",
       "      <td>307.0</td>\n",
       "      <td>130</td>\n",
       "      <td>3504</td>\n",
       "      <td>12.0</td>\n",
       "      <td>70</td>\n",
       "      <td>1</td>\n",
       "      <td>chevrolet chevelle malibu</td>\n",
       "    </tr>\n",
       "    <tr>\n",
       "      <th>2</th>\n",
       "      <td>15.0</td>\n",
       "      <td>8</td>\n",
       "      <td>350.0</td>\n",
       "      <td>165</td>\n",
       "      <td>3693</td>\n",
       "      <td>11.5</td>\n",
       "      <td>70</td>\n",
       "      <td>1</td>\n",
       "      <td>buick skylark 320</td>\n",
       "    </tr>\n",
       "    <tr>\n",
       "      <th>3</th>\n",
       "      <td>18.0</td>\n",
       "      <td>8</td>\n",
       "      <td>318.0</td>\n",
       "      <td>150</td>\n",
       "      <td>3436</td>\n",
       "      <td>11.0</td>\n",
       "      <td>70</td>\n",
       "      <td>1</td>\n",
       "      <td>plymouth satellite</td>\n",
       "    </tr>\n",
       "    <tr>\n",
       "      <th>4</th>\n",
       "      <td>16.0</td>\n",
       "      <td>8</td>\n",
       "      <td>304.0</td>\n",
       "      <td>150</td>\n",
       "      <td>3433</td>\n",
       "      <td>12.0</td>\n",
       "      <td>70</td>\n",
       "      <td>1</td>\n",
       "      <td>amc rebel sst</td>\n",
       "    </tr>\n",
       "    <tr>\n",
       "      <th>5</th>\n",
       "      <td>17.0</td>\n",
       "      <td>8</td>\n",
       "      <td>302.0</td>\n",
       "      <td>140</td>\n",
       "      <td>3449</td>\n",
       "      <td>10.5</td>\n",
       "      <td>70</td>\n",
       "      <td>1</td>\n",
       "      <td>ford torino</td>\n",
       "    </tr>\n",
       "  </tbody>\n",
       "</table>\n",
       "</div>"
      ],
      "text/plain": [
       "    mpg  cylinders  displacement  horsepower  weight  acceleration  year  \\\n",
       "1  18.0          8         307.0         130    3504          12.0    70   \n",
       "2  15.0          8         350.0         165    3693          11.5    70   \n",
       "3  18.0          8         318.0         150    3436          11.0    70   \n",
       "4  16.0          8         304.0         150    3433          12.0    70   \n",
       "5  17.0          8         302.0         140    3449          10.5    70   \n",
       "\n",
       "   origin                       name  \n",
       "1       1  chevrolet chevelle malibu  \n",
       "2       1          buick skylark 320  \n",
       "3       1         plymouth satellite  \n",
       "4       1              amc rebel sst  \n",
       "5       1                ford torino  "
      ]
     },
     "execution_count": 3,
     "metadata": {},
     "output_type": "execute_result"
    }
   ],
   "source": [
    "df.head()"
   ]
  },
  {
   "cell_type": "code",
   "execution_count": 4,
   "metadata": {},
   "outputs": [],
   "source": [
    "y = df[\"mpg\"]\n",
    "X = df[\"horsepower\"]\n",
    "X_train, X_test, y_train, y_test = train_test_split(X, y, train_size=196, random_state=42)"
   ]
  },
  {
   "cell_type": "code",
   "execution_count": 5,
   "metadata": {},
   "outputs": [
    {
     "data": {
      "text/plain": [
       "25.5738781896844"
      ]
     },
     "execution_count": 5,
     "metadata": {},
     "output_type": "execute_result"
    }
   ],
   "source": [
    "lm = LinearRegression()\n",
    "lm.fit(X_train.values.reshape(-1, 1), y_train)\n",
    "mean_squared_error(y_test, lm.predict(X_test.values.reshape(-1, 1)))"
   ]
  },
  {
   "cell_type": "code",
   "execution_count": 6,
   "metadata": {},
   "outputs": [],
   "source": [
    "df[\"hp_sq\"] = df[\"horsepower\"] **2\n",
    "df[\"hp_cube\"] = df[\"horsepower\"] **3"
   ]
  },
  {
   "cell_type": "code",
   "execution_count": 7,
   "metadata": {},
   "outputs": [
    {
     "data": {
      "text/plain": [
       "22.218020050032855"
      ]
     },
     "execution_count": 7,
     "metadata": {},
     "output_type": "execute_result"
    }
   ],
   "source": [
    "y = df[\"mpg\"]\n",
    "X = df[[\"horsepower\", \"hp_sq\"]]\n",
    "X_train, X_test, y_train, y_test = train_test_split(X, y, train_size=196, random_state=42)\n",
    "lm = LinearRegression()\n",
    "lm.fit(X_train, y_train)\n",
    "mean_squared_error(y_test, lm.predict(X_test))"
   ]
  },
  {
   "cell_type": "code",
   "execution_count": 8,
   "metadata": {},
   "outputs": [
    {
     "data": {
      "text/plain": [
       "22.667675435534864"
      ]
     },
     "execution_count": 8,
     "metadata": {},
     "output_type": "execute_result"
    }
   ],
   "source": [
    "y = df[\"mpg\"]\n",
    "X = df[[\"horsepower\", \"hp_sq\", \"hp_cube\"]]\n",
    "X_train, X_test, y_train, y_test = train_test_split(X, y, train_size=196, random_state=42)\n",
    "lm = LinearRegression()\n",
    "lm.fit(X_train, y_train)\n",
    "mean_squared_error(y_test, lm.predict(X_test))"
   ]
  },
  {
   "cell_type": "markdown",
   "metadata": {},
   "source": [
    "## 5.3.2 Leave-One-Out Cross-Validation"
   ]
  },
  {
   "cell_type": "code",
   "execution_count": 9,
   "metadata": {},
   "outputs": [
    {
     "data": {
      "text/plain": [
       "24.231513517929226"
      ]
     },
     "execution_count": 9,
     "metadata": {},
     "output_type": "execute_result"
    }
   ],
   "source": [
    "y = df[\"mpg\"].values\n",
    "X = df[\"horsepower\"].values.reshape(-1, 1)\n",
    "loo = LeaveOneOut()\n",
    "y_true = []\n",
    "y_pred = []\n",
    "for train_index, test_index in loo.split(X):\n",
    "    X_train, X_test = X[train_index], X[test_index]\n",
    "    y_train, y_test = y[train_index], y[test_index]\n",
    "    lm = LinearRegression()\n",
    "    lm.fit(X_train, y_train)\n",
    "    y_true.append(y_test[0])\n",
    "    y_pred.append(lm.predict(X_test)[0])\n",
    "mean_squared_error(y_true, y_pred) "
   ]
  },
  {
   "cell_type": "code",
   "execution_count": 10,
   "metadata": {},
   "outputs": [
    {
     "data": {
      "text/plain": [
       "19.24821312448967"
      ]
     },
     "execution_count": 10,
     "metadata": {},
     "output_type": "execute_result"
    }
   ],
   "source": [
    "y = df[\"mpg\"].values\n",
    "X = df[[\"horsepower\", \"hp_sq\"]].values\n",
    "loo = LeaveOneOut()\n",
    "y_true = []\n",
    "y_pred = []\n",
    "for train_index, test_index in loo.split(X):\n",
    "    X_train, X_test = X[train_index], X[test_index]\n",
    "    y_train, y_test = y[train_index], y[test_index]\n",
    "    lm = LinearRegression()\n",
    "    lm.fit(X_train, y_train)\n",
    "    y_true.append(y_test[0])\n",
    "    y_pred.append(lm.predict(X_test)[0])\n",
    "mean_squared_error(y_true, y_pred) "
   ]
  },
  {
   "cell_type": "code",
   "execution_count": 11,
   "metadata": {},
   "outputs": [
    {
     "data": {
      "text/plain": [
       "19.33498406402931"
      ]
     },
     "execution_count": 11,
     "metadata": {},
     "output_type": "execute_result"
    }
   ],
   "source": [
    "y = df[\"mpg\"].values\n",
    "X = df[[\"horsepower\", \"hp_sq\", \"hp_cube\"]].values\n",
    "loo = LeaveOneOut()\n",
    "y_true = []\n",
    "y_pred = []\n",
    "for train_index, test_index in loo.split(X):\n",
    "    X_train, X_test = X[train_index], X[test_index]\n",
    "    y_train, y_test = y[train_index], y[test_index]\n",
    "    lm = LinearRegression()\n",
    "    lm.fit(X_train, y_train)\n",
    "    y_true.append(y_test[0])\n",
    "    y_pred.append(lm.predict(X_test)[0])\n",
    "mean_squared_error(y_true, y_pred) "
   ]
  },
  {
   "cell_type": "markdown",
   "metadata": {},
   "source": [
    "## 5.3.3 k-Fold Cross-Validation"
   ]
  },
  {
   "cell_type": "code",
   "execution_count": 12,
   "metadata": {},
   "outputs": [
    {
     "name": "stdout",
     "output_type": "stream",
     "text": [
      "Degree: 1, MSE: 24.2\n",
      "Degree: 2, MSE: 19.2\n",
      "Degree: 3, MSE: 19.3\n",
      "Degree: 4, MSE: 19.3\n",
      "Degree: 5, MSE: 19.0\n",
      "Degree: 6, MSE: 18.9\n",
      "Degree: 7, MSE: 19.1\n",
      "Degree: 8, MSE: 19.2\n",
      "Degree: 9, MSE: 19.1\n",
      "Degree: 10, MSE: 18.9\n"
     ]
    }
   ],
   "source": [
    "y = df[\"mpg\"].values\n",
    "X = df[\"horsepower\"].values.reshape(-1, 1)\n",
    "validation_dict = dict()\n",
    "kf = KFold(n_splits=10, shuffle=True, random_state=42)\n",
    "for degree in range(1,11):\n",
    "    validation_dict[degree] = {\"true\": list(), \"predict\": list()}\n",
    "    poly = PolynomialFeatures(degree=degree, include_bias=False)\n",
    "    Xpoly = poly.fit_transform(X)\n",
    "    for train, test in kf.split(Xpoly, y):\n",
    "        lm = LinearRegression()\n",
    "        lm.fit(Xpoly[train], y[train])\n",
    "        validation_dict[degree][\"true\"].extend(y[test])\n",
    "        validation_dict[degree][\"predict\"].extend(lm.predict(Xpoly[test]))\n",
    "for degree in validation_dict.keys():\n",
    "    y_true = validation_dict[degree][\"true\"]\n",
    "    y_pred = validation_dict[degree][\"predict\"]\n",
    "    mse = mean_squared_error(y_true, y_pred)\n",
    "    print(f\"Degree: {degree}, MSE: {mse:0.3}\")"
   ]
  },
  {
   "cell_type": "markdown",
   "metadata": {},
   "source": [
    "## 5.3.4 The Bootstrap"
   ]
  },
  {
   "cell_type": "markdown",
   "metadata": {},
   "source": [
    "### Bootstrapping $\\alpha$"
   ]
  },
  {
   "cell_type": "code",
   "execution_count": 13,
   "metadata": {},
   "outputs": [
    {
     "name": "stderr",
     "output_type": "stream",
     "text": [
      "/home/ipreston/miniconda3/envs/isl/lib/python3.7/site-packages/statsmodels/datasets/utils.py:185: FutureWarning: `item` has been deprecated and will be removed in a future version\n",
      "  return dataset_meta[\"Title\"].item()\n"
     ]
    }
   ],
   "source": [
    "df = sm.datasets.get_rdataset(\"Portfolio\", \"ISLR\", cache=True).data"
   ]
  },
  {
   "cell_type": "code",
   "execution_count": 14,
   "metadata": {},
   "outputs": [],
   "source": [
    "def alpha(df):\n",
    "    x_vals = df[\"X\"].values\n",
    "    y_vals = df[\"Y\"].values\n",
    "    cov_mat = np.cov(x_vals, y_vals, ddof=0) #delta degress of freedom defaults to 1 in cov\n",
    "    x_var = cov_mat[0][0]\n",
    "    y_var = cov_mat[1][1]\n",
    "    xy_cov = cov_mat[0][1]\n",
    "    return (y_var - xy_cov) / (x_var + y_var - (2 * xy_cov))"
   ]
  },
  {
   "cell_type": "code",
   "execution_count": 15,
   "metadata": {},
   "outputs": [],
   "source": [
    "alpha_ests = np.array([\n",
    "    alpha(df.sample(frac=1, replace=True))\n",
    "    for _ in range(1_000)\n",
    "])"
   ]
  },
  {
   "cell_type": "code",
   "execution_count": 16,
   "metadata": {},
   "outputs": [
    {
     "data": {
      "text/plain": [
       "0.5783434123047262"
      ]
     },
     "execution_count": 16,
     "metadata": {},
     "output_type": "execute_result"
    }
   ],
   "source": [
    "np.mean(alpha_ests)"
   ]
  },
  {
   "cell_type": "code",
   "execution_count": 17,
   "metadata": {},
   "outputs": [
    {
     "data": {
      "text/plain": [
       "0.09053838024983998"
      ]
     },
     "execution_count": 17,
     "metadata": {},
     "output_type": "execute_result"
    }
   ],
   "source": [
    "np.std(alpha_ests)"
   ]
  },
  {
   "cell_type": "markdown",
   "metadata": {},
   "source": [
    "### Bootstrapping OLS parameter estimates"
   ]
  },
  {
   "cell_type": "code",
   "execution_count": 18,
   "metadata": {},
   "outputs": [],
   "source": [
    "df = sm.datasets.get_rdataset(\"Auto\", \"ISLR\", cache=True).data"
   ]
  },
  {
   "cell_type": "markdown",
   "metadata": {},
   "source": [
    "Get the parameters and standard errors using the usual formulas"
   ]
  },
  {
   "cell_type": "code",
   "execution_count": 19,
   "metadata": {},
   "outputs": [
    {
     "name": "stdout",
     "output_type": "stream",
     "text": [
      "                            OLS Regression Results                            \n",
      "==============================================================================\n",
      "Dep. Variable:                    mpg   R-squared:                       0.606\n",
      "Model:                            OLS   Adj. R-squared:                  0.605\n",
      "Method:                 Least Squares   F-statistic:                     599.7\n",
      "Date:                Sun, 05 Jan 2020   Prob (F-statistic):           7.03e-81\n",
      "Time:                        12:40:30   Log-Likelihood:                -1178.7\n",
      "No. Observations:                 392   AIC:                             2361.\n",
      "Df Residuals:                     390   BIC:                             2369.\n",
      "Df Model:                           1                                         \n",
      "Covariance Type:            nonrobust                                         \n",
      "==============================================================================\n",
      "                 coef    std err          t      P>|t|      [0.025      0.975]\n",
      "------------------------------------------------------------------------------\n",
      "const         39.9359      0.717     55.660      0.000      38.525      41.347\n",
      "horsepower    -0.1578      0.006    -24.489      0.000      -0.171      -0.145\n",
      "==============================================================================\n",
      "Omnibus:                       16.432   Durbin-Watson:                   0.920\n",
      "Prob(Omnibus):                  0.000   Jarque-Bera (JB):               17.305\n",
      "Skew:                           0.492   Prob(JB):                     0.000175\n",
      "Kurtosis:                       3.299   Cond. No.                         322.\n",
      "==============================================================================\n",
      "\n",
      "Warnings:\n",
      "[1] Standard Errors assume that the covariance matrix of the errors is correctly specified.\n"
     ]
    },
    {
     "name": "stderr",
     "output_type": "stream",
     "text": [
      "/home/ipreston/miniconda3/envs/isl/lib/python3.7/site-packages/numpy/core/fromnumeric.py:2495: FutureWarning: Method .ptp is deprecated and will be removed in a future version. Use numpy.ptp instead.\n",
      "  return ptp(axis=axis, out=out, **kwargs)\n"
     ]
    }
   ],
   "source": [
    "auto_ols = sm.OLS(df[\"mpg\"], sm.add_constant(df[\"horsepower\"])).fit()\n",
    "print(auto_ols.summary())"
   ]
  },
  {
   "cell_type": "code",
   "execution_count": 20,
   "metadata": {},
   "outputs": [
    {
     "name": "stdout",
     "output_type": "stream",
     "text": [
      "Horsepower: -0.15784473335365365, Intercept: 39.93586102117047\n"
     ]
    }
   ],
   "source": [
    "y = df[\"mpg\"].values\n",
    "X = df[\"horsepower\"].values.reshape(-1, 1)\n",
    "lm = LinearRegression().fit(X, y)\n",
    "print(f\"Horsepower: {lm.coef_[0]}, Intercept: {lm.intercept_}\")"
   ]
  },
  {
   "cell_type": "code",
   "execution_count": 21,
   "metadata": {},
   "outputs": [
    {
     "name": "stdout",
     "output_type": "stream",
     "text": [
      "Bootstrap beta1: -0.16, bootstrap intercept: 4e+01, Bootstrap b1 se: 0.0075, Bootstrap intercept se: 0.85\n"
     ]
    }
   ],
   "source": [
    "beta_1s = list()\n",
    "beta_0s = list()\n",
    "for _ in range(1_000):\n",
    "    boot_df = df.sample(frac=1, replace=True)\n",
    "    y = boot_df[\"mpg\"].values\n",
    "    X = boot_df[\"horsepower\"].values.reshape(-1, 1)\n",
    "    lm = LinearRegression().fit(X, y)\n",
    "    beta_1s.append(lm.coef_[0])\n",
    "    beta_0s.append(lm.intercept_)\n",
    "\n",
    "beta_1s = np.array(beta_1s)\n",
    "beta_0s = np.array(beta_0s)\n",
    "print(f\"Bootstrap beta1: {np.mean(beta_1s):0.2}, bootstrap intercept: {np.mean(beta_0s):0.2}, Bootstrap b1 se: {np.std(beta_1s):0.2}, Bootstrap intercept se: {np.std(beta_0s):0.2}\")"
   ]
  },
  {
   "cell_type": "code",
   "execution_count": null,
   "metadata": {},
   "outputs": [],
   "source": []
  }
 ],
 "metadata": {
  "kernelspec": {
   "display_name": "Python 3",
   "language": "python",
   "name": "python3"
  },
  "language_info": {
   "codemirror_mode": {
    "name": "ipython",
    "version": 3
   },
   "file_extension": ".py",
   "mimetype": "text/x-python",
   "name": "python",
   "nbconvert_exporter": "python",
   "pygments_lexer": "ipython3",
   "version": "3.7.3"
  }
 },
 "nbformat": 4,
 "nbformat_minor": 4
}
