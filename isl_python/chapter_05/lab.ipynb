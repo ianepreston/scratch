{
 "cells": [
  {
   "cell_type": "code",
   "execution_count": null,
   "metadata": {},
   "outputs": [],
   "source": [
    "import statsmodels.api as sm\n",
    "from sklearn.model_selection import train_test_split, LeaveOneOut, KFold\n",
    "from sklearn.linear_model import LinearRegression\n",
    "from sklearn.metrics import mean_squared_error\n",
    "from sklearn.preprocessing import PolynomialFeatures"
   ]
  },
  {
   "cell_type": "markdown",
   "metadata": {},
   "source": [
    "# 5.3 Lab: Cross-Validation and the Bootstrap\n",
    "\n",
    "## 5.3.1 The Validation Set Approach"
   ]
  },
  {
   "cell_type": "code",
   "execution_count": null,
   "metadata": {},
   "outputs": [],
   "source": [
    "df = sm.datasets.get_rdataset(\"Auto\", \"ISLR\", cache=True).data"
   ]
  },
  {
   "cell_type": "code",
   "execution_count": null,
   "metadata": {},
   "outputs": [],
   "source": [
    "df.head()"
   ]
  },
  {
   "cell_type": "code",
   "execution_count": null,
   "metadata": {},
   "outputs": [],
   "source": [
    "y = df[\"mpg\"]\n",
    "X = df[\"horsepower\"]\n",
    "X_train, X_test, y_train, y_test = train_test_split(X, y, train_size=196, random_state=42)"
   ]
  },
  {
   "cell_type": "code",
   "execution_count": null,
   "metadata": {},
   "outputs": [],
   "source": [
    "lm = LinearRegression()\n",
    "lm.fit(X_train.values.reshape(-1, 1), y_train)\n",
    "mean_squared_error(y_test, lm.predict(X_test.values.reshape(-1, 1)))"
   ]
  },
  {
   "cell_type": "code",
   "execution_count": null,
   "metadata": {},
   "outputs": [],
   "source": [
    "df[\"hp_sq\"] = df[\"horsepower\"] **2\n",
    "df[\"hp_cube\"] = df[\"horsepower\"] **3"
   ]
  },
  {
   "cell_type": "code",
   "execution_count": null,
   "metadata": {},
   "outputs": [],
   "source": [
    "y = df[\"mpg\"]\n",
    "X = df[[\"horsepower\", \"hp_sq\"]]\n",
    "X_train, X_test, y_train, y_test = train_test_split(X, y, train_size=196, random_state=42)\n",
    "lm = LinearRegression()\n",
    "lm.fit(X_train, y_train)\n",
    "mean_squared_error(y_test, lm.predict(X_test))"
   ]
  },
  {
   "cell_type": "code",
   "execution_count": null,
   "metadata": {},
   "outputs": [],
   "source": [
    "y = df[\"mpg\"]\n",
    "X = df[[\"horsepower\", \"hp_sq\", \"hp_cube\"]]\n",
    "X_train, X_test, y_train, y_test = train_test_split(X, y, train_size=196, random_state=42)\n",
    "lm = LinearRegression()\n",
    "lm.fit(X_train, y_train)\n",
    "mean_squared_error(y_test, lm.predict(X_test))"
   ]
  },
  {
   "cell_type": "markdown",
   "metadata": {},
   "source": [
    "## 5.3.2 Leave-One-Out Cross-Validation"
   ]
  },
  {
   "cell_type": "code",
   "execution_count": null,
   "metadata": {},
   "outputs": [],
   "source": [
    "y = df[\"mpg\"].values\n",
    "X = df[\"horsepower\"].values.reshape(-1, 1)\n",
    "loo = LeaveOneOut()\n",
    "y_true = []\n",
    "y_pred = []\n",
    "for train_index, test_index in loo.split(X):\n",
    "    X_train, X_test = X[train_index], X[test_index]\n",
    "    y_train, y_test = y[train_index], y[test_index]\n",
    "    lm = LinearRegression()\n",
    "    lm.fit(X_train, y_train)\n",
    "    y_true.append(y_test[0])\n",
    "    y_pred.append(lm.predict(X_test)[0])\n",
    "mean_squared_error(y_true, y_pred) "
   ]
  },
  {
   "cell_type": "code",
   "execution_count": null,
   "metadata": {},
   "outputs": [],
   "source": [
    "y = df[\"mpg\"].values\n",
    "X = df[[\"horsepower\", \"hp_sq\"]].values\n",
    "loo = LeaveOneOut()\n",
    "y_true = []\n",
    "y_pred = []\n",
    "for train_index, test_index in loo.split(X):\n",
    "    X_train, X_test = X[train_index], X[test_index]\n",
    "    y_train, y_test = y[train_index], y[test_index]\n",
    "    lm = LinearRegression()\n",
    "    lm.fit(X_train, y_train)\n",
    "    y_true.append(y_test[0])\n",
    "    y_pred.append(lm.predict(X_test)[0])\n",
    "mean_squared_error(y_true, y_pred) "
   ]
  },
  {
   "cell_type": "code",
   "execution_count": null,
   "metadata": {},
   "outputs": [],
   "source": [
    "y = df[\"mpg\"].values\n",
    "X = df[[\"horsepower\", \"hp_sq\", \"hp_cube\"]].values\n",
    "loo = LeaveOneOut()\n",
    "y_true = []\n",
    "y_pred = []\n",
    "for train_index, test_index in loo.split(X):\n",
    "    X_train, X_test = X[train_index], X[test_index]\n",
    "    y_train, y_test = y[train_index], y[test_index]\n",
    "    lm = LinearRegression()\n",
    "    lm.fit(X_train, y_train)\n",
    "    y_true.append(y_test[0])\n",
    "    y_pred.append(lm.predict(X_test)[0])\n",
    "mean_squared_error(y_true, y_pred) "
   ]
  },
  {
   "cell_type": "markdown",
   "metadata": {},
   "source": [
    "## 5.3.3 k-Fold Cross-Validation"
   ]
  },
  {
   "cell_type": "code",
   "execution_count": null,
   "metadata": {},
   "outputs": [],
   "source": [
    "y = df[\"mpg\"].values\n",
    "X = df[\"horsepower\"].values.reshape(-1, 1)\n",
    "validation_dict = dict()\n",
    "kf = KFold(n_splits=10, shuffle=True, random_state=42)\n",
    "for degree in range(1,11):\n",
    "    validation_dict[degree] = {\"true\": list(), \"predict\": list()}\n",
    "    poly = PolynomialFeatures(degree=degree, include_bias=False)\n",
    "    Xpoly = poly.fit_transform(X)\n",
    "    for train, test in kf.split(Xpoly, y):\n",
    "        lm = LinearRegression()\n",
    "        lm.fit(Xpoly[train], y[train])\n",
    "        validation_dict[degree][\"true\"].extend(y[test])\n",
    "        validation_dict[degree][\"predict\"].extend(lm.predict(Xpoly[test]))\n",
    "for degree in validation_dict.keys():\n",
    "    y_true = validation_dict[degree][\"true\"]\n",
    "    y_pred = validation_dict[degree][\"predict\"]\n",
    "    mse = mean_squared_error(y_true, y_pred)\n",
    "    print(f\"Degree: {degree}, MSE: {mse:0.3}\")"
   ]
  },
  {
   "cell_type": "markdown",
   "metadata": {},
   "source": [
    "## 5.3.4 The Bootstrap"
   ]
  },
  {
   "cell_type": "code",
   "execution_count": null,
   "metadata": {},
   "outputs": [],
   "source": []
  }
 ],
 "metadata": {
  "kernelspec": {
   "display_name": "Python 3",
   "language": "python",
   "name": "python3"
  },
  "language_info": {
   "codemirror_mode": {
    "name": "ipython",
    "version": 3
   },
   "file_extension": ".py",
   "mimetype": "text/x-python",
   "name": "python",
   "nbconvert_exporter": "python",
   "pygments_lexer": "ipython3",
   "version": "3.7.3"
  }
 },
 "nbformat": 4,
 "nbformat_minor": 4
}
