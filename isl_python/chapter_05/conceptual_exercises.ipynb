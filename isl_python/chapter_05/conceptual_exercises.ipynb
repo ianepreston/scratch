{
 "cells": [
  {
   "cell_type": "markdown",
   "metadata": {},
   "source": [
    "# Conceptual"
   ]
  },
  {
   "cell_type": "markdown",
   "metadata": {},
   "source": [
    "## 1\n",
    "\n",
    "Did this one on paper. In a nutshell, user the formula for the variance of the sum of two correlated variables. Take the first derivative with respect to $\\alpha$ and set it equal to 0. Then take the second derivative and confirm that it's positive in order to prove that the first derivative is a minimum and not a maximum"
   ]
  },
  {
   "cell_type": "markdown",
   "metadata": {},
   "source": [
    "## 2\n",
    "\n",
    "We will now derive the probability of a given observation is part of a bootstrap sample. Suppose that we obtain a bootstrap sample from a set of $n$ observations.\n",
    "\n",
    "a) What is the probability that the first bootstrap observation is *not* the $j_{th}$ observation from the original sample?\n",
    "\n",
    "The probability of any observation being the first observation is $\\frac{1}{n}$. Since there are $n - 1$ observations that are not $j$, the probability is $\\frac{n - 1}{n}$\n",
    "\n",
    "b) What is the probability that the second bootstrap observation is *not* the $j_{th}$ observation from the original sample?\n",
    "\n",
    "Since bootstrapping draws with replacement every draw has the same probability for all observations, so it's still $\\frac{n - 1}{n}$ = $(1 - \\frac{1}{n})$\n",
    "\n",
    "c) Argue that the probability that the $j_{th}$ observation is *not* in the bootstrap sample is $(1 - \\frac{1}{n})^n$\n",
    "\n",
    "As described above the probability for any draw not containing the $j_{th}$ observation is $(1 - \\frac{1}{n})^n$. Since they are all independent draws, the joint probability of any number of draws is just that number multiplied by itself a number of times equal to the number of draws. So if you draw $n$ observations with replacement you get $(1 - \\frac{1}{n})^n$\n",
    "\n",
    "d) When $n = 5$, what is the probability that the $j_{th}$ observation is in the bootstrap sample?\n",
    "\n",
    "First, it's equal to 1 minus the probability that it is not in sample, so $1 - (1 - \\frac{1}{n})^n$"
   ]
  },
  {
   "cell_type": "code",
   "execution_count": 1,
   "metadata": {},
   "outputs": [],
   "source": [
    "def boot_proba(n):\n",
    "    \"\"\"Calculate the probability that observation j is not in a bootstrap sample from a dataset of size n\"\"\"\n",
    "    return 1 - ((1 - (1 / n)) ** n)"
   ]
  },
  {
   "cell_type": "code",
   "execution_count": 2,
   "metadata": {},
   "outputs": [
    {
     "data": {
      "text/plain": [
       "0.6723199999999999"
      ]
     },
     "execution_count": 2,
     "metadata": {},
     "output_type": "execute_result"
    }
   ],
   "source": [
    "boot_proba(5)"
   ]
  },
  {
   "cell_type": "markdown",
   "metadata": {},
   "source": [
    "e) When $n = 100$, what is the probability that the $j_{th}$ observation is in the bootstrap sample?"
   ]
  },
  {
   "cell_type": "code",
   "execution_count": 3,
   "metadata": {},
   "outputs": [
    {
     "data": {
      "text/plain": [
       "0.6339676587267709"
      ]
     },
     "execution_count": 3,
     "metadata": {},
     "output_type": "execute_result"
    }
   ],
   "source": [
    "boot_proba(100)"
   ]
  },
  {
   "cell_type": "markdown",
   "metadata": {},
   "source": [
    "f) When $n = 10000$, what is the probability that the $j_{th}$ observation is in the bootstrap sample?"
   ]
  },
  {
   "cell_type": "code",
   "execution_count": 4,
   "metadata": {},
   "outputs": [
    {
     "data": {
      "text/plain": [
       "0.6321389535670295"
      ]
     },
     "execution_count": 4,
     "metadata": {},
     "output_type": "execute_result"
    }
   ],
   "source": [
    "boot_proba(10_000)"
   ]
  },
  {
   "cell_type": "markdown",
   "metadata": {},
   "source": [
    "g) Create a plot that displays, for each integer value of $n$ from 1 to 100,000, the probability that the $j_{th}$ observation is in the bootstrap sample. Comment on what you observe"
   ]
  },
  {
   "cell_type": "code",
   "execution_count": 5,
   "metadata": {},
   "outputs": [],
   "source": [
    "import numpy as np\n",
    "nums = np.arange(1, 100_001, 1)\n",
    "nums_prob = np.vectorize(boot_proba)(nums)"
   ]
  },
  {
   "cell_type": "code",
   "execution_count": 6,
   "metadata": {},
   "outputs": [],
   "source": [
    "import matplotlib.pyplot as plt\n",
    "%matplotlib inline"
   ]
  },
  {
   "cell_type": "code",
   "execution_count": 7,
   "metadata": {},
   "outputs": [
    {
     "data": {
      "image/png": "[encoded data removed]",
      "text/plain": [
       "<Figure size 432x288 with 1 Axes>"
      ]
     },
     "metadata": {
      "needs_background": "light"
     },
     "output_type": "display_data"
    }
   ],
   "source": [
    "plt.plot(nums, nums_prob);"
   ]
  },
  {
   "cell_type": "code",
   "execution_count": 8,
   "metadata": {},
   "outputs": [
    {
     "data": {
      "image/png": "[encoded data removed]",
      "text/plain": [
       "<Figure size 432x288 with 1 Axes>"
      ]
     },
     "metadata": {
      "needs_background": "light"
     },
     "output_type": "display_data"
    }
   ],
   "source": [
    "plt.plot(nums[1:], nums_prob[1:]);"
   ]
  },
  {
   "cell_type": "code",
   "execution_count": 9,
   "metadata": {},
   "outputs": [
    {
     "data": {
      "image/png": "[encoded data removed]",
      "text/plain": [
       "<Figure size 432x288 with 1 Axes>"
      ]
     },
     "metadata": {
      "needs_background": "light"
     },
     "output_type": "display_data"
    }
   ],
   "source": [
    "plt.plot(nums[100:], nums_prob[100:]);"
   ]
  },
  {
   "cell_type": "markdown",
   "metadata": {},
   "source": [
    "I observe that it converges rapidly to about 0.63 as soon as $n$ gets a little larger than 1"
   ]
  },
  {
   "cell_type": "markdown",
   "metadata": {},
   "source": [
    "h) We will now investigate numerically the probability that a bootstrap sample of size $ n = 100$ contains the $j_{th}$ observation. Here $j = 4$. We repeatedly create bootstrap samples, and each time we record whether or not the fourth observation is contained in the bootstrap sample."
   ]
  },
  {
   "cell_type": "code",
   "execution_count": 10,
   "metadata": {},
   "outputs": [
    {
     "data": {
      "text/plain": [
       "0.63377"
      ]
     },
     "execution_count": 10,
     "metadata": {},
     "output_type": "execute_result"
    }
   ],
   "source": [
    "base_sample = np.arange(1, 101)\n",
    "np.mean([4 in np.random.choice(base_sample, size=len(base_sample)) for _ in range(100_000)])"
   ]
  },
  {
   "cell_type": "markdown",
   "metadata": {},
   "source": [
    "Looks pretty close to the analytic solution."
   ]
  },
  {
   "cell_type": "markdown",
   "metadata": {},
   "source": [
    "## 3\n",
    "We now review $k$-fold cross-validation.\n",
    "\n",
    "a) Explain how $k$-fold cross validation is implemented. \n",
    "\n",
    "The dataset is divided into $k$ approximately equally sized samples (folds) without replacement. The model is trained on $k - 1$ of those folds, and then a summary statistic of interest, such as mean squared error is calculated on the remaining fold. This process is repeated $k$ times such that each of the $k$ folds has the summary statistic calculated on it. You can then examine the statistical properties of those $k$ estimates to make inferences about your predictor. Such as the mean of those estimates for a population estimate, or their standard deviation to get an idea of the precision of your estimate.\n",
    "\n",
    "b) What are the advantages and disadvantages of $k-fold$ cross validation relative to:\n",
    "* The validation set approach\n",
    "* LOOCV\n",
    "\n",
    "Because you need to make $k$ estimates, $k$ fold cross validation is more computationally expensive than the validation set approach, but less than LOOCV, except in the case where $k = n$ in which case they are identical.\n",
    "With a validation set you don't get any distributional attributes of your statistic of interest, as you only produce one estimate. \n",
    "LOOCV has lower bias than $k$ fold, but also higher variance. Overall $k$ fold is preferred to LOOCV considering both tradeoffs. The validation set has the mirror image issue. It's lower variance than $k$ fold, but higher bias, and overall $k$ fold is preferred to it too, putting aside the computational advantage."
   ]
  },
  {
   "cell_type": "markdown",
   "metadata": {},
   "source": [
    "## 4\n",
    "\n",
    "Suppose that we use some statistical learning method to make a prediction for the response Y for a particular value of the predictor X. Carefully describe how we might estimate the standard deviation of our prediction.\n",
    "\n",
    "Use bootstrapping. Sample with replacement $n$ pairs of observations $(x_i, y_i)$ from your data. Train your model on that sample. Estimate the response Y for your predictor X based on that sample data.\n",
    "Repeat this a number of times, recording the estimate each time. Compute the standard deviation of your estimates."
   ]
  },
  {
   "cell_type": "code",
   "execution_count": null,
   "metadata": {},
   "outputs": [],
   "source": []
  }
 ],
 "metadata": {
  "kernelspec": {
   "display_name": "Python 3",
   "language": "python",
   "name": "python3"
  },
  "language_info": {
   "codemirror_mode": {
    "name": "ipython",
    "version": 3
   },
   "file_extension": ".py",
   "mimetype": "text/x-python",
   "name": "python",
   "nbconvert_exporter": "python",
   "pygments_lexer": "ipython3",
   "version": "3.7.3"
  }
 },
 "nbformat": 4,
 "nbformat_minor": 4
}
