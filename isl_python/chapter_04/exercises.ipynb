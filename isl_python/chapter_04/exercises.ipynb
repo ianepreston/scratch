{
 "cells": [
  {
   "cell_type": "markdown",
   "metadata": {},
   "source": [
    "# Introduction to Statistical Learning Exercises 4 - Classification\n",
    "\n",
    "This post is the fourth in a series where I work through [Intro to Statistical Learning](https://www.statlearning.com/) in python instead of R as done in the text. In this post I'll work through the exercises for chapter 4, on classification. The second edition is coming in summer 2021, but I'm working through the first edition. You can find a free PDF [here](https://www.statlearning.com/s/ISLRSeventhPrinting.pdf)."
   ]
  },
  {
   "cell_type": "code",
   "execution_count": 1,
   "metadata": {},
   "outputs": [],
   "source": [
    "import numpy as np\n",
    "import pandas as pd\n",
    "import matplotlib.pyplot as plt\n",
    "import seaborn as sns\n",
    "import statsmodels.api as sm\n",
    "import statsmodels.formula.api as smf\n",
    "from sklearn.metrics import confusion_matrix\n",
    "from sklearn.metrics import accuracy_score\n",
    "from sklearn.metrics import f1_score\n",
    "from sklearn.discriminant_analysis import LinearDiscriminantAnalysis, QuadraticDiscriminantAnalysis\n",
    "from sklearn.linear_model import LogisticRegression\n",
    "from sklearn.neighbors import KNeighborsClassifier\n",
    "from sklearn.model_selection import train_test_split\n",
    "from sklearn.pipeline import Pipeline\n",
    "from sklearn.preprocessing import StandardScaler\n",
    "from sklearn.model_selection import GridSearchCV\n",
    "from mlxtend.plotting import plot_confusion_matrix\n",
    "from IPython.display import display, Markdown\n",
    "pd.options.display.max_rows = 999\n",
    "%matplotlib inline"
   ]
  },
  {
   "cell_type": "code",
   "execution_count": 2,
   "metadata": {},
   "outputs": [],
   "source": [
    "def printm(input_str):\n",
    "    display(Markdown(input_str))"
   ]
  },
  {
   "cell_type": "markdown",
   "metadata": {},
   "source": [
    "## 10.\n",
    "\n",
    "this questions should be answered using the ```Weekly``` data set, which is part of the ```ISLR``` package. This data is similar in nature to the ```Smarket``` data from this chapter's lab, except that it contains 1,089 weekly returns for 21 years, from the beginning of 1900 to the end of 2010."
   ]
  },
  {
   "cell_type": "code",
   "execution_count": 3,
   "metadata": {},
   "outputs": [],
   "source": [
    "df = sm.datasets.get_rdataset(\"Weekly\", \"ISLR\", cache=True).data"
   ]
  },
  {
   "cell_type": "markdown",
   "metadata": {},
   "source": [
    "### a)\n",
    "Produce some numerical and graphical summaries of the ```Weekly``` data. Do there appear to be any patterns?"
   ]
  },
  {
   "cell_type": "code",
   "execution_count": 4,
   "metadata": {},
   "outputs": [
    {
     "data": {
      "text/html": [
       "<div>\n",
       "<style scoped>\n",
       "    .dataframe tbody tr th:only-of-type {\n",
       "        vertical-align: middle;\n",
       "    }\n",
       "\n",
       "    .dataframe tbody tr th {\n",
       "        vertical-align: top;\n",
       "    }\n",
       "\n",
       "    .dataframe thead th {\n",
       "        text-align: right;\n",
       "    }\n",
       "</style>\n",
       "<table border=\"1\" class=\"dataframe\">\n",
       "  <thead>\n",
       "    <tr style=\"text-align: right;\">\n",
       "      <th></th>\n",
       "      <th>Year</th>\n",
       "      <th>Lag1</th>\n",
       "      <th>Lag2</th>\n",
       "      <th>Lag3</th>\n",
       "      <th>Lag4</th>\n",
       "      <th>Lag5</th>\n",
       "      <th>Volume</th>\n",
       "      <th>Today</th>\n",
       "      <th>Direction</th>\n",
       "    </tr>\n",
       "  </thead>\n",
       "  <tbody>\n",
       "    <tr>\n",
       "      <th>0</th>\n",
       "      <td>1990</td>\n",
       "      <td>0.816</td>\n",
       "      <td>1.572</td>\n",
       "      <td>-3.936</td>\n",
       "      <td>-0.229</td>\n",
       "      <td>-3.484</td>\n",
       "      <td>0.154976</td>\n",
       "      <td>-0.270</td>\n",
       "      <td>Down</td>\n",
       "    </tr>\n",
       "    <tr>\n",
       "      <th>1</th>\n",
       "      <td>1990</td>\n",
       "      <td>-0.270</td>\n",
       "      <td>0.816</td>\n",
       "      <td>1.572</td>\n",
       "      <td>-3.936</td>\n",
       "      <td>-0.229</td>\n",
       "      <td>0.148574</td>\n",
       "      <td>-2.576</td>\n",
       "      <td>Down</td>\n",
       "    </tr>\n",
       "    <tr>\n",
       "      <th>2</th>\n",
       "      <td>1990</td>\n",
       "      <td>-2.576</td>\n",
       "      <td>-0.270</td>\n",
       "      <td>0.816</td>\n",
       "      <td>1.572</td>\n",
       "      <td>-3.936</td>\n",
       "      <td>0.159837</td>\n",
       "      <td>3.514</td>\n",
       "      <td>Up</td>\n",
       "    </tr>\n",
       "    <tr>\n",
       "      <th>3</th>\n",
       "      <td>1990</td>\n",
       "      <td>3.514</td>\n",
       "      <td>-2.576</td>\n",
       "      <td>-0.270</td>\n",
       "      <td>0.816</td>\n",
       "      <td>1.572</td>\n",
       "      <td>0.161630</td>\n",
       "      <td>0.712</td>\n",
       "      <td>Up</td>\n",
       "    </tr>\n",
       "    <tr>\n",
       "      <th>4</th>\n",
       "      <td>1990</td>\n",
       "      <td>0.712</td>\n",
       "      <td>3.514</td>\n",
       "      <td>-2.576</td>\n",
       "      <td>-0.270</td>\n",
       "      <td>0.816</td>\n",
       "      <td>0.153728</td>\n",
       "      <td>1.178</td>\n",
       "      <td>Up</td>\n",
       "    </tr>\n",
       "  </tbody>\n",
       "</table>\n",
       "</div>"
      ],
      "text/plain": [
       "   Year   Lag1   Lag2   Lag3   Lag4   Lag5    Volume  Today Direction\n",
       "0  1990  0.816  1.572 -3.936 -0.229 -3.484  0.154976 -0.270      Down\n",
       "1  1990 -0.270  0.816  1.572 -3.936 -0.229  0.148574 -2.576      Down\n",
       "2  1990 -2.576 -0.270  0.816  1.572 -3.936  0.159837  3.514        Up\n",
       "3  1990  3.514 -2.576 -0.270  0.816  1.572  0.161630  0.712        Up\n",
       "4  1990  0.712  3.514 -2.576 -0.270  0.816  0.153728  1.178        Up"
      ]
     },
     "execution_count": 4,
     "metadata": {},
     "output_type": "execute_result"
    }
   ],
   "source": [
    "df.head()"
   ]
  },
  {
   "cell_type": "code",
   "execution_count": 5,
   "metadata": {},
   "outputs": [
    {
     "data": {
      "text/html": [
       "<div>\n",
       "<style scoped>\n",
       "    .dataframe tbody tr th:only-of-type {\n",
       "        vertical-align: middle;\n",
       "    }\n",
       "\n",
       "    .dataframe tbody tr th {\n",
       "        vertical-align: top;\n",
       "    }\n",
       "\n",
       "    .dataframe thead th {\n",
       "        text-align: right;\n",
       "    }\n",
       "</style>\n",
       "<table border=\"1\" class=\"dataframe\">\n",
       "  <thead>\n",
       "    <tr style=\"text-align: right;\">\n",
       "      <th></th>\n",
       "      <th>Year</th>\n",
       "      <th>Lag1</th>\n",
       "      <th>Lag2</th>\n",
       "      <th>Lag3</th>\n",
       "      <th>Lag4</th>\n",
       "      <th>Lag5</th>\n",
       "      <th>Volume</th>\n",
       "      <th>Today</th>\n",
       "    </tr>\n",
       "  </thead>\n",
       "  <tbody>\n",
       "    <tr>\n",
       "      <th>count</th>\n",
       "      <td>1089.000000</td>\n",
       "      <td>1089.000000</td>\n",
       "      <td>1089.000000</td>\n",
       "      <td>1089.000000</td>\n",
       "      <td>1089.000000</td>\n",
       "      <td>1089.000000</td>\n",
       "      <td>1089.000000</td>\n",
       "      <td>1089.000000</td>\n",
       "    </tr>\n",
       "    <tr>\n",
       "      <th>mean</th>\n",
       "      <td>2000.048669</td>\n",
       "      <td>0.150585</td>\n",
       "      <td>0.151079</td>\n",
       "      <td>0.147205</td>\n",
       "      <td>0.145818</td>\n",
       "      <td>0.139893</td>\n",
       "      <td>1.574618</td>\n",
       "      <td>0.149899</td>\n",
       "    </tr>\n",
       "    <tr>\n",
       "      <th>std</th>\n",
       "      <td>6.033182</td>\n",
       "      <td>2.357013</td>\n",
       "      <td>2.357254</td>\n",
       "      <td>2.360502</td>\n",
       "      <td>2.360279</td>\n",
       "      <td>2.361285</td>\n",
       "      <td>1.686636</td>\n",
       "      <td>2.356927</td>\n",
       "    </tr>\n",
       "    <tr>\n",
       "      <th>min</th>\n",
       "      <td>1990.000000</td>\n",
       "      <td>-18.195000</td>\n",
       "      <td>-18.195000</td>\n",
       "      <td>-18.195000</td>\n",
       "      <td>-18.195000</td>\n",
       "      <td>-18.195000</td>\n",
       "      <td>0.087465</td>\n",
       "      <td>-18.195000</td>\n",
       "    </tr>\n",
       "    <tr>\n",
       "      <th>25%</th>\n",
       "      <td>1995.000000</td>\n",
       "      <td>-1.154000</td>\n",
       "      <td>-1.154000</td>\n",
       "      <td>-1.158000</td>\n",
       "      <td>-1.158000</td>\n",
       "      <td>-1.166000</td>\n",
       "      <td>0.332022</td>\n",
       "      <td>-1.154000</td>\n",
       "    </tr>\n",
       "    <tr>\n",
       "      <th>50%</th>\n",
       "      <td>2000.000000</td>\n",
       "      <td>0.241000</td>\n",
       "      <td>0.241000</td>\n",
       "      <td>0.241000</td>\n",
       "      <td>0.238000</td>\n",
       "      <td>0.234000</td>\n",
       "      <td>1.002680</td>\n",
       "      <td>0.241000</td>\n",
       "    </tr>\n",
       "    <tr>\n",
       "      <th>75%</th>\n",
       "      <td>2005.000000</td>\n",
       "      <td>1.405000</td>\n",
       "      <td>1.409000</td>\n",
       "      <td>1.409000</td>\n",
       "      <td>1.409000</td>\n",
       "      <td>1.405000</td>\n",
       "      <td>2.053727</td>\n",
       "      <td>1.405000</td>\n",
       "    </tr>\n",
       "    <tr>\n",
       "      <th>max</th>\n",
       "      <td>2010.000000</td>\n",
       "      <td>12.026000</td>\n",
       "      <td>12.026000</td>\n",
       "      <td>12.026000</td>\n",
       "      <td>12.026000</td>\n",
       "      <td>12.026000</td>\n",
       "      <td>9.328214</td>\n",
       "      <td>12.026000</td>\n",
       "    </tr>\n",
       "  </tbody>\n",
       "</table>\n",
       "</div>"
      ],
      "text/plain": [
       "              Year         Lag1         Lag2         Lag3         Lag4  \\\n",
       "count  1089.000000  1089.000000  1089.000000  1089.000000  1089.000000   \n",
       "mean   2000.048669     0.150585     0.151079     0.147205     0.145818   \n",
       "std       6.033182     2.357013     2.357254     2.360502     2.360279   \n",
       "min    1990.000000   -18.195000   -18.195000   -18.195000   -18.195000   \n",
       "25%    1995.000000    -1.154000    -1.154000    -1.158000    -1.158000   \n",
       "50%    2000.000000     0.241000     0.241000     0.241000     0.238000   \n",
       "75%    2005.000000     1.405000     1.409000     1.409000     1.409000   \n",
       "max    2010.000000    12.026000    12.026000    12.026000    12.026000   \n",
       "\n",
       "              Lag5       Volume        Today  \n",
       "count  1089.000000  1089.000000  1089.000000  \n",
       "mean      0.139893     1.574618     0.149899  \n",
       "std       2.361285     1.686636     2.356927  \n",
       "min     -18.195000     0.087465   -18.195000  \n",
       "25%      -1.166000     0.332022    -1.154000  \n",
       "50%       0.234000     1.002680     0.241000  \n",
       "75%       1.405000     2.053727     1.405000  \n",
       "max      12.026000     9.328214    12.026000  "
      ]
     },
     "execution_count": 5,
     "metadata": {},
     "output_type": "execute_result"
    }
   ],
   "source": [
    "df.describe()"
   ]
  },
  {
   "cell_type": "code",
   "execution_count": 6,
   "metadata": {},
   "outputs": [
    {
     "data": {
      "text/html": [
       "<div>\n",
       "<style scoped>\n",
       "    .dataframe tbody tr th:only-of-type {\n",
       "        vertical-align: middle;\n",
       "    }\n",
       "\n",
       "    .dataframe tbody tr th {\n",
       "        vertical-align: top;\n",
       "    }\n",
       "\n",
       "    .dataframe thead th {\n",
       "        text-align: right;\n",
       "    }\n",
       "</style>\n",
       "<table border=\"1\" class=\"dataframe\">\n",
       "  <thead>\n",
       "    <tr style=\"text-align: right;\">\n",
       "      <th></th>\n",
       "      <th>Year</th>\n",
       "      <th>Lag1</th>\n",
       "      <th>Lag2</th>\n",
       "      <th>Lag3</th>\n",
       "      <th>Lag4</th>\n",
       "      <th>Lag5</th>\n",
       "      <th>Volume</th>\n",
       "      <th>Today</th>\n",
       "      <th>Direction</th>\n",
       "    </tr>\n",
       "  </thead>\n",
       "  <tbody>\n",
       "  </tbody>\n",
       "</table>\n",
       "</div>"
      ],
      "text/plain": [
       "Empty DataFrame\n",
       "Columns: [Year, Lag1, Lag2, Lag3, Lag4, Lag5, Volume, Today, Direction]\n",
       "Index: []"
      ]
     },
     "execution_count": 6,
     "metadata": {},
     "output_type": "execute_result"
    }
   ],
   "source": [
    "df.loc[df[\"Today\"] == 0]"
   ]
  },
  {
   "cell_type": "code",
   "execution_count": 7,
   "metadata": {},
   "outputs": [
    {
     "data": {
      "text/html": [
       "<div>\n",
       "<style scoped>\n",
       "    .dataframe tbody tr th:only-of-type {\n",
       "        vertical-align: middle;\n",
       "    }\n",
       "\n",
       "    .dataframe tbody tr th {\n",
       "        vertical-align: top;\n",
       "    }\n",
       "\n",
       "    .dataframe thead th {\n",
       "        text-align: right;\n",
       "    }\n",
       "</style>\n",
       "<table border=\"1\" class=\"dataframe\">\n",
       "  <thead>\n",
       "    <tr style=\"text-align: right;\">\n",
       "      <th></th>\n",
       "      <th>Year</th>\n",
       "      <th>Lag1</th>\n",
       "      <th>Lag2</th>\n",
       "      <th>Lag3</th>\n",
       "      <th>Lag4</th>\n",
       "      <th>Lag5</th>\n",
       "      <th>Volume</th>\n",
       "      <th>Today</th>\n",
       "      <th>Direction</th>\n",
       "    </tr>\n",
       "  </thead>\n",
       "  <tbody>\n",
       "  </tbody>\n",
       "</table>\n",
       "</div>"
      ],
      "text/plain": [
       "Empty DataFrame\n",
       "Columns: [Year, Lag1, Lag2, Lag3, Lag4, Lag5, Volume, Today, Direction]\n",
       "Index: []"
      ]
     },
     "execution_count": 7,
     "metadata": {},
     "output_type": "execute_result"
    }
   ],
   "source": [
    "df.loc[df.isna().any(axis=1)]"
   ]
  },
  {
   "cell_type": "code",
   "execution_count": 8,
   "metadata": {},
   "outputs": [
    {
     "data": {
      "text/html": [
       "<style  type=\"text/css\" >\n",
       "#T_42ca4_row0_col0,#T_42ca4_row1_col1,#T_42ca4_row2_col2,#T_42ca4_row3_col3,#T_42ca4_row4_col4,#T_42ca4_row5_col5,#T_42ca4_row6_col6,#T_42ca4_row7_col7{\n",
       "            background-color:  #fde725;\n",
       "            color:  #000000;\n",
       "        }#T_42ca4_row0_col1,#T_42ca4_row0_col3,#T_42ca4_row0_col4,#T_42ca4_row0_col5,#T_42ca4_row0_col7{\n",
       "            background-color:  #471063;\n",
       "            color:  #f1f1f1;\n",
       "        }#T_42ca4_row0_col2,#T_42ca4_row7_col6{\n",
       "            background-color:  #471365;\n",
       "            color:  #f1f1f1;\n",
       "        }#T_42ca4_row0_col6{\n",
       "            background-color:  #9dd93b;\n",
       "            color:  #000000;\n",
       "        }#T_42ca4_row1_col0,#T_42ca4_row1_col7,#T_42ca4_row2_col0,#T_42ca4_row2_col1,#T_42ca4_row2_col3,#T_42ca4_row2_col5,#T_42ca4_row2_col6,#T_42ca4_row3_col0,#T_42ca4_row3_col4,#T_42ca4_row3_col7,#T_42ca4_row4_col0,#T_42ca4_row4_col1,#T_42ca4_row4_col3,#T_42ca4_row4_col5,#T_42ca4_row5_col0,#T_42ca4_row5_col4,#T_42ca4_row6_col2,#T_42ca4_row7_col0,#T_42ca4_row7_col1{\n",
       "            background-color:  #440154;\n",
       "            color:  #f1f1f1;\n",
       "        }#T_42ca4_row1_col2,#T_42ca4_row3_col2,#T_42ca4_row6_col1{\n",
       "            background-color:  #450457;\n",
       "            color:  #f1f1f1;\n",
       "        }#T_42ca4_row1_col3,#T_42ca4_row2_col4,#T_42ca4_row2_col7,#T_42ca4_row3_col1{\n",
       "            background-color:  #472c7a;\n",
       "            color:  #f1f1f1;\n",
       "        }#T_42ca4_row1_col4,#T_42ca4_row6_col3,#T_42ca4_row7_col3{\n",
       "            background-color:  #440256;\n",
       "            color:  #f1f1f1;\n",
       "        }#T_42ca4_row1_col5,#T_42ca4_row4_col7,#T_42ca4_row7_col4{\n",
       "            background-color:  #48186a;\n",
       "            color:  #f1f1f1;\n",
       "        }#T_42ca4_row1_col6,#T_42ca4_row6_col5{\n",
       "            background-color:  #46075a;\n",
       "            color:  #f1f1f1;\n",
       "        }#T_42ca4_row3_col5,#T_42ca4_row5_col3{\n",
       "            background-color:  #472d7b;\n",
       "            color:  #f1f1f1;\n",
       "        }#T_42ca4_row3_col6,#T_42ca4_row5_col2,#T_42ca4_row6_col4{\n",
       "            background-color:  #450559;\n",
       "            color:  #f1f1f1;\n",
       "        }#T_42ca4_row4_col2{\n",
       "            background-color:  #472e7c;\n",
       "            color:  #f1f1f1;\n",
       "        }#T_42ca4_row4_col6{\n",
       "            background-color:  #46085c;\n",
       "            color:  #f1f1f1;\n",
       "        }#T_42ca4_row5_col1{\n",
       "            background-color:  #481769;\n",
       "            color:  #f1f1f1;\n",
       "        }#T_42ca4_row5_col6{\n",
       "            background-color:  #460a5d;\n",
       "            color:  #f1f1f1;\n",
       "        }#T_42ca4_row5_col7,#T_42ca4_row7_col5{\n",
       "            background-color:  #481d6f;\n",
       "            color:  #f1f1f1;\n",
       "        }#T_42ca4_row6_col0{\n",
       "            background-color:  #98d83e;\n",
       "            color:  #000000;\n",
       "        }#T_42ca4_row6_col7{\n",
       "            background-color:  #470e61;\n",
       "            color:  #f1f1f1;\n",
       "        }#T_42ca4_row7_col2{\n",
       "            background-color:  #472f7d;\n",
       "            color:  #f1f1f1;\n",
       "        }</style><table id=\"T_42ca4_\" ><thead>    <tr>        <th class=\"blank level0\" ></th>        <th class=\"col_heading level0 col0\" >Year</th>        <th class=\"col_heading level0 col1\" >Lag1</th>        <th class=\"col_heading level0 col2\" >Lag2</th>        <th class=\"col_heading level0 col3\" >Lag3</th>        <th class=\"col_heading level0 col4\" >Lag4</th>        <th class=\"col_heading level0 col5\" >Lag5</th>        <th class=\"col_heading level0 col6\" >Volume</th>        <th class=\"col_heading level0 col7\" >Today</th>    </tr></thead><tbody>\n",
       "                <tr>\n",
       "                        <th id=\"T_42ca4_level0_row0\" class=\"row_heading level0 row0\" >Year</th>\n",
       "                        <td id=\"T_42ca4_row0_col0\" class=\"data row0 col0\" >1.000000</td>\n",
       "                        <td id=\"T_42ca4_row0_col1\" class=\"data row0 col1\" >-0.032289</td>\n",
       "                        <td id=\"T_42ca4_row0_col2\" class=\"data row0 col2\" >-0.033390</td>\n",
       "                        <td id=\"T_42ca4_row0_col3\" class=\"data row0 col3\" >-0.030006</td>\n",
       "                        <td id=\"T_42ca4_row0_col4\" class=\"data row0 col4\" >-0.031128</td>\n",
       "                        <td id=\"T_42ca4_row0_col5\" class=\"data row0 col5\" >-0.030519</td>\n",
       "                        <td id=\"T_42ca4_row0_col6\" class=\"data row0 col6\" >0.841942</td>\n",
       "                        <td id=\"T_42ca4_row0_col7\" class=\"data row0 col7\" >-0.032460</td>\n",
       "            </tr>\n",
       "            <tr>\n",
       "                        <th id=\"T_42ca4_level0_row1\" class=\"row_heading level0 row1\" >Lag1</th>\n",
       "                        <td id=\"T_42ca4_row1_col0\" class=\"data row1 col0\" >-0.032289</td>\n",
       "                        <td id=\"T_42ca4_row1_col1\" class=\"data row1 col1\" >1.000000</td>\n",
       "                        <td id=\"T_42ca4_row1_col2\" class=\"data row1 col2\" >-0.074853</td>\n",
       "                        <td id=\"T_42ca4_row1_col3\" class=\"data row1 col3\" >0.058636</td>\n",
       "                        <td id=\"T_42ca4_row1_col4\" class=\"data row1 col4\" >-0.071274</td>\n",
       "                        <td id=\"T_42ca4_row1_col5\" class=\"data row1 col5\" >-0.008183</td>\n",
       "                        <td id=\"T_42ca4_row1_col6\" class=\"data row1 col6\" >-0.064951</td>\n",
       "                        <td id=\"T_42ca4_row1_col7\" class=\"data row1 col7\" >-0.075032</td>\n",
       "            </tr>\n",
       "            <tr>\n",
       "                        <th id=\"T_42ca4_level0_row2\" class=\"row_heading level0 row2\" >Lag2</th>\n",
       "                        <td id=\"T_42ca4_row2_col0\" class=\"data row2 col0\" >-0.033390</td>\n",
       "                        <td id=\"T_42ca4_row2_col1\" class=\"data row2 col1\" >-0.074853</td>\n",
       "                        <td id=\"T_42ca4_row2_col2\" class=\"data row2 col2\" >1.000000</td>\n",
       "                        <td id=\"T_42ca4_row2_col3\" class=\"data row2 col3\" >-0.075721</td>\n",
       "                        <td id=\"T_42ca4_row2_col4\" class=\"data row2 col4\" >0.058382</td>\n",
       "                        <td id=\"T_42ca4_row2_col5\" class=\"data row2 col5\" >-0.072499</td>\n",
       "                        <td id=\"T_42ca4_row2_col6\" class=\"data row2 col6\" >-0.085513</td>\n",
       "                        <td id=\"T_42ca4_row2_col7\" class=\"data row2 col7\" >0.059167</td>\n",
       "            </tr>\n",
       "            <tr>\n",
       "                        <th id=\"T_42ca4_level0_row3\" class=\"row_heading level0 row3\" >Lag3</th>\n",
       "                        <td id=\"T_42ca4_row3_col0\" class=\"data row3 col0\" >-0.030006</td>\n",
       "                        <td id=\"T_42ca4_row3_col1\" class=\"data row3 col1\" >0.058636</td>\n",
       "                        <td id=\"T_42ca4_row3_col2\" class=\"data row3 col2\" >-0.075721</td>\n",
       "                        <td id=\"T_42ca4_row3_col3\" class=\"data row3 col3\" >1.000000</td>\n",
       "                        <td id=\"T_42ca4_row3_col4\" class=\"data row3 col4\" >-0.075396</td>\n",
       "                        <td id=\"T_42ca4_row3_col5\" class=\"data row3 col5\" >0.060657</td>\n",
       "                        <td id=\"T_42ca4_row3_col6\" class=\"data row3 col6\" >-0.069288</td>\n",
       "                        <td id=\"T_42ca4_row3_col7\" class=\"data row3 col7\" >-0.071244</td>\n",
       "            </tr>\n",
       "            <tr>\n",
       "                        <th id=\"T_42ca4_level0_row4\" class=\"row_heading level0 row4\" >Lag4</th>\n",
       "                        <td id=\"T_42ca4_row4_col0\" class=\"data row4 col0\" >-0.031128</td>\n",
       "                        <td id=\"T_42ca4_row4_col1\" class=\"data row4 col1\" >-0.071274</td>\n",
       "                        <td id=\"T_42ca4_row4_col2\" class=\"data row4 col2\" >0.058382</td>\n",
       "                        <td id=\"T_42ca4_row4_col3\" class=\"data row4 col3\" >-0.075396</td>\n",
       "                        <td id=\"T_42ca4_row4_col4\" class=\"data row4 col4\" >1.000000</td>\n",
       "                        <td id=\"T_42ca4_row4_col5\" class=\"data row4 col5\" >-0.075675</td>\n",
       "                        <td id=\"T_42ca4_row4_col6\" class=\"data row4 col6\" >-0.061075</td>\n",
       "                        <td id=\"T_42ca4_row4_col7\" class=\"data row4 col7\" >-0.007826</td>\n",
       "            </tr>\n",
       "            <tr>\n",
       "                        <th id=\"T_42ca4_level0_row5\" class=\"row_heading level0 row5\" >Lag5</th>\n",
       "                        <td id=\"T_42ca4_row5_col0\" class=\"data row5 col0\" >-0.030519</td>\n",
       "                        <td id=\"T_42ca4_row5_col1\" class=\"data row5 col1\" >-0.008183</td>\n",
       "                        <td id=\"T_42ca4_row5_col2\" class=\"data row5 col2\" >-0.072499</td>\n",
       "                        <td id=\"T_42ca4_row5_col3\" class=\"data row5 col3\" >0.060657</td>\n",
       "                        <td id=\"T_42ca4_row5_col4\" class=\"data row5 col4\" >-0.075675</td>\n",
       "                        <td id=\"T_42ca4_row5_col5\" class=\"data row5 col5\" >1.000000</td>\n",
       "                        <td id=\"T_42ca4_row5_col6\" class=\"data row5 col6\" >-0.058517</td>\n",
       "                        <td id=\"T_42ca4_row5_col7\" class=\"data row5 col7\" >0.011013</td>\n",
       "            </tr>\n",
       "            <tr>\n",
       "                        <th id=\"T_42ca4_level0_row6\" class=\"row_heading level0 row6\" >Volume</th>\n",
       "                        <td id=\"T_42ca4_row6_col0\" class=\"data row6 col0\" >0.841942</td>\n",
       "                        <td id=\"T_42ca4_row6_col1\" class=\"data row6 col1\" >-0.064951</td>\n",
       "                        <td id=\"T_42ca4_row6_col2\" class=\"data row6 col2\" >-0.085513</td>\n",
       "                        <td id=\"T_42ca4_row6_col3\" class=\"data row6 col3\" >-0.069288</td>\n",
       "                        <td id=\"T_42ca4_row6_col4\" class=\"data row6 col4\" >-0.061075</td>\n",
       "                        <td id=\"T_42ca4_row6_col5\" class=\"data row6 col5\" >-0.058517</td>\n",
       "                        <td id=\"T_42ca4_row6_col6\" class=\"data row6 col6\" >1.000000</td>\n",
       "                        <td id=\"T_42ca4_row6_col7\" class=\"data row6 col7\" >-0.033078</td>\n",
       "            </tr>\n",
       "            <tr>\n",
       "                        <th id=\"T_42ca4_level0_row7\" class=\"row_heading level0 row7\" >Today</th>\n",
       "                        <td id=\"T_42ca4_row7_col0\" class=\"data row7 col0\" >-0.032460</td>\n",
       "                        <td id=\"T_42ca4_row7_col1\" class=\"data row7 col1\" >-0.075032</td>\n",
       "                        <td id=\"T_42ca4_row7_col2\" class=\"data row7 col2\" >0.059167</td>\n",
       "                        <td id=\"T_42ca4_row7_col3\" class=\"data row7 col3\" >-0.071244</td>\n",
       "                        <td id=\"T_42ca4_row7_col4\" class=\"data row7 col4\" >-0.007826</td>\n",
       "                        <td id=\"T_42ca4_row7_col5\" class=\"data row7 col5\" >0.011013</td>\n",
       "                        <td id=\"T_42ca4_row7_col6\" class=\"data row7 col6\" >-0.033078</td>\n",
       "                        <td id=\"T_42ca4_row7_col7\" class=\"data row7 col7\" >1.000000</td>\n",
       "            </tr>\n",
       "    </tbody></table>"
      ],
      "text/plain": [
       "<pandas.io.formats.style.Styler at 0x7f6b0cd6fb80>"
      ]
     },
     "execution_count": 8,
     "metadata": {},
     "output_type": "execute_result"
    }
   ],
   "source": [
    "df.corr().style.background_gradient(cmap='viridis')"
   ]
  },
  {
   "cell_type": "code",
   "execution_count": 9,
   "metadata": {},
   "outputs": [
    {
     "data": {
      "image/png": "[encoded data removed]",
      "text/plain": [
       "<Figure size 432x288 with 1 Axes>"
      ]
     },
     "metadata": {
      "needs_background": "light"
     },
     "output_type": "display_data"
    }
   ],
   "source": [
    "df[\"Today\"].plot();"
   ]
  },
  {
   "cell_type": "code",
   "execution_count": 10,
   "metadata": {},
   "outputs": [
    {
     "data": {
      "image/png": "[encoded data removed]",
      "text/plain": [
       "<Figure size 432x288 with 1 Axes>"
      ]
     },
     "metadata": {
      "needs_background": "light"
     },
     "output_type": "display_data"
    }
   ],
   "source": [
    "df[\"Volume\"].plot();"
   ]
  },
  {
   "cell_type": "markdown",
   "metadata": {},
   "source": [
    "Pretty weak correlations, except between volume and year, which we can observe from the above plot is generally trending upward (although declining near the end there.\n",
    "\n",
    "From looking at the weekly returns plot the series is plausibly stationary. Mean definitely looks stable over time, the volatility might be increasing with time though.\n",
    "\n",
    "No missing values and the summary statistics all look good. For example, Today and the week lag of today have almost identical summary statistics, as you'd expect for series that are only off by two observations."
   ]
  },
  {
   "cell_type": "markdown",
   "metadata": {},
   "source": [
    "### b)\n",
    "\n",
    "Use the full data set to perform a logistic regression with ```Direction``` as the response and the five lag variables plus ```Volume``` as predictors. Use the summary function to print the results. Do any of the predictors appear to be statistically significant? If so, which ones?"
   ]
  },
  {
   "cell_type": "code",
   "execution_count": 11,
   "metadata": {},
   "outputs": [],
   "source": [
    "y = df[\"Direction\"] == \"Up\"\n",
    "X = df[[f\"Lag{x}\" for x in range(1, 6)]]"
   ]
  },
  {
   "cell_type": "code",
   "execution_count": 12,
   "metadata": {},
   "outputs": [
    {
     "name": "stdout",
     "output_type": "stream",
     "text": [
      "Optimization terminated successfully.\n",
      "         Current function value: 0.682615\n",
      "         Iterations 4\n",
      "                           Logit Regression Results                           \n",
      "==============================================================================\n",
      "Dep. Variable:              Direction   No. Observations:                 1089\n",
      "Model:                          Logit   Df Residuals:                     1083\n",
      "Method:                           MLE   Df Model:                            5\n",
      "Date:                Sat, 15 May 2021   Pseudo R-squ.:                0.006327\n",
      "Time:                        17:12:34   Log-Likelihood:                -743.37\n",
      "converged:                       True   LL-Null:                       -748.10\n",
      "Covariance Type:            nonrobust   LLR p-value:                   0.09186\n",
      "==============================================================================\n",
      "                 coef    std err          z      P>|z|      [0.025      0.975]\n",
      "------------------------------------------------------------------------------\n",
      "const          0.2303      0.062      3.712      0.000       0.109       0.352\n",
      "Lag1          -0.0401      0.026     -1.522      0.128      -0.092       0.012\n",
      "Lag2           0.0602      0.027      2.249      0.025       0.008       0.113\n",
      "Lag3          -0.0151      0.027     -0.566      0.571      -0.067       0.037\n",
      "Lag4          -0.0268      0.026     -1.013      0.311      -0.079       0.025\n",
      "Lag5          -0.0135      0.026     -0.512      0.609      -0.065       0.038\n",
      "==============================================================================\n"
     ]
    }
   ],
   "source": [
    "logit = sm.Logit(y, sm.add_constant(X)).fit()\n",
    "print(logit.summary())"
   ]
  },
  {
   "cell_type": "markdown",
   "metadata": {},
   "source": [
    "The intercept has a positive and statistically significant coefficient, suggesting returns are slightly more likely to be positive.\n",
    "\n",
    "Lag 2 is statistically significant and positive (only lag with a positive sign). Implying likelihood of a positive return in the current period increases the more positive returns were two weeks ago."
   ]
  },
  {
   "cell_type": "markdown",
   "metadata": {},
   "source": [
    "### c) \n",
    "\n",
    "Compute the confusion matrix and overall fraction of correct predictions. Explain what the confusion matrix is telling you about the types of mistakes made by logistic regression."
   ]
  },
  {
   "cell_type": "code",
   "execution_count": 13,
   "metadata": {},
   "outputs": [
    {
     "data": {
      "image/png": "[encoded data removed]",
      "text/plain": [
       "<Figure size 432x288 with 1 Axes>"
      ]
     },
     "metadata": {
      "needs_background": "light"
     },
     "output_type": "display_data"
    }
   ],
   "source": [
    "class_labels = [\"Down\", \"Up\"] # took the Up dummy column as my independent variable, so 1 = Up\n",
    "predict_prob = logit.predict(sm.add_constant(X))\n",
    "predict_class = pd.Series(data=0, index=predict_prob.index)\n",
    "predict_class.loc[predict_prob > 0.5] = 1 # question didn't specify threshold so let's assume 50%\n",
    "confusion_mat = confusion_matrix(y, predict_class)\n",
    "fig, ax = plot_confusion_matrix(conf_mat=confusion_mat, class_names=class_labels)\n",
    "plt.show()"
   ]
  },
  {
   "cell_type": "code",
   "execution_count": 14,
   "metadata": {},
   "outputs": [
    {
     "data": {
      "text/markdown": [
       "Model correctly predicted direction 56.3% of the time"
      ],
      "text/plain": [
       "<IPython.core.display.Markdown object>"
      ]
     },
     "metadata": {},
     "output_type": "display_data"
    }
   ],
   "source": [
    "accuracy = (predict_class == y).sum() / len(y)\n",
    "printm(f\"Model correctly predicted direction {accuracy:0.1%} of the time\")"
   ]
  },
  {
   "cell_type": "markdown",
   "metadata": {},
   "source": [
    "The confusion matrix shows that the model is almost exclusively predicting an Up day, regardless of the true outcome. It looks like the positive intercept coefficient is dominating all the other factors in the model. Which is fine given their weak statistical results."
   ]
  },
  {
   "cell_type": "markdown",
   "metadata": {},
   "source": [
    "### d)\n",
    "\n",
    "Now fit the logistic regression model using a training data period from 1990 to 2008, with ```Lag2``` as the only predictor. Compute the confusion matrix and the overall fraction of correct predictions for the held out data.\n"
   ]
  },
  {
   "cell_type": "code",
   "execution_count": 15,
   "metadata": {},
   "outputs": [
    {
     "name": "stdout",
     "output_type": "stream",
     "text": [
      "Optimization terminated successfully.\n",
      "         Current function value: 0.685555\n",
      "         Iterations 4\n"
     ]
    }
   ],
   "source": [
    "df_train = df.loc[df[\"Year\"] <= 2008].copy()\n",
    "df_test = df.loc[df[\"Year\"] > 2008].copy()\n",
    "y_train = df_train[\"Direction\"] == \"Up\"\n",
    "y_test = df_test[\"Direction\"] == \"Up\"\n",
    "X_train = df_train[\"Lag2\"]\n",
    "X_test = df_test[\"Lag2\"]\n",
    "logit = sm.Logit(y_train, sm.add_constant(X_train)).fit()"
   ]
  },
  {
   "cell_type": "code",
   "execution_count": 16,
   "metadata": {},
   "outputs": [
    {
     "data": {
      "image/png": "[encoded data removed]",
      "text/plain": [
       "<Figure size 432x288 with 1 Axes>"
      ]
     },
     "metadata": {
      "needs_background": "light"
     },
     "output_type": "display_data"
    }
   ],
   "source": [
    "predict_prob = logit.predict(sm.add_constant(X_test))\n",
    "predict_class = pd.Series(data=0, index=predict_prob.index)\n",
    "predict_class.loc[predict_prob > 0.5] = 1 # question didn't specify threshold so let's assume 50%\n",
    "confusion_mat = confusion_matrix(y_test, predict_class)\n",
    "fig, ax = plot_confusion_matrix(conf_mat=confusion_mat, class_names=class_labels)\n",
    "plt.show()"
   ]
  },
  {
   "cell_type": "markdown",
   "metadata": {},
   "source": [
    "### e)\n",
    "\n",
    "Repeat (d) using LDA"
   ]
  },
  {
   "cell_type": "code",
   "execution_count": 17,
   "metadata": {},
   "outputs": [
    {
     "data": {
      "image/png": "[encoded data removed]",
      "text/plain": [
       "<Figure size 432x288 with 1 Axes>"
      ]
     },
     "metadata": {
      "needs_background": "light"
     },
     "output_type": "display_data"
    }
   ],
   "source": [
    "X_train = X_train.values.reshape(-1, 1)\n",
    "X_test = X_test.values.reshape(-1, 1)\n",
    "lda = LinearDiscriminantAnalysis()\n",
    "lda.fit(X_train, y_train)\n",
    "predict_class = lda.predict(X_test)\n",
    "confusion_mat = confusion_matrix(y_test, predict_class)\n",
    "fig, ax = plot_confusion_matrix(conf_mat=confusion_mat, class_names=class_labels)\n",
    "plt.show()"
   ]
  },
  {
   "cell_type": "markdown",
   "metadata": {},
   "source": [
    "### f)\n",
    "\n",
    "Repeat (d) using QDA"
   ]
  },
  {
   "cell_type": "code",
   "execution_count": 18,
   "metadata": {},
   "outputs": [
    {
     "data": {
      "image/png": "[encoded data removed]",
      "text/plain": [
       "<Figure size 432x288 with 1 Axes>"
      ]
     },
     "metadata": {
      "needs_background": "light"
     },
     "output_type": "display_data"
    }
   ],
   "source": [
    "\n",
    "qda = QuadraticDiscriminantAnalysis()\n",
    "qda.fit(X_train, y_train)\n",
    "predict_class = qda.predict(X_test)\n",
    "confusion_mat = confusion_matrix(y_test, predict_class)\n",
    "fig, ax = plot_confusion_matrix(conf_mat=confusion_mat, class_names=class_labels)\n",
    "plt.show()"
   ]
  },
  {
   "cell_type": "markdown",
   "metadata": {},
   "source": [
    "### g)\n",
    "\n",
    "Repeat (d) using KNN with K=1"
   ]
  },
  {
   "cell_type": "code",
   "execution_count": 19,
   "metadata": {},
   "outputs": [
    {
     "data": {
      "image/png": "[encoded data removed]",
      "text/plain": [
       "<Figure size 432x288 with 1 Axes>"
      ]
     },
     "metadata": {
      "needs_background": "light"
     },
     "output_type": "display_data"
    }
   ],
   "source": [
    "knn = KNeighborsClassifier(n_neighbors=1)\n",
    "knn.fit(X_train, y_train)\n",
    "predict_class = knn.predict(X_test)\n",
    "confusion_mat = confusion_matrix(y_test, predict_class)\n",
    "fig, ax = plot_confusion_matrix(conf_mat=confusion_mat, class_names=class_labels)\n",
    "plt.show()"
   ]
  },
  {
   "cell_type": "markdown",
   "metadata": {},
   "source": [
    "### h)\n",
    "\n",
    "Which of these methods appears to provide the best results on this data?"
   ]
  },
  {
   "cell_type": "code",
   "execution_count": 20,
   "metadata": {},
   "outputs": [
    {
     "data": {
      "text/markdown": [
       "Logit accuracy: 62.5%, LDA accuracy: 62.5%, QDA accuracy: 58.7%, KNN accuracy: 50.0%"
      ],
      "text/plain": [
       "<IPython.core.display.Markdown object>"
      ]
     },
     "metadata": {},
     "output_type": "display_data"
    }
   ],
   "source": [
    "logit_pred = pd.Series(data=0, index=y_test.index)\n",
    "logit_pred.loc[logit.predict(sm.add_constant(X_test)) > 0.5] = 1 \n",
    "lda_pred = lda.predict(X_test)\n",
    "qda_pred = qda.predict(X_test)\n",
    "knn_pred = knn.predict(X_test)\n",
    "\n",
    "logit_accuracy = (logit_pred == y_test).sum() / len(y_test)\n",
    "lda_accuracy = (lda_pred == y_test).sum() / len(y_test)\n",
    "qda_accuracy = (qda_pred == y_test).sum() / len(y_test)\n",
    "knn_accuracy = (knn_pred == y_test).sum() / len(y_test)\n",
    "\n",
    "printm(f\"Logit accuracy: {logit_accuracy:0.1%}, LDA accuracy: {lda_accuracy:0.1%}, QDA accuracy: {qda_accuracy:0.1%}, KNN accuracy: {knn_accuracy:0.1%}\")"
   ]
  },
  {
   "cell_type": "markdown",
   "metadata": {},
   "source": [
    "Logit and LDA are tied, with KNN the worst. I don't really trust any of these though."
   ]
  },
  {
   "cell_type": "markdown",
   "metadata": {},
   "source": [
    "### i)\n",
    "\n",
    "Experiment with different combinations of predictors, including possible transformations and interactions for each of the methods. Report the variables, method, and associated confusion matrix that appears to provide the best results on the held out data. Note that you should also experiment with values for K in the KNN classifier"
   ]
  },
  {
   "cell_type": "markdown",
   "metadata": {},
   "source": [
    "Pass."
   ]
  },
  {
   "cell_type": "markdown",
   "metadata": {},
   "source": [
    "## 11.\n",
    "\n",
    "In this problem, you will develop a model to predict whether a given car gets high or low gas mileage based on the ```Auto``` data set."
   ]
  },
  {
   "cell_type": "markdown",
   "metadata": {},
   "source": [
    "### a)\n",
    "\n",
    "Create a binary variable, ```mpg01```, that contains a 1 if ```mpg``` contains a value above its median, and a 0 if ```mpg``` contains a value below its median."
   ]
  },
  {
   "cell_type": "code",
   "execution_count": 21,
   "metadata": {},
   "outputs": [
    {
     "data": {
      "text/html": [
       "<div>\n",
       "<style scoped>\n",
       "    .dataframe tbody tr th:only-of-type {\n",
       "        vertical-align: middle;\n",
       "    }\n",
       "\n",
       "    .dataframe tbody tr th {\n",
       "        vertical-align: top;\n",
       "    }\n",
       "\n",
       "    .dataframe thead th {\n",
       "        text-align: right;\n",
       "    }\n",
       "</style>\n",
       "<table border=\"1\" class=\"dataframe\">\n",
       "  <thead>\n",
       "    <tr style=\"text-align: right;\">\n",
       "      <th></th>\n",
       "      <th>mpg</th>\n",
       "      <th>cylinders</th>\n",
       "      <th>displacement</th>\n",
       "      <th>horsepower</th>\n",
       "      <th>weight</th>\n",
       "      <th>acceleration</th>\n",
       "      <th>year</th>\n",
       "      <th>origin</th>\n",
       "      <th>name</th>\n",
       "      <th>mpg01</th>\n",
       "    </tr>\n",
       "  </thead>\n",
       "  <tbody>\n",
       "    <tr>\n",
       "      <th>1</th>\n",
       "      <td>18.0</td>\n",
       "      <td>8</td>\n",
       "      <td>307.0</td>\n",
       "      <td>130</td>\n",
       "      <td>3504</td>\n",
       "      <td>12.0</td>\n",
       "      <td>70</td>\n",
       "      <td>1</td>\n",
       "      <td>chevrolet chevelle malibu</td>\n",
       "      <td>False</td>\n",
       "    </tr>\n",
       "    <tr>\n",
       "      <th>2</th>\n",
       "      <td>15.0</td>\n",
       "      <td>8</td>\n",
       "      <td>350.0</td>\n",
       "      <td>165</td>\n",
       "      <td>3693</td>\n",
       "      <td>11.5</td>\n",
       "      <td>70</td>\n",
       "      <td>1</td>\n",
       "      <td>buick skylark 320</td>\n",
       "      <td>False</td>\n",
       "    </tr>\n",
       "    <tr>\n",
       "      <th>3</th>\n",
       "      <td>18.0</td>\n",
       "      <td>8</td>\n",
       "      <td>318.0</td>\n",
       "      <td>150</td>\n",
       "      <td>3436</td>\n",
       "      <td>11.0</td>\n",
       "      <td>70</td>\n",
       "      <td>1</td>\n",
       "      <td>plymouth satellite</td>\n",
       "      <td>False</td>\n",
       "    </tr>\n",
       "    <tr>\n",
       "      <th>4</th>\n",
       "      <td>16.0</td>\n",
       "      <td>8</td>\n",
       "      <td>304.0</td>\n",
       "      <td>150</td>\n",
       "      <td>3433</td>\n",
       "      <td>12.0</td>\n",
       "      <td>70</td>\n",
       "      <td>1</td>\n",
       "      <td>amc rebel sst</td>\n",
       "      <td>False</td>\n",
       "    </tr>\n",
       "    <tr>\n",
       "      <th>5</th>\n",
       "      <td>17.0</td>\n",
       "      <td>8</td>\n",
       "      <td>302.0</td>\n",
       "      <td>140</td>\n",
       "      <td>3449</td>\n",
       "      <td>10.5</td>\n",
       "      <td>70</td>\n",
       "      <td>1</td>\n",
       "      <td>ford torino</td>\n",
       "      <td>False</td>\n",
       "    </tr>\n",
       "  </tbody>\n",
       "</table>\n",
       "</div>"
      ],
      "text/plain": [
       "    mpg  cylinders  displacement  horsepower  weight  acceleration  year  \\\n",
       "1  18.0          8         307.0         130    3504          12.0    70   \n",
       "2  15.0          8         350.0         165    3693          11.5    70   \n",
       "3  18.0          8         318.0         150    3436          11.0    70   \n",
       "4  16.0          8         304.0         150    3433          12.0    70   \n",
       "5  17.0          8         302.0         140    3449          10.5    70   \n",
       "\n",
       "   origin                       name  mpg01  \n",
       "1       1  chevrolet chevelle malibu  False  \n",
       "2       1          buick skylark 320  False  \n",
       "3       1         plymouth satellite  False  \n",
       "4       1              amc rebel sst  False  \n",
       "5       1                ford torino  False  "
      ]
     },
     "execution_count": 21,
     "metadata": {},
     "output_type": "execute_result"
    }
   ],
   "source": [
    "df = (\n",
    "    sm.datasets.get_rdataset(\"Auto\", \"ISLR\", cache=True)\n",
    "    .data\n",
    "    .assign(mpg01=lambda df: df[\"mpg\"] > df[\"mpg\"].median())\n",
    ")\n",
    "df.head()"
   ]
  },
  {
   "cell_type": "markdown",
   "metadata": {},
   "source": [
    "### b)\n",
    "\n",
    "Explore the data graphically in order to investigate the association between ```mpg01``` and the other features. Which of the other features seems most likely to be useful in predicting ```mpg01```? Scatterplots and boxplots are be useful tools to answer this question. Describe your findings."
   ]
  },
  {
   "cell_type": "code",
   "execution_count": 22,
   "metadata": {},
   "outputs": [
    {
     "data": {
      "image/png": "[encoded data removed]",
      "text/plain": [
       "<Figure size 432x288 with 1 Axes>"
      ]
     },
     "metadata": {
      "needs_background": "light"
     },
     "output_type": "display_data"
    }
   ],
   "source": [
    "sns.swarmplot(x=\"cylinders\", y=\"mpg\", data=df, size=3);"
   ]
  },
  {
   "cell_type": "markdown",
   "metadata": {},
   "source": [
    "Increasing cylinders decreases mpg. Looks like there's a wider distribution among 4 cylinders, with fat right tails on 6 and 8. Also worth noting that there are very few 3 and 5 cylinder vehicles, so those categories might have to be collapsed."
   ]
  },
  {
   "cell_type": "code",
   "execution_count": 23,
   "metadata": {},
   "outputs": [
    {
     "data": {
      "image/png": "[encoded data removed]",
      "text/plain": [
       "<Figure size 432x288 with 1 Axes>"
      ]
     },
     "metadata": {
      "needs_background": "light"
     },
     "output_type": "display_data"
    }
   ],
   "source": [
    "sns.scatterplot(x=\"displacement\", y=\"mpg\", data=df);"
   ]
  },
  {
   "cell_type": "code",
   "execution_count": 24,
   "metadata": {},
   "outputs": [
    {
     "data": {
      "image/png": "[encoded data removed]",
      "text/plain": [
       "<Figure size 432x288 with 1 Axes>"
      ]
     },
     "metadata": {
      "needs_background": "light"
     },
     "output_type": "display_data"
    }
   ],
   "source": [
    "sns.scatterplot(x=\"horsepower\", y=\"mpg\", data=df);"
   ]
  },
  {
   "cell_type": "markdown",
   "metadata": {},
   "source": [
    "Displacement and horsepower both have a negative and slightly nonlinear looking relationship with mpg. The relationship for both looks quite similar, which makes me wonder if displacement and horsepower are highly correlated."
   ]
  },
  {
   "cell_type": "code",
   "execution_count": 25,
   "metadata": {},
   "outputs": [
    {
     "data": {
      "image/png": "[encoded data removed]",
      "text/plain": [
       "<Figure size 432x288 with 1 Axes>"
      ]
     },
     "metadata": {
      "needs_background": "light"
     },
     "output_type": "display_data"
    }
   ],
   "source": [
    "sns.scatterplot(x=\"horsepower\", y=\"displacement\", data=df);"
   ]
  },
  {
   "cell_type": "markdown",
   "metadata": {},
   "source": [
    "Looks like they are."
   ]
  },
  {
   "cell_type": "code",
   "execution_count": 26,
   "metadata": {},
   "outputs": [
    {
     "data": {
      "image/png": "[encoded data removed]",
      "text/plain": [
       "<Figure size 432x288 with 1 Axes>"
      ]
     },
     "metadata": {
      "needs_background": "light"
     },
     "output_type": "display_data"
    }
   ],
   "source": [
    "sns.scatterplot(x=\"weight\", y=\"mpg\", data=df);"
   ]
  },
  {
   "cell_type": "markdown",
   "metadata": {},
   "source": [
    "Weight has a similar looking relationship to displacement and horsepower, although less clearly non-linear."
   ]
  },
  {
   "cell_type": "code",
   "execution_count": 27,
   "metadata": {},
   "outputs": [
    {
     "data": {
      "image/png": "[encoded data removed]",
      "text/plain": [
       "<Figure size 432x288 with 1 Axes>"
      ]
     },
     "metadata": {
      "needs_background": "light"
     },
     "output_type": "display_data"
    }
   ],
   "source": [
    "sns.scatterplot(x=\"acceleration\", y=\"mpg\", data=df);"
   ]
  },
  {
   "cell_type": "markdown",
   "metadata": {},
   "source": [
    "There's a positive association here, but it's a lot weaker than the other variables."
   ]
  },
  {
   "cell_type": "code",
   "execution_count": 28,
   "metadata": {},
   "outputs": [
    {
     "data": {
      "image/png": "[encoded data removed]",
      "text/plain": [
       "<Figure size 432x288 with 1 Axes>"
      ]
     },
     "metadata": {
      "needs_background": "light"
     },
     "output_type": "display_data"
    }
   ],
   "source": [
    "sns.swarmplot(x=\"year\", y=\"mpg\",data=df, size=3);"
   ]
  },
  {
   "cell_type": "markdown",
   "metadata": {},
   "source": [
    "mpg appears to be improving over time"
   ]
  },
  {
   "cell_type": "code",
   "execution_count": 29,
   "metadata": {},
   "outputs": [
    {
     "data": {
      "image/png": "[encoded data removed]",
      "text/plain": [
       "<Figure size 432x288 with 1 Axes>"
      ]
     },
     "metadata": {
      "needs_background": "light"
     },
     "output_type": "display_data"
    }
   ],
   "source": [
    "sns.swarmplot(x=\"origin\", y=\"mpg\", size=3, data=df);"
   ]
  },
  {
   "cell_type": "markdown",
   "metadata": {},
   "source": [
    "1 pretty clearly has a different distribution than 2 and 3, but it's less clear if 2 and 3 are distinct. 3 has the bulk of its distribution above 2, but the min and max are similar and the weights aren't obviously different. Might be worth combining. As a reminder 1 is American, 2 is European and 3 is Japanese."
   ]
  },
  {
   "cell_type": "markdown",
   "metadata": {},
   "source": [
    "### c)\n",
    "\n",
    "Split the data into a training and a test set.\n",
    "\n",
    "The question doesn't ask but I'm going to do some transformations as well."
   ]
  },
  {
   "cell_type": "code",
   "execution_count": 30,
   "metadata": {},
   "outputs": [
    {
     "data": {
      "text/plain": [
       "Index(['mpg', 'cylinders', 'displacement', 'horsepower', 'weight',\n",
       "       'acceleration', 'year', 'origin', 'name', 'mpg01'],\n",
       "      dtype='object')"
      ]
     },
     "execution_count": 30,
     "metadata": {},
     "output_type": "execute_result"
    }
   ],
   "source": [
    "df.columns"
   ]
  },
  {
   "cell_type": "code",
   "execution_count": 31,
   "metadata": {},
   "outputs": [],
   "source": [
    "y = df[\"mpg01\"].values\n",
    "X = pd.get_dummies(df[[\"cylinders\", \"displacement\", \"horsepower\", \"weight\", \"acceleration\", \"year\", \"origin\"]], columns=[\"origin\"], drop_first=True)"
   ]
  },
  {
   "cell_type": "code",
   "execution_count": 32,
   "metadata": {},
   "outputs": [],
   "source": [
    "X_train, X_test, y_train, y_test = train_test_split(X, y, test_size=.2, random_state=42)"
   ]
  },
  {
   "cell_type": "markdown",
   "metadata": {},
   "source": [
    "### d)\n",
    "\n",
    "Perform LDA on the training data in order to predict ```mpg01``` using the variables that seemed most associated with ```mpg01``` in (b). What is the test error of the model obtained?"
   ]
  },
  {
   "cell_type": "code",
   "execution_count": 33,
   "metadata": {},
   "outputs": [],
   "source": [
    "subset = [\"cylinders\", \"displacement\", \"weight\", \"year\", \"origin_2\", \"origin_3\"]"
   ]
  },
  {
   "cell_type": "code",
   "execution_count": 34,
   "metadata": {},
   "outputs": [
    {
     "data": {
      "text/markdown": [
       "accuracy: 0.8734177"
      ],
      "text/plain": [
       "<IPython.core.display.Markdown object>"
      ]
     },
     "metadata": {},
     "output_type": "display_data"
    },
    {
     "data": {
      "text/markdown": [
       "f1: 0.8809524"
      ],
      "text/plain": [
       "<IPython.core.display.Markdown object>"
      ]
     },
     "metadata": {},
     "output_type": "display_data"
    }
   ],
   "source": [
    "lda = LinearDiscriminantAnalysis()\n",
    "lda.fit(X_train[subset], y_train)\n",
    "y_pred = lda.predict(X_test[subset])\n",
    "accuracy = accuracy_score(y_pred, y_test)\n",
    "f1 = f1_score(y_pred, y_test)\n",
    "printm(f\"accuracy: {accuracy:0.7}\")\n",
    "printm(f\"f1: {f1:0.7}\")"
   ]
  },
  {
   "cell_type": "markdown",
   "metadata": {},
   "source": [
    "### e)\n",
    "\n",
    "Perform QDA on the training data in order to predict ```mpg01``` using the variables that seemed most associated with ```mpg01``` in (b). What is the test error of the model obtained?"
   ]
  },
  {
   "cell_type": "code",
   "execution_count": 35,
   "metadata": {},
   "outputs": [
    {
     "data": {
      "text/markdown": [
       "accuracy: 0.8734177"
      ],
      "text/plain": [
       "<IPython.core.display.Markdown object>"
      ]
     },
     "metadata": {},
     "output_type": "display_data"
    },
    {
     "data": {
      "text/markdown": [
       "f1: 0.8780488"
      ],
      "text/plain": [
       "<IPython.core.display.Markdown object>"
      ]
     },
     "metadata": {},
     "output_type": "display_data"
    }
   ],
   "source": [
    "qda = QuadraticDiscriminantAnalysis()\n",
    "qda.fit(X_train[subset], y_train)\n",
    "y_pred = qda.predict(X_test[subset])\n",
    "accuracy = accuracy_score(y_pred, y_test)\n",
    "f1 = f1_score(y_pred, y_test)\n",
    "printm(f\"accuracy: {accuracy:0.7}\")\n",
    "printm(f\"f1: {f1:0.7}\")"
   ]
  },
  {
   "cell_type": "markdown",
   "metadata": {},
   "source": [
    "### f)\n",
    "\n",
    "Perform Logistic regression on the training data in order to predict ```mpg01``` using the variables that seemed most associated with ```mpg01``` in (b). What is the test error of the model obtained?"
   ]
  },
  {
   "cell_type": "code",
   "execution_count": 36,
   "metadata": {},
   "outputs": [
    {
     "data": {
      "text/markdown": [
       "accuracy: 0.8987342"
      ],
      "text/plain": [
       "<IPython.core.display.Markdown object>"
      ]
     },
     "metadata": {},
     "output_type": "display_data"
    },
    {
     "data": {
      "text/markdown": [
       "f1: 0.9"
      ],
      "text/plain": [
       "<IPython.core.display.Markdown object>"
      ]
     },
     "metadata": {},
     "output_type": "display_data"
    }
   ],
   "source": [
    "logit = LogisticRegression(fit_intercept=True, penalty=\"none\", solver=\"lbfgs\", max_iter=500)\n",
    "logit.fit(X_train[subset], y_train)\n",
    "y_pred = logit.predict(X_test[subset])\n",
    "accuracy = accuracy_score(y_pred, y_test)\n",
    "f1 = f1_score(y_pred, y_test)\n",
    "printm(f\"accuracy: {accuracy:0.7}\")\n",
    "printm(f\"f1: {f1:0.7}\")"
   ]
  },
  {
   "cell_type": "markdown",
   "metadata": {},
   "source": [
    "### g)\n",
    "\n",
    "Perform KNN on the training data, with several values of K, in order to predict ```mpg01```. Use only the variables that seemed most associated with ```mpg01``` in (b). What test errors do you obtain? Which value of K seems to perform the best on this data set?"
   ]
  },
  {
   "cell_type": "code",
   "execution_count": 37,
   "metadata": {},
   "outputs": [
    {
     "name": "stdout",
     "output_type": "stream",
     "text": [
      "Best parameter (CV score=0.888):\n",
      "{'n_neighbors': 3}\n"
     ]
    },
    {
     "data": {
      "text/markdown": [
       "accuracy: 0.9240506"
      ],
      "text/plain": [
       "<IPython.core.display.Markdown object>"
      ]
     },
     "metadata": {},
     "output_type": "display_data"
    },
    {
     "data": {
      "text/markdown": [
       "f1: 0.925"
      ],
      "text/plain": [
       "<IPython.core.display.Markdown object>"
      ]
     },
     "metadata": {},
     "output_type": "display_data"
    }
   ],
   "source": [
    "knn = KNeighborsClassifier()\n",
    "param_grid = {'n_neighbors': list(range(1,7))}\n",
    "search = GridSearchCV(knn, param_grid, cv=5)\n",
    "search.fit(X_train, y_train)\n",
    "print(\"Best parameter (CV score=%0.3f):\" % search.best_score_)\n",
    "print(search.best_params_)\n",
    "y_pred = search.predict(X_test)\n",
    "accuracy = accuracy_score(y_pred, y_test)\n",
    "f1 = f1_score(y_pred, y_test)\n",
    "printm(f\"accuracy: {accuracy:0.7}\")\n",
    "printm(f\"f1: {f1:0.7}\")"
   ]
  },
  {
   "cell_type": "markdown",
   "metadata": {},
   "source": [
    "## 12.\n",
    "\n",
    "This problem involves writing functions.\n",
    "\n",
    "a) Write a function, ```Power()```, that prints out the result of raising 2 to the 3rd power.\n",
    "b) Create a new function ```Power2()```, that allows you to pass *any* two numbers ```x``` and ```a```, and prints out the value ```x^a```.\n",
    "c) Using the ```Power2``` funcion you just wrote compute $10^3$, $8^{17}$, and $131^3$.\n",
    "d) Now create a new function, ```Power3()```, that actually returns the result ```x^a``` as a ```python``` object.\n",
    "e) Now using the ```Power3``` function, create a plot of $f(x)=x^2$. The *x*-axis should display a range of integers from 1 to 10, and the *y*-axis should display $x^2$. Label the axes appropriately, and use an appropriate title for the figure. Consider displaying either the *x*-axis, the *y*-axis, or both on the log-scale.\n",
    "f) Create a function, ```PlotPower``` that allows you to create a plot of ```x``` against ```x^a``` for a fixed ```a``` and for a range of values of ```x```."
   ]
  },
  {
   "cell_type": "code",
   "execution_count": 38,
   "metadata": {},
   "outputs": [],
   "source": [
    "def power3(x, a):\n",
    "    return x**a\n",
    "\n",
    "def power2(x, a):\n",
    "    print(f\"{power3(x, a):0,}\")\n",
    "\n",
    "def power():\n",
    "    power2(2, 3)          "
   ]
  },
  {
   "cell_type": "code",
   "execution_count": 39,
   "metadata": {},
   "outputs": [
    {
     "name": "stdout",
     "output_type": "stream",
     "text": [
      "8\n"
     ]
    }
   ],
   "source": [
    "power()"
   ]
  },
  {
   "cell_type": "code",
   "execution_count": 40,
   "metadata": {},
   "outputs": [
    {
     "name": "stdout",
     "output_type": "stream",
     "text": [
      "1,000\n",
      "2,251,799,813,685,248\n",
      "2,248,091\n"
     ]
    }
   ],
   "source": [
    "for x, a in [(10, 3), (8, 17), (131, 3)]:\n",
    "    power2(x, a)"
   ]
  },
  {
   "cell_type": "code",
   "execution_count": 41,
   "metadata": {},
   "outputs": [
    {
     "data": {
      "image/png": "[encoded data removed]",
      "text/plain": [
       "<Figure size 432x288 with 1 Axes>"
      ]
     },
     "metadata": {
      "needs_background": "light"
     },
     "output_type": "display_data"
    }
   ],
   "source": [
    "def plot_power(x_min=1, x_max=10, a=2):\n",
    "    x = np.arange(x_min, x_max + 1, 1)\n",
    "    y = power3(x, a)\n",
    "    plt.plot(x, y)\n",
    "    plt.title(f\"f(x) = x^{a}\")\n",
    "    plt.xlabel(\"x\")\n",
    "    plt.ylabel(f\"x^{a}\")\n",
    "    plt.show()\n",
    "    \n",
    "plot_power()"
   ]
  },
  {
   "cell_type": "markdown",
   "metadata": {},
   "source": [
    "## 13.\n",
    "\n",
    "Using the ```Boston``` data set, fit classification models in order to predict whether a given suburb has a crime rate above or below the median. Explore logistic regression, LDA,and KNN models using various subsets of the predictors. Describe your findings."
   ]
  },
  {
   "cell_type": "code",
   "execution_count": 42,
   "metadata": {},
   "outputs": [],
   "source": [
    "df = sm.datasets.get_rdataset(\"Boston\", \"MASS\", cache=True).data"
   ]
  },
  {
   "cell_type": "code",
   "execution_count": 43,
   "metadata": {},
   "outputs": [
    {
     "data": {
      "text/html": [
       "<div>\n",
       "<style scoped>\n",
       "    .dataframe tbody tr th:only-of-type {\n",
       "        vertical-align: middle;\n",
       "    }\n",
       "\n",
       "    .dataframe tbody tr th {\n",
       "        vertical-align: top;\n",
       "    }\n",
       "\n",
       "    .dataframe thead th {\n",
       "        text-align: right;\n",
       "    }\n",
       "</style>\n",
       "<table border=\"1\" class=\"dataframe\">\n",
       "  <thead>\n",
       "    <tr style=\"text-align: right;\">\n",
       "      <th></th>\n",
       "      <th>crim</th>\n",
       "      <th>zn</th>\n",
       "      <th>indus</th>\n",
       "      <th>chas</th>\n",
       "      <th>nox</th>\n",
       "      <th>rm</th>\n",
       "      <th>age</th>\n",
       "      <th>dis</th>\n",
       "      <th>rad</th>\n",
       "      <th>tax</th>\n",
       "      <th>ptratio</th>\n",
       "      <th>black</th>\n",
       "      <th>lstat</th>\n",
       "      <th>medv</th>\n",
       "    </tr>\n",
       "  </thead>\n",
       "  <tbody>\n",
       "    <tr>\n",
       "      <th>0</th>\n",
       "      <td>0.00632</td>\n",
       "      <td>18.0</td>\n",
       "      <td>2.31</td>\n",
       "      <td>0</td>\n",
       "      <td>0.538</td>\n",
       "      <td>6.575</td>\n",
       "      <td>65.2</td>\n",
       "      <td>4.0900</td>\n",
       "      <td>1</td>\n",
       "      <td>296</td>\n",
       "      <td>15.3</td>\n",
       "      <td>396.90</td>\n",
       "      <td>4.98</td>\n",
       "      <td>24.0</td>\n",
       "    </tr>\n",
       "    <tr>\n",
       "      <th>1</th>\n",
       "      <td>0.02731</td>\n",
       "      <td>0.0</td>\n",
       "      <td>7.07</td>\n",
       "      <td>0</td>\n",
       "      <td>0.469</td>\n",
       "      <td>6.421</td>\n",
       "      <td>78.9</td>\n",
       "      <td>4.9671</td>\n",
       "      <td>2</td>\n",
       "      <td>242</td>\n",
       "      <td>17.8</td>\n",
       "      <td>396.90</td>\n",
       "      <td>9.14</td>\n",
       "      <td>21.6</td>\n",
       "    </tr>\n",
       "    <tr>\n",
       "      <th>2</th>\n",
       "      <td>0.02729</td>\n",
       "      <td>0.0</td>\n",
       "      <td>7.07</td>\n",
       "      <td>0</td>\n",
       "      <td>0.469</td>\n",
       "      <td>7.185</td>\n",
       "      <td>61.1</td>\n",
       "      <td>4.9671</td>\n",
       "      <td>2</td>\n",
       "      <td>242</td>\n",
       "      <td>17.8</td>\n",
       "      <td>392.83</td>\n",
       "      <td>4.03</td>\n",
       "      <td>34.7</td>\n",
       "    </tr>\n",
       "    <tr>\n",
       "      <th>3</th>\n",
       "      <td>0.03237</td>\n",
       "      <td>0.0</td>\n",
       "      <td>2.18</td>\n",
       "      <td>0</td>\n",
       "      <td>0.458</td>\n",
       "      <td>6.998</td>\n",
       "      <td>45.8</td>\n",
       "      <td>6.0622</td>\n",
       "      <td>3</td>\n",
       "      <td>222</td>\n",
       "      <td>18.7</td>\n",
       "      <td>394.63</td>\n",
       "      <td>2.94</td>\n",
       "      <td>33.4</td>\n",
       "    </tr>\n",
       "    <tr>\n",
       "      <th>4</th>\n",
       "      <td>0.06905</td>\n",
       "      <td>0.0</td>\n",
       "      <td>2.18</td>\n",
       "      <td>0</td>\n",
       "      <td>0.458</td>\n",
       "      <td>7.147</td>\n",
       "      <td>54.2</td>\n",
       "      <td>6.0622</td>\n",
       "      <td>3</td>\n",
       "      <td>222</td>\n",
       "      <td>18.7</td>\n",
       "      <td>396.90</td>\n",
       "      <td>5.33</td>\n",
       "      <td>36.2</td>\n",
       "    </tr>\n",
       "  </tbody>\n",
       "</table>\n",
       "</div>"
      ],
      "text/plain": [
       "      crim    zn  indus  chas    nox     rm   age     dis  rad  tax  ptratio  \\\n",
       "0  0.00632  18.0   2.31     0  0.538  6.575  65.2  4.0900    1  296     15.3   \n",
       "1  0.02731   0.0   7.07     0  0.469  6.421  78.9  4.9671    2  242     17.8   \n",
       "2  0.02729   0.0   7.07     0  0.469  7.185  61.1  4.9671    2  242     17.8   \n",
       "3  0.03237   0.0   2.18     0  0.458  6.998  45.8  6.0622    3  222     18.7   \n",
       "4  0.06905   0.0   2.18     0  0.458  7.147  54.2  6.0622    3  222     18.7   \n",
       "\n",
       "    black  lstat  medv  \n",
       "0  396.90   4.98  24.0  \n",
       "1  396.90   9.14  21.6  \n",
       "2  392.83   4.03  34.7  \n",
       "3  394.63   2.94  33.4  \n",
       "4  396.90   5.33  36.2  "
      ]
     },
     "execution_count": 43,
     "metadata": {},
     "output_type": "execute_result"
    }
   ],
   "source": [
    "df.head()"
   ]
  },
  {
   "cell_type": "markdown",
   "metadata": {},
   "source": [
    "* CRIM - per capita crime rate by town\n",
    "* ZN - proportion of residential land zoned for lots over 25,000 sq ft\n",
    "* INDUS - proportion of non-retail business acres per town\n",
    "* CHAS - charles river dummy variable (1 if tract bounds river; 0 otherwise)\n",
    "* NOX - nitric oxides concentration (parts per 10 million)\n",
    "* RM - average number of rooms per dwelling\n",
    "* AGE - proportion of owner-occupied units built prior to 1940\n",
    "* DIS - weighted distances to five Boston employment centres\n",
    "* RAD - index of accessibility to radial highways\n",
    "* TAX - full-value property-tax rate per \\$10,000\n",
    "* PTRATIO - pupil-teacher ratio by town\n",
    "* BLACK - 1000(Bk - 0.63)^2 where Bk is the proportion of blacks by town\n",
    "* LSTAT - % lower status of the population\n",
    "* MEDV - Median value of owner-occupied homes in $1000's"
   ]
  },
  {
   "cell_type": "code",
   "execution_count": 44,
   "metadata": {},
   "outputs": [
    {
     "data": {
      "text/html": [
       "<div>\n",
       "<style scoped>\n",
       "    .dataframe tbody tr th:only-of-type {\n",
       "        vertical-align: middle;\n",
       "    }\n",
       "\n",
       "    .dataframe tbody tr th {\n",
       "        vertical-align: top;\n",
       "    }\n",
       "\n",
       "    .dataframe thead th {\n",
       "        text-align: right;\n",
       "    }\n",
       "</style>\n",
       "<table border=\"1\" class=\"dataframe\">\n",
       "  <thead>\n",
       "    <tr style=\"text-align: right;\">\n",
       "      <th></th>\n",
       "      <th>crim</th>\n",
       "      <th>zn</th>\n",
       "      <th>indus</th>\n",
       "      <th>chas</th>\n",
       "      <th>nox</th>\n",
       "      <th>rm</th>\n",
       "      <th>age</th>\n",
       "      <th>dis</th>\n",
       "      <th>rad</th>\n",
       "      <th>tax</th>\n",
       "      <th>ptratio</th>\n",
       "      <th>black</th>\n",
       "      <th>lstat</th>\n",
       "      <th>medv</th>\n",
       "    </tr>\n",
       "  </thead>\n",
       "  <tbody>\n",
       "    <tr>\n",
       "      <th>count</th>\n",
       "      <td>506.000000</td>\n",
       "      <td>506.000000</td>\n",
       "      <td>506.000000</td>\n",
       "      <td>506.000000</td>\n",
       "      <td>506.000000</td>\n",
       "      <td>506.000000</td>\n",
       "      <td>506.000000</td>\n",
       "      <td>506.000000</td>\n",
       "      <td>506.000000</td>\n",
       "      <td>506.000000</td>\n",
       "      <td>506.000000</td>\n",
       "      <td>506.000000</td>\n",
       "      <td>506.000000</td>\n",
       "      <td>506.000000</td>\n",
       "    </tr>\n",
       "    <tr>\n",
       "      <th>mean</th>\n",
       "      <td>3.613524</td>\n",
       "      <td>11.363636</td>\n",
       "      <td>11.136779</td>\n",
       "      <td>0.069170</td>\n",
       "      <td>0.554695</td>\n",
       "      <td>6.284634</td>\n",
       "      <td>68.574901</td>\n",
       "      <td>3.795043</td>\n",
       "      <td>9.549407</td>\n",
       "      <td>408.237154</td>\n",
       "      <td>18.455534</td>\n",
       "      <td>356.674032</td>\n",
       "      <td>12.653063</td>\n",
       "      <td>22.532806</td>\n",
       "    </tr>\n",
       "    <tr>\n",
       "      <th>std</th>\n",
       "      <td>8.601545</td>\n",
       "      <td>23.322453</td>\n",
       "      <td>6.860353</td>\n",
       "      <td>0.253994</td>\n",
       "      <td>0.115878</td>\n",
       "      <td>0.702617</td>\n",
       "      <td>28.148861</td>\n",
       "      <td>2.105710</td>\n",
       "      <td>8.707259</td>\n",
       "      <td>168.537116</td>\n",
       "      <td>2.164946</td>\n",
       "      <td>91.294864</td>\n",
       "      <td>7.141062</td>\n",
       "      <td>9.197104</td>\n",
       "    </tr>\n",
       "    <tr>\n",
       "      <th>min</th>\n",
       "      <td>0.006320</td>\n",
       "      <td>0.000000</td>\n",
       "      <td>0.460000</td>\n",
       "      <td>0.000000</td>\n",
       "      <td>0.385000</td>\n",
       "      <td>3.561000</td>\n",
       "      <td>2.900000</td>\n",
       "      <td>1.129600</td>\n",
       "      <td>1.000000</td>\n",
       "      <td>187.000000</td>\n",
       "      <td>12.600000</td>\n",
       "      <td>0.320000</td>\n",
       "      <td>1.730000</td>\n",
       "      <td>5.000000</td>\n",
       "    </tr>\n",
       "    <tr>\n",
       "      <th>25%</th>\n",
       "      <td>0.082045</td>\n",
       "      <td>0.000000</td>\n",
       "      <td>5.190000</td>\n",
       "      <td>0.000000</td>\n",
       "      <td>0.449000</td>\n",
       "      <td>5.885500</td>\n",
       "      <td>45.025000</td>\n",
       "      <td>2.100175</td>\n",
       "      <td>4.000000</td>\n",
       "      <td>279.000000</td>\n",
       "      <td>17.400000</td>\n",
       "      <td>375.377500</td>\n",
       "      <td>6.950000</td>\n",
       "      <td>17.025000</td>\n",
       "    </tr>\n",
       "    <tr>\n",
       "      <th>50%</th>\n",
       "      <td>0.256510</td>\n",
       "      <td>0.000000</td>\n",
       "      <td>9.690000</td>\n",
       "      <td>0.000000</td>\n",
       "      <td>0.538000</td>\n",
       "      <td>6.208500</td>\n",
       "      <td>77.500000</td>\n",
       "      <td>3.207450</td>\n",
       "      <td>5.000000</td>\n",
       "      <td>330.000000</td>\n",
       "      <td>19.050000</td>\n",
       "      <td>391.440000</td>\n",
       "      <td>11.360000</td>\n",
       "      <td>21.200000</td>\n",
       "    </tr>\n",
       "    <tr>\n",
       "      <th>75%</th>\n",
       "      <td>3.677083</td>\n",
       "      <td>12.500000</td>\n",
       "      <td>18.100000</td>\n",
       "      <td>0.000000</td>\n",
       "      <td>0.624000</td>\n",
       "      <td>6.623500</td>\n",
       "      <td>94.075000</td>\n",
       "      <td>5.188425</td>\n",
       "      <td>24.000000</td>\n",
       "      <td>666.000000</td>\n",
       "      <td>20.200000</td>\n",
       "      <td>396.225000</td>\n",
       "      <td>16.955000</td>\n",
       "      <td>25.000000</td>\n",
       "    </tr>\n",
       "    <tr>\n",
       "      <th>max</th>\n",
       "      <td>88.976200</td>\n",
       "      <td>100.000000</td>\n",
       "      <td>27.740000</td>\n",
       "      <td>1.000000</td>\n",
       "      <td>0.871000</td>\n",
       "      <td>8.780000</td>\n",
       "      <td>100.000000</td>\n",
       "      <td>12.126500</td>\n",
       "      <td>24.000000</td>\n",
       "      <td>711.000000</td>\n",
       "      <td>22.000000</td>\n",
       "      <td>396.900000</td>\n",
       "      <td>37.970000</td>\n",
       "      <td>50.000000</td>\n",
       "    </tr>\n",
       "  </tbody>\n",
       "</table>\n",
       "</div>"
      ],
      "text/plain": [
       "             crim          zn       indus        chas         nox          rm  \\\n",
       "count  506.000000  506.000000  506.000000  506.000000  506.000000  506.000000   \n",
       "mean     3.613524   11.363636   11.136779    0.069170    0.554695    6.284634   \n",
       "std      8.601545   23.322453    6.860353    0.253994    0.115878    0.702617   \n",
       "min      0.006320    0.000000    0.460000    0.000000    0.385000    3.561000   \n",
       "25%      0.082045    0.000000    5.190000    0.000000    0.449000    5.885500   \n",
       "50%      0.256510    0.000000    9.690000    0.000000    0.538000    6.208500   \n",
       "75%      3.677083   12.500000   18.100000    0.000000    0.624000    6.623500   \n",
       "max     88.976200  100.000000   27.740000    1.000000    0.871000    8.780000   \n",
       "\n",
       "              age         dis         rad         tax     ptratio       black  \\\n",
       "count  506.000000  506.000000  506.000000  506.000000  506.000000  506.000000   \n",
       "mean    68.574901    3.795043    9.549407  408.237154   18.455534  356.674032   \n",
       "std     28.148861    2.105710    8.707259  168.537116    2.164946   91.294864   \n",
       "min      2.900000    1.129600    1.000000  187.000000   12.600000    0.320000   \n",
       "25%     45.025000    2.100175    4.000000  279.000000   17.400000  375.377500   \n",
       "50%     77.500000    3.207450    5.000000  330.000000   19.050000  391.440000   \n",
       "75%     94.075000    5.188425   24.000000  666.000000   20.200000  396.225000   \n",
       "max    100.000000   12.126500   24.000000  711.000000   22.000000  396.900000   \n",
       "\n",
       "            lstat        medv  \n",
       "count  506.000000  506.000000  \n",
       "mean    12.653063   22.532806  \n",
       "std      7.141062    9.197104  \n",
       "min      1.730000    5.000000  \n",
       "25%      6.950000   17.025000  \n",
       "50%     11.360000   21.200000  \n",
       "75%     16.955000   25.000000  \n",
       "max     37.970000   50.000000  "
      ]
     },
     "execution_count": 44,
     "metadata": {},
     "output_type": "execute_result"
    }
   ],
   "source": [
    "df.describe()"
   ]
  },
  {
   "cell_type": "code",
   "execution_count": 45,
   "metadata": {},
   "outputs": [],
   "source": [
    "y = df[\"crim\"] > df[\"crim\"].median()\n",
    "X = df.drop(columns=[\"crim\"])"
   ]
  },
  {
   "cell_type": "code",
   "execution_count": 46,
   "metadata": {},
   "outputs": [
    {
     "data": {
      "text/html": [
       "<style  type=\"text/css\" >\n",
       "#T_3f703_row0_col0,#T_3f703_row1_col1,#T_3f703_row2_col2,#T_3f703_row3_col3,#T_3f703_row4_col4,#T_3f703_row5_col5,#T_3f703_row6_col6,#T_3f703_row7_col7,#T_3f703_row8_col8,#T_3f703_row9_col9,#T_3f703_row10_col10,#T_3f703_row11_col11,#T_3f703_row12_col12,#T_3f703_row13_col13{\n",
       "            background-color:  #fde725;\n",
       "            color:  #000000;\n",
       "        }#T_3f703_row0_col1{\n",
       "            background-color:  #3d4e8a;\n",
       "            color:  #f1f1f1;\n",
       "        }#T_3f703_row0_col2{\n",
       "            background-color:  #31b57b;\n",
       "            color:  #000000;\n",
       "        }#T_3f703_row0_col3{\n",
       "            background-color:  #481668;\n",
       "            color:  #f1f1f1;\n",
       "        }#T_3f703_row0_col4{\n",
       "            background-color:  #38b977;\n",
       "            color:  #000000;\n",
       "        }#T_3f703_row0_col5{\n",
       "            background-color:  #3c508b;\n",
       "            color:  #f1f1f1;\n",
       "        }#T_3f703_row0_col6,#T_3f703_row1_col13{\n",
       "            background-color:  #29af7f;\n",
       "            color:  #000000;\n",
       "        }#T_3f703_row0_col7,#T_3f703_row11_col4,#T_3f703_row11_col10{\n",
       "            background-color:  #3e4989;\n",
       "            color:  #f1f1f1;\n",
       "        }#T_3f703_row0_col8{\n",
       "            background-color:  #5cc863;\n",
       "            color:  #000000;\n",
       "        }#T_3f703_row0_col9,#T_3f703_row2_col8,#T_3f703_row8_col0{\n",
       "            background-color:  #52c569;\n",
       "            color:  #000000;\n",
       "        }#T_3f703_row0_col10{\n",
       "            background-color:  #1f978b;\n",
       "            color:  #000000;\n",
       "        }#T_3f703_row0_col11,#T_3f703_row13_col9{\n",
       "            background-color:  #471063;\n",
       "            color:  #f1f1f1;\n",
       "        }#T_3f703_row0_col12{\n",
       "            background-color:  #3dbc74;\n",
       "            color:  #000000;\n",
       "        }#T_3f703_row0_col13,#T_3f703_row9_col5{\n",
       "            background-color:  #414487;\n",
       "            color:  #f1f1f1;\n",
       "        }#T_3f703_row1_col0{\n",
       "            background-color:  #472f7d;\n",
       "            color:  #f1f1f1;\n",
       "        }#T_3f703_row1_col2,#T_3f703_row1_col6,#T_3f703_row8_col3{\n",
       "            background-color:  #482576;\n",
       "            color:  #f1f1f1;\n",
       "        }#T_3f703_row1_col3{\n",
       "            background-color:  #481a6c;\n",
       "            color:  #f1f1f1;\n",
       "        }#T_3f703_row1_col4,#T_3f703_row1_col9{\n",
       "            background-color:  #46327e;\n",
       "            color:  #f1f1f1;\n",
       "        }#T_3f703_row1_col5,#T_3f703_row2_col0{\n",
       "            background-color:  #1fa187;\n",
       "            color:  #000000;\n",
       "        }#T_3f703_row1_col7,#T_3f703_row9_col4,#T_3f703_row13_col5{\n",
       "            background-color:  #81d34d;\n",
       "            color:  #000000;\n",
       "        }#T_3f703_row1_col8,#T_3f703_row5_col0{\n",
       "            background-color:  #472c7a;\n",
       "            color:  #f1f1f1;\n",
       "        }#T_3f703_row1_col10,#T_3f703_row9_col3,#T_3f703_row13_col8{\n",
       "            background-color:  #481c6e;\n",
       "            color:  #f1f1f1;\n",
       "        }#T_3f703_row1_col11{\n",
       "            background-color:  #277f8e;\n",
       "            color:  #000000;\n",
       "        }#T_3f703_row1_col12,#T_3f703_row5_col2,#T_3f703_row6_col3,#T_3f703_row10_col11{\n",
       "            background-color:  #423f85;\n",
       "            color:  #f1f1f1;\n",
       "        }#T_3f703_row2_col1,#T_3f703_row7_col3{\n",
       "            background-color:  #46085c;\n",
       "            color:  #f1f1f1;\n",
       "        }#T_3f703_row2_col3,#T_3f703_row8_col1{\n",
       "            background-color:  #443983;\n",
       "            color:  #f1f1f1;\n",
       "        }#T_3f703_row2_col4{\n",
       "            background-color:  #a5db36;\n",
       "            color:  #000000;\n",
       "        }#T_3f703_row2_col5,#T_3f703_row7_col12{\n",
       "            background-color:  #46307e;\n",
       "            color:  #f1f1f1;\n",
       "        }#T_3f703_row2_col6{\n",
       "            background-color:  #77d153;\n",
       "            color:  #000000;\n",
       "        }#T_3f703_row2_col7,#T_3f703_row4_col1,#T_3f703_row11_col8{\n",
       "            background-color:  #470d60;\n",
       "            color:  #f1f1f1;\n",
       "        }#T_3f703_row2_col9{\n",
       "            background-color:  #86d549;\n",
       "            color:  #000000;\n",
       "        }#T_3f703_row2_col10,#T_3f703_row13_col1{\n",
       "            background-color:  #21a685;\n",
       "            color:  #000000;\n",
       "        }#T_3f703_row2_col11,#T_3f703_row11_col9,#T_3f703_row12_col3{\n",
       "            background-color:  #481769;\n",
       "            color:  #f1f1f1;\n",
       "        }#T_3f703_row2_col12,#T_3f703_row6_col12,#T_3f703_row12_col6{\n",
       "            background-color:  #69cd5b;\n",
       "            color:  #000000;\n",
       "        }#T_3f703_row2_col13{\n",
       "            background-color:  #46337f;\n",
       "            color:  #f1f1f1;\n",
       "        }#T_3f703_row3_col0{\n",
       "            background-color:  #3c4f8a;\n",
       "            color:  #f1f1f1;\n",
       "        }#T_3f703_row3_col1{\n",
       "            background-color:  #31688e;\n",
       "            color:  #f1f1f1;\n",
       "        }#T_3f703_row3_col2{\n",
       "            background-color:  #25848e;\n",
       "            color:  #000000;\n",
       "        }#T_3f703_row3_col4{\n",
       "            background-color:  #228d8d;\n",
       "            color:  #000000;\n",
       "        }#T_3f703_row3_col5{\n",
       "            background-color:  #26818e;\n",
       "            color:  #000000;\n",
       "        }#T_3f703_row3_col6{\n",
       "            background-color:  #228b8d;\n",
       "            color:  #000000;\n",
       "        }#T_3f703_row3_col7{\n",
       "            background-color:  #2c728e;\n",
       "            color:  #f1f1f1;\n",
       "        }#T_3f703_row3_col8,#T_3f703_row3_col9{\n",
       "            background-color:  #31668e;\n",
       "            color:  #f1f1f1;\n",
       "        }#T_3f703_row3_col10{\n",
       "            background-color:  #3a538b;\n",
       "            color:  #f1f1f1;\n",
       "        }#T_3f703_row3_col11{\n",
       "            background-color:  #306a8e;\n",
       "            color:  #f1f1f1;\n",
       "        }#T_3f703_row3_col12{\n",
       "            background-color:  #2a768e;\n",
       "            color:  #f1f1f1;\n",
       "        }#T_3f703_row3_col13{\n",
       "            background-color:  #1f968b;\n",
       "            color:  #000000;\n",
       "        }#T_3f703_row4_col0,#T_3f703_row12_col10{\n",
       "            background-color:  #20a486;\n",
       "            color:  #000000;\n",
       "        }#T_3f703_row4_col2{\n",
       "            background-color:  #a2da37;\n",
       "            color:  #000000;\n",
       "        }#T_3f703_row4_col3,#T_3f703_row5_col3,#T_3f703_row5_col8{\n",
       "            background-color:  #424086;\n",
       "            color:  #f1f1f1;\n",
       "        }#T_3f703_row4_col5,#T_3f703_row13_col4{\n",
       "            background-color:  #424186;\n",
       "            color:  #f1f1f1;\n",
       "        }#T_3f703_row4_col6{\n",
       "            background-color:  #98d83e;\n",
       "            color:  #000000;\n",
       "        }#T_3f703_row4_col7,#T_3f703_row6_col1,#T_3f703_row7_col2,#T_3f703_row7_col4,#T_3f703_row7_col6,#T_3f703_row7_col8,#T_3f703_row7_col9,#T_3f703_row8_col11,#T_3f703_row9_col11,#T_3f703_row10_col3,#T_3f703_row11_col0,#T_3f703_row12_col5,#T_3f703_row12_col13,#T_3f703_row13_col0,#T_3f703_row13_col10,#T_3f703_row13_col12{\n",
       "            background-color:  #440154;\n",
       "            color:  #f1f1f1;\n",
       "        }#T_3f703_row4_col8{\n",
       "            background-color:  #58c765;\n",
       "            color:  #000000;\n",
       "        }#T_3f703_row4_col9{\n",
       "            background-color:  #70cf57;\n",
       "            color:  #000000;\n",
       "        }#T_3f703_row4_col10{\n",
       "            background-color:  #24878e;\n",
       "            color:  #000000;\n",
       "        }#T_3f703_row4_col11{\n",
       "            background-color:  #471164;\n",
       "            color:  #f1f1f1;\n",
       "        }#T_3f703_row4_col12,#T_3f703_row8_col2{\n",
       "            background-color:  #65cb5e;\n",
       "            color:  #000000;\n",
       "        }#T_3f703_row4_col13{\n",
       "            background-color:  #433d84;\n",
       "            color:  #f1f1f1;\n",
       "        }#T_3f703_row5_col1{\n",
       "            background-color:  #1f9f88;\n",
       "            color:  #000000;\n",
       "        }#T_3f703_row5_col4,#T_3f703_row13_col3{\n",
       "            background-color:  #39558c;\n",
       "            color:  #f1f1f1;\n",
       "        }#T_3f703_row5_col6{\n",
       "            background-color:  #365d8d;\n",
       "            color:  #f1f1f1;\n",
       "        }#T_3f703_row5_col7{\n",
       "            background-color:  #1e9d89;\n",
       "            color:  #000000;\n",
       "        }#T_3f703_row5_col9,#T_3f703_row10_col5{\n",
       "            background-color:  #453781;\n",
       "            color:  #f1f1f1;\n",
       "        }#T_3f703_row5_col10,#T_3f703_row12_col1{\n",
       "            background-color:  #482475;\n",
       "            color:  #f1f1f1;\n",
       "        }#T_3f703_row5_col11{\n",
       "            background-color:  #2a778e;\n",
       "            color:  #000000;\n",
       "        }#T_3f703_row5_col12{\n",
       "            background-color:  #481b6d;\n",
       "            color:  #f1f1f1;\n",
       "        }#T_3f703_row5_col13{\n",
       "            background-color:  #8bd646;\n",
       "            color:  #000000;\n",
       "        }#T_3f703_row6_col0{\n",
       "            background-color:  #1f988b;\n",
       "            color:  #000000;\n",
       "        }#T_3f703_row6_col2{\n",
       "            background-color:  #75d054;\n",
       "            color:  #000000;\n",
       "        }#T_3f703_row6_col4{\n",
       "            background-color:  #9bd93c;\n",
       "            color:  #000000;\n",
       "        }#T_3f703_row6_col5{\n",
       "            background-color:  #3d4d8a;\n",
       "            color:  #f1f1f1;\n",
       "        }#T_3f703_row6_col7{\n",
       "            background-color:  #450559;\n",
       "            color:  #f1f1f1;\n",
       "        }#T_3f703_row6_col8{\n",
       "            background-color:  #2ab07f;\n",
       "            color:  #000000;\n",
       "        }#T_3f703_row6_col9{\n",
       "            background-color:  #3aba76;\n",
       "            color:  #000000;\n",
       "        }#T_3f703_row6_col10,#T_3f703_row7_col5,#T_3f703_row7_col11{\n",
       "            background-color:  #20928c;\n",
       "            color:  #000000;\n",
       "        }#T_3f703_row6_col11{\n",
       "            background-color:  #472a7a;\n",
       "            color:  #f1f1f1;\n",
       "        }#T_3f703_row6_col13{\n",
       "            background-color:  #404688;\n",
       "            color:  #f1f1f1;\n",
       "        }#T_3f703_row7_col0{\n",
       "            background-color:  #440256;\n",
       "            color:  #f1f1f1;\n",
       "        }#T_3f703_row7_col1{\n",
       "            background-color:  #73d056;\n",
       "            color:  #000000;\n",
       "        }#T_3f703_row7_col10{\n",
       "            background-color:  #433e85;\n",
       "            color:  #f1f1f1;\n",
       "        }#T_3f703_row7_col13{\n",
       "            background-color:  #1fa188;\n",
       "            color:  #000000;\n",
       "        }#T_3f703_row8_col4{\n",
       "            background-color:  #6ece58;\n",
       "            color:  #000000;\n",
       "        }#T_3f703_row8_col5{\n",
       "            background-color:  #3b528b;\n",
       "            color:  #f1f1f1;\n",
       "        }#T_3f703_row8_col6{\n",
       "            background-color:  #3fbc73;\n",
       "            color:  #000000;\n",
       "        }#T_3f703_row8_col7,#T_3f703_row9_col13,#T_3f703_row12_col7{\n",
       "            background-color:  #453581;\n",
       "            color:  #f1f1f1;\n",
       "        }#T_3f703_row8_col9{\n",
       "            background-color:  #dae319;\n",
       "            color:  #000000;\n",
       "        }#T_3f703_row8_col10{\n",
       "            background-color:  #2eb37c;\n",
       "            color:  #000000;\n",
       "        }#T_3f703_row8_col12{\n",
       "            background-color:  #46c06f;\n",
       "            color:  #000000;\n",
       "        }#T_3f703_row8_col13,#T_3f703_row11_col2{\n",
       "            background-color:  #404588;\n",
       "            color:  #f1f1f1;\n",
       "        }#T_3f703_row9_col0,#T_3f703_row12_col9{\n",
       "            background-color:  #44bf70;\n",
       "            color:  #000000;\n",
       "        }#T_3f703_row9_col1{\n",
       "            background-color:  #453882;\n",
       "            color:  #f1f1f1;\n",
       "        }#T_3f703_row9_col2{\n",
       "            background-color:  #93d741;\n",
       "            color:  #000000;\n",
       "        }#T_3f703_row9_col6{\n",
       "            background-color:  #4cc26c;\n",
       "            color:  #000000;\n",
       "        }#T_3f703_row9_col7,#T_3f703_row10_col13,#T_3f703_row13_col2{\n",
       "            background-color:  #472e7c;\n",
       "            color:  #f1f1f1;\n",
       "        }#T_3f703_row9_col8{\n",
       "            background-color:  #d8e219;\n",
       "            color:  #000000;\n",
       "        }#T_3f703_row9_col10,#T_3f703_row10_col8{\n",
       "            background-color:  #2db27d;\n",
       "            color:  #000000;\n",
       "        }#T_3f703_row9_col12{\n",
       "            background-color:  #56c667;\n",
       "            color:  #000000;\n",
       "        }#T_3f703_row10_col0{\n",
       "            background-color:  #218e8d;\n",
       "            color:  #000000;\n",
       "        }#T_3f703_row10_col1{\n",
       "            background-color:  #482979;\n",
       "            color:  #f1f1f1;\n",
       "        }#T_3f703_row10_col2,#T_3f703_row10_col12{\n",
       "            background-color:  #2cb17e;\n",
       "            color:  #000000;\n",
       "        }#T_3f703_row10_col4{\n",
       "            background-color:  #1f9a8a;\n",
       "            color:  #000000;\n",
       "        }#T_3f703_row10_col6,#T_3f703_row13_col7{\n",
       "            background-color:  #1fa287;\n",
       "            color:  #000000;\n",
       "        }#T_3f703_row10_col7{\n",
       "            background-color:  #34608d;\n",
       "            color:  #f1f1f1;\n",
       "        }#T_3f703_row10_col9{\n",
       "            background-color:  #2fb47c;\n",
       "            color:  #000000;\n",
       "        }#T_3f703_row11_col1{\n",
       "            background-color:  #238a8d;\n",
       "            color:  #000000;\n",
       "        }#T_3f703_row11_col3{\n",
       "            background-color:  #463480;\n",
       "            color:  #f1f1f1;\n",
       "        }#T_3f703_row11_col5{\n",
       "            background-color:  #24868e;\n",
       "            color:  #000000;\n",
       "        }#T_3f703_row11_col6{\n",
       "            background-color:  #38588c;\n",
       "            color:  #f1f1f1;\n",
       "        }#T_3f703_row11_col7{\n",
       "            background-color:  #22a884;\n",
       "            color:  #000000;\n",
       "        }#T_3f703_row11_col12,#T_3f703_row13_col6{\n",
       "            background-color:  #3f4788;\n",
       "            color:  #f1f1f1;\n",
       "        }#T_3f703_row11_col13{\n",
       "            background-color:  #25ac82;\n",
       "            color:  #000000;\n",
       "        }#T_3f703_row12_col0{\n",
       "            background-color:  #24aa83;\n",
       "            color:  #000000;\n",
       "        }#T_3f703_row12_col2,#T_3f703_row12_col4{\n",
       "            background-color:  #67cc5c;\n",
       "            color:  #000000;\n",
       "        }#T_3f703_row12_col8{\n",
       "            background-color:  #32b67a;\n",
       "            color:  #000000;\n",
       "        }#T_3f703_row12_col11{\n",
       "            background-color:  #481467;\n",
       "            color:  #f1f1f1;\n",
       "        }#T_3f703_row13_col11{\n",
       "            background-color:  #1f998a;\n",
       "            color:  #000000;\n",
       "        }</style><table id=\"T_3f703_\" ><thead>    <tr>        <th class=\"blank level0\" ></th>        <th class=\"col_heading level0 col0\" >crim</th>        <th class=\"col_heading level0 col1\" >zn</th>        <th class=\"col_heading level0 col2\" >indus</th>        <th class=\"col_heading level0 col3\" >chas</th>        <th class=\"col_heading level0 col4\" >nox</th>        <th class=\"col_heading level0 col5\" >rm</th>        <th class=\"col_heading level0 col6\" >age</th>        <th class=\"col_heading level0 col7\" >dis</th>        <th class=\"col_heading level0 col8\" >rad</th>        <th class=\"col_heading level0 col9\" >tax</th>        <th class=\"col_heading level0 col10\" >ptratio</th>        <th class=\"col_heading level0 col11\" >black</th>        <th class=\"col_heading level0 col12\" >lstat</th>        <th class=\"col_heading level0 col13\" >medv</th>    </tr></thead><tbody>\n",
       "                <tr>\n",
       "                        <th id=\"T_3f703_level0_row0\" class=\"row_heading level0 row0\" >crim</th>\n",
       "                        <td id=\"T_3f703_row0_col0\" class=\"data row0 col0\" >1.000000</td>\n",
       "                        <td id=\"T_3f703_row0_col1\" class=\"data row0 col1\" >-0.200469</td>\n",
       "                        <td id=\"T_3f703_row0_col2\" class=\"data row0 col2\" >0.406583</td>\n",
       "                        <td id=\"T_3f703_row0_col3\" class=\"data row0 col3\" >-0.055892</td>\n",
       "                        <td id=\"T_3f703_row0_col4\" class=\"data row0 col4\" >0.420972</td>\n",
       "                        <td id=\"T_3f703_row0_col5\" class=\"data row0 col5\" >-0.219247</td>\n",
       "                        <td id=\"T_3f703_row0_col6\" class=\"data row0 col6\" >0.352734</td>\n",
       "                        <td id=\"T_3f703_row0_col7\" class=\"data row0 col7\" >-0.379670</td>\n",
       "                        <td id=\"T_3f703_row0_col8\" class=\"data row0 col8\" >0.625505</td>\n",
       "                        <td id=\"T_3f703_row0_col9\" class=\"data row0 col9\" >0.582764</td>\n",
       "                        <td id=\"T_3f703_row0_col10\" class=\"data row0 col10\" >0.289946</td>\n",
       "                        <td id=\"T_3f703_row0_col11\" class=\"data row0 col11\" >-0.385064</td>\n",
       "                        <td id=\"T_3f703_row0_col12\" class=\"data row0 col12\" >0.455621</td>\n",
       "                        <td id=\"T_3f703_row0_col13\" class=\"data row0 col13\" >-0.388305</td>\n",
       "            </tr>\n",
       "            <tr>\n",
       "                        <th id=\"T_3f703_level0_row1\" class=\"row_heading level0 row1\" >zn</th>\n",
       "                        <td id=\"T_3f703_row1_col0\" class=\"data row1 col0\" >-0.200469</td>\n",
       "                        <td id=\"T_3f703_row1_col1\" class=\"data row1 col1\" >1.000000</td>\n",
       "                        <td id=\"T_3f703_row1_col2\" class=\"data row1 col2\" >-0.533828</td>\n",
       "                        <td id=\"T_3f703_row1_col3\" class=\"data row1 col3\" >-0.042697</td>\n",
       "                        <td id=\"T_3f703_row1_col4\" class=\"data row1 col4\" >-0.516604</td>\n",
       "                        <td id=\"T_3f703_row1_col5\" class=\"data row1 col5\" >0.311991</td>\n",
       "                        <td id=\"T_3f703_row1_col6\" class=\"data row1 col6\" >-0.569537</td>\n",
       "                        <td id=\"T_3f703_row1_col7\" class=\"data row1 col7\" >0.664408</td>\n",
       "                        <td id=\"T_3f703_row1_col8\" class=\"data row1 col8\" >-0.311948</td>\n",
       "                        <td id=\"T_3f703_row1_col9\" class=\"data row1 col9\" >-0.314563</td>\n",
       "                        <td id=\"T_3f703_row1_col10\" class=\"data row1 col10\" >-0.391679</td>\n",
       "                        <td id=\"T_3f703_row1_col11\" class=\"data row1 col11\" >0.175520</td>\n",
       "                        <td id=\"T_3f703_row1_col12\" class=\"data row1 col12\" >-0.412995</td>\n",
       "                        <td id=\"T_3f703_row1_col13\" class=\"data row1 col13\" >0.360445</td>\n",
       "            </tr>\n",
       "            <tr>\n",
       "                        <th id=\"T_3f703_level0_row2\" class=\"row_heading level0 row2\" >indus</th>\n",
       "                        <td id=\"T_3f703_row2_col0\" class=\"data row2 col0\" >0.406583</td>\n",
       "                        <td id=\"T_3f703_row2_col1\" class=\"data row2 col1\" >-0.533828</td>\n",
       "                        <td id=\"T_3f703_row2_col2\" class=\"data row2 col2\" >1.000000</td>\n",
       "                        <td id=\"T_3f703_row2_col3\" class=\"data row2 col3\" >0.062938</td>\n",
       "                        <td id=\"T_3f703_row2_col4\" class=\"data row2 col4\" >0.763651</td>\n",
       "                        <td id=\"T_3f703_row2_col5\" class=\"data row2 col5\" >-0.391676</td>\n",
       "                        <td id=\"T_3f703_row2_col6\" class=\"data row2 col6\" >0.644779</td>\n",
       "                        <td id=\"T_3f703_row2_col7\" class=\"data row2 col7\" >-0.708027</td>\n",
       "                        <td id=\"T_3f703_row2_col8\" class=\"data row2 col8\" >0.595129</td>\n",
       "                        <td id=\"T_3f703_row2_col9\" class=\"data row2 col9\" >0.720760</td>\n",
       "                        <td id=\"T_3f703_row2_col10\" class=\"data row2 col10\" >0.383248</td>\n",
       "                        <td id=\"T_3f703_row2_col11\" class=\"data row2 col11\" >-0.356977</td>\n",
       "                        <td id=\"T_3f703_row2_col12\" class=\"data row2 col12\" >0.603800</td>\n",
       "                        <td id=\"T_3f703_row2_col13\" class=\"data row2 col13\" >-0.483725</td>\n",
       "            </tr>\n",
       "            <tr>\n",
       "                        <th id=\"T_3f703_level0_row3\" class=\"row_heading level0 row3\" >chas</th>\n",
       "                        <td id=\"T_3f703_row3_col0\" class=\"data row3 col0\" >-0.055892</td>\n",
       "                        <td id=\"T_3f703_row3_col1\" class=\"data row3 col1\" >-0.042697</td>\n",
       "                        <td id=\"T_3f703_row3_col2\" class=\"data row3 col2\" >0.062938</td>\n",
       "                        <td id=\"T_3f703_row3_col3\" class=\"data row3 col3\" >1.000000</td>\n",
       "                        <td id=\"T_3f703_row3_col4\" class=\"data row3 col4\" >0.091203</td>\n",
       "                        <td id=\"T_3f703_row3_col5\" class=\"data row3 col5\" >0.091251</td>\n",
       "                        <td id=\"T_3f703_row3_col6\" class=\"data row3 col6\" >0.086518</td>\n",
       "                        <td id=\"T_3f703_row3_col7\" class=\"data row3 col7\" >-0.099176</td>\n",
       "                        <td id=\"T_3f703_row3_col8\" class=\"data row3 col8\" >-0.007368</td>\n",
       "                        <td id=\"T_3f703_row3_col9\" class=\"data row3 col9\" >-0.035587</td>\n",
       "                        <td id=\"T_3f703_row3_col10\" class=\"data row3 col10\" >-0.121515</td>\n",
       "                        <td id=\"T_3f703_row3_col11\" class=\"data row3 col11\" >0.048788</td>\n",
       "                        <td id=\"T_3f703_row3_col12\" class=\"data row3 col12\" >-0.053929</td>\n",
       "                        <td id=\"T_3f703_row3_col13\" class=\"data row3 col13\" >0.175260</td>\n",
       "            </tr>\n",
       "            <tr>\n",
       "                        <th id=\"T_3f703_level0_row4\" class=\"row_heading level0 row4\" >nox</th>\n",
       "                        <td id=\"T_3f703_row4_col0\" class=\"data row4 col0\" >0.420972</td>\n",
       "                        <td id=\"T_3f703_row4_col1\" class=\"data row4 col1\" >-0.516604</td>\n",
       "                        <td id=\"T_3f703_row4_col2\" class=\"data row4 col2\" >0.763651</td>\n",
       "                        <td id=\"T_3f703_row4_col3\" class=\"data row4 col3\" >0.091203</td>\n",
       "                        <td id=\"T_3f703_row4_col4\" class=\"data row4 col4\" >1.000000</td>\n",
       "                        <td id=\"T_3f703_row4_col5\" class=\"data row4 col5\" >-0.302188</td>\n",
       "                        <td id=\"T_3f703_row4_col6\" class=\"data row4 col6\" >0.731470</td>\n",
       "                        <td id=\"T_3f703_row4_col7\" class=\"data row4 col7\" >-0.769230</td>\n",
       "                        <td id=\"T_3f703_row4_col8\" class=\"data row4 col8\" >0.611441</td>\n",
       "                        <td id=\"T_3f703_row4_col9\" class=\"data row4 col9\" >0.668023</td>\n",
       "                        <td id=\"T_3f703_row4_col10\" class=\"data row4 col10\" >0.188933</td>\n",
       "                        <td id=\"T_3f703_row4_col11\" class=\"data row4 col11\" >-0.380051</td>\n",
       "                        <td id=\"T_3f703_row4_col12\" class=\"data row4 col12\" >0.590879</td>\n",
       "                        <td id=\"T_3f703_row4_col13\" class=\"data row4 col13\" >-0.427321</td>\n",
       "            </tr>\n",
       "            <tr>\n",
       "                        <th id=\"T_3f703_level0_row5\" class=\"row_heading level0 row5\" >rm</th>\n",
       "                        <td id=\"T_3f703_row5_col0\" class=\"data row5 col0\" >-0.219247</td>\n",
       "                        <td id=\"T_3f703_row5_col1\" class=\"data row5 col1\" >0.311991</td>\n",
       "                        <td id=\"T_3f703_row5_col2\" class=\"data row5 col2\" >-0.391676</td>\n",
       "                        <td id=\"T_3f703_row5_col3\" class=\"data row5 col3\" >0.091251</td>\n",
       "                        <td id=\"T_3f703_row5_col4\" class=\"data row5 col4\" >-0.302188</td>\n",
       "                        <td id=\"T_3f703_row5_col5\" class=\"data row5 col5\" >1.000000</td>\n",
       "                        <td id=\"T_3f703_row5_col6\" class=\"data row5 col6\" >-0.240265</td>\n",
       "                        <td id=\"T_3f703_row5_col7\" class=\"data row5 col7\" >0.205246</td>\n",
       "                        <td id=\"T_3f703_row5_col8\" class=\"data row5 col8\" >-0.209847</td>\n",
       "                        <td id=\"T_3f703_row5_col9\" class=\"data row5 col9\" >-0.292048</td>\n",
       "                        <td id=\"T_3f703_row5_col10\" class=\"data row5 col10\" >-0.355501</td>\n",
       "                        <td id=\"T_3f703_row5_col11\" class=\"data row5 col11\" >0.128069</td>\n",
       "                        <td id=\"T_3f703_row5_col12\" class=\"data row5 col12\" >-0.613808</td>\n",
       "                        <td id=\"T_3f703_row5_col13\" class=\"data row5 col13\" >0.695360</td>\n",
       "            </tr>\n",
       "            <tr>\n",
       "                        <th id=\"T_3f703_level0_row6\" class=\"row_heading level0 row6\" >age</th>\n",
       "                        <td id=\"T_3f703_row6_col0\" class=\"data row6 col0\" >0.352734</td>\n",
       "                        <td id=\"T_3f703_row6_col1\" class=\"data row6 col1\" >-0.569537</td>\n",
       "                        <td id=\"T_3f703_row6_col2\" class=\"data row6 col2\" >0.644779</td>\n",
       "                        <td id=\"T_3f703_row6_col3\" class=\"data row6 col3\" >0.086518</td>\n",
       "                        <td id=\"T_3f703_row6_col4\" class=\"data row6 col4\" >0.731470</td>\n",
       "                        <td id=\"T_3f703_row6_col5\" class=\"data row6 col5\" >-0.240265</td>\n",
       "                        <td id=\"T_3f703_row6_col6\" class=\"data row6 col6\" >1.000000</td>\n",
       "                        <td id=\"T_3f703_row6_col7\" class=\"data row6 col7\" >-0.747881</td>\n",
       "                        <td id=\"T_3f703_row6_col8\" class=\"data row6 col8\" >0.456022</td>\n",
       "                        <td id=\"T_3f703_row6_col9\" class=\"data row6 col9\" >0.506456</td>\n",
       "                        <td id=\"T_3f703_row6_col10\" class=\"data row6 col10\" >0.261515</td>\n",
       "                        <td id=\"T_3f703_row6_col11\" class=\"data row6 col11\" >-0.273534</td>\n",
       "                        <td id=\"T_3f703_row6_col12\" class=\"data row6 col12\" >0.602339</td>\n",
       "                        <td id=\"T_3f703_row6_col13\" class=\"data row6 col13\" >-0.376955</td>\n",
       "            </tr>\n",
       "            <tr>\n",
       "                        <th id=\"T_3f703_level0_row7\" class=\"row_heading level0 row7\" >dis</th>\n",
       "                        <td id=\"T_3f703_row7_col0\" class=\"data row7 col0\" >-0.379670</td>\n",
       "                        <td id=\"T_3f703_row7_col1\" class=\"data row7 col1\" >0.664408</td>\n",
       "                        <td id=\"T_3f703_row7_col2\" class=\"data row7 col2\" >-0.708027</td>\n",
       "                        <td id=\"T_3f703_row7_col3\" class=\"data row7 col3\" >-0.099176</td>\n",
       "                        <td id=\"T_3f703_row7_col4\" class=\"data row7 col4\" >-0.769230</td>\n",
       "                        <td id=\"T_3f703_row7_col5\" class=\"data row7 col5\" >0.205246</td>\n",
       "                        <td id=\"T_3f703_row7_col6\" class=\"data row7 col6\" >-0.747881</td>\n",
       "                        <td id=\"T_3f703_row7_col7\" class=\"data row7 col7\" >1.000000</td>\n",
       "                        <td id=\"T_3f703_row7_col8\" class=\"data row7 col8\" >-0.494588</td>\n",
       "                        <td id=\"T_3f703_row7_col9\" class=\"data row7 col9\" >-0.534432</td>\n",
       "                        <td id=\"T_3f703_row7_col10\" class=\"data row7 col10\" >-0.232471</td>\n",
       "                        <td id=\"T_3f703_row7_col11\" class=\"data row7 col11\" >0.291512</td>\n",
       "                        <td id=\"T_3f703_row7_col12\" class=\"data row7 col12\" >-0.496996</td>\n",
       "                        <td id=\"T_3f703_row7_col13\" class=\"data row7 col13\" >0.249929</td>\n",
       "            </tr>\n",
       "            <tr>\n",
       "                        <th id=\"T_3f703_level0_row8\" class=\"row_heading level0 row8\" >rad</th>\n",
       "                        <td id=\"T_3f703_row8_col0\" class=\"data row8 col0\" >0.625505</td>\n",
       "                        <td id=\"T_3f703_row8_col1\" class=\"data row8 col1\" >-0.311948</td>\n",
       "                        <td id=\"T_3f703_row8_col2\" class=\"data row8 col2\" >0.595129</td>\n",
       "                        <td id=\"T_3f703_row8_col3\" class=\"data row8 col3\" >-0.007368</td>\n",
       "                        <td id=\"T_3f703_row8_col4\" class=\"data row8 col4\" >0.611441</td>\n",
       "                        <td id=\"T_3f703_row8_col5\" class=\"data row8 col5\" >-0.209847</td>\n",
       "                        <td id=\"T_3f703_row8_col6\" class=\"data row8 col6\" >0.456022</td>\n",
       "                        <td id=\"T_3f703_row8_col7\" class=\"data row8 col7\" >-0.494588</td>\n",
       "                        <td id=\"T_3f703_row8_col8\" class=\"data row8 col8\" >1.000000</td>\n",
       "                        <td id=\"T_3f703_row8_col9\" class=\"data row8 col9\" >0.910228</td>\n",
       "                        <td id=\"T_3f703_row8_col10\" class=\"data row8 col10\" >0.464741</td>\n",
       "                        <td id=\"T_3f703_row8_col11\" class=\"data row8 col11\" >-0.444413</td>\n",
       "                        <td id=\"T_3f703_row8_col12\" class=\"data row8 col12\" >0.488676</td>\n",
       "                        <td id=\"T_3f703_row8_col13\" class=\"data row8 col13\" >-0.381626</td>\n",
       "            </tr>\n",
       "            <tr>\n",
       "                        <th id=\"T_3f703_level0_row9\" class=\"row_heading level0 row9\" >tax</th>\n",
       "                        <td id=\"T_3f703_row9_col0\" class=\"data row9 col0\" >0.582764</td>\n",
       "                        <td id=\"T_3f703_row9_col1\" class=\"data row9 col1\" >-0.314563</td>\n",
       "                        <td id=\"T_3f703_row9_col2\" class=\"data row9 col2\" >0.720760</td>\n",
       "                        <td id=\"T_3f703_row9_col3\" class=\"data row9 col3\" >-0.035587</td>\n",
       "                        <td id=\"T_3f703_row9_col4\" class=\"data row9 col4\" >0.668023</td>\n",
       "                        <td id=\"T_3f703_row9_col5\" class=\"data row9 col5\" >-0.292048</td>\n",
       "                        <td id=\"T_3f703_row9_col6\" class=\"data row9 col6\" >0.506456</td>\n",
       "                        <td id=\"T_3f703_row9_col7\" class=\"data row9 col7\" >-0.534432</td>\n",
       "                        <td id=\"T_3f703_row9_col8\" class=\"data row9 col8\" >0.910228</td>\n",
       "                        <td id=\"T_3f703_row9_col9\" class=\"data row9 col9\" >1.000000</td>\n",
       "                        <td id=\"T_3f703_row9_col10\" class=\"data row9 col10\" >0.460853</td>\n",
       "                        <td id=\"T_3f703_row9_col11\" class=\"data row9 col11\" >-0.441808</td>\n",
       "                        <td id=\"T_3f703_row9_col12\" class=\"data row9 col12\" >0.543993</td>\n",
       "                        <td id=\"T_3f703_row9_col13\" class=\"data row9 col13\" >-0.468536</td>\n",
       "            </tr>\n",
       "            <tr>\n",
       "                        <th id=\"T_3f703_level0_row10\" class=\"row_heading level0 row10\" >ptratio</th>\n",
       "                        <td id=\"T_3f703_row10_col0\" class=\"data row10 col0\" >0.289946</td>\n",
       "                        <td id=\"T_3f703_row10_col1\" class=\"data row10 col1\" >-0.391679</td>\n",
       "                        <td id=\"T_3f703_row10_col2\" class=\"data row10 col2\" >0.383248</td>\n",
       "                        <td id=\"T_3f703_row10_col3\" class=\"data row10 col3\" >-0.121515</td>\n",
       "                        <td id=\"T_3f703_row10_col4\" class=\"data row10 col4\" >0.188933</td>\n",
       "                        <td id=\"T_3f703_row10_col5\" class=\"data row10 col5\" >-0.355501</td>\n",
       "                        <td id=\"T_3f703_row10_col6\" class=\"data row10 col6\" >0.261515</td>\n",
       "                        <td id=\"T_3f703_row10_col7\" class=\"data row10 col7\" >-0.232471</td>\n",
       "                        <td id=\"T_3f703_row10_col8\" class=\"data row10 col8\" >0.464741</td>\n",
       "                        <td id=\"T_3f703_row10_col9\" class=\"data row10 col9\" >0.460853</td>\n",
       "                        <td id=\"T_3f703_row10_col10\" class=\"data row10 col10\" >1.000000</td>\n",
       "                        <td id=\"T_3f703_row10_col11\" class=\"data row10 col11\" >-0.177383</td>\n",
       "                        <td id=\"T_3f703_row10_col12\" class=\"data row10 col12\" >0.374044</td>\n",
       "                        <td id=\"T_3f703_row10_col13\" class=\"data row10 col13\" >-0.507787</td>\n",
       "            </tr>\n",
       "            <tr>\n",
       "                        <th id=\"T_3f703_level0_row11\" class=\"row_heading level0 row11\" >black</th>\n",
       "                        <td id=\"T_3f703_row11_col0\" class=\"data row11 col0\" >-0.385064</td>\n",
       "                        <td id=\"T_3f703_row11_col1\" class=\"data row11 col1\" >0.175520</td>\n",
       "                        <td id=\"T_3f703_row11_col2\" class=\"data row11 col2\" >-0.356977</td>\n",
       "                        <td id=\"T_3f703_row11_col3\" class=\"data row11 col3\" >0.048788</td>\n",
       "                        <td id=\"T_3f703_row11_col4\" class=\"data row11 col4\" >-0.380051</td>\n",
       "                        <td id=\"T_3f703_row11_col5\" class=\"data row11 col5\" >0.128069</td>\n",
       "                        <td id=\"T_3f703_row11_col6\" class=\"data row11 col6\" >-0.273534</td>\n",
       "                        <td id=\"T_3f703_row11_col7\" class=\"data row11 col7\" >0.291512</td>\n",
       "                        <td id=\"T_3f703_row11_col8\" class=\"data row11 col8\" >-0.444413</td>\n",
       "                        <td id=\"T_3f703_row11_col9\" class=\"data row11 col9\" >-0.441808</td>\n",
       "                        <td id=\"T_3f703_row11_col10\" class=\"data row11 col10\" >-0.177383</td>\n",
       "                        <td id=\"T_3f703_row11_col11\" class=\"data row11 col11\" >1.000000</td>\n",
       "                        <td id=\"T_3f703_row11_col12\" class=\"data row11 col12\" >-0.366087</td>\n",
       "                        <td id=\"T_3f703_row11_col13\" class=\"data row11 col13\" >0.333461</td>\n",
       "            </tr>\n",
       "            <tr>\n",
       "                        <th id=\"T_3f703_level0_row12\" class=\"row_heading level0 row12\" >lstat</th>\n",
       "                        <td id=\"T_3f703_row12_col0\" class=\"data row12 col0\" >0.455621</td>\n",
       "                        <td id=\"T_3f703_row12_col1\" class=\"data row12 col1\" >-0.412995</td>\n",
       "                        <td id=\"T_3f703_row12_col2\" class=\"data row12 col2\" >0.603800</td>\n",
       "                        <td id=\"T_3f703_row12_col3\" class=\"data row12 col3\" >-0.053929</td>\n",
       "                        <td id=\"T_3f703_row12_col4\" class=\"data row12 col4\" >0.590879</td>\n",
       "                        <td id=\"T_3f703_row12_col5\" class=\"data row12 col5\" >-0.613808</td>\n",
       "                        <td id=\"T_3f703_row12_col6\" class=\"data row12 col6\" >0.602339</td>\n",
       "                        <td id=\"T_3f703_row12_col7\" class=\"data row12 col7\" >-0.496996</td>\n",
       "                        <td id=\"T_3f703_row12_col8\" class=\"data row12 col8\" >0.488676</td>\n",
       "                        <td id=\"T_3f703_row12_col9\" class=\"data row12 col9\" >0.543993</td>\n",
       "                        <td id=\"T_3f703_row12_col10\" class=\"data row12 col10\" >0.374044</td>\n",
       "                        <td id=\"T_3f703_row12_col11\" class=\"data row12 col11\" >-0.366087</td>\n",
       "                        <td id=\"T_3f703_row12_col12\" class=\"data row12 col12\" >1.000000</td>\n",
       "                        <td id=\"T_3f703_row12_col13\" class=\"data row12 col13\" >-0.737663</td>\n",
       "            </tr>\n",
       "            <tr>\n",
       "                        <th id=\"T_3f703_level0_row13\" class=\"row_heading level0 row13\" >medv</th>\n",
       "                        <td id=\"T_3f703_row13_col0\" class=\"data row13 col0\" >-0.388305</td>\n",
       "                        <td id=\"T_3f703_row13_col1\" class=\"data row13 col1\" >0.360445</td>\n",
       "                        <td id=\"T_3f703_row13_col2\" class=\"data row13 col2\" >-0.483725</td>\n",
       "                        <td id=\"T_3f703_row13_col3\" class=\"data row13 col3\" >0.175260</td>\n",
       "                        <td id=\"T_3f703_row13_col4\" class=\"data row13 col4\" >-0.427321</td>\n",
       "                        <td id=\"T_3f703_row13_col5\" class=\"data row13 col5\" >0.695360</td>\n",
       "                        <td id=\"T_3f703_row13_col6\" class=\"data row13 col6\" >-0.376955</td>\n",
       "                        <td id=\"T_3f703_row13_col7\" class=\"data row13 col7\" >0.249929</td>\n",
       "                        <td id=\"T_3f703_row13_col8\" class=\"data row13 col8\" >-0.381626</td>\n",
       "                        <td id=\"T_3f703_row13_col9\" class=\"data row13 col9\" >-0.468536</td>\n",
       "                        <td id=\"T_3f703_row13_col10\" class=\"data row13 col10\" >-0.507787</td>\n",
       "                        <td id=\"T_3f703_row13_col11\" class=\"data row13 col11\" >0.333461</td>\n",
       "                        <td id=\"T_3f703_row13_col12\" class=\"data row13 col12\" >-0.737663</td>\n",
       "                        <td id=\"T_3f703_row13_col13\" class=\"data row13 col13\" >1.000000</td>\n",
       "            </tr>\n",
       "    </tbody></table>"
      ],
      "text/plain": [
       "<pandas.io.formats.style.Styler at 0x7f6a628a53a0>"
      ]
     },
     "execution_count": 46,
     "metadata": {},
     "output_type": "execute_result"
    }
   ],
   "source": [
    "df.corr().style.background_gradient(cmap='viridis')"
   ]
  },
  {
   "cell_type": "markdown",
   "metadata": {},
   "source": [
    "Haven't gotten into cross validation yet so I'm going to do minimal feature selection on this. Everything except chas is reasonably highly correlated with crim. There might be some interaction terms worth exploring but I want to move on with the book rather than spend a bunch of time on this right now. Same with train/test splits and cross validation, that's next chapter."
   ]
  },
  {
   "cell_type": "code",
   "execution_count": 47,
   "metadata": {},
   "outputs": [
    {
     "name": "stdout",
     "output_type": "stream",
     "text": [
      "Name: LDA\n",
      "Score: \n",
      "0.8557312252964426\n",
      "------------------\n",
      "Name: Logit\n",
      "Score: \n",
      "0.9150197628458498\n",
      "------------------\n",
      "Name: KNN\n",
      "Score: \n",
      "0.9565217391304348\n",
      "------------------\n"
     ]
    }
   ],
   "source": [
    "def evaluate(model, X, y):\n",
    "    model.fit(X, y)\n",
    "    print(model.score(X, y))\n",
    "\n",
    "knn = KNeighborsClassifier()\n",
    "param_grid = {'n_neighbors': list(range(1,7))}\n",
    "search = GridSearchCV(knn, param_grid, cv=5)\n",
    "\n",
    "models = {\"LDA\": LinearDiscriminantAnalysis(), \"Logit\": LogisticRegression(fit_intercept=True, penalty=\"none\", solver=\"lbfgs\", max_iter=10_000), \"KNN\": search}\n",
    "for name, model in models.items():\n",
    "    print(f\"Name: {name}\")\n",
    "    print(\"Score: \")\n",
    "    evaluate(model, X, y)\n",
    "    print(\"------------------\")"
   ]
  },
  {
   "cell_type": "markdown",
   "metadata": {},
   "source": [
    "Dang, KNN crushed it on this one. Maybe with some tuning I could get the others to do better, but that's quite the lead"
   ]
  }
 ],
 "metadata": {
  "kernelspec": {
   "display_name": "Python 3",
   "language": "python",
   "name": "python3"
  },
  "language_info": {
   "codemirror_mode": {
    "name": "ipython",
    "version": 3
   },
   "file_extension": ".py",
   "mimetype": "text/x-python",
   "name": "python",
   "nbconvert_exporter": "python",
   "pygments_lexer": "ipython3",
   "version": "3.9.4"
  }
 },
 "nbformat": 4,
 "nbformat_minor": 4
}
