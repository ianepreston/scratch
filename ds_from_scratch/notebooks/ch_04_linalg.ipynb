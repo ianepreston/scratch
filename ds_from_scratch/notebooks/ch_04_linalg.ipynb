{
 "cells": [
  {
   "cell_type": "code",
   "execution_count": null,
   "metadata": {},
   "outputs": [],
   "source": [
    "import numpy as np\n",
    "import matplotlib.pyplot as plt"
   ]
  },
  {
   "cell_type": "markdown",
   "metadata": {},
   "source": [
    "# Linear Algebra\n",
    "\n",
    "I've always struggled to get a good intuition for some things in linear algebra. Let's see if coding up some example graphs can help me with that. I'm going to use numpy arrays instead of the vectors and matrices created in the chapter, since it's not the implementation that's hard for me, it's the concepts themselves."
   ]
  },
  {
   "cell_type": "markdown",
   "metadata": {},
   "source": [
    "## Vector addition\n",
    "\n",
    "This one's actually pretty easy to understand, but let's plot it out as a warm up."
   ]
  },
  {
   "cell_type": "code",
   "execution_count": null,
   "metadata": {},
   "outputs": [],
   "source": [
    "origin = np.array([0, 0])\n",
    "a = np.array([1, 2])\n",
    "b = np.array([2, 1])"
   ]
  },
  {
   "cell_type": "code",
   "execution_count": null,
   "metadata": {},
   "outputs": [],
   "source": [
    "plt.arrow(*origin, *a, color=\"red\")\n",
    "plt.arrow(*origin, *b, color=\"green\")\n",
    "plt.arrow(*a, *b, color=\"blue\")\n",
    "plt.arrow(*origin, *(a + b), color=\"black\")\n",
    "plt.show();"
   ]
  },
  {
   "cell_type": "markdown",
   "metadata": {},
   "source": [
    "## Dot product\n",
    "\n",
    "Sometimes called inner product. This one's harder for me to get my head around. I know if vectors are orthoganal the inner product will be zero, but I have trouble with the intuition for interpreting that more generally."
   ]
  },
  {
   "cell_type": "code",
   "execution_count": null,
   "metadata": {},
   "outputs": [],
   "source": [
    "w = np.array([0.5, 1])\n",
    "v = np.array([2, 1])\n",
    "dot = np.dot(w, v)"
   ]
  },
  {
   "cell_type": "code",
   "execution_count": null,
   "metadata": {},
   "outputs": [],
   "source": [
    "dot"
   ]
  },
  {
   "cell_type": "code",
   "execution_count": null,
   "metadata": {},
   "outputs": [],
   "source": []
  }
 ],
 "metadata": {
  "kernelspec": {
   "display_name": "Python 3",
   "language": "python",
   "name": "python3"
  },
  "language_info": {
   "codemirror_mode": {
    "name": "ipython",
    "version": 3
   },
   "file_extension": ".py",
   "mimetype": "text/x-python",
   "name": "python",
   "nbconvert_exporter": "python",
   "pygments_lexer": "ipython3",
   "version": "3.9.0"
  }
 },
 "nbformat": 4,
 "nbformat_minor": 4
}
