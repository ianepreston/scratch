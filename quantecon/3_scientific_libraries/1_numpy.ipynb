{
 "cells": [
  {
   "cell_type": "code",
   "execution_count": 1,
   "metadata": {},
   "outputs": [],
   "source": [
    "import numpy as np\n",
    "import pandas as pd\n",
    "import altair as alt"
   ]
  },
  {
   "cell_type": "markdown",
   "metadata": {},
   "source": [
    "# Exercise 1\n",
    "\n",
    "Consider the polynomial expression\n",
    "\n",
    "$p(x) = a_0 + a_1x + a_2x^2 + ...a_nx^n = \\sum_{i=0}^{n} a_ix^i$\n",
    "\n",
    "Earlier, you wrote a simple function `p(x, coeff)` to evaluate it without considering efficiency.\n",
    "\n",
    "Now write a new function that does the same job, but uses NumPy arrays and array operations for its computations, rather than any form of Python loop\n",
    "\n",
    "(Such functionality is already implemented as `np.poly1d`, but for the sake of the exercise don't use this class)\n",
    "\n",
    "- Hint: Use `np.cumprod()`"
   ]
  },
  {
   "cell_type": "code",
   "execution_count": 2,
   "metadata": {},
   "outputs": [],
   "source": [
    "# without cumprod first since that's how I first thought about it\n",
    "def p1(x, coeff):\n",
    "    a = np.asarray(coeff)\n",
    "    exp = x ** np.arange(0, len(a))\n",
    "    return a @ exp"
   ]
  },
  {
   "cell_type": "code",
   "execution_count": 3,
   "metadata": {},
   "outputs": [],
   "source": [
    "def p(x, coeff):\n",
    "    a = np.asarray(coeff)\n",
    "    X = np.empty(len(coeff))\n",
    "    X[0] = 1\n",
    "    X[1:] = x\n",
    "    X = np.cumprod(X)\n",
    "    return a @ X"
   ]
  },
  {
   "cell_type": "markdown",
   "metadata": {},
   "source": [
    "# Exercise 2\n",
    "\n",
    "Let `q` be a NumPy array of length `n` with `q.sum() == 1`\n",
    "\n",
    "Suppose that `q` represents a [probability mass function](https://en.wikipedia.org/wiki/Probability_mass_function)\n",
    "\n",
    "We wish to generate a discrete random variable $x$ such that $\\mathbb{P}\\{x=i\\}=q_i$\n",
    "\n",
    "In other words, `x` takes values in `range(len(q))` and `x = i` with probability `q[i]`\n",
    "\n",
    "The standard (inverse transform algorithm is as follows:\n",
    "\n",
    "- Divide the unit interval $[0,1]$ into $n$ subintervals $I_0, I_1,...,I_{n-1}$ such that the length of $I_i$ is $q_i$\n",
    "\n",
    "- Draw a uniform random variable $U$ on $[0,1]$ and return the $i$ such that $U \\in I_i$\n",
    "\n",
    "The probability of drawing $i$ is the length of $I_i$, which is equal to $q_i$\n",
    "\n",
    "We can implement the algorithm as follows\n",
    "\n",
    "```python\n",
    "from random import uniform\n",
    "\n",
    "def sample(q):\n",
    "    a = 0.0\n",
    "    U = uniform(0, 1)\n",
    "    for i in range(len(q)):\n",
    "        if a < U <= a + q[i]:\n",
    "            return i\n",
    "        a = a + q[i]\n",
    "```\n",
    "\n",
    "If you can't see how this works, try thinking through the flow for a simple example, such as `q = [0.25, 0.75]` it helps to sketch the intervals on paper.\n",
    "\n",
    "Your exercise is to speed it up using NumPy, avoiding explicit loops\n",
    "\n",
    "- Hint: Use `np.searchsorted` and `np.cumsum`\n",
    "\n",
    "If you can, implement the functionality as a class called `discreteRV`, where\n",
    "\n",
    "- the data for an instance of the class is the vector of probabilities `q`\n",
    "\n",
    "- the class has a `draw()` method, which returns one draw according to the algorithm described above\n",
    "\n",
    "If you can, write the method so that `draw(k)` returns `k` draws from `q`"
   ]
  },
  {
   "cell_type": "code",
   "execution_count": 4,
   "metadata": {},
   "outputs": [],
   "source": [
    "class DiscreteRV:\n",
    "    \n",
    "    def __init__(self, q):\n",
    "        if sum(q) != 1:\n",
    "            raise ValueError('q must sum to 1')\n",
    "        self._q = np.cumsum(np.asarray(q))\n",
    "    \n",
    "    def __len__(self):\n",
    "        return len(self._q)\n",
    "    \n",
    "    def __call__(self):\n",
    "        return self._q\n",
    "    \n",
    "    def draw(self, k=1):\n",
    "        if not isinstance(k, int):\n",
    "            print('k must be an integer')\n",
    "            return None\n",
    "        if not k > 0:\n",
    "            print('k must be positive')\n",
    "        uniform_draws = np.random.uniform(size=k)\n",
    "        return np.searchsorted(self._q, uniform_draws)\n",
    "        "
   ]
  },
  {
   "cell_type": "code",
   "execution_count": 5,
   "metadata": {},
   "outputs": [
    {
     "name": "stdout",
     "output_type": "stream",
     "text": [
      "[0.01 0.09 0.1  0.3  0.6  0.75 0.9  1.  ]\n",
      "[3 7 5]\n"
     ]
    }
   ],
   "source": [
    "r = DiscreteRV([0.01, 0.08, 0.01, 0.2, 0.3, 0.15, 0.15, 0.1])\n",
    "print(r())\n",
    "print(r.draw(3))"
   ]
  },
  {
   "cell_type": "markdown",
   "metadata": {},
   "source": [
    "# Exercise 3\n",
    "\n"
   ]
  },
  {
   "cell_type": "markdown",
   "metadata": {},
   "source": [
    "Recall our [earlier discussion](https://lectures.quantecon.org/py/python_oop.html#oop-ex1) of the empirical cumulative distribution function\n",
    "\n",
    "Your task is to\n",
    "\n",
    "1. Make the `__call__` method more efficient using NumPy\n",
    "2. Add a method that plots the ECDF over $[a,b]$, where $a$ and $b$ are method parameters"
   ]
  },
  {
   "cell_type": "code",
   "execution_count": 6,
   "metadata": {},
   "outputs": [],
   "source": [
    "class ECDF:\n",
    "    \"\"\"Empirical cumulative distribution function\"\"\"\n",
    "    \n",
    "    def __init__(self, samples):\n",
    "        self.samples = np.asarray(samples)\n",
    "        self.samples.sort()\n",
    "    \n",
    "    def f(self, x):\n",
    "        n = len(self.samples)\n",
    "        below = np.searchsorted(self.samples, x)\n",
    "        return below / n\n",
    "    \n",
    "    def __call__(self, x):\n",
    "        return self.f(x)\n",
    "    \n",
    "    def graph(self, a, b):\n",
    "        x = np.linspace(start=a, stop=b, num=100)\n",
    "        y = self.f(x)\n",
    "        df = pd.DataFrame({'x': x, 'y': y})\n",
    "        cht = (\n",
    "            alt.Chart(df)\n",
    "            .mark_line()\n",
    "            .encode(\n",
    "                x=alt.X('x:Q', axis=alt.Axis(format=\".2f\")),\n",
    "                y='y:Q'\n",
    "            )\n",
    "            .properties(width=400)\n",
    "        )\n",
    "        return cht"
   ]
  },
  {
   "cell_type": "code",
   "execution_count": 7,
   "metadata": {},
   "outputs": [
    {
     "data": {
      "application/vnd.vegalite.v2+json": {
       "$schema": "https://vega.github.io/schema/vega-lite/v2.6.0.json",
       "config": {
        "view": {
         "height": 300,
         "width": 400
        }
       },
       "data": {
        "name": "data-db9bf52f00726a6a064eb7d8e04a756c"
       },
       "datasets": {
        "data-db9bf52f00726a6a064eb7d8e04a756c": [
         {
          "x": 0,
          "y": 0
         },
         {
          "x": 0.010101010101010102,
          "y": 0.015
         },
         {
          "x": 0.020202020202020204,
          "y": 0.029
         },
         {
          "x": 0.030303030303030304,
          "y": 0.042
         },
         {
          "x": 0.04040404040404041,
          "y": 0.05
         },
         {
          "x": 0.05050505050505051,
          "y": 0.058
         },
         {
          "x": 0.06060606060606061,
          "y": 0.064
         },
         {
          "x": 0.07070707070707072,
          "y": 0.073
         },
         {
          "x": 0.08080808080808081,
          "y": 0.079
         },
         {
          "x": 0.09090909090909091,
          "y": 0.091
         },
         {
          "x": 0.10101010101010102,
          "y": 0.101
         },
         {
          "x": 0.11111111111111112,
          "y": 0.108
         },
         {
          "x": 0.12121212121212122,
          "y": 0.111
         },
         {
          "x": 0.13131313131313133,
          "y": 0.119
         },
         {
          "x": 0.14141414141414144,
          "y": 0.132
         },
         {
          "x": 0.15151515151515152,
          "y": 0.142
         },
         {
          "x": 0.16161616161616163,
          "y": 0.15
         },
         {
          "x": 0.17171717171717174,
          "y": 0.163
         },
         {
          "x": 0.18181818181818182,
          "y": 0.168
         },
         {
          "x": 0.19191919191919193,
          "y": 0.177
         },
         {
          "x": 0.20202020202020204,
          "y": 0.189
         },
         {
          "x": 0.21212121212121213,
          "y": 0.202
         },
         {
          "x": 0.22222222222222224,
          "y": 0.215
         },
         {
          "x": 0.23232323232323235,
          "y": 0.221
         },
         {
          "x": 0.24242424242424243,
          "y": 0.233
         },
         {
          "x": 0.25252525252525254,
          "y": 0.243
         },
         {
          "x": 0.26262626262626265,
          "y": 0.25
         },
         {
          "x": 0.27272727272727276,
          "y": 0.257
         },
         {
          "x": 0.2828282828282829,
          "y": 0.268
         },
         {
          "x": 0.29292929292929293,
          "y": 0.28
         },
         {
          "x": 0.30303030303030304,
          "y": 0.293
         },
         {
          "x": 0.31313131313131315,
          "y": 0.301
         },
         {
          "x": 0.32323232323232326,
          "y": 0.314
         },
         {
          "x": 0.33333333333333337,
          "y": 0.322
         },
         {
          "x": 0.3434343434343435,
          "y": 0.336
         },
         {
          "x": 0.3535353535353536,
          "y": 0.347
         },
         {
          "x": 0.36363636363636365,
          "y": 0.356
         },
         {
          "x": 0.37373737373737376,
          "y": 0.366
         },
         {
          "x": 0.38383838383838387,
          "y": 0.375
         },
         {
          "x": 0.393939393939394,
          "y": 0.384
         },
         {
          "x": 0.4040404040404041,
          "y": 0.388
         },
         {
          "x": 0.4141414141414142,
          "y": 0.394
         },
         {
          "x": 0.42424242424242425,
          "y": 0.403
         },
         {
          "x": 0.43434343434343436,
          "y": 0.415
         },
         {
          "x": 0.4444444444444445,
          "y": 0.43
         },
         {
          "x": 0.4545454545454546,
          "y": 0.435
         },
         {
          "x": 0.4646464646464647,
          "y": 0.44
         },
         {
          "x": 0.4747474747474748,
          "y": 0.45
         },
         {
          "x": 0.48484848484848486,
          "y": 0.456
         },
         {
          "x": 0.494949494949495,
          "y": 0.475
         },
         {
          "x": 0.5050505050505051,
          "y": 0.486
         },
         {
          "x": 0.5151515151515152,
          "y": 0.493
         },
         {
          "x": 0.5252525252525253,
          "y": 0.495
         },
         {
          "x": 0.5353535353535354,
          "y": 0.511
         },
         {
          "x": 0.5454545454545455,
          "y": 0.522
         },
         {
          "x": 0.5555555555555556,
          "y": 0.531
         },
         {
          "x": 0.5656565656565657,
          "y": 0.539
         },
         {
          "x": 0.5757575757575758,
          "y": 0.55
         },
         {
          "x": 0.5858585858585859,
          "y": 0.56
         },
         {
          "x": 0.595959595959596,
          "y": 0.574
         },
         {
          "x": 0.6060606060606061,
          "y": 0.593
         },
         {
          "x": 0.6161616161616162,
          "y": 0.597
         },
         {
          "x": 0.6262626262626263,
          "y": 0.605
         },
         {
          "x": 0.6363636363636365,
          "y": 0.615
         },
         {
          "x": 0.6464646464646465,
          "y": 0.63
         },
         {
          "x": 0.6565656565656566,
          "y": 0.635
         },
         {
          "x": 0.6666666666666667,
          "y": 0.649
         },
         {
          "x": 0.6767676767676768,
          "y": 0.655
         },
         {
          "x": 0.686868686868687,
          "y": 0.671
         },
         {
          "x": 0.696969696969697,
          "y": 0.682
         },
         {
          "x": 0.7070707070707072,
          "y": 0.688
         },
         {
          "x": 0.7171717171717172,
          "y": 0.697
         },
         {
          "x": 0.7272727272727273,
          "y": 0.711
         },
         {
          "x": 0.7373737373737375,
          "y": 0.722
         },
         {
          "x": 0.7474747474747475,
          "y": 0.741
         },
         {
          "x": 0.7575757575757577,
          "y": 0.754
         },
         {
          "x": 0.7676767676767677,
          "y": 0.763
         },
         {
          "x": 0.7777777777777778,
          "y": 0.776
         },
         {
          "x": 0.787878787878788,
          "y": 0.79
         },
         {
          "x": 0.797979797979798,
          "y": 0.802
         },
         {
          "x": 0.8080808080808082,
          "y": 0.813
         },
         {
          "x": 0.8181818181818182,
          "y": 0.819
         },
         {
          "x": 0.8282828282828284,
          "y": 0.829
         },
         {
          "x": 0.8383838383838385,
          "y": 0.837
         },
         {
          "x": 0.8484848484848485,
          "y": 0.851
         },
         {
          "x": 0.8585858585858587,
          "y": 0.863
         },
         {
          "x": 0.8686868686868687,
          "y": 0.877
         },
         {
          "x": 0.8787878787878789,
          "y": 0.881
         },
         {
          "x": 0.888888888888889,
          "y": 0.888
         },
         {
          "x": 0.8989898989898991,
          "y": 0.896
         },
         {
          "x": 0.9090909090909092,
          "y": 0.906
         },
         {
          "x": 0.9191919191919192,
          "y": 0.917
         },
         {
          "x": 0.9292929292929294,
          "y": 0.928
         },
         {
          "x": 0.9393939393939394,
          "y": 0.94
         },
         {
          "x": 0.9494949494949496,
          "y": 0.946
         },
         {
          "x": 0.9595959595959597,
          "y": 0.954
         },
         {
          "x": 0.9696969696969697,
          "y": 0.965
         },
         {
          "x": 0.9797979797979799,
          "y": 0.975
         },
         {
          "x": 0.98989898989899,
          "y": 0.988
         },
         {
          "x": 1,
          "y": 1
         }
        ]
       },
       "encoding": {
        "x": {
         "axis": {
          "format": ".2f"
         },
         "field": "x",
         "type": "quantitative"
        },
        "y": {
         "field": "y",
         "type": "quantitative"
        }
       },
       "mark": "line",
       "width": 400
      },
      "image/png": "[encoded data removed]",
      "text/plain": [
       "<VegaLite 2 object>\n",
       "\n",
       "If you see this message, it means the renderer has not been properly enabled\n",
       "for the frontend that you are using. For more information, see\n",
       "https://altair-viz.github.io/user_guide/troubleshooting.html\n"
      ]
     },
     "execution_count": 7,
     "metadata": {},
     "output_type": "execute_result"
    }
   ],
   "source": [
    "f= ECDF(np.random.uniform(size=1000))\n",
    "f.graph(0, 1)"
   ]
  }
 ],
 "metadata": {
  "kernelspec": {
   "display_name": "Python 3",
   "language": "python",
   "name": "python3"
  },
  "language_info": {
   "codemirror_mode": {
    "name": "ipython",
    "version": 3
   },
   "file_extension": ".py",
   "mimetype": "text/x-python",
   "name": "python",
   "nbconvert_exporter": "python",
   "pygments_lexer": "ipython3",
   "version": "3.7.1"
  }
 },
 "nbformat": 4,
 "nbformat_minor": 2
}
