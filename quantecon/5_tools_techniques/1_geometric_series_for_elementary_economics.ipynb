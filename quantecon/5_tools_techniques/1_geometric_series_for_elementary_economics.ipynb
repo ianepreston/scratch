{
 "cells": [
  {
   "cell_type": "code",
   "execution_count": 1,
   "metadata": {},
   "outputs": [],
   "source": [
    "import numpy as np\n",
    "import sympy as sp\n",
    "from sympy import init_printing"
   ]
  },
  {
   "cell_type": "code",
   "execution_count": null,
   "metadata": {},
   "outputs": [],
   "source": []
  },
  {
   "cell_type": "markdown",
   "metadata": {},
   "source": [
    "# Basic formulas\n",
    "\n",
    "Consider $C \\in (-1, 1)$\n",
    "\n",
    "Then $1+c+c^2+c^3 \\dots = \\frac{1}{1-c}$\n",
    "\n",
    "and $1+c+c^2+c^3+ \\dots + c^T = \\frac{1-c^{T+1}}{1-c}$"
   ]
  },
  {
   "cell_type": "markdown",
   "metadata": {},
   "source": [
    "# Fractional Reserve Banking\n",
    "\n",
    "Bank $i$'s loans $L_i$, deposits $D_i$, and reserves $R_i$ must statisfy the balance sheet equation:\n",
    "\n",
    "$$L_i + R_i = D_i$$\n",
    "\n",
    "The left side of the above equation is the sum of the banks **assets**, namely the loans $L_i$ it has outstanding plus its reserves of cash $R_i$.\n",
    "\n",
    "The right side records bank $i$'s liabilities, namely, the deposits $D_i$ held by its depositors; these are IOU's from the bank to its depositors in the form of either checking accounts for savings accounts (or before 1914, bank notes issued by a bank stating promises to redeem note for gold or silver on demand).\n",
    "\n",
    "Each bank $i$ sets its reserves to satsify the equation\n",
    "\n",
    "$$R_i = rD_i$$\n",
    "\n",
    "Where $r \\in (0,1)$ is its **reserve-deposit ratio** or **reserve ratio** for short\n",
    "- The reserve ratio is either set by a government or chosen by banks for precautionary reasons\n",
    "\n",
    "Next we add a theory stating that bank $i+1$'s deposits depend entirely on loans made by bank $i$, namely\n",
    "\n",
    "$$D_{i+1} = L_i$$\n",
    "\n",
    "Thus we can think of the banks as being arranged along a line with loans from bank $i$ being immediately deposited in $i + 1$\n",
    "- In this way, the debtors to bank $i$ become creditors of bank $i+1$\n",
    "Finally, we add an *initial condition* about an exogenous level of bank $0's$ deposits\n",
    "$$D_0 \\text{ is given exogenously}$$\n",
    "\n",
    "We can think of $D_0$ as being the amount of cash that a first depositor put into the first bank in the system, bank number $i=0$.\n",
    "\n",
    "Now we do a little algebra\n",
    "\n",
    "$$L_i = (1-r)Di$$\n",
    "\n",
    "This states that bank $i$ loans a fraction $(1-r)$ of its deposits and keeps a fraction $r$ as cash reserves.\n",
    "\n",
    "Combining\n",
    "$$D_{i+1} = (1-r)D_i \\text{ for } i \\ge 0$$\n",
    "\n",
    "which implies that\n",
    "$$D_i = (1-r)^iD_0 \\text{ for } i \\ge 0$$\n",
    "\n",
    "This expresses $D_i$ as the $i$th term in the product of $D_0$ and the geometric series\n",
    "$$1,(1-r),(1-r)^2, \\dots$$\n",
    "\n",
    "Therefore the sum of all deposits in our banking system is\n",
    "$$\\sum_{i=0}^{\\infty} (1-r)^iD_0 = \\frac{D_0}{1-(1-r)} = \\frac{D_0}{r}$$\n",
    "\n",
    "The **money multiplier** is a number that tells the multiplicative factor by which an exogenous injection of cash into bank $0$ leads to an increase in the total deposits in the banking system. As shown above the money multiplier is $\\frac{1}{r}$\n",
    "- An initial deposit of cash of $D_0$ in bank $0$ leads the banking system to create total deposits of $\\frac{D_0}{r}$\n",
    "- The initial deposit $D_0$ is held as reserves, distributed throughout the banking sytem according to $D_0 = \\sum_{i=0}^{\\infty} R_i$"
   ]
  },
  {
   "cell_type": "markdown",
   "metadata": {},
   "source": [
    "# The Kenesian Multiplier"
   ]
  },
  {
   "cell_type": "code",
   "execution_count": null,
   "metadata": {},
   "outputs": [],
   "source": []
  }
 ],
 "metadata": {
  "kernelspec": {
   "display_name": "Python 3",
   "language": "python",
   "name": "python3"
  },
  "language_info": {
   "codemirror_mode": {
    "name": "ipython",
    "version": 3
   },
   "file_extension": ".py",
   "mimetype": "text/x-python",
   "name": "python",
   "nbconvert_exporter": "python",
   "pygments_lexer": "ipython3",
   "version": "3.6.9"
  }
 },
 "nbformat": 4,
 "nbformat_minor": 4
}
