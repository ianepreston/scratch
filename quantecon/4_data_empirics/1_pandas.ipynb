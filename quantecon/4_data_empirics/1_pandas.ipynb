{
 "cells": [
  {
   "cell_type": "code",
   "execution_count": 1,
   "metadata": {},
   "outputs": [],
   "source": [
    "import pandas as pd\n",
    "import altair as alt"
   ]
  },
  {
   "cell_type": "code",
   "execution_count": 2,
   "metadata": {},
   "outputs": [
    {
     "data": {
      "application/vnd.vegalite.v2+json": {
       "$schema": "https://vega.github.io/schema/vega-lite/v2.6.0.json",
       "config": {
        "view": {
         "height": 300,
         "width": 400
        }
       },
       "data": {
        "name": "data-54c95be97a3137c4c9b5d817e28240e5"
       },
       "datasets": {
        "data-54c95be97a3137c4c9b5d817e28240e5": [
         {
          "company": "PetroChina",
          "return": -0.24727345312376803
         },
         {
          "company": "BHP",
          "return": -0.14675344676592028
         },
         {
          "company": "IBM",
          "return": -0.04471606178611476
         },
         {
          "company": "Apple",
          "return": 0.021838554403448285
         },
         {
          "company": "Coca-Cola",
          "return": 0.09867029780161163
         },
         {
          "company": "Qualcomm",
          "return": 0.14671814671814665
         },
         {
          "company": "Intel",
          "return": 0.21421890618423323
         },
         {
          "company": "Toyota",
          "return": 0.270132311076827
         },
         {
          "company": "Microsoft",
          "return": 0.3544532456751177
         },
         {
          "company": "Sony",
          "return": 0.5021721112076456
         },
         {
          "company": "Google",
          "return": 0.5495472520662013
         },
         {
          "company": "Amazon",
          "return": 0.5498426493322657
         },
         {
          "company": "Boeing",
          "return": 0.770987478915272
         }
        ]
       },
       "encoding": {
        "x": {
         "field": "company",
         "sort": {
          "field": "return",
          "op": "mean"
         },
         "type": "ordinal"
        },
        "y": {
         "axis": {
          "format": "%"
         },
         "field": "return",
         "type": "quantitative"
        }
       },
       "height": 400,
       "mark": "bar",
       "width": 600
      },
      "image/png": "[encoded data removed]",
      "text/plain": [
       "<VegaLite 2 object>\n",
       "\n",
       "If you see this message, it means the renderer has not been properly enabled\n",
       "for the frontend that you are using. For more information, see\n",
       "https://altair-viz.github.io/user_guide/troubleshooting.html\n"
      ]
     },
     "execution_count": 2,
     "metadata": {},
     "output_type": "execute_result"
    }
   ],
   "source": [
    "ticker_list = {\n",
    "    'INTC': 'Intel',\n",
    "    'MSFT': 'Microsoft',\n",
    "    'IBM': 'IBM',\n",
    "    'BHP': 'BHP',\n",
    "    'TM': 'Toyota',\n",
    "    'AAPL': 'Apple',\n",
    "    'AMZN': 'Amazon',\n",
    "    'BA': 'Boeing',\n",
    "    'QCOM': 'Qualcomm',\n",
    "    'KO': 'Coca-Cola',\n",
    "    'GOOG': 'Google',\n",
    "    'SNE': 'Sony',\n",
    "    'PTR': 'PetroChina'\n",
    "}\n",
    "df = (\n",
    "    pd.read_csv('ticker_data.csv', parse_dates=['Date'])\n",
    "    .set_index('Date')\n",
    "    .rename(columns=ticker_list)\n",
    "    .iloc[[0,-1]]\n",
    "    .pct_change()\n",
    "    .iloc[-1]\n",
    "    .rename('return')\n",
    "    .to_frame()\n",
    "    .rename_axis(index='company')\n",
    "    .sort_values(by='return')\n",
    "    .reset_index()\n",
    ")\n",
    "cht = (\n",
    "    alt.Chart(df)\n",
    "    .mark_bar()\n",
    "    .encode(\n",
    "        x=alt.X('company:O', sort=alt.EncodingSortField(field='return', op='mean')),\n",
    "        y=alt.Y('return:Q', axis=alt.Axis(format='%'))\n",
    "    )\n",
    "    .properties(width=600, height=400)\n",
    ")\n",
    "cht"
   ]
  }
 ],
 "metadata": {
  "kernelspec": {
   "display_name": "Python 3",
   "language": "python",
   "name": "python3"
  },
  "language_info": {
   "codemirror_mode": {
    "name": "ipython",
    "version": 3
   },
   "file_extension": ".py",
   "mimetype": "text/x-python",
   "name": "python",
   "nbconvert_exporter": "python",
   "pygments_lexer": "ipython3",
   "version": "3.7.1"
  }
 },
 "nbformat": 4,
 "nbformat_minor": 2
}
