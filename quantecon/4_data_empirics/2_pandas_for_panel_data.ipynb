{
 "cells": [
  {
   "cell_type": "code",
   "execution_count": 1,
   "metadata": {},
   "outputs": [],
   "source": [
    "import pandas as pd\n",
    "import altair_recipes as ar"
   ]
  },
  {
   "cell_type": "markdown",
   "metadata": {},
   "source": [
    "# Exercise 1\n",
    "\n",
    "In these exercises you'll work with a dataset of employment rates in Europe by age and sex from [Eurostat](http://ec.europa.eu/eurostat/data/database)\n",
    "\n",
    "The dataset `pandas_panel/employ.csv` can be downloaded [here](https://github.com/QuantEcon/QuantEcon.lectures.code/raw/master/pandas_panel/employ.csv)\n",
    "\n",
    "Reading in the csv file returns a panel dataset in long format. Use `.pivot_table()` to construct a wide format dataframe with a `MultiIndex` in the columns.\n",
    "\n",
    "Start off by exploring the dataframe and the variables available in the `MultiIndex` levels\n",
    "\n",
    "Write a program that quickly returns all the values in the `MultiIndex`"
   ]
  },
  {
   "cell_type": "code",
   "execution_count": 2,
   "metadata": {},
   "outputs": [
    {
     "data": {
      "text/html": [
       "<div>\n",
       "<style scoped>\n",
       "    .dataframe tbody tr th:only-of-type {\n",
       "        vertical-align: middle;\n",
       "    }\n",
       "\n",
       "    .dataframe tbody tr th {\n",
       "        vertical-align: top;\n",
       "    }\n",
       "\n",
       "    .dataframe thead tr th {\n",
       "        text-align: left;\n",
       "    }\n",
       "\n",
       "    .dataframe thead tr:last-of-type th {\n",
       "        text-align: right;\n",
       "    }\n",
       "</style>\n",
       "<table border=\"1\" class=\"dataframe\">\n",
       "  <thead>\n",
       "    <tr>\n",
       "      <th>GEO</th>\n",
       "      <th colspan=\"10\" halign=\"left\">Austria</th>\n",
       "      <th>...</th>\n",
       "      <th colspan=\"10\" halign=\"left\">United Kingdom</th>\n",
       "    </tr>\n",
       "    <tr>\n",
       "      <th>AGE</th>\n",
       "      <th colspan=\"10\" halign=\"left\">From 15 to 24 years</th>\n",
       "      <th>...</th>\n",
       "      <th colspan=\"10\" halign=\"left\">From 55 to 64 years</th>\n",
       "    </tr>\n",
       "    <tr>\n",
       "      <th>UNIT</th>\n",
       "      <th colspan=\"6\" halign=\"left\">Percentage of total population</th>\n",
       "      <th colspan=\"4\" halign=\"left\">Thousand persons</th>\n",
       "      <th>...</th>\n",
       "      <th colspan=\"4\" halign=\"left\">Percentage of total population</th>\n",
       "      <th colspan=\"6\" halign=\"left\">Thousand persons</th>\n",
       "    </tr>\n",
       "    <tr>\n",
       "      <th>SEX</th>\n",
       "      <th colspan=\"2\" halign=\"left\">Females</th>\n",
       "      <th colspan=\"2\" halign=\"left\">Males</th>\n",
       "      <th colspan=\"2\" halign=\"left\">Total</th>\n",
       "      <th colspan=\"2\" halign=\"left\">Females</th>\n",
       "      <th colspan=\"2\" halign=\"left\">Males</th>\n",
       "      <th>...</th>\n",
       "      <th colspan=\"2\" halign=\"left\">Males</th>\n",
       "      <th colspan=\"2\" halign=\"left\">Total</th>\n",
       "      <th colspan=\"2\" halign=\"left\">Females</th>\n",
       "      <th colspan=\"2\" halign=\"left\">Males</th>\n",
       "      <th colspan=\"2\" halign=\"left\">Total</th>\n",
       "    </tr>\n",
       "    <tr>\n",
       "      <th>INDIC_EM</th>\n",
       "      <th>Active population</th>\n",
       "      <th>Total employment (resident population concept - LFS)</th>\n",
       "      <th>Active population</th>\n",
       "      <th>Total employment (resident population concept - LFS)</th>\n",
       "      <th>Active population</th>\n",
       "      <th>Total employment (resident population concept - LFS)</th>\n",
       "      <th>Active population</th>\n",
       "      <th>Total employment (resident population concept - LFS)</th>\n",
       "      <th>Active population</th>\n",
       "      <th>Total employment (resident population concept - LFS)</th>\n",
       "      <th>...</th>\n",
       "      <th>Active population</th>\n",
       "      <th>Total employment (resident population concept - LFS)</th>\n",
       "      <th>Active population</th>\n",
       "      <th>Total employment (resident population concept - LFS)</th>\n",
       "      <th>Active population</th>\n",
       "      <th>Total employment (resident population concept - LFS)</th>\n",
       "      <th>Active population</th>\n",
       "      <th>Total employment (resident population concept - LFS)</th>\n",
       "      <th>Active population</th>\n",
       "      <th>Total employment (resident population concept - LFS)</th>\n",
       "    </tr>\n",
       "    <tr>\n",
       "      <th>DATE</th>\n",
       "      <th></th>\n",
       "      <th></th>\n",
       "      <th></th>\n",
       "      <th></th>\n",
       "      <th></th>\n",
       "      <th></th>\n",
       "      <th></th>\n",
       "      <th></th>\n",
       "      <th></th>\n",
       "      <th></th>\n",
       "      <th></th>\n",
       "      <th></th>\n",
       "      <th></th>\n",
       "      <th></th>\n",
       "      <th></th>\n",
       "      <th></th>\n",
       "      <th></th>\n",
       "      <th></th>\n",
       "      <th></th>\n",
       "      <th></th>\n",
       "      <th></th>\n",
       "    </tr>\n",
       "  </thead>\n",
       "  <tbody>\n",
       "    <tr>\n",
       "      <th>2007-01-01</th>\n",
       "      <td>56.0</td>\n",
       "      <td>50.6</td>\n",
       "      <td>62.9</td>\n",
       "      <td>57.0</td>\n",
       "      <td>59.4</td>\n",
       "      <td>53.8</td>\n",
       "      <td>278.0</td>\n",
       "      <td>251.0</td>\n",
       "      <td>308.0</td>\n",
       "      <td>279.0</td>\n",
       "      <td>...</td>\n",
       "      <td>68.9</td>\n",
       "      <td>66.2</td>\n",
       "      <td>59.3</td>\n",
       "      <td>57.4</td>\n",
       "      <td>1830.0</td>\n",
       "      <td>1789.0</td>\n",
       "      <td>2438.0</td>\n",
       "      <td>2342.0</td>\n",
       "      <td>4268.0</td>\n",
       "      <td>4131.0</td>\n",
       "    </tr>\n",
       "    <tr>\n",
       "      <th>2008-01-01</th>\n",
       "      <td>56.2</td>\n",
       "      <td>51.3</td>\n",
       "      <td>62.9</td>\n",
       "      <td>57.6</td>\n",
       "      <td>59.5</td>\n",
       "      <td>54.4</td>\n",
       "      <td>279.0</td>\n",
       "      <td>255.0</td>\n",
       "      <td>310.0</td>\n",
       "      <td>284.0</td>\n",
       "      <td>...</td>\n",
       "      <td>69.8</td>\n",
       "      <td>67.2</td>\n",
       "      <td>59.8</td>\n",
       "      <td>58.0</td>\n",
       "      <td>1851.0</td>\n",
       "      <td>1807.0</td>\n",
       "      <td>2489.0</td>\n",
       "      <td>2397.0</td>\n",
       "      <td>4340.0</td>\n",
       "      <td>4204.0</td>\n",
       "    </tr>\n",
       "    <tr>\n",
       "      <th>2009-01-01</th>\n",
       "      <td>56.2</td>\n",
       "      <td>50.5</td>\n",
       "      <td>62.9</td>\n",
       "      <td>55.8</td>\n",
       "      <td>59.5</td>\n",
       "      <td>53.1</td>\n",
       "      <td>279.0</td>\n",
       "      <td>251.0</td>\n",
       "      <td>308.0</td>\n",
       "      <td>274.0</td>\n",
       "      <td>...</td>\n",
       "      <td>70.3</td>\n",
       "      <td>66.1</td>\n",
       "      <td>60.3</td>\n",
       "      <td>57.5</td>\n",
       "      <td>1877.0</td>\n",
       "      <td>1823.0</td>\n",
       "      <td>2518.0</td>\n",
       "      <td>2370.0</td>\n",
       "      <td>4395.0</td>\n",
       "      <td>4193.0</td>\n",
       "    </tr>\n",
       "    <tr>\n",
       "      <th>2010-01-01</th>\n",
       "      <td>54.0</td>\n",
       "      <td>48.9</td>\n",
       "      <td>62.6</td>\n",
       "      <td>56.6</td>\n",
       "      <td>58.3</td>\n",
       "      <td>52.8</td>\n",
       "      <td>267.0</td>\n",
       "      <td>242.0</td>\n",
       "      <td>306.0</td>\n",
       "      <td>277.0</td>\n",
       "      <td>...</td>\n",
       "      <td>69.2</td>\n",
       "      <td>65.1</td>\n",
       "      <td>60.0</td>\n",
       "      <td>57.2</td>\n",
       "      <td>1903.0</td>\n",
       "      <td>1843.0</td>\n",
       "      <td>2491.0</td>\n",
       "      <td>2343.0</td>\n",
       "      <td>4394.0</td>\n",
       "      <td>4186.0</td>\n",
       "    </tr>\n",
       "    <tr>\n",
       "      <th>2011-01-01</th>\n",
       "      <td>54.8</td>\n",
       "      <td>49.8</td>\n",
       "      <td>63.6</td>\n",
       "      <td>58.0</td>\n",
       "      <td>59.2</td>\n",
       "      <td>53.9</td>\n",
       "      <td>270.0</td>\n",
       "      <td>246.0</td>\n",
       "      <td>310.0</td>\n",
       "      <td>282.0</td>\n",
       "      <td>...</td>\n",
       "      <td>68.4</td>\n",
       "      <td>64.1</td>\n",
       "      <td>59.7</td>\n",
       "      <td>56.7</td>\n",
       "      <td>1914.0</td>\n",
       "      <td>1849.0</td>\n",
       "      <td>2469.0</td>\n",
       "      <td>2315.0</td>\n",
       "      <td>4383.0</td>\n",
       "      <td>4164.0</td>\n",
       "    </tr>\n",
       "  </tbody>\n",
       "</table>\n",
       "<p>5 rows × 1440 columns</p>\n",
       "</div>"
      ],
      "text/plain": [
       "GEO                               Austria  \\\n",
       "AGE                   From 15 to 24 years   \n",
       "UNIT       Percentage of total population   \n",
       "SEX                               Females   \n",
       "INDIC_EM                Active population   \n",
       "DATE                                        \n",
       "2007-01-01                           56.0   \n",
       "2008-01-01                           56.2   \n",
       "2009-01-01                           56.2   \n",
       "2010-01-01                           54.0   \n",
       "2011-01-01                           54.8   \n",
       "\n",
       "GEO                                                              \\\n",
       "AGE                                                               \n",
       "UNIT                                                              \n",
       "SEX                                                               \n",
       "INDIC_EM   Total employment (resident population concept - LFS)   \n",
       "DATE                                                              \n",
       "2007-01-01                                               50.6     \n",
       "2008-01-01                                               51.3     \n",
       "2009-01-01                                               50.5     \n",
       "2010-01-01                                               48.9     \n",
       "2011-01-01                                               49.8     \n",
       "\n",
       "GEO                           \\\n",
       "AGE                            \n",
       "UNIT                           \n",
       "SEX                    Males   \n",
       "INDIC_EM   Active population   \n",
       "DATE                           \n",
       "2007-01-01              62.9   \n",
       "2008-01-01              62.9   \n",
       "2009-01-01              62.9   \n",
       "2010-01-01              62.6   \n",
       "2011-01-01              63.6   \n",
       "\n",
       "GEO                                                              \\\n",
       "AGE                                                               \n",
       "UNIT                                                              \n",
       "SEX                                                               \n",
       "INDIC_EM   Total employment (resident population concept - LFS)   \n",
       "DATE                                                              \n",
       "2007-01-01                                               57.0     \n",
       "2008-01-01                                               57.6     \n",
       "2009-01-01                                               55.8     \n",
       "2010-01-01                                               56.6     \n",
       "2011-01-01                                               58.0     \n",
       "\n",
       "GEO                           \\\n",
       "AGE                            \n",
       "UNIT                           \n",
       "SEX                    Total   \n",
       "INDIC_EM   Active population   \n",
       "DATE                           \n",
       "2007-01-01              59.4   \n",
       "2008-01-01              59.5   \n",
       "2009-01-01              59.5   \n",
       "2010-01-01              58.3   \n",
       "2011-01-01              59.2   \n",
       "\n",
       "GEO                                                              \\\n",
       "AGE                                                               \n",
       "UNIT                                                              \n",
       "SEX                                                               \n",
       "INDIC_EM   Total employment (resident population concept - LFS)   \n",
       "DATE                                                              \n",
       "2007-01-01                                               53.8     \n",
       "2008-01-01                                               54.4     \n",
       "2009-01-01                                               53.1     \n",
       "2010-01-01                                               52.8     \n",
       "2011-01-01                                               53.9     \n",
       "\n",
       "GEO                           \\\n",
       "AGE                            \n",
       "UNIT        Thousand persons   \n",
       "SEX                  Females   \n",
       "INDIC_EM   Active population   \n",
       "DATE                           \n",
       "2007-01-01             278.0   \n",
       "2008-01-01             279.0   \n",
       "2009-01-01             279.0   \n",
       "2010-01-01             267.0   \n",
       "2011-01-01             270.0   \n",
       "\n",
       "GEO                                                              \\\n",
       "AGE                                                               \n",
       "UNIT                                                              \n",
       "SEX                                                               \n",
       "INDIC_EM   Total employment (resident population concept - LFS)   \n",
       "DATE                                                              \n",
       "2007-01-01                                              251.0     \n",
       "2008-01-01                                              255.0     \n",
       "2009-01-01                                              251.0     \n",
       "2010-01-01                                              242.0     \n",
       "2011-01-01                                              246.0     \n",
       "\n",
       "GEO                           \\\n",
       "AGE                            \n",
       "UNIT                           \n",
       "SEX                    Males   \n",
       "INDIC_EM   Active population   \n",
       "DATE                           \n",
       "2007-01-01             308.0   \n",
       "2008-01-01             310.0   \n",
       "2009-01-01             308.0   \n",
       "2010-01-01             306.0   \n",
       "2011-01-01             310.0   \n",
       "\n",
       "GEO                                                              ...  \\\n",
       "AGE                                                              ...   \n",
       "UNIT                                                             ...   \n",
       "SEX                                                              ...   \n",
       "INDIC_EM   Total employment (resident population concept - LFS)  ...   \n",
       "DATE                                                             ...   \n",
       "2007-01-01                                              279.0    ...   \n",
       "2008-01-01                                              284.0    ...   \n",
       "2009-01-01                                              274.0    ...   \n",
       "2010-01-01                                              277.0    ...   \n",
       "2011-01-01                                              282.0    ...   \n",
       "\n",
       "GEO                        United Kingdom  \\\n",
       "AGE                   From 55 to 64 years   \n",
       "UNIT       Percentage of total population   \n",
       "SEX                                 Males   \n",
       "INDIC_EM                Active population   \n",
       "DATE                                        \n",
       "2007-01-01                           68.9   \n",
       "2008-01-01                           69.8   \n",
       "2009-01-01                           70.3   \n",
       "2010-01-01                           69.2   \n",
       "2011-01-01                           68.4   \n",
       "\n",
       "GEO                                                              \\\n",
       "AGE                                                               \n",
       "UNIT                                                              \n",
       "SEX                                                               \n",
       "INDIC_EM   Total employment (resident population concept - LFS)   \n",
       "DATE                                                              \n",
       "2007-01-01                                               66.2     \n",
       "2008-01-01                                               67.2     \n",
       "2009-01-01                                               66.1     \n",
       "2010-01-01                                               65.1     \n",
       "2011-01-01                                               64.1     \n",
       "\n",
       "GEO                           \\\n",
       "AGE                            \n",
       "UNIT                           \n",
       "SEX                    Total   \n",
       "INDIC_EM   Active population   \n",
       "DATE                           \n",
       "2007-01-01              59.3   \n",
       "2008-01-01              59.8   \n",
       "2009-01-01              60.3   \n",
       "2010-01-01              60.0   \n",
       "2011-01-01              59.7   \n",
       "\n",
       "GEO                                                              \\\n",
       "AGE                                                               \n",
       "UNIT                                                              \n",
       "SEX                                                               \n",
       "INDIC_EM   Total employment (resident population concept - LFS)   \n",
       "DATE                                                              \n",
       "2007-01-01                                               57.4     \n",
       "2008-01-01                                               58.0     \n",
       "2009-01-01                                               57.5     \n",
       "2010-01-01                                               57.2     \n",
       "2011-01-01                                               56.7     \n",
       "\n",
       "GEO                           \\\n",
       "AGE                            \n",
       "UNIT        Thousand persons   \n",
       "SEX                  Females   \n",
       "INDIC_EM   Active population   \n",
       "DATE                           \n",
       "2007-01-01            1830.0   \n",
       "2008-01-01            1851.0   \n",
       "2009-01-01            1877.0   \n",
       "2010-01-01            1903.0   \n",
       "2011-01-01            1914.0   \n",
       "\n",
       "GEO                                                              \\\n",
       "AGE                                                               \n",
       "UNIT                                                              \n",
       "SEX                                                               \n",
       "INDIC_EM   Total employment (resident population concept - LFS)   \n",
       "DATE                                                              \n",
       "2007-01-01                                             1789.0     \n",
       "2008-01-01                                             1807.0     \n",
       "2009-01-01                                             1823.0     \n",
       "2010-01-01                                             1843.0     \n",
       "2011-01-01                                             1849.0     \n",
       "\n",
       "GEO                           \\\n",
       "AGE                            \n",
       "UNIT                           \n",
       "SEX                    Males   \n",
       "INDIC_EM   Active population   \n",
       "DATE                           \n",
       "2007-01-01            2438.0   \n",
       "2008-01-01            2489.0   \n",
       "2009-01-01            2518.0   \n",
       "2010-01-01            2491.0   \n",
       "2011-01-01            2469.0   \n",
       "\n",
       "GEO                                                              \\\n",
       "AGE                                                               \n",
       "UNIT                                                              \n",
       "SEX                                                               \n",
       "INDIC_EM   Total employment (resident population concept - LFS)   \n",
       "DATE                                                              \n",
       "2007-01-01                                             2342.0     \n",
       "2008-01-01                                             2397.0     \n",
       "2009-01-01                                             2370.0     \n",
       "2010-01-01                                             2343.0     \n",
       "2011-01-01                                             2315.0     \n",
       "\n",
       "GEO                           \\\n",
       "AGE                            \n",
       "UNIT                           \n",
       "SEX                    Total   \n",
       "INDIC_EM   Active population   \n",
       "DATE                           \n",
       "2007-01-01            4268.0   \n",
       "2008-01-01            4340.0   \n",
       "2009-01-01            4395.0   \n",
       "2010-01-01            4394.0   \n",
       "2011-01-01            4383.0   \n",
       "\n",
       "GEO                                                              \n",
       "AGE                                                              \n",
       "UNIT                                                             \n",
       "SEX                                                              \n",
       "INDIC_EM   Total employment (resident population concept - LFS)  \n",
       "DATE                                                             \n",
       "2007-01-01                                             4131.0    \n",
       "2008-01-01                                             4204.0    \n",
       "2009-01-01                                             4193.0    \n",
       "2010-01-01                                             4186.0    \n",
       "2011-01-01                                             4164.0    \n",
       "\n",
       "[5 rows x 1440 columns]"
      ]
     },
     "execution_count": 2,
     "metadata": {},
     "output_type": "execute_result"
    }
   ],
   "source": [
    "url = 'https://github.com/QuantEcon/QuantEcon.lectures.code/raw/master/pandas_panel/employ.csv'\n",
    "df = (\n",
    "    pd.read_csv(url, parse_dates=['DATE'])\n",
    "    .drop(columns='Unnamed: 0')\n",
    "    .dropna()\n",
    "    .pivot_table(index='DATE', columns=['GEO', 'AGE', 'UNIT', 'SEX', 'INDIC_EM'], values='Value')\n",
    ")\n",
    "df.head()"
   ]
  },
  {
   "cell_type": "code",
   "execution_count": 4,
   "metadata": {},
   "outputs": [
    {
     "name": "stdout",
     "output_type": "stream",
     "text": [
      "GEO\n",
      "['Austria', 'Belgium', 'Bulgaria', 'Croatia', 'Cyprus', 'Czech Republic', 'Denmark', 'Estonia', 'Euro area (17 countries)', 'Euro area (18 countries)', 'Euro area (19 countries)', 'European Union (15 countries)', 'European Union (27 countries)', 'European Union (28 countries)', 'Finland', 'Former Yugoslav Republic of Macedonia, the', 'France', 'France (metropolitan)', 'Germany (until 1990 former territory of the FRG)', 'Greece', 'Hungary', 'Iceland', 'Ireland', 'Italy', 'Latvia', 'Lithuania', 'Luxembourg', 'Malta', 'Netherlands', 'Norway', 'Poland', 'Portugal', 'Romania', 'Slovakia', 'Slovenia', 'Spain', 'Sweden', 'Switzerland', 'Turkey', 'United Kingdom']\n",
      "\n",
      "AGE\n",
      "['From 15 to 24 years', 'From 25 to 54 years', 'From 55 to 64 years']\n",
      "\n",
      "UNIT\n",
      "['Percentage of total population', 'Thousand persons']\n",
      "\n",
      "SEX\n",
      "['Females', 'Males', 'Total']\n",
      "\n",
      "INDIC_EM\n",
      "['Active population', 'Total employment (resident population concept - LFS)']\n",
      "\n"
     ]
    }
   ],
   "source": [
    "for level in df.columns.levels:\n",
    "    print(level.name)\n",
    "    print(level.tolist())\n",
    "    print()    "
   ]
  },
  {
   "cell_type": "markdown",
   "metadata": {},
   "source": [
    "I don't actually like working with Multindices for data like this. See [tidy data](http://vita.had.co.nz/papers/tidy-data.pdf) for a discussion of the benefits of long or \"tidy\" format to data.\n",
    "\n",
    "Here's an implementation that allows us to examine the values without pivoting."
   ]
  },
  {
   "cell_type": "code",
   "execution_count": 5,
   "metadata": {},
   "outputs": [],
   "source": [
    "df = (\n",
    "    pd.read_csv(url, parse_dates=['DATE'])\n",
    "    .drop(columns='Unnamed: 0')\n",
    "    .dropna()\n",
    ")"
   ]
  },
  {
   "cell_type": "code",
   "execution_count": 6,
   "metadata": {},
   "outputs": [
    {
     "name": "stdout",
     "output_type": "stream",
     "text": [
      "GEO\n",
      "['European Union (28 countries)' 'European Union (27 countries)'\n",
      " 'European Union (15 countries)' 'Euro area (19 countries)'\n",
      " 'Euro area (18 countries)' 'Euro area (17 countries)' 'Belgium'\n",
      " 'Bulgaria' 'Czech Republic' 'Denmark'\n",
      " 'Germany (until 1990 former territory of the FRG)' 'Estonia' 'Ireland'\n",
      " 'Greece' 'Spain' 'France (metropolitan)' 'Croatia' 'Italy' 'Cyprus'\n",
      " 'Latvia' 'Lithuania' 'Luxembourg' 'Hungary' 'Malta' 'Netherlands'\n",
      " 'Austria' 'Poland' 'Portugal' 'Romania' 'Slovenia' 'Slovakia' 'Finland'\n",
      " 'Sweden' 'United Kingdom' 'Iceland' 'Norway'\n",
      " 'Former Yugoslav Republic of Macedonia, the' 'Turkey' 'Switzerland'\n",
      " 'France']\n",
      "\n",
      "AGE\n",
      "['From 15 to 24 years' 'From 25 to 54 years' 'From 55 to 64 years']\n",
      "\n",
      "UNIT\n",
      "['Thousand persons' 'Percentage of total population']\n",
      "\n",
      "SEX\n",
      "['Total' 'Males' 'Females']\n",
      "\n",
      "INDIC_EM\n",
      "['Active population'\n",
      " 'Total employment (resident population concept - LFS)']\n",
      "\n"
     ]
    }
   ],
   "source": [
    "panel_col_names = [col for col in df.columns.tolist() if col not in ['Value', 'DATE']]\n",
    "for col in panel_col_names:\n",
    "    print(col)\n",
    "    print(df[col].unique())\n",
    "    print()"
   ]
  },
  {
   "cell_type": "markdown",
   "metadata": {},
   "source": [
    "# Exercise 2\n",
    "\n",
    "Filter the above dataframe to only include employment as a percentage of 'active population'\n",
    "\n",
    "Create a grouped boxplot using `altair` of employment rates in 2015 by age group and sex\n",
    "\n",
    "**Hint** `GEO` includes both areas and countries"
   ]
  },
  {
   "cell_type": "code",
   "execution_count": 7,
   "metadata": {},
   "outputs": [
    {
     "data": {
      "text/html": [
       "<div>\n",
       "<style scoped>\n",
       "    .dataframe tbody tr th:only-of-type {\n",
       "        vertical-align: middle;\n",
       "    }\n",
       "\n",
       "    .dataframe tbody tr th {\n",
       "        vertical-align: top;\n",
       "    }\n",
       "\n",
       "    .dataframe thead th {\n",
       "        text-align: right;\n",
       "    }\n",
       "</style>\n",
       "<table border=\"1\" class=\"dataframe\">\n",
       "  <thead>\n",
       "    <tr style=\"text-align: right;\">\n",
       "      <th></th>\n",
       "      <th>GEO</th>\n",
       "      <th>AGE</th>\n",
       "      <th>UNIT</th>\n",
       "      <th>SEX</th>\n",
       "      <th>INDIC_EM</th>\n",
       "      <th>Value</th>\n",
       "      <th>DATE</th>\n",
       "    </tr>\n",
       "  </thead>\n",
       "  <tbody>\n",
       "    <tr>\n",
       "      <th>12320</th>\n",
       "      <td>Belgium</td>\n",
       "      <td>From 15 to 24 years</td>\n",
       "      <td>Percentage of total population</td>\n",
       "      <td>Males</td>\n",
       "      <td>Active population</td>\n",
       "      <td>32.8</td>\n",
       "      <td>2015-01-01</td>\n",
       "    </tr>\n",
       "    <tr>\n",
       "      <th>12322</th>\n",
       "      <td>Belgium</td>\n",
       "      <td>From 15 to 24 years</td>\n",
       "      <td>Percentage of total population</td>\n",
       "      <td>Females</td>\n",
       "      <td>Active population</td>\n",
       "      <td>27.1</td>\n",
       "      <td>2015-01-01</td>\n",
       "    </tr>\n",
       "    <tr>\n",
       "      <th>12332</th>\n",
       "      <td>Belgium</td>\n",
       "      <td>From 25 to 54 years</td>\n",
       "      <td>Percentage of total population</td>\n",
       "      <td>Males</td>\n",
       "      <td>Active population</td>\n",
       "      <td>89.9</td>\n",
       "      <td>2015-01-01</td>\n",
       "    </tr>\n",
       "    <tr>\n",
       "      <th>12334</th>\n",
       "      <td>Belgium</td>\n",
       "      <td>From 25 to 54 years</td>\n",
       "      <td>Percentage of total population</td>\n",
       "      <td>Females</td>\n",
       "      <td>Active population</td>\n",
       "      <td>80.2</td>\n",
       "      <td>2015-01-01</td>\n",
       "    </tr>\n",
       "    <tr>\n",
       "      <th>12344</th>\n",
       "      <td>Belgium</td>\n",
       "      <td>From 55 to 64 years</td>\n",
       "      <td>Percentage of total population</td>\n",
       "      <td>Males</td>\n",
       "      <td>Active population</td>\n",
       "      <td>52.2</td>\n",
       "      <td>2015-01-01</td>\n",
       "    </tr>\n",
       "  </tbody>\n",
       "</table>\n",
       "</div>"
      ],
      "text/plain": [
       "           GEO                  AGE                            UNIT      SEX  \\\n",
       "12320  Belgium  From 15 to 24 years  Percentage of total population    Males   \n",
       "12322  Belgium  From 15 to 24 years  Percentage of total population  Females   \n",
       "12332  Belgium  From 25 to 54 years  Percentage of total population    Males   \n",
       "12334  Belgium  From 25 to 54 years  Percentage of total population  Females   \n",
       "12344  Belgium  From 55 to 64 years  Percentage of total population    Males   \n",
       "\n",
       "                INDIC_EM  Value       DATE  \n",
       "12320  Active population   32.8 2015-01-01  \n",
       "12322  Active population   27.1 2015-01-01  \n",
       "12332  Active population   89.9 2015-01-01  \n",
       "12334  Active population   80.2 2015-01-01  \n",
       "12344  Active population   52.2 2015-01-01  "
      ]
     },
     "execution_count": 7,
     "metadata": {},
     "output_type": "execute_result"
    }
   ],
   "source": [
    "countries = [geo for geo in df['GEO'].unique().tolist() if not geo.startswith('Euro')]\n",
    "\n",
    "mask = (\n",
    "    (df['GEO'].isin(countries)) &\n",
    "    (df['UNIT'] == 'Percentage of total population') &\n",
    "    (df['INDIC_EM'] == 'Active population') &\n",
    "    (df['SEX'] != 'Total') &\n",
    "    (df['DATE'] == '2015')\n",
    ")\n",
    "chart_df = df.loc[mask].copy()\n",
    "chart_df.head()"
   ]
  },
  {
   "cell_type": "code",
   "execution_count": 8,
   "metadata": {},
   "outputs": [
    {
     "data": {
      "application/vnd.vegalite.v2+json": {
       "$schema": "https://vega.github.io/schema/vega-lite/v2.6.0.json",
       "config": {
        "view": {
         "height": 300,
         "width": 400
        }
       },
       "data": {
        "name": "data-c2d376fa70c7c88c2fccaffa8ac2493a"
       },
       "datasets": {
        "data-c2d376fa70c7c88c2fccaffa8ac2493a": [
         {
          "AGE": "From 15 to 24 years",
          "DATE": "2015-01-01T00:00:00",
          "GEO": "Belgium",
          "INDIC_EM": "Active population",
          "SEX": "Males",
          "UNIT": "Percentage of total population",
          "Value": 32.8
         },
         {
          "AGE": "From 15 to 24 years",
          "DATE": "2015-01-01T00:00:00",
          "GEO": "Belgium",
          "INDIC_EM": "Active population",
          "SEX": "Females",
          "UNIT": "Percentage of total population",
          "Value": 27.1
         },
         {
          "AGE": "From 25 to 54 years",
          "DATE": "2015-01-01T00:00:00",
          "GEO": "Belgium",
          "INDIC_EM": "Active population",
          "SEX": "Males",
          "UNIT": "Percentage of total population",
          "Value": 89.9
         },
         {
          "AGE": "From 25 to 54 years",
          "DATE": "2015-01-01T00:00:00",
          "GEO": "Belgium",
          "INDIC_EM": "Active population",
          "SEX": "Females",
          "UNIT": "Percentage of total population",
          "Value": 80.2
         },
         {
          "AGE": "From 55 to 64 years",
          "DATE": "2015-01-01T00:00:00",
          "GEO": "Belgium",
          "INDIC_EM": "Active population",
          "SEX": "Males",
          "UNIT": "Percentage of total population",
          "Value": 52.2
         },
         {
          "AGE": "From 55 to 64 years",
          "DATE": "2015-01-01T00:00:00",
          "GEO": "Belgium",
          "INDIC_EM": "Active population",
          "SEX": "Females",
          "UNIT": "Percentage of total population",
          "Value": 41.2
         },
         {
          "AGE": "From 15 to 24 years",
          "DATE": "2015-01-01T00:00:00",
          "GEO": "Bulgaria",
          "INDIC_EM": "Active population",
          "SEX": "Males",
          "UNIT": "Percentage of total population",
          "Value": 30.5
         },
         {
          "AGE": "From 15 to 24 years",
          "DATE": "2015-01-01T00:00:00",
          "GEO": "Bulgaria",
          "INDIC_EM": "Active population",
          "SEX": "Females",
          "UNIT": "Percentage of total population",
          "Value": 21.2
         },
         {
          "AGE": "From 25 to 54 years",
          "DATE": "2015-01-01T00:00:00",
          "GEO": "Bulgaria",
          "INDIC_EM": "Active population",
          "SEX": "Males",
          "UNIT": "Percentage of total population",
          "Value": 86.4
         },
         {
          "AGE": "From 25 to 54 years",
          "DATE": "2015-01-01T00:00:00",
          "GEO": "Bulgaria",
          "INDIC_EM": "Active population",
          "SEX": "Females",
          "UNIT": "Percentage of total population",
          "Value": 79.8
         },
         {
          "AGE": "From 55 to 64 years",
          "DATE": "2015-01-01T00:00:00",
          "GEO": "Bulgaria",
          "INDIC_EM": "Active population",
          "SEX": "Males",
          "UNIT": "Percentage of total population",
          "Value": 62.7
         },
         {
          "AGE": "From 55 to 64 years",
          "DATE": "2015-01-01T00:00:00",
          "GEO": "Bulgaria",
          "INDIC_EM": "Active population",
          "SEX": "Females",
          "UNIT": "Percentage of total population",
          "Value": 53.8
         },
         {
          "AGE": "From 15 to 24 years",
          "DATE": "2015-01-01T00:00:00",
          "GEO": "Czech Republic",
          "INDIC_EM": "Active population",
          "SEX": "Males",
          "UNIT": "Percentage of total population",
          "Value": 37.4
         },
         {
          "AGE": "From 15 to 24 years",
          "DATE": "2015-01-01T00:00:00",
          "GEO": "Czech Republic",
          "INDIC_EM": "Active population",
          "SEX": "Females",
          "UNIT": "Percentage of total population",
          "Value": 27.4
         },
         {
          "AGE": "From 25 to 54 years",
          "DATE": "2015-01-01T00:00:00",
          "GEO": "Czech Republic",
          "INDIC_EM": "Active population",
          "SEX": "Males",
          "UNIT": "Percentage of total population",
          "Value": 95.4
         },
         {
          "AGE": "From 25 to 54 years",
          "DATE": "2015-01-01T00:00:00",
          "GEO": "Czech Republic",
          "INDIC_EM": "Active population",
          "SEX": "Females",
          "UNIT": "Percentage of total population",
          "Value": 81.4
         },
         {
          "AGE": "From 55 to 64 years",
          "DATE": "2015-01-01T00:00:00",
          "GEO": "Czech Republic",
          "INDIC_EM": "Active population",
          "SEX": "Males",
          "UNIT": "Percentage of total population",
          "Value": 68.3
         },
         {
          "AGE": "From 55 to 64 years",
          "DATE": "2015-01-01T00:00:00",
          "GEO": "Czech Republic",
          "INDIC_EM": "Active population",
          "SEX": "Females",
          "UNIT": "Percentage of total population",
          "Value": 48.3
         },
         {
          "AGE": "From 15 to 24 years",
          "DATE": "2015-01-01T00:00:00",
          "GEO": "Denmark",
          "INDIC_EM": "Active population",
          "SEX": "Males",
          "UNIT": "Percentage of total population",
          "Value": 61.7
         },
         {
          "AGE": "From 15 to 24 years",
          "DATE": "2015-01-01T00:00:00",
          "GEO": "Denmark",
          "INDIC_EM": "Active population",
          "SEX": "Females",
          "UNIT": "Percentage of total population",
          "Value": 62.5
         },
         {
          "AGE": "From 25 to 54 years",
          "DATE": "2015-01-01T00:00:00",
          "GEO": "Denmark",
          "INDIC_EM": "Active population",
          "SEX": "Males",
          "UNIT": "Percentage of total population",
          "Value": 90.8
         },
         {
          "AGE": "From 25 to 54 years",
          "DATE": "2015-01-01T00:00:00",
          "GEO": "Denmark",
          "INDIC_EM": "Active population",
          "SEX": "Females",
          "UNIT": "Percentage of total population",
          "Value": 83.4
         },
         {
          "AGE": "From 55 to 64 years",
          "DATE": "2015-01-01T00:00:00",
          "GEO": "Denmark",
          "INDIC_EM": "Active population",
          "SEX": "Males",
          "UNIT": "Percentage of total population",
          "Value": 72.7
         },
         {
          "AGE": "From 55 to 64 years",
          "DATE": "2015-01-01T00:00:00",
          "GEO": "Denmark",
          "INDIC_EM": "Active population",
          "SEX": "Females",
          "UNIT": "Percentage of total population",
          "Value": 62.6
         },
         {
          "AGE": "From 15 to 24 years",
          "DATE": "2015-01-01T00:00:00",
          "GEO": "Germany (until 1990 former territory of the FRG)",
          "INDIC_EM": "Active population",
          "SEX": "Males",
          "UNIT": "Percentage of total population",
          "Value": 50.5
         },
         {
          "AGE": "From 15 to 24 years",
          "DATE": "2015-01-01T00:00:00",
          "GEO": "Germany (until 1990 former territory of the FRG)",
          "INDIC_EM": "Active population",
          "SEX": "Females",
          "UNIT": "Percentage of total population",
          "Value": 47.1
         },
         {
          "AGE": "From 25 to 54 years",
          "DATE": "2015-01-01T00:00:00",
          "GEO": "Germany (until 1990 former territory of the FRG)",
          "INDIC_EM": "Active population",
          "SEX": "Males",
          "UNIT": "Percentage of total population",
          "Value": 92.5
         },
         {
          "AGE": "From 25 to 54 years",
          "DATE": "2015-01-01T00:00:00",
          "GEO": "Germany (until 1990 former territory of the FRG)",
          "INDIC_EM": "Active population",
          "SEX": "Females",
          "UNIT": "Percentage of total population",
          "Value": 82.5
         },
         {
          "AGE": "From 55 to 64 years",
          "DATE": "2015-01-01T00:00:00",
          "GEO": "Germany (until 1990 former territory of the FRG)",
          "INDIC_EM": "Active population",
          "SEX": "Males",
          "UNIT": "Percentage of total population",
          "Value": 75.3
         },
         {
          "AGE": "From 55 to 64 years",
          "DATE": "2015-01-01T00:00:00",
          "GEO": "Germany (until 1990 former territory of the FRG)",
          "INDIC_EM": "Active population",
          "SEX": "Females",
          "UNIT": "Percentage of total population",
          "Value": 63.8
         },
         {
          "AGE": "From 15 to 24 years",
          "DATE": "2015-01-01T00:00:00",
          "GEO": "Estonia",
          "INDIC_EM": "Active population",
          "SEX": "Males",
          "UNIT": "Percentage of total population",
          "Value": 45.7
         },
         {
          "AGE": "From 15 to 24 years",
          "DATE": "2015-01-01T00:00:00",
          "GEO": "Estonia",
          "INDIC_EM": "Active population",
          "SEX": "Females",
          "UNIT": "Percentage of total population",
          "Value": 37.7
         },
         {
          "AGE": "From 25 to 54 years",
          "DATE": "2015-01-01T00:00:00",
          "GEO": "Estonia",
          "INDIC_EM": "Active population",
          "SEX": "Males",
          "UNIT": "Percentage of total population",
          "Value": 92.6
         },
         {
          "AGE": "From 25 to 54 years",
          "DATE": "2015-01-01T00:00:00",
          "GEO": "Estonia",
          "INDIC_EM": "Active population",
          "SEX": "Females",
          "UNIT": "Percentage of total population",
          "Value": 83
         },
         {
          "AGE": "From 55 to 64 years",
          "DATE": "2015-01-01T00:00:00",
          "GEO": "Estonia",
          "INDIC_EM": "Active population",
          "SEX": "Males",
          "UNIT": "Percentage of total population",
          "Value": 67.7
         },
         {
          "AGE": "From 55 to 64 years",
          "DATE": "2015-01-01T00:00:00",
          "GEO": "Estonia",
          "INDIC_EM": "Active population",
          "SEX": "Females",
          "UNIT": "Percentage of total population",
          "Value": 69.4
         },
         {
          "AGE": "From 15 to 24 years",
          "DATE": "2015-01-01T00:00:00",
          "GEO": "Ireland",
          "INDIC_EM": "Active population",
          "SEX": "Males",
          "UNIT": "Percentage of total population",
          "Value": 38.3
         },
         {
          "AGE": "From 15 to 24 years",
          "DATE": "2015-01-01T00:00:00",
          "GEO": "Ireland",
          "INDIC_EM": "Active population",
          "SEX": "Females",
          "UNIT": "Percentage of total population",
          "Value": 34.2
         },
         {
          "AGE": "From 25 to 54 years",
          "DATE": "2015-01-01T00:00:00",
          "GEO": "Ireland",
          "INDIC_EM": "Active population",
          "SEX": "Males",
          "UNIT": "Percentage of total population",
          "Value": 89.6
         },
         {
          "AGE": "From 25 to 54 years",
          "DATE": "2015-01-01T00:00:00",
          "GEO": "Ireland",
          "INDIC_EM": "Active population",
          "SEX": "Females",
          "UNIT": "Percentage of total population",
          "Value": 73.2
         },
         {
          "AGE": "From 55 to 64 years",
          "DATE": "2015-01-01T00:00:00",
          "GEO": "Ireland",
          "INDIC_EM": "Active population",
          "SEX": "Males",
          "UNIT": "Percentage of total population",
          "Value": 71.5
         },
         {
          "AGE": "From 55 to 64 years",
          "DATE": "2015-01-01T00:00:00",
          "GEO": "Ireland",
          "INDIC_EM": "Active population",
          "SEX": "Females",
          "UNIT": "Percentage of total population",
          "Value": 49
         },
         {
          "AGE": "From 15 to 24 years",
          "DATE": "2015-01-01T00:00:00",
          "GEO": "Greece",
          "INDIC_EM": "Active population",
          "SEX": "Males",
          "UNIT": "Percentage of total population",
          "Value": 27.7
         },
         {
          "AGE": "From 15 to 24 years",
          "DATE": "2015-01-01T00:00:00",
          "GEO": "Greece",
          "INDIC_EM": "Active population",
          "SEX": "Females",
          "UNIT": "Percentage of total population",
          "Value": 24.3
         },
         {
          "AGE": "From 25 to 54 years",
          "DATE": "2015-01-01T00:00:00",
          "GEO": "Greece",
          "INDIC_EM": "Active population",
          "SEX": "Males",
          "UNIT": "Percentage of total population",
          "Value": 93.1
         },
         {
          "AGE": "From 25 to 54 years",
          "DATE": "2015-01-01T00:00:00",
          "GEO": "Greece",
          "INDIC_EM": "Active population",
          "SEX": "Females",
          "UNIT": "Percentage of total population",
          "Value": 77.7
         },
         {
          "AGE": "From 55 to 64 years",
          "DATE": "2015-01-01T00:00:00",
          "GEO": "Greece",
          "INDIC_EM": "Active population",
          "SEX": "Males",
          "UNIT": "Percentage of total population",
          "Value": 54.9
         },
         {
          "AGE": "From 55 to 64 years",
          "DATE": "2015-01-01T00:00:00",
          "GEO": "Greece",
          "INDIC_EM": "Active population",
          "SEX": "Females",
          "UNIT": "Percentage of total population",
          "Value": 29.5
         },
         {
          "AGE": "From 15 to 24 years",
          "DATE": "2015-01-01T00:00:00",
          "GEO": "Spain",
          "INDIC_EM": "Active population",
          "SEX": "Males",
          "UNIT": "Percentage of total population",
          "Value": 36.2
         },
         {
          "AGE": "From 15 to 24 years",
          "DATE": "2015-01-01T00:00:00",
          "GEO": "Spain",
          "INDIC_EM": "Active population",
          "SEX": "Females",
          "UNIT": "Percentage of total population",
          "Value": 33.2
         },
         {
          "AGE": "From 25 to 54 years",
          "DATE": "2015-01-01T00:00:00",
          "GEO": "Spain",
          "INDIC_EM": "Active population",
          "SEX": "Males",
          "UNIT": "Percentage of total population",
          "Value": 92.6
         },
         {
          "AGE": "From 25 to 54 years",
          "DATE": "2015-01-01T00:00:00",
          "GEO": "Spain",
          "INDIC_EM": "Active population",
          "SEX": "Females",
          "UNIT": "Percentage of total population",
          "Value": 82
         },
         {
          "AGE": "From 55 to 64 years",
          "DATE": "2015-01-01T00:00:00",
          "GEO": "Spain",
          "INDIC_EM": "Active population",
          "SEX": "Males",
          "UNIT": "Percentage of total population",
          "Value": 66.2
         },
         {
          "AGE": "From 55 to 64 years",
          "DATE": "2015-01-01T00:00:00",
          "GEO": "Spain",
          "INDIC_EM": "Active population",
          "SEX": "Females",
          "UNIT": "Percentage of total population",
          "Value": 49.4
         },
         {
          "AGE": "From 15 to 24 years",
          "DATE": "2015-01-01T00:00:00",
          "GEO": "France",
          "INDIC_EM": "Active population",
          "SEX": "Males",
          "UNIT": "Percentage of total population",
          "Value": 40.2
         },
         {
          "AGE": "From 15 to 24 years",
          "DATE": "2015-01-01T00:00:00",
          "GEO": "France",
          "INDIC_EM": "Active population",
          "SEX": "Females",
          "UNIT": "Percentage of total population",
          "Value": 33.9
         },
         {
          "AGE": "From 25 to 54 years",
          "DATE": "2015-01-01T00:00:00",
          "GEO": "France",
          "INDIC_EM": "Active population",
          "SEX": "Males",
          "UNIT": "Percentage of total population",
          "Value": 92.4
         },
         {
          "AGE": "From 25 to 54 years",
          "DATE": "2015-01-01T00:00:00",
          "GEO": "France",
          "INDIC_EM": "Active population",
          "SEX": "Females",
          "UNIT": "Percentage of total population",
          "Value": 82.7
         },
         {
          "AGE": "From 55 to 64 years",
          "DATE": "2015-01-01T00:00:00",
          "GEO": "France",
          "INDIC_EM": "Active population",
          "SEX": "Males",
          "UNIT": "Percentage of total population",
          "Value": 55.1
         },
         {
          "AGE": "From 55 to 64 years",
          "DATE": "2015-01-01T00:00:00",
          "GEO": "France",
          "INDIC_EM": "Active population",
          "SEX": "Females",
          "UNIT": "Percentage of total population",
          "Value": 50.3
         },
         {
          "AGE": "From 15 to 24 years",
          "DATE": "2015-01-01T00:00:00",
          "GEO": "France (metropolitan)",
          "INDIC_EM": "Active population",
          "SEX": "Males",
          "UNIT": "Percentage of total population",
          "Value": 40.5
         },
         {
          "AGE": "From 15 to 24 years",
          "DATE": "2015-01-01T00:00:00",
          "GEO": "France (metropolitan)",
          "INDIC_EM": "Active population",
          "SEX": "Females",
          "UNIT": "Percentage of total population",
          "Value": 34.2
         },
         {
          "AGE": "From 25 to 54 years",
          "DATE": "2015-01-01T00:00:00",
          "GEO": "France (metropolitan)",
          "INDIC_EM": "Active population",
          "SEX": "Males",
          "UNIT": "Percentage of total population",
          "Value": 92.7
         },
         {
          "AGE": "From 25 to 54 years",
          "DATE": "2015-01-01T00:00:00",
          "GEO": "France (metropolitan)",
          "INDIC_EM": "Active population",
          "SEX": "Females",
          "UNIT": "Percentage of total population",
          "Value": 83
         },
         {
          "AGE": "From 55 to 64 years",
          "DATE": "2015-01-01T00:00:00",
          "GEO": "France (metropolitan)",
          "INDIC_EM": "Active population",
          "SEX": "Males",
          "UNIT": "Percentage of total population",
          "Value": 55.1
         },
         {
          "AGE": "From 55 to 64 years",
          "DATE": "2015-01-01T00:00:00",
          "GEO": "France (metropolitan)",
          "INDIC_EM": "Active population",
          "SEX": "Females",
          "UNIT": "Percentage of total population",
          "Value": 50.4
         },
         {
          "AGE": "From 15 to 24 years",
          "DATE": "2015-01-01T00:00:00",
          "GEO": "Croatia",
          "INDIC_EM": "Active population",
          "SEX": "Males",
          "UNIT": "Percentage of total population",
          "Value": 38.2
         },
         {
          "AGE": "From 15 to 24 years",
          "DATE": "2015-01-01T00:00:00",
          "GEO": "Croatia",
          "INDIC_EM": "Active population",
          "SEX": "Females",
          "UNIT": "Percentage of total population",
          "Value": 28
         },
         {
          "AGE": "From 25 to 54 years",
          "DATE": "2015-01-01T00:00:00",
          "GEO": "Croatia",
          "INDIC_EM": "Active population",
          "SEX": "Males",
          "UNIT": "Percentage of total population",
          "Value": 86.9
         },
         {
          "AGE": "From 25 to 54 years",
          "DATE": "2015-01-01T00:00:00",
          "GEO": "Croatia",
          "INDIC_EM": "Active population",
          "SEX": "Females",
          "UNIT": "Percentage of total population",
          "Value": 82.1
         },
         {
          "AGE": "From 55 to 64 years",
          "DATE": "2015-01-01T00:00:00",
          "GEO": "Croatia",
          "INDIC_EM": "Active population",
          "SEX": "Males",
          "UNIT": "Percentage of total population",
          "Value": 55
         },
         {
          "AGE": "From 55 to 64 years",
          "DATE": "2015-01-01T00:00:00",
          "GEO": "Croatia",
          "INDIC_EM": "Active population",
          "SEX": "Females",
          "UNIT": "Percentage of total population",
          "Value": 34.4
         },
         {
          "AGE": "From 15 to 24 years",
          "DATE": "2015-01-01T00:00:00",
          "GEO": "Italy",
          "INDIC_EM": "Active population",
          "SEX": "Males",
          "UNIT": "Percentage of total population",
          "Value": 30.4
         },
         {
          "AGE": "From 15 to 24 years",
          "DATE": "2015-01-01T00:00:00",
          "GEO": "Italy",
          "INDIC_EM": "Active population",
          "SEX": "Females",
          "UNIT": "Percentage of total population",
          "Value": 21.7
         },
         {
          "AGE": "From 25 to 54 years",
          "DATE": "2015-01-01T00:00:00",
          "GEO": "Italy",
          "INDIC_EM": "Active population",
          "SEX": "Males",
          "UNIT": "Percentage of total population",
          "Value": 87.7
         },
         {
          "AGE": "From 25 to 54 years",
          "DATE": "2015-01-01T00:00:00",
          "GEO": "Italy",
          "INDIC_EM": "Active population",
          "SEX": "Females",
          "UNIT": "Percentage of total population",
          "Value": 65.9
         },
         {
          "AGE": "From 55 to 64 years",
          "DATE": "2015-01-01T00:00:00",
          "GEO": "Italy",
          "INDIC_EM": "Active population",
          "SEX": "Males",
          "UNIT": "Percentage of total population",
          "Value": 63.3
         },
         {
          "AGE": "From 55 to 64 years",
          "DATE": "2015-01-01T00:00:00",
          "GEO": "Italy",
          "INDIC_EM": "Active population",
          "SEX": "Females",
          "UNIT": "Percentage of total population",
          "Value": 39.6
         },
         {
          "AGE": "From 15 to 24 years",
          "DATE": "2015-01-01T00:00:00",
          "GEO": "Cyprus",
          "INDIC_EM": "Active population",
          "SEX": "Males",
          "UNIT": "Percentage of total population",
          "Value": 36.8
         },
         {
          "AGE": "From 15 to 24 years",
          "DATE": "2015-01-01T00:00:00",
          "GEO": "Cyprus",
          "INDIC_EM": "Active population",
          "SEX": "Females",
          "UNIT": "Percentage of total population",
          "Value": 38.9
         },
         {
          "AGE": "From 25 to 54 years",
          "DATE": "2015-01-01T00:00:00",
          "GEO": "Cyprus",
          "INDIC_EM": "Active population",
          "SEX": "Males",
          "UNIT": "Percentage of total population",
          "Value": 92.6
         },
         {
          "AGE": "From 25 to 54 years",
          "DATE": "2015-01-01T00:00:00",
          "GEO": "Cyprus",
          "INDIC_EM": "Active population",
          "SEX": "Females",
          "UNIT": "Percentage of total population",
          "Value": 83.8
         },
         {
          "AGE": "From 55 to 64 years",
          "DATE": "2015-01-01T00:00:00",
          "GEO": "Cyprus",
          "INDIC_EM": "Active population",
          "SEX": "Males",
          "UNIT": "Percentage of total population",
          "Value": 70
         },
         {
          "AGE": "From 55 to 64 years",
          "DATE": "2015-01-01T00:00:00",
          "GEO": "Cyprus",
          "INDIC_EM": "Active population",
          "SEX": "Females",
          "UNIT": "Percentage of total population",
          "Value": 45.3
         },
         {
          "AGE": "From 15 to 24 years",
          "DATE": "2015-01-01T00:00:00",
          "GEO": "Latvia",
          "INDIC_EM": "Active population",
          "SEX": "Males",
          "UNIT": "Percentage of total population",
          "Value": 45.2
         },
         {
          "AGE": "From 15 to 24 years",
          "DATE": "2015-01-01T00:00:00",
          "GEO": "Latvia",
          "INDIC_EM": "Active population",
          "SEX": "Females",
          "UNIT": "Percentage of total population",
          "Value": 37.1
         },
         {
          "AGE": "From 25 to 54 years",
          "DATE": "2015-01-01T00:00:00",
          "GEO": "Latvia",
          "INDIC_EM": "Active population",
          "SEX": "Males",
          "UNIT": "Percentage of total population",
          "Value": 90.6
         },
         {
          "AGE": "From 25 to 54 years",
          "DATE": "2015-01-01T00:00:00",
          "GEO": "Latvia",
          "INDIC_EM": "Active population",
          "SEX": "Females",
          "UNIT": "Percentage of total population",
          "Value": 84.6
         },
         {
          "AGE": "From 55 to 64 years",
          "DATE": "2015-01-01T00:00:00",
          "GEO": "Latvia",
          "INDIC_EM": "Active population",
          "SEX": "Males",
          "UNIT": "Percentage of total population",
          "Value": 68
         },
         {
          "AGE": "From 55 to 64 years",
          "DATE": "2015-01-01T00:00:00",
          "GEO": "Latvia",
          "INDIC_EM": "Active population",
          "SEX": "Females",
          "UNIT": "Percentage of total population",
          "Value": 63.5
         },
         {
          "AGE": "From 15 to 24 years",
          "DATE": "2015-01-01T00:00:00",
          "GEO": "Lithuania",
          "INDIC_EM": "Active population",
          "SEX": "Males",
          "UNIT": "Percentage of total population",
          "Value": 36.7
         },
         {
          "AGE": "From 15 to 24 years",
          "DATE": "2015-01-01T00:00:00",
          "GEO": "Lithuania",
          "INDIC_EM": "Active population",
          "SEX": "Females",
          "UNIT": "Percentage of total population",
          "Value": 30.8
         },
         {
          "AGE": "From 25 to 54 years",
          "DATE": "2015-01-01T00:00:00",
          "GEO": "Lithuania",
          "INDIC_EM": "Active population",
          "SEX": "Males",
          "UNIT": "Percentage of total population",
          "Value": 90.4
         },
         {
          "AGE": "From 25 to 54 years",
          "DATE": "2015-01-01T00:00:00",
          "GEO": "Lithuania",
          "INDIC_EM": "Active population",
          "SEX": "Females",
          "UNIT": "Percentage of total population",
          "Value": 88.2
         },
         {
          "AGE": "From 55 to 64 years",
          "DATE": "2015-01-01T00:00:00",
          "GEO": "Lithuania",
          "INDIC_EM": "Active population",
          "SEX": "Males",
          "UNIT": "Percentage of total population",
          "Value": 69.8
         },
         {
          "AGE": "From 55 to 64 years",
          "DATE": "2015-01-01T00:00:00",
          "GEO": "Lithuania",
          "INDIC_EM": "Active population",
          "SEX": "Females",
          "UNIT": "Percentage of total population",
          "Value": 63.3
         },
         {
          "AGE": "From 15 to 24 years",
          "DATE": "2015-01-01T00:00:00",
          "GEO": "Luxembourg",
          "INDIC_EM": "Active population",
          "SEX": "Males",
          "UNIT": "Percentage of total population",
          "Value": 36.2
         },
         {
          "AGE": "From 15 to 24 years",
          "DATE": "2015-01-01T00:00:00",
          "GEO": "Luxembourg",
          "INDIC_EM": "Active population",
          "SEX": "Females",
          "UNIT": "Percentage of total population",
          "Value": 34.1
         },
         {
          "AGE": "From 25 to 54 years",
          "DATE": "2015-01-01T00:00:00",
          "GEO": "Luxembourg",
          "INDIC_EM": "Active population",
          "SEX": "Males",
          "UNIT": "Percentage of total population",
          "Value": 93.9
         },
         {
          "AGE": "From 25 to 54 years",
          "DATE": "2015-01-01T00:00:00",
          "GEO": "Luxembourg",
          "INDIC_EM": "Active population",
          "SEX": "Females",
          "UNIT": "Percentage of total population",
          "Value": 81.3
         },
         {
          "AGE": "From 55 to 64 years",
          "DATE": "2015-01-01T00:00:00",
          "GEO": "Luxembourg",
          "INDIC_EM": "Active population",
          "SEX": "Males",
          "UNIT": "Percentage of total population",
          "Value": 45.5
         },
         {
          "AGE": "From 55 to 64 years",
          "DATE": "2015-01-01T00:00:00",
          "GEO": "Luxembourg",
          "INDIC_EM": "Active population",
          "SEX": "Females",
          "UNIT": "Percentage of total population",
          "Value": 35
         },
         {
          "AGE": "From 15 to 24 years",
          "DATE": "2015-01-01T00:00:00",
          "GEO": "Hungary",
          "INDIC_EM": "Active population",
          "SEX": "Males",
          "UNIT": "Percentage of total population",
          "Value": 34.4
         },
         {
          "AGE": "From 15 to 24 years",
          "DATE": "2015-01-01T00:00:00",
          "GEO": "Hungary",
          "INDIC_EM": "Active population",
          "SEX": "Females",
          "UNIT": "Percentage of total population",
          "Value": 27.5
         },
         {
          "AGE": "From 25 to 54 years",
          "DATE": "2015-01-01T00:00:00",
          "GEO": "Hungary",
          "INDIC_EM": "Active population",
          "SEX": "Males",
          "UNIT": "Percentage of total population",
          "Value": 92
         },
         {
          "AGE": "From 25 to 54 years",
          "DATE": "2015-01-01T00:00:00",
          "GEO": "Hungary",
          "INDIC_EM": "Active population",
          "SEX": "Females",
          "UNIT": "Percentage of total population",
          "Value": 79.6
         },
         {
          "AGE": "From 55 to 64 years",
          "DATE": "2015-01-01T00:00:00",
          "GEO": "Hungary",
          "INDIC_EM": "Active population",
          "SEX": "Males",
          "UNIT": "Percentage of total population",
          "Value": 57.8
         },
         {
          "AGE": "From 55 to 64 years",
          "DATE": "2015-01-01T00:00:00",
          "GEO": "Hungary",
          "INDIC_EM": "Active population",
          "SEX": "Females",
          "UNIT": "Percentage of total population",
          "Value": 39.9
         },
         {
          "AGE": "From 15 to 24 years",
          "DATE": "2015-01-01T00:00:00",
          "GEO": "Malta",
          "INDIC_EM": "Active population",
          "SEX": "Males",
          "UNIT": "Percentage of total population",
          "Value": 53.3
         },
         {
          "AGE": "From 15 to 24 years",
          "DATE": "2015-01-01T00:00:00",
          "GEO": "Malta",
          "INDIC_EM": "Active population",
          "SEX": "Females",
          "UNIT": "Percentage of total population",
          "Value": 49.8
         },
         {
          "AGE": "From 25 to 54 years",
          "DATE": "2015-01-01T00:00:00",
          "GEO": "Malta",
          "INDIC_EM": "Active population",
          "SEX": "Males",
          "UNIT": "Percentage of total population",
          "Value": 95.4
         },
         {
          "AGE": "From 25 to 54 years",
          "DATE": "2015-01-01T00:00:00",
          "GEO": "Malta",
          "INDIC_EM": "Active population",
          "SEX": "Females",
          "UNIT": "Percentage of total population",
          "Value": 65.8
         },
         {
          "AGE": "From 55 to 64 years",
          "DATE": "2015-01-01T00:00:00",
          "GEO": "Malta",
          "INDIC_EM": "Active population",
          "SEX": "Males",
          "UNIT": "Percentage of total population",
          "Value": 62.1
         },
         {
          "AGE": "From 55 to 64 years",
          "DATE": "2015-01-01T00:00:00",
          "GEO": "Malta",
          "INDIC_EM": "Active population",
          "SEX": "Females",
          "UNIT": "Percentage of total population",
          "Value": 22.6
         },
         {
          "AGE": "From 15 to 24 years",
          "DATE": "2015-01-01T00:00:00",
          "GEO": "Netherlands",
          "INDIC_EM": "Active population",
          "SEX": "Males",
          "UNIT": "Percentage of total population",
          "Value": 67.5
         },
         {
          "AGE": "From 15 to 24 years",
          "DATE": "2015-01-01T00:00:00",
          "GEO": "Netherlands",
          "INDIC_EM": "Active population",
          "SEX": "Females",
          "UNIT": "Percentage of total population",
          "Value": 69.4
         },
         {
          "AGE": "From 25 to 54 years",
          "DATE": "2015-01-01T00:00:00",
          "GEO": "Netherlands",
          "INDIC_EM": "Active population",
          "SEX": "Males",
          "UNIT": "Percentage of total population",
          "Value": 92.1
         },
         {
          "AGE": "From 25 to 54 years",
          "DATE": "2015-01-01T00:00:00",
          "GEO": "Netherlands",
          "INDIC_EM": "Active population",
          "SEX": "Females",
          "UNIT": "Percentage of total population",
          "Value": 82.1
         },
         {
          "AGE": "From 55 to 64 years",
          "DATE": "2015-01-01T00:00:00",
          "GEO": "Netherlands",
          "INDIC_EM": "Active population",
          "SEX": "Males",
          "UNIT": "Percentage of total population",
          "Value": 77.6
         },
         {
          "AGE": "From 55 to 64 years",
          "DATE": "2015-01-01T00:00:00",
          "GEO": "Netherlands",
          "INDIC_EM": "Active population",
          "SEX": "Females",
          "UNIT": "Percentage of total population",
          "Value": 56.7
         },
         {
          "AGE": "From 15 to 24 years",
          "DATE": "2015-01-01T00:00:00",
          "GEO": "Austria",
          "INDIC_EM": "Active population",
          "SEX": "Males",
          "UNIT": "Percentage of total population",
          "Value": 60.7
         },
         {
          "AGE": "From 15 to 24 years",
          "DATE": "2015-01-01T00:00:00",
          "GEO": "Austria",
          "INDIC_EM": "Active population",
          "SEX": "Females",
          "UNIT": "Percentage of total population",
          "Value": 54.1
         },
         {
          "AGE": "From 25 to 54 years",
          "DATE": "2015-01-01T00:00:00",
          "GEO": "Austria",
          "INDIC_EM": "Active population",
          "SEX": "Males",
          "UNIT": "Percentage of total population",
          "Value": 91.6
         },
         {
          "AGE": "From 25 to 54 years",
          "DATE": "2015-01-01T00:00:00",
          "GEO": "Austria",
          "INDIC_EM": "Active population",
          "SEX": "Females",
          "UNIT": "Percentage of total population",
          "Value": 84.4
         },
         {
          "AGE": "From 55 to 64 years",
          "DATE": "2015-01-01T00:00:00",
          "GEO": "Austria",
          "INDIC_EM": "Active population",
          "SEX": "Males",
          "UNIT": "Percentage of total population",
          "Value": 57.4
         },
         {
          "AGE": "From 55 to 64 years",
          "DATE": "2015-01-01T00:00:00",
          "GEO": "Austria",
          "INDIC_EM": "Active population",
          "SEX": "Females",
          "UNIT": "Percentage of total population",
          "Value": 40.2
         },
         {
          "AGE": "From 15 to 24 years",
          "DATE": "2015-01-01T00:00:00",
          "GEO": "Poland",
          "INDIC_EM": "Active population",
          "SEX": "Males",
          "UNIT": "Percentage of total population",
          "Value": 38.4
         },
         {
          "AGE": "From 15 to 24 years",
          "DATE": "2015-01-01T00:00:00",
          "GEO": "Poland",
          "INDIC_EM": "Active population",
          "SEX": "Females",
          "UNIT": "Percentage of total population",
          "Value": 26.9
         },
         {
          "AGE": "From 25 to 54 years",
          "DATE": "2015-01-01T00:00:00",
          "GEO": "Poland",
          "INDIC_EM": "Active population",
          "SEX": "Males",
          "UNIT": "Percentage of total population",
          "Value": 90.6
         },
         {
          "AGE": "From 25 to 54 years",
          "DATE": "2015-01-01T00:00:00",
          "GEO": "Poland",
          "INDIC_EM": "Active population",
          "SEX": "Females",
          "UNIT": "Percentage of total population",
          "Value": 79.6
         },
         {
          "AGE": "From 55 to 64 years",
          "DATE": "2015-01-01T00:00:00",
          "GEO": "Poland",
          "INDIC_EM": "Active population",
          "SEX": "Males",
          "UNIT": "Percentage of total population",
          "Value": 57.5
         },
         {
          "AGE": "From 55 to 64 years",
          "DATE": "2015-01-01T00:00:00",
          "GEO": "Poland",
          "INDIC_EM": "Active population",
          "SEX": "Females",
          "UNIT": "Percentage of total population",
          "Value": 37.3
         },
         {
          "AGE": "From 15 to 24 years",
          "DATE": "2015-01-01T00:00:00",
          "GEO": "Portugal",
          "INDIC_EM": "Active population",
          "SEX": "Males",
          "UNIT": "Percentage of total population",
          "Value": 34.2
         },
         {
          "AGE": "From 15 to 24 years",
          "DATE": "2015-01-01T00:00:00",
          "GEO": "Portugal",
          "INDIC_EM": "Active population",
          "SEX": "Females",
          "UNIT": "Percentage of total population",
          "Value": 32.8
         },
         {
          "AGE": "From 25 to 54 years",
          "DATE": "2015-01-01T00:00:00",
          "GEO": "Portugal",
          "INDIC_EM": "Active population",
          "SEX": "Males",
          "UNIT": "Percentage of total population",
          "Value": 91.7
         },
         {
          "AGE": "From 25 to 54 years",
          "DATE": "2015-01-01T00:00:00",
          "GEO": "Portugal",
          "INDIC_EM": "Active population",
          "SEX": "Females",
          "UNIT": "Percentage of total population",
          "Value": 86
         },
         {
          "AGE": "From 55 to 64 years",
          "DATE": "2015-01-01T00:00:00",
          "GEO": "Portugal",
          "INDIC_EM": "Active population",
          "SEX": "Males",
          "UNIT": "Percentage of total population",
          "Value": 65
         },
         {
          "AGE": "From 55 to 64 years",
          "DATE": "2015-01-01T00:00:00",
          "GEO": "Portugal",
          "INDIC_EM": "Active population",
          "SEX": "Females",
          "UNIT": "Percentage of total population",
          "Value": 49.9
         },
         {
          "AGE": "From 15 to 24 years",
          "DATE": "2015-01-01T00:00:00",
          "GEO": "Romania",
          "INDIC_EM": "Active population",
          "SEX": "Males",
          "UNIT": "Percentage of total population",
          "Value": 37
         },
         {
          "AGE": "From 15 to 24 years",
          "DATE": "2015-01-01T00:00:00",
          "GEO": "Romania",
          "INDIC_EM": "Active population",
          "SEX": "Females",
          "UNIT": "Percentage of total population",
          "Value": 25.2
         },
         {
          "AGE": "From 25 to 54 years",
          "DATE": "2015-01-01T00:00:00",
          "GEO": "Romania",
          "INDIC_EM": "Active population",
          "SEX": "Males",
          "UNIT": "Percentage of total population",
          "Value": 91.6
         },
         {
          "AGE": "From 25 to 54 years",
          "DATE": "2015-01-01T00:00:00",
          "GEO": "Romania",
          "INDIC_EM": "Active population",
          "SEX": "Females",
          "UNIT": "Percentage of total population",
          "Value": 72.9
         },
         {
          "AGE": "From 55 to 64 years",
          "DATE": "2015-01-01T00:00:00",
          "GEO": "Romania",
          "INDIC_EM": "Active population",
          "SEX": "Males",
          "UNIT": "Percentage of total population",
          "Value": 53.8
         },
         {
          "AGE": "From 55 to 64 years",
          "DATE": "2015-01-01T00:00:00",
          "GEO": "Romania",
          "INDIC_EM": "Active population",
          "SEX": "Females",
          "UNIT": "Percentage of total population",
          "Value": 32.8
         },
         {
          "AGE": "From 15 to 24 years",
          "DATE": "2015-01-01T00:00:00",
          "GEO": "Slovenia",
          "INDIC_EM": "Active population",
          "SEX": "Males",
          "UNIT": "Percentage of total population",
          "Value": 38.9
         },
         {
          "AGE": "From 15 to 24 years",
          "DATE": "2015-01-01T00:00:00",
          "GEO": "Slovenia",
          "INDIC_EM": "Active population",
          "SEX": "Females",
          "UNIT": "Percentage of total population",
          "Value": 31.7
         },
         {
          "AGE": "From 25 to 54 years",
          "DATE": "2015-01-01T00:00:00",
          "GEO": "Slovenia",
          "INDIC_EM": "Active population",
          "SEX": "Males",
          "UNIT": "Percentage of total population",
          "Value": 92.9
         },
         {
          "AGE": "From 25 to 54 years",
          "DATE": "2015-01-01T00:00:00",
          "GEO": "Slovenia",
          "INDIC_EM": "Active population",
          "SEX": "Females",
          "UNIT": "Percentage of total population",
          "Value": 88.6
         },
         {
          "AGE": "From 55 to 64 years",
          "DATE": "2015-01-01T00:00:00",
          "GEO": "Slovenia",
          "INDIC_EM": "Active population",
          "SEX": "Males",
          "UNIT": "Percentage of total population",
          "Value": 46.4
         },
         {
          "AGE": "From 55 to 64 years",
          "DATE": "2015-01-01T00:00:00",
          "GEO": "Slovenia",
          "INDIC_EM": "Active population",
          "SEX": "Females",
          "UNIT": "Percentage of total population",
          "Value": 32.9
         },
         {
          "AGE": "From 15 to 24 years",
          "DATE": "2015-01-01T00:00:00",
          "GEO": "Slovakia",
          "INDIC_EM": "Active population",
          "SEX": "Males",
          "UNIT": "Percentage of total population",
          "Value": 38.3
         },
         {
          "AGE": "From 15 to 24 years",
          "DATE": "2015-01-01T00:00:00",
          "GEO": "Slovakia",
          "INDIC_EM": "Active population",
          "SEX": "Females",
          "UNIT": "Percentage of total population",
          "Value": 24.9
         },
         {
          "AGE": "From 25 to 54 years",
          "DATE": "2015-01-01T00:00:00",
          "GEO": "Slovakia",
          "INDIC_EM": "Active population",
          "SEX": "Males",
          "UNIT": "Percentage of total population",
          "Value": 93.6
         },
         {
          "AGE": "From 25 to 54 years",
          "DATE": "2015-01-01T00:00:00",
          "GEO": "Slovakia",
          "INDIC_EM": "Active population",
          "SEX": "Females",
          "UNIT": "Percentage of total population",
          "Value": 80.8
         },
         {
          "AGE": "From 55 to 64 years",
          "DATE": "2015-01-01T00:00:00",
          "GEO": "Slovakia",
          "INDIC_EM": "Active population",
          "SEX": "Males",
          "UNIT": "Percentage of total population",
          "Value": 58.4
         },
         {
          "AGE": "From 55 to 64 years",
          "DATE": "2015-01-01T00:00:00",
          "GEO": "Slovakia",
          "INDIC_EM": "Active population",
          "SEX": "Females",
          "UNIT": "Percentage of total population",
          "Value": 45.8
         },
         {
          "AGE": "From 15 to 24 years",
          "DATE": "2015-01-01T00:00:00",
          "GEO": "Finland",
          "INDIC_EM": "Active population",
          "SEX": "Males",
          "UNIT": "Percentage of total population",
          "Value": 51.1
         },
         {
          "AGE": "From 15 to 24 years",
          "DATE": "2015-01-01T00:00:00",
          "GEO": "Finland",
          "INDIC_EM": "Active population",
          "SEX": "Females",
          "UNIT": "Percentage of total population",
          "Value": 53.3
         },
         {
          "AGE": "From 25 to 54 years",
          "DATE": "2015-01-01T00:00:00",
          "GEO": "Finland",
          "INDIC_EM": "Active population",
          "SEX": "Males",
          "UNIT": "Percentage of total population",
          "Value": 89.6
         },
         {
          "AGE": "From 25 to 54 years",
          "DATE": "2015-01-01T00:00:00",
          "GEO": "Finland",
          "INDIC_EM": "Active population",
          "SEX": "Females",
          "UNIT": "Percentage of total population",
          "Value": 83.6
         },
         {
          "AGE": "From 55 to 64 years",
          "DATE": "2015-01-01T00:00:00",
          "GEO": "Finland",
          "INDIC_EM": "Active population",
          "SEX": "Males",
          "UNIT": "Percentage of total population",
          "Value": 63.2
         },
         {
          "AGE": "From 55 to 64 years",
          "DATE": "2015-01-01T00:00:00",
          "GEO": "Finland",
          "INDIC_EM": "Active population",
          "SEX": "Females",
          "UNIT": "Percentage of total population",
          "Value": 67.2
         },
         {
          "AGE": "From 15 to 24 years",
          "DATE": "2015-01-01T00:00:00",
          "GEO": "Sweden",
          "INDIC_EM": "Active population",
          "SEX": "Males",
          "UNIT": "Percentage of total population",
          "Value": 53.8
         },
         {
          "AGE": "From 15 to 24 years",
          "DATE": "2015-01-01T00:00:00",
          "GEO": "Sweden",
          "INDIC_EM": "Active population",
          "SEX": "Females",
          "UNIT": "Percentage of total population",
          "Value": 56.5
         },
         {
          "AGE": "From 25 to 54 years",
          "DATE": "2015-01-01T00:00:00",
          "GEO": "Sweden",
          "INDIC_EM": "Active population",
          "SEX": "Males",
          "UNIT": "Percentage of total population",
          "Value": 93.3
         },
         {
          "AGE": "From 25 to 54 years",
          "DATE": "2015-01-01T00:00:00",
          "GEO": "Sweden",
          "INDIC_EM": "Active population",
          "SEX": "Females",
          "UNIT": "Percentage of total population",
          "Value": 88.4
         },
         {
          "AGE": "From 55 to 64 years",
          "DATE": "2015-01-01T00:00:00",
          "GEO": "Sweden",
          "INDIC_EM": "Active population",
          "SEX": "Males",
          "UNIT": "Percentage of total population",
          "Value": 81.8
         },
         {
          "AGE": "From 55 to 64 years",
          "DATE": "2015-01-01T00:00:00",
          "GEO": "Sweden",
          "INDIC_EM": "Active population",
          "SEX": "Females",
          "UNIT": "Percentage of total population",
          "Value": 75.5
         },
         {
          "AGE": "From 15 to 24 years",
          "DATE": "2015-01-01T00:00:00",
          "GEO": "United Kingdom",
          "INDIC_EM": "Active population",
          "SEX": "Males",
          "UNIT": "Percentage of total population",
          "Value": 60.1
         },
         {
          "AGE": "From 15 to 24 years",
          "DATE": "2015-01-01T00:00:00",
          "GEO": "United Kingdom",
          "INDIC_EM": "Active population",
          "SEX": "Females",
          "UNIT": "Percentage of total population",
          "Value": 57.1
         },
         {
          "AGE": "From 25 to 54 years",
          "DATE": "2015-01-01T00:00:00",
          "GEO": "United Kingdom",
          "INDIC_EM": "Active population",
          "SEX": "Males",
          "UNIT": "Percentage of total population",
          "Value": 91.9
         },
         {
          "AGE": "From 25 to 54 years",
          "DATE": "2015-01-01T00:00:00",
          "GEO": "United Kingdom",
          "INDIC_EM": "Active population",
          "SEX": "Females",
          "UNIT": "Percentage of total population",
          "Value": 79.9
         },
         {
          "AGE": "From 55 to 64 years",
          "DATE": "2015-01-01T00:00:00",
          "GEO": "United Kingdom",
          "INDIC_EM": "Active population",
          "SEX": "Males",
          "UNIT": "Percentage of total population",
          "Value": 71.4
         },
         {
          "AGE": "From 55 to 64 years",
          "DATE": "2015-01-01T00:00:00",
          "GEO": "United Kingdom",
          "INDIC_EM": "Active population",
          "SEX": "Females",
          "UNIT": "Percentage of total population",
          "Value": 57.7
         },
         {
          "AGE": "From 15 to 24 years",
          "DATE": "2015-01-01T00:00:00",
          "GEO": "Iceland",
          "INDIC_EM": "Active population",
          "SEX": "Males",
          "UNIT": "Percentage of total population",
          "Value": 78.4
         },
         {
          "AGE": "From 15 to 24 years",
          "DATE": "2015-01-01T00:00:00",
          "GEO": "Iceland",
          "INDIC_EM": "Active population",
          "SEX": "Females",
          "UNIT": "Percentage of total population",
          "Value": 82
         },
         {
          "AGE": "From 25 to 54 years",
          "DATE": "2015-01-01T00:00:00",
          "GEO": "Iceland",
          "INDIC_EM": "Active population",
          "SEX": "Males",
          "UNIT": "Percentage of total population",
          "Value": 94.5
         },
         {
          "AGE": "From 25 to 54 years",
          "DATE": "2015-01-01T00:00:00",
          "GEO": "Iceland",
          "INDIC_EM": "Active population",
          "SEX": "Females",
          "UNIT": "Percentage of total population",
          "Value": 87.9
         },
         {
          "AGE": "From 55 to 64 years",
          "DATE": "2015-01-01T00:00:00",
          "GEO": "Iceland",
          "INDIC_EM": "Active population",
          "SEX": "Males",
          "UNIT": "Percentage of total population",
          "Value": 91.8
         },
         {
          "AGE": "From 55 to 64 years",
          "DATE": "2015-01-01T00:00:00",
          "GEO": "Iceland",
          "INDIC_EM": "Active population",
          "SEX": "Females",
          "UNIT": "Percentage of total population",
          "Value": 83.2
         },
         {
          "AGE": "From 15 to 24 years",
          "DATE": "2015-01-01T00:00:00",
          "GEO": "Norway",
          "INDIC_EM": "Active population",
          "SEX": "Males",
          "UNIT": "Percentage of total population",
          "Value": 55.2
         },
         {
          "AGE": "From 15 to 24 years",
          "DATE": "2015-01-01T00:00:00",
          "GEO": "Norway",
          "INDIC_EM": "Active population",
          "SEX": "Females",
          "UNIT": "Percentage of total population",
          "Value": 56.6
         },
         {
          "AGE": "From 25 to 54 years",
          "DATE": "2015-01-01T00:00:00",
          "GEO": "Norway",
          "INDIC_EM": "Active population",
          "SEX": "Males",
          "UNIT": "Percentage of total population",
          "Value": 89
         },
         {
          "AGE": "From 25 to 54 years",
          "DATE": "2015-01-01T00:00:00",
          "GEO": "Norway",
          "INDIC_EM": "Active population",
          "SEX": "Females",
          "UNIT": "Percentage of total population",
          "Value": 83.9
         },
         {
          "AGE": "From 55 to 64 years",
          "DATE": "2015-01-01T00:00:00",
          "GEO": "Norway",
          "INDIC_EM": "Active population",
          "SEX": "Males",
          "UNIT": "Percentage of total population",
          "Value": 76.9
         },
         {
          "AGE": "From 55 to 64 years",
          "DATE": "2015-01-01T00:00:00",
          "GEO": "Norway",
          "INDIC_EM": "Active population",
          "SEX": "Females",
          "UNIT": "Percentage of total population",
          "Value": 69.8
         },
         {
          "AGE": "From 15 to 24 years",
          "DATE": "2015-01-01T00:00:00",
          "GEO": "Switzerland",
          "INDIC_EM": "Active population",
          "SEX": "Males",
          "UNIT": "Percentage of total population",
          "Value": 65.9
         },
         {
          "AGE": "From 15 to 24 years",
          "DATE": "2015-01-01T00:00:00",
          "GEO": "Switzerland",
          "INDIC_EM": "Active population",
          "SEX": "Females",
          "UNIT": "Percentage of total population",
          "Value": 67.6
         },
         {
          "AGE": "From 25 to 54 years",
          "DATE": "2015-01-01T00:00:00",
          "GEO": "Switzerland",
          "INDIC_EM": "Active population",
          "SEX": "Males",
          "UNIT": "Percentage of total population",
          "Value": 96
         },
         {
          "AGE": "From 25 to 54 years",
          "DATE": "2015-01-01T00:00:00",
          "GEO": "Switzerland",
          "INDIC_EM": "Active population",
          "SEX": "Females",
          "UNIT": "Percentage of total population",
          "Value": 85.9
         },
         {
          "AGE": "From 55 to 64 years",
          "DATE": "2015-01-01T00:00:00",
          "GEO": "Switzerland",
          "INDIC_EM": "Active population",
          "SEX": "Males",
          "UNIT": "Percentage of total population",
          "Value": 82.5
         },
         {
          "AGE": "From 55 to 64 years",
          "DATE": "2015-01-01T00:00:00",
          "GEO": "Switzerland",
          "INDIC_EM": "Active population",
          "SEX": "Females",
          "UNIT": "Percentage of total population",
          "Value": 69.1
         },
         {
          "AGE": "From 15 to 24 years",
          "DATE": "2015-01-01T00:00:00",
          "GEO": "Former Yugoslav Republic of Macedonia, the",
          "INDIC_EM": "Active population",
          "SEX": "Males",
          "UNIT": "Percentage of total population",
          "Value": 40.1
         },
         {
          "AGE": "From 15 to 24 years",
          "DATE": "2015-01-01T00:00:00",
          "GEO": "Former Yugoslav Republic of Macedonia, the",
          "INDIC_EM": "Active population",
          "SEX": "Females",
          "UNIT": "Percentage of total population",
          "Value": 25.1
         },
         {
          "AGE": "From 25 to 54 years",
          "DATE": "2015-01-01T00:00:00",
          "GEO": "Former Yugoslav Republic of Macedonia, the",
          "INDIC_EM": "Active population",
          "SEX": "Males",
          "UNIT": "Percentage of total population",
          "Value": 91.8
         },
         {
          "AGE": "From 25 to 54 years",
          "DATE": "2015-01-01T00:00:00",
          "GEO": "Former Yugoslav Republic of Macedonia, the",
          "INDIC_EM": "Active population",
          "SEX": "Females",
          "UNIT": "Percentage of total population",
          "Value": 65.3
         },
         {
          "AGE": "From 55 to 64 years",
          "DATE": "2015-01-01T00:00:00",
          "GEO": "Former Yugoslav Republic of Macedonia, the",
          "INDIC_EM": "Active population",
          "SEX": "Males",
          "UNIT": "Percentage of total population",
          "Value": 67.4
         },
         {
          "AGE": "From 55 to 64 years",
          "DATE": "2015-01-01T00:00:00",
          "GEO": "Former Yugoslav Republic of Macedonia, the",
          "INDIC_EM": "Active population",
          "SEX": "Females",
          "UNIT": "Percentage of total population",
          "Value": 34.2
         },
         {
          "AGE": "From 15 to 24 years",
          "DATE": "2015-01-01T00:00:00",
          "GEO": "Turkey",
          "INDIC_EM": "Active population",
          "SEX": "Males",
          "UNIT": "Percentage of total population",
          "Value": 54
         },
         {
          "AGE": "From 15 to 24 years",
          "DATE": "2015-01-01T00:00:00",
          "GEO": "Turkey",
          "INDIC_EM": "Active population",
          "SEX": "Females",
          "UNIT": "Percentage of total population",
          "Value": 29.6
         },
         {
          "AGE": "From 25 to 54 years",
          "DATE": "2015-01-01T00:00:00",
          "GEO": "Turkey",
          "INDIC_EM": "Active population",
          "SEX": "Males",
          "UNIT": "Percentage of total population",
          "Value": 90.5
         },
         {
          "AGE": "From 25 to 54 years",
          "DATE": "2015-01-01T00:00:00",
          "GEO": "Turkey",
          "INDIC_EM": "Active population",
          "SEX": "Females",
          "UNIT": "Percentage of total population",
          "Value": 40.2
         },
         {
          "AGE": "From 55 to 64 years",
          "DATE": "2015-01-01T00:00:00",
          "GEO": "Turkey",
          "INDIC_EM": "Active population",
          "SEX": "Males",
          "UNIT": "Percentage of total population",
          "Value": 50.3
         },
         {
          "AGE": "From 55 to 64 years",
          "DATE": "2015-01-01T00:00:00",
          "GEO": "Turkey",
          "INDIC_EM": "Active population",
          "SEX": "Females",
          "UNIT": "Percentage of total population",
          "Value": 18.3
         }
        ]
       },
       "facet": {
        "column": {
         "field": "AGE",
         "type": "nominal"
        }
       },
       "spec": {
        "layer": [
         {
          "encoding": {
           "color": {
            "field": "SEX",
            "type": "nominal"
           },
           "x": {
            "field": "SEX",
            "type": "nominal"
           },
           "y": {
            "aggregate": "min",
            "axis": {
             "title": "Value"
            },
            "field": "Value",
            "type": "quantitative"
           },
           "y2": {
            "aggregate": "max",
            "field": "Value",
            "type": "quantitative"
           }
          },
          "height": 600,
          "mark": "rule",
          "width": 266
         },
         {
          "encoding": {
           "x": {
            "field": "SEX",
            "type": "nominal"
           },
           "y": {
            "aggregate": "min",
            "field": "Value",
            "type": "quantitative"
           }
          },
          "height": 600,
          "mark": "tick",
          "width": 266
         },
         {
          "encoding": {
           "x": {
            "field": "SEX",
            "type": "nominal"
           },
           "y": {
            "aggregate": "max",
            "field": "Value",
            "type": "quantitative"
           }
          },
          "height": 600,
          "mark": "tick",
          "width": 266
         },
         {
          "encoding": {
           "color": {
            "field": "SEX",
            "type": "nominal"
           },
           "x": {
            "field": "SEX",
            "type": "nominal"
           },
           "y": {
            "aggregate": "q1",
            "field": "Value",
            "type": "quantitative"
           },
           "y2": {
            "aggregate": "median",
            "field": "Value",
            "type": "quantitative"
           }
          },
          "height": 600,
          "mark": {
           "fill": "#4682b4",
           "stroke": "black",
           "type": "bar"
          },
          "width": 266
         },
         {
          "encoding": {
           "color": {
            "field": "SEX",
            "type": "nominal"
           },
           "x": {
            "field": "SEX",
            "type": "nominal"
           },
           "y": {
            "aggregate": "median",
            "field": "Value",
            "type": "quantitative"
           },
           "y2": {
            "aggregate": "q3",
            "field": "Value",
            "type": "quantitative"
           }
          },
          "height": 600,
          "mark": {
           "fill": "#4682b4",
           "stroke": "black",
           "type": "bar"
          },
          "width": 266
         }
        ]
       }
      },
      "image/png": "[encoded data removed]",
      "text/plain": [
       "<VegaLite 2 object>\n",
       "\n",
       "If you see this message, it means the renderer has not been properly enabled\n",
       "for the frontend that you are using. For more information, see\n",
       "https://altair-viz.github.io/user_guide/troubleshooting.html\n"
      ]
     },
     "execution_count": 8,
     "metadata": {},
     "output_type": "execute_result"
    }
   ],
   "source": [
    "ar.boxplot(chart_df, columns='Value', group_by='SEX', color=True, width= 800 // len(chart_df['AGE'].unique())).facet(column='AGE')"
   ]
  }
 ],
 "metadata": {
  "kernelspec": {
   "display_name": "Python 3",
   "language": "python",
   "name": "python3"
  },
  "language_info": {
   "codemirror_mode": {
    "name": "ipython",
    "version": 3
   },
   "file_extension": ".py",
   "mimetype": "text/x-python",
   "name": "python",
   "nbconvert_exporter": "python",
   "pygments_lexer": "ipython3",
   "version": "3.7.1"
  }
 },
 "nbformat": 4,
 "nbformat_minor": 2
}
