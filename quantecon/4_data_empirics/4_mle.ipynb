{
 "cells": [
  {
   "cell_type": "markdown",
   "metadata": {},
   "source": [
    "# Counting billionaires\n",
    "\n",
    "It's been a real long time since I did any MLE so I'm going to work through the example code before attempting the exercises"
   ]
  },
  {
   "cell_type": "code",
   "execution_count": 1,
   "metadata": {},
   "outputs": [],
   "source": [
    "import pandas as pd\n",
    "import numpy as np\n",
    "from numpy import exp\n",
    "from scipy import stats\n",
    "from scipy.special import factorial\n",
    "from statsmodels.api import Poisson\n",
    "from statsmodels.discrete.discrete_model import Probit\n",
    "import altair as alt"
   ]
  },
  {
   "cell_type": "code",
   "execution_count": 2,
   "metadata": {},
   "outputs": [
    {
     "data": {
      "application/vnd.vegalite.v2+json": {
       "$schema": "https://vega.github.io/schema/vega-lite/v2.6.0.json",
       "config": {
        "view": {
         "height": 300,
         "width": 400
        }
       },
       "data": {
        "name": "data-b0d283cd4b13e46d800bd62bcaafee02"
       },
       "datasets": {
        "data-b0d283cd4b13e46d800bd62bcaafee02": [
         {
          "value": 0.36787944117144233,
          "variable": "$\\mu$=1",
          "y": 0
         },
         {
          "value": 0.36787944117144233,
          "variable": "$\\mu$=1",
          "y": 1
         },
         {
          "value": 0.18393972058572117,
          "variable": "$\\mu$=1",
          "y": 2
         },
         {
          "value": 0.061313240195240384,
          "variable": "$\\mu$=1",
          "y": 3
         },
         {
          "value": 0.015328310048810096,
          "variable": "$\\mu$=1",
          "y": 4
         },
         {
          "value": 0.0030656620097620196,
          "variable": "$\\mu$=1",
          "y": 5
         },
         {
          "value": 0.0005109436682936699,
          "variable": "$\\mu$=1",
          "y": 6
         },
         {
          "value": 7.299195261338141e-05,
          "variable": "$\\mu$=1",
          "y": 7
         },
         {
          "value": 9.123994076672677e-06,
          "variable": "$\\mu$=1",
          "y": 8
         },
         {
          "value": 1.0137771196302976e-06,
          "variable": "$\\mu$=1",
          "y": 9
         },
         {
          "value": 1.0137771196302974e-07,
          "variable": "$\\mu$=1",
          "y": 10
         },
         {
          "value": 9.216155633002704e-09,
          "variable": "$\\mu$=1",
          "y": 11
         },
         {
          "value": 7.680129694168921e-10,
          "variable": "$\\mu$=1",
          "y": 12
         },
         {
          "value": 5.90779207243763e-11,
          "variable": "$\\mu$=1",
          "y": 13
         },
         {
          "value": 4.2198514803125934e-12,
          "variable": "$\\mu$=1",
          "y": 14
         },
         {
          "value": 2.8132343202083955e-13,
          "variable": "$\\mu$=1",
          "y": 15
         },
         {
          "value": 1.7582714501302472e-14,
          "variable": "$\\mu$=1",
          "y": 16
         },
         {
          "value": 1.0342773236060278e-15,
          "variable": "$\\mu$=1",
          "y": 17
         },
         {
          "value": 5.745985131144598e-17,
          "variable": "$\\mu$=1",
          "y": 18
         },
         {
          "value": 3.0242027006024205e-18,
          "variable": "$\\mu$=1",
          "y": 19
         },
         {
          "value": 1.5121013503012103e-19,
          "variable": "$\\mu$=1",
          "y": 20
         },
         {
          "value": 7.200482620481953e-21,
          "variable": "$\\mu$=1",
          "y": 21
         },
         {
          "value": 3.2729466456736155e-22,
          "variable": "$\\mu$=1",
          "y": 22
         },
         {
          "value": 1.4230202807276587e-23,
          "variable": "$\\mu$=1",
          "y": 23
         },
         {
          "value": 5.929251169698579e-25,
          "variable": "$\\mu$=1",
          "y": 24
         },
         {
          "value": 0.006737946999085467,
          "variable": "$\\mu$=5",
          "y": 0
         },
         {
          "value": 0.03368973499542734,
          "variable": "$\\mu$=5",
          "y": 1
         },
         {
          "value": 0.08422433748856833,
          "variable": "$\\mu$=5",
          "y": 2
         },
         {
          "value": 0.14037389581428056,
          "variable": "$\\mu$=5",
          "y": 3
         },
         {
          "value": 0.1754673697678507,
          "variable": "$\\mu$=5",
          "y": 4
         },
         {
          "value": 0.1754673697678507,
          "variable": "$\\mu$=5",
          "y": 5
         },
         {
          "value": 0.1462228081398756,
          "variable": "$\\mu$=5",
          "y": 6
         },
         {
          "value": 0.10444486295705399,
          "variable": "$\\mu$=5",
          "y": 7
         },
         {
          "value": 0.06527803934815875,
          "variable": "$\\mu$=5",
          "y": 8
         },
         {
          "value": 0.03626557741564375,
          "variable": "$\\mu$=5",
          "y": 9
         },
         {
          "value": 0.018132788707821874,
          "variable": "$\\mu$=5",
          "y": 10
         },
         {
          "value": 0.00824217668537358,
          "variable": "$\\mu$=5",
          "y": 11
         },
         {
          "value": 0.0034342402855723243,
          "variable": "$\\mu$=5",
          "y": 12
         },
         {
          "value": 0.001320861648297048,
          "variable": "$\\mu$=5",
          "y": 13
         },
         {
          "value": 0.0004717363029632314,
          "variable": "$\\mu$=5",
          "y": 14
         },
         {
          "value": 0.00015724543432107713,
          "variable": "$\\mu$=5",
          "y": 15
         },
         {
          "value": 4.91391982253366e-05,
          "variable": "$\\mu$=5",
          "y": 16
         },
         {
          "value": 1.4452705360393117e-05,
          "variable": "$\\mu$=5",
          "y": 17
         },
         {
          "value": 4.014640377886977e-06,
          "variable": "$\\mu$=5",
          "y": 18
         },
         {
          "value": 1.0564843099702573e-06,
          "variable": "$\\mu$=5",
          "y": 19
         },
         {
          "value": 2.641210774925643e-07,
          "variable": "$\\mu$=5",
          "y": 20
         },
         {
          "value": 6.288597083156293e-08,
          "variable": "$\\mu$=5",
          "y": 21
         },
         {
          "value": 1.4292266098082485e-08,
          "variable": "$\\mu$=5",
          "y": 22
         },
         {
          "value": 3.1070143691483657e-09,
          "variable": "$\\mu$=5",
          "y": 23
         },
         {
          "value": 6.472946602392429e-10,
          "variable": "$\\mu$=5",
          "y": 24
         },
         {
          "value": 4.5399929762484854e-05,
          "variable": "$\\mu$=10",
          "y": 0
         },
         {
          "value": 0.00045399929762484856,
          "variable": "$\\mu$=10",
          "y": 1
         },
         {
          "value": 0.0022699964881242427,
          "variable": "$\\mu$=10",
          "y": 2
         },
         {
          "value": 0.007566654960414142,
          "variable": "$\\mu$=10",
          "y": 3
         },
         {
          "value": 0.018916637401035358,
          "variable": "$\\mu$=10",
          "y": 4
         },
         {
          "value": 0.037833274802070715,
          "variable": "$\\mu$=10",
          "y": 5
         },
         {
          "value": 0.06305545800345119,
          "variable": "$\\mu$=10",
          "y": 6
         },
         {
          "value": 0.09007922571921598,
          "variable": "$\\mu$=10",
          "y": 7
         },
         {
          "value": 0.11259903214901998,
          "variable": "$\\mu$=10",
          "y": 8
         },
         {
          "value": 0.1251100357211333,
          "variable": "$\\mu$=10",
          "y": 9
         },
         {
          "value": 0.1251100357211333,
          "variable": "$\\mu$=10",
          "y": 10
         },
         {
          "value": 0.1137363961101212,
          "variable": "$\\mu$=10",
          "y": 11
         },
         {
          "value": 0.09478033009176765,
          "variable": "$\\mu$=10",
          "y": 12
         },
         {
          "value": 0.07290794622443666,
          "variable": "$\\mu$=10",
          "y": 13
         },
         {
          "value": 0.05207710444602618,
          "variable": "$\\mu$=10",
          "y": 14
         },
         {
          "value": 0.03471806963068413,
          "variable": "$\\mu$=10",
          "y": 15
         },
         {
          "value": 0.021698793519177577,
          "variable": "$\\mu$=10",
          "y": 16
         },
         {
          "value": 0.012763996187751515,
          "variable": "$\\mu$=10",
          "y": 17
         },
         {
          "value": 0.007091108993195287,
          "variable": "$\\mu$=10",
          "y": 18
         },
         {
          "value": 0.0037321626279975197,
          "variable": "$\\mu$=10",
          "y": 19
         },
         {
          "value": 0.0018660813139987598,
          "variable": "$\\mu$=10",
          "y": 20
         },
         {
          "value": 0.000888610149523219,
          "variable": "$\\mu$=10",
          "y": 21
         },
         {
          "value": 0.00040391370432873584,
          "variable": "$\\mu$=10",
          "y": 22
         },
         {
          "value": 0.00017561465405597208,
          "variable": "$\\mu$=10",
          "y": 23
         },
         {
          "value": 7.317277252332172e-05,
          "variable": "$\\mu$=10",
          "y": 24
         }
        ]
       },
       "encoding": {
        "color": {
         "field": "variable",
         "title": "mu",
         "type": "ordinal"
        },
        "x": {
         "field": "y",
         "type": "quantitative"
        },
        "y": {
         "field": "value",
         "title": "f(y)",
         "type": "quantitative"
        }
       },
       "mark": "line"
      },
      "image/png": "[encoded data removed]",
      "text/plain": [
       "<VegaLite 2 object>\n",
       "\n",
       "If you see this message, it means the renderer has not been properly enabled\n",
       "for the frontend that you are using. For more information, see\n",
       "https://altair-viz.github.io/user_guide/troubleshooting.html\n"
      ]
     },
     "execution_count": 2,
     "metadata": {},
     "output_type": "execute_result"
    }
   ],
   "source": [
    "poisson_pmf = lambda y, u: u**y / factorial(y) * exp(-u)\n",
    "df = pd.DataFrame({'y': range(0, 25)})\n",
    "for u in [1, 5, 10]:\n",
    "    df[f'$\\mu$={u}'] = df['y'].apply(lambda x: poisson_pmf(x, u))\n",
    "df = df.melt(id_vars=('y'))\n",
    "alt.Chart(df).mark_line().encode(x='y:Q', y=alt.Y('value:Q', title='f(y)'), color=alt.Color('variable:O', title='mu'))\n",
    "# No pretty LaTeX in altair, maybe when https://github.com/vega/vega/issues/898 is closed"
   ]
  },
  {
   "cell_type": "code",
   "execution_count": 3,
   "metadata": {},
   "outputs": [
    {
     "data": {
      "text/html": [
       "<div>\n",
       "<style scoped>\n",
       "    .dataframe tbody tr th:only-of-type {\n",
       "        vertical-align: middle;\n",
       "    }\n",
       "\n",
       "    .dataframe tbody tr th {\n",
       "        vertical-align: top;\n",
       "    }\n",
       "\n",
       "    .dataframe thead th {\n",
       "        text-align: right;\n",
       "    }\n",
       "</style>\n",
       "<table border=\"1\" class=\"dataframe\">\n",
       "  <thead>\n",
       "    <tr style=\"text-align: right;\">\n",
       "      <th></th>\n",
       "      <th>country</th>\n",
       "      <th>ccode</th>\n",
       "      <th>year</th>\n",
       "      <th>cyear</th>\n",
       "      <th>numbil</th>\n",
       "      <th>numbil0</th>\n",
       "      <th>numbilall</th>\n",
       "      <th>netw</th>\n",
       "      <th>netw0</th>\n",
       "      <th>netwall</th>\n",
       "      <th>...</th>\n",
       "      <th>gattwto08</th>\n",
       "      <th>mcapbdol</th>\n",
       "      <th>mcapbdol08</th>\n",
       "      <th>lnmcap08</th>\n",
       "      <th>topintaxnew</th>\n",
       "      <th>topint08</th>\n",
       "      <th>rintr</th>\n",
       "      <th>noyrs</th>\n",
       "      <th>roflaw</th>\n",
       "      <th>nrrents</th>\n",
       "    </tr>\n",
       "  </thead>\n",
       "  <tbody>\n",
       "    <tr>\n",
       "      <th>0</th>\n",
       "      <td>United States</td>\n",
       "      <td>2.0</td>\n",
       "      <td>1990.0</td>\n",
       "      <td>21990.0</td>\n",
       "      <td>NaN</td>\n",
       "      <td>NaN</td>\n",
       "      <td>NaN</td>\n",
       "      <td>NaN</td>\n",
       "      <td>NaN</td>\n",
       "      <td>NaN</td>\n",
       "      <td>...</td>\n",
       "      <td>0.0</td>\n",
       "      <td>3060.000000</td>\n",
       "      <td>11737.599609</td>\n",
       "      <td>9.370638</td>\n",
       "      <td>39.799999</td>\n",
       "      <td>39.799999</td>\n",
       "      <td>4.988405</td>\n",
       "      <td>20.0</td>\n",
       "      <td>1.61</td>\n",
       "      <td>NaN</td>\n",
       "    </tr>\n",
       "    <tr>\n",
       "      <th>1</th>\n",
       "      <td>United States</td>\n",
       "      <td>2.0</td>\n",
       "      <td>1991.0</td>\n",
       "      <td>21991.0</td>\n",
       "      <td>NaN</td>\n",
       "      <td>NaN</td>\n",
       "      <td>NaN</td>\n",
       "      <td>NaN</td>\n",
       "      <td>NaN</td>\n",
       "      <td>NaN</td>\n",
       "      <td>...</td>\n",
       "      <td>0.0</td>\n",
       "      <td>4090.000000</td>\n",
       "      <td>11737.599609</td>\n",
       "      <td>9.370638</td>\n",
       "      <td>39.799999</td>\n",
       "      <td>39.799999</td>\n",
       "      <td>4.988405</td>\n",
       "      <td>20.0</td>\n",
       "      <td>1.61</td>\n",
       "      <td>NaN</td>\n",
       "    </tr>\n",
       "    <tr>\n",
       "      <th>2</th>\n",
       "      <td>United States</td>\n",
       "      <td>2.0</td>\n",
       "      <td>1992.0</td>\n",
       "      <td>21992.0</td>\n",
       "      <td>NaN</td>\n",
       "      <td>NaN</td>\n",
       "      <td>NaN</td>\n",
       "      <td>NaN</td>\n",
       "      <td>NaN</td>\n",
       "      <td>NaN</td>\n",
       "      <td>...</td>\n",
       "      <td>0.0</td>\n",
       "      <td>4490.000000</td>\n",
       "      <td>11737.599609</td>\n",
       "      <td>9.370638</td>\n",
       "      <td>39.799999</td>\n",
       "      <td>39.799999</td>\n",
       "      <td>4.988405</td>\n",
       "      <td>20.0</td>\n",
       "      <td>1.61</td>\n",
       "      <td>NaN</td>\n",
       "    </tr>\n",
       "    <tr>\n",
       "      <th>3</th>\n",
       "      <td>United States</td>\n",
       "      <td>2.0</td>\n",
       "      <td>1993.0</td>\n",
       "      <td>21993.0</td>\n",
       "      <td>NaN</td>\n",
       "      <td>NaN</td>\n",
       "      <td>NaN</td>\n",
       "      <td>NaN</td>\n",
       "      <td>NaN</td>\n",
       "      <td>NaN</td>\n",
       "      <td>...</td>\n",
       "      <td>0.0</td>\n",
       "      <td>5136.198730</td>\n",
       "      <td>11737.599609</td>\n",
       "      <td>9.370638</td>\n",
       "      <td>39.799999</td>\n",
       "      <td>39.799999</td>\n",
       "      <td>4.988405</td>\n",
       "      <td>20.0</td>\n",
       "      <td>1.61</td>\n",
       "      <td>NaN</td>\n",
       "    </tr>\n",
       "    <tr>\n",
       "      <th>4</th>\n",
       "      <td>United States</td>\n",
       "      <td>2.0</td>\n",
       "      <td>1994.0</td>\n",
       "      <td>21994.0</td>\n",
       "      <td>NaN</td>\n",
       "      <td>NaN</td>\n",
       "      <td>NaN</td>\n",
       "      <td>NaN</td>\n",
       "      <td>NaN</td>\n",
       "      <td>NaN</td>\n",
       "      <td>...</td>\n",
       "      <td>0.0</td>\n",
       "      <td>5067.016113</td>\n",
       "      <td>11737.599609</td>\n",
       "      <td>9.370638</td>\n",
       "      <td>39.799999</td>\n",
       "      <td>39.799999</td>\n",
       "      <td>4.988405</td>\n",
       "      <td>20.0</td>\n",
       "      <td>1.61</td>\n",
       "      <td>NaN</td>\n",
       "    </tr>\n",
       "  </tbody>\n",
       "</table>\n",
       "<p>5 rows × 36 columns</p>\n",
       "</div>"
      ],
      "text/plain": [
       "         country  ccode    year    cyear  numbil  numbil0  numbilall  netw  \\\n",
       "0  United States    2.0  1990.0  21990.0     NaN      NaN        NaN   NaN   \n",
       "1  United States    2.0  1991.0  21991.0     NaN      NaN        NaN   NaN   \n",
       "2  United States    2.0  1992.0  21992.0     NaN      NaN        NaN   NaN   \n",
       "3  United States    2.0  1993.0  21993.0     NaN      NaN        NaN   NaN   \n",
       "4  United States    2.0  1994.0  21994.0     NaN      NaN        NaN   NaN   \n",
       "\n",
       "   netw0  netwall  ...  gattwto08     mcapbdol    mcapbdol08  lnmcap08  \\\n",
       "0    NaN      NaN  ...        0.0  3060.000000  11737.599609  9.370638   \n",
       "1    NaN      NaN  ...        0.0  4090.000000  11737.599609  9.370638   \n",
       "2    NaN      NaN  ...        0.0  4490.000000  11737.599609  9.370638   \n",
       "3    NaN      NaN  ...        0.0  5136.198730  11737.599609  9.370638   \n",
       "4    NaN      NaN  ...        0.0  5067.016113  11737.599609  9.370638   \n",
       "\n",
       "   topintaxnew   topint08     rintr  noyrs  roflaw  nrrents  \n",
       "0    39.799999  39.799999  4.988405   20.0    1.61      NaN  \n",
       "1    39.799999  39.799999  4.988405   20.0    1.61      NaN  \n",
       "2    39.799999  39.799999  4.988405   20.0    1.61      NaN  \n",
       "3    39.799999  39.799999  4.988405   20.0    1.61      NaN  \n",
       "4    39.799999  39.799999  4.988405   20.0    1.61      NaN  \n",
       "\n",
       "[5 rows x 36 columns]"
      ]
     },
     "execution_count": 3,
     "metadata": {},
     "output_type": "execute_result"
    }
   ],
   "source": [
    "df = pd.read_stata('https://github.com/QuantEcon/QuantEcon.lectures.code/raw/master/mle/fp.dta')\n",
    "df.head()"
   ]
  },
  {
   "cell_type": "code",
   "execution_count": 4,
   "metadata": {},
   "outputs": [
    {
     "data": {
      "application/vnd.vegalite.v2+json": {
       "$schema": "https://vega.github.io/schema/vega-lite/v2.6.0.json",
       "config": {
        "view": {
         "height": 300,
         "width": 400
        }
       },
       "data": {
        "name": "data-6c1fd943bc2566f5fa4e08289394f8f9"
       },
       "datasets": {
        "data-6c1fd943bc2566f5fa4e08289394f8f9": [
         {
          "numbil0": 25
         },
         {
          "numbil0": 0
         },
         {
          "numbil0": 0
         },
         {
          "numbil0": 0
         },
         {
          "numbil0": 0
         },
         {
          "numbil0": 0
         },
         {
          "numbil0": 0
         },
         {
          "numbil0": 0
         },
         {
          "numbil0": 0
         },
         {
          "numbil0": 0
         },
         {
          "numbil0": 0
         },
         {
          "numbil0": 0
         },
         {
          "numbil0": 0
         },
         {
          "numbil0": 0
         },
         {
          "numbil0": 0
         },
         {
          "numbil0": 0
         },
         {
          "numbil0": 0
         },
         {
          "numbil0": 0
         },
         {
          "numbil0": 0
         },
         {
          "numbil0": 0
         },
         {
          "numbil0": 10
         },
         {
          "numbil0": 1
         },
         {
          "numbil0": 0
         },
         {
          "numbil0": 0
         },
         {
          "numbil0": 0
         },
         {
          "numbil0": 0
         },
         {
          "numbil0": 0
         },
         {
          "numbil0": 0
         },
         {
          "numbil0": 2
         },
         {
          "numbil0": 2
         },
         {
          "numbil0": 0
         },
         {
          "numbil0": 0
         },
         {
          "numbil0": 0
         },
         {
          "numbil0": 0
         },
         {
          "numbil0": 18
         },
         {
          "numbil0": 0
         },
         {
          "numbil0": 0
         },
         {
          "numbil0": 4
         },
         {
          "numbil0": 1
         },
         {
          "numbil0": 0
         },
         {
          "numbil0": 0
         },
         {
          "numbil0": 35
         },
         {
          "numbil0": 0
         },
         {
          "numbil0": 0
         },
         {
          "numbil0": 6
         },
         {
          "numbil0": 5
         },
         {
          "numbil0": 2
         },
         {
          "numbil0": 0
         },
         {
          "numbil0": 14
         },
         {
          "numbil0": 1
         },
         {
          "numbil0": 0
         },
         {
          "numbil0": 11
         },
         {
          "numbil0": 18
         },
         {
          "numbil0": 0
         },
         {
          "numbil0": 4
         },
         {
          "numbil0": 59
         },
         {
          "numbil0": 6
         },
         {
          "numbil0": 4
         },
         {
          "numbil0": 0
         },
         {
          "numbil0": 1
         },
         {
          "numbil0": 0
         },
         {
          "numbil0": 13
         },
         {
          "numbil0": 0
         },
         {
          "numbil0": 0
         },
         {
          "numbil0": 0
         },
         {
          "numbil0": 0
         },
         {
          "numbil0": 0
         },
         {
          "numbil0": 0
         },
         {
          "numbil0": 0
         },
         {
          "numbil0": 0
         },
         {
          "numbil0": 0
         },
         {
          "numbil0": 0
         },
         {
          "numbil0": 4
         },
         {
          "numbil0": 2
         },
         {
          "numbil0": 0
         },
         {
          "numbil0": 0
         },
         {
          "numbil0": 2
         },
         {
          "numbil0": 87
         },
         {
          "numbil0": 0
         },
         {
          "numbil0": 0
         },
         {
          "numbil0": 0
         },
         {
          "numbil0": 7
         },
         {
          "numbil0": 0
         },
         {
          "numbil0": 0
         },
         {
          "numbil0": 0
         },
         {
          "numbil0": 0
         },
         {
          "numbil0": 0
         },
         {
          "numbil0": 10
         },
         {
          "numbil0": 4
         },
         {
          "numbil0": 1
         },
         {
          "numbil0": 2
         },
         {
          "numbil0": 0
         },
         {
          "numbil0": 0
         },
         {
          "numbil0": 0
         },
         {
          "numbil0": 0
         },
         {
          "numbil0": 0
         },
         {
          "numbil0": 0
         },
         {
          "numbil0": 0
         },
         {
          "numbil0": 0
         },
         {
          "numbil0": 0
         },
         {
          "numbil0": 0
         },
         {
          "numbil0": 0
         },
         {
          "numbil0": 0
         },
         {
          "numbil0": 0
         },
         {
          "numbil0": 0
         },
         {
          "numbil0": 0
         },
         {
          "numbil0": 0
         },
         {
          "numbil0": 0
         },
         {
          "numbil0": 0
         },
         {
          "numbil0": 0
         },
         {
          "numbil0": 1
         },
         {
          "numbil0": 0
         },
         {
          "numbil0": 0
         },
         {
          "numbil0": 0
         },
         {
          "numbil0": 0
         },
         {
          "numbil0": 0
         },
         {
          "numbil0": 0
         },
         {
          "numbil0": 0
         },
         {
          "numbil0": 0
         },
         {
          "numbil0": 0
         },
         {
          "numbil0": 0
         },
         {
          "numbil0": 0
         },
         {
          "numbil0": 0
         },
         {
          "numbil0": 0
         },
         {
          "numbil0": 0
         },
         {
          "numbil0": 0
         },
         {
          "numbil0": 0
         },
         {
          "numbil0": 0
         },
         {
          "numbil0": 0
         },
         {
          "numbil0": 0
         },
         {
          "numbil0": 4
         },
         {
          "numbil0": 0
         },
         {
          "numbil0": 0
         },
         {
          "numbil0": 0
         },
         {
          "numbil0": 0
         },
         {
          "numbil0": 0
         },
         {
          "numbil0": 0
         },
         {
          "numbil0": 0
         },
         {
          "numbil0": 0
         },
         {
          "numbil0": 0
         },
         {
          "numbil0": 0
         },
         {
          "numbil0": 0
         },
         {
          "numbil0": 0
         },
         {
          "numbil0": 0
         },
         {
          "numbil0": 0
         },
         {
          "numbil0": 0
         },
         {
          "numbil0": 35
         },
         {
          "numbil0": 0
         },
         {
          "numbil0": 4
         },
         {
          "numbil0": 0
         },
         {
          "numbil0": 7
         },
         {
          "numbil0": 0
         },
         {
          "numbil0": 9
         },
         {
          "numbil0": 13
         },
         {
          "numbil0": 0
         },
         {
          "numbil0": 4
         },
         {
          "numbil0": 0
         },
         {
          "numbil0": 0
         },
         {
          "numbil0": 6
         },
         {
          "numbil0": 1
         },
         {
          "numbil0": 0
         },
         {
          "numbil0": 0
         },
         {
          "numbil0": 0
         },
         {
          "numbil0": 0
         },
         {
          "numbil0": 0
         },
         {
          "numbil0": 6
         },
         {
          "numbil0": 42
         },
         {
          "numbil0": 0
         },
         {
          "numbil0": 0
         },
         {
          "numbil0": 7
         },
         {
          "numbil0": 0
         },
         {
          "numbil0": 12
         },
         {
          "numbil0": 24
         },
         {
          "numbil0": 53
         },
         {
          "numbil0": 0
         },
         {
          "numbil0": 0
         },
         {
          "numbil0": 0
         },
         {
          "numbil0": 0
         },
         {
          "numbil0": 0
         },
         {
          "numbil0": 0
         },
         {
          "numbil0": 0
         },
         {
          "numbil0": 3
         },
         {
          "numbil0": 0
         },
         {
          "numbil0": 0
         },
         {
          "numbil0": 0
         },
         {
          "numbil0": 8
         },
         {
          "numbil0": 5
         },
         {
          "numbil0": 0
         },
         {
          "numbil0": 2
         },
         {
          "numbil0": 5
         },
         {
          "numbil0": 0
         },
         {
          "numbil0": 14
         },
         {
          "numbil0": 0
         },
         {
          "numbil0": 4
         },
         {
          "numbil0": 0
         },
         {
          "numbil0": 0
         },
         {
          "numbil0": 0
         },
         {
          "numbil0": 0
         },
         {
          "numbil0": 0
         },
         {
          "numbil0": 0
         },
         {
          "numbil0": 0
         },
         {
          "numbil0": 0
         },
         {
          "numbil0": 0
         },
         {
          "numbil0": 0
         },
         {
          "numbil0": 0
         },
         {
          "numbil0": 0
         },
         {
          "numbil0": 0
         },
         {
          "numbil0": 0
         },
         {
          "numbil0": 0
         },
         {
          "numbil0": 26
         },
         {
          "numbil0": 0
         },
         {
          "numbil0": 0
         }
        ]
       },
       "encoding": {
        "x": {
         "bin": true,
         "field": "numbil0",
         "type": "quantitative"
        },
        "y": {
         "aggregate": "count",
         "type": "quantitative"
        }
       },
       "mark": "bar"
      },
      "image/png": "[encoded data removed]",
      "text/plain": [
       "<VegaLite 2 object>\n",
       "\n",
       "If you see this message, it means the renderer has not been properly enabled\n",
       "for the frontend that you are using. For more information, see\n",
       "https://altair-viz.github.io/user_guide/troubleshooting.html\n"
      ]
     },
     "execution_count": 4,
     "metadata": {},
     "output_type": "execute_result"
    }
   ],
   "source": [
    "bil_08_mask = (\n",
    "    (df['country'] != 'United States') &\n",
    "    (df['year'] == 2008)\n",
    ")\n",
    "numbil_08 = df.loc[bil_08_mask, 'numbil0'].copy().to_frame()\n",
    "alt.Chart(numbil_08).mark_bar().encode(x=alt.X('numbil0:Q', bin=True), y='count()')"
   ]
  },
  {
   "cell_type": "markdown",
   "metadata": {},
   "source": [
    "Standard poisson:\n",
    "\n",
    "$$f(y) = \\frac{\\mu^{y}}{y!} e^{-\\mu}, \\qquad y = 0, 1, 2, \\ldots, \\infty$$\n",
    "\n",
    "Poisson regression model: \n",
    "\n",
    "$$f(y_i \\mid \\mathbf{x}_i) = \\frac{\\mu_i^{y_i}}{y_i!} e^{-\\mu_i}; \\qquad y_i = 0, 1, 2, \\ldots , \\infty . \\tag{1}$$\n",
    "\n",
    "$$\\text{where}\\ \\mu_i\n",
    "     = \\exp(\\mathbf{x}_i' \\boldsymbol{\\beta})\n",
    "     = \\exp(\\beta_0 + \\beta_1 x_{i1} + \\ldots + \\beta_k x_{ik})\n",
    "     $$"
   ]
  },
  {
   "cell_type": "code",
   "execution_count": 5,
   "metadata": {},
   "outputs": [
    {
     "data": {
      "application/vnd.vegalite.v2+json": {
       "$schema": "https://vega.github.io/schema/vega-lite/v2.6.0.json",
       "config": {
        "view": {
         "height": 300,
         "width": 400
        }
       },
       "data": {
        "name": "data-11b735ef0fc9ef07b62047be077f5830"
       },
       "datasets": {
        "data-11b735ef0fc9ef07b62047be077f5830": [
         {
          "value": 0.4082669067317197,
          "variable": "$\\mu$=0.9",
          "y": 0
         },
         {
          "value": 0.3657394313621985,
          "variable": "$\\mu$=0.9",
          "y": 1
         },
         {
          "value": 0.1638209336190995,
          "variable": "$\\mu$=0.9",
          "y": 2
         },
         {
          "value": 0.04891879480404532,
          "variable": "$\\mu$=0.9",
          "y": 3
         },
         {
          "value": 0.01095578156075756,
          "variable": "$\\mu$=0.9",
          "y": 4
         },
         {
          "value": 0.001962912620195779,
          "variable": "$\\mu$=0.9",
          "y": 5
         },
         {
          "value": 0.0002930740216292881,
          "variable": "$\\mu$=0.9",
          "y": 6
         },
         {
          "value": 3.750653039202133e-05,
          "variable": "$\\mu$=0.9",
          "y": 7
         },
         {
          "value": 4.199953777713673e-06,
          "variable": "$\\mu$=0.9",
          "y": 8
         },
         {
          "value": 4.1805132897150165e-07,
          "variable": "$\\mu$=0.9",
          "y": 9
         },
         {
          "value": 3.745046507987496e-08,
          "variable": "$\\mu$=0.9",
          "y": 10
         },
         {
          "value": 3.04994590920751e-09,
          "variable": "$\\mu$=0.9",
          "y": 11
         },
         {
          "value": 2.276871380230078e-10,
          "variable": "$\\mu$=0.9",
          "y": 12
         },
         {
          "value": 1.5689993108383268e-11,
          "variable": "$\\mu$=0.9",
          "y": 13
         },
         {
          "value": 1.0039736720755008e-12,
          "variable": "$\\mu$=0.9",
          "y": 14
         },
         {
          "value": 5.995959242561575e-14,
          "variable": "$\\mu$=0.9",
          "y": 15
         },
         {
          "value": 3.3571156020833604e-15,
          "variable": "$\\mu$=0.9",
          "y": 16
         },
         {
          "value": 1.769069854401665e-16,
          "variable": "$\\mu$=0.9",
          "y": 17
         },
         {
          "value": 8.804406462761505e-18,
          "variable": "$\\mu$=0.9",
          "y": 18
         },
         {
          "value": 4.1512041317721666e-19,
          "variable": "$\\mu$=0.9",
          "y": 19
         },
         {
          "value": 0.04117461817785292,
          "variable": "$\\mu$=3e+00",
          "y": 0
         },
         {
          "value": 0.1313442846569114,
          "variable": "$\\mu$=3e+00",
          "y": 1
         },
         {
          "value": 0.20948975212737905,
          "variable": "$\\mu$=3e+00",
          "y": 2
         },
         {
          "value": 0.22275277710548597,
          "variable": "$\\mu$=3e+00",
          "y": 3
         },
         {
          "value": 0.17764162400902028,
          "variable": "$\\mu$=3e+00",
          "y": 4
         },
         {
          "value": 0.11333298552993872,
          "variable": "$\\mu$=3e+00",
          "y": 5
         },
         {
          "value": 0.06025411030392426,
          "variable": "$\\mu$=3e+00",
          "y": 6
         },
         {
          "value": 0.027458084497323298,
          "variable": "$\\mu$=3e+00",
          "y": 7
         },
         {
          "value": 0.010948682179552693,
          "variable": "$\\mu$=3e+00",
          "y": 8
         },
         {
          "value": 0.003880618401575046,
          "variable": "$\\mu$=3e+00",
          "y": 9
         },
         {
          "value": 0.001237891377109304,
          "variable": "$\\mu$=3e+00",
          "y": 10
         },
         {
          "value": 0.0003589809905507507,
          "variable": "$\\mu$=3e+00",
          "y": 11
         },
         {
          "value": 9.542711727091578e-05,
          "variable": "$\\mu$=3e+00",
          "y": 12
         },
         {
          "value": 2.3415856678948905e-05,
          "variable": "$\\mu$=3e+00",
          "y": 13
         },
         {
          "value": 5.335358600639038e-06,
          "variable": "$\\mu$=3e+00",
          "y": 14
         },
         {
          "value": 1.1346291960127433e-06,
          "variable": "$\\mu$=3e+00",
          "y": 15
         },
         {
          "value": 2.262119642758752e-07,
          "variable": "$\\mu$=3e+00",
          "y": 16
         },
         {
          "value": 4.244712189995412e-08,
          "variable": "$\\mu$=3e+00",
          "y": 17
         },
         {
          "value": 7.522415923556871e-09,
          "variable": "$\\mu$=3e+00",
          "y": 18
         },
         {
          "value": 1.262947624807386e-09,
          "variable": "$\\mu$=3e+00",
          "y": 19
         },
         {
          "value": 0.0005737496840189352,
          "variable": "$\\mu$=7e+00",
          "y": 0
         },
         {
          "value": 0.004282075969757426,
          "variable": "$\\mu$=7e+00",
          "y": 1
         },
         {
          "value": 0.015979245933814633,
          "variable": "$\\mu$=7e+00",
          "y": 2
         },
         {
          "value": 0.03975272779163949,
          "variable": "$\\mu$=7e+00",
          "y": 3
         },
         {
          "value": 0.07417180573265021,
          "variable": "$\\mu$=7e+00",
          "y": 4
         },
         {
          "value": 0.11071354488129555,
          "variable": "$\\mu$=7e+00",
          "y": 5
         },
         {
          "value": 0.1377150533492959,
          "variable": "$\\mu$=7e+00",
          "y": 6
         },
         {
          "value": 0.14683016380696978,
          "variable": "$\\mu$=7e+00",
          "y": 7
         },
         {
          "value": 0.13698001358128462,
          "variable": "$\\mu$=7e+00",
          "y": 8
         },
         {
          "value": 0.11359170128858004,
          "variable": "$\\mu$=7e+00",
          "y": 9
         },
         {
          "value": 0.08477709147385595,
          "variable": "$\\mu$=7e+00",
          "y": 10
         },
         {
          "value": 0.057519848859281415,
          "variable": "$\\mu$=7e+00",
          "y": 11
         },
         {
          "value": 0.0357740738172211,
          "variable": "$\\mu$=7e+00",
          "y": 12
         },
         {
          "value": 0.02053794351571874,
          "variable": "$\\mu$=7e+00",
          "y": 13
         },
         {
          "value": 0.010948656437080392,
          "variable": "$\\mu$=7e+00",
          "y": 14
         },
         {
          "value": 0.005447553167780004,
          "variable": "$\\mu$=7e+00",
          "y": 15
         },
         {
          "value": 0.0025410511285960087,
          "variable": "$\\mu$=7e+00",
          "y": 16
         },
         {
          "value": 0.0011155688804985655,
          "variable": "$\\mu$=7e+00",
          "y": 17
         },
         {
          "value": 0.0004625469209974666,
          "variable": "$\\mu$=7e+00",
          "y": 18
         },
         {
          "value": 0.00018169128733839336,
          "variable": "$\\mu$=7e+00",
          "y": 19
         },
         {
          "value": 0.010334936860641927,
          "variable": "$\\mu$=5e+00",
          "y": 0
         },
         {
          "value": 0.04725365870443043,
          "variable": "$\\mu$=5e+00",
          "y": 1
         },
         {
          "value": 0.10802718444552267,
          "variable": "$\\mu$=5e+00",
          "y": 2
         },
         {
          "value": 0.164641538160696,
          "variable": "$\\mu$=5e+00",
          "y": 3
         },
         {
          "value": 0.18819454723632334,
          "variable": "$\\mu$=5e+00",
          "y": 4
         },
         {
          "value": 0.17209357009245774,
          "variable": "$\\mu$=5e+00",
          "y": 5
         },
         {
          "value": 0.13114175951644974,
          "variable": "$\\mu$=5e+00",
          "y": 6
         },
         {
          "value": 0.08565852242805506,
          "variable": "$\\mu$=5e+00",
          "y": 7
         },
         {
          "value": 0.048956256803025386,
          "variable": "$\\mu$=5e+00",
          "y": 8
         },
         {
          "value": 0.024871003423849153,
          "variable": "$\\mu$=5e+00",
          "y": 9
         },
         {
          "value": 0.011371582848299,
          "variable": "$\\mu$=5e+00",
          "y": 10
         },
         {
          "value": 0.004726676146149011,
          "variable": "$\\mu$=5e+00",
          "y": 11
         },
         {
          "value": 0.0018009523137249956,
          "variable": "$\\mu$=5e+00",
          "y": 12
         },
         {
          "value": 0.0006334122726202302,
          "variable": "$\\mu$=5e+00",
          "y": 13
         },
         {
          "value": 0.00020686453941331929,
          "variable": "$\\mu$=5e+00",
          "y": 14
         },
         {
          "value": 6.305541727247044e-05,
          "variable": "$\\mu$=5e+00",
          "y": 15
         },
         {
          "value": 1.8018972971461963e-05,
          "variable": "$\\mu$=5e+00",
          "y": 16
         },
         {
          "value": 4.846282482982586e-06,
          "variable": "$\\mu$=5e+00",
          "y": 17
         },
         {
          "value": 1.2310163817482822e-06,
          "variable": "$\\mu$=5e+00",
          "y": 18
         },
         {
          "value": 2.9623600611906496e-07,
          "variable": "$\\mu$=5e+00",
          "y": 19
         }
        ]
       },
       "encoding": {
        "color": {
         "field": "variable",
         "title": "mu",
         "type": "ordinal"
        },
        "x": {
         "field": "y",
         "type": "quantitative"
        },
        "y": {
         "field": "value",
         "title": "f(y)",
         "type": "quantitative"
        }
       },
       "mark": "line"
      },
      "image/png": "[encoded data removed]",
      "text/plain": [
       "<VegaLite 2 object>\n",
       "\n",
       "If you see this message, it means the renderer has not been properly enabled\n",
       "for the frontend that you are using. For more information, see\n",
       "https://altair-viz.github.io/user_guide/troubleshooting.html\n"
      ]
     },
     "execution_count": 5,
     "metadata": {},
     "output_type": "execute_result"
    }
   ],
   "source": [
    "df = pd.DataFrame({'y': range(0, 20)})\n",
    "\n",
    "# Create some parameters\n",
    "beta = np.array([0.26, 0.18, 0.25, -0.1, -0.22]).T\n",
    "# Create some observations X\n",
    "datasets = [np.array([0, 1, 1, 1, 2]),\n",
    "            np.array([2, 3, 2, 4, 0]),\n",
    "            np.array([3, 4, 5, 3, 2]),\n",
    "            np.array([6, 5, 4, 4, 7])]\n",
    "for X in datasets:\n",
    "    u = exp(X @ beta)\n",
    "    df[f'$\\mu$={u:.1}'] = df['y'].apply(lambda x: poisson_pmf(x, u))\n",
    "df = df.melt(id_vars=('y'))\n",
    "alt.Chart(df).mark_line().encode(x='y:Q', y=alt.Y('value:Q', title='f(y)'), color=alt.Color('variable:O', title='mu'))"
   ]
  },
  {
   "cell_type": "code",
   "execution_count": 6,
   "metadata": {},
   "outputs": [],
   "source": [
    "class PoissonRegression:\n",
    "    \n",
    "    def __init__(self, y, x, beta):\n",
    "        self.y, self.x, self.beta = y, x, beta\n",
    "        self.n, self.k = x.shape\n",
    "\n",
    "    def mu(self):\n",
    "        return exp(self.x @ self.beta.T)\n",
    "    \n",
    "    def log_like(self):\n",
    "        y = self.y\n",
    "        mu = self.mu()\n",
    "        return np.sum(y * np.log(mu) - mu - np.log(factorial(y)))\n",
    "\n",
    "    def g(self):\n",
    "        mu, y, x, k = self.mu(), self.y, self.x, self.k\n",
    "        return ((y - mu) @ x).reshape(k, 1)\n",
    "    \n",
    "    def h(self):\n",
    "        x, mu = self.x, self.mu()\n",
    "        return -(mu * x.T @ x)\n",
    "\n",
    "    \n",
    "def newton_raphson(model, tol=1e-3, max_iter=1000, display=True):\n",
    "    i = 0\n",
    "    error = 100 + tol # make sure we don't start below tolerance\n",
    "    if display:\n",
    "        header = f'{\"Iteration_k\":<13}{\"Log-likelihood\":<16}{\"θ\":<60}'\n",
    "        print(header)\n",
    "        print(\"-\" * len(header))\n",
    "    \n",
    "    while np.any(error > tol) and i < max_iter:\n",
    "        h, g = model.h(), model.g()\n",
    "        beta_update = model.beta - (np.linalg.inv(h) @ g).T\n",
    "        error = beta_update - model.beta\n",
    "        model.beta = beta_update.flatten()\n",
    "        \n",
    "        if display:\n",
    "            beta_list = [f'{t:.3}' for t in list(model.beta)]\n",
    "            update = f'{i:<13}{model.log_like():<16.8}{beta_list}'\n",
    "            print(update)\n",
    "        \n",
    "        i += 1\n",
    "    \n",
    "    print(f'Number of iterations: {i}')\n",
    "    print(f'beta_hat = {model.beta}')\n",
    "    return model.beta"
   ]
  },
  {
   "cell_type": "code",
   "execution_count": 7,
   "metadata": {},
   "outputs": [
    {
     "name": "stdout",
     "output_type": "stream",
     "text": [
      "Iteration_k  Log-likelihood  θ                                                           \n",
      "-----------------------------------------------------------------------------------------\n",
      "0            -4.3447622      ['-1.49', '0.265', '0.244']\n",
      "1            -3.5742413      ['-3.38', '0.528', '0.474']\n",
      "2            -3.3999526      ['-5.06', '0.782', '0.702']\n",
      "3            -3.3788646      ['-5.92', '0.909', '0.82']\n",
      "4            -3.3783559      ['-6.07', '0.933', '0.843']\n",
      "5            -3.3783555      ['-6.08', '0.933', '0.843']\n",
      "Number of iterations: 6\n",
      "beta_hat = [-6.07848205  0.93340226  0.84329625]\n"
     ]
    }
   ],
   "source": [
    "x = np.array([[1, 2, 5],\n",
    "              [1, 1, 3],\n",
    "              [1, 4, 2],\n",
    "              [1, 5, 2],\n",
    "              [1, 3, 1]])\n",
    "\n",
    "y = np.array([1, 0, 1, 1, 0])\n",
    "\n",
    "# Take a guess at initial betas\n",
    "init_beta = np.array([0.1, 0.1, 0.1])\n",
    "\n",
    "# Create an object with Poisson model values\n",
    "poi = PoissonRegression(y, x, beta=init_beta)\n",
    "\n",
    "# Use newton_raphson to find the MLE\n",
    "beta_hat = newton_raphson(poi, display=True)"
   ]
  },
  {
   "cell_type": "code",
   "execution_count": 8,
   "metadata": {},
   "outputs": [
    {
     "name": "stdout",
     "output_type": "stream",
     "text": [
      "Optimization terminated successfully.\n",
      "         Current function value: 0.675671\n",
      "         Iterations 7\n",
      "                          Poisson Regression Results                          \n",
      "==============================================================================\n",
      "Dep. Variable:                      y   No. Observations:                    5\n",
      "Model:                        Poisson   Df Residuals:                        2\n",
      "Method:                           MLE   Df Model:                            2\n",
      "Date:                Sat, 30 Mar 2019   Pseudo R-squ.:                  0.2546\n",
      "Time:                        15:33:28   Log-Likelihood:                -3.3784\n",
      "converged:                       True   LL-Null:                       -4.5325\n",
      "                                        LLR p-value:                    0.3153\n",
      "==============================================================================\n",
      "                 coef    std err          z      P>|z|      [0.025      0.975]\n",
      "------------------------------------------------------------------------------\n",
      "const         -6.0785      5.279     -1.151      0.250     -16.425       4.268\n",
      "x1             0.9334      0.829      1.126      0.260      -0.691       2.558\n",
      "x2             0.8433      0.798      1.057      0.291      -0.720       2.407\n",
      "==============================================================================\n"
     ]
    }
   ],
   "source": [
    "x = np.array([[1, 2, 5],\n",
    "              [1, 1, 3],\n",
    "              [1, 4, 2],\n",
    "              [1, 5, 2],\n",
    "              [1, 3, 1]])\n",
    "\n",
    "y = np.array([1, 0, 1, 1, 0])\n",
    "\n",
    "stats_poisson = Poisson(y, x).fit()\n",
    "print(stats_poisson.summary())"
   ]
  },
  {
   "cell_type": "code",
   "execution_count": 9,
   "metadata": {},
   "outputs": [],
   "source": [
    "df = (\n",
    "    pd.read_stata('https://github.com/QuantEcon/QuantEcon.lectures.code/raw/master/mle/fp.dta')\n",
    "    .loc[lambda x: x['year'] == 2008]\n",
    "    .copy()\n",
    "    .assign(const=1)\n",
    ")\n",
    "\n",
    "# Variable sets\n",
    "reg1 = ['const', 'lngdppc', 'lnpop', 'gattwto08']\n",
    "reg2 = ['const', 'lngdppc', 'lnpop',\n",
    "        'gattwto08', 'lnmcap08', 'rintr', 'topint08']\n",
    "reg3 = ['const', 'lngdppc', 'lnpop', 'gattwto08', 'lnmcap08',\n",
    "        'rintr', 'topint08', 'nrrents', 'roflaw']"
   ]
  },
  {
   "cell_type": "code",
   "execution_count": 10,
   "metadata": {},
   "outputs": [
    {
     "name": "stdout",
     "output_type": "stream",
     "text": [
      "Optimization terminated successfully.\n",
      "         Current function value: 2.226090\n",
      "         Iterations 9\n",
      "                          Poisson Regression Results                          \n",
      "==============================================================================\n",
      "Dep. Variable:                numbil0   No. Observations:                  197\n",
      "Model:                        Poisson   Df Residuals:                      193\n",
      "Method:                           MLE   Df Model:                            3\n",
      "Date:                Sat, 30 Mar 2019   Pseudo R-squ.:                  0.8574\n",
      "Time:                        15:33:29   Log-Likelihood:                -438.54\n",
      "converged:                       True   LL-Null:                       -3074.7\n",
      "                                        LLR p-value:                     0.000\n",
      "==============================================================================\n",
      "                 coef    std err          z      P>|z|      [0.025      0.975]\n",
      "------------------------------------------------------------------------------\n",
      "const        -29.0495      0.638    -45.517      0.000     -30.300     -27.799\n",
      "lngdppc        1.0839      0.035     30.910      0.000       1.015       1.153\n",
      "lnpop          1.1714      0.024     48.489      0.000       1.124       1.219\n",
      "gattwto08      0.0060      0.002      3.127      0.002       0.002       0.010\n",
      "==============================================================================\n"
     ]
    }
   ],
   "source": [
    "poisson_reg = Poisson(df['numbil0'], df[reg1], missing='drop').fit(cov_tyupe='HC0')\n",
    "print(poisson_reg.summary())"
   ]
  },
  {
   "cell_type": "markdown",
   "metadata": {},
   "source": [
    "# Exercise 1\n",
    "\n",
    "Suppose we wanted to estimate the probability of an event $y_i$ occurring, given some observations\n",
    "\n",
    "We could use a probit regression model, where the pmf of $y_i$ is\n",
    "\n",
    "$$ f(y_i; \\boldsymbol{\\beta}) = \\mu_i^{y_i} (1-\\mu_i)^{1-y_i}, \\quad y_i = 0,1 \\\\ \\text{where} \\quad \\mu_i = \\Phi(\\mathbf{x}_i' \\boldsymbol{\\beta})$$\n",
    "\n",
    "$\\Phi$ represents the *cumulative normal distribution* and constrains the predicted $y_i$ to be between 0 and 1 (as required for a probability)\n",
    "\n",
    "$\\beta$ is a vector of coefficients\n",
    "\n",
    "Following the example in the lecture, write a class to represent a Probit model\n",
    "\n",
    "To begin, find the log-likelihood function and derive the gradient and Hessian\n",
    "\n",
    "The `scipy` module `stats.norm` contains the functions needed to compute the cmf and pmf of the normal distribution"
   ]
  },
  {
   "cell_type": "code",
   "execution_count": 11,
   "metadata": {},
   "outputs": [],
   "source": [
    "class ProbitRegression:\n",
    "    \n",
    "    def __init__(self, y, x, beta):\n",
    "        self.y, self.x, self.beta = y, x, beta\n",
    "        self.n, self.k = x.shape\n",
    "    \n",
    "    def mu(self):\n",
    "        return stats.norm.cdf(self.x @ self.beta.T)\n",
    "    \n",
    "    def phi(self):\n",
    "        return stats.norm.pdf(self.x @ self.beta.T)\n",
    "    \n",
    "    def log_like(self):\n",
    "        y, mu = self.y, self.mu()\n",
    "        return np.sum(y * np.log(mu) + (1-y) * np.log(1 - mu))\n",
    "    \n",
    "    def g(self):\n",
    "        x, y, mu, phi = self.x, self.y, self.mu(), self.phi()\n",
    "        return np.sum((x.T * y * phi / mu - x.T * (1 - y) * phi / (1 - mu)), axis=1)\n",
    "    \n",
    "    def h(self):\n",
    "        x, y, mu, phi, beta = self.x, self.y, self.mu(), self.phi(), self.beta\n",
    "        a = (phi + (x @ beta.T) * mu) / mu**2\n",
    "        b = (phi - (x @ beta.T) * (1 - mu)) / (1 - mu)**2\n",
    "        return -(phi * (y * a + (1 - y) * b) * x.T) @ x\n",
    "    "
   ]
  },
  {
   "cell_type": "markdown",
   "metadata": {},
   "source": [
    "# Exercise 2\n",
    "\n",
    "Use the following dataset and initial values of $\\beta_0$ to estimate the MLE with the Newton-Raphson algorithm developed earlier in the lecture\n",
    "\n",
    "$$\n",
    "\\mathbf{X} =\n",
    "\\begin{bmatrix}\n",
    "1 & 2 & 4 \\\\\n",
    "1 & 1 & 1 \\\\\n",
    "1 & 4 & 3 \\\\\n",
    "1 & 5 & 6 \\\\\n",
    "1 & 3 & 5\n",
    "\\end{bmatrix}\n",
    "\\quad\n",
    "y =\n",
    "\\begin{bmatrix}\n",
    "1 \\\\\n",
    "0 \\\\\n",
    "1 \\\\\n",
    "1 \\\\\n",
    "0\n",
    "\\end{bmatrix}\n",
    "\\quad\n",
    "\\boldsymbol{\\beta}_{(0)} =\n",
    "\\begin{bmatrix}\n",
    "0.1 \\\\\n",
    "0.1 \\\\\n",
    "0.1\n",
    "\\end{bmatrix}\n",
    "$$\n",
    "\n",
    "Verify your results with `statsmodels` - you can import the Probit function with the following import statement\n",
    "\n",
    "```python\n",
    "from statsmodels.discrete.discrete_model import Probit\n",
    "```\n",
    "\n",
    "Note that the simple Netwon-Raphson algorithm developed in this lecture is very sensitive to initial values, and therefore you may fail to acheive convergence with different starting values"
   ]
  },
  {
   "cell_type": "code",
   "execution_count": 12,
   "metadata": {},
   "outputs": [
    {
     "name": "stdout",
     "output_type": "stream",
     "text": [
      "Iteration_k  Log-likelihood  θ                                                           \n",
      "-----------------------------------------------------------------------------------------\n",
      "0            -2.3796884      ['-1.34', '0.775', '-0.157']\n",
      "1            -2.3687526      ['-1.53', '0.775', '-0.0981']\n",
      "2            -2.3687294      ['-1.55', '0.778', '-0.0971']\n",
      "3            -2.3687294      ['-1.55', '0.778', '-0.0971']\n",
      "Number of iterations: 4\n",
      "beta_hat = [-1.54625858  0.77778952 -0.09709757]\n"
     ]
    },
    {
     "data": {
      "text/plain": [
       "array([-1.54625858,  0.77778952, -0.09709757])"
      ]
     },
     "execution_count": 12,
     "metadata": {},
     "output_type": "execute_result"
    }
   ],
   "source": [
    "x = np.array([[1, 2, 4],\n",
    "              [1, 1, 1],\n",
    "              [1, 4, 3],\n",
    "              [1, 5, 6],\n",
    "              [1, 3, 5]])\n",
    "\n",
    "y = np.array([1, 0, 1, 1, 0])\n",
    "\n",
    "beta = np.array([0.1, 0.1, 0.1])\n",
    "\n",
    "prob = ProbitRegression(y, x, beta)\n",
    "\n",
    "newton_raphson(prob)"
   ]
  },
  {
   "cell_type": "code",
   "execution_count": 13,
   "metadata": {},
   "outputs": [
    {
     "name": "stdout",
     "output_type": "stream",
     "text": [
      "Optimization terminated successfully.\n",
      "         Current function value: 0.473746\n",
      "         Iterations 6\n",
      "                          Probit Regression Results                           \n",
      "==============================================================================\n",
      "Dep. Variable:                      y   No. Observations:                    5\n",
      "Model:                         Probit   Df Residuals:                        2\n",
      "Method:                           MLE   Df Model:                            2\n",
      "Date:                Sat, 30 Mar 2019   Pseudo R-squ.:                  0.2961\n",
      "Time:                        15:33:29   Log-Likelihood:                -2.3687\n",
      "converged:                       True   LL-Null:                       -3.3651\n",
      "                                        LLR p-value:                    0.3692\n",
      "==============================================================================\n",
      "                 coef    std err          z      P>|z|      [0.025      0.975]\n",
      "------------------------------------------------------------------------------\n",
      "const         -1.5463      1.866     -0.829      0.407      -5.204       2.111\n",
      "x1             0.7778      0.788      0.986      0.324      -0.768       2.323\n",
      "x2            -0.0971      0.590     -0.165      0.869      -1.254       1.060\n",
      "==============================================================================\n"
     ]
    }
   ],
   "source": [
    "stats_probit = Probit(y, x).fit()\n",
    "print(stats_probit.summary())"
   ]
  }
 ],
 "metadata": {
  "kernelspec": {
   "display_name": "Python 3",
   "language": "python",
   "name": "python3"
  },
  "language_info": {
   "codemirror_mode": {
    "name": "ipython",
    "version": 3
   },
   "file_extension": ".py",
   "mimetype": "text/x-python",
   "name": "python",
   "nbconvert_exporter": "python",
   "pygments_lexer": "ipython3",
   "version": "3.7.1"
  }
 },
 "nbformat": 4,
 "nbformat_minor": 2
}
