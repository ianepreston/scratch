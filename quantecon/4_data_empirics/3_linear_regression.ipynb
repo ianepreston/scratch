{
 "cells": [
  {
   "cell_type": "code",
   "execution_count": 1,
   "metadata": {},
   "outputs": [],
   "source": [
    "import pandas as pd\n",
    "import numpy as np\n",
    "import statsmodels as sm"
   ]
  },
  {
   "cell_type": "markdown",
   "metadata": {},
   "source": [
    "#### Exercise 1\n",
    "\n",
    "In the lecture, we think the original model suffers from endogeneity bias due to the likely effect income has on institutional development\n",
    "\n",
    "Although endogeneity is often best identified by thinking about the data and model, we can formally test for endogeneity using the **Hausman test**\n",
    "\n",
    "We want to test for correlation between the endogenous variable, $avexpr_i$ and the errors, $u_i$\n",
    "\n",
    "$H_0: Cov(avexpr_i, u_i) = 0 \\quad (\\text{no endogeneity})$\n",
    "\n",
    "$H_1: Cov(avexpr_i, u_i) \\neq 0 \\quad (\\text{endogeneity})$\n",
    "\n",
    "This test is run in two stages\n",
    "\n",
    "First, we regress $avexpr_i$ on the instrument $logem4_i$\n",
    "\n",
    "$avexpr_i = \\pi_0 + \\pi_1logem4_i + v_i$\n",
    "\n",
    "Second, we retrive the residuals $\\hat{v}_i$ and include them in the original equation\n",
    "\n",
    "$logpgp95_i = \\beta_0 + \\beta_1 avexpr_i + \\alpha \\hat{v}_i + u_i$\n",
    "\n",
    "If $\\alpha$ is statistically significant(with a p-value < 0.05), then we reject the null hypothesis and conclude $avexpr_i$ is endogenous\n",
    "\n",
    "Using the above information, estimate a Hausman test and interpret your results"
   ]
  },
  {
   "cell_type": "code",
   "execution_count": null,
   "metadata": {},
   "outputs": [],
   "source": []
  }
 ],
 "metadata": {
  "kernelspec": {
   "display_name": "Python 3",
   "language": "python",
   "name": "python3"
  },
  "language_info": {
   "codemirror_mode": {
    "name": "ipython",
    "version": 3
   },
   "file_extension": ".py",
   "mimetype": "text/x-python",
   "name": "python",
   "nbconvert_exporter": "python",
   "pygments_lexer": "ipython3",
   "version": "3.7.1"
  }
 },
 "nbformat": 4,
 "nbformat_minor": 2
}
