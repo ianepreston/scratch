{
 "cells": [
  {
   "cell_type": "markdown",
   "metadata": {},
   "source": [
    "# Exercise 1\n",
    "\n",
    "Plot the function\n",
    "\n",
    "$f(x) = \\cos(\\pi \\theta x) \\exp(-x)$\n",
    "\n",
    "over the interval $[0,5]$ for each $\\theta$ in `np.linspace(0, 2, 10)`\n",
    "\n",
    "Place all the curves in the same figure"
   ]
  },
  {
   "cell_type": "code",
   "execution_count": 1,
   "metadata": {},
   "outputs": [],
   "source": [
    "import numpy as np\n",
    "import pandas as pd\n",
    "import altair as alt"
   ]
  },
  {
   "cell_type": "code",
   "execution_count": 2,
   "metadata": {},
   "outputs": [
    {
     "data": {
      "application/vnd.vegalite.v2+json": {
       "$schema": "https://vega.github.io/schema/vega-lite/v2.6.0.json",
       "config": {
        "view": {
         "height": 300,
         "width": 400
        }
       },
       "data": {
        "name": "data-6d9b10c5dd81611bf58f245832fa5089"
       },
       "datasets": {
        "data-6d9b10c5dd81611bf58f245832fa5089": [
         {
          "index": 0,
          "value": 1,
          "variable": "0.00"
         },
         {
          "index": 1,
          "value": 0.9751873933535327,
          "variable": "0.00"
         },
         {
          "index": 2,
          "value": 0.9509904521556576,
          "variable": "0.00"
         },
         {
          "index": 3,
          "value": 0.9273939001417731,
          "variable": "0.00"
         },
         {
          "index": 4,
          "value": 0.904382840091222,
          "variable": "0.00"
         },
         {
          "index": 5,
          "value": 0.8819427444222235,
          "variable": "0.00"
         },
         {
          "index": 6,
          "value": 0.860059446020169,
          "variable": "0.00"
         },
         {
          "index": 7,
          "value": 0.8387191292934919,
          "variable": "0.00"
         },
         {
          "index": 8,
          "value": 0.8179083214514649,
          "variable": "0.00"
         },
         {
          "index": 9,
          "value": 0.7976138839984174,
          "variable": "0.00"
         },
         {
          "index": 10,
          "value": 0.7778230044390035,
          "variable": "0.00"
         },
         {
          "index": 11,
          "value": 0.7585231881892851,
          "variable": "0.00"
         },
         {
          "index": 12,
          "value": 0.73970225068852,
          "variable": "0.00"
         },
         {
          "index": 13,
          "value": 0.7213483097066792,
          "variable": "0.00"
         },
         {
          "index": 14,
          "value": 0.7034497778428332,
          "variable": "0.00"
         },
         {
          "index": 15,
          "value": 0.6859953552096741,
          "variable": "0.00"
         },
         {
          "index": 16,
          "value": 0.6689740222995528,
          "variable": "0.00"
         },
         {
          "index": 17,
          "value": 0.652375033027529,
          "variable": "0.00"
         },
         {
          "index": 18,
          "value": 0.6361879079470407,
          "variable": "0.00"
         },
         {
          "index": 19,
          "value": 0.6204024276339118,
          "variable": "0.00"
         },
         {
          "index": 20,
          "value": 0.6050086262345181,
          "variable": "0.00"
         },
         {
          "index": 21,
          "value": 0.5899967851740414,
          "variable": "0.00"
         },
         {
          "index": 22,
          "value": 0.5753574270208376,
          "variable": "0.00"
         },
         {
          "index": 23,
          "value": 0.561081309503046,
          "variable": "0.00"
         },
         {
          "index": 24,
          "value": 0.5471594196736621,
          "variable": "0.00"
         },
         {
          "index": 25,
          "value": 0.5335829682203902,
          "variable": "0.00"
         },
         {
          "index": 26,
          "value": 0.5203433839166831,
          "variable": "0.00"
         },
         {
          "index": 27,
          "value": 0.5074323082104667,
          "variable": "0.00"
         },
         {
          "index": 28,
          "value": 0.49484158994713145,
          "variable": "0.00"
         },
         {
          "index": 29,
          "value": 0.48256328022346073,
          "variable": "0.00"
         },
         {
          "index": 30,
          "value": 0.47058962736924703,
          "variable": "0.00"
         },
         {
          "index": 31,
          "value": 0.45891307205342624,
          "variable": "0.00"
         },
         {
          "index": 32,
          "value": 0.44752624251164264,
          "variable": "0.00"
         },
         {
          "index": 33,
          "value": 0.4364219498922297,
          "variable": "0.00"
         },
         {
          "index": 34,
          "value": 0.4255931837176695,
          "variable": "0.00"
         },
         {
          "index": 35,
          "value": 0.41503310745866523,
          "variable": "0.00"
         },
         {
          "index": 36,
          "value": 0.40473505421803235,
          "variable": "0.00"
         },
         {
          "index": 37,
          "value": 0.3946925225216837,
          "variable": "0.00"
         },
         {
          "index": 38,
          "value": 0.3848991722140512,
          "variable": "0.00"
         },
         {
          "index": 39,
          "value": 0.37534882045535306,
          "variable": "0.00"
         },
         {
          "index": 40,
          "value": 0.3660354378181788,
          "variable": "0.00"
         },
         {
          "index": 41,
          "value": 0.3569531444809289,
          "variable": "0.00"
         },
         {
          "index": 42,
          "value": 0.34809620651570394,
          "variable": "0.00"
         },
         {
          "index": 43,
          "value": 0.3394590322683023,
          "variable": "0.00"
         },
         {
          "index": 44,
          "value": 0.3310361688280385,
          "variable": "0.00"
         },
         {
          "index": 45,
          "value": 0.3228222985851548,
          "variable": "0.00"
         },
         {
          "index": 46,
          "value": 0.3148122358736529,
          "variable": "0.00"
         },
         {
          "index": 47,
          "value": 0.30700092369742504,
          "variable": "0.00"
         },
         {
          "index": 48,
          "value": 0.29938343053761873,
          "variable": "0.00"
         },
         {
          "index": 49,
          "value": 0.2919549472392188,
          "variable": "0.00"
         },
         {
          "index": 50,
          "value": 0.2847107839748819,
          "variable": "0.00"
         },
         {
          "index": 51,
          "value": 0.27764636728410585,
          "variable": "0.00"
         },
         {
          "index": 52,
          "value": 0.2707572371858647,
          "variable": "0.00"
         },
         {
          "index": 53,
          "value": 0.2640390443628876,
          "variable": "0.00"
         },
         {
          "index": 54,
          "value": 0.2574875474158021,
          "variable": "0.00"
         },
         {
          "index": 55,
          "value": 0.2510986101854102,
          "variable": "0.00"
         },
         {
          "index": 56,
          "value": 0.24486819914140498,
          "variable": "0.00"
         },
         {
          "index": 57,
          "value": 0.23879238083588045,
          "variable": "0.00"
         },
         {
          "index": 58,
          "value": 0.2328673194200263,
          "variable": "0.00"
         },
         {
          "index": 59,
          "value": 0.22708927422243994,
          "variable": "0.00"
         },
         {
          "index": 60,
          "value": 0.22145459738752676,
          "variable": "0.00"
         },
         {
          "index": 61,
          "value": 0.21595973157249826,
          "variable": "0.00"
         },
         {
          "index": 62,
          "value": 0.2106012077015132,
          "variable": "0.00"
         },
         {
          "index": 63,
          "value": 0.20537564277554457,
          "variable": "0.00"
         },
         {
          "index": 64,
          "value": 0.20027973773658958,
          "variable": "0.00"
         },
         {
          "index": 65,
          "value": 0.19531027538487394,
          "variable": "0.00"
         },
         {
          "index": 66,
          "value": 0.19046411834773586,
          "variable": "0.00"
         },
         {
          "index": 67,
          "value": 0.18573820709890726,
          "variable": "0.00"
         },
         {
          "index": 68,
          "value": 0.181129558026942,
          "variable": "0.00"
         },
         {
          "index": 69,
          "value": 0.176635261551571,
          "variable": "0.00"
         },
         {
          "index": 70,
          "value": 0.172252480286796,
          "variable": "0.00"
         },
         {
          "index": 71,
          "value": 0.16797844724956135,
          "variable": "0.00"
         },
         {
          "index": 72,
          "value": 0.16381046411287362,
          "variable": "0.00"
         },
         {
          "index": 73,
          "value": 0.15974589950226561,
          "variable": "0.00"
         },
         {
          "index": 74,
          "value": 0.15578218733452978,
          "variable": "0.00"
         },
         {
          "index": 75,
          "value": 0.1519168251976718,
          "variable": "0.00"
         },
         {
          "index": 76,
          "value": 0.14814737277106185,
          "variable": "0.00"
         },
         {
          "index": 77,
          "value": 0.14447145028478592,
          "variable": "0.00"
         },
         {
          "index": 78,
          "value": 0.14088673701722484,
          "variable": "0.00"
         },
         {
          "index": 79,
          "value": 0.13739096982991217,
          "variable": "0.00"
         },
         {
          "index": 80,
          "value": 0.13398194173874586,
          "variable": "0.00"
         },
         {
          "index": 81,
          "value": 0.13065750052065245,
          "variable": "0.00"
         },
         {
          "index": 82,
          "value": 0.12741554735482288,
          "variable": "0.00"
         },
         {
          "index": 83,
          "value": 0.12425403549766334,
          "variable": "0.00"
         },
         {
          "index": 84,
          "value": 0.12117096899062363,
          "variable": "0.00"
         },
         {
          "index": 85,
          "value": 0.11816440140008798,
          "variable": "0.00"
         },
         {
          "index": 86,
          "value": 0.11523243458853233,
          "variable": "0.00"
         },
         {
          "index": 87,
          "value": 0.1123732175161723,
          "variable": "0.00"
         },
         {
          "index": 88,
          "value": 0.10958494507234559,
          "variable": "0.00"
         },
         {
          "index": 89,
          "value": 0.10686585693589075,
          "variable": "0.00"
         },
         {
          "index": 90,
          "value": 0.10421423646380283,
          "variable": "0.00"
         },
         {
          "index": 91,
          "value": 0.10162840960746455,
          "variable": "0.00"
         },
         {
          "index": 92,
          "value": 0.09910674385576848,
          "variable": "0.00"
         },
         {
          "index": 93,
          "value": 0.0966476472044631,
          "variable": "0.00"
         },
         {
          "index": 94,
          "value": 0.0942495671510722,
          "variable": "0.00"
         },
         {
          "index": 95,
          "value": 0.09191098971475284,
          "variable": "0.00"
         },
         {
          "index": 96,
          "value": 0.08963043848047317,
          "variable": "0.00"
         },
         {
          "index": 97,
          "value": 0.08740647366690679,
          "variable": "0.00"
         },
         {
          "index": 98,
          "value": 0.08523769121745503,
          "variable": "0.00"
         },
         {
          "index": 99,
          "value": 0.08312272191382326,
          "variable": "0.00"
         },
         {
          "index": 100,
          "value": 0.08106023051159188,
          "variable": "0.00"
         },
         {
          "index": 101,
          "value": 0.07904891489723578,
          "variable": "0.00"
         },
         {
          "index": 102,
          "value": 0.07708750526606059,
          "variable": "0.00"
         },
         {
          "index": 103,
          "value": 0.07517476332053635,
          "variable": "0.00"
         },
         {
          "index": 104,
          "value": 0.0733094814885226,
          "variable": "0.00"
         },
         {
          "index": 105,
          "value": 0.0714904821608914,
          "variable": "0.00"
         },
         {
          "index": 106,
          "value": 0.06971661694806691,
          "variable": "0.00"
         },
         {
          "index": 107,
          "value": 0.06798676595501209,
          "variable": "0.00"
         },
         {
          "index": 108,
          "value": 0.06629983707420493,
          "variable": "0.00"
         },
         {
          "index": 109,
          "value": 0.06465476529615782,
          "variable": "0.00"
         },
         {
          "index": 110,
          "value": 0.06305051203704458,
          "variable": "0.00"
         },
         {
          "index": 111,
          "value": 0.06148606448301104,
          "variable": "0.00"
         },
         {
          "index": 112,
          "value": 0.05996043495075476,
          "variable": "0.00"
         },
         {
          "index": 113,
          "value": 0.05847266026397059,
          "variable": "0.00"
         },
         {
          "index": 114,
          "value": 0.05702180114526816,
          "variable": "0.00"
         },
         {
          "index": 115,
          "value": 0.055606941623177544,
          "variable": "0.00"
         },
         {
          "index": 116,
          "value": 0.05422718845386856,
          "variable": "0.00"
         },
         {
          "index": 117,
          "value": 0.05288167055721887,
          "variable": "0.00"
         },
         {
          "index": 118,
          "value": 0.05156953846687452,
          "variable": "0.00"
         },
         {
          "index": 119,
          "value": 0.050289963793956095,
          "variable": "0.00"
         },
         {
          "index": 120,
          "value": 0.04904213870407158,
          "variable": "0.00"
         },
         {
          "index": 121,
          "value": 0.04782527540730595,
          "variable": "0.00"
         },
         {
          "index": 122,
          "value": 0.04663860566086551,
          "variable": "0.00"
         },
         {
          "index": 123,
          "value": 0.04548138028406274,
          "variable": "0.00"
         },
         {
          "index": 124,
          "value": 0.044352868685335896,
          "variable": "0.00"
         },
         {
          "index": 125,
          "value": 0.04325235840100424,
          "variable": "0.00"
         },
         {
          "index": 126,
          "value": 0.04217915464546809,
          "variable": "0.00"
         },
         {
          "index": 127,
          "value": 0.041132579872569575,
          "variable": "0.00"
         },
         {
          "index": 128,
          "value": 0.04011197334783711,
          "variable": "0.00"
         },
         {
          "index": 129,
          "value": 0.03911669073134364,
          "variable": "0.00"
         },
         {
          "index": 130,
          "value": 0.038146103670915296,
          "variable": "0.00"
         },
         {
          "index": 131,
          "value": 0.037199599405433506,
          "variable": "0.00"
         },
         {
          "index": 132,
          "value": 0.03627658037798032,
          "variable": "0.00"
         },
         {
          "index": 133,
          "value": 0.03537646385858254,
          "variable": "0.00"
         },
         {
          "index": 134,
          "value": 0.03449868157631657,
          "variable": "0.00"
         },
         {
          "index": 135,
          "value": 0.033642679360541695,
          "variable": "0.00"
         },
         {
          "index": 136,
          "value": 0.03280791679103535,
          "variable": "0.00"
         },
         {
          "index": 137,
          "value": 0.031993866856809355,
          "variable": "0.00"
         },
         {
          "index": 138,
          "value": 0.031200015623391895,
          "variable": "0.00"
         },
         {
          "index": 139,
          "value": 0.030425861908365034,
          "variable": "0.00"
         },
         {
          "index": 140,
          "value": 0.02967091696495304,
          "variable": "0.00"
         },
         {
          "index": 141,
          "value": 0.028934704173461664,
          "variable": "0.00"
         },
         {
          "index": 142,
          "value": 0.02821675874037366,
          "variable": "0.00"
         },
         {
          "index": 143,
          "value": 0.0275166274049105,
          "variable": "0.00"
         },
         {
          "index": 144,
          "value": 0.02683386815287505,
          "variable": "0.00"
         },
         {
          "index": 145,
          "value": 0.026168049937594594,
          "variable": "0.00"
         },
         {
          "index": 146,
          "value": 0.025518752407787944,
          "variable": "0.00"
         },
         {
          "index": 147,
          "value": 0.02488556564218491,
          "variable": "0.00"
         },
         {
          "index": 148,
          "value": 0.024268089890730534,
          "variable": "0.00"
         },
         {
          "index": 149,
          "value": 0.023665935322210726,
          "variable": "0.00"
         },
         {
          "index": 150,
          "value": 0.023078721778139973,
          "variable": "0.00"
         },
         {
          "index": 151,
          "value": 0.022506078532755727,
          "variable": "0.00"
         },
         {
          "index": 152,
          "value": 0.021947644058967954,
          "variable": "0.00"
         },
         {
          "index": 153,
          "value": 0.021403065800116108,
          "variable": "0.00"
         },
         {
          "index": 154,
          "value": 0.020871999947389367,
          "variable": "0.00"
         },
         {
          "index": 155,
          "value": 0.020354111222769707,
          "variable": "0.00"
         },
         {
          "index": 156,
          "value": 0.019849072667360676,
          "variable": "0.00"
         },
         {
          "index": 157,
          "value": 0.01935656543496831,
          "variable": "0.00"
         },
         {
          "index": 158,
          "value": 0.018876278590803833,
          "variable": "0.00"
         },
         {
          "index": 159,
          "value": 0.018407908915181084,
          "variable": "0.00"
         },
         {
          "index": 160,
          "value": 0.01795116071208469,
          "variable": "0.00"
         },
         {
          "index": 161,
          "value": 0.01750574562248822,
          "variable": "0.00"
         },
         {
          "index": 162,
          "value": 0.017071382442304293,
          "variable": "0.00"
         },
         {
          "index": 163,
          "value": 0.016647796944851995,
          "variable": "0.00"
         },
         {
          "index": 164,
          "value": 0.016234721707729115,
          "variable": "0.00"
         },
         {
          "index": 165,
          "value": 0.015831895943980375,
          "variable": "0.00"
         },
         {
          "index": 166,
          "value": 0.01543906533745458,
          "variable": "0.00"
         },
         {
          "index": 167,
          "value": 0.015055981882247218,
          "variable": "0.00"
         },
         {
          "index": 168,
          "value": 0.014682403726126671,
          "variable": "0.00"
         },
         {
          "index": 169,
          "value": 0.01431809501784567,
          "variable": "0.00"
         },
         {
          "index": 170,
          "value": 0.013962825758241116,
          "variable": "0.00"
         },
         {
          "index": 171,
          "value": 0.013616371655028723,
          "variable": "0.00"
         },
         {
          "index": 172,
          "value": 0.01327851398120038,
          "variable": "0.00"
         },
         {
          "index": 173,
          "value": 0.012949039436935244,
          "variable": "0.00"
         },
         {
          "index": 174,
          "value": 0.012627740014936972,
          "variable": "0.00"
         },
         {
          "index": 175,
          "value": 0.012314412869112489,
          "variable": "0.00"
         },
         {
          "index": 176,
          "value": 0.012008860186509,
          "variable": "0.00"
         },
         {
          "index": 177,
          "value": 0.011710889062428734,
          "variable": "0.00"
         },
         {
          "index": 178,
          "value": 0.01142031137864227,
          "variable": "0.00"
         },
         {
          "index": 179,
          "value": 0.011136943684623847,
          "variable": "0.00"
         },
         {
          "index": 180,
          "value": 0.010860607081733413,
          "variable": "0.00"
         },
         {
          "index": 181,
          "value": 0.010591127110272528,
          "variable": "0.00"
         },
         {
          "index": 182,
          "value": 0.010328333639342595,
          "variable": "0.00"
         },
         {
          "index": 183,
          "value": 0.010072060759436115,
          "variable": "0.00"
         },
         {
          "index": 184,
          "value": 0.009822146677692902,
          "variable": "0.00"
         },
         {
          "index": 185,
          "value": 0.009578433615755408,
          "variable": "0.00"
         },
         {
          "index": 186,
          "value": 0.009340767710158364,
          "variable": "0.00"
         },
         {
          "index": 187,
          "value": 0.009108998915190184,
          "variable": "0.00"
         },
         {
          "index": 188,
          "value": 0.008882980908164468,
          "variable": "0.00"
         },
         {
          "index": 189,
          "value": 0.008662570997042108,
          "variable": "0.00"
         },
         {
          "index": 190,
          "value": 0.008447630030345401,
          "variable": "0.00"
         },
         {
          "index": 191,
          "value": 0.00823802230930756,
          "variable": "0.00"
         },
         {
          "index": 192,
          "value": 0.008033615502201885,
          "variable": "0.00"
         },
         {
          "index": 193,
          "value": 0.00783428056079679,
          "variable": "0.00"
         },
         {
          "index": 194,
          "value": 0.007639891638883671,
          "variable": "0.00"
         },
         {
          "index": 195,
          "value": 0.007450326012826419,
          "variable": "0.00"
         },
         {
          "index": 196,
          "value": 0.00726546400408221,
          "variable": "0.00"
         },
         {
          "index": 197,
          "value": 0.0070851889036448535,
          "variable": "0.00"
         },
         {
          "index": 198,
          "value": 0.006909386898362796,
          "variable": "0.00"
         },
         {
          "index": 199,
          "value": 0.006737946999085467,
          "variable": "0.00"
         },
         {
          "index": 0,
          "value": 1,
          "variable": "0.22"
         },
         {
          "index": 1,
          "value": 0.9750373711566729,
          "variable": "0.22"
         },
         {
          "index": 2,
          "value": 0.9504052981485731,
          "variable": "0.22"
         },
         {
          "index": 3,
          "value": 0.9261101364153692,
          "variable": "0.22"
         },
         {
          "index": 4,
          "value": 0.9021576214065342,
          "variable": "0.22"
         },
         {
          "index": 5,
          "value": 0.8785528937147784,
          "variable": "0.22"
         },
         {
          "index": 6,
          "value": 0.8553005235224181,
          "variable": "0.22"
         },
         {
          "index": 7,
          "value": 0.8324045343719706,
          "variable": "0.22"
         },
         {
          "index": 8,
          "value": 0.8098684262723259,
          "variable": "0.22"
         },
         {
          "index": 9,
          "value": 0.787695198151901,
          "variable": "0.22"
         },
         {
          "index": 10,
          "value": 0.7658873696702179,
          "variable": "0.22"
         },
         {
          "index": 11,
          "value": 0.7444470023993796,
          "variable": "0.22"
         },
         {
          "index": 12,
          "value": 0.723375720386925,
          "variable": "0.22"
         },
         {
          "index": 13,
          "value": 0.7026747301115536,
          "variable": "0.22"
         },
         {
          "index": 14,
          "value": 0.6823448398432013,
          "variable": "0.22"
         },
         {
          "index": 15,
          "value": 0.6623864784189307,
          "variable": "0.22"
         },
         {
          "index": 16,
          "value": 0.6427997134460751,
          "variable": "0.22"
         },
         {
          "index": 17,
          "value": 0.6235842689440347,
          "variable": "0.22"
         },
         {
          "index": 18,
          "value": 0.6047395424360844,
          "variable": "0.22"
         },
         {
          "index": 19,
          "value": 0.5862646215024951,
          "variable": "0.22"
         },
         {
          "index": 20,
          "value": 0.5681582998062118,
          "variable": "0.22"
         },
         {
          "index": 21,
          "value": 0.5504190926022638,
          "variable": "0.22"
         },
         {
          "index": 22,
          "value": 0.5330452517420061,
          "variable": "0.22"
         },
         {
          "index": 23,
          "value": 0.5160347801832114,
          "variable": "0.22"
         },
         {
          "index": 24,
          "value": 0.4993854460169432,
          "variable": "0.22"
         },
         {
          "index": 25,
          "value": 0.48309479602204813,
          "variable": "0.22"
         },
         {
          "index": 26,
          "value": 0.46716016875800614,
          "variable": "0.22"
         },
         {
          "index": 27,
          "value": 0.45157870720677523,
          "variable": "0.22"
         },
         {
          "index": 28,
          "value": 0.4363473709741565,
          "variable": "0.22"
         },
         {
          "index": 29,
          "value": 0.42146294806109547,
          "variable": "0.22"
         },
         {
          "index": 30,
          "value": 0.4069220662152182,
          "variable": "0.22"
         },
         {
          "index": 31,
          "value": 0.3927212038727782,
          "variable": "0.22"
         },
         {
          "index": 32,
          "value": 0.37885670070107,
          "variable": "0.22"
         },
         {
          "index": 33,
          "value": 0.3653247677512359,
          "variable": "0.22"
         },
         {
          "index": 34,
          "value": 0.352121497231263,
          "variable": "0.22"
         },
         {
          "index": 35,
          "value": 0.3392428719088362,
          "variable": "0.22"
         },
         {
          "index": 36,
          "value": 0.3266847741535771,
          "variable": "0.22"
         },
         {
          "index": 37,
          "value": 0.31444299462806247,
          "variable": "0.22"
         },
         {
          "index": 38,
          "value": 0.30251324063687646,
          "variable": "0.22"
         },
         {
          "index": 39,
          "value": 0.29089114414281186,
          "variable": "0.22"
         },
         {
          "index": 40,
          "value": 0.27957226945919167,
          "variable": "0.22"
         },
         {
          "index": 41,
          "value": 0.2685521206271413,
          "variable": "0.22"
         },
         {
          "index": 42,
          "value": 0.25782614848649493,
          "variable": "0.22"
         },
         {
          "index": 43,
          "value": 0.24738975744887826,
          "variable": "0.22"
         },
         {
          "index": 44,
          "value": 0.23723831198135886,
          "variable": "0.22"
         },
         {
          "index": 45,
          "value": 0.22736714280891426,
          "variable": "0.22"
         },
         {
          "index": 46,
          "value": 0.2177715528438177,
          "variable": "0.22"
         },
         {
          "index": 47,
          "value": 0.20844682284989555,
          "variable": "0.22"
         },
         {
          "index": 48,
          "value": 0.1993882168494639,
          "variable": "0.22"
         },
         {
          "index": 49,
          "value": 0.19059098728060328,
          "variable": "0.22"
         },
         {
          "index": 50,
          "value": 0.18205037991228662,
          "variable": "0.22"
         },
         {
          "index": 51,
          "value": 0.17376163852472493,
          "variable": "0.22"
         },
         {
          "index": 52,
          "value": 0.16572000936215298,
          "variable": "0.22"
         },
         {
          "index": 53,
          "value": 0.1579207453651296,
          "variable": "0.22"
         },
         {
          "index": 54,
          "value": 0.15035911018928286,
          "variable": "0.22"
         },
         {
          "index": 55,
          "value": 0.14303038201728668,
          "variable": "0.22"
         },
         {
          "index": 56,
          "value": 0.1359298571707113,
          "variable": "0.22"
         },
         {
          "index": 57,
          "value": 0.12905285352824877,
          "variable": "0.22"
         },
         {
          "index": 58,
          "value": 0.12239471375667299,
          "variable": "0.22"
         },
         {
          "index": 59,
          "value": 0.11595080836075261,
          "variable": "0.22"
         },
         {
          "index": 60,
          "value": 0.10971653855819806,
          "variable": "0.22"
         },
         {
          "index": 61,
          "value": 0.10368733898558424,
          "variable": "0.22"
         },
         {
          "index": 62,
          "value": 0.09785868024105525,
          "variable": "0.22"
         },
         {
          "index": 63,
          "value": 0.0922260712694822,
          "variable": "0.22"
         },
         {
          "index": 64,
          "value": 0.0867850615956107,
          "variable": "0.22"
         },
         {
          "index": 65,
          "value": 0.08153124341060358,
          "variable": "0.22"
         },
         {
          "index": 66,
          "value": 0.07646025351725304,
          "variable": "0.22"
         },
         {
          "index": 67,
          "value": 0.07156777513900742,
          "variable": "0.22"
         },
         {
          "index": 68,
          "value": 0.06684953959783067,
          "variable": "0.22"
         },
         {
          "index": 69,
          "value": 0.06230132786578639,
          "variable": "0.22"
         },
         {
          "index": 70,
          "value": 0.05791897199511409,
          "variable": "0.22"
         },
         {
          "index": 71,
          "value": 0.05369835643144392,
          "variable": "0.22"
         },
         {
          "index": 72,
          "value": 0.04963541921467378,
          "variable": "0.22"
         },
         {
          "index": 73,
          "value": 0.045726153071915326,
          "variable": "0.22"
         },
         {
          "index": 74,
          "value": 0.041966606406797655,
          "variable": "0.22"
         },
         {
          "index": 75,
          "value": 0.03835288418930196,
          "variable": "0.22"
         },
         {
          "index": 76,
          "value": 0.034881148750187635,
          "variable": "0.22"
         },
         {
          "index": 77,
          "value": 0.03154762048395775,
          "variable": "0.22"
         },
         {
          "index": 78,
          "value": 0.02834857846420344,
          "variable": "0.22"
         },
         {
          "index": 79,
          "value": 0.025280360975057124,
          "variable": "0.22"
         },
         {
          "index": 80,
          "value": 0.022339365962379874,
          "variable": "0.22"
         },
         {
          "index": 81,
          "value": 0.019522051408203706,
          "variable": "0.22"
         },
         {
          "index": 82,
          "value": 0.016824935631846356,
          "variable": "0.22"
         },
         {
          "index": 83,
          "value": 0.014244597521017779,
          "variable": "0.22"
         },
         {
          "index": 84,
          "value": 0.011777676696136665,
          "variable": "0.22"
         },
         {
          "index": 85,
          "value": 0.009420873610980545,
          "variable": "0.22"
         },
         {
          "index": 86,
          "value": 0.007170949592697328,
          "variable": "0.22"
         },
         {
          "index": 87,
          "value": 0.0050247268241135415,
          "variable": "0.22"
         },
         {
          "index": 88,
          "value": 0.0029790882711835083,
          "variable": "0.22"
         },
         {
          "index": 89,
          "value": 0.0010309775583345164,
          "variable": "0.22"
         },
         {
          "index": 90,
          "value": -0.0008226012056244196,
          "variable": "0.22"
         },
         {
          "index": 91,
          "value": -0.002584583648447565,
          "variable": "0.22"
         },
         {
          "index": 92,
          "value": -0.004257845399753117,
          "variable": "0.22"
         },
         {
          "index": 93,
          "value": -0.005845202398262354,
          "variable": "0.22"
         },
         {
          "index": 94,
          "value": -0.007349411238640706,
          "variable": "0.22"
         },
         {
          "index": 95,
          "value": -0.008773169555682232,
          "variable": "0.22"
         },
         {
          "index": 96,
          "value": -0.0101191164436555,
          "variable": "0.22"
         },
         {
          "index": 97,
          "value": -0.011389832908703764,
          "variable": "0.22"
         },
         {
          "index": 98,
          "value": -0.01258784235226486,
          "variable": "0.22"
         },
         {
          "index": 99,
          "value": -0.013715611083548334,
          "variable": "0.22"
         },
         {
          "index": 100,
          "value": -0.01477554885917609,
          "variable": "0.22"
         },
         {
          "index": 101,
          "value": -0.015770009448161287,
          "variable": "0.22"
         },
         {
          "index": 102,
          "value": -0.016701291220466263,
          "variable": "0.22"
         },
         {
          "index": 103,
          "value": -0.01757163775744498,
          "variable": "0.22"
         },
         {
          "index": 104,
          "value": -0.01838323848253846,
          "variable": "0.22"
         },
         {
          "index": 105,
          "value": -0.019138229310652944,
          "variable": "0.22"
         },
         {
          "index": 106,
          "value": -0.019838693314710724,
          "variable": "0.22"
         },
         {
          "index": 107,
          "value": -0.020486661407921505,
          "variable": "0.22"
         },
         {
          "index": 108,
          "value": -0.021084113040379118,
          "variable": "0.22"
         },
         {
          "index": 109,
          "value": -0.02163297690864363,
          "variable": "0.22"
         },
         {
          "index": 110,
          "value": -0.022135131677022645,
          "variable": "0.22"
         },
         {
          "index": 111,
          "value": -0.022592406709317992,
          "variable": "0.22"
         },
         {
          "index": 112,
          "value": -0.02300658280985481,
          "variable": "0.22"
         },
         {
          "index": 113,
          "value": -0.023379392972659438,
          "variable": "0.22"
         },
         {
          "index": 114,
          "value": -0.02371252313770089,
          "variable": "0.22"
         },
         {
          "index": 115,
          "value": -0.024007612953157103,
          "variable": "0.22"
         },
         {
          "index": 116,
          "value": -0.02426625654271273,
          "variable": "0.22"
         },
         {
          "index": 117,
          "value": -0.02449000327693915,
          "variable": "0.22"
         },
         {
          "index": 118,
          "value": -0.024680358547850563,
          "variable": "0.22"
         },
         {
          "index": 119,
          "value": -0.02483878454577074,
          "variable": "0.22"
         },
         {
          "index": 120,
          "value": -0.024966701037686452,
          "variable": "0.22"
         },
         {
          "index": 121,
          "value": -0.025065486146301254,
          "variable": "0.22"
         },
         {
          "index": 122,
          "value": -0.025136477129042593,
          "variable": "0.22"
         },
         {
          "index": 123,
          "value": -0.025180971156310652,
          "variable": "0.22"
         },
         {
          "index": 124,
          "value": -0.025200226088293705,
          "variable": "0.22"
         },
         {
          "index": 125,
          "value": -0.02519546124970898,
          "variable": "0.22"
         },
         {
          "index": 126,
          "value": -0.025167858201860877,
          "variable": "0.22"
         },
         {
          "index": 127,
          "value": -0.02511856151144159,
          "variable": "0.22"
         },
         {
          "index": 128,
          "value": -0.02504867951552922,
          "variable": "0.22"
         },
         {
          "index": 129,
          "value": -0.024959285082269685,
          "variable": "0.22"
         },
         {
          "index": 130,
          "value": -0.024851416366757115,
          "variable": "0.22"
         },
         {
          "index": 131,
          "value": -0.024726077561655915,
          "variable": "0.22"
         },
         {
          "index": 132,
          "value": -0.02458423964213511,
          "variable": "0.22"
         },
         {
          "index": 133,
          "value": -0.02442684110471114,
          "variable": "0.22"
         },
         {
          "index": 134,
          "value": -0.024254788699621513,
          "variable": "0.22"
         },
         {
          "index": 135,
          "value": -0.024068958156375407,
          "variable": "0.22"
         },
         {
          "index": 136,
          "value": -0.023870194902151483,
          "variable": "0.22"
         },
         {
          "index": 137,
          "value": -0.023659314772735335,
          "variable": "0.22"
         },
         {
          "index": 138,
          "value": -0.02343710471571147,
          "variable": "0.22"
         },
         {
          "index": 139,
          "value": -0.02320432348564535,
          "variable": "0.22"
         },
         {
          "index": 140,
          "value": -0.02296170233101142,
          "variable": "0.22"
         },
         {
          "index": 141,
          "value": -0.022709945672642833,
          "variable": "0.22"
         },
         {
          "index": 142,
          "value": -0.02244973177349687,
          "variable": "0.22"
         },
         {
          "index": 143,
          "value": -0.022181713399548622,
          "variable": "0.22"
         },
         {
          "index": 144,
          "value": -0.021906518471642236,
          "variable": "0.22"
         },
         {
          "index": 145,
          "value": -0.02162475070814633,
          "variable": "0.22"
         },
         {
          "index": 146,
          "value": -0.02133699025827548,
          "variable": "0.22"
         },
         {
          "index": 147,
          "value": -0.02104379432595547,
          "variable": "0.22"
         },
         {
          "index": 148,
          "value": -0.020745697784124394,
          "variable": "0.22"
         },
         {
          "index": 149,
          "value": -0.020443213779375868,
          "variable": "0.22"
         },
         {
          "index": 150,
          "value": -0.020136834326863955,
          "variable": "0.22"
         },
         {
          "index": 151,
          "value": -0.01982703089540233,
          "variable": "0.22"
         },
         {
          "index": 152,
          "value": -0.019514254982702522,
          "variable": "0.22"
         },
         {
          "index": 153,
          "value": -0.019198938680707694,
          "variable": "0.22"
         },
         {
          "index": 154,
          "value": -0.018881495230989708,
          "variable": "0.22"
         },
         {
          "index": 155,
          "value": -0.018562319570187967,
          "variable": "0.22"
         },
         {
          "index": 156,
          "value": -0.01824178886547848,
          "variable": "0.22"
         },
         {
          "index": 157,
          "value": -0.01792026304007154,
          "variable": "0.22"
         },
         {
          "index": 158,
          "value": -0.01759808528874545,
          "variable": "0.22"
         },
         {
          "index": 159,
          "value": -0.017275582583432616,
          "variable": "0.22"
         },
         {
          "index": 160,
          "value": -0.016953066168882418,
          "variable": "0.22"
         },
         {
          "index": 161,
          "value": -0.016630832048433495,
          "variable": "0.22"
         },
         {
          "index": 162,
          "value": -0.016309161459935197,
          "variable": "0.22"
         },
         {
          "index": 163,
          "value": -0.015988321341865317,
          "variable": "0.22"
         },
         {
          "index": 164,
          "value": -0.015668564789697567,
          "variable": "0.22"
         },
         {
          "index": 165,
          "value": -0.015350131502579007,
          "variable": "0.22"
         },
         {
          "index": 166,
          "value": -0.01503324822038301,
          "variable": "0.22"
         },
         {
          "index": 167,
          "value": -0.014718129151209555,
          "variable": "0.22"
         },
         {
          "index": 168,
          "value": -0.01440497638940923,
          "variable": "0.22"
         },
         {
          "index": 169,
          "value": -0.014093980324212904,
          "variable": "0.22"
         },
         {
          "index": 170,
          "value": -0.013785320039052976,
          "variable": "0.22"
         },
         {
          "index": 171,
          "value": -0.013479163701667072,
          "variable": "0.22"
         },
         {
          "index": 172,
          "value": -0.01317566894507837,
          "variable": "0.22"
         },
         {
          "index": 173,
          "value": -0.012874983239551165,
          "variable": "0.22"
         },
         {
          "index": 174,
          "value": -0.01257724425562304,
          "variable": "0.22"
         },
         {
          "index": 175,
          "value": -0.012282580218318837,
          "variable": "0.22"
         },
         {
          "index": 176,
          "value": -0.011991110252653994,
          "variable": "0.22"
         },
         {
          "index": 177,
          "value": -0.011702944720537997,
          "variable": "0.22"
         },
         {
          "index": 178,
          "value": -0.01141818554919069,
          "variable": "0.22"
         },
         {
          "index": 179,
          "value": -0.011136926551186916,
          "variable": "0.22"
         },
         {
          "index": 180,
          "value": -0.010859253736246424,
          "variable": "0.22"
         },
         {
          "index": 181,
          "value": -0.010585245614888394,
          "variable": "0.22"
         },
         {
          "index": 182,
          "value": -0.01031497349407095,
          "variable": "0.22"
         },
         {
          "index": 183,
          "value": -0.010048501764938001,
          "variable": "0.22"
         },
         {
          "index": 184,
          "value": -0.009785888182796505,
          "variable": "0.22"
         },
         {
          "index": 185,
          "value": -0.009527184139448806,
          "variable": "0.22"
         },
         {
          "index": 186,
          "value": -0.00927243492800506,
          "variable": "0.22"
         },
         {
          "index": 187,
          "value": -0.009021680000302111,
          "variable": "0.22"
         },
         {
          "index": 188,
          "value": -0.00877495321705515,
          "variable": "0.22"
         },
         {
          "index": 189,
          "value": -0.00853228309086954,
          "variable": "0.22"
         },
         {
          "index": 190,
          "value": -0.008293693022239902,
          "variable": "0.22"
         },
         {
          "index": 191,
          "value": -0.008059201528664385,
          "variable": "0.22"
         },
         {
          "index": 192,
          "value": -0.007828822467001367,
          "variable": "0.22"
         },
         {
          "index": 193,
          "value": -0.007602565249196518,
          "variable": "0.22"
         },
         {
          "index": 194,
          "value": -0.007380435051507288,
          "variable": "0.22"
         },
         {
          "index": 195,
          "value": -0.007162433017352181,
          "variable": "0.22"
         },
         {
          "index": 196,
          "value": -0.006948556453911264,
          "variable": "0.22"
         },
         {
          "index": 197,
          "value": -0.00673879902260439,
          "variable": "0.22"
         },
         {
          "index": 198,
          "value": -0.006533150923572488,
          "variable": "0.22"
         },
         {
          "index": 199,
          "value": -0.0063315990742871696,
          "variable": "0.22"
         },
         {
          "index": 0,
          "value": 1,
          "variable": "0.44"
         },
         {
          "index": 1,
          "value": 0.9745873507247286,
          "variable": "0.44"
         },
         {
          "index": 2,
          "value": 0.9486505562296325,
          "variable": "0.44"
         },
         {
          "index": 3,
          "value": 0.9222623993878611,
          "variable": "0.44"
         },
         {
          "index": 4,
          "value": 0.8954929155783599,
          "variable": "0.44"
         },
         {
          "index": 5,
          "value": 0.8684094001725298,
          "variable": "0.44"
         },
         {
          "index": 6,
          "value": 0.8410764206291402,
          "variable": "0.44"
         },
         {
          "index": 7,
          "value": 0.8135558329496848,
          "variable": "0.44"
         },
         {
          "index": 8,
          "value": 0.7859068022505982,
          "variable": "0.44"
         },
         {
          "index": 9,
          "value": 0.7581858272132139,
          "variable": "0.44"
         },
         {
          "index": 10,
          "value": 0.7304467681770223,
          "variable": "0.44"
         },
         {
          "index": 11,
          "value": 0.7027408786466628,
          "variable": "0.44"
         },
         {
          "index": 12,
          "value": 0.6751168399881327,
          "variable": "0.44"
         },
         {
          "index": 13,
          "value": 0.6476207990949155,
          "variable": "0.44"
         },
         {
          "index": 14,
          "value": 0.6202964088100777,
          "variable": "0.44"
         },
         {
          "index": 15,
          "value": 0.5931848708958717,
          "variable": "0.44"
         },
         {
          "index": 16,
          "value": 0.5663249813479689,
          "variable": "0.44"
         },
         {
          "index": 17,
          "value": 0.5397531778571363,
          "variable": "0.44"
         },
         {
          "index": 18,
          "value": 0.51350358922693,
          "variable": "0.44"
         },
         {
          "index": 19,
          "value": 0.48760808656181476,
          "variable": "0.44"
         },
         {
          "index": 20,
          "value": 0.46209633604599504,
          "variable": "0.44"
         },
         {
          "index": 21,
          "value": 0.4369958531391651,
          "variable": "0.44"
         },
         {
          "index": 22,
          "value": 0.41233205802132944,
          "variable": "0.44"
         },
         {
          "index": 23,
          "value": 0.3881283321248031,
          "variable": "0.44"
         },
         {
          "index": 24,
          "value": 0.36440607559746185,
          "variable": "0.44"
         },
         {
          "index": 25,
          "value": 0.34118476554726324,
          "variable": "0.44"
         },
         {
          "index": 26,
          "value": 0.3184820149239908,
          "variable": "0.44"
         },
         {
          "index": 27,
          "value": 0.29631363190007737,
          "variable": "0.44"
         },
         {
          "index": 28,
          "value": 0.2746936796182268,
          "variable": "0.44"
         },
         {
          "index": 29,
          "value": 0.2536345361793704,
          "variable": "0.44"
         },
         {
          "index": 30,
          "value": 0.23314695475025685,
          "variable": "0.44"
         },
         {
          "index": 31,
          "value": 0.2132401236756721,
          "variable": "0.44"
         },
         {
          "index": 32,
          "value": 0.19392172648591202,
          "variable": "0.44"
         },
         {
          "index": 33,
          "value": 0.17519800169568506,
          "variable": "0.44"
         },
         {
          "index": 34,
          "value": 0.15707380229608517,
          "variable": "0.44"
         },
         {
          "index": 35,
          "value": 0.13955265484665572,
          "variable": "0.44"
         },
         {
          "index": 36,
          "value": 0.1226368180798468,
          "variable": "0.44"
         },
         {
          "index": 37,
          "value": 0.10632734093535325,
          "variable": "0.44"
         },
         {
          "index": 38,
          "value": 0.09062411994689723,
          "variable": "0.44"
         },
         {
          "index": 39,
          "value": 0.07552595590899278,
          "variable": "0.44"
         },
         {
          "index": 40,
          "value": 0.06103060975608741,
          "variable": "0.44"
         },
         {
          "index": 41,
          "value": 0.047134857591218875,
          "variable": "0.44"
         },
         {
          "index": 42,
          "value": 0.03383454480594958,
          "variable": "0.44"
         },
         {
          "index": 43,
          "value": 0.02112463923784929,
          "variable": "0.44"
         },
         {
          "index": 44,
          "value": 0.00899928331617153,
          "variable": "0.44"
         },
         {
          "index": 45,
          "value": -0.002548154849369651,
          "variable": "0.44"
         },
         {
          "index": 46,
          "value": -0.013525031477689974,
          "variable": "0.44"
         },
         {
          "index": 47,
          "value": -0.02393937826025619,
          "variable": "0.44"
         },
         {
          "index": 48,
          "value": -0.033799854672932526,
          "variable": "0.44"
         },
         {
          "index": 49,
          "value": -0.04311570148510199,
          "variable": "0.44"
         },
         {
          "index": 50,
          "value": -0.051896695491799975,
          "variable": "0.44"
         },
         {
          "index": 51,
          "value": -0.06015310549111711,
          "variable": "0.44"
         },
         {
          "index": 52,
          "value": -0.06789564952577447,
          "variable": "0.44"
         },
         {
          "index": 53,
          "value": -0.07513545340455408,
          "variable": "0.44"
         },
         {
          "index": 54,
          "value": -0.08188401051617294,
          "variable": "0.44"
         },
         {
          "index": 55,
          "value": -0.08815314294522839,
          "variable": "0.44"
         },
         {
          "index": 56,
          "value": -0.09395496389700286,
          "variable": "0.44"
         },
         {
          "index": 57,
          "value": -0.09930184143521005,
          "variable": "0.44"
         },
         {
          "index": 58,
          "value": -0.10420636353417766,
          "variable": "0.44"
         },
         {
          "index": 59,
          "value": -0.1086813044445045,
          "variable": "0.44"
         },
         {
          "index": 60,
          "value": -0.11273959236889015,
          "variable": "0.44"
         },
         {
          "index": 61,
          "value": -0.11639427844261885,
          "variable": "0.44"
         },
         {
          "index": 62,
          "value": -0.11965850701108131,
          "variable": "0.44"
         },
         {
          "index": 63,
          "value": -0.12254548719473456,
          "variable": "0.44"
         },
         {
          "index": 64,
          "value": -0.12506846573003583,
          "variable": "0.44"
         },
         {
          "index": 65,
          "value": -0.1272407010731283,
          "variable": "0.44"
         },
         {
          "index": 66,
          "value": -0.1290754387514133,
          "variable": "0.44"
         },
         {
          "index": 67,
          "value": -0.13058588794660658,
          "variable": "0.44"
         },
         {
          "index": 68,
          "value": -0.1317851992914427,
          "variable": "0.44"
         },
         {
          "index": 69,
          "value": -0.13268644386086353,
          "variable": "0.44"
         },
         {
          "index": 70,
          "value": -0.13330259333729635,
          "variable": "0.44"
         },
         {
          "index": 71,
          "value": -0.1336465013284941,
          "variable": "0.44"
         },
         {
          "index": 72,
          "value": -0.13373088581537473,
          "variable": "0.44"
         },
         {
          "index": 73,
          "value": -0.13356831270634817,
          "variable": "0.44"
         },
         {
          "index": 74,
          "value": -0.13317118047376408,
          "variable": "0.44"
         },
         {
          "index": 75,
          "value": -0.13255170584734258,
          "variable": "0.44"
         },
         {
          "index": 76,
          "value": -0.13172191053876262,
          "variable": "0.44"
         },
         {
          "index": 77,
          "value": -0.13069360897097668,
          "variable": "0.44"
         },
         {
          "index": 78,
          "value": -0.12947839698529062,
          "variable": "0.44"
         },
         {
          "index": 79,
          "value": -0.1280876414987943,
          "variable": "0.44"
         },
         {
          "index": 80,
          "value": -0.1265324710843462,
          "variable": "0.44"
         },
         {
          "index": 81,
          "value": -0.12482376744500237,
          "variable": "0.44"
         },
         {
          "index": 82,
          "value": -0.1229721577545339,
          "variable": "0.44"
         },
         {
          "index": 83,
          "value": -0.12098800783549375,
          "variable": "0.44"
         },
         {
          "index": 84,
          "value": -0.11888141614617201,
          "variable": "0.44"
         },
         {
          "index": 85,
          "value": -0.11666220854771504,
          "variable": "0.44"
         },
         {
          "index": 86,
          "value": -0.11433993382267377,
          "variable": "0.44"
         },
         {
          "index": 87,
          "value": -0.11192385991629167,
          "variable": "0.44"
         },
         {
          "index": 88,
          "value": -0.10942297087193614,
          "variable": "0.44"
         },
         {
          "index": 89,
          "value": -0.1068459644322181,
          "variable": "0.44"
         },
         {
          "index": 90,
          "value": -0.1042012502775301,
          "variable": "0.44"
         },
         {
          "index": 91,
          "value": -0.1014969488739625,
          "variable": "0.44"
         },
         {
          "index": 92,
          "value": -0.09874089090282347,
          "variable": "0.44"
         },
         {
          "index": 93,
          "value": -0.09594061724429508,
          "variable": "0.44"
         },
         {
          "index": 94,
          "value": -0.09310337948809695,
          "variable": "0.44"
         },
         {
          "index": 95,
          "value": -0.09023614094440181,
          "variable": "0.44"
         },
         {
          "index": 96,
          "value": -0.08734557812865044,
          "variable": "0.44"
         },
         {
          "index": 97,
          "value": -0.08443808269434412,
          "variable": "0.44"
         },
         {
          "index": 98,
          "value": -0.08151976378835017,
          "variable": "0.44"
         },
         {
          "index": 99,
          "value": -0.07859645080373658,
          "variable": "0.44"
         },
         {
          "index": 100,
          "value": -0.07567369650565466,
          "variable": "0.44"
         },
         {
          "index": 101,
          "value": -0.07275678050631089,
          "variable": "0.44"
         },
         {
          "index": 102,
          "value": -0.06985071306560967,
          "variable": "0.44"
         },
         {
          "index": 103,
          "value": -0.0669602391946049,
          "variable": "0.44"
         },
         {
          "index": 104,
          "value": -0.06408984303946899,
          "variable": "0.44"
         },
         {
          "index": 105,
          "value": -0.06124375252427124,
          "variable": "0.44"
         },
         {
          "index": 106,
          "value": -0.05842594423145108,
          "variable": "0.44"
         },
         {
          "index": 107,
          "value": -0.055640148499475385,
          "variable": "0.44"
         },
         {
          "index": 108,
          "value": -0.05288985471777949,
          "variable": "0.44"
         },
         {
          "index": 109,
          "value": -0.05017831679970897,
          "variable": "0.44"
         },
         {
          "index": 110,
          "value": -0.04750855881480084,
          "variable": "0.44"
         },
         {
          "index": 111,
          "value": -0.04488338076236837,
          "variable": "0.44"
         },
         {
          "index": 112,
          "value": -0.04230536446898054,
          "variable": "0.44"
         },
         {
          "index": 113,
          "value": -0.03977687959305637,
          "variable": "0.44"
         },
         {
          "index": 114,
          "value": -0.03730008972042096,
          "variable": "0.44"
         },
         {
          "index": 115,
          "value": -0.03487695853529768,
          "variable": "0.44"
         },
         {
          "index": 116,
          "value": -0.03250925605183418,
          "variable": "0.44"
         },
         {
          "index": 117,
          "value": -0.030198564891881025,
          "variable": "0.44"
         },
         {
          "index": 118,
          "value": -0.027946286595356376,
          "variable": "0.44"
         },
         {
          "index": 119,
          "value": -0.025753647950142865,
          "variable": "0.44"
         },
         {
          "index": 120,
          "value": -0.023621707329064545,
          "variable": "0.44"
         },
         {
          "index": 121,
          "value": -0.02155136102209189,
          "variable": "0.44"
         },
         {
          "index": 122,
          "value": -0.019543349552509727,
          "variable": "0.44"
         },
         {
          "index": 123,
          "value": -0.0175982639663665,
          "variable": "0.44"
         },
         {
          "index": 124,
          "value": -0.01571655208509391,
          "variable": "0.44"
         },
         {
          "index": 125,
          "value": -0.01389852471174823,
          "variable": "0.44"
         },
         {
          "index": 126,
          "value": -0.012144361781878393,
          "variable": "0.44"
         },
         {
          "index": 127,
          "value": -0.010454118450564947,
          "variable": "0.44"
         },
         {
          "index": 128,
          "value": -0.008827731107706807,
          "variable": "0.44"
         },
         {
          "index": 129,
          "value": -0.007265023314148938,
          "variable": "0.44"
         },
         {
          "index": 130,
          "value": -0.005765711651752908,
          "variable": "0.44"
         },
         {
          "index": 131,
          "value": -0.00432941148100527,
          "variable": "0.44"
         },
         {
          "index": 132,
          "value": -0.002955642600240626,
          "variable": "0.44"
         },
         {
          "index": 133,
          "value": -0.0016438348010262534,
          "variable": "0.44"
         },
         {
          "index": 134,
          "value": -0.000393333314709188,
          "variable": "0.44"
         },
         {
          "index": 135,
          "value": 0.0007965958544287256,
          "variable": "0.44"
         },
         {
          "index": 136,
          "value": 0.0019267607135351895,
          "variable": "0.44"
         },
         {
          "index": 137,
          "value": 0.0029980381867809715,
          "variable": "0.44"
         },
         {
          "index": 138,
          "value": 0.004011369145492285,
          "variable": "0.44"
         },
         {
          "index": 139,
          "value": 0.0049677535657417496,
          "variable": "0.44"
         },
         {
          "index": 140,
          "value": 0.005868245815944164,
          "variable": "0.44"
         },
         {
          "index": 141,
          "value": 0.006713950076642389,
          "variable": "0.44"
         },
         {
          "index": 142,
          "value": 0.007506015894320678,
          "variable": "0.44"
         },
         {
          "index": 143,
          "value": 0.008245633870750751,
          "variable": "0.44"
         },
         {
          "index": 144,
          "value": 0.008934031489054532,
          "variable": "0.44"
         },
         {
          "index": 145,
          "value": 0.009572469077362651,
          "variable": "0.44"
         },
         {
          "index": 146,
          "value": 0.010162235910653674,
          "variable": "0.44"
         },
         {
          "index": 147,
          "value": 0.01070464645108015,
          "variable": "0.44"
         },
         {
          "index": 148,
          "value": 0.011201036726821162,
          "variable": "0.44"
         },
         {
          "index": 149,
          "value": 0.011652760849246857,
          "variable": "0.44"
         },
         {
          "index": 150,
          "value": 0.012061187667940895,
          "variable": "0.44"
         },
         {
          "index": 151,
          "value": 0.01242769756289754,
          "variable": "0.44"
         },
         {
          "index": 152,
          "value": 0.012753679372995602,
          "variable": "0.44"
         },
         {
          "index": 153,
          "value": 0.013040527459647124,
          "variable": "0.44"
         },
         {
          "index": 154,
          "value": 0.013289638904327742,
          "variable": "0.44"
         },
         {
          "index": 155,
          "value": 0.013502410838516042,
          "variable": "0.44"
         },
         {
          "index": 156,
          "value": 0.013680237904400351,
          "variable": "0.44"
         },
         {
          "index": 157,
          "value": 0.013824509844555289,
          "variable": "0.44"
         },
         {
          "index": 158,
          "value": 0.013936609218643467,
          "variable": "0.44"
         },
         {
          "index": 159,
          "value": 0.014017909245063158,
          "variable": "0.44"
         },
         {
          "index": 160,
          "value": 0.014069771765337124,
          "variable": "0.44"
         },
         {
          "index": 161,
          "value": 0.014093545328923382,
          "variable": "0.44"
         },
         {
          "index": 162,
          "value": 0.014090563396023775,
          "variable": "0.44"
         },
         {
          "index": 163,
          "value": 0.014062142655870191,
          "variable": "0.44"
         },
         {
          "index": 164,
          "value": 0.014009581457882843,
          "variable": "0.44"
         },
         {
          "index": 165,
          "value": 0.01393415835301729,
          "variable": "0.44"
         },
         {
          "index": 166,
          "value": 0.013837130742548408,
          "variable": "0.44"
         },
         {
          "index": 167,
          "value": 0.013719733631479457,
          "variable": "0.44"
         },
         {
          "index": 168,
          "value": 0.013583178483711978,
          "variable": "0.44"
         },
         {
          "index": 169,
          "value": 0.013428652176068163,
          "variable": "0.44"
         },
         {
          "index": 170,
          "value": 0.013257316048219999,
          "variable": "0.44"
         },
         {
          "index": 171,
          "value": 0.013070305045550203,
          "variable": "0.44"
         },
         {
          "index": 172,
          "value": 0.012868726951946447,
          "variable": "0.44"
         },
         {
          "index": 173,
          "value": 0.012653661709514648,
          "variable": "0.44"
         },
         {
          "index": 174,
          "value": 0.012426160822186384,
          "variable": "0.44"
         },
         {
          "index": 175,
          "value": 0.01218724684019202,
          "variable": "0.44"
         },
         {
          "index": 176,
          "value": 0.011937912922372172,
          "variable": "0.44"
         },
         {
          "index": 177,
          "value": 0.011679122473307579,
          "variable": "0.44"
         },
         {
          "index": 178,
          "value": 0.011411808852259358,
          "variable": "0.44"
         },
         {
          "index": 179,
          "value": 0.011136875150928836,
          "variable": "0.44"
         },
         {
          "index": 180,
          "value": 0.010855194037067523,
          "variable": "0.44"
         },
         {
          "index": 181,
          "value": 0.010567607660994101,
          "variable": "0.44"
         },
         {
          "index": 182,
          "value": 0.010274927622104921,
          "variable": "0.44"
         },
         {
          "index": 183,
          "value": 0.009977934992498777,
          "variable": "0.44"
         },
         {
          "index": 184,
          "value": 0.00967738039487367,
          "variable": "0.44"
         },
         {
          "index": 185,
          "value": 0.009373984131894554,
          "variable": "0.44"
         },
         {
          "index": 186,
          "value": 0.009068436364274299,
          "variable": "0.44"
         },
         {
          "index": 187,
          "value": 0.008761397334857403,
          "variable": "0.44"
         },
         {
          "index": 188,
          "value": 0.008453497636044714,
          "variable": "0.44"
         },
         {
          "index": 189,
          "value": 0.008145338517949746,
          "variable": "0.44"
         },
         {
          "index": 190,
          "value": 0.007837492234730497,
          "variable": "0.44"
         },
         {
          "index": 191,
          "value": 0.007530502426597349,
          "variable": "0.44"
         },
         {
          "index": 192,
          "value": 0.007224884535054475,
          "variable": "0.44"
         },
         {
          "index": 193,
          "value": 0.006921126248992524,
          "variable": "0.44"
         },
         {
          "index": 194,
          "value": 0.006619687979310124,
          "variable": "0.44"
         },
         {
          "index": 195,
          "value": 0.0063210033598045876,
          "variable": "0.44"
         },
         {
          "index": 196,
          "value": 0.0060254797721346065,
          "variable": "0.44"
         },
         {
          "index": 197,
          "value": 0.005733498892722228,
          "variable": "0.44"
         },
         {
          "index": 198,
          "value": 0.005445417259525574,
          "variable": "0.44"
         },
         {
          "index": 199,
          "value": 0.005161566856679616,
          "variable": "0.44"
         },
         {
          "index": 0,
          "value": 1,
          "variable": "0.67"
         },
         {
          "index": 1,
          "value": 0.9738374705194033,
          "variable": "0.67"
         },
         {
          "index": 2,
          "value": 0.9457283858196014,
          "variable": "0.67"
         },
         {
          "index": 3,
          "value": 0.9158613416745487,
          "variable": "0.67"
         },
         {
          "index": 4,
          "value": 0.8844215193986756,
          "variable": "0.67"
         },
         {
          "index": 5,
          "value": 0.8515902392173009,
          "variable": "0.67"
         },
         {
          "index": 6,
          "value": 0.8175445483276395,
          "variable": "0.67"
         },
         {
          "index": 7,
          "value": 0.782456843316027,
          "variable": "0.67"
         },
         {
          "index": 8,
          "value": 0.7464945264994589,
          "variable": "0.67"
         },
         {
          "index": 9,
          "value": 0.7098196956682284,
          "variable": "0.67"
         },
         {
          "index": 10,
          "value": 0.6725888666213561,
          "variable": "0.67"
         },
         {
          "index": 11,
          "value": 0.6349527278075876,
          "variable": "0.67"
         },
         {
          "index": 12,
          "value": 0.5970559263119679,
          "variable": "0.67"
         },
         {
          "index": 13,
          "value": 0.559036884361326,
          "variable": "0.67"
         },
         {
          "index": 14,
          "value": 0.5210276454613304,
          "variable": "0.67"
         },
         {
          "index": 15,
          "value": 0.4831537492230171,
          "variable": "0.67"
         },
         {
          "index": 16,
          "value": 0.44553413388775,
          "variable": "0.67"
         },
         {
          "index": 17,
          "value": 0.408281065516301,
          "variable": "0.67"
         },
         {
          "index": 18,
          "value": 0.3715000927700319,
          "variable": "0.67"
         },
         {
          "index": 19,
          "value": 0.3352900261798422,
          "variable": "0.67"
         },
         {
          "index": 20,
          "value": 0.29974294077148256,
          "variable": "0.67"
         },
         {
          "index": 21,
          "value": 0.26494420089384546,
          "variable": "0.67"
         },
         {
          "index": 22,
          "value": 0.2309725060797553,
          "variable": "0.67"
         },
         {
          "index": 23,
          "value": 0.1978999567564155,
          "variable": "0.67"
         },
         {
          "index": 24,
          "value": 0.16579213861482184,
          "variable": "0.67"
         },
         {
          "index": 25,
          "value": 0.1347082244439521,
          "variable": "0.67"
         },
         {
          "index": 26,
          "value": 0.10470109223615395,
          "variable": "0.67"
         },
         {
          "index": 27,
          "value": 0.07581745837470985,
          "variable": "0.67"
         },
         {
          "index": 28,
          "value": 0.048098024722824026,
          "variable": "0.67"
         },
         {
          "index": 29,
          "value": 0.021577638445051152,
          "variable": "0.67"
         },
         {
          "index": 30,
          "value": -0.0037145365927307317,
          "variable": "0.67"
         },
         {
          "index": 31,
          "value": -0.027754837980543713,
          "variable": "0.67"
         },
         {
          "index": 32,
          "value": -0.05052491359342746,
          "variable": "0.67"
         },
         {
          "index": 33,
          "value": -0.07201152218344524,
          "variable": "0.67"
         },
         {
          "index": 34,
          "value": -0.09220632679941738,
          "variable": "0.67"
         },
         {
          "index": 35,
          "value": -0.11110568207080831,
          "variable": "0.67"
         },
         {
          "index": 36,
          "value": -0.1287104163617478,
          "variable": "0.67"
         },
         {
          "index": 37,
          "value": -0.14502560976886664,
          "variable": "0.67"
         },
         {
          "index": 38,
          "value": -0.16006036890269268,
          "variable": "0.67"
         },
         {
          "index": 39,
          "value": -0.1738275993569572,
          "variable": "0.67"
         },
         {
          "index": 40,
          "value": -0.18634377673350586,
          "variable": "0.67"
         },
         {
          "index": 41,
          "value": -0.19762871705277424,
          "variable": "0.67"
         },
         {
          "index": 42,
          "value": -0.2077053473411473,
          "variable": "0.67"
         },
         {
          "index": 43,
          "value": -0.21659947714715375,
          "variable": "0.67"
         },
         {
          "index": 44,
          "value": -0.22433957169851323,
          "variable": "0.67"
         },
         {
          "index": 45,
          "value": -0.23095652737172212,
          "variable": "0.67"
         },
         {
          "index": 46,
          "value": -0.23648345010527067,
          "variable": "0.67"
         },
         {
          "index": 47,
          "value": -0.24095543734690214,
          "variable": "0.67"
         },
         {
          "index": 48,
          "value": -0.24440936408466613,
          "variable": "0.67"
         },
         {
          "index": 49,
          "value": -0.24688367347103954,
          "variable": "0.67"
         },
         {
          "index": 50,
          "value": -0.24841817250919757,
          "variable": "0.67"
         },
         {
          "index": 51,
          "value": -0.24905383323074576,
          "variable": "0.67"
         },
         {
          "index": 52,
          "value": -0.24883259975497748,
          "variable": "0.67"
         },
         {
          "index": 53,
          "value": -0.24779720158110208,
          "variable": "0.67"
         },
         {
          "index": 54,
          "value": -0.24599097342700035,
          "variable": "0.67"
         },
         {
          "index": 55,
          "value": -0.24345768189099265,
          "variable": "0.67"
         },
         {
          "index": 56,
          "value": -0.2402413591769302,
          "variable": "0.67"
         },
         {
          "index": 57,
          "value": -0.23638614408772685,
          "variable": "0.67"
         },
         {
          "index": 58,
          "value": -0.23193613045829561,
          "variable": "0.67"
         },
         {
          "index": 59,
          "value": -0.22693522316581005,
          "variable": "0.67"
         },
         {
          "index": 60,
          "value": -0.2214270018233293,
          "variable": "0.67"
         },
         {
          "index": 61,
          "value": -0.21545459223215382,
          "variable": "0.67"
         },
         {
          "index": 62,
          "value": -0.20906054563886073,
          "variable": "0.67"
         },
         {
          "index": 63,
          "value": -0.20228672581483997,
          "variable": "0.67"
         },
         {
          "index": 64,
          "value": -0.19517420394934296,
          "variable": "0.67"
         },
         {
          "index": 65,
          "value": -0.18776316132159035,
          "variable": "0.67"
         },
         {
          "index": 66,
          "value": -0.1800927996933822,
          "variable": "0.67"
         },
         {
          "index": 67,
          "value": -0.1722012593409268,
          "variable": "0.67"
         },
         {
          "index": 68,
          "value": -0.1641255446232601,
          "variable": "0.67"
         },
         {
          "index": 69,
          "value": -0.15590145696466842,
          "variable": "0.67"
         },
         {
          "index": 70,
          "value": -0.14756353510995693,
          "variable": "0.67"
         },
         {
          "index": 71,
          "value": -0.1391450024942073,
          "variable": "0.67"
         },
         {
          "index": 72,
          "value": -0.13067772155284466,
          "variable": "0.67"
         },
         {
          "index": 73,
          "value": -0.12219215478335596,
          "variable": "0.67"
         },
         {
          "index": 74,
          "value": -0.11371733235686662,
          "variable": "0.67"
         },
         {
          "index": 75,
          "value": -0.10528082606595282,
          "variable": "0.67"
         },
         {
          "index": 76,
          "value": -0.09690872938452973,
          "variable": "0.67"
         },
         {
          "index": 77,
          "value": -0.08862564340637794,
          "variable": "0.67"
         },
         {
          "index": 78,
          "value": -0.08045466842081919,
          "variable": "0.67"
         },
         {
          "index": 79,
          "value": -0.07241740087719833,
          "variable": "0.67"
         },
         {
          "index": 80,
          "value": -0.06453393548413248,
          "variable": "0.67"
         },
         {
          "index": 81,
          "value": -0.05682287218491565,
          "variable": "0.67"
         },
         {
          "index": 82,
          "value": -0.049301327746971914,
          "variable": "0.67"
         },
         {
          "index": 83,
          "value": -0.04198495170080234,
          "variable": "0.67"
         },
         {
          "index": 84,
          "value": -0.034887946362410334,
          "variable": "0.67"
         },
         {
          "index": 85,
          "value": -0.02802309067269302,
          "variable": "0.67"
         },
         {
          "index": 86,
          "value": -0.021401767587691578,
          "variable": "0.67"
         },
         {
          "index": 87,
          "value": -0.015033994754860202,
          "variable": "0.67"
         },
         {
          "index": 88,
          "value": -0.008928458212600862,
          "variable": "0.67"
         },
         {
          "index": 89,
          "value": -0.0030925488531646367,
          "variable": "0.67"
         },
         {
          "index": 90,
          "value": 0.002467598607407219,
          "variable": "0.67"
         },
         {
          "index": 91,
          "value": 0.007747064404373793,
          "variable": "0.67"
         },
         {
          "index": 92,
          "value": 0.012742100491615616,
          "variable": "0.67"
         },
         {
          "index": 93,
          "value": 0.01745008554292364,
          "variable": "0.67"
         },
         {
          "index": 94,
          "value": 0.021869478423001566,
          "variable": "0.67"
         },
         {
          "index": 95,
          "value": 0.02599977035744909,
          "variable": "0.67"
         },
         {
          "index": 96,
          "value": 0.029841436024068586,
          "variable": "0.67"
         },
         {
          "index": 97,
          "value": 0.03339588378051731,
          "variable": "0.67"
         },
         {
          "index": 98,
          "value": 0.036665405235654716,
          "variable": "0.67"
         },
         {
          "index": 99,
          "value": 0.03965312436394585,
          "variable": "0.67"
         },
         {
          "index": 100,
          "value": 0.042362946354026994,
          "variable": "0.67"
         },
         {
          "index": 101,
          "value": 0.04479950637405622,
          "variable": "0.67"
         },
         {
          "index": 102,
          "value": 0.046968118427795615,
          "variable": "0.67"
         },
         {
          "index": 103,
          "value": 0.04887472446654652,
          "variable": "0.67"
         },
         {
          "index": 104,
          "value": 0.050525843913119026,
          "variable": "0.67"
         },
         {
          "index": 105,
          "value": 0.051928523744995826,
          "variable": "0.67"
         },
         {
          "index": 106,
          "value": 0.05309028927478372,
          "variable": "0.67"
         },
         {
          "index": 107,
          "value": 0.05401909575696821,
          "variable": "0.67"
         },
         {
          "index": 108,
          "value": 0.05472328094092148,
          "variable": "0.67"
         },
         {
          "index": 109,
          "value": 0.05521151868110028,
          "variable": "0.67"
         },
         {
          "index": 110,
          "value": 0.05549277370642697,
          "variable": "0.67"
         },
         {
          "index": 111,
          "value": 0.05557625764200489,
          "variable": "0.67"
         },
         {
          "index": 112,
          "value": 0.05547138636760279,
          "variable": "0.67"
         },
         {
          "index": 113,
          "value": 0.05518773878877209,
          "variable": "0.67"
         },
         {
          "index": 114,
          "value": 0.05473501708805896,
          "variable": "0.67"
         },
         {
          "index": 115,
          "value": 0.0541230085155606,
          "variable": "0.67"
         },
         {
          "index": 116,
          "value": 0.05336154877006648,
          "variable": "0.67"
         },
         {
          "index": 117,
          "value": 0.05246048701424114,
          "variable": "0.67"
         },
         {
          "index": 118,
          "value": 0.05142965255975749,
          "variable": "0.67"
         },
         {
          "index": 119,
          "value": 0.050278823250992775,
          "variable": "0.67"
         },
         {
          "index": 120,
          "value": 0.049017695568865774,
          "variable": "0.67"
         },
         {
          "index": 121,
          "value": 0.047655856469632794,
          "variable": "0.67"
         },
         {
          "index": 122,
          "value": 0.04620275696698185,
          "variable": "0.67"
         },
         {
          "index": 123,
          "value": 0.04466768745957546,
          "variable": "0.67"
         },
         {
          "index": 124,
          "value": 0.043059754800300436,
          "variable": "0.67"
         },
         {
          "index": 125,
          "value": 0.04138786109789135,
          "variable": "0.67"
         },
         {
          "index": 126,
          "value": 0.03966068423630839,
          "variable": "0.67"
         },
         {
          "index": 127,
          "value": 0.03788666009227141,
          "variable": "0.67"
         },
         {
          "index": 128,
          "value": 0.03607396642668234,
          "variable": "0.67"
         },
         {
          "index": 129,
          "value": 0.03423050842130752,
          "variable": "0.67"
         },
         {
          "index": 130,
          "value": 0.03236390582803983,
          "variable": "0.67"
         },
         {
          "index": 131,
          "value": 0.030481481694315672,
          "variable": "0.67"
         },
         {
          "index": 132,
          "value": 0.028590252624821032,
          "variable": "0.67"
         },
         {
          "index": 133,
          "value": 0.02669692053648121,
          "variable": "0.67"
         },
         {
          "index": 134,
          "value": 0.024807865860885705,
          "variable": "0.67"
         },
         {
          "index": 135,
          "value": 0.022929142145747282,
          "variable": "0.67"
         },
         {
          "index": 136,
          "value": 0.021066472004728127,
          "variable": "0.67"
         },
         {
          "index": 137,
          "value": 0.019225244362978986,
          "variable": "0.67"
         },
         {
          "index": 138,
          "value": 0.01741051294402082,
          "variable": "0.67"
         },
         {
          "index": 139,
          "value": 0.015626995942148728,
          "variable": "0.67"
         },
         {
          "index": 140,
          "value": 0.01387907682334193,
          "variable": "0.67"
         },
         {
          "index": 141,
          "value": 0.012170806196716885,
          "variable": "0.67"
         },
         {
          "index": 142,
          "value": 0.010505904697852252,
          "variable": "0.67"
         },
         {
          "index": 143,
          "value": 0.008887766824834057,
          "variable": "0.67"
         },
         {
          "index": 144,
          "value": 0.007319465667610548,
          "variable": "0.67"
         },
         {
          "index": 145,
          "value": 0.0058037584711959495,
          "variable": "0.67"
         },
         {
          "index": 146,
          "value": 0.004343092973411298,
          "variable": "0.67"
         },
         {
          "index": 147,
          "value": 0.002939614458190019,
          "variable": "0.67"
         },
         {
          "index": 148,
          "value": 0.001595173465993598,
          "variable": "0.67"
         },
         {
          "index": 149,
          "value": 0.00031133410356833606,
          "variable": "0.67"
         },
         {
          "index": 150,
          "value": -0.0009106171038811511,
          "variable": "0.67"
         },
         {
          "index": 151,
          "value": -0.002069661874034578,
          "variable": "0.67"
         },
         {
          "index": 152,
          "value": -0.003165040397119931,
          "variable": "0.67"
         },
         {
          "index": 153,
          "value": -0.004196241187448534,
          "variable": "0.67"
         },
         {
          "index": 154,
          "value": -0.005162990609000447,
          "variable": "0.67"
         },
         {
          "index": 155,
          "value": -0.006065242125762982,
          "variable": "0.67"
         },
         {
          "index": 156,
          "value": -0.006903165325952751,
          "variable": "0.67"
         },
         {
          "index": 157,
          "value": -0.007677134767593278,
          "variable": "0.67"
         },
         {
          "index": 158,
          "value": -0.008387718691186142,
          "variable": "0.67"
         },
         {
          "index": 159,
          "value": -0.009035667643412586,
          "variable": "0.67"
         },
         {
          "index": 160,
          "value": -0.009621903053944341,
          "variable": "0.67"
         },
         {
          "index": 161,
          "value": -0.010147505805534928,
          "variable": "0.67"
         },
         {
          "index": 162,
          "value": -0.010613704835617773,
          "variable": "0.67"
         },
         {
          "index": 163,
          "value": -0.011021865805657326,
          "variable": "0.67"
         },
         {
          "index": 164,
          "value": -0.011373479872500428,
          "variable": "0.67"
         },
         {
          "index": 165,
          "value": -0.01167015259395727,
          "variable": "0.67"
         },
         {
          "index": 166,
          "value": -0.01191359299881717,
          "variable": "0.67"
         },
         {
          "index": 167,
          "value": -0.012105602849478602,
          "variable": "0.67"
         },
         {
          "index": 168,
          "value": -0.01224806612335383,
          "variable": "0.67"
         },
         {
          "index": 169,
          "value": -0.012342938737200113,
          "variable": "0.67"
         },
         {
          "index": 170,
          "value": -0.012392238536541166,
          "variable": "0.67"
         },
         {
          "index": 171,
          "value": -0.012398035570377124,
          "variable": "0.67"
         },
         {
          "index": 172,
          "value": -0.012362442669445249,
          "variable": "0.67"
         },
         {
          "index": 173,
          "value": -0.012287606344392528,
          "variable": "0.67"
         },
         {
          "index": 174,
          "value": -0.012175698018358645,
          "variable": "0.67"
         },
         {
          "index": 175,
          "value": -0.012028905606648415,
          "variable": "0.67"
         },
         {
          "index": 176,
          "value": -0.01184942545440068,
          "variable": "0.67"
         },
         {
          "index": 177,
          "value": -0.011639454641439282,
          "variable": "0.67"
         },
         {
          "index": 178,
          "value": -0.01140118366182385,
          "variable": "0.67"
         },
         {
          "index": 179,
          "value": -0.011136789484007766,
          "variable": "0.67"
         },
         {
          "index": 180,
          "value": -0.010848428995958856,
          "variable": "0.67"
         },
         {
          "index": 181,
          "value": -0.010538232838108936,
          "variable": "0.67"
         },
         {
          "index": 182,
          "value": -0.010208299625571564,
          "variable": "0.67"
         },
         {
          "index": 183,
          "value": -0.009860690559706764,
          "variable": "0.67"
         },
         {
          "index": 184,
          "value": -0.00949742442781604,
          "variable": "0.67"
         },
         {
          "index": 185,
          "value": -0.009120472988524577,
          "variable": "0.67"
         },
         {
          "index": 186,
          "value": -0.00873175673924766,
          "variable": "0.67"
         },
         {
          "index": 187,
          "value": -0.008333141061048948,
          "variable": "0.67"
         },
         {
          "index": 188,
          "value": -0.007926432735176205,
          "variable": "0.67"
         },
         {
          "index": 189,
          "value": -0.007513376824608588,
          "variable": "0.67"
         },
         {
          "index": 190,
          "value": -0.0070956539130652245,
          "variable": "0.67"
         },
         {
          "index": 191,
          "value": -0.006674877693110735,
          "variable": "0.67"
         },
         {
          "index": 192,
          "value": -0.006252592894244729,
          "variable": "0.67"
         },
         {
          "index": 193,
          "value": -0.005830273541182685,
          "variable": "0.67"
         },
         {
          "index": 194,
          "value": -0.005409321531920031,
          "variable": "0.67"
         },
         {
          "index": 195,
          "value": -0.004991065524621827,
          "variable": "0.67"
         },
         {
          "index": 196,
          "value": -0.004576760121892658,
          "variable": "0.67"
         },
         {
          "index": 197,
          "value": -0.0041675853405574205,
          "variable": "0.67"
         },
         {
          "index": 198,
          "value": -0.0037646463547176836,
          "variable": "0.67"
         },
         {
          "index": 199,
          "value": -0.0033689734995427426,
          "variable": "0.67"
         },
         {
          "index": 0,
          "value": 1,
          "variable": "0.89"
         },
         {
          "index": 1,
          "value": 0.9727879612628669,
          "variable": "0.89"
         },
         {
          "index": 2,
          "value": 0.9416423830002723,
          "variable": "0.89"
         },
         {
          "index": 3,
          "value": 0.9069246848621311,
          "variable": "0.89"
         },
         {
          "index": 4,
          "value": 0.8689979148336411,
          "variable": "0.89"
         },
         {
          "index": 5,
          "value": 0.8282247036972349,
          "variable": "0.89"
         },
         {
          "index": 6,
          "value": 0.7849653220043824,
          "variable": "0.89"
         },
         {
          "index": 7,
          "value": 0.7395758450538669,
          "variable": "0.89"
         },
         {
          "index": 8,
          "value": 0.6924064305189672,
          "variable": "0.89"
         },
         {
          "index": 9,
          "value": 0.6437997125285108,
          "variable": "0.89"
         },
         {
          "index": 10,
          "value": 0.5940893151897417,
          "variable": "0.89"
         },
         {
          "index": 11,
          "value": 0.5435984877477923,
          "variable": "0.89"
         },
         {
          "index": 12,
          "value": 0.49263886281036745,
          "variable": "0.89"
         },
         {
          "index": 13,
          "value": 0.44150933832990436,
          "variable": "0.89"
         },
         {
          "index": 14,
          "value": 0.39049508333144956,
          "variable": "0.89"
         },
         {
          "index": 15,
          "value": 0.3398666667050472,
          "variable": "0.89"
         },
         {
          "index": 16,
          "value": 0.28987930774848214,
          "variable": "0.89"
         },
         {
          "index": 17,
          "value": 0.24077224655140497,
          "variable": "0.89"
         },
         {
          "index": 18,
          "value": 0.19276823175654523,
          "variable": "0.89"
         },
         {
          "index": 19,
          "value": 0.14607312271894088,
          "variable": "0.89"
         },
         {
          "index": 20,
          "value": 0.10087560261071428,
          "variable": "0.89"
         },
         {
          "index": 21,
          "value": 0.05734699858740558,
          "variable": "0.89"
         },
         {
          "index": 22,
          "value": 0.015641204742535816,
          "variable": "0.89"
         },
         {
          "index": 23,
          "value": -0.024105296770033556,
          "variable": "0.89"
         },
         {
          "index": 24,
          "value": -0.06177332137147798,
          "variable": "0.89"
         },
         {
          "index": 25,
          "value": -0.09726077964011148,
          "variable": "0.89"
         },
         {
          "index": 26,
          "value": -0.13048239225166328,
          "variable": "0.89"
         },
         {
          "index": 27,
          "value": -0.16136932787143318,
          "variable": "0.89"
         },
         {
          "index": 28,
          "value": -0.18986876973505995,
          "variable": "0.89"
         },
         {
          "index": 29,
          "value": -0.21594341675960668,
          "variable": "0.89"
         },
         {
          "index": 30,
          "value": -0.23957092509484768,
          "variable": "0.89"
         },
         {
          "index": 31,
          "value": -0.2607432960574956,
          "variable": "0.89"
         },
         {
          "index": 32,
          "value": -0.2794662163901642,
          "variable": "0.89"
         },
         {
          "index": 33,
          "value": -0.2957583567537959,
          "variable": "0.89"
         },
         {
          "index": 34,
          "value": -0.3096506342988484,
          "variable": "0.89"
         },
         {
          "index": 35,
          "value": -0.32118544506855384,
          "variable": "0.89"
         },
         {
          "index": 36,
          "value": -0.33041587186894206,
          "variable": "0.89"
         },
         {
          "index": 37,
          "value": -0.3374048730970015,
          "variable": "0.89"
         },
         {
          "index": 38,
          "value": -0.34222445785232564,
          "variable": "0.89"
         },
         {
          "index": 39,
          "value": -0.344954852470868,
          "variable": "0.89"
         },
         {
          "index": 40,
          "value": -0.34568366341402934,
          "variable": "0.89"
         },
         {
          "index": 41,
          "value": -0.3445050412242664,
          "variable": "0.89"
         },
         {
          "index": 42,
          "value": -0.34151885002173615,
          "variable": "0.89"
         },
         {
          "index": 43,
          "value": -0.33682984676719846,
          "variable": "0.89"
         },
         {
          "index": 44,
          "value": -0.33054687425644264,
          "variable": "0.89"
         },
         {
          "index": 45,
          "value": -0.32278207154281713,
          "variable": "0.89"
         },
         {
          "index": 46,
          "value": -0.3136501052089101,
          "variable": "0.89"
         },
         {
          "index": 47,
          "value": -0.30326742462787526,
          "variable": "0.89"
         },
         {
          "index": 48,
          "value": -0.29175154407109094,
          "variable": "0.89"
         },
         {
          "index": 49,
          "value": -0.27922035423347497,
          "variable": "0.89"
         },
         {
          "index": 50,
          "value": -0.2657914654624773,
          "variable": "0.89"
         },
         {
          "index": 51,
          "value": -0.2515815846930707,
          "variable": "0.89"
         },
         {
          "index": 52,
          "value": -0.23670592781043087,
          "variable": "0.89"
         },
         {
          "index": 53,
          "value": -0.22127766888578862,
          "variable": "0.89"
         },
         {
          "index": 54,
          "value": -0.20540742746044588,
          "variable": "0.89"
         },
         {
          "index": 55,
          "value": -0.18920279478934876,
          "variable": "0.89"
         },
         {
          "index": 56,
          "value": -0.17276789969999454,
          "variable": "0.89"
         },
         {
          "index": 57,
          "value": -0.15620301447581333,
          "variable": "0.89"
         },
         {
          "index": 58,
          "value": -0.13960420093639994,
          "variable": "0.89"
         },
         {
          "index": 59,
          "value": -0.12306299666087378,
          "variable": "0.89"
         },
         {
          "index": 60,
          "value": -0.10666614108592454,
          "variable": "0.89"
         },
         {
          "index": 61,
          "value": -0.09049534100735335,
          "variable": "0.89"
         },
         {
          "index": 62,
          "value": -0.07462707482365964,
          "variable": "0.89"
         },
         {
          "index": 63,
          "value": -0.05913243468287517,
          "variable": "0.89"
         },
         {
          "index": 64,
          "value": -0.04407700552972138,
          "variable": "0.89"
         },
         {
          "index": 65,
          "value": -0.0295207798995272,
          "variable": "0.89"
         },
         {
          "index": 66,
          "value": -0.01551810716832461,
          "variable": "0.89"
         },
         {
          "index": 67,
          "value": -0.0021176758452273337,
          "variable": "0.89"
         },
         {
          "index": 68,
          "value": 0.010637472616416338,
          "variable": "0.89"
         },
         {
          "index": 69,
          "value": 0.02270990010859815,
          "variable": "0.89"
         },
         {
          "index": 70,
          "value": 0.03406769996097406,
          "variable": "0.89"
         },
         {
          "index": 71,
          "value": 0.04468439860721644,
          "variable": "0.89"
         },
         {
          "index": 72,
          "value": 0.05453883265295273,
          "variable": "0.89"
         },
         {
          "index": 73,
          "value": 0.06361500321646471,
          "variable": "0.89"
         },
         {
          "index": 74,
          "value": 0.07190190944467759,
          "variable": "0.89"
         },
         {
          "index": 75,
          "value": 0.07939336312648099,
          "variable": "0.89"
         },
         {
          "index": 76,
          "value": 0.08608778633357463,
          "variable": "0.89"
         },
         {
          "index": 77,
          "value": 0.09198799401633234,
          "variable": "0.89"
         },
         {
          "index": 78,
          "value": 0.0971009634691717,
          "variable": "0.89"
         },
         {
          "index": 79,
          "value": 0.10143759255718748,
          "variable": "0.89"
         },
         {
          "index": 80,
          "value": 0.105012448563942,
          "variable": "0.89"
         },
         {
          "index": 81,
          "value": 0.10784350947993639,
          "variable": "0.89"
         },
         {
          "index": 82,
          "value": 0.10995189950304408,
          "variable": "0.89"
         },
         {
          "index": 83,
          "value": 0.11136162046671412,
          "variable": "0.89"
         },
         {
          "index": 84,
          "value": 0.11209928084971463,
          "variable": "0.89"
         },
         {
          "index": 85,
          "value": 0.11219382395322765,
          "variable": "0.89"
         },
         {
          "index": 86,
          "value": 0.1116762567578965,
          "variable": "0.89"
         },
         {
          "index": 87,
          "value": 0.11057938089561296,
          "variable": "0.89"
         },
         {
          "index": 88,
          "value": 0.10893752708906339,
          "variable": "0.89"
         },
         {
          "index": 89,
          "value": 0.10678629432696495,
          "variable": "0.89"
         },
         {
          "index": 90,
          "value": 0.10416229495514177,
          "variable": "0.89"
         },
         {
          "index": 91,
          "value": 0.10110290677372001,
          "variable": "0.89"
         },
         {
          "index": 92,
          "value": 0.09764603313935231,
          "variable": "0.89"
         },
         {
          "index": 93,
          "value": 0.09382987197908245,
          "variable": "0.89"
         },
         {
          "index": 94,
          "value": 0.08969269452977585,
          "variable": "0.89"
         },
         {
          "index": 95,
          "value": 0.0852726345244924,
          "variable": "0.89"
         },
         {
          "index": 96,
          "value": 0.08060748845525824,
          "variable": "0.89"
         },
         {
          "index": 97,
          "value": 0.0757345274508703,
          "variable": "0.89"
         },
         {
          "index": 98,
          "value": 0.07069032121907949,
          "variable": "0.89"
         },
         {
          "index": 99,
          "value": 0.06551057441515282,
          "variable": "0.89"
         },
         {
          "index": 100,
          "value": 0.060229975713790615,
          "variable": "0.89"
         },
         {
          "index": 101,
          "value": 0.054882059779017674,
          "variable": "0.89"
         },
         {
          "index": 102,
          "value": 0.049499082247292756,
          "variable": "0.89"
         },
         {
          "index": 103,
          "value": 0.04411190776297198,
          "variable": "0.89"
         },
         {
          "index": 104,
          "value": 0.03874991103267121,
          "variable": "0.89"
         },
         {
          "index": 105,
          "value": 0.03344089079622202,
          "variable": "0.89"
         },
         {
          "index": 106,
          "value": 0.02821099654699047,
          "variable": "0.89"
         },
         {
          "index": 107,
          "value": 0.023084667773494126,
          "variable": "0.89"
         },
         {
          "index": 108,
          "value": 0.018084585437631747,
          "variable": "0.89"
         },
         {
          "index": 109,
          "value": 0.013231635352537524,
          "variable": "0.89"
         },
         {
          "index": 110,
          "value": 0.008544883075156263,
          "variable": "0.89"
         },
         {
          "index": 111,
          "value": 0.004041559885153289,
          "variable": "0.89"
         },
         {
          "index": 112,
          "value": -0.0002629406172600254,
          "variable": "0.89"
         },
         {
          "index": 113,
          "value": -0.004355055796591254,
          "variable": "0.89"
         },
         {
          "index": 114,
          "value": -0.008223037682605872,
          "variable": "0.89"
         },
         {
          "index": 115,
          "value": -0.011856927644136312,
          "variable": "0.89"
         },
         {
          "index": 116,
          "value": -0.0152485226156871,
          "variable": "0.89"
         },
         {
          "index": 117,
          "value": -0.01839133347369575,
          "variable": "0.89"
         },
         {
          "index": 118,
          "value": -0.021280536172566058,
          "variable": "0.89"
         },
         {
          "index": 119,
          "value": -0.023912916259886965,
          "variable": "0.89"
         },
         {
          "index": 120,
          "value": -0.026286807395746858,
          "variable": "0.89"
         },
         {
          "index": 121,
          "value": -0.028402024502886113,
          "variable": "0.89"
         },
         {
          "index": 122,
          "value": -0.030259792172791174,
          "variable": "0.89"
         },
         {
          "index": 123,
          "value": -0.03186266894787948,
          "variable": "0.89"
         },
         {
          "index": 124,
          "value": -0.03321446809186371,
          "variable": "0.89"
         },
         {
          "index": 125,
          "value": -0.0343201754493994,
          "variable": "0.89"
         },
         {
          "index": 126,
          "value": -0.035185864982419095,
          "variable": "0.89"
         },
         {
          "index": 127,
          "value": -0.03581861255435015,
          "variable": "0.89"
         },
         {
          "index": 128,
          "value": -0.03622640851490293,
          "variable": "0.89"
         },
         {
          "index": 129,
          "value": -0.036418069617526604,
          "variable": "0.89"
         },
         {
          "index": 130,
          "value": -0.03640315077916264,
          "variable": "0.89"
         },
         {
          "index": 131,
          "value": -0.03619185716780487,
          "variable": "0.89"
         },
         {
          "index": 132,
          "value": -0.03579495707780511,
          "variable": "0.89"
         },
         {
          "index": 133,
          "value": -0.035223696026055976,
          "variable": "0.89"
         },
         {
          "index": 134,
          "value": -0.03448971247434565,
          "variable": "0.89"
         },
         {
          "index": 135,
          "value": -0.03360495555450992,
          "variable": "0.89"
         },
         {
          "index": 136,
          "value": -0.03258160514370533,
          "variable": "0.89"
         },
         {
          "index": 137,
          "value": -0.031431994607379526,
          "variable": "0.89"
         },
         {
          "index": 138,
          "value": -0.030168536497506882,
          "variable": "0.89"
         },
         {
          "index": 139,
          "value": -0.028803651463562157,
          "variable": "0.89"
         },
         {
          "index": 140,
          "value": -0.027349700603691136,
          "variable": "0.89"
         },
         {
          "index": 141,
          "value": -0.02581892145376203,
          "variable": "0.89"
         },
         {
          "index": 142,
          "value": -0.02422336778259645,
          "variable": "0.89"
         },
         {
          "index": 143,
          "value": -0.022574853332820638,
          "variable": "0.89"
         },
         {
          "index": 144,
          "value": -0.020884899618581487,
          "variable": "0.89"
         },
         {
          "index": 145,
          "value": -0.01916468786395227,
          "variable": "0.89"
         },
         {
          "index": 146,
          "value": -0.017425015139326313,
          "variable": "0.89"
         },
         {
          "index": 147,
          "value": -0.01567625472755769,
          "variable": "0.89"
         },
         {
          "index": 148,
          "value": -0.013928320727149298,
          "variable": "0.89"
         },
         {
          "index": 149,
          "value": -0.01219063687649048,
          "variable": "0.89"
         },
         {
          "index": 150,
          "value": -0.01047210956107343,
          "variable": "0.89"
         },
         {
          "index": 151,
          "value": -0.008781104944836915,
          "variable": "0.89"
         },
         {
          "index": 152,
          "value": -0.007125430147337558,
          "variable": "0.89"
         },
         {
          "index": 153,
          "value": -0.00551231837038217,
          "variable": "0.89"
         },
         {
          "index": 154,
          "value": -0.003948417861091778,
          "variable": "0.89"
         },
         {
          "index": 155,
          "value": -0.0024397845831350055,
          "variable": "0.89"
         },
         {
          "index": 156,
          "value": -0.0009918784540778429,
          "variable": "0.89"
         },
         {
          "index": 157,
          "value": 0.00039043700555209827,
          "variable": "0.89"
         },
         {
          "index": 158,
          "value": 0.0017028917767921176,
          "variable": "0.89"
         },
         {
          "index": 159,
          "value": 0.0029418033751455195,
          "variable": "0.89"
         },
         {
          "index": 160,
          "value": 0.004104067994704435,
          "variable": "0.89"
         },
         {
          "index": 161,
          "value": 0.005187148953022654,
          "variable": "0.89"
         },
         {
          "index": 162,
          "value": 0.006189062631593964,
          "variable": "0.89"
         },
         {
          "index": 163,
          "value": 0.007108362110799191,
          "variable": "0.89"
         },
         {
          "index": 164,
          "value": 0.007944118700925899,
          "variable": "0.89"
         },
         {
          "index": 165,
          "value": 0.008695901572372756,
          "variable": "0.89"
         },
         {
          "index": 166,
          "value": 0.00936375568849038,
          "variable": "0.89"
         },
         {
          "index": 167,
          "value": 0.009948178243728385,
          "variable": "0.89"
         },
         {
          "index": 168,
          "value": 0.010450093807919721,
          "variable": "0.89"
         },
         {
          "index": 169,
          "value": 0.010870828374695525,
          "variable": "0.89"
         },
         {
          "index": 170,
          "value": 0.011212082508254563,
          "variable": "0.89"
         },
         {
          "index": 171,
          "value": 0.011475903778073763,
          "variable": "0.89"
         },
         {
          "index": 172,
          "value": 0.011664658665710866,
          "variable": "0.89"
         },
         {
          "index": 173,
          "value": 0.011781004121683026,
          "variable": "0.89"
         },
         {
          "index": 174,
          "value": 0.011827858943577138,
          "variable": "0.89"
         },
         {
          "index": 175,
          "value": 0.011808375139127329,
          "variable": "0.89"
         },
         {
          "index": 176,
          "value": 0.011725909430051841,
          "variable": "0.89"
         },
         {
          "index": 177,
          "value": 0.01158399504404398,
          "variable": "0.89"
         },
         {
          "index": 178,
          "value": 0.011386313933528106,
          "variable": "0.89"
         },
         {
          "index": 179,
          "value": 0.011136669550687284,
          "variable": "0.89"
         },
         {
          "index": 180,
          "value": 0.010838960298910495,
          "variable": "0.89"
         },
         {
          "index": 181,
          "value": 0.010497153771256356,
          "variable": "0.89"
         },
         {
          "index": 182,
          "value": 0.010115261876848445,
          "variable": "0.89"
         },
         {
          "index": 183,
          "value": 0.00969731694636426,
          "variable": "0.89"
         },
         {
          "index": 184,
          "value": 0.009247348898010075,
          "variable": "0.89"
         },
         {
          "index": 185,
          "value": 0.008769363535643627,
          "variable": "0.89"
         },
         {
          "index": 186,
          "value": 0.008267322041063641,
          "variable": "0.89"
         },
         {
          "index": 187,
          "value": 0.007745121712980668,
          "variable": "0.89"
         },
         {
          "index": 188,
          "value": 0.007206577995858895,
          "variable": "0.89"
         },
         {
          "index": 189,
          "value": 0.006655407832718763,
          "variable": "0.89"
         },
         {
          "index": 190,
          "value": 0.006095214367149901,
          "variable": "0.89"
         },
         {
          "index": 191,
          "value": 0.005529473011242291,
          "variable": "0.89"
         },
         {
          "index": 192,
          "value": 0.004961518887927296,
          "variable": "0.89"
         },
         {
          "index": 193,
          "value": 0.004394535648364204,
          "variable": "0.89"
         },
         {
          "index": 194,
          "value": 0.0038315456575295816,
          "variable": "0.89"
         },
         {
          "index": 195,
          "value": 0.003275401534095568,
          "variable": "0.89"
         },
         {
          "index": 196,
          "value": 0.002728779024031071,
          "variable": "0.89"
         },
         {
          "index": 197,
          "value": 0.0021941711811472573,
          "variable": "0.89"
         },
         {
          "index": 198,
          "value": 0.0016738838220437585,
          "variable": "0.89"
         },
         {
          "index": 199,
          "value": 0.0011700322176075556,
          "variable": "0.89"
         },
         {
          "index": 0,
          "value": 1,
          "variable": "1.11"
         },
         {
          "index": 1,
          "value": 0.9714391458667678,
          "variable": "1.11"
         },
         {
          "index": 2,
          "value": 0.9363975760890532,
          "variable": "1.11"
         },
         {
          "index": 3,
          "value": 0.8954771704457798,
          "variable": "1.11"
         },
         {
          "index": 4,
          "value": 0.8492980009196862,
          "variable": "1.11"
         },
         {
          "index": 5,
          "value": 0.7984924099822457,
          "variable": "1.11"
         },
         {
          "index": 6,
          "value": 0.7436992795589912,
          "variable": "1.11"
         },
         {
          "index": 7,
          "value": 0.6855585278211571,
          "variable": "1.11"
         },
         {
          "index": 8,
          "value": 0.6247058672808856,
          "variable": "1.11"
         },
         {
          "index": 9,
          "value": 0.5617678539067948,
          "variable": "1.11"
         },
         {
          "index": 10,
          "value": 0.49735725315950613,
          "variable": "1.11"
         },
         {
          "index": 11,
          "value": 0.4320687450064887,
          "variable": "1.11"
         },
         {
          "index": 12,
          "value": 0.3664749861446048,
          "variable": "1.11"
         },
         {
          "index": 13,
          "value": 0.3011230438676527,
          "variable": "1.11"
         },
         {
          "index": 14,
          "value": 0.23653121229379143,
          "variable": "1.11"
         },
         {
          "index": 15,
          "value": 0.17318621804083692,
          "variable": "1.11"
         },
         {
          "index": 16,
          "value": 0.1115408189307743,
          "variable": "1.11"
         },
         {
          "index": 17,
          "value": 0.05201179594099847,
          "variable": "1.11"
         },
         {
          "index": 18,
          "value": -0.005021664580948909,
          "variable": "1.11"
         },
         {
          "index": 19,
          "value": -0.05921920444205075,
          "variable": "1.11"
         },
         {
          "index": 20,
          "value": -0.11028015169378003,
          "variable": "1.11"
         },
         {
          "index": 21,
          "value": -0.15794401472628236,
          "variable": "1.11"
         },
         {
          "index": 22,
          "value": -0.20199062619787336,
          "variable": "1.11"
         },
         {
          "index": 23,
          "value": -0.24223995279368435,
          "variable": "1.11"
         },
         {
          "index": 24,
          "value": -0.27855158873428565,
          "variable": "1.11"
         },
         {
          "index": 25,
          "value": -0.3108239526423002,
          "variable": "1.11"
         },
         {
          "index": 26,
          "value": -0.33899320882044254,
          "variable": "1.11"
         },
         {
          "index": 27,
          "value": -0.36303193519822136,
          "variable": "1.11"
         },
         {
          "index": 28,
          "value": -0.3829475611687902,
          "variable": "1.11"
         },
         {
          "index": 29,
          "value": -0.3987805992660426,
          "variable": "1.11"
         },
         {
          "index": 30,
          "value": -0.41060269513067044,
          "variable": "1.11"
         },
         {
          "index": 31,
          "value": -0.4185145204897447,
          "variable": "1.11"
         },
         {
          "index": 32,
          "value": -0.42264353393614706,
          "variable": "1.11"
         },
         {
          "index": 33,
          "value": -0.42314163415183553,
          "variable": "1.11"
         },
         {
          "index": 34,
          "value": -0.4201827298836534,
          "variable": "1.11"
         },
         {
          "index": 35,
          "value": -0.41396025046434815,
          "variable": "1.11"
         },
         {
          "index": 36,
          "value": -0.4046846199877053,
          "variable": "1.11"
         },
         {
          "index": 37,
          "value": -0.3925807174089881,
          "variable": "1.11"
         },
         {
          "index": 38,
          "value": -0.37788534386455236,
          "variable": "1.11"
         },
         {
          "index": 39,
          "value": -0.36084471740233526,
          "variable": "1.11"
         },
         {
          "index": 40,
          "value": -0.34171201410297253,
          "variable": "1.11"
         },
         {
          "index": 41,
          "value": -0.32074497326478196,
          "variable": "1.11"
         },
         {
          "index": 42,
          "value": -0.2982035829399917,
          "variable": "1.11"
         },
         {
          "index": 43,
          "value": -0.27434786065954164,
          "variable": "1.11"
         },
         {
          "index": 44,
          "value": -0.24943574268442048,
          "variable": "1.11"
         },
         {
          "index": 45,
          "value": -0.22372109358743775,
          "variable": "1.11"
         },
         {
          "index": 46,
          "value": -0.19745184641468008,
          "variable": "1.11"
         },
         {
          "index": 47,
          "value": -0.17086828211431054,
          "variable": "1.11"
         },
         {
          "index": 48,
          "value": -0.1442014553648295,
          "variable": "1.11"
         },
         {
          "index": 49,
          "value": -0.11767177239776094,
          "variable": "1.11"
         },
         {
          "index": 50,
          "value": -0.09148772490251612,
          "variable": "1.11"
         },
         {
          "index": 51,
          "value": -0.06584478263468387,
          "variable": "1.11"
         },
         {
          "index": 52,
          "value": -0.04092444593310434,
          "variable": "1.11"
         },
         {
          "index": 53,
          "value": -0.016893457994802196,
          "variable": "1.11"
         },
         {
          "index": 54,
          "value": 0.006096824531729129,
          "variable": "1.11"
         },
         {
          "index": 55,
          "value": 0.027910905288154774,
          "variable": "1.11"
         },
         {
          "index": 56,
          "value": 0.04842947006884365,
          "variable": "1.11"
         },
         {
          "index": 57,
          "value": 0.0675495616368593,
          "variable": "1.11"
         },
         {
          "index": 58,
          "value": 0.08518461328194185,
          "variable": "1.11"
         },
         {
          "index": 59,
          "value": 0.10126434777124775,
          "variable": "1.11"
         },
         {
          "index": 60,
          "value": 0.11573454910961378,
          "variable": "1.11"
         },
         {
          "index": 61,
          "value": 0.12855671519441078,
          "variable": "1.11"
         },
         {
          "index": 62,
          "value": 0.13970760002000868,
          "variable": "1.11"
         },
         {
          "index": 63,
          "value": 0.14917865455868773,
          "variable": "1.11"
         },
         {
          "index": 64,
          "value": 0.15697537581948065,
          "variable": "1.11"
         },
         {
          "index": 65,
          "value": 0.1631165738656432,
          "variable": "1.11"
         },
         {
          "index": 66,
          "value": 0.16763356675763577,
          "variable": "1.11"
         },
         {
          "index": 67,
          "value": 0.1705693134847053,
          "variable": "1.11"
         },
         {
          "index": 68,
          "value": 0.17197749495801645,
          "variable": "1.11"
         },
         {
          "index": 69,
          "value": 0.17192155306594373,
          "variable": "1.11"
         },
         {
          "index": 70,
          "value": 0.1704736976422158,
          "variable": "1.11"
         },
         {
          "index": 71,
          "value": 0.1677138909751227,
          "variable": "1.11"
         },
         {
          "index": 72,
          "value": 0.16372881919631324,
          "variable": "1.11"
         },
         {
          "index": 73,
          "value": 0.15861085953646537,
          "variable": "1.11"
         },
         {
          "index": 74,
          "value": 0.15245705202818174,
          "variable": "1.11"
         },
         {
          "index": 75,
          "value": 0.14536808377986382,
          "variable": "1.11"
         },
         {
          "index": 76,
          "value": 0.13744729344420017,
          "variable": "1.11"
         },
         {
          "index": 77,
          "value": 0.12879970296745138,
          "variable": "1.11"
         },
         {
          "index": 78,
          "value": 0.11953108313711748,
          "variable": "1.11"
         },
         {
          "index": 79,
          "value": 0.109747058851971,
          "variable": "1.11"
         },
         {
          "index": 80,
          "value": 0.09955225942587438,
          "variable": "1.11"
         },
         {
          "index": 81,
          "value": 0.08904951861116706,
          "variable": "1.11"
         },
         {
          "index": 82,
          "value": 0.07833912839442843,
          "variable": "1.11"
         },
         {
          "index": 83,
          "value": 0.06751814998258382,
          "variable": "1.11"
         },
         {
          "index": 84,
          "value": 0.05667978476587348,
          "variable": "1.11"
         },
         {
          "index": 85,
          "value": 0.045912807421093854,
          "variable": "1.11"
         },
         {
          "index": 86,
          "value": 0.03530106270840227,
          "variable": "1.11"
         },
         {
          "index": 87,
          "value": 0.024923026922157324,
          "variable": "1.11"
         },
         {
          "index": 88,
          "value": 0.014851434384711253,
          "variable": "1.11"
         },
         {
          "index": 89,
          "value": 0.00515296882537047,
          "variable": "1.11"
         },
         {
          "index": 90,
          "value": -0.004111981031884693,
          "variable": "1.11"
         },
         {
          "index": 91,
          "value": -0.012889502836051902,
          "variable": "1.11"
         },
         {
          "index": 92,
          "value": -0.021132280550635662,
          "variable": "1.11"
         },
         {
          "index": 93,
          "value": -0.028799655006534114,
          "variable": "1.11"
         },
         {
          "index": 94,
          "value": -0.03585762748568095,
          "variable": "1.11"
         },
         {
          "index": 95,
          "value": -0.04227880909840646,
          "variable": "1.11"
         },
         {
          "index": 96,
          "value": -0.048042319021803344,
          "variable": "1.11"
         },
         {
          "index": 97,
          "value": -0.05313363493090253,
          "variable": "1.11"
         },
         {
          "index": 98,
          "value": -0.057544399178994114,
          "variable": "1.11"
         },
         {
          "index": 99,
          "value": -0.06127218446810411,
          "variable": "1.11"
         },
         {
          "index": 100,
          "value": -0.06432022289591494,
          "variable": "1.11"
         },
         {
          "index": 101,
          "value": -0.06669710237204828,
          "variable": "1.11"
         },
         {
          "index": 102,
          "value": -0.06841643446564305,
          "variable": "1.11"
         },
         {
          "index": 103,
          "value": -0.06949649777884162,
          "variable": "1.11"
         },
         {
          "index": 104,
          "value": -0.06995986093865943,
          "variable": "1.11"
         },
         {
          "index": 105,
          "value": -0.06983298926448311,
          "variable": "1.11"
         },
         {
          "index": 106,
          "value": -0.06914583910202263,
          "variable": "1.11"
         },
         {
          "index": 107,
          "value": -0.06793144371900764,
          "variable": "1.11"
         },
         {
          "index": 108,
          "value": -0.06622549453546354,
          "variable": "1.11"
         },
         {
          "index": 109,
          "value": -0.06406592131434434,
          "variable": "1.11"
         },
         {
          "index": 110,
          "value": -0.06149247476903588,
          "variable": "1.11"
         },
         {
          "index": 111,
          "value": -0.05854631485523491,
          "variable": "1.11"
         },
         {
          "index": 112,
          "value": -0.05526960780845671,
          "variable": "1.11"
         },
         {
          "index": 113,
          "value": -0.05170513476744953,
          "variable": "1.11"
         },
         {
          "index": 114,
          "value": -0.04789591459060446,
          "variable": "1.11"
         },
         {
          "index": 115,
          "value": -0.04388484322954288,
          "variable": "1.11"
         },
         {
          "index": 116,
          "value": -0.0397143517738806,
          "variable": "1.11"
         },
         {
          "index": 117,
          "value": -0.03542608502609871,
          "variable": "1.11"
         },
         {
          "index": 118,
          "value": -0.031060602207802105,
          "variable": "1.11"
         },
         {
          "index": 119,
          "value": -0.026657101140635044,
          "variable": "1.11"
         },
         {
          "index": 120,
          "value": -0.022253166988860366,
          "variable": "1.11"
         },
         {
          "index": 121,
          "value": -0.017884546398086516,
          "variable": "1.11"
         },
         {
          "index": 122,
          "value": -0.013584947617711817,
          "variable": "1.11"
         },
         {
          "index": 123,
          "value": -0.009385866955074366,
          "variable": "1.11"
         },
         {
          "index": 124,
          "value": -0.005316441678634441,
          "variable": "1.11"
         },
         {
          "index": 125,
          "value": -0.0014033292672072373,
          "variable": "1.11"
         },
         {
          "index": 126,
          "value": 0.002329387306412479,
          "variable": "1.11"
         },
         {
          "index": 127,
          "value": 0.005860268765013137,
          "variable": "1.11"
         },
         {
          "index": 128,
          "value": 0.009170563879497268,
          "variable": "1.11"
         },
         {
          "index": 129,
          "value": 0.012244229841837396,
          "variable": "1.11"
         },
         {
          "index": 130,
          "value": 0.015067929668416372,
          "variable": "1.11"
         },
         {
          "index": 131,
          "value": 0.017631007780547117,
          "variable": "1.11"
         },
         {
          "index": 132,
          "value": 0.019925445029793126,
          "variable": "1.11"
         },
         {
          "index": 133,
          "value": 0.02194579454033252,
          "variable": "1.11"
         },
         {
          "index": 134,
          "value": 0.02368909982897078,
          "variable": "1.11"
         },
         {
          "index": 135,
          "value": 0.025154796735589905,
          "variable": "1.11"
         },
         {
          "index": 136,
          "value": 0.0263446007530338,
          "variable": "1.11"
         },
         {
          "index": 137,
          "value": 0.027262381385994024,
          "variable": "1.11"
         },
         {
          "index": 138,
          "value": 0.027914025193820316,
          "variable": "1.11"
         },
         {
          "index": 139,
          "value": 0.028307289182870052,
          "variable": "1.11"
         },
         {
          "index": 140,
          "value": 0.028451646210666162,
          "variable": "1.11"
         },
         {
          "index": 141,
          "value": 0.028358124047467445,
          "variable": "1.11"
         },
         {
          "index": 142,
          "value": 0.02803913971165703,
          "variable": "1.11"
         },
         {
          "index": 143,
          "value": 0.027508330654474864,
          "variable": "1.11"
         },
         {
          "index": 144,
          "value": 0.026780384317963,
          "variable": "1.11"
         },
         {
          "index": 145,
          "value": 0.025870867528505134,
          "variable": "1.11"
         },
         {
          "index": 146,
          "value": 0.024796057118004738,
          "variable": "1.11"
         },
         {
          "index": 147,
          "value": 0.023572773086564004,
          "variable": "1.11"
         },
         {
          "index": 148,
          "value": 0.022218215535516898,
          "variable": "1.11"
         },
         {
          "index": 149,
          "value": 0.020749806508858354,
          "variable": "1.11"
         },
         {
          "index": 150,
          "value": 0.019185037785519048,
          "variable": "1.11"
         },
         {
          "index": 151,
          "value": 0.01754132556557097,
          "variable": "1.11"
         },
         {
          "index": 152,
          "value": 0.015835872891304184,
          "variable": "1.11"
         },
         {
          "index": 153,
          "value": 0.014085540540154547,
          "variable": "1.11"
         },
         {
          "index": 154,
          "value": 0.012306727021618042,
          "variable": "1.11"
         },
         {
          "index": 155,
          "value": 0.010515258205453787,
          "variable": "1.11"
         },
         {
          "index": 156,
          "value": 0.008726287004504308,
          "variable": "1.11"
         },
         {
          "index": 157,
          "value": 0.006954203433149894,
          "variable": "1.11"
         },
         {
          "index": 158,
          "value": 0.005212555262512131,
          "variable": "1.11"
         },
         {
          "index": 159,
          "value": 0.0035139793967226083,
          "variable": "1.11"
         },
         {
          "index": 160,
          "value": 0.001870144001508497,
          "variable": "1.11"
         },
         {
          "index": 161,
          "value": 0.00029170132759164994,
          "variable": "1.11"
         },
         {
          "index": 162,
          "value": -0.0012117489125431171,
          "variable": "1.11"
         },
         {
          "index": 163,
          "value": -0.002631685834632472,
          "variable": "1.11"
         },
         {
          "index": 164,
          "value": -0.003960683632531631,
          "variable": "1.11"
         },
         {
          "index": 165,
          "value": -0.005192418148261204,
          "variable": "1.11"
         },
         {
          "index": 166,
          "value": -0.006321664183313216,
          "variable": "1.11"
         },
         {
          "index": 167,
          "value": -0.00734428402679245,
          "variable": "1.11"
         },
         {
          "index": 168,
          "value": -0.008257207723915186,
          "variable": "1.11"
         },
         {
          "index": 169,
          "value": -0.00905840564973033,
          "variable": "1.11"
         },
         {
          "index": 170,
          "value": -0.009746853987668213,
          "variable": "1.11"
         },
         {
          "index": 171,
          "value": -0.010322493740690582,
          "variable": "1.11"
         },
         {
          "index": 172,
          "value": -0.010786183924515282,
          "variable": "1.11"
         },
         {
          "index": 173,
          "value": -0.011139649607752678,
          "variable": "1.11"
         },
         {
          "index": 174,
          "value": -0.011385425473011813,
          "variable": "1.11"
         },
         {
          "index": 175,
          "value": -0.011526795576332351,
          "variable": "1.11"
         },
         {
          "index": 176,
          "value": -0.011567729979942234,
          "variable": "1.11"
         },
         {
          "index": 177,
          "value": -0.011512818925622833,
          "variable": "1.11"
         },
         {
          "index": 178,
          "value": -0.01136720520321179,
          "variable": "1.11"
         },
         {
          "index": 179,
          "value": -0.011136515351336413,
          "variable": "1.11"
         },
         {
          "index": 180,
          "value": -0.010826790305720254,
          "variable": "1.11"
         },
         {
          "index": 181,
          "value": -0.010444416084729145,
          "variable": "1.11"
         },
         {
          "index": 182,
          "value": -0.009996055072621414,
          "variable": "1.11"
         },
         {
          "index": 183,
          "value": -0.009488578428650663,
          "variable": "1.11"
         },
         {
          "index": 184,
          "value": -0.008929000115151353,
          "variable": "1.11"
         },
         {
          "index": 185,
          "value": -0.00832441300043693,
          "variable": "1.11"
         },
         {
          "index": 186,
          "value": -0.007681927453167594,
          "variable": "1.11"
         },
         {
          "index": 187,
          "value": -0.007008612804215296,
          "variable": "1.11"
         },
         {
          "index": 188,
          "value": -0.006311442010360744,
          "variable": "1.11"
         },
         {
          "index": 189,
          "value": -0.005597239811800368,
          "variable": "1.11"
         },
         {
          "index": 190,
          "value": -0.004872634632786408,
          "variable": "1.11"
         },
         {
          "index": 191,
          "value": -0.004144014432142093,
          "variable": "1.11"
         },
         {
          "index": 192,
          "value": -0.0034174866682164314,
          "variable": "1.11"
         },
         {
          "index": 193,
          "value": -0.0026988425014041455,
          "variable": "1.11"
         },
         {
          "index": 194,
          "value": -0.00199352531694282,
          "variable": "1.11"
         },
         {
          "index": 195,
          "value": -0.0013066036116022137,
          "variable": "1.11"
         },
         {
          "index": 196,
          "value": -0.0006427482503393728,
          "variable": "1.11"
         },
         {
          "index": 197,
          "value": -6.214063248275594e-06,
          "variable": "1.11"
         },
         {
          "index": 198,
          "value": 0.000599174280623964,
          "variable": "1.11"
         },
         {
          "index": 199,
          "value": 0.0011700322176075595,
          "variable": "1.11"
         },
         {
          "index": 0,
          "value": 1,
          "variable": "1.33"
         },
         {
          "index": 1,
          "value": 0.9697914393328796,
          "variable": "1.33"
         },
         {
          "index": 2,
          "value": 0.9300004194510189,
          "variable": "1.33"
         },
         {
          "index": 3,
          "value": 0.8815504913313096,
          "variable": "1.33"
         },
         {
          "index": 4,
          "value": 0.8254187202669199,
          "variable": "1.33"
         },
         {
          "index": 5,
          "value": 0.7626219172107154,
          "variable": "1.33"
         },
         {
          "index": 6,
          "value": 0.6942030915127773,
          "variable": "1.33"
         },
         {
          "index": 7,
          "value": 0.6212182687429891,
          "variable": "1.33"
         },
         {
          "index": 8,
          "value": 0.5447238060826946,
          "variable": "1.33"
         },
         {
          "index": 9,
          "value": 0.46576432560039166,
          "variable": "1.33"
         },
         {
          "index": 10,
          "value": 0.3853613727812909,
          "variable": "1.33"
         },
         {
          "index": 11,
          "value": 0.3045028941450337,
          "variable": "1.33"
         },
         {
          "index": 12,
          "value": 0.2241336138432746,
          "variable": "1.33"
         },
         {
          "index": 13,
          "value": 0.14514637495820626,
          "variable": "1.33"
         },
         {
          "index": 14,
          "value": 0.06837449699724012,
          "variable": "1.33"
         },
         {
          "index": 15,
          "value": -0.00541481303702907,
          "variable": "1.33"
         },
         {
          "index": 16,
          "value": -0.0755259724731186,
          "variable": "1.33"
         },
         {
          "index": 17,
          "value": -0.14133944760501962,
          "variable": "1.33"
         },
         {
          "index": 18,
          "value": -0.20231509394306543,
          "variable": "1.33"
         },
         {
          "index": 19,
          "value": -0.2579944271222958,
          "variable": "1.33"
         },
         {
          "index": 20,
          "value": -0.308001850970756,
          "variable": "1.33"
         },
         {
          "index": 21,
          "value": -0.3520448798375688,
          "variable": "1.33"
         },
         {
          "index": 22,
          "value": -0.3899134019354344,
          "variable": "1.33"
         },
         {
          "index": 23,
          "value": -0.4214780391004752,
          "variable": "1.33"
         },
         {
          "index": 24,
          "value": -0.44668766596476983,
          "variable": "1.33"
         },
         {
          "index": 25,
          "value": -0.46556615803859647,
          "variable": "1.33"
         },
         {
          "index": 26,
          "value": -0.47820844358966674,
          "variable": "1.33"
         },
         {
          "index": 27,
          "value": -0.48477593847842093,
          "variable": "1.33"
         },
         {
          "index": 28,
          "value": -0.48549144626788027,
          "variable": "1.33"
         },
         {
          "index": 29,
          "value": -0.48063360799208105,
          "variable": "1.33"
         },
         {
          "index": 30,
          "value": -0.4705309869687951,
          "variable": "1.33"
         },
         {
          "index": 31,
          "value": -0.45555587402078207,
          "variable": "1.33"
         },
         {
          "index": 32,
          "value": -0.4361178974756221,
          "variable": "1.33"
         },
         {
          "index": 33,
          "value": -0.41265752040623627,
          "variable": "1.33"
         },
         {
          "index": 34,
          "value": -0.3856395048190853,
          "variable": "1.33"
         },
         {
          "index": 35,
          "value": -0.35554641896768036,
          "variable": "1.33"
         },
         {
          "index": 36,
          "value": -0.3228722597436496,
          "variable": "1.33"
         },
         {
          "index": 37,
          "value": -0.28811625725850737,
          "variable": "1.33"
         },
         {
          "index": 38,
          "value": -0.25177692336172797,
          "variable": "1.33"
         },
         {
          "index": 39,
          "value": -0.2143464000318848,
          "variable": "1.33"
         },
         {
          "index": 40,
          "value": -0.17630515741535524,
          "variable": "1.33"
         },
         {
          "index": 41,
          "value": -0.13811708485903523,
          "variable": "1.33"
         },
         {
          "index": 42,
          "value": -0.10022501167600745,
          "variable": "1.33"
         },
         {
          "index": 43,
          "value": -0.0630466876803443,
          "variable": "1.33"
         },
         {
          "index": 44,
          "value": -0.02697124681031117,
          "variable": "1.33"
         },
         {
          "index": 45,
          "value": 0.007643829494499155,
          "variable": "1.33"
         },
         {
          "index": 46,
          "value": 0.04047523901431056,
          "variable": "1.33"
         },
         {
          "index": 47,
          "value": 0.07123587173488688,
          "variable": "1.33"
         },
         {
          "index": 48,
          "value": 0.09967631131248893,
          "variable": "1.33"
         },
         {
          "index": 49,
          "value": 0.1255858329593991,
          "variable": "1.33"
         },
         {
          "index": 50,
          "value": 0.1487929110467568,
          "variable": "1.33"
         },
         {
          "index": 51,
          "value": 0.16916525466272275,
          "variable": "1.33"
         },
         {
          "index": 52,
          "value": 0.18660939385503822,
          "variable": "1.33"
         },
         {
          "index": 53,
          "value": 0.20106984329869784,
          "variable": "1.33"
         },
         {
          "index": 54,
          "value": 0.21252787363946551,
          "variable": "1.33"
         },
         {
          "index": 55,
          "value": 0.22099992375685126,
          "variable": "1.33"
         },
         {
          "index": 56,
          "value": 0.22653568965715112,
          "variable": "1.33"
         },
         {
          "index": 57,
          "value": 0.2292159276458564,
          "variable": "1.33"
         },
         {
          "index": 58,
          "value": 0.22915001084294462,
          "variable": "1.33"
         },
         {
          "index": 59,
          "value": 0.22647327900383699,
          "variable": "1.33"
         },
         {
          "index": 60,
          "value": 0.22134422200813003,
          "variable": "1.33"
         },
         {
          "index": 61,
          "value": 0.21394153729752835,
          "variable": "1.33"
         },
         {
          "index": 62,
          "value": 0.20446110100816411,
          "variable": "1.33"
         },
         {
          "index": 63,
          "value": 0.19311289157913253,
          "variable": "1.33"
         },
         {
          "index": 64,
          "value": 0.18011790326052488,
          "variable": "1.33"
         },
         {
          "index": 65,
          "value": 0.16570508522536392,
          "variable": "1.33"
         },
         {
          "index": 66,
          "value": 0.15010833994791076,
          "variable": "1.33"
         },
         {
          "index": 67,
          "value": 0.13356361218494636,
          "variable": "1.33"
         },
         {
          "index": 68,
          "value": 0.11630609732727669,
          "variable": "1.33"
         },
         {
          "index": 69,
          "value": 0.0985675951171142,
          "variable": "1.33"
         },
         {
          "index": 70,
          "value": 0.08057403179468661,
          "variable": "1.33"
         },
         {
          "index": 71,
          "value": 0.06254317068572432,
          "variable": "1.33"
         },
         {
          "index": 72,
          "value": 0.04468252811106787,
          "variable": "1.33"
         },
         {
          "index": 73,
          "value": 0.02718750833006328,
          "variable": "1.33"
         },
         {
          "index": 74,
          "value": 0.010239768058770997,
          "variable": "1.33"
         },
         {
          "index": 75,
          "value": -0.005994182031491708,
          "variable": "1.33"
         },
         {
          "index": 76,
          "value": -0.021364134496066948,
          "variable": "1.33"
         },
         {
          "index": 77,
          "value": -0.03573709960565236,
          "variable": "1.33"
         },
         {
          "index": 78,
          "value": -0.0489979786039673,
          "variable": "1.33"
         },
         {
          "index": 79,
          "value": -0.06104999987677506,
          "variable": "1.33"
         },
         {
          "index": 80,
          "value": -0.07181492467623948,
          "variable": "1.33"
         },
         {
          "index": 81,
          "value": -0.08123303134778789,
          "variable": "1.33"
         },
         {
          "index": 82,
          "value": -0.089262889094907,
          "variable": "1.33"
         },
         {
          "index": 83,
          "value": -0.09588093417731461,
          "variable": "1.33"
         },
         {
          "index": 84,
          "value": -0.10108086305971196,
          "variable": "1.33"
         },
         {
          "index": 85,
          "value": -0.10487285840498438,
          "variable": "1.33"
         },
         {
          "index": 86,
          "value": -0.10728266493360657,
          "variable": "1.33"
         },
         {
          "index": 87,
          "value": -0.10835053304944631,
          "variable": "1.33"
         },
         {
          "index": 88,
          "value": -0.10813004876334015,
          "variable": "1.33"
         },
         {
          "index": 89,
          "value": -0.10668686883466873,
          "variable": "1.33"
         },
         {
          "index": 90,
          "value": -0.10409738020512088,
          "variable": "1.33"
         },
         {
          "index": 91,
          "value": -0.10044730272765942,
          "variable": "1.33"
         },
         {
          "index": 92,
          "value": -0.09583025390923734,
          "variable": "1.33"
         },
         {
          "index": 93,
          "value": -0.0903462939017561,
          "variable": "1.33"
         },
         {
          "index": 94,
          "value": -0.08410046830741369,
          "variable": "1.33"
         },
         {
          "index": 95,
          "value": -0.07720136552861301,
          "variable": "1.33"
         },
         {
          "index": 96,
          "value": -0.06975970440674475,
          "variable": "1.33"
         },
         {
          "index": 97,
          "value": -0.061886966777016536,
          "variable": "1.33"
         },
         {
          "index": 98,
          "value": -0.05369408833724283,
          "variable": "1.33"
         },
         {
          "index": 99,
          "value": -0.04529021990666579,
          "variable": "1.33"
         },
         {
          "index": 100,
          "value": -0.036781569756055704,
          "variable": "1.33"
         },
         {
          "index": 101,
          "value": -0.02827033624202682,
          "variable": "1.33"
         },
         {
          "index": 102,
          "value": -0.01985373849585291,
          "variable": "1.33"
         },
         {
          "index": 103,
          "value": -0.011623151418666032,
          "variable": "1.33"
         },
         {
          "index": 104,
          "value": -0.003663349738633044,
          "variable": "1.33"
         },
         {
          "index": 105,
          "value": 0.003948135591493672,
          "variable": "1.33"
         },
         {
          "index": 106,
          "value": 0.011141546820258861,
          "variable": "1.33"
         },
         {
          "index": 107,
          "value": 0.017855314203100724,
          "variable": "1.33"
         },
         {
          "index": 108,
          "value": 0.024036357073220313,
          "variable": "1.33"
         },
         {
          "index": 109,
          "value": 0.029640273317326542,
          "variable": "1.33"
         },
         {
          "index": 110,
          "value": 0.03463142056402357,
          "variable": "1.33"
         },
         {
          "index": 111,
          "value": 0.03898289346579177,
          "variable": "1.33"
         },
         {
          "index": 112,
          "value": 0.04267640242612741,
          "variable": "1.33"
         },
         {
          "index": 113,
          "value": 0.045702059985397524,
          "variable": "1.33"
         },
         {
          "index": 114,
          "value": 0.04805808182783281,
          "variable": "1.33"
         },
         {
          "index": 115,
          "value": 0.04975041000482435,
          "variable": "1.33"
         },
         {
          "index": 116,
          "value": 0.05079226648477472,
          "variable": "1.33"
         },
         {
          "index": 117,
          "value": 0.05120364553708045,
          "variable": "1.33"
         },
         {
          "index": 118,
          "value": 0.05101075373862506,
          "variable": "1.33"
         },
         {
          "index": 119,
          "value": 0.05024540655794639,
          "variable": "1.33"
         },
         {
          "index": 120,
          "value": 0.04894439052869711,
          "variable": "1.33"
         },
         {
          "index": 121,
          "value": 0.047148799974905196,
          "variable": "1.33"
         },
         {
          "index": 122,
          "value": 0.04490335710159393,
          "variable": "1.33"
         },
         {
          "index": 123,
          "value": 0.04225572402213438,
          "variable": "1.33"
         },
         {
          "index": 124,
          "value": 0.03925581496560548,
          "variable": "1.33"
         },
         {
          "index": 125,
          "value": 0.035955116501385206,
          "variable": "1.33"
         },
         {
          "index": 126,
          "value": 0.03240602314263951,
          "variable": "1.33"
         },
         {
          "index": 127,
          "value": 0.02866119515414824,
          "variable": "1.33"
         },
         {
          "index": 128,
          "value": 0.024772944802098497,
          "variable": "1.33"
         },
         {
          "index": 129,
          "value": 0.020792656653317237,
          "variable": "1.33"
         },
         {
          "index": 130,
          "value": 0.01677024686817494,
          "variable": "1.33"
         },
         {
          "index": 131,
          "value": 0.01275366574425468,
          "variable": "1.33"
         },
         {
          "index": 132,
          "value": 0.008788447065854748,
          "variable": "1.33"
         },
         {
          "index": 133,
          "value": 0.004917307106221257,
          "variable": "1.33"
         },
         {
          "index": 134,
          "value": 0.0011797954234649495,
          "variable": "1.33"
         },
         {
          "index": 135,
          "value": -0.002388001104652687,
          "variable": "1.33"
         },
         {
          "index": 136,
          "value": -0.005753700240031437,
          "variable": "1.33"
         },
         {
          "index": 137,
          "value": -0.008888812224278122,
          "variable": "1.33"
         },
         {
          "index": 138,
          "value": -0.011768874009049187,
          "variable": "1.33"
         },
         {
          "index": 139,
          "value": -0.014373530972833268,
          "variable": "1.33"
         },
         {
          "index": 140,
          "value": -0.0166865677656507,
          "variable": "1.33"
         },
         {
          "index": 141,
          "value": -0.018695890423024032,
          "variable": "1.33"
         },
         {
          "index": 142,
          "value": -0.02039346234152637,
          "variable": "1.33"
         },
         {
          "index": 143,
          "value": -0.021775197107495183,
          "variable": "1.33"
         },
         {
          "index": 144,
          "value": -0.02284081151608231,
          "variable": "1.33"
         },
         {
          "index": 145,
          "value": -0.023593642408389535,
          "variable": "1.33"
         },
         {
          "index": 146,
          "value": -0.024040431189393422,
          "variable": "1.33"
         },
         {
          "index": 147,
          "value": -0.02419108006873655,
          "variable": "1.33"
         },
         {
          "index": 148,
          "value": -0.024058384190935683,
          "variable": "1.33"
         },
         {
          "index": 149,
          "value": -0.023657743892400322,
          "variable": "1.33"
         },
         {
          "index": 150,
          "value": -0.023006861341686658,
          "variable": "1.33"
         },
         {
          "index": 151,
          "value": -0.022125425788956044,
          "variable": "1.33"
         },
         {
          "index": 152,
          "value": -0.02103479157343588,
          "variable": "1.33"
         },
         {
          "index": 153,
          "value": -0.01975765291696327,
          "variable": "1.33"
         },
         {
          "index": 154,
          "value": -0.018317719370940733,
          "variable": "1.33"
         },
         {
          "index": 155,
          "value": -0.016739395587043314,
          "variable": "1.33"
         },
         {
          "index": 156,
          "value": -0.015047468852811002,
          "variable": "1.33"
         },
         {
          "index": 157,
          "value": -0.013266807576033768,
          "variable": "1.33"
         },
         {
          "index": 158,
          "value": -0.011422073620895364,
          "variable": "1.33"
         },
         {
          "index": 159,
          "value": -0.009537451098554063,
          "variable": "1.33"
         },
         {
          "index": 160,
          "value": -0.007636393899576791,
          "variable": "1.33"
         },
         {
          "index": 161,
          "value": -0.005741393929740507,
          "variable": "1.33"
         },
         {
          "index": 162,
          "value": -0.003873771678402912,
          "variable": "1.33"
         },
         {
          "index": 163,
          "value": -0.002053490414042939,
          "variable": "1.33"
         },
         {
          "index": 164,
          "value": -0.000298994968589778,
          "variable": "1.33"
         },
         {
          "index": 165,
          "value": 0.0013729242554640073,
          "variable": "1.33"
         },
         {
          "index": 166,
          "value": 0.0029472417399744903,
          "variable": "1.33"
         },
         {
          "index": 167,
          "value": 0.004410781759664315,
          "variable": "1.33"
         },
         {
          "index": 168,
          "value": 0.005752278027665813,
          "variable": "1.33"
         },
         {
          "index": 169,
          "value": 0.0069624086358027635,
          "variable": "1.33"
         },
         {
          "index": 170,
          "value": 0.008033807101822691,
          "variable": "1.33"
         },
         {
          "index": 171,
          "value": 0.008961050568544121,
          "variable": "1.33"
         },
         {
          "index": 172,
          "value": 0.00974062640931261,
          "variable": "1.33"
         },
         {
          "index": 173,
          "value": 0.01037087867901273,
          "variable": "1.33"
         },
         {
          "index": 174,
          "value": 0.010851936009261336,
          "variable": "1.33"
         },
         {
          "index": 175,
          "value": 0.011185622679733935,
          "variable": "1.33"
         },
         {
          "index": 176,
          "value": 0.011375354704615637,
          "variable": "1.33"
         },
         {
          "index": 177,
          "value": 0.01142602285397973,
          "variable": "1.33"
         },
         {
          "index": 178,
          "value": 0.011343864584849348,
          "variable": "1.33"
         },
         {
          "index": 179,
          "value": 0.011136326886429602,
          "variable": "1.33"
         },
         {
          "index": 180,
          "value": 0.010811922049405575,
          "variable": "1.33"
         },
         {
          "index": 181,
          "value": 0.01038007835141698,
          "variable": "1.33"
         },
         {
          "index": 182,
          "value": 0.009850987611181517,
          "variable": "1.33"
         },
         {
          "index": 183,
          "value": 0.00923545150377102,
          "variable": "1.33"
         },
         {
          "index": 184,
          "value": 0.008544728450924894,
          "variable": "1.33"
         },
         {
          "index": 185,
          "value": 0.007790382804829279,
          "variable": "1.33"
         },
         {
          "index": 186,
          "value": 0.006984137933406616,
          "variable": "1.33"
         },
         {
          "index": 187,
          "value": 0.006137734691845304,
          "variable": "1.33"
         },
         {
          "index": 188,
          "value": 0.0052627966308881205,
          "variable": "1.33"
         },
         {
          "index": 189,
          "value": 0.004370703149361062,
          "variable": "1.33"
         },
         {
          "index": 190,
          "value": 0.0034724716486196337,
          "variable": "1.33"
         },
         {
          "index": 191,
          "value": 0.0025786495920658735,
          "variable": "1.33"
         },
         {
          "index": 192,
          "value": 0.0016992172156309227,
          "variable": "1.33"
         },
         {
          "index": 193,
          "value": 0.0008435014770621425,
          "variable": "1.33"
         },
         {
          "index": 194,
          "value": 2.010167483542728e-05,
          "variable": "1.33"
         },
         {
          "index": 195,
          "value": -0.0007631729867219383,
          "variable": "1.33"
         },
         {
          "index": 196,
          "value": -0.0014993537593469364,
          "variable": "1.33"
         },
         {
          "index": 197,
          "value": -0.0021823506569767803,
          "variable": "1.33"
         },
         {
          "index": 198,
          "value": -0.0028069788599745034,
          "variable": "1.33"
         },
         {
          "index": 199,
          "value": -0.003368973499542715,
          "variable": "1.33"
         },
         {
          "index": 0,
          "value": 1,
          "variable": "1.56"
         },
         {
          "index": 1,
          "value": 0.9678453486254137,
          "variable": "1.56"
         },
         {
          "index": 2,
          "value": 0.9224587855560396,
          "variable": "1.56"
         },
         {
          "index": 3,
          "value": 0.8651832040920893,
          "variable": "1.56"
         },
         {
          "index": 4,
          "value": 0.7974775820078244,
          "variable": "1.56"
         },
         {
          "index": 5,
          "value": 0.7208889703016127,
          "variable": "1.56"
         },
         {
          "index": 6,
          "value": 0.6370245072659385,
          "variable": "1.56"
         },
         {
          "index": 7,
          "value": 0.547523884814312,
          "variable": "1.56"
         },
         {
          "index": 8,
          "value": 0.4540326661586275,
          "variable": "1.56"
         },
         {
          "index": 9,
          "value": 0.3581768213456611,
          "variable": "1.56"
         },
         {
          "index": 10,
          "value": 0.2615388105660356,
          "variable": "1.56"
         },
         {
          "index": 11,
          "value": 0.16563550529953527,
          "variable": "1.56"
         },
         {
          "index": 12,
          "value": 0.07189819502630344,
          "variable": "1.56"
         },
         {
          "index": 13,
          "value": -0.018345116816294593,
          "variable": "1.56"
         },
         {
          "index": 14,
          "value": -0.10388496895852112,
          "variable": "1.56"
         },
         {
          "index": 15,
          "value": -0.18364313706122393,
          "variable": "1.56"
         },
         {
          "index": 16,
          "value": -0.25668269842132935,
          "variable": "1.56"
         },
         {
          "index": 17,
          "value": -0.32221544153027015,
          "variable": "1.56"
         },
         {
          "index": 18,
          "value": -0.3796066372484775,
          "variable": "1.56"
         },
         {
          "index": 19,
          "value": -0.42837722790414084,
          "variable": "1.56"
         },
         {
          "index": 20,
          "value": -0.46820352736992477,
          "variable": "1.56"
         },
         {
          "index": 21,
          "value": -0.49891455869224033,
          "variable": "1.56"
         },
         {
          "index": 22,
          "value": -0.5204871857891729,
          "variable": "1.56"
         },
         {
          "index": 23,
          "value": -0.533039221812591,
          "variable": "1.56"
         },
         {
          "index": 24,
          "value": -0.5368207187775814,
          "variable": "1.56"
         },
         {
          "index": 25,
          "value": -0.5322036608610111,
          "variable": "1.56"
         },
         {
          "index": 26,
          "value": -0.5196702972946762,
          "variable": "1.56"
         },
         {
          "index": 27,
          "value": -0.49980036002976724,
          "variable": "1.56"
         },
         {
          "index": 28,
          "value": -0.47325741639610563,
          "variable": "1.56"
         },
         {
          "index": 29,
          "value": -0.440774607950634,
          "variable": "1.56"
         },
         {
          "index": 30,
          "value": -0.40314002378987207,
          "variable": "1.56"
         },
         {
          "index": 31,
          "value": -0.36118195002582637,
          "variable": "1.56"
         },
         {
          "index": 32,
          "value": -0.3157542271739324,
          "variable": "1.56"
         },
         {
          "index": 33,
          "value": -0.26772193419268275,
          "variable": "1.56"
         },
         {
          "index": 34,
          "value": -0.21794760219657563,
          "variable": "1.56"
         },
         {
          "index": 35,
          "value": -0.1672781428101492,
          "variable": "1.56"
         },
         {
          "index": 36,
          "value": -0.11653265613183802,
          "variable": "1.56"
         },
         {
          "index": 37,
          "value": -0.06649126173354632,
          "variable": "1.56"
         },
         {
          "index": 38,
          "value": -0.01788507344037878,
          "variable": "1.56"
         },
         {
          "index": 39,
          "value": 0.02861258478219633,
          "variable": "1.56"
         },
         {
          "index": 40,
          "value": 0.07239364826510097,
          "variable": "1.56"
         },
         {
          "index": 41,
          "value": 0.11292141654744117,
          "variable": "1.56"
         },
         {
          "index": 42,
          "value": 0.14973526723444178,
          "variable": "1.56"
         },
         {
          "index": 43,
          "value": 0.18245397485556686,
          "variable": "1.56"
         },
         {
          "index": 44,
          "value": 0.21077765231342743,
          "variable": "1.56"
         },
         {
          "index": 45,
          "value": 0.23448835272597804,
          "variable": "1.56"
         },
         {
          "index": 46,
          "value": 0.25344938810749224,
          "variable": "1.56"
         },
         {
          "index": 47,
          "value": 0.2676034381994738,
          "variable": "1.56"
         },
         {
          "index": 48,
          "value": 0.27696953768013954,
          "variable": "1.56"
         },
         {
          "index": 49,
          "value": 0.28163904281758234,
          "variable": "1.56"
         },
         {
          "index": 50,
          "value": 0.28177068929284227,
          "variable": "1.56"
         },
         {
          "index": 51,
          "value": 0.2775848613483289,
          "variable": "1.56"
         },
         {
          "index": 52,
          "value": 0.2693571985948095,
          "variable": "1.56"
         },
         {
          "index": 53,
          "value": 0.25741167075230365,
          "variable": "1.56"
         },
         {
          "index": 54,
          "value": 0.2421132523559678,
          "variable": "1.56"
         },
         {
          "index": 55,
          "value": 0.22386032910771247,
          "variable": "1.56"
         },
         {
          "index": 56,
          "value": 0.20307696520642887,
          "variable": "1.56"
         },
         {
          "index": 57,
          "value": 0.18020515677815663,
          "variable": "1.56"
         },
         {
          "index": 58,
          "value": 0.15569719060804396,
          "variable": "1.56"
         },
         {
          "index": 59,
          "value": 0.13000821992283942,
          "variable": "1.56"
         },
         {
          "index": 60,
          "value": 0.10358916017507046,
          "variable": "1.56"
         },
         {
          "index": 61,
          "value": 0.07687999783853669,
          "variable": "1.56"
         },
         {
          "index": 62,
          "value": 0.05030359434740393,
          "variable": "1.56"
         },
         {
          "index": 63,
          "value": 0.024260055710353275,
          "variable": "1.56"
         },
         {
          "index": 64,
          "value": -0.0008782737801749716,
          "variable": "1.56"
         },
         {
          "index": 65,
          "value": -0.02477114773523414,
          "variable": "1.56"
         },
         {
          "index": 66,
          "value": -0.04711405025199358,
          "variable": "1.56"
         },
         {
          "index": 67,
          "value": -0.06764110379744737,
          "variable": "1.56"
         },
         {
          "index": 68,
          "value": -0.08612724342046843,
          "variable": "1.56"
         },
         {
          "index": 69,
          "value": -0.10238965998421604,
          "variable": "1.56"
         },
         {
          "index": 70,
          "value": -0.11628852616277063,
          "variable": "1.56"
         },
         {
          "index": 71,
          "value": -0.12772702924583113,
          "variable": "1.56"
         },
         {
          "index": 72,
          "value": -0.13665074422259121,
          "variable": "1.56"
         },
         {
          "index": 73,
          "value": -0.1430463890690802,
          "variable": "1.56"
         },
         {
          "index": 74,
          "value": -0.14694001156069186,
          "variable": "1.56"
         },
         {
          "index": 75,
          "value": -0.14839466321192166,
          "variable": "1.56"
         },
         {
          "index": 76,
          "value": -0.14750762106712637,
          "variable": "1.56"
         },
         {
          "index": 77,
          "value": -0.14440722200784475,
          "variable": "1.56"
         },
         {
          "index": 78,
          "value": -0.13924937700138812,
          "variable": "1.56"
         },
         {
          "index": 79,
          "value": -0.13221383430777758,
          "variable": "1.56"
         },
         {
          "index": 80,
          "value": -0.12350026112048354,
          "variable": "1.56"
         },
         {
          "index": 81,
          "value": -0.11332421248938154,
          "variable": "1.56"
         },
         {
          "index": 82,
          "value": -0.10191305472466144,
          "variable": "1.56"
         },
         {
          "index": 83,
          "value": -0.0895019078834809,
          "variable": "1.56"
         },
         {
          "index": 84,
          "value": -0.07632966848308424,
          "variable": "1.56"
         },
         {
          "index": 85,
          "value": -0.06263516936004045,
          "variable": "1.56"
         },
         {
          "index": 86,
          "value": -0.04865352870734066,
          "variable": "1.56"
         },
         {
          "index": 87,
          "value": -0.03461273487667433,
          "variable": "1.56"
         },
         {
          "index": 88,
          "value": -0.020730507642825403,
          "variable": "1.56"
         },
         {
          "index": 89,
          "value": -0.007211470402792079,
          "variable": "1.56"
         },
         {
          "index": 90,
          "value": 0.00575533866448254,
          "variable": "1.56"
         },
         {
          "index": 91,
          "value": 0.017998595011425235,
          "variable": "1.56"
         },
         {
          "index": 92,
          "value": 0.029366440808355956,
          "variable": "1.56"
         },
         {
          "index": 93,
          "value": 0.03972785427601968,
          "variable": "1.56"
         },
         {
          "index": 94,
          "value": 0.04897363312128701,
          "variable": "1.56"
         },
         {
          "index": 95,
          "value": 0.05701699594232425,
          "variable": "1.56"
         },
         {
          "index": 96,
          "value": 0.06379381112502731,
          "variable": "1.56"
         },
         {
          "index": 97,
          "value": 0.06926246798514335,
          "variable": "1.56"
         },
         {
          "index": 98,
          "value": 0.07340340966095292,
          "variable": "1.56"
         },
         {
          "index": 99,
          "value": 0.07621835148058982,
          "variable": "1.56"
         },
         {
          "index": 100,
          "value": 0.07772921217753503,
          "variable": "1.56"
         },
         {
          "index": 101,
          "value": 0.0779767883796053,
          "variable": "1.56"
         },
         {
          "index": 102,
          "value": 0.07701920523348128,
          "variable": "1.56"
         },
         {
          "index": 103,
          "value": 0.07493017784133511,
          "variable": "1.56"
         },
         {
          "index": 104,
          "value": 0.07179711938116468,
          "variable": "1.56"
         },
         {
          "index": 105,
          "value": 0.06771913237009246,
          "variable": "1.56"
         },
         {
          "index": 106,
          "value": 0.06280491953091782,
          "variable": "1.56"
         },
         {
          "index": 107,
          "value": 0.05717065016536131,
          "variable": "1.56"
         },
         {
          "index": 108,
          "value": 0.05093781685856419,
          "variable": "1.56"
         },
         {
          "index": 109,
          "value": 0.044231115780599205,
          "variable": "1.56"
         },
         {
          "index": 110,
          "value": 0.0371763818593821,
          "variable": "1.56"
         },
         {
          "index": 111,
          "value": 0.029898607727108985,
          "variable": "1.56"
         },
         {
          "index": 112,
          "value": 0.022520072644151488,
          "variable": "1.56"
         },
         {
          "index": 113,
          "value": 0.015158604637468862,
          "variable": "1.56"
         },
         {
          "index": 114,
          "value": 0.00792599591361185,
          "variable": "1.56"
         },
         {
          "index": 115,
          "value": 0.0009265882781910726,
          "variable": "1.56"
         },
         {
          "index": 116,
          "value": -0.005743958127393411,
          "variable": "1.56"
         },
         {
          "index": 117,
          "value": -0.011999702918232769,
          "variable": "1.56"
         },
         {
          "index": 118,
          "value": -0.017765263971863756,
          "variable": "1.56"
         },
         {
          "index": 119,
          "value": -0.02297645330059829,
          "variable": "1.56"
         },
         {
          "index": 120,
          "value": -0.02758071049251877,
          "variable": "1.56"
         },
         {
          "index": 121,
          "value": -0.031537337010667556,
          "variable": "1.56"
         },
         {
          "index": 122,
          "value": -0.03481753752555869,
          "variable": "1.56"
         },
         {
          "index": 123,
          "value": -0.037404277105845506,
          "variable": "1.56"
         },
         {
          "index": 124,
          "value": -0.03929196547679956,
          "variable": "1.56"
         },
         {
          "index": 125,
          "value": -0.04048598165269806,
          "variable": "1.56"
         },
         {
          "index": 126,
          "value": -0.0410020540393292,
          "variable": "1.56"
         },
         {
          "index": 127,
          "value": -0.04086551257424028,
          "variable": "1.56"
         },
         {
          "index": 128,
          "value": -0.040110430618171225,
          "variable": "1.56"
         },
         {
          "index": 129,
          "value": -0.03877867512976931,
          "variable": "1.56"
         },
         {
          "index": 130,
          "value": -0.03691888415067371,
          "variable": "1.56"
         },
         {
          "index": 131,
          "value": -0.03458539080768341,
          "variable": "1.56"
         },
         {
          "index": 132,
          "value": -0.03183711291568558,
          "variable": "1.56"
         },
         {
          "index": 133,
          "value": -0.028736426856037705,
          "variable": "1.56"
         },
         {
          "index": 134,
          "value": -0.02534804373044247,
          "variable": "1.56"
         },
         {
          "index": 135,
          "value": -0.02173790487336345,
          "variable": "1.56"
         },
         {
          "index": 136,
          "value": -0.017972112672618102,
          "variable": "1.56"
         },
         {
          "index": 137,
          "value": -0.014115911325893977,
          "variable": "1.56"
         },
         {
          "index": 138,
          "value": -0.010232730680025151,
          "variable": "1.56"
         },
         {
          "index": 139,
          "value": -0.006383304690396638,
          "variable": "1.56"
         },
         {
          "index": 140,
          "value": -0.002624874330734259,
          "variable": "1.56"
         },
         {
          "index": 141,
          "value": 0.0009895169903129338,
          "variable": "1.56"
         },
         {
          "index": 142,
          "value": 0.004411629259557135,
          "variable": "1.56"
         },
         {
          "index": 143,
          "value": 0.007598528507410803,
          "variable": "1.56"
         },
         {
          "index": 144,
          "value": 0.010512983640301028,
          "variable": "1.56"
         },
         {
          "index": 145,
          "value": 0.013123756571900583,
          "variable": "1.56"
         },
         {
          "index": 146,
          "value": 0.015405786443617384,
          "variable": "1.56"
         },
         {
          "index": 147,
          "value": 0.017340270306450634,
          "variable": "1.56"
         },
         {
          "index": 148,
          "value": 0.018914644104181987,
          "variable": "1.56"
         },
         {
          "index": 149,
          "value": 0.020122469135042523,
          "variable": "1.56"
         },
         {
          "index": 150,
          "value": 0.02096323036141934,
          "variable": "1.56"
         },
         {
          "index": 151,
          "value": 0.02144205397370313,
          "variable": "1.56"
         },
         {
          "index": 152,
          "value": 0.02156935248679792,
          "variable": "1.56"
         },
         {
          "index": 153,
          "value": 0.02136040635082078,
          "variable": "1.56"
         },
         {
          "index": 154,
          "value": 0.020834891588656555,
          "variable": "1.56"
         },
         {
          "index": 155,
          "value": 0.02001636333259637,
          "variable": "1.56"
         },
         {
          "index": 156,
          "value": 0.018931705323188754,
          "variable": "1.56"
         },
         {
          "index": 157,
          "value": 0.017610555461012718,
          "variable": "1.56"
         },
         {
          "index": 158,
          "value": 0.016084717373925098,
          "variable": "1.56"
         },
         {
          "index": 159,
          "value": 0.014387567688034836,
          "variable": "1.56"
         },
         {
          "index": 160,
          "value": 0.01255346828157055,
          "variable": "1.56"
         },
         {
          "index": 161,
          "value": 0.010617192269805157,
          "variable": "1.56"
         },
         {
          "index": 162,
          "value": 0.008613371830372703,
          "variable": "1.56"
         },
         {
          "index": 163,
          "value": 0.006575975246729269,
          "variable": "1.56"
         },
         {
          "index": 164,
          "value": 0.0045378197388945656,
          "variable": "1.56"
         },
         {
          "index": 165,
          "value": 0.0025301257811279655,
          "variable": "1.56"
         },
         {
          "index": 166,
          "value": 0.0005821176921116196,
          "variable": "1.56"
         },
         {
          "index": 167,
          "value": -0.0012793256592799334,
          "variable": "1.56"
         },
         {
          "index": 168,
          "value": -0.0030299671446515873,
          "variable": "1.56"
         },
         {
          "index": 169,
          "value": -0.004648452727704673,
          "variable": "1.56"
         },
         {
          "index": 170,
          "value": -0.006116496876719214,
          "variable": "1.56"
         },
         {
          "index": 171,
          "value": -0.007419011942685017,
          "variable": "1.56"
         },
         {
          "index": 172,
          "value": -0.008544182269848337,
          "variable": "1.56"
         },
         {
          "index": 173,
          "value": -0.009483484613438611,
          "variable": "1.56"
         },
         {
          "index": 174,
          "value": -0.010231657183651079,
          "variable": "1.56"
         },
         {
          "index": 175,
          "value": -0.010786620307307768,
          "variable": "1.56"
         },
         {
          "index": 176,
          "value": -0.011149352292250517,
          "variable": "1.56"
         },
         {
          "index": 177,
          "value": -0.011323724589203473,
          "variable": "1.56"
         },
         {
          "index": 178,
          "value": -0.011316300767901577,
          "variable": "1.56"
         },
         {
          "index": 179,
          "value": -0.011136104156546731,
          "variable": "1.56"
         },
         {
          "index": 180,
          "value": -0.010794359235447637,
          "variable": "1.56"
         },
         {
          "index": 181,
          "value": -0.010304212027752684,
          "variable": "1.56"
         },
         {
          "index": 182,
          "value": -0.009680434794571993,
          "variable": "1.56"
         },
         {
          "index": 183,
          "value": -0.008939120321815961,
          "variable": "1.56"
         },
         {
          "index": 184,
          "value": -0.008097370986191553,
          "variable": "1.56"
         },
         {
          "index": 185,
          "value": -0.007172987613442206,
          "variable": "1.56"
         },
         {
          "index": 186,
          "value": -0.006184162899405054,
          "variable": "1.56"
         },
         {
          "index": 187,
          "value": -0.005149183860847762,
          "variable": "1.56"
         },
         {
          "index": 188,
          "value": -0.004086147425967627,
          "variable": "1.56"
         },
         {
          "index": 189,
          "value": -0.003012692871980754,
          "variable": "1.56"
         },
         {
          "index": 190,
          "value": -0.001945754377771362,
          "variable": "1.56"
         },
         {
          "index": 191,
          "value": -0.0009013364916560244,
          "variable": "1.56"
         },
         {
          "index": 192,
          "value": 0.00010568517350943118,
          "variable": "1.56"
         },
         {
          "index": 193,
          "value": 0.0010617362049438468,
          "variable": "1.56"
         },
         {
          "index": 194,
          "value": 0.0019546873039023452,
          "variable": "1.56"
         },
         {
          "index": 195,
          "value": 0.002773969036588466,
          "variable": "1.56"
         },
         {
          "index": 196,
          "value": 0.003510657095625141,
          "variable": "1.56"
         },
         {
          "index": 197,
          "value": 0.004157528212868115,
          "variable": "1.56"
         },
         {
          "index": 198,
          "value": 0.004709087306474665,
          "variable": "1.56"
         },
         {
          "index": 199,
          "value": 0.005161566856679615,
          "variable": "1.56"
         },
         {
          "index": 0,
          "value": 1,
          "variable": "1.78"
         },
         {
          "index": 1,
          "value": 0.9656014725150376,
          "variable": "1.78"
         },
         {
          "index": 2,
          "value": 0.9137819552907603,
          "variable": "1.78"
         },
         {
          "index": 3,
          "value": 0.8464206222236126,
          "variable": "1.78"
         },
         {
          "index": 4,
          "value": 0.7656120835387883,
          "variable": "1.78"
         },
         {
          "index": 5,
          "value": 0.6736143802384136,
          "variable": "1.78"
         },
         {
          "index": 6,
          "value": 0.5727962934306459,
          "variable": "1.78"
         },
         {
          "index": 7,
          "value": 0.46558504473409246,
          "variable": "1.78"
         },
         {
          "index": 8,
          "value": 0.35441540346974415,
          "variable": "1.78"
         },
         {
          "index": 9,
          "value": 0.24168113873620553,
          "variable": "1.78"
         },
         {
          "index": 10,
          "value": 0.12968966208896035,
          "variable": "1.78"
         },
         {
          "index": 11,
          "value": 0.020620601961917402,
          "variable": "1.78"
         },
         {
          "index": 12,
          "value": -0.08351106315274685,
          "variable": "1.78"
         },
         {
          "index": 13,
          "value": -0.18088680668666315,
          "variable": "1.78"
         },
         {
          "index": 14,
          "value": -0.2699109100827394,
          "variable": "1.78"
         },
         {
          "index": 15,
          "value": -0.34923111836759146,
          "variable": "1.78"
         },
         {
          "index": 16,
          "value": -0.4177534658663098,
          "variable": "1.78"
         },
         {
          "index": 17,
          "value": -0.474651264414317,
          "variable": "1.78"
         },
         {
          "index": 18,
          "value": -0.5193683623053826,
          "variable": "1.78"
         },
         {
          "index": 19,
          "value": -0.5516168902779763,
          "variable": "1.78"
         },
         {
          "index": 20,
          "value": -0.5713698093290207,
          "variable": "1.78"
         },
         {
          "index": 21,
          "value": -0.5788486625753266,
          "variable": "1.78"
         },
         {
          "index": 22,
          "value": -0.5745070085702939,
          "variable": "1.78"
         },
         {
          "index": 23,
          "value": -0.5590100755391628,
          "variable": "1.78"
         },
         {
          "index": 24,
          "value": -0.533211224335858,
          "variable": "1.78"
         },
         {
          "index": 25,
          "value": -0.4981258422639443,
          "variable": "1.78"
         },
         {
          "index": 26,
          "value": -0.4549033102500866,
          "variable": "1.78"
         },
         {
          "index": 27,
          "value": -0.4047976924938911,
          "variable": "1.78"
         },
         {
          "index": 28,
          "value": -0.3491377911837462,
          "variable": "1.78"
         },
         {
          "index": 29,
          "value": -0.28929718993901354,
          "variable": "1.78"
         },
         {
          "index": 30,
          "value": -0.22666487929668966,
          "variable": "1.78"
         },
         {
          "index": 31,
          "value": -0.16261701696519035,
          "variable": "1.78"
         },
         {
          "index": 32,
          "value": -0.09849032602501448,
          "variable": "1.78"
         },
         {
          "index": 33,
          "value": -0.03555757718454963,
          "variable": "1.78"
         },
         {
          "index": 34,
          "value": 0.024994461902550197,
          "variable": "1.78"
         },
         {
          "index": 35,
          "value": 0.08208429483994113,
          "variable": "1.78"
         },
         {
          "index": 36,
          "value": 0.13475193730951815,
          "variable": "1.78"
         },
         {
          "index": 37,
          "value": 0.18217195751593554,
          "variable": "1.78"
         },
         {
          "index": 38,
          "value": 0.2236632150658387,
          "variable": "1.78"
         },
         {
          "index": 39,
          "value": 0.25869526738188237,
          "variable": "1.78"
         },
         {
          "index": 40,
          "value": 0.286891480207184,
          "variable": "1.78"
         },
         {
          "index": 41,
          "value": 0.30802894218212595,
          "variable": "1.78"
         },
         {
          "index": 42,
          "value": 0.3220353418147847,
          "variable": "1.78"
         },
         {
          "index": 43,
          "value": 0.3289830175136703,
          "variable": "1.78"
         },
         {
          "index": 44,
          "value": 0.32908043696473716,
          "variable": "1.78"
         },
         {
          "index": 45,
          "value": 0.32266140044122643,
          "variable": "1.78"
         },
         {
          "index": 46,
          "value": 0.3101722932349481,
          "variable": "1.78"
         },
         {
          "index": 47,
          "value": 0.29215773506328424,
          "variable": "1.78"
         },
         {
          "index": 48,
          "value": 0.26924498897787064,
          "variable": "1.78"
         },
         {
          "index": 49,
          "value": 0.24212749908004827,
          "variable": "1.78"
         },
         {
          "index": 50,
          "value": 0.2115479254874459,
          "variable": "1.78"
         },
         {
          "index": 51,
          "value": 0.1782810368869047,
          "variable": "1.78"
         },
         {
          "index": 52,
          "value": 0.14311680616710848,
          "variable": "1.78"
         },
         {
          "index": 53,
          "value": 0.1068440336733612,
          "variable": "1.78"
         },
         {
          "index": 54,
          "value": 0.07023479628095557,
          "variable": "1.78"
         },
         {
          "index": 55,
          "value": 0.034029989528204706,
          "variable": "1.78"
         },
         {
          "index": 56,
          "value": -0.0010738046760746752,
          "variable": "1.78"
         },
         {
          "index": 57,
          "value": -0.03443592988110237,
          "variable": "1.78"
         },
         {
          "index": 58,
          "value": -0.06548159120680695,
          "variable": "1.78"
         },
         {
          "index": 59,
          "value": -0.09371000125581101,
          "variable": "1.78"
         },
         {
          "index": 60,
          "value": -0.11870066237436097,
          "variable": "1.78"
         },
         {
          "index": 61,
          "value": -0.1401177522886153,
          "variable": "1.78"
         },
         {
          "index": 62,
          "value": -0.15771261928819919,
          "variable": "1.78"
         },
         {
          "index": 63,
          "value": -0.1713244302337926,
          "variable": "1.78"
         },
         {
          "index": 64,
          "value": -0.1808790490955623,
          "variable": "1.78"
         },
         {
          "index": 65,
          "value": -0.18638625493424463,
          "variable": "1.78"
         },
         {
          "index": 66,
          "value": -0.18793543575726546,
          "variable": "1.78"
         },
         {
          "index": 67,
          "value": -0.18568991815442454,
          "variable": "1.78"
         },
         {
          "index": 68,
          "value": -0.17988011177534594,
          "variable": "1.78"
         },
         {
          "index": 69,
          "value": -0.170795662386464,
          "variable": "1.78"
         },
         {
          "index": 70,
          "value": -0.1587768173680552,
          "variable": "1.78"
         },
         {
          "index": 71,
          "value": -0.1442052131045622,
          "variable": "1.78"
         },
         {
          "index": 72,
          "value": -0.12749429489553699,
          "variable": "1.78"
         },
         {
          "index": 73,
          "value": -0.10907957696328338,
          "variable": "1.78"
         },
         {
          "index": 74,
          "value": -0.08940894312415412,
          "variable": "1.78"
         },
         {
          "index": 75,
          "value": -0.06893317805613225,
          "variable": "1.78"
         },
         {
          "index": 76,
          "value": -0.04809690522388659,
          "variable": "1.78"
         },
         {
          "index": 77,
          "value": -0.027330090847074304,
          "variable": "1.78"
         },
         {
          "index": 78,
          "value": -0.007040254285657673,
          "variable": "1.78"
         },
         {
          "index": 79,
          "value": 0.01239449564189168,
          "variable": "1.78"
         },
         {
          "index": 80,
          "value": 0.03063150109219227,
          "variable": "1.78"
         },
         {
          "index": 81,
          "value": 0.04736859810520933,
          "variable": "1.78"
         },
         {
          "index": 82,
          "value": 0.062348111088856066,
          "variable": "1.78"
         },
         {
          "index": 83,
          "value": 0.0753597712218085,
          "variable": "1.78"
         },
         {
          "index": 84,
          "value": 0.08624255376490687,
          "variable": "1.78"
         },
         {
          "index": 85,
          "value": 0.09488545090912816,
          "variable": "1.78"
         },
         {
          "index": 86,
          "value": 0.10122721703626757,
          "variable": "1.78"
         },
         {
          "index": 87,
          "value": 0.10525514179457326,
          "variable": "1.78"
         },
         {
          "index": 88,
          "value": 0.10700292291345906,
          "variable": "1.78"
         },
         {
          "index": 89,
          "value": 0.10654772497036916,
          "variable": "1.78"
         },
         {
          "index": 90,
          "value": 0.10400652220558404,
          "variable": "1.78"
         },
         {
          "index": 91,
          "value": 0.0995318328400318,
          "variable": "1.78"
         },
         {
          "index": 92,
          "value": 0.09330695912548476,
          "variable": "1.78"
         },
         {
          "index": 93,
          "value": 0.08554085153851385,
          "variable": "1.78"
         },
         {
          "index": 94,
          "value": 0.07646271716354415,
          "variable": "1.78"
         },
         {
          "index": 95,
          "value": 0.0663164914888469,
          "variable": "1.78"
         },
         {
          "index": 96,
          "value": 0.05535528969891416,
          "variable": "1.78"
         },
         {
          "index": 97,
          "value": 0.043835948263180574,
          "variable": "1.78"
         },
         {
          "index": 98,
          "value": 0.03201376040406254,
          "variable": "1.78"
         },
         {
          "index": 99,
          "value": 0.02013750011433868,
          "variable": "1.78"
         },
         {
          "index": 100,
          "value": 0.008444819044492012,
          "variable": "1.78"
         },
         {
          "index": 101,
          "value": -0.0028419109300505067,
          "variable": "1.78"
         },
         {
          "index": 102,
          "value": -0.013519249039120865,
          "variable": "1.78"
         },
         {
          "index": 103,
          "value": -0.023405783398590268,
          "variable": "1.78"
         },
         {
          "index": 104,
          "value": -0.032344641073575195,
          "variable": "1.78"
         },
         {
          "index": 105,
          "value": -0.04020538955994642,
          "variable": "1.78"
         },
         {
          "index": 106,
          "value": -0.04688532188487823,
          "variable": "1.78"
         },
         {
          "index": 107,
          "value": -0.05231013010605208,
          "variable": "1.78"
         },
         {
          "index": 108,
          "value": -0.056433983856950275,
          "variable": "1.78"
         },
         {
          "index": 109,
          "value": -0.05923904154244636,
          "variable": "1.78"
         },
         {
          "index": 110,
          "value": -0.06073443166246514,
          "variable": "1.78"
         },
         {
          "index": 111,
          "value": -0.06095475038956168,
          "variable": "1.78"
         },
         {
          "index": 112,
          "value": -0.059958128837790045,
          "variable": "1.78"
         },
         {
          "index": 113,
          "value": -0.05782392935602831,
          "variable": "1.78"
         },
         {
          "index": 114,
          "value": -0.054650134611715764,
          "variable": "1.78"
         },
         {
          "index": 115,
          "value": -0.050550496184729406,
          "variable": "1.78"
         },
         {
          "index": 116,
          "value": -0.04565151087991781,
          "variable": "1.78"
         },
         {
          "index": 117,
          "value": -0.04008929303296123,
          "variable": "1.78"
         },
         {
          "index": 118,
          "value": -0.034006409796146324,
          "variable": "1.78"
         },
         {
          "index": 119,
          "value": -0.02754874384020106,
          "variable": "1.78"
         },
         {
          "index": 120,
          "value": -0.020862444207847507,
          "variable": "1.78"
         },
         {
          "index": 121,
          "value": -0.014091021333807702,
          "variable": "1.78"
         },
         {
          "index": 122,
          "value": -0.0073726366480379784,
          "variable": "1.78"
         },
         {
          "index": 123,
          "value": -0.0008376308577546446,
          "variable": "1.78"
         },
         {
          "index": 124,
          "value": 0.005393671880153015,
          "variable": "1.78"
         },
         {
          "index": 125,
          "value": 0.011212853967633179,
          "variable": "1.78"
         },
         {
          "index": 126,
          "value": 0.01652496614439924,
          "variable": "1.78"
         },
         {
          "index": 127,
          "value": 0.0212497462199514,
          "variable": "1.78"
         },
         {
          "index": 128,
          "value": 0.025322487455592565,
          "variable": "1.78"
         },
         {
          "index": 129,
          "value": 0.028694556583822948,
          "variable": "1.78"
         },
         {
          "index": 130,
          "value": 0.03133356838591116,
          "variable": "1.78"
         },
         {
          "index": 131,
          "value": 0.03322323020511694,
          "variable": "1.78"
         },
         {
          "index": 132,
          "value": 0.03436287564856616,
          "variable": "1.78"
         },
         {
          "index": 133,
          "value": 0.03476671193737753,
          "variable": "1.78"
         },
         {
          "index": 134,
          "value": 0.03446280983207721,
          "variable": "1.78"
         },
         {
          "index": 135,
          "value": 0.03349186873642678,
          "variable": "1.78"
         },
         {
          "index": 136,
          "value": 0.031905792433586544,
          "variable": "1.78"
         },
         {
          "index": 137,
          "value": 0.029766112918068213,
          "variable": "1.78"
         },
         {
          "index": 138,
          "value": 0.02714230095667008,
          "variable": "1.78"
         },
         {
          "index": 139,
          "value": 0.024110002359543792,
          "variable": "1.78"
         },
         {
          "index": 140,
          "value": 0.020749238502104476,
          "variable": "1.78"
         },
         {
          "index": 141,
          "value": 0.017142608457018996,
          "variable": "1.78"
         },
         {
          "index": 142,
          "value": 0.013373528232690723,
          "variable": "1.78"
         },
         {
          "index": 143,
          "value": 0.009524540140747202,
          "variable": "1.78"
         },
         {
          "index": 144,
          "value": 0.005675722308945249,
          "variable": "1.78"
         },
         {
          "index": 145,
          "value": 0.0019032249031840744,
          "variable": "1.78"
         },
         {
          "index": 146,
          "value": -0.0017220441868102206,
          "variable": "1.78"
         },
         {
          "index": 147,
          "value": -0.0051355655162726626,
          "variable": "1.78"
         },
         {
          "index": 148,
          "value": -0.008280171669574074,
          "variable": "1.78"
         },
         {
          "index": 149,
          "value": -0.011106818141240827,
          "variable": "1.78"
         },
         {
          "index": 150,
          "value": -0.013575155704303106,
          "variable": "1.78"
         },
         {
          "index": 151,
          "value": -0.015653902669242648,
          "variable": "1.78"
         },
         {
          "index": 152,
          "value": -0.017321019474736896,
          "variable": "1.78"
         },
         {
          "index": 153,
          "value": -0.018563691843111508,
          "variable": "1.78"
         },
         {
          "index": 154,
          "value": -0.0193781322159707,
          "variable": "1.78"
         },
         {
          "index": 155,
          "value": -0.01976921230510591,
          "variable": "1.78"
         },
         {
          "index": 156,
          "value": -0.019749942306547235,
          "variable": "1.78"
         },
         {
          "index": 157,
          "value": -0.01934081459778424,
          "variable": "1.78"
         },
         {
          "index": 158,
          "value": -0.018569031546370088,
          "variable": "1.78"
         },
         {
          "index": 159,
          "value": -0.01746763838930072,
          "variable": "1.78"
         },
         {
          "index": 160,
          "value": -0.01607458299376274,
          "variable": "1.78"
         },
         {
          "index": 161,
          "value": -0.01443172468775244,
          "variable": "1.78"
         },
         {
          "index": 162,
          "value": -0.012583814269398612,
          "variable": "1.78"
         },
         {
          "index": 163,
          "value": -0.010577466790582475,
          "variable": "1.78"
         },
         {
          "index": 164,
          "value": -0.00846014779503244,
          "variable": "1.78"
         },
         {
          "index": 165,
          "value": -0.006279192411318918,
          "variable": "1.78"
         },
         {
          "index": 166,
          "value": -0.004080875100247949,
          "variable": "1.78"
         },
         {
          "index": 167,
          "value": -0.0019095459814862455,
          "variable": "1.78"
         },
         {
          "index": 168,
          "value": 0.00019315243365903144,
          "variable": "1.78"
         },
         {
          "index": 169,
          "value": 0.0021889765450676213,
          "variable": "1.78"
         },
         {
          "index": 170,
          "value": 0.004043671830216028,
          "variable": "1.78"
         },
         {
          "index": 171,
          "value": 0.005727455152896319,
          "variable": "1.78"
         },
         {
          "index": 172,
          "value": 0.007215384956614852,
          "variable": "1.78"
         },
         {
          "index": 173,
          "value": 0.00848761751218615,
          "variable": "1.78"
         },
         {
          "index": 174,
          "value": 0.009529549733454473,
          "variable": "1.78"
         },
         {
          "index": 175,
          "value": 0.010331851294419615,
          "variable": "1.78"
         },
         {
          "index": 176,
          "value": 0.010890390837538323,
          "variable": "1.78"
         },
         {
          "index": 177,
          "value": 0.011206062923897385,
          "variable": "1.78"
         },
         {
          "index": 178,
          "value": 0.011284524014080588,
          "variable": "1.78"
         },
         {
          "index": 179,
          "value": 0.011135847162373112,
          "variable": "1.78"
         },
         {
          "index": 180,
          "value": 0.010774106240867882,
          "variable": "1.78"
         },
         {
          "index": 181,
          "value": 0.010216901374349474,
          "variable": "1.78"
         },
         {
          "index": 182,
          "value": 0.00948483785764947,
          "variable": "1.78"
         },
         {
          "index": 183,
          "value": 0.008600971146203062,
          "variable": "1.78"
         },
         {
          "index": 184,
          "value": 0.007590230564796863,
          "variable": "1.78"
         },
         {
          "index": 185,
          "value": 0.006478834180887605,
          "variable": "1.78"
         },
         {
          "index": 186,
          "value": 0.005293706853709767,
          "variable": "1.78"
         },
         {
          "index": 187,
          "value": 0.0040619128188863944,
          "variable": "1.78"
         },
         {
          "index": 188,
          "value": 0.002810113323899832,
          "variable": "1.78"
         },
         {
          "index": 189,
          "value": 0.0015640588187340377,
          "variable": "1.78"
         },
         {
          "index": 190,
          "value": 0.0003481240564352057,
          "variable": "1.78"
         },
         {
          "index": 191,
          "value": -0.0008151068002023536,
          "variable": "1.78"
         },
         {
          "index": 192,
          "value": -0.0019051993069004606,
          "variable": "1.78"
         },
         {
          "index": 193,
          "value": -0.002904167727875814,
          "variable": "1.78"
         },
         {
          "index": 194,
          "value": -0.003796710918619183,
          "variable": "1.78"
         },
         {
          "index": 195,
          "value": -0.0045703835267967,
          "variable": "1.78"
         },
         {
          "index": 196,
          "value": -0.005215702293664765,
          "variable": "1.78"
         },
         {
          "index": 197,
          "value": -0.005726188533252337,
          "variable": "1.78"
         },
         {
          "index": 198,
          "value": -0.0060983490766528155,
          "variable": "1.78"
         },
         {
          "index": 199,
          "value": -0.006331599074287167,
          "variable": "1.78"
         },
         {
          "index": 0,
          "value": 1,
          "variable": "2.00"
         },
         {
          "index": 1,
          "value": 0.9630605013946459,
          "variable": "2.00"
         },
         {
          "index": 2,
          "value": 0.9039806065373559,
          "variable": "2.00"
         },
         {
          "index": 3,
          "value": 0.8253146906912554,
          "variable": "2.00"
         },
         {
          "index": 4,
          "value": 0.7299790339000696,
          "variable": "2.00"
         },
         {
          "index": 5,
          "value": 0.6211615579195765,
          "variable": "2.00"
         },
         {
          "index": 6,
          "value": 0.5022292313214363,
          "variable": "2.00"
         },
         {
          "index": 7,
          "value": 0.3766355598352894,
          "variable": "2.00"
         },
         {
          "index": 8,
          "value": 0.24783045841589274,
          "variable": "2.00"
         },
         {
          "index": 9,
          "value": 0.11917462974008816,
          "variable": "2.00"
         },
         {
          "index": 10,
          "value": -0.006139642364852793,
          "variable": "2.00"
         },
         {
          "index": 11,
          "value": -0.12515962913056705,
          "variable": "2.00"
         },
         {
          "index": 12,
          "value": -0.23523384910107845,
          "variable": "2.00"
         },
         {
          "index": 13,
          "value": -0.3340632450220416,
          "variable": "2.00"
         },
         {
          "index": 14,
          "value": -0.41974108797794957,
          "variable": "2.00"
         },
         {
          "index": 15,
          "value": -0.4907811688558588,
          "variable": "2.00"
         },
         {
          "index": 16,
          "value": -0.5461341500622897,
          "variable": "2.00"
         },
         {
          "index": 17,
          "value": -0.5851922510957397,
          "variable": "2.00"
         },
         {
          "index": 18,
          "value": -0.6077827231996665,
          "variable": "2.00"
         },
         {
          "index": 19,
          "value": -0.6141508248198236,
          "variable": "2.00"
         },
         {
          "index": 20,
          "value": -0.6049332358177816,
          "variable": "2.00"
         },
         {
          "index": 21,
          "value": -0.5811230402067424,
          "variable": "2.00"
         },
         {
          "index": 22,
          "value": -0.5440275614926354,
          "variable": "2.00"
         },
         {
          "index": 23,
          "value": -0.4952204495229277,
          "variable": "2.00"
         },
         {
          "index": 24,
          "value": -0.4364894921478442,
          "variable": "2.00"
         },
         {
          "index": 25,
          "value": -0.3697816591142574,
          "variable": "2.00"
         },
         {
          "index": 26,
          "value": -0.2971468805673699,
          "variable": "2.00"
         },
         {
          "index": 27,
          "value": -0.22068202037419543,
          "variable": "2.00"
         },
         {
          "index": 28,
          "value": -0.14247642807330593,
          "variable": "2.00"
         },
         {
          "index": 29,
          "value": -0.06456034617611224,
          "variable": "2.00"
         },
         {
          "index": 30,
          "value": 0.011142684037799092,
          "variable": "2.00"
         },
         {
          "index": 31,
          "value": 0.08285843055399658,
          "variable": "2.00"
         },
         {
          "index": 32,
          "value": 0.14899877721687663,
          "variable": "2.00"
         },
         {
          "index": 33,
          "value": 0.20819209784989529,
          "variable": "2.00"
         },
         {
          "index": 34,
          "value": 0.2593067577673291,
          "variable": "2.00"
         },
         {
          "index": 35,
          "value": 0.30146749503134096,
          "variable": "2.00"
         },
         {
          "index": 36,
          "value": 0.33406462302197254,
          "variable": "2.00"
         },
         {
          "index": 37,
          "value": 0.35675617728142,
          "variable": "2.00"
         },
         {
          "index": 38,
          "value": 0.3694632990396881,
          "variable": "2.00"
         },
         {
          "index": 39,
          "value": 0.37235930169798254,
          "variable": "2.00"
         },
         {
          "index": 40,
          "value": 0.36585300177576446,
          "variable": "2.00"
         },
         {
          "index": 41,
          "value": 0.3505670099676788,
          "variable": "2.00"
         },
         {
          "index": 42,
          "value": 0.32731176920255023,
          "variable": "2.00"
         },
         {
          "index": 43,
          "value": 0.2970561938011335,
          "variable": "2.00"
         },
         {
          "index": 44,
          "value": 0.26089580649920796,
          "variable": "2.00"
         },
         {
          "index": 45,
          "value": 0.2200192883791969,
          "variable": "2.00"
         },
         {
          "index": 46,
          "value": 0.17567435137772835,
          "variable": "2.00"
         },
         {
          "index": 47,
          "value": 0.12913381530133003,
          "variable": "2.00"
         },
         {
          "index": 48,
          "value": 0.08166272297334726,
          "variable": "2.00"
         },
         {
          "index": 49,
          "value": 0.03448726046193072,
          "variable": "2.00"
         },
         {
          "index": 50,
          "value": -0.011233833140296218,
          "variable": "2.00"
         },
         {
          "index": 51,
          "value": -0.054434777373656366,
          "variable": "2.00"
         },
         {
          "index": 52,
          "value": -0.09416469992402708,
          "variable": "2.00"
         },
         {
          "index": 53,
          "value": -0.12960565269745425,
          "variable": "2.00"
         },
         {
          "index": 54,
          "value": -0.16008643918292847,
          "variable": "2.00"
         },
         {
          "index": 55,
          "value": -0.1850921145113084,
          "variable": "2.00"
         },
         {
          "index": 56,
          "value": -0.20426913402834915,
          "variable": "2.00"
         },
         {
          "index": 57,
          "value": -0.21742623560402838,
          "variable": "2.00"
         },
         {
          "index": 58,
          "value": -0.22453124282326742,
          "variable": "2.00"
         },
         {
          "index": 59,
          "value": -0.22570406847670044,
          "variable": "2.00"
         },
         {
          "index": 60,
          "value": -0.2212062785723943,
          "variable": "2.00"
         },
         {
          "index": 61,
          "value": -0.21142764497311872,
          "variable": "2.00"
         },
         {
          "index": 62,
          "value": -0.19687016867377025,
          "variable": "2.00"
         },
         {
          "index": 63,
          "value": -0.1781300950140272,
          "variable": "2.00"
         },
         {
          "index": 64,
          "value": -0.15587846651234072,
          "variable": "2.00"
         },
         {
          "index": 65,
          "value": -0.13084076863208657,
          "variable": "2.00"
         },
         {
          "index": 66,
          "value": -0.10377621913345512,
          "variable": "2.00"
         },
         {
          "index": 67,
          "value": -0.07545723354118976,
          "variable": "2.00"
         },
         {
          "index": 68,
          "value": -0.04664956877933344,
          "variable": "2.00"
         },
         {
          "index": 69,
          "value": -0.01809360555318635,
          "variable": "2.00"
         },
         {
          "index": 70,
          "value": 0.009512820834147267,
          "variable": "2.00"
         },
         {
          "index": 71,
          "value": 0.0355296901305734,
          "variable": "2.00"
         },
         {
          "index": 72,
          "value": 0.059387880596751666,
          "variable": "2.00"
         },
         {
          "index": 73,
          "value": 0.08059984804632137,
          "variable": "2.00"
         },
         {
          "index": 74,
          "value": 0.09876775272237422,
          "variable": "2.00"
         },
         {
          "index": 75,
          "value": 0.11358895697961556,
          "variable": "2.00"
         },
         {
          "index": 76,
          "value": 0.12485888590351821,
          "variable": "2.00"
         },
         {
          "index": 77,
          "value": 0.13247130896570394,
          "variable": "2.00"
         },
         {
          "index": 78,
          "value": 0.13641616210479346,
          "variable": "2.00"
         },
         {
          "index": 79,
          "value": 0.13677508493900467,
          "variable": "2.00"
         },
         {
          "index": 80,
          "value": 0.13371489607792922,
          "variable": "2.00"
         },
         {
          "index": 81,
          "value": 0.12747926985171443,
          "variable": "2.00"
         },
         {
          "index": 82,
          "value": 0.11837890960053431,
          "variable": "2.00"
         },
         {
          "index": 83,
          "value": 0.10678053559212898,
          "variable": "2.00"
         },
         {
          "index": 84,
          "value": 0.0930950195263834,
          "variable": "2.00"
         },
         {
          "index": 85,
          "value": 0.07776500254066412,
          "variable": "2.00"
         },
         {
          "index": 86,
          "value": 0.06125232996270086,
          "variable": "2.00"
         },
         {
          "index": 87,
          "value": 0.04402562428290574,
          "variable": "2.00"
         },
         {
          "index": 88,
          "value": 0.026548298625398755,
          "variable": "2.00"
         },
         {
          "index": 89,
          "value": 0.009267287227466815,
          "variable": "2.00"
         },
         {
          "index": 90,
          "value": -0.007397261946026424,
          "variable": "2.00"
         },
         {
          "index": 91,
          "value": -0.02306112326808068,
          "variable": "2.00"
         },
         {
          "index": 92,
          "value": -0.03738378839179735,
          "variable": "2.00"
         },
         {
          "index": 93,
          "value": -0.05007479194134215,
          "variable": "2.00"
         },
         {
          "index": 94,
          "value": -0.06089848264251617,
          "variable": "2.00"
         },
         {
          "index": 95,
          "value": -0.06967719742585218,
          "variable": "2.00"
         },
         {
          "index": 96,
          "value": -0.07629283783362986,
          "variable": "2.00"
         },
         {
          "index": 97,
          "value": -0.08068688782880183,
          "variable": "2.00"
         },
         {
          "index": 98,
          "value": -0.08285894894911694,
          "variable": "2.00"
         },
         {
          "index": 99,
          "value": -0.08286390190059477,
          "variable": "2.00"
         },
         {
          "index": 100,
          "value": -0.08080783249754384,
          "variable": "2.00"
         },
         {
          "index": 101,
          "value": -0.07684288382756961,
          "variable": "2.00"
         },
         {
          "index": 102,
          "value": -0.07116121529062153,
          "variable": "2.00"
         },
         {
          "index": 103,
          "value": -0.06398826251915159,
          "variable": "2.00"
         },
         {
          "index": 104,
          "value": -0.055575500064958455,
          "variable": "2.00"
         },
         {
          "index": 105,
          "value": -0.04619291120989108,
          "variable": "2.00"
         },
         {
          "index": 106,
          "value": -0.03612136652580066,
          "variable": "2.00"
         },
         {
          "index": 107,
          "value": -0.025645105196914285,
          "variable": "2.00"
         },
         {
          "index": 108,
          "value": -0.015044501053666014,
          "variable": "2.00"
         },
         {
          "index": 109,
          "value": -0.0045892792691586,
          "variable": "2.00"
         },
         {
          "index": 110,
          "value": 0.005467669671490022,
          "variable": "2.00"
         },
         {
          "index": 111,
          "value": 0.014895754157816684,
          "variable": "2.00"
         },
         {
          "index": 112,
          "value": 0.023491323282628564,
          "variable": "2.00"
         },
         {
          "index": 113,
          "value": 0.031081411176242548,
          "variable": "2.00"
         },
         {
          "index": 114,
          "value": 0.03752653471260875,
          "variable": "2.00"
         },
         {
          "index": 115,
          "value": 0.042722521403726336,
          "variable": "2.00"
         },
         {
          "index": 116,
          "value": 0.046601369553653585,
          "variable": "2.00"
         },
         {
          "index": 117,
          "value": 0.04913116670907823,
          "variable": "2.00"
         },
         {
          "index": 118,
          "value": 0.05031511458699563,
          "variable": "2.00"
         },
         {
          "index": 119,
          "value": 0.050189728520160855,
          "variable": "2.00"
         },
         {
          "index": 120,
          "value": 0.04882229665562386,
          "variable": "2.00"
         },
         {
          "index": 121,
          "value": 0.04630769837384906,
          "variable": "2.00"
         },
         {
          "index": 122,
          "value": 0.04276469245689277,
          "variable": "2.00"
         },
         {
          "index": 123,
          "value": 0.03833179330421147,
          "variable": "2.00"
         },
         {
          "index": 124,
          "value": 0.03316285794194159,
          "variable": "2.00"
         },
         {
          "index": 125,
          "value": 0.0274225077481821,
          "variable": "2.00"
         },
         {
          "index": 126,
          "value": 0.021281506853944625,
          "variable": "2.00"
         },
         {
          "index": 127,
          "value": 0.014912214279701408,
          "variable": "2.00"
         },
         {
          "index": 128,
          "value": 0.008484219296640755,
          "variable": "2.00"
         },
         {
          "index": 129,
          "value": 0.002160259579034656,
          "variable": "2.00"
         },
         {
          "index": 130,
          "value": -0.003907490198444876,
          "variable": "2.00"
         },
         {
          "index": 131,
          "value": -0.0095806851732576,
          "variable": "2.00"
         },
         {
          "index": 132,
          "value": -0.014737573062710537,
          "variable": "2.00"
         },
         {
          "index": 133,
          "value": -0.01927520888135123,
          "variable": "2.00"
         },
         {
          "index": 134,
          "value": -0.02311109338893726,
          "variable": "2.00"
         },
         {
          "index": 135,
          "value": -0.026184222764385753,
          "variable": "2.00"
         },
         {
          "index": 136,
          "value": -0.028455552256439823,
          "variable": "2.00"
         },
         {
          "index": 137,
          "value": -0.02990789100104931,
          "variable": "2.00"
         },
         {
          "index": 138,
          "value": -0.030545258499563303,
          "variable": "2.00"
         },
         {
          "index": 139,
          "value": -0.030391745145526974,
          "variable": "2.00"
         },
         {
          "index": 140,
          "value": -0.029489929444507866,
          "variable": "2.00"
         },
         {
          "index": 141,
          "value": -0.02789891301609675,
          "variable": "2.00"
         },
         {
          "index": 142,
          "value": -0.025692040978824528,
          "variable": "2.00"
         },
         {
          "index": 143,
          "value": -0.022954379830007823,
          "variable": "2.00"
         },
         {
          "index": 144,
          "value": -0.019780027429326986,
          "variable": "2.00"
         },
         {
          "index": 145,
          "value": -0.01626933021388315,
          "variable": "2.00"
         },
         {
          "index": 146,
          "value": -0.012526081397607757,
          "variable": "2.00"
         },
         {
          "index": 147,
          "value": -0.00865477076621003,
          "variable": "2.00"
         },
         {
          "index": 148,
          "value": -0.004757951935074416,
          "variable": "2.00"
         },
         {
          "index": 149,
          "value": -0.0009337867881471426,
          "variable": "2.00"
         },
         {
          "index": 150,
          "value": 0.002726180517293938,
          "variable": "2.00"
         },
         {
          "index": 151,
          "value": 0.006138975871631938,
          "variable": "2.00"
         },
         {
          "index": 152,
          "value": 0.009231838719167593,
          "variable": "2.00"
         },
         {
          "index": 153,
          "value": 0.01194353101141617,
          "variable": "2.00"
         },
         {
          "index": 154,
          "value": 0.014225295450784622,
          "variable": "2.00"
         },
         {
          "index": 155,
          "value": 0.016041456381757493,
          "variable": "2.00"
         },
         {
          "index": 156,
          "value": 0.017369665899441895,
          "variable": "2.00"
         },
         {
          "index": 157,
          "value": 0.018200806442625176,
          "variable": "2.00"
         },
         {
          "index": 158,
          "value": 0.01853856912934005,
          "variable": "2.00"
         },
         {
          "index": 159,
          "value": 0.018398734213213357,
          "variable": "2.00"
         },
         {
          "index": 160,
          "value": 0.01780818615417813,
          "variable": "2.00"
         },
         {
          "index": 161,
          "value": 0.016803700804628452,
          "variable": "2.00"
         },
         {
          "index": 162,
          "value": 0.015430546041548162,
          "variable": "2.00"
         },
         {
          "index": 163,
          "value": 0.013740939789051151,
          "variable": "2.00"
         },
         {
          "index": 164,
          "value": 0.011792410768693832,
          "variable": "2.00"
         },
         {
          "index": 165,
          "value": 0.00964610751206643,
          "variable": "2.00"
         },
         {
          "index": 166,
          "value": 0.007365100225229267,
          "variable": "2.00"
         },
         {
          "index": 167,
          "value": 0.005012718087020194,
          "variable": "2.00"
         },
         {
          "index": 168,
          "value": 0.0026509615951087417,
          "variable": "2.00"
         },
         {
          "index": 169,
          "value": 0.0003390257658226234,
          "variable": "2.00"
         },
         {
          "index": 170,
          "value": -0.0018680345179421162,
          "variable": "2.00"
         },
         {
          "index": 171,
          "value": -0.003920470785275662,
          "variable": "2.00"
         },
         {
          "index": 172,
          "value": -0.005774818129481218,
          "variable": "2.00"
         },
         {
          "index": 173,
          "value": -0.007394668201729762,
          "variable": "2.00"
         },
         {
          "index": 174,
          "value": -0.008751228827937814,
          "variable": "2.00"
         },
         {
          "index": 175,
          "value": -0.009823666789002034,
          "variable": "2.00"
         },
         {
          "index": 176,
          "value": -0.010599235866702302,
          "variable": "2.00"
         },
         {
          "index": 177,
          "value": -0.01107319749487329,
          "variable": "2.00"
         },
         {
          "index": 178,
          "value": -0.011248546153529531,
          "variable": "2.00"
         },
         {
          "index": 179,
          "value": -0.011135555904699482,
          "variable": "2.00"
         },
         {
          "index": 180,
          "value": -0.010751168113137151,
          "variable": "2.00"
         },
         {
          "index": 181,
          "value": -0.010118243362417234,
          "variable": "2.00"
         },
         {
          "index": 182,
          "value": -0.00926470282657137,
          "variable": "2.00"
         },
         {
          "index": 183,
          "value": -0.008222585868614329,
          "variable": "2.00"
         },
         {
          "index": 184,
          "value": -0.007027051408647537,
          "variable": "2.00"
         },
         {
          "index": 185,
          "value": -0.005715350652793869,
          "variable": "2.00"
         },
         {
          "index": 186,
          "value": -0.004325798134220954,
          "variable": "2.00"
         },
         {
          "index": 187,
          "value": -0.002896766738621198,
          "variable": "2.00"
         },
         {
          "index": 188,
          "value": -0.001465730531842783,
          "variable": "2.00"
         },
         {
          "index": 189,
          "value": -6.837685126109156e-05,
          "variable": "2.00"
         },
         {
          "index": 190,
          "value": 0.0012621936518969628,
          "variable": "2.00"
         },
         {
          "index": 191,
          "value": 0.002496163435203766,
          "variable": "2.00"
         },
         {
          "index": 192,
          "value": 0.0036075787072152,
          "variable": "2.00"
         },
         {
          "index": 193,
          "value": 0.0045748055232837665,
          "variable": "2.00"
         },
         {
          "index": 194,
          "value": 0.005380856096111631,
          "variable": "2.00"
         },
         {
          "index": 195,
          "value": 0.006013583566595547,
          "variable": "2.00"
         },
         {
          "index": 196,
          "value": 0.006465746837822521,
          "variable": "2.00"
         },
         {
          "index": 197,
          "value": 0.006734950227975867,
          "variable": "2.00"
         },
         {
          "index": 198,
          "value": 0.006823465578019995,
          "variable": "2.00"
         },
         {
          "index": 199,
          "value": 0.006737946999085467,
          "variable": "2.00"
         }
        ]
       },
       "encoding": {
        "color": {
         "field": "variable",
         "legend": null,
         "type": "nominal"
        },
        "x": {
         "axis": {
          "title": null
         },
         "field": "index",
         "type": "quantitative"
        },
        "y": {
         "axis": {
          "title": null
         },
         "field": "value",
         "type": "quantitative"
        }
       },
       "height": 400,
       "mark": "line",
       "width": 400
      },
      "image/png": "[encoded data removed]",
      "text/plain": [
       "<VegaLite 2 object>\n",
       "\n",
       "If you see this message, it means the renderer has not been properly enabled\n",
       "for the frontend that you are using. For more information, see\n",
       "https://altair-viz.github.io/user_guide/troubleshooting.html\n"
      ]
     },
     "execution_count": 2,
     "metadata": {},
     "output_type": "execute_result"
    }
   ],
   "source": [
    "thetas = np.linspace(0, 2, 10)\n",
    "xrange = np.linspace(0, 5, 200)\n",
    "def f(x, theta):\n",
    "    return np.cos(np.pi * theta * x) * np.exp(-x)\n",
    "\n",
    "df = (\n",
    "    pd.DataFrame({f'{theta:0.2f}': f(xrange, theta) for theta in thetas})\n",
    "    .reset_index()\n",
    "    .melt(id_vars='index')\n",
    ")\n",
    "\n",
    "cht = (\n",
    "    alt.Chart(df)\n",
    "    .mark_line()\n",
    "    .encode(\n",
    "        x=alt.X('index:Q', axis=alt.Axis(title=None)),\n",
    "        y=alt.Y('value:Q', axis=alt.Axis(title=None)),\n",
    "        color=alt.Color('variable:N', legend=None)\n",
    "    )\n",
    "    .properties(width=400, height=400)\n",
    ")\n",
    "cht"
   ]
  }
 ],
 "metadata": {
  "kernelspec": {
   "display_name": "Python 3",
   "language": "python",
   "name": "python3"
  },
  "language_info": {
   "codemirror_mode": {
    "name": "ipython",
    "version": 3
   },
   "file_extension": ".py",
   "mimetype": "text/x-python",
   "name": "python",
   "nbconvert_exporter": "python",
   "pygments_lexer": "ipython3",
   "version": "3.7.1"
  }
 },
 "nbformat": 4,
 "nbformat_minor": 2
}
