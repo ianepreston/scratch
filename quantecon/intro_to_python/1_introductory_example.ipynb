{
 "cells": [
  {
   "cell_type": "code",
   "execution_count": 1,
   "metadata": {},
   "outputs": [],
   "source": [
    "from numpy.random import uniform, randint\n",
    "import numpy as np"
   ]
  },
  {
   "cell_type": "markdown",
   "metadata": {},
   "source": [
    "# Exercise 1\n",
    "\n",
    "Recall that $n!$ is read as \"$n$ factorial\" and defined as $n! = n \\times (n-1) \\times ... \\times 2 \\times 1$\n",
    "\n",
    "There are functions to compute this in various modules, but let's write our own version as an exercise.\n",
    "\n",
    "In particular, write a function `factorial` such that `factorial(n)` returns $n!$ for any positive integer $n$"
   ]
  },
  {
   "cell_type": "code",
   "execution_count": 2,
   "metadata": {},
   "outputs": [],
   "source": [
    "def factorial(n: int) -> int:\n",
    "    try:\n",
    "        assert isinstance(n, int)\n",
    "    except AssertionError:\n",
    "        print(f'invalid input type {type(n)}, exiting')\n",
    "        return None\n",
    "    if n <= 0:\n",
    "        print('n must be positive integer')\n",
    "        return None\n",
    "    if n == 1:\n",
    "        return 1\n",
    "    else:\n",
    "        return n * factorial(n-1)"
   ]
  },
  {
   "cell_type": "code",
   "execution_count": 3,
   "metadata": {},
   "outputs": [
    {
     "name": "stdout",
     "output_type": "stream",
     "text": [
      "invalid input type <class 'float'>, exiting\n",
      "None\n",
      "n must be positive integer\n",
      "None\n",
      "n must be positive integer\n",
      "None\n",
      "1\n",
      "6\n"
     ]
    }
   ],
   "source": [
    "print(factorial(3.7))\n",
    "print(factorial(-5))\n",
    "print(factorial(0))\n",
    "print(factorial(1))\n",
    "print(factorial(3))"
   ]
  },
  {
   "cell_type": "markdown",
   "metadata": {},
   "source": [
    "# Exercise 2\n",
    "\n",
    "The [binomial random variable](https://en.wikipedia.org/wiki/Binomial_distribution) $Y~Bin(n,p)$ represents the number of successes in $n$ binary trials, where each trial succeeds with probability $p$\n",
    "\n",
    "Without any imports besides `from numpy.random import uniform` write a function `binomial_rv` such that `binomial_rv(n, p)` generates one draw of $Y$\n",
    "\n",
    "Hint: if $U$ is uniform on $(0,1)$ and $p \\in (0,1)$, then the expression `U < p` evaluates to `True` with probability $p$"
   ]
  },
  {
   "cell_type": "code",
   "execution_count": 4,
   "metadata": {},
   "outputs": [],
   "source": [
    "def binomial_rv(n: int, p: float) -> int:\n",
    "    try:\n",
    "        assert isinstance(n, int)\n",
    "        assert n > 0\n",
    "    except AssertionError:\n",
    "        print('n must be a positive integer')\n",
    "        return None\n",
    "    try:\n",
    "        assert isinstance(p, float)\n",
    "        assert p >= 0\n",
    "        assert p <= 1\n",
    "    except AssertionError:\n",
    "        print('p must be a float between 0 and 1 inclusive')\n",
    "        return None\n",
    "    successes = 0\n",
    "    for _ in range(n):\n",
    "        draw = uniform()\n",
    "        if draw < p:\n",
    "            successes += 1\n",
    "    return successes"
   ]
  },
  {
   "cell_type": "code",
   "execution_count": 5,
   "metadata": {},
   "outputs": [
    {
     "name": "stdout",
     "output_type": "stream",
     "text": [
      "n: 27\n",
      "p: 0.504592351933782\n",
      "12\n",
      "n: 25\n",
      "p: 0.7534627586793566\n",
      "19\n",
      "n: 3\n",
      "p: 0.9932170546597592\n",
      "2\n",
      "n: 84\n",
      "p: 0.5604762113360368\n",
      "47\n",
      "n: 47\n",
      "p: 0.9561041524906361\n",
      "45\n"
     ]
    }
   ],
   "source": [
    "for _ in range(5):\n",
    "    n = randint(0, 100)\n",
    "    p = uniform()\n",
    "    print(f'n: {n}')\n",
    "    print(f'p: {p}')\n",
    "    print(binomial_rv(n, p))"
   ]
  },
  {
   "cell_type": "markdown",
   "metadata": {},
   "source": [
    "# Exercise 3\n",
    "\n",
    "Compute an approximation to $\\pi$ using Monte Carlo. Use no imports besides `import numpy as np`\n",
    "\n",
    "Your hints are as follows:\n",
    "\n",
    "- If $U$ is a bivariate uniform random variable on the unit square $(0,1)^2$, then the probability that $U$ lies in a subset $B$ of $(0,1)^2$ is equal to the area under $B$\n",
    "\n",
    "- If $U_1,...,U_n$ are iid copies of $U$, then, as $n$ gets large, the fraction that fall in $B$ converges to the probability of landing in $B$\n",
    "\n",
    "- For a circle, $area = \\pi \\times radius^2$"
   ]
  },
  {
   "cell_type": "markdown",
   "metadata": {},
   "source": [
    "Ok, reason this out. Can think of $U$ as drawing a point $(x,y)$ where $0 <= x, y <= 1$ so that's a point in the unit square. A circle with radius 0.5 will cover an area $B = \\pi \\times 0.5^2$ so $\\frac{B}{0.5^2} = \\pi$. Geometry is clearly my strong suit. So now I just have to figure out how to determine if my $x, y$ coordinates are inside the unit circle.\n",
    "Ok, $x, y$ coordinates create a line from the origin and form a right triangle with length $x$ and height $y$. Thanks to my old pal Pythagoras I know $c^2 = a^2 + b^2$ So if I take my x and y, square and sum them, then take the square root of that, I'll have the length of the hypotenuse. If that's greater than 1 it's outside the unit circle. Easy!"
   ]
  },
  {
   "cell_type": "code",
   "execution_count": 6,
   "metadata": {},
   "outputs": [],
   "source": [
    "def monte_pi(trials):\n",
    "    successes = 0\n",
    "    for _ in range(trials):\n",
    "        x, y = uniform(size=2)\n",
    "        hyp = np.sqrt(x**2 + y**2)\n",
    "        if hyp <= 1:\n",
    "            successes += 1\n",
    "    pi_est = (successes / trials) / (0.5**2)\n",
    "    return pi_est\n"
   ]
  },
  {
   "cell_type": "code",
   "execution_count": 7,
   "metadata": {},
   "outputs": [
    {
     "name": "stdout",
     "output_type": "stream",
     "text": [
      "0.0\n",
      "2.4\n",
      "2.96\n",
      "3.264\n",
      "3.1332\n",
      "3.1366\n"
     ]
    }
   ],
   "source": [
    "n = 1\n",
    "while n < 1000000:\n",
    "    print(monte_pi(n))\n",
    "    n = n * 10"
   ]
  },
  {
   "cell_type": "markdown",
   "metadata": {},
   "source": [
    "# Exercise 4\n",
    "\n",
    "Write a program that prints one realization of the following random device:\n",
    "\n",
    "- Flip an unbiased coin 10 times\n",
    "\n",
    "- If 3 consecutive heads occur one or more times within this sequence, pay one dollar\n",
    "\n",
    "- If not, pay nothing\n",
    "\n",
    "Use no imports besided `from numpy.random import uniform`"
   ]
  },
  {
   "cell_type": "code",
   "execution_count": null,
   "metadata": {},
   "outputs": [],
   "source": []
  }
 ],
 "metadata": {
  "kernelspec": {
   "display_name": "Python 3",
   "language": "python",
   "name": "python3"
  },
  "language_info": {
   "codemirror_mode": {
    "name": "ipython",
    "version": 3
   },
   "file_extension": ".py",
   "mimetype": "text/x-python",
   "name": "python",
   "nbconvert_exporter": "python",
   "pygments_lexer": "ipython3",
   "version": "3.7.1"
  }
 },
 "nbformat": 4,
 "nbformat_minor": 2
}
