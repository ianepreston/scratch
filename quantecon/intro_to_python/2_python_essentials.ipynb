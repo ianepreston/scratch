{
 "cells": [
  {
   "cell_type": "code",
   "execution_count": 1,
   "metadata": {},
   "outputs": [],
   "source": [
    "import numbers\n",
    "import types"
   ]
  },
  {
   "cell_type": "markdown",
   "metadata": {},
   "source": [
    "# Exercise 1\n",
    "\n",
    "Part 1: Given two numeric lists or tuples `x_vals` and `y_vals` or equal length, compute their inner product using `zip()`\n",
    "\n",
    "Part 2: In one line, count the number of even numbers in $0,...,99$\n",
    "\n",
    "- Hint: `x % 2` returns 0 if `x` is even, 1 otherwise\n",
    "\n",
    "Part 3: Given `pairs = ((2, 5), (4, 2), (9, 8), (12, 10))` count the number of pairs `(a, b)` such that both `a` and `b` are even"
   ]
  },
  {
   "cell_type": "code",
   "execution_count": 2,
   "metadata": {},
   "outputs": [],
   "source": [
    "def part_1(x_vals, y_vals):\n",
    "    inner_product = sum((x * y for x, y in zip(x_vals, y_vals)))\n",
    "    return inner_product"
   ]
  },
  {
   "cell_type": "code",
   "execution_count": 3,
   "metadata": {},
   "outputs": [
    {
     "data": {
      "text/plain": [
       "80850"
      ]
     },
     "execution_count": 3,
     "metadata": {},
     "output_type": "execute_result"
    }
   ],
   "source": [
    "x_vals = list(range(0, 100, 2))\n",
    "y_vals = tuple(range(0, 50 ,1))\n",
    "part_1(x_vals, y_vals)"
   ]
  },
  {
   "cell_type": "code",
   "execution_count": 4,
   "metadata": {},
   "outputs": [
    {
     "name": "stdout",
     "output_type": "stream",
     "text": [
      "part_2\n"
     ]
    },
    {
     "data": {
      "text/plain": [
       "50"
      ]
     },
     "execution_count": 4,
     "metadata": {},
     "output_type": "execute_result"
    }
   ],
   "source": [
    "print('part_2')\n",
    "sum((i % 2 == 0 for i in range(100)))"
   ]
  },
  {
   "cell_type": "code",
   "execution_count": 5,
   "metadata": {},
   "outputs": [
    {
     "name": "stdout",
     "output_type": "stream",
     "text": [
      "part_3\n"
     ]
    },
    {
     "data": {
      "text/plain": [
       "2"
      ]
     },
     "execution_count": 5,
     "metadata": {},
     "output_type": "execute_result"
    }
   ],
   "source": [
    "print('part_3')\n",
    "pairs = ((2, 5), (4, 2), (9, 8), (12, 10))\n",
    "sum(all((p1 % 2 == 0, p2 % 2 == 0)) for p1, p2 in pairs)"
   ]
  },
  {
   "cell_type": "markdown",
   "metadata": {},
   "source": [
    "# Exercise 2\n",
    "\n",
    "Consider the polynomial\n",
    "\n",
    "$p(x) = a_0 + a_1x + a_2x^n + ...a_nx^n = \\sum_{i=0}^{n} a_ix^i$\n",
    "\n",
    "Write a function `p` such that `p(x, coeff)` that computes the value in the above equation given a point `x` and a list of coefficients `coeff`\n",
    "\n",
    "Try to use `enumerate()` in your loop"
   ]
  },
  {
   "cell_type": "code",
   "execution_count": 6,
   "metadata": {},
   "outputs": [],
   "source": [
    "def p(x, coeff):\n",
    "    return sum(a*(x**i) for i, a in enumerate(coeff))"
   ]
  },
  {
   "cell_type": "markdown",
   "metadata": {},
   "source": [
    "# Exercise 3\n",
    "\n",
    "Write a function that takes a string as an argument and returns the number of capital letters in the string\n",
    "\n",
    "Hint: `'foo'.upper()` returns `'FOO'`"
   ]
  },
  {
   "cell_type": "code",
   "execution_count": 7,
   "metadata": {},
   "outputs": [],
   "source": [
    "def upper_counter(string):\n",
    "    return sum(check == upper and check.isalpha() for check, upper in zip(string, string.upper()))"
   ]
  },
  {
   "cell_type": "code",
   "execution_count": 8,
   "metadata": {},
   "outputs": [
    {
     "name": "stdout",
     "output_type": "stream",
     "text": [
      "1\n",
      "5\n",
      "3\n",
      "2\n"
     ]
    }
   ],
   "source": [
    "print(upper_counter('Hello'))\n",
    "print(upper_counter('HELLO'))\n",
    "print(upper_counter('bAnAnA'))\n",
    "print(upper_counter('Hi, my name is Ian'))"
   ]
  },
  {
   "cell_type": "markdown",
   "metadata": {},
   "source": [
    "# Exercise 4\n",
    "\n",
    "Write a function that takes two sequences `seq_a` and `seq_b` as arguments and returns `True` if every element in `seq_a` is also an element of `seq_b`, else `False`\n",
    "\n",
    "- By \"sequence\" we mean a list, a tuple or a string\n",
    "\n",
    "- Do the exercise without using sets and set methods"
   ]
  },
  {
   "cell_type": "code",
   "execution_count": 9,
   "metadata": {},
   "outputs": [],
   "source": [
    "def no_sets_set_check(seq_a, seq_b):\n",
    "    return all(a in seq_b for a in seq_a)"
   ]
  },
  {
   "cell_type": "code",
   "execution_count": 10,
   "metadata": {},
   "outputs": [
    {
     "name": "stdout",
     "output_type": "stream",
     "text": [
      "True\n",
      "False\n"
     ]
    }
   ],
   "source": [
    "print(no_sets_set_check([1, 2], [1, 2, 4, 5]))\n",
    "print(no_sets_set_check([1, 2, 3], [1, 2, 4, 5]))"
   ]
  },
  {
   "cell_type": "markdown",
   "metadata": {},
   "source": [
    "# Exercise 5\n",
    "\n",
    "When we cover the numerical libraries, we will see they include many alternatives for interpolation and function approximation\n",
    "\n",
    "Nevertheless, let's write our own function approximation routine as an exercise\n",
    "\n",
    "In particular, without using any imports, write a function `linapprox` that takes as arguments\n",
    "\n",
    "- A function `f` mapping some interval $[a,b]$ into $\\mathbb{R}$\n",
    "\n",
    "- two scalars `a` and `b` providing the limits of this interval\n",
    "\n",
    "- An integer `n` determining the number of grid points\n",
    "\n",
    "- A number `x` satisfying `a <= x <= b`\n",
    "\n",
    "and returns the [piecewise linear interpolation](https://en.wikipedia.org/wiki/Linear_interpolation) of `f` at `x`, based on `n` evenly spaced grid points `a = point[0] < point[1] < ... < point[n-1] = b`\n",
    "\n",
    "Aim for clarity, not efficiency"
   ]
  },
  {
   "cell_type": "code",
   "execution_count": 11,
   "metadata": {},
   "outputs": [],
   "source": [
    "def linapprox(f, a, b, n, x):\n",
    "    \"\"\"Piecewise linear interpolation\n",
    "    \n",
    "    Parameters\n",
    "    ----------\n",
    "    f: function\n",
    "        The function to approximate\n",
    "    \n",
    "    a: numeric\n",
    "        One end of the interval to interpolate over\n",
    "    b: numeric\n",
    "        The other end of the interval to interpolate over\n",
    "    n: int\n",
    "        The number of discrete grid points between a and b to estimate\n",
    "    x: numeric\n",
    "        A number between a and b to approximate\n",
    "    \n",
    "    Since we're aiming for clarity and not efficiency there's going to be a lot of descriptive stuff here\n",
    "    \"\"\"\n",
    "    # Do some type checking\n",
    "    if not isinstance(f, types.FunctionType):\n",
    "        print('f must be a function, exiting')\n",
    "        return None\n",
    "    if not (isinstance(var, numbers.Number) for var in (a, b, x)):\n",
    "        print('a, b, x must all be numeric, exiting')\n",
    "        return None\n",
    "    if not isinstance(n, int):\n",
    "        print('n must be an integer, exiting')\n",
    "        return None\n",
    "    if a == b:\n",
    "        print('a and b cannot be equal, need to be an interval, exiting')\n",
    "        return None\n",
    "    # Easier to assume a is the lower number, so let's  swap them if it's not\n",
    "    if not a < b:\n",
    "        a, b = b, a # man I love this trick\n",
    "    # Now we can more easily make sure x is between a and b\n",
    "    if not a <= x and x <=b:\n",
    "        print('x must be between a and b, exiting')\n",
    "        return None\n",
    "    stepsize = (b - a) / n\n",
    "    low = a\n",
    "    high = a + stepsize\n",
    "    while high <= b:\n",
    "        # Find the interval in the steps that contains x\n",
    "        if low <= x and x<= high:\n",
    "            low_f = f(low)\n",
    "            high_f = f(high)\n",
    "            x_interpolate = (low_f * (high - x) + high_f * (x - low)) / (stepsize)\n",
    "            return x_interpolate\n",
    "        low += stepsize\n",
    "        high += stepsize\n",
    "    print('If we got here something bad happened')\n",
    "    return None"
   ]
  }
 ],
 "metadata": {
  "kernelspec": {
   "display_name": "Python 3",
   "language": "python",
   "name": "python3"
  },
  "language_info": {
   "codemirror_mode": {
    "name": "ipython",
    "version": 3
   },
   "file_extension": ".py",
   "mimetype": "text/x-python",
   "name": "python",
   "nbconvert_exporter": "python",
   "pygments_lexer": "ipython3",
   "version": "3.7.1"
  }
 },
 "nbformat": 4,
 "nbformat_minor": 2
}
