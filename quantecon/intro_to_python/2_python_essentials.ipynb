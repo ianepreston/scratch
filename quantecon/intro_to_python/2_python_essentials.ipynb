{
 "cells": [
  {
   "cell_type": "markdown",
   "metadata": {},
   "source": [
    "# Exercise 1\n",
    "\n",
    "Part 1: Given two numeric lists or tuples `x_vals` and `y_vals` or equal length, compute their inner product using `zip()`\n",
    "\n",
    "Part 2: In one line, count the number of even numbers in $0,...,99$\n",
    "\n",
    "- Hint: `x % 2` returns 0 if `x` is even, 1 otherwise\n",
    "\n",
    "Part 3: Given `pairs = ((2, 5), (4, 2), (9, 8), (12, 10))` count the number of pairs `(a, b)` such that both `a` and `b` are even"
   ]
  },
  {
   "cell_type": "code",
   "execution_count": 1,
   "metadata": {},
   "outputs": [],
   "source": [
    "def part_1(x_vals, y_vals):\n",
    "    inner_product = sum((x * y for x, y in zip(x_vals, y_vals)))\n",
    "    return inner_product"
   ]
  },
  {
   "cell_type": "code",
   "execution_count": null,
   "metadata": {},
   "outputs": [],
   "source": []
  },
  {
   "cell_type": "markdown",
   "metadata": {},
   "source": [
    "# Exercise 2\n",
    "\n",
    "Consider the polynomial\n",
    "\n",
    "$p(x) = a_0 + a_1x + a_2x^n + ...a_nx^2 = \\sum_{i=0}^{n} a_ix^i$\n",
    "\n",
    "Write a function `p` such that `p(x, coeff)` that computes the value in the above equation given a point `x` and a list of coefficients `coeff`\n",
    "\n",
    "Try to use `enumerate()` in your loop"
   ]
  },
  {
   "cell_type": "markdown",
   "metadata": {},
   "source": [
    "# Exercise 3\n",
    "\n",
    "Write a function that takes a string as an argument and returns the number of capital letters in the string\n",
    "\n",
    "Hint: `'foo'.upper()` returns `'FOO'`"
   ]
  },
  {
   "cell_type": "markdown",
   "metadata": {},
   "source": [
    "# Exercise 4\n",
    "\n",
    "Write a function that takes two sequences `seq_a` and `seq_b` as arguments and returns `True` if every element in `seq_a` is also an element of `seq_b`, else `False`\n",
    "\n",
    "- By \"sequence\" we mean a list, a tuple or a string\n",
    "\n",
    "- Do the exercise without using sets and set methods"
   ]
  },
  {
   "cell_type": "markdown",
   "metadata": {},
   "source": [
    "# Exercise 5\n",
    "\n",
    "When we cover the numerical libraries, we will see they include many alternatives for interpolation and function approximation\n",
    "\n",
    "Nevertheless, let's write our own function approximation routine as an exercise\n",
    "\n",
    "In particular, without using any imports, write a function `linapprox` that takes as arguments\n",
    "\n",
    "- A function `f` mapping some interval $[a,b]$ into $\\mathbb{R}$\n",
    "\n",
    "- two scalars `a` and `b` providing the limits of this interval\n",
    "\n",
    "- An integer `n` determining the number of grid points\n",
    "\n",
    "- A number `x` satisfying `a <= x <= b`\n",
    "\n",
    "and returns the [piecewise linear interpolation](https://en.wikipedia.org/wiki/Linear_interpolation) of `f` at `x`, based on `n` evenly spaced grid points `a = point[0] < point[1] < ... < point[n-1] = b`\n",
    "\n",
    "Aim for clarity, not efficiency"
   ]
  }
 ],
 "metadata": {
  "kernelspec": {
   "display_name": "Python 3",
   "language": "python",
   "name": "python3"
  },
  "language_info": {
   "codemirror_mode": {
    "name": "ipython",
    "version": 3
   },
   "file_extension": ".py",
   "mimetype": "text/x-python",
   "name": "python",
   "nbconvert_exporter": "python",
   "pygments_lexer": "ipython3",
   "version": "3.7.1"
  }
 },
 "nbformat": 4,
 "nbformat_minor": 2
}
