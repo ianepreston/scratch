{
 "cells": [
  {
   "cell_type": "code",
   "execution_count": 1,
   "metadata": {},
   "outputs": [],
   "source": [
    "from numpy.random import uniform, randint\n",
    "import numpy as np\n",
    "import pandas as pd\n",
    "import altair as alt"
   ]
  },
  {
   "cell_type": "markdown",
   "metadata": {},
   "source": [
    "# Exercise 1\n",
    "\n",
    "Recall that $n!$ is read as \"$n$ factorial\" and defined as $n! = n \\times (n-1) \\times ... \\times 2 \\times 1$\n",
    "\n",
    "There are functions to compute this in various modules, but let's write our own version as an exercise.\n",
    "\n",
    "In particular, write a function `factorial` such that `factorial(n)` returns $n!$ for any positive integer $n$"
   ]
  },
  {
   "cell_type": "code",
   "execution_count": 2,
   "metadata": {},
   "outputs": [],
   "source": [
    "def factorial(n: int) -> int:\n",
    "    try:\n",
    "        assert isinstance(n, int)\n",
    "    except AssertionError:\n",
    "        print(f'invalid input type {type(n)}, exiting')\n",
    "        return None\n",
    "    if n <= 0:\n",
    "        print('n must be positive integer')\n",
    "        return None\n",
    "    if n == 1:\n",
    "        return 1\n",
    "    else:\n",
    "        return n * factorial(n-1)"
   ]
  },
  {
   "cell_type": "code",
   "execution_count": 3,
   "metadata": {},
   "outputs": [
    {
     "name": "stdout",
     "output_type": "stream",
     "text": [
      "invalid input type <class 'float'>, exiting\n",
      "None\n",
      "n must be positive integer\n",
      "None\n",
      "n must be positive integer\n",
      "None\n",
      "1\n",
      "6\n"
     ]
    }
   ],
   "source": [
    "print(factorial(3.7))\n",
    "print(factorial(-5))\n",
    "print(factorial(0))\n",
    "print(factorial(1))\n",
    "print(factorial(3))"
   ]
  },
  {
   "cell_type": "markdown",
   "metadata": {},
   "source": [
    "# Exercise 2\n",
    "\n",
    "The [binomial random variable](https://en.wikipedia.org/wiki/Binomial_distribution) $Y~Bin(n,p)$ represents the number of successes in $n$ binary trials, where each trial succeeds with probability $p$\n",
    "\n",
    "Without any imports besides `from numpy.random import uniform` write a function `binomial_rv` such that `binomial_rv(n, p)` generates one draw of $Y$\n",
    "\n",
    "Hint: if $U$ is uniform on $(0,1)$ and $p \\in (0,1)$, then the expression `U < p` evaluates to `True` with probability $p$"
   ]
  },
  {
   "cell_type": "code",
   "execution_count": 4,
   "metadata": {},
   "outputs": [],
   "source": [
    "def binomial_rv(n: int, p: float) -> int:\n",
    "    try:\n",
    "        assert isinstance(n, int)\n",
    "        assert n > 0\n",
    "    except AssertionError:\n",
    "        print('n must be a positive integer')\n",
    "        return None\n",
    "    try:\n",
    "        assert isinstance(p, float)\n",
    "        assert p >= 0\n",
    "        assert p <= 1\n",
    "    except AssertionError:\n",
    "        print('p must be a float between 0 and 1 inclusive')\n",
    "        return None\n",
    "    successes = 0\n",
    "    for _ in range(n):\n",
    "        draw = uniform()\n",
    "        if draw < p:\n",
    "            successes += 1\n",
    "    return successes"
   ]
  },
  {
   "cell_type": "code",
   "execution_count": 5,
   "metadata": {},
   "outputs": [
    {
     "name": "stdout",
     "output_type": "stream",
     "text": [
      "n: 1\n",
      "p: 0.4995351987625749\n",
      "1\n",
      "n: 18\n",
      "p: 0.9764612518546607\n",
      "16\n",
      "n: 97\n",
      "p: 0.6930336251732602\n",
      "69\n",
      "n: 83\n",
      "p: 0.04530935585548557\n",
      "7\n",
      "n: 20\n",
      "p: 0.28899065096793053\n",
      "7\n"
     ]
    }
   ],
   "source": [
    "for _ in range(5):\n",
    "    n = randint(0, 100)\n",
    "    p = uniform()\n",
    "    print(f'n: {n}')\n",
    "    print(f'p: {p}')\n",
    "    print(binomial_rv(n, p))"
   ]
  },
  {
   "cell_type": "markdown",
   "metadata": {},
   "source": [
    "# Exercise 3\n",
    "\n",
    "Compute an approximation to $\\pi$ using Monte Carlo. Use no imports besides `import numpy as np`\n",
    "\n",
    "Your hints are as follows:\n",
    "\n",
    "- If $U$ is a bivariate uniform random variable on the unit square $(0,1)^2$, then the probability that $U$ lies in a subset $B$ of $(0,1)^2$ is equal to the area under $B$\n",
    "\n",
    "- If $U_1,...,U_n$ are iid copies of $U$, then, as $n$ gets large, the fraction that fall in $B$ converges to the probability of landing in $B$\n",
    "\n",
    "- For a circle, $area = \\pi \\times radius^2$"
   ]
  },
  {
   "cell_type": "markdown",
   "metadata": {},
   "source": [
    "Ok, reason this out. Can think of $U$ as drawing a point $(x,y)$ where $0 <= x, y <= 1$ so that's a point in the unit square. A circle with radius 0.5 will cover an area $B = \\pi \\times 0.5^2$ so $\\frac{B}{0.5^2} = \\pi$. Geometry is clearly my strong suit. So now I just have to figure out how to determine if my $x, y$ coordinates are inside the unit circle.\n",
    "Ok, $x, y$ coordinates create a line from the origin and form a right triangle with length $x$ and height $y$. Thanks to my old pal Pythagoras I know $c^2 = a^2 + b^2$ So if I take my x and y, square and sum them, then take the square root of that, I'll have the length of the hypotenuse. If that's greater than 1 it's outside the unit circle. Easy!"
   ]
  },
  {
   "cell_type": "code",
   "execution_count": 6,
   "metadata": {},
   "outputs": [],
   "source": [
    "def monte_pi(trials):\n",
    "    successes = 0\n",
    "    for _ in range(trials):\n",
    "        x, y = uniform(size=2)\n",
    "        hyp = np.sqrt(x**2 + y**2)\n",
    "        if hyp <= 1:\n",
    "            successes += 1\n",
    "    pi_est = (successes / trials) / (0.5**2)\n",
    "    return pi_est\n"
   ]
  },
  {
   "cell_type": "code",
   "execution_count": 7,
   "metadata": {},
   "outputs": [
    {
     "name": "stdout",
     "output_type": "stream",
     "text": [
      "0.0\n",
      "3.6\n",
      "3.36\n",
      "3.212\n",
      "3.1244\n",
      "3.14376\n"
     ]
    }
   ],
   "source": [
    "n = 1\n",
    "while n < 1000000:\n",
    "    print(monte_pi(n))\n",
    "    n = n * 10"
   ]
  },
  {
   "cell_type": "markdown",
   "metadata": {},
   "source": [
    "# Exercise 4\n",
    "\n",
    "Write a program that prints one realization of the following random device:\n",
    "\n",
    "- Flip an unbiased coin 10 times\n",
    "\n",
    "- If 3 consecutive heads occur one or more times within this sequence, pay one dollar\n",
    "\n",
    "- If not, pay nothing\n",
    "\n",
    "Use no imports besided `from numpy.random import uniform`"
   ]
  },
  {
   "cell_type": "code",
   "execution_count": 8,
   "metadata": {},
   "outputs": [],
   "source": [
    "def payout():\n",
    "    consecutive_heads = 0\n",
    "    for _ in range(10):\n",
    "        flip = uniform()\n",
    "        if flip > 0.5:\n",
    "            consecutive_heads += 1\n",
    "        else:\n",
    "            consecutive_heads = 0\n",
    "        if consecutive_heads == 3:\n",
    "            return 1\n",
    "    return 0"
   ]
  },
  {
   "cell_type": "code",
   "execution_count": 9,
   "metadata": {},
   "outputs": [
    {
     "name": "stdout",
     "output_type": "stream",
     "text": [
      "0\n",
      "1\n",
      "1\n",
      "1\n",
      "1\n"
     ]
    }
   ],
   "source": [
    "for _ in range(5):\n",
    "    print(payout())"
   ]
  },
  {
   "cell_type": "markdown",
   "metadata": {},
   "source": [
    "# Exercise 5\n",
    "\n",
    "Your next task it to simulate and plot the correlated time series\n",
    "\n",
    "$x_{t+1} = \\alpha x_t + \\epsilon_{t+1}$ where $x_0 = 0$ and $t = 0,...,T$\n",
    "\n",
    "The sequence of shocks $\\{\\epsilon_t\\}$ is assumed to be iid and standard normal\n",
    "\n",
    "In your solution, restrict your import statements to\n",
    "\n",
    "```python\n",
    "import numpy as np\n",
    "import matplotlib.pyplot as plt\n",
    "```\n",
    "\n",
    "Set $T = 200$ and $\\alpha =0.9$"
   ]
  },
  {
   "cell_type": "code",
   "execution_count": 10,
   "metadata": {},
   "outputs": [
    {
     "data": {
      "application/vnd.vegalite.v2+json": {
       "$schema": "https://vega.github.io/schema/vega-lite/v2.6.0.json",
       "config": {
        "view": {
         "height": 300,
         "width": 400
        }
       },
       "data": {
        "name": "data-5185bfd17470d1c790eaac7df3a8173b"
       },
       "datasets": {
        "data-5185bfd17470d1c790eaac7df3a8173b": [
         {
          "index": 0,
          "time_series": 0
         },
         {
          "index": 1,
          "time_series": -0.15483632109070233
         },
         {
          "index": 2,
          "time_series": -1.12423059609328
         },
         {
          "index": 3,
          "time_series": -0.34795644503276557
         },
         {
          "index": 4,
          "time_series": -0.7285079056357548
         },
         {
          "index": 5,
          "time_series": -1.9570956016582621
         },
         {
          "index": 6,
          "time_series": -0.703706774279971
         },
         {
          "index": 7,
          "time_series": 0.1253878421666088
         },
         {
          "index": 8,
          "time_series": 1.0968903419567715
         },
         {
          "index": 9,
          "time_series": 0.1686177166590922
         },
         {
          "index": 10,
          "time_series": 1.950351174545479
         },
         {
          "index": 11,
          "time_series": 2.8287420143675854
         },
         {
          "index": 12,
          "time_series": 2.439957623288029
         },
         {
          "index": 13,
          "time_series": 1.689303023887248
         },
         {
          "index": 14,
          "time_series": 2.631691525024002
         },
         {
          "index": 15,
          "time_series": 2.5248255971983196
         },
         {
          "index": 16,
          "time_series": 2.246293589621127
         },
         {
          "index": 17,
          "time_series": 0.5097735353149171
         },
         {
          "index": 18,
          "time_series": -1.9925828036369693
         },
         {
          "index": 19,
          "time_series": -0.5741904463589551
         },
         {
          "index": 20,
          "time_series": 0.2780821018219001
         },
         {
          "index": 21,
          "time_series": 0.8603278108179759
         },
         {
          "index": 22,
          "time_series": 0.2912135693215993
         },
         {
          "index": 23,
          "time_series": -0.8331960275197206
         },
         {
          "index": 24,
          "time_series": -0.8275329199350772
         },
         {
          "index": 25,
          "time_series": 0.9405684179712364
         },
         {
          "index": 26,
          "time_series": 1.0485551378519644
         },
         {
          "index": 27,
          "time_series": 0.7367974075525688
         },
         {
          "index": 28,
          "time_series": 0.9396709489142193
         },
         {
          "index": 29,
          "time_series": 2.1599309448924258
         },
         {
          "index": 30,
          "time_series": 2.0639088414139803
         },
         {
          "index": 31,
          "time_series": 1.8708035300343027
         },
         {
          "index": 32,
          "time_series": 2.4699068714634804
         },
         {
          "index": 33,
          "time_series": 2.30514814896893
         },
         {
          "index": 34,
          "time_series": 2.3066125798623216
         },
         {
          "index": 35,
          "time_series": 2.3616384610509393
         },
         {
          "index": 36,
          "time_series": 0.9239046284546824
         },
         {
          "index": 37,
          "time_series": 2.5577357109307846
         },
         {
          "index": 38,
          "time_series": 3.349324065977944
         },
         {
          "index": 39,
          "time_series": 3.5536069902980687
         },
         {
          "index": 40,
          "time_series": 2.2383424952121396
         },
         {
          "index": 41,
          "time_series": 0.689268850383765
         },
         {
          "index": 42,
          "time_series": 0.6597246971467631
         },
         {
          "index": 43,
          "time_series": 0.2123288245663385
         },
         {
          "index": 44,
          "time_series": 1.2595786876133392
         },
         {
          "index": 45,
          "time_series": 0.3499395948496187
         },
         {
          "index": 46,
          "time_series": -0.8481529142780614
         },
         {
          "index": 47,
          "time_series": 1.448509000987706
         },
         {
          "index": 48,
          "time_series": 0.34385989973601083
         },
         {
          "index": 49,
          "time_series": 1.0340800305674593
         },
         {
          "index": 50,
          "time_series": 1.8130292886847936
         },
         {
          "index": 51,
          "time_series": 1.393988176511768
         },
         {
          "index": 52,
          "time_series": 2.371997649263819
         },
         {
          "index": 53,
          "time_series": 3.1701742545318
         },
         {
          "index": 54,
          "time_series": 2.519010853577296
         },
         {
          "index": 55,
          "time_series": 3.048944904690193
         },
         {
          "index": 56,
          "time_series": 2.0907186676155898
         },
         {
          "index": 57,
          "time_series": 0.9522022155033323
         },
         {
          "index": 58,
          "time_series": 2.35603356742347
         },
         {
          "index": 59,
          "time_series": 3.096967461417165
         },
         {
          "index": 60,
          "time_series": 1.8091935704934405
         },
         {
          "index": 61,
          "time_series": 3.452013135574187
         },
         {
          "index": 62,
          "time_series": 2.2118756727314843
         },
         {
          "index": 63,
          "time_series": 3.847053854857026
         },
         {
          "index": 64,
          "time_series": 2.9351742724499656
         },
         {
          "index": 65,
          "time_series": 2.1097547435879522
         },
         {
          "index": 66,
          "time_series": 1.367456035029813
         },
         {
          "index": 67,
          "time_series": 0.06449404857216079
         },
         {
          "index": 68,
          "time_series": 1.172130192016189
         },
         {
          "index": 69,
          "time_series": 1.7628636632739765
         },
         {
          "index": 70,
          "time_series": 1.35975880157812
         },
         {
          "index": 71,
          "time_series": 0.3397699962297268
         },
         {
          "index": 72,
          "time_series": -0.14652279337816704
         },
         {
          "index": 73,
          "time_series": 0.5010866486592039
         },
         {
          "index": 74,
          "time_series": 0.7993996421607215
         },
         {
          "index": 75,
          "time_series": -1.324767563800589
         },
         {
          "index": 76,
          "time_series": -1.7535233422953262
         },
         {
          "index": 77,
          "time_series": -1.1894356935886106
         },
         {
          "index": 78,
          "time_series": -1.772843833431677
         },
         {
          "index": 79,
          "time_series": -0.33993594480043354
         },
         {
          "index": 80,
          "time_series": -0.19911873525595353
         },
         {
          "index": 81,
          "time_series": -1.211172147846847
         },
         {
          "index": 82,
          "time_series": -1.2451678408318605
         },
         {
          "index": 83,
          "time_series": 0.44156276978491915
         },
         {
          "index": 84,
          "time_series": 0.44037426581733274
         },
         {
          "index": 85,
          "time_series": 0.4080565141334612
         },
         {
          "index": 86,
          "time_series": 0.3026032432750132
         },
         {
          "index": 87,
          "time_series": -0.6494458921663733
         },
         {
          "index": 88,
          "time_series": -1.316692408469546
         },
         {
          "index": 89,
          "time_series": -1.813233937039096
         },
         {
          "index": 90,
          "time_series": -1.178626123487124
         },
         {
          "index": 91,
          "time_series": -1.9335322380471396
         },
         {
          "index": 92,
          "time_series": -1.5874979299740932
         },
         {
          "index": 93,
          "time_series": -1.2756273372664793
         },
         {
          "index": 94,
          "time_series": -0.10304587104138041
         },
         {
          "index": 95,
          "time_series": -1.5407009579694626
         },
         {
          "index": 96,
          "time_series": -2.847609651046187
         },
         {
          "index": 97,
          "time_series": -3.3250494588556707
         },
         {
          "index": 98,
          "time_series": -3.2301353339592715
         },
         {
          "index": 99,
          "time_series": -3.479493276819562
         },
         {
          "index": 100,
          "time_series": -2.3443932604994693
         },
         {
          "index": 101,
          "time_series": -1.2422798385709877
         },
         {
          "index": 102,
          "time_series": -1.4938160358675672
         },
         {
          "index": 103,
          "time_series": -1.4735643432376577
         },
         {
          "index": 104,
          "time_series": -1.0117183213530485
         },
         {
          "index": 105,
          "time_series": -0.7744991122785798
         },
         {
          "index": 106,
          "time_series": -1.235522481616524
         },
         {
          "index": 107,
          "time_series": 0.8267539635024772
         },
         {
          "index": 108,
          "time_series": 0.5466138708696693
         },
         {
          "index": 109,
          "time_series": 2.130796827053341
         },
         {
          "index": 110,
          "time_series": 1.5437917452393646
         },
         {
          "index": 111,
          "time_series": 2.981691607347699
         },
         {
          "index": 112,
          "time_series": 4.142969860687947
         },
         {
          "index": 113,
          "time_series": 4.21905724575068
         },
         {
          "index": 114,
          "time_series": 5.353668985759651
         },
         {
          "index": 115,
          "time_series": 6.47495056682868
         },
         {
          "index": 116,
          "time_series": 6.579822987935708
         },
         {
          "index": 117,
          "time_series": 5.690816236172692
         },
         {
          "index": 118,
          "time_series": 5.2128216331519885
         },
         {
          "index": 119,
          "time_series": 4.165726838018346
         },
         {
          "index": 120,
          "time_series": 3.0243973801132897
         },
         {
          "index": 121,
          "time_series": 3.399498225386626
         },
         {
          "index": 122,
          "time_series": 2.4926125737728797
         },
         {
          "index": 123,
          "time_series": 3.2940785523314045
         },
         {
          "index": 124,
          "time_series": 1.7636512156093294
         },
         {
          "index": 125,
          "time_series": 1.126912664837856
         },
         {
          "index": 126,
          "time_series": 0.5568874741432848
         },
         {
          "index": 127,
          "time_series": 1.41405118857433
         },
         {
          "index": 128,
          "time_series": 1.778553231919395
         },
         {
          "index": 129,
          "time_series": 2.3610583934845506
         },
         {
          "index": 130,
          "time_series": 1.4410476806604535
         },
         {
          "index": 131,
          "time_series": 2.0453048757609
         },
         {
          "index": 132,
          "time_series": 2.3023590143367842
         },
         {
          "index": 133,
          "time_series": 2.69146199942719
         },
         {
          "index": 134,
          "time_series": 2.4882336562320555
         },
         {
          "index": 135,
          "time_series": 3.7986410701221214
         },
         {
          "index": 136,
          "time_series": 3.2119964365129636
         },
         {
          "index": 137,
          "time_series": 3.7096936441172637
         },
         {
          "index": 138,
          "time_series": 2.9380335030763276
         },
         {
          "index": 139,
          "time_series": 3.6165887590347983
         },
         {
          "index": 140,
          "time_series": 3.125264373757383
         },
         {
          "index": 141,
          "time_series": 2.8001780808059737
         },
         {
          "index": 142,
          "time_series": 2.4409895347226187
         },
         {
          "index": 143,
          "time_series": 2.9569702700728078
         },
         {
          "index": 144,
          "time_series": 0.9985102884723067
         },
         {
          "index": 145,
          "time_series": 1.6040994388282708
         },
         {
          "index": 146,
          "time_series": 1.7291104287738222
         },
         {
          "index": 147,
          "time_series": 1.118897065124397
         },
         {
          "index": 148,
          "time_series": 0.5899786376215032
         },
         {
          "index": 149,
          "time_series": 2.3469239645474658
         },
         {
          "index": 150,
          "time_series": 2.2333024510377926
         },
         {
          "index": 151,
          "time_series": 1.1342241003899813
         },
         {
          "index": 152,
          "time_series": 0.3361821271188379
         },
         {
          "index": 153,
          "time_series": 0.12622803947879294
         },
         {
          "index": 154,
          "time_series": 0.3466658929906835
         },
         {
          "index": 155,
          "time_series": -0.48177714538086086
         },
         {
          "index": 156,
          "time_series": 0.3414920436530264
         },
         {
          "index": 157,
          "time_series": 0.0982260327389369
         },
         {
          "index": 158,
          "time_series": -0.004681816268325034
         },
         {
          "index": 159,
          "time_series": -0.5834635303785108
         },
         {
          "index": 160,
          "time_series": -1.9241854366795226
         },
         {
          "index": 161,
          "time_series": -3.446996327282739
         },
         {
          "index": 162,
          "time_series": -3.7944533678075163
         },
         {
          "index": 163,
          "time_series": -0.48732103850768693
         },
         {
          "index": 164,
          "time_series": -0.9645042539359705
         },
         {
          "index": 165,
          "time_series": 0.2813001600032662
         },
         {
          "index": 166,
          "time_series": 1.161765494267101
         },
         {
          "index": 167,
          "time_series": 4.143305460764258
         },
         {
          "index": 168,
          "time_series": 3.845569462580846
         },
         {
          "index": 169,
          "time_series": 2.504242475407493
         },
         {
          "index": 170,
          "time_series": 3.323968001539681
         },
         {
          "index": 171,
          "time_series": 1.4163132381074677
         },
         {
          "index": 172,
          "time_series": 0.7077084056301552
         },
         {
          "index": 173,
          "time_series": 0.8906241058323918
         },
         {
          "index": 174,
          "time_series": -0.7305124366315816
         },
         {
          "index": 175,
          "time_series": 1.0580982504490226
         },
         {
          "index": 176,
          "time_series": 1.415455064419605
         },
         {
          "index": 177,
          "time_series": 1.7805630122321485
         },
         {
          "index": 178,
          "time_series": 2.433166045366446
         },
         {
          "index": 179,
          "time_series": 2.0857419608485768
         },
         {
          "index": 180,
          "time_series": 1.3538309758286857
         },
         {
          "index": 181,
          "time_series": 1.9034486376151443
         },
         {
          "index": 182,
          "time_series": 2.240108128158698
         },
         {
          "index": 183,
          "time_series": 3.3797790337739633
         },
         {
          "index": 184,
          "time_series": 2.808513698033594
         },
         {
          "index": 185,
          "time_series": 2.3554027239097017
         },
         {
          "index": 186,
          "time_series": 1.5297116533297022
         },
         {
          "index": 187,
          "time_series": 2.431958365105857
         },
         {
          "index": 188,
          "time_series": 1.3975997454184945
         },
         {
          "index": 189,
          "time_series": 0.7927665016323728
         },
         {
          "index": 190,
          "time_series": 1.776680153360231
         },
         {
          "index": 191,
          "time_series": 2.8872430868096255
         },
         {
          "index": 192,
          "time_series": 3.186813792706295
         },
         {
          "index": 193,
          "time_series": 3.3822584569481693
         },
         {
          "index": 194,
          "time_series": 2.062601518284297
         },
         {
          "index": 195,
          "time_series": 2.7496620465935546
         },
         {
          "index": 196,
          "time_series": 2.3397388312690706
         },
         {
          "index": 197,
          "time_series": 2.8220611700641554
         },
         {
          "index": 198,
          "time_series": 1.5382064357746792
         },
         {
          "index": 199,
          "time_series": 1.1854533010405166
         },
         {
          "index": 200,
          "time_series": 2.5875495904112453
         }
        ]
       },
       "encoding": {
        "x": {
         "field": "index",
         "type": "quantitative"
        },
        "y": {
         "field": "time_series",
         "type": "quantitative"
        }
       },
       "height": 400,
       "mark": "line",
       "width": 800
      },
      "image/png": "[encoded data removed]",
      "text/plain": [
       "<VegaLite 2 object>\n",
       "\n",
       "If you see this message, it means the renderer has not been properly enabled\n",
       "for the frontend that you are using. For more information, see\n",
       "https://altair-viz.github.io/user_guide/troubleshooting.html\n"
      ]
     },
     "execution_count": 10,
     "metadata": {},
     "output_type": "execute_result"
    }
   ],
   "source": [
    "def corr_time(t=200, a=0.9):\n",
    "    corr_series = [0]\n",
    "    for i in range(t):\n",
    "        obs = a * corr_series[i] + np.random.randn()\n",
    "        corr_series.append(obs)\n",
    "    return corr_series\n",
    "    \n",
    "data = (\n",
    "    pd.DataFrame(corr_time())\n",
    "    .rename(columns={0: 'time_series'})\n",
    "    .reset_index()\n",
    ")\n",
    "\n",
    "chart = (\n",
    "    alt.Chart(data)\n",
    "    .mark_line()\n",
    "    .encode(y='time_series:Q', x='index:Q')\n",
    "    .properties(width=800, height=400)\n",
    ")\n",
    "chart"
   ]
  },
  {
   "cell_type": "markdown",
   "metadata": {},
   "source": [
    "# Exercise 6\n",
    "\n",
    "To do the next exercise, you will ned to know how to produce a plot legend\n",
    "\n",
    "Now, starting with your solution to exercise 5, plot 3 simulated time series, one for each of the cases $\\alpha=0$, $\\alpha=0.8$ and $\\alpha=0.98$\n",
    "\n",
    "(The figure nicely illustrates how time series with the same one-step-ahead conditional volatilities, as these three processes have, can have very different unconditional volatilities.)\n",
    "\n",
    "Use a `for` loop to step through the $\\alpha$ values"
   ]
  },
  {
   "cell_type": "code",
   "execution_count": 11,
   "metadata": {},
   "outputs": [
    {
     "data": {
      "application/vnd.vegalite.v2+json": {
       "$schema": "https://vega.github.io/schema/vega-lite/v2.6.0.json",
       "config": {
        "view": {
         "height": 300,
         "width": 400
        }
       },
       "data": {
        "name": "data-8a1127e0bec17c1a18206a4550c7883e"
       },
       "datasets": {
        "data-8a1127e0bec17c1a18206a4550c7883e": [
         {
          "index": 0,
          "value": 0,
          "variable": "α = 0.0"
         },
         {
          "index": 1,
          "value": -0.16839417009338953,
          "variable": "α = 0.0"
         },
         {
          "index": 2,
          "value": 0.12889491727755248,
          "variable": "α = 0.0"
         },
         {
          "index": 3,
          "value": -0.7965460515767937,
          "variable": "α = 0.0"
         },
         {
          "index": 4,
          "value": 0.39557107080867887,
          "variable": "α = 0.0"
         },
         {
          "index": 5,
          "value": 0.8782363551120058,
          "variable": "α = 0.0"
         },
         {
          "index": 6,
          "value": 1.390904859659688,
          "variable": "α = 0.0"
         },
         {
          "index": 7,
          "value": 0.8564787570906016,
          "variable": "α = 0.0"
         },
         {
          "index": 8,
          "value": 0.3227406971496609,
          "variable": "α = 0.0"
         },
         {
          "index": 9,
          "value": -0.8590991728741639,
          "variable": "α = 0.0"
         },
         {
          "index": 10,
          "value": 1.0190791257564091,
          "variable": "α = 0.0"
         },
         {
          "index": 11,
          "value": 0.39794724552563393,
          "variable": "α = 0.0"
         },
         {
          "index": 12,
          "value": 1.3053072033861157,
          "variable": "α = 0.0"
         },
         {
          "index": 13,
          "value": 1.4207345057611662,
          "variable": "α = 0.0"
         },
         {
          "index": 14,
          "value": 0.5679541785631895,
          "variable": "α = 0.0"
         },
         {
          "index": 15,
          "value": -0.19913802694999932,
          "variable": "α = 0.0"
         },
         {
          "index": 16,
          "value": -0.7152598758922656,
          "variable": "α = 0.0"
         },
         {
          "index": 17,
          "value": -0.3911051582972612,
          "variable": "α = 0.0"
         },
         {
          "index": 18,
          "value": 0.5230885574603166,
          "variable": "α = 0.0"
         },
         {
          "index": 19,
          "value": 0.29537829903594726,
          "variable": "α = 0.0"
         },
         {
          "index": 20,
          "value": -1.4620027857729605,
          "variable": "α = 0.0"
         },
         {
          "index": 21,
          "value": -0.008650612971947379,
          "variable": "α = 0.0"
         },
         {
          "index": 22,
          "value": -0.5984496857424145,
          "variable": "α = 0.0"
         },
         {
          "index": 23,
          "value": -1.3199551472513187,
          "variable": "α = 0.0"
         },
         {
          "index": 24,
          "value": -0.37454506066918375,
          "variable": "α = 0.0"
         },
         {
          "index": 25,
          "value": -0.43925876440955736,
          "variable": "α = 0.0"
         },
         {
          "index": 26,
          "value": -1.0665434543317824,
          "variable": "α = 0.0"
         },
         {
          "index": 27,
          "value": 0.02279442961259824,
          "variable": "α = 0.0"
         },
         {
          "index": 28,
          "value": -0.9968694770451626,
          "variable": "α = 0.0"
         },
         {
          "index": 29,
          "value": 1.436849398263739,
          "variable": "α = 0.0"
         },
         {
          "index": 30,
          "value": -0.16480877914636335,
          "variable": "α = 0.0"
         },
         {
          "index": 31,
          "value": 0.7940299067798161,
          "variable": "α = 0.0"
         },
         {
          "index": 32,
          "value": 0.7203064698337305,
          "variable": "α = 0.0"
         },
         {
          "index": 33,
          "value": 0.8098130402288848,
          "variable": "α = 0.0"
         },
         {
          "index": 34,
          "value": 0.8769384815891719,
          "variable": "α = 0.0"
         },
         {
          "index": 35,
          "value": 0.9052180622356313,
          "variable": "α = 0.0"
         },
         {
          "index": 36,
          "value": 0.4363111968315821,
          "variable": "α = 0.0"
         },
         {
          "index": 37,
          "value": -1.0424724771920197,
          "variable": "α = 0.0"
         },
         {
          "index": 38,
          "value": -0.7602626118886955,
          "variable": "α = 0.0"
         },
         {
          "index": 39,
          "value": -0.40192729382282166,
          "variable": "α = 0.0"
         },
         {
          "index": 40,
          "value": 0.45204366450804107,
          "variable": "α = 0.0"
         },
         {
          "index": 41,
          "value": -1.1796522760091013,
          "variable": "α = 0.0"
         },
         {
          "index": 42,
          "value": -0.8387770404533271,
          "variable": "α = 0.0"
         },
         {
          "index": 43,
          "value": 0.4659906093502997,
          "variable": "α = 0.0"
         },
         {
          "index": 44,
          "value": -0.1580005734881488,
          "variable": "α = 0.0"
         },
         {
          "index": 45,
          "value": 0.7424338273391841,
          "variable": "α = 0.0"
         },
         {
          "index": 46,
          "value": -1.0099884380542878,
          "variable": "α = 0.0"
         },
         {
          "index": 47,
          "value": -1.6805809729374077,
          "variable": "α = 0.0"
         },
         {
          "index": 48,
          "value": -0.4301934962709455,
          "variable": "α = 0.0"
         },
         {
          "index": 49,
          "value": -0.3495500994431164,
          "variable": "α = 0.0"
         },
         {
          "index": 50,
          "value": -0.7041244725130511,
          "variable": "α = 0.0"
         },
         {
          "index": 51,
          "value": -0.14254544253543355,
          "variable": "α = 0.0"
         },
         {
          "index": 52,
          "value": -0.2539955382686155,
          "variable": "α = 0.0"
         },
         {
          "index": 53,
          "value": -0.9074904417974381,
          "variable": "α = 0.0"
         },
         {
          "index": 54,
          "value": -1.3906068501975017,
          "variable": "α = 0.0"
         },
         {
          "index": 55,
          "value": 0.6050571860047297,
          "variable": "α = 0.0"
         },
         {
          "index": 56,
          "value": 2.0792214282189123,
          "variable": "α = 0.0"
         },
         {
          "index": 57,
          "value": -0.38399150288502676,
          "variable": "α = 0.0"
         },
         {
          "index": 58,
          "value": -0.1871208440825995,
          "variable": "α = 0.0"
         },
         {
          "index": 59,
          "value": -0.180497941940037,
          "variable": "α = 0.0"
         },
         {
          "index": 60,
          "value": -0.796265682143532,
          "variable": "α = 0.0"
         },
         {
          "index": 61,
          "value": 1.3305437952207035,
          "variable": "α = 0.0"
         },
         {
          "index": 62,
          "value": 0.6918636450478945,
          "variable": "α = 0.0"
         },
         {
          "index": 63,
          "value": -0.6021759779443,
          "variable": "α = 0.0"
         },
         {
          "index": 64,
          "value": -0.35394324315617604,
          "variable": "α = 0.0"
         },
         {
          "index": 65,
          "value": 1.9624086281085373,
          "variable": "α = 0.0"
         },
         {
          "index": 66,
          "value": -0.9714710944068318,
          "variable": "α = 0.0"
         },
         {
          "index": 67,
          "value": 0.7863470085638984,
          "variable": "α = 0.0"
         },
         {
          "index": 68,
          "value": -0.237356918713965,
          "variable": "α = 0.0"
         },
         {
          "index": 69,
          "value": -0.5838551927570174,
          "variable": "α = 0.0"
         },
         {
          "index": 70,
          "value": -0.14305259985778476,
          "variable": "α = 0.0"
         },
         {
          "index": 71,
          "value": -0.5182220474660064,
          "variable": "α = 0.0"
         },
         {
          "index": 72,
          "value": 0.9256026348563821,
          "variable": "α = 0.0"
         },
         {
          "index": 73,
          "value": -0.2373740623182258,
          "variable": "α = 0.0"
         },
         {
          "index": 74,
          "value": 0.24521595943059943,
          "variable": "α = 0.0"
         },
         {
          "index": 75,
          "value": -1.8711134788341748,
          "variable": "α = 0.0"
         },
         {
          "index": 76,
          "value": -0.11125433800105324,
          "variable": "α = 0.0"
         },
         {
          "index": 77,
          "value": 1.108655537399842,
          "variable": "α = 0.0"
         },
         {
          "index": 78,
          "value": 1.4627148852587752,
          "variable": "α = 0.0"
         },
         {
          "index": 79,
          "value": 1.503917835991699,
          "variable": "α = 0.0"
         },
         {
          "index": 80,
          "value": 0.21612475439964027,
          "variable": "α = 0.0"
         },
         {
          "index": 81,
          "value": -0.30021517427337197,
          "variable": "α = 0.0"
         },
         {
          "index": 82,
          "value": -0.208685160611411,
          "variable": "α = 0.0"
         },
         {
          "index": 83,
          "value": 1.4414954132444875,
          "variable": "α = 0.0"
         },
         {
          "index": 84,
          "value": -0.6058650873663908,
          "variable": "α = 0.0"
         },
         {
          "index": 85,
          "value": -0.9209855577015218,
          "variable": "α = 0.0"
         },
         {
          "index": 86,
          "value": -0.33795512001317823,
          "variable": "α = 0.0"
         },
         {
          "index": 87,
          "value": 0.8872675227007765,
          "variable": "α = 0.0"
         },
         {
          "index": 88,
          "value": 0.6496784253707809,
          "variable": "α = 0.0"
         },
         {
          "index": 89,
          "value": -0.0519951227875751,
          "variable": "α = 0.0"
         },
         {
          "index": 90,
          "value": -0.2516454419447587,
          "variable": "α = 0.0"
         },
         {
          "index": 91,
          "value": -0.6317990343799522,
          "variable": "α = 0.0"
         },
         {
          "index": 92,
          "value": 0.8307466060617071,
          "variable": "α = 0.0"
         },
         {
          "index": 93,
          "value": 0.3827624877112571,
          "variable": "α = 0.0"
         },
         {
          "index": 94,
          "value": -0.6856926513008796,
          "variable": "α = 0.0"
         },
         {
          "index": 95,
          "value": -0.5520117652440644,
          "variable": "α = 0.0"
         },
         {
          "index": 96,
          "value": -0.6268825805324819,
          "variable": "α = 0.0"
         },
         {
          "index": 97,
          "value": 1.6203459761375039,
          "variable": "α = 0.0"
         },
         {
          "index": 98,
          "value": 1.370733946382199,
          "variable": "α = 0.0"
         },
         {
          "index": 99,
          "value": -0.27505774436690206,
          "variable": "α = 0.0"
         },
         {
          "index": 100,
          "value": 1.804070710768767,
          "variable": "α = 0.0"
         },
         {
          "index": 101,
          "value": 0.40013253175686486,
          "variable": "α = 0.0"
         },
         {
          "index": 102,
          "value": 0.7881346735559115,
          "variable": "α = 0.0"
         },
         {
          "index": 103,
          "value": -1.2338537983922278,
          "variable": "α = 0.0"
         },
         {
          "index": 104,
          "value": 0.004989015484195151,
          "variable": "α = 0.0"
         },
         {
          "index": 105,
          "value": 0.05359107366472577,
          "variable": "α = 0.0"
         },
         {
          "index": 106,
          "value": 1.1996419565157217,
          "variable": "α = 0.0"
         },
         {
          "index": 107,
          "value": -0.8980848318435195,
          "variable": "α = 0.0"
         },
         {
          "index": 108,
          "value": -1.7112047992678634,
          "variable": "α = 0.0"
         },
         {
          "index": 109,
          "value": -0.18352639261063966,
          "variable": "α = 0.0"
         },
         {
          "index": 110,
          "value": -1.643566003165851,
          "variable": "α = 0.0"
         },
         {
          "index": 111,
          "value": 2.251004023146391,
          "variable": "α = 0.0"
         },
         {
          "index": 112,
          "value": -1.6965812147005457,
          "variable": "α = 0.0"
         },
         {
          "index": 113,
          "value": 2.4948994937572375,
          "variable": "α = 0.0"
         },
         {
          "index": 114,
          "value": 1.7928318153842218,
          "variable": "α = 0.0"
         },
         {
          "index": 115,
          "value": -1.0692768977923481,
          "variable": "α = 0.0"
         },
         {
          "index": 116,
          "value": 0.4461113303247478,
          "variable": "α = 0.0"
         },
         {
          "index": 117,
          "value": -0.10920823258279072,
          "variable": "α = 0.0"
         },
         {
          "index": 118,
          "value": 1.1109444512386655,
          "variable": "α = 0.0"
         },
         {
          "index": 119,
          "value": -1.0365152694275708,
          "variable": "α = 0.0"
         },
         {
          "index": 120,
          "value": 1.0132273997379468,
          "variable": "α = 0.0"
         },
         {
          "index": 121,
          "value": -0.7766482385683531,
          "variable": "α = 0.0"
         },
         {
          "index": 122,
          "value": 0.7038846304828417,
          "variable": "α = 0.0"
         },
         {
          "index": 123,
          "value": -0.4103771963959816,
          "variable": "α = 0.0"
         },
         {
          "index": 124,
          "value": -0.32041761449495265,
          "variable": "α = 0.0"
         },
         {
          "index": 125,
          "value": 1.0222751726627806,
          "variable": "α = 0.0"
         },
         {
          "index": 126,
          "value": -0.6415453218347084,
          "variable": "α = 0.0"
         },
         {
          "index": 127,
          "value": -2.8766963322315116,
          "variable": "α = 0.0"
         },
         {
          "index": 128,
          "value": -0.07623224991910689,
          "variable": "α = 0.0"
         },
         {
          "index": 129,
          "value": -2.567090055079494,
          "variable": "α = 0.0"
         },
         {
          "index": 130,
          "value": -0.6308887576095475,
          "variable": "α = 0.0"
         },
         {
          "index": 131,
          "value": -0.06186758747433667,
          "variable": "α = 0.0"
         },
         {
          "index": 132,
          "value": -0.979507253687423,
          "variable": "α = 0.0"
         },
         {
          "index": 133,
          "value": 0.4033206388815582,
          "variable": "α = 0.0"
         },
         {
          "index": 134,
          "value": -0.9923371830985934,
          "variable": "α = 0.0"
         },
         {
          "index": 135,
          "value": -0.5692943603525967,
          "variable": "α = 0.0"
         },
         {
          "index": 136,
          "value": 0.5864067881776078,
          "variable": "α = 0.0"
         },
         {
          "index": 137,
          "value": -0.5004622134093926,
          "variable": "α = 0.0"
         },
         {
          "index": 138,
          "value": 0.5168353819497034,
          "variable": "α = 0.0"
         },
         {
          "index": 139,
          "value": 0.5238007313097136,
          "variable": "α = 0.0"
         },
         {
          "index": 140,
          "value": -0.5524898625499153,
          "variable": "α = 0.0"
         },
         {
          "index": 141,
          "value": 1.0715416003110936,
          "variable": "α = 0.0"
         },
         {
          "index": 142,
          "value": -0.6098579683337866,
          "variable": "α = 0.0"
         },
         {
          "index": 143,
          "value": 0.32066488971380747,
          "variable": "α = 0.0"
         },
         {
          "index": 144,
          "value": -0.42387901990660654,
          "variable": "α = 0.0"
         },
         {
          "index": 145,
          "value": 0.6386069335565643,
          "variable": "α = 0.0"
         },
         {
          "index": 146,
          "value": 0.20457660176517975,
          "variable": "α = 0.0"
         },
         {
          "index": 147,
          "value": -0.2705721380049066,
          "variable": "α = 0.0"
         },
         {
          "index": 148,
          "value": 1.3609732508164092,
          "variable": "α = 0.0"
         },
         {
          "index": 149,
          "value": -0.13196412117356604,
          "variable": "α = 0.0"
         },
         {
          "index": 150,
          "value": -2.307313544172211,
          "variable": "α = 0.0"
         },
         {
          "index": 151,
          "value": -0.9732197475912716,
          "variable": "α = 0.0"
         },
         {
          "index": 152,
          "value": 2.069294143476978,
          "variable": "α = 0.0"
         },
         {
          "index": 153,
          "value": -0.8736810705235729,
          "variable": "α = 0.0"
         },
         {
          "index": 154,
          "value": 0.9090973281661662,
          "variable": "α = 0.0"
         },
         {
          "index": 155,
          "value": 1.0072525300269233,
          "variable": "α = 0.0"
         },
         {
          "index": 156,
          "value": 0.5251950171101236,
          "variable": "α = 0.0"
         },
         {
          "index": 157,
          "value": 2.8956687555325025,
          "variable": "α = 0.0"
         },
         {
          "index": 158,
          "value": -0.6343645381436874,
          "variable": "α = 0.0"
         },
         {
          "index": 159,
          "value": 1.4923258317519899,
          "variable": "α = 0.0"
         },
         {
          "index": 160,
          "value": -0.2573100264708782,
          "variable": "α = 0.0"
         },
         {
          "index": 161,
          "value": 0.8364698454608129,
          "variable": "α = 0.0"
         },
         {
          "index": 162,
          "value": 0.9280198245136652,
          "variable": "α = 0.0"
         },
         {
          "index": 163,
          "value": -2.640508196647137,
          "variable": "α = 0.0"
         },
         {
          "index": 164,
          "value": -0.6784136204460982,
          "variable": "α = 0.0"
         },
         {
          "index": 165,
          "value": -0.4136115833089173,
          "variable": "α = 0.0"
         },
         {
          "index": 166,
          "value": 2.816326434067914,
          "variable": "α = 0.0"
         },
         {
          "index": 167,
          "value": -0.20646746693402368,
          "variable": "α = 0.0"
         },
         {
          "index": 168,
          "value": -1.2999153865820863,
          "variable": "α = 0.0"
         },
         {
          "index": 169,
          "value": 0.2960492563263761,
          "variable": "α = 0.0"
         },
         {
          "index": 170,
          "value": -0.27188652309913885,
          "variable": "α = 0.0"
         },
         {
          "index": 171,
          "value": 0.274278744578667,
          "variable": "α = 0.0"
         },
         {
          "index": 172,
          "value": -0.034956258823038745,
          "variable": "α = 0.0"
         },
         {
          "index": 173,
          "value": 0.16109887583444032,
          "variable": "α = 0.0"
         },
         {
          "index": 174,
          "value": -0.3662316564103643,
          "variable": "α = 0.0"
         },
         {
          "index": 175,
          "value": 2.0734462051408893,
          "variable": "α = 0.0"
         },
         {
          "index": 176,
          "value": -0.3297374469373019,
          "variable": "α = 0.0"
         },
         {
          "index": 177,
          "value": -0.150797257166875,
          "variable": "α = 0.0"
         },
         {
          "index": 178,
          "value": -1.8399566345840837,
          "variable": "α = 0.0"
         },
         {
          "index": 179,
          "value": 0.7379731465778031,
          "variable": "α = 0.0"
         },
         {
          "index": 180,
          "value": -1.2360937290860436,
          "variable": "α = 0.0"
         },
         {
          "index": 181,
          "value": -1.2349464382568232,
          "variable": "α = 0.0"
         },
         {
          "index": 182,
          "value": 0.5284742490714875,
          "variable": "α = 0.0"
         },
         {
          "index": 183,
          "value": -0.6332162056525171,
          "variable": "α = 0.0"
         },
         {
          "index": 184,
          "value": -0.20494692496783967,
          "variable": "α = 0.0"
         },
         {
          "index": 185,
          "value": 0.7234569185217842,
          "variable": "α = 0.0"
         },
         {
          "index": 186,
          "value": 0.3024608616709333,
          "variable": "α = 0.0"
         },
         {
          "index": 187,
          "value": 1.3089539695824173,
          "variable": "α = 0.0"
         },
         {
          "index": 188,
          "value": 0.49011635525466146,
          "variable": "α = 0.0"
         },
         {
          "index": 189,
          "value": -0.4689731171883578,
          "variable": "α = 0.0"
         },
         {
          "index": 190,
          "value": -0.15085447407668257,
          "variable": "α = 0.0"
         },
         {
          "index": 191,
          "value": -0.15414284604270204,
          "variable": "α = 0.0"
         },
         {
          "index": 192,
          "value": 0.2129078110829721,
          "variable": "α = 0.0"
         },
         {
          "index": 193,
          "value": 1.1781799603320338,
          "variable": "α = 0.0"
         },
         {
          "index": 194,
          "value": -0.8771094315604794,
          "variable": "α = 0.0"
         },
         {
          "index": 195,
          "value": -0.9171744554062954,
          "variable": "α = 0.0"
         },
         {
          "index": 196,
          "value": -0.5370189794368693,
          "variable": "α = 0.0"
         },
         {
          "index": 197,
          "value": -0.257076832619736,
          "variable": "α = 0.0"
         },
         {
          "index": 198,
          "value": 1.9790588093565336,
          "variable": "α = 0.0"
         },
         {
          "index": 199,
          "value": -0.42143906033212336,
          "variable": "α = 0.0"
         },
         {
          "index": 200,
          "value": 0.11401817587957463,
          "variable": "α = 0.0"
         },
         {
          "index": 0,
          "value": 0,
          "variable": "α = 0.8"
         },
         {
          "index": 1,
          "value": -0.6057532696571912,
          "variable": "α = 0.8"
         },
         {
          "index": 2,
          "value": -0.631372074733814,
          "variable": "α = 0.8"
         },
         {
          "index": 3,
          "value": 0.4353084191239929,
          "variable": "α = 0.8"
         },
         {
          "index": 4,
          "value": 0.7007205992435013,
          "variable": "α = 0.8"
         },
         {
          "index": 5,
          "value": -0.13766861071642011,
          "variable": "α = 0.8"
         },
         {
          "index": 6,
          "value": 0.15676513366069322,
          "variable": "α = 0.8"
         },
         {
          "index": 7,
          "value": 0.13058035963783943,
          "variable": "α = 0.8"
         },
         {
          "index": 8,
          "value": -1.7244587170955752,
          "variable": "α = 0.8"
         },
         {
          "index": 9,
          "value": -1.2752790901722184,
          "variable": "α = 0.8"
         },
         {
          "index": 10,
          "value": -2.284081317546817,
          "variable": "α = 0.8"
         },
         {
          "index": 11,
          "value": -3.1007089182727743,
          "variable": "α = 0.8"
         },
         {
          "index": 12,
          "value": -1.325928330608483,
          "variable": "α = 0.8"
         },
         {
          "index": 13,
          "value": 0.06518187818338661,
          "variable": "α = 0.8"
         },
         {
          "index": 14,
          "value": -0.06212263964132244,
          "variable": "α = 0.8"
         },
         {
          "index": 15,
          "value": 0.4115696647474413,
          "variable": "α = 0.8"
         },
         {
          "index": 16,
          "value": -1.2339233640458942,
          "variable": "α = 0.8"
         },
         {
          "index": 17,
          "value": -0.7039473033069543,
          "variable": "α = 0.8"
         },
         {
          "index": 18,
          "value": -1.2508431355301646,
          "variable": "α = 0.8"
         },
         {
          "index": 19,
          "value": -1.8550919893720499,
          "variable": "α = 0.8"
         },
         {
          "index": 20,
          "value": -1.4098110779596624,
          "variable": "α = 0.8"
         },
         {
          "index": 21,
          "value": -0.050173997191665265,
          "variable": "α = 0.8"
         },
         {
          "index": 22,
          "value": 0.32344906307005017,
          "variable": "α = 0.8"
         },
         {
          "index": 23,
          "value": 0.02872312246668937,
          "variable": "α = 0.8"
         },
         {
          "index": 24,
          "value": -0.02546015616506149,
          "variable": "α = 0.8"
         },
         {
          "index": 25,
          "value": -0.32974010477599935,
          "variable": "α = 0.8"
         },
         {
          "index": 26,
          "value": 0.5568489052888776,
          "variable": "α = 0.8"
         },
         {
          "index": 27,
          "value": -0.03452274324038623,
          "variable": "α = 0.8"
         },
         {
          "index": 28,
          "value": -0.13770084931732318,
          "variable": "α = 0.8"
         },
         {
          "index": 29,
          "value": -1.6803172338604215,
          "variable": "α = 0.8"
         },
         {
          "index": 30,
          "value": -1.2439276318822652,
          "variable": "α = 0.8"
         },
         {
          "index": 31,
          "value": -0.7402485518677433,
          "variable": "α = 0.8"
         },
         {
          "index": 32,
          "value": 0.2197242087516108,
          "variable": "α = 0.8"
         },
         {
          "index": 33,
          "value": 1.09693259504035,
          "variable": "α = 0.8"
         },
         {
          "index": 34,
          "value": 2.543156076798983,
          "variable": "α = 0.8"
         },
         {
          "index": 35,
          "value": 3.7980763135656845,
          "variable": "α = 0.8"
         },
         {
          "index": 36,
          "value": 3.208899210311964,
          "variable": "α = 0.8"
         },
         {
          "index": 37,
          "value": 1.6743590506024815,
          "variable": "α = 0.8"
         },
         {
          "index": 38,
          "value": 0.9156269377166086,
          "variable": "α = 0.8"
         },
         {
          "index": 39,
          "value": -0.08480504568201441,
          "variable": "α = 0.8"
         },
         {
          "index": 40,
          "value": -1.1440576860917777,
          "variable": "α = 0.8"
         },
         {
          "index": 41,
          "value": -0.8135301434952934,
          "variable": "α = 0.8"
         },
         {
          "index": 42,
          "value": -0.5567387055779445,
          "variable": "α = 0.8"
         },
         {
          "index": 43,
          "value": 0.33617928586435797,
          "variable": "α = 0.8"
         },
         {
          "index": 44,
          "value": -0.5486848404808542,
          "variable": "α = 0.8"
         },
         {
          "index": 45,
          "value": -0.9229854215581146,
          "variable": "α = 0.8"
         },
         {
          "index": 46,
          "value": -1.0513616239564516,
          "variable": "α = 0.8"
         },
         {
          "index": 47,
          "value": -1.4024602090823737,
          "variable": "α = 0.8"
         },
         {
          "index": 48,
          "value": -1.378103040355596,
          "variable": "α = 0.8"
         },
         {
          "index": 49,
          "value": -0.6658115828480793,
          "variable": "α = 0.8"
         },
         {
          "index": 50,
          "value": -0.46155609475036585,
          "variable": "α = 0.8"
         },
         {
          "index": 51,
          "value": -2.3604660891906395,
          "variable": "α = 0.8"
         },
         {
          "index": 52,
          "value": -1.842597106103302,
          "variable": "α = 0.8"
         },
         {
          "index": 53,
          "value": -1.6141911543839114,
          "variable": "α = 0.8"
         },
         {
          "index": 54,
          "value": -0.542846779407994,
          "variable": "α = 0.8"
         },
         {
          "index": 55,
          "value": -0.9088548769308697,
          "variable": "α = 0.8"
         },
         {
          "index": 56,
          "value": -1.8615351634061814,
          "variable": "α = 0.8"
         },
         {
          "index": 57,
          "value": -0.5203611289392878,
          "variable": "α = 0.8"
         },
         {
          "index": 58,
          "value": -1.9017873524478561,
          "variable": "α = 0.8"
         },
         {
          "index": 59,
          "value": -1.6534363673974957,
          "variable": "α = 0.8"
         },
         {
          "index": 60,
          "value": 0.08049415779740365,
          "variable": "α = 0.8"
         },
         {
          "index": 61,
          "value": 1.888491235289136,
          "variable": "α = 0.8"
         },
         {
          "index": 62,
          "value": 1.4016927310721465,
          "variable": "α = 0.8"
         },
         {
          "index": 63,
          "value": 0.37153841107504926,
          "variable": "α = 0.8"
         },
         {
          "index": 64,
          "value": 0.5965132723467312,
          "variable": "α = 0.8"
         },
         {
          "index": 65,
          "value": -2.0935774826937172,
          "variable": "α = 0.8"
         },
         {
          "index": 66,
          "value": -0.7067953100646228,
          "variable": "α = 0.8"
         },
         {
          "index": 67,
          "value": -1.8181365027617638,
          "variable": "α = 0.8"
         },
         {
          "index": 68,
          "value": -1.55652965031389,
          "variable": "α = 0.8"
         },
         {
          "index": 69,
          "value": 0.10300353891443637,
          "variable": "α = 0.8"
         },
         {
          "index": 70,
          "value": 1.7730839526392561,
          "variable": "α = 0.8"
         },
         {
          "index": 71,
          "value": 1.1471069481079994,
          "variable": "α = 0.8"
         },
         {
          "index": 72,
          "value": 2.102731502592912,
          "variable": "α = 0.8"
         },
         {
          "index": 73,
          "value": 2.4011696250779884,
          "variable": "α = 0.8"
         },
         {
          "index": 74,
          "value": 2.1867359597806337,
          "variable": "α = 0.8"
         },
         {
          "index": 75,
          "value": 0.9536958655689795,
          "variable": "α = 0.8"
         },
         {
          "index": 76,
          "value": 0.2953580105588379,
          "variable": "α = 0.8"
         },
         {
          "index": 77,
          "value": -0.1682112685354997,
          "variable": "α = 0.8"
         },
         {
          "index": 78,
          "value": 1.6882484091163312,
          "variable": "α = 0.8"
         },
         {
          "index": 79,
          "value": 1.8378642679200392,
          "variable": "α = 0.8"
         },
         {
          "index": 80,
          "value": 1.2130132348905396,
          "variable": "α = 0.8"
         },
         {
          "index": 81,
          "value": -1.1133660248399075,
          "variable": "α = 0.8"
         },
         {
          "index": 82,
          "value": -1.6691803748833114,
          "variable": "α = 0.8"
         },
         {
          "index": 83,
          "value": -0.6070052814787152,
          "variable": "α = 0.8"
         },
         {
          "index": 84,
          "value": -0.30463862295480004,
          "variable": "α = 0.8"
         },
         {
          "index": 85,
          "value": -2.3498451023791,
          "variable": "α = 0.8"
         },
         {
          "index": 86,
          "value": -2.0397242182862505,
          "variable": "α = 0.8"
         },
         {
          "index": 87,
          "value": -0.6821811412928257,
          "variable": "α = 0.8"
         },
         {
          "index": 88,
          "value": -1.267024082304788,
          "variable": "α = 0.8"
         },
         {
          "index": 89,
          "value": -2.0131939734297193,
          "variable": "α = 0.8"
         },
         {
          "index": 90,
          "value": -2.6261503627182994,
          "variable": "α = 0.8"
         },
         {
          "index": 91,
          "value": -2.9346971668698663,
          "variable": "α = 0.8"
         },
         {
          "index": 92,
          "value": -3.307169458065668,
          "variable": "α = 0.8"
         },
         {
          "index": 93,
          "value": -3.3983261672003566,
          "variable": "α = 0.8"
         },
         {
          "index": 94,
          "value": -3.351856863260422,
          "variable": "α = 0.8"
         },
         {
          "index": 95,
          "value": -3.1316958885542037,
          "variable": "α = 0.8"
         },
         {
          "index": 96,
          "value": -0.9611625471169194,
          "variable": "α = 0.8"
         },
         {
          "index": 97,
          "value": -1.080346488662776,
          "variable": "α = 0.8"
         },
         {
          "index": 98,
          "value": -1.5722313468076474,
          "variable": "α = 0.8"
         },
         {
          "index": 99,
          "value": -1.4243554115083752,
          "variable": "α = 0.8"
         },
         {
          "index": 100,
          "value": -1.73635134126223,
          "variable": "α = 0.8"
         },
         {
          "index": 101,
          "value": -1.527147169499059,
          "variable": "α = 0.8"
         },
         {
          "index": 102,
          "value": -1.7462091705020546,
          "variable": "α = 0.8"
         },
         {
          "index": 103,
          "value": -3.8282695561873714,
          "variable": "α = 0.8"
         },
         {
          "index": 104,
          "value": -1.720192909856773,
          "variable": "α = 0.8"
         },
         {
          "index": 105,
          "value": -1.201377382926962,
          "variable": "α = 0.8"
         },
         {
          "index": 106,
          "value": -1.9371567219255061,
          "variable": "α = 0.8"
         },
         {
          "index": 107,
          "value": -1.3037428485835287,
          "variable": "α = 0.8"
         },
         {
          "index": 108,
          "value": 0.4140658635809551,
          "variable": "α = 0.8"
         },
         {
          "index": 109,
          "value": 0.5660796131197354,
          "variable": "α = 0.8"
         },
         {
          "index": 110,
          "value": 1.4172849107772647,
          "variable": "α = 0.8"
         },
         {
          "index": 111,
          "value": 0.7779653030814689,
          "variable": "α = 0.8"
         },
         {
          "index": 112,
          "value": -0.3921731399757704,
          "variable": "α = 0.8"
         },
         {
          "index": 113,
          "value": -0.19368871606613922,
          "variable": "α = 0.8"
         },
         {
          "index": 114,
          "value": -3.1858041629433314,
          "variable": "α = 0.8"
         },
         {
          "index": 115,
          "value": -2.3539712935487986,
          "variable": "α = 0.8"
         },
         {
          "index": 116,
          "value": -2.155363361887614,
          "variable": "α = 0.8"
         },
         {
          "index": 117,
          "value": -1.1033979380446537,
          "variable": "α = 0.8"
         },
         {
          "index": 118,
          "value": -1.4709563370088317,
          "variable": "α = 0.8"
         },
         {
          "index": 119,
          "value": -0.6005026976989973,
          "variable": "α = 0.8"
         },
         {
          "index": 120,
          "value": 0.4831241318193837,
          "variable": "α = 0.8"
         },
         {
          "index": 121,
          "value": 0.8540404696864492,
          "variable": "α = 0.8"
         },
         {
          "index": 122,
          "value": 1.4196395363008043,
          "variable": "α = 0.8"
         },
         {
          "index": 123,
          "value": 1.4861523843616231,
          "variable": "α = 0.8"
         },
         {
          "index": 124,
          "value": 0.1188896787265803,
          "variable": "α = 0.8"
         },
         {
          "index": 125,
          "value": 0.3018409021406272,
          "variable": "α = 0.8"
         },
         {
          "index": 126,
          "value": 0.9215813289070227,
          "variable": "α = 0.8"
         },
         {
          "index": 127,
          "value": 1.7630647966841435,
          "variable": "α = 0.8"
         },
         {
          "index": 128,
          "value": 2.305327324339001,
          "variable": "α = 0.8"
         },
         {
          "index": 129,
          "value": 2.3159138552138994,
          "variable": "α = 0.8"
         },
         {
          "index": 130,
          "value": 2.0514785925168884,
          "variable": "α = 0.8"
         },
         {
          "index": 131,
          "value": 1.1395590680856642,
          "variable": "α = 0.8"
         },
         {
          "index": 132,
          "value": 0.6800472718346446,
          "variable": "α = 0.8"
         },
         {
          "index": 133,
          "value": 1.2687204130788365,
          "variable": "α = 0.8"
         },
         {
          "index": 134,
          "value": 1.703953968490771,
          "variable": "α = 0.8"
         },
         {
          "index": 135,
          "value": 1.2270342951023792,
          "variable": "α = 0.8"
         },
         {
          "index": 136,
          "value": 0.9246368144201486,
          "variable": "α = 0.8"
         },
         {
          "index": 137,
          "value": 2.6778027100814374,
          "variable": "α = 0.8"
         },
         {
          "index": 138,
          "value": 1.8636833006550904,
          "variable": "α = 0.8"
         },
         {
          "index": 139,
          "value": 0.49324396159367856,
          "variable": "α = 0.8"
         },
         {
          "index": 140,
          "value": 0.3479912910499865,
          "variable": "α = 0.8"
         },
         {
          "index": 141,
          "value": 1.4748444545300796,
          "variable": "α = 0.8"
         },
         {
          "index": 142,
          "value": 0.7298875044996975,
          "variable": "α = 0.8"
         },
         {
          "index": 143,
          "value": 0.9260279151290223,
          "variable": "α = 0.8"
         },
         {
          "index": 144,
          "value": 0.43994034219629763,
          "variable": "α = 0.8"
         },
         {
          "index": 145,
          "value": 0.2975755986770284,
          "variable": "α = 0.8"
         },
         {
          "index": 146,
          "value": 0.054884379893197444,
          "variable": "α = 0.8"
         },
         {
          "index": 147,
          "value": 0.718387147170258,
          "variable": "α = 0.8"
         },
         {
          "index": 148,
          "value": -0.3282962238295929,
          "variable": "α = 0.8"
         },
         {
          "index": 149,
          "value": -0.4471036437930291,
          "variable": "α = 0.8"
         },
         {
          "index": 150,
          "value": 1.6178952607083863,
          "variable": "α = 0.8"
         },
         {
          "index": 151,
          "value": 0.6374110810631539,
          "variable": "α = 0.8"
         },
         {
          "index": 152,
          "value": 0.4722993423278537,
          "variable": "α = 0.8"
         },
         {
          "index": 153,
          "value": -0.6430020115862156,
          "variable": "α = 0.8"
         },
         {
          "index": 154,
          "value": -0.7924694331874806,
          "variable": "α = 0.8"
         },
         {
          "index": 155,
          "value": -0.9153170660796869,
          "variable": "α = 0.8"
         },
         {
          "index": 156,
          "value": -1.1234398417728082,
          "variable": "α = 0.8"
         },
         {
          "index": 157,
          "value": 0.15176561642505615,
          "variable": "α = 0.8"
         },
         {
          "index": 158,
          "value": 2.05214803237825,
          "variable": "α = 0.8"
         },
         {
          "index": 159,
          "value": 1.3333762807140135,
          "variable": "α = 0.8"
         },
         {
          "index": 160,
          "value": 3.3594463557976493,
          "variable": "α = 0.8"
         },
         {
          "index": 161,
          "value": 1.5714651943480964,
          "variable": "α = 0.8"
         },
         {
          "index": 162,
          "value": 1.455221822610291,
          "variable": "α = 0.8"
         },
         {
          "index": 163,
          "value": -0.7616008811594677,
          "variable": "α = 0.8"
         },
         {
          "index": 164,
          "value": -1.0504829686062203,
          "variable": "α = 0.8"
         },
         {
          "index": 165,
          "value": -2.9084175947700306,
          "variable": "α = 0.8"
         },
         {
          "index": 166,
          "value": -3.8681048703968255,
          "variable": "α = 0.8"
         },
         {
          "index": 167,
          "value": -2.4992443576865178,
          "variable": "α = 0.8"
         },
         {
          "index": 168,
          "value": -2.0851380664776653,
          "variable": "α = 0.8"
         },
         {
          "index": 169,
          "value": -0.7884337322745588,
          "variable": "α = 0.8"
         },
         {
          "index": 170,
          "value": -2.9287584971222373,
          "variable": "α = 0.8"
         },
         {
          "index": 171,
          "value": -3.1690373981537814,
          "variable": "α = 0.8"
         },
         {
          "index": 172,
          "value": -1.3390090269272892,
          "variable": "α = 0.8"
         },
         {
          "index": 173,
          "value": -2.580158148266838,
          "variable": "α = 0.8"
         },
         {
          "index": 174,
          "value": -2.0021281350007856,
          "variable": "α = 0.8"
         },
         {
          "index": 175,
          "value": -2.078288711757476,
          "variable": "α = 0.8"
         },
         {
          "index": 176,
          "value": -1.862073309137734,
          "variable": "α = 0.8"
         },
         {
          "index": 177,
          "value": -1.2915752092077553,
          "variable": "α = 0.8"
         },
         {
          "index": 178,
          "value": 0.8374951883922266,
          "variable": "α = 0.8"
         },
         {
          "index": 179,
          "value": 1.3357457310872456,
          "variable": "α = 0.8"
         },
         {
          "index": 180,
          "value": 2.4995750478341687,
          "variable": "α = 0.8"
         },
         {
          "index": 181,
          "value": 0.932894639938167,
          "variable": "α = 0.8"
         },
         {
          "index": 182,
          "value": -0.08261387467342651,
          "variable": "α = 0.8"
         },
         {
          "index": 183,
          "value": -0.619624592234892,
          "variable": "α = 0.8"
         },
         {
          "index": 184,
          "value": -0.7575857875170373,
          "variable": "α = 0.8"
         },
         {
          "index": 185,
          "value": 1.6009107141394558,
          "variable": "α = 0.8"
         },
         {
          "index": 186,
          "value": 1.3350854466120594,
          "variable": "α = 0.8"
         },
         {
          "index": 187,
          "value": 2.2290859330945683,
          "variable": "α = 0.8"
         },
         {
          "index": 188,
          "value": 1.2346219903513278,
          "variable": "α = 0.8"
         },
         {
          "index": 189,
          "value": 0.9843433560910338,
          "variable": "α = 0.8"
         },
         {
          "index": 190,
          "value": 2.0213010886245613,
          "variable": "α = 0.8"
         },
         {
          "index": 191,
          "value": 1.8497654720401089,
          "variable": "α = 0.8"
         },
         {
          "index": 192,
          "value": 2.8010834335454033,
          "variable": "α = 0.8"
         },
         {
          "index": 193,
          "value": 3.8444453810331174,
          "variable": "α = 0.8"
         },
         {
          "index": 194,
          "value": 2.1805736260212956,
          "variable": "α = 0.8"
         },
         {
          "index": 195,
          "value": 0.9516053894911052,
          "variable": "α = 0.8"
         },
         {
          "index": 196,
          "value": 0.8897239764817744,
          "variable": "α = 0.8"
         },
         {
          "index": 197,
          "value": 2.509391474200597,
          "variable": "α = 0.8"
         },
         {
          "index": 198,
          "value": 0.28534951829509136,
          "variable": "α = 0.8"
         },
         {
          "index": 199,
          "value": -0.5658781637828607,
          "variable": "α = 0.8"
         },
         {
          "index": 200,
          "value": -0.29466714661246796,
          "variable": "α = 0.8"
         },
         {
          "index": 0,
          "value": 0,
          "variable": "α = 0.98"
         },
         {
          "index": 1,
          "value": -2.0067304869746656,
          "variable": "α = 0.98"
         },
         {
          "index": 2,
          "value": -0.892754958601581,
          "variable": "α = 0.98"
         },
         {
          "index": 3,
          "value": -0.213822642812462,
          "variable": "α = 0.98"
         },
         {
          "index": 4,
          "value": -0.22981841045498516,
          "variable": "α = 0.98"
         },
         {
          "index": 5,
          "value": -0.9142962924730381,
          "variable": "α = 0.98"
         },
         {
          "index": 6,
          "value": 1.0415241289368886,
          "variable": "α = 0.98"
         },
         {
          "index": 7,
          "value": 0.31346343188693604,
          "variable": "α = 0.98"
         },
         {
          "index": 8,
          "value": -1.4009812211675807,
          "variable": "α = 0.98"
         },
         {
          "index": 9,
          "value": -1.894893145181968,
          "variable": "α = 0.98"
         },
         {
          "index": 10,
          "value": -2.670984116862017,
          "variable": "α = 0.98"
         },
         {
          "index": 11,
          "value": -4.3198375946120695,
          "variable": "α = 0.98"
         },
         {
          "index": 12,
          "value": -5.1377766759148775,
          "variable": "α = 0.98"
         },
         {
          "index": 13,
          "value": -5.1686469256995435,
          "variable": "α = 0.98"
         },
         {
          "index": 14,
          "value": -5.656038358351245,
          "variable": "α = 0.98"
         },
         {
          "index": 15,
          "value": -5.838858306214148,
          "variable": "α = 0.98"
         },
         {
          "index": 16,
          "value": -4.315773306608746,
          "variable": "α = 0.98"
         },
         {
          "index": 17,
          "value": -3.3809728511415424,
          "variable": "α = 0.98"
         },
         {
          "index": 18,
          "value": -3.8096619512432595,
          "variable": "α = 0.98"
         },
         {
          "index": 19,
          "value": -4.756084570240018,
          "variable": "α = 0.98"
         },
         {
          "index": 20,
          "value": -6.7098398181848244,
          "variable": "α = 0.98"
         },
         {
          "index": 21,
          "value": -5.709320061787306,
          "variable": "α = 0.98"
         },
         {
          "index": 22,
          "value": -7.447793968283456,
          "variable": "α = 0.98"
         },
         {
          "index": 23,
          "value": -7.093516404648446,
          "variable": "α = 0.98"
         },
         {
          "index": 24,
          "value": -7.932372628029641,
          "variable": "α = 0.98"
         },
         {
          "index": 25,
          "value": -6.580861012364924,
          "variable": "α = 0.98"
         },
         {
          "index": 26,
          "value": -7.409013583189212,
          "variable": "α = 0.98"
         },
         {
          "index": 27,
          "value": -6.369183824681198,
          "variable": "α = 0.98"
         },
         {
          "index": 28,
          "value": -7.6942327527369265,
          "variable": "α = 0.98"
         },
         {
          "index": 29,
          "value": -7.4743642816431874,
          "variable": "α = 0.98"
         },
         {
          "index": 30,
          "value": -6.91758229481191,
          "variable": "α = 0.98"
         },
         {
          "index": 31,
          "value": -6.567082554219065,
          "variable": "α = 0.98"
         },
         {
          "index": 32,
          "value": -6.195983747529542,
          "variable": "α = 0.98"
         },
         {
          "index": 33,
          "value": -7.3246637085202195,
          "variable": "α = 0.98"
         },
         {
          "index": 34,
          "value": -6.921967193765033,
          "variable": "α = 0.98"
         },
         {
          "index": 35,
          "value": -8.422226825272125,
          "variable": "α = 0.98"
         },
         {
          "index": 36,
          "value": -6.909408673620679,
          "variable": "α = 0.98"
         },
         {
          "index": 37,
          "value": -6.238608963487505,
          "variable": "α = 0.98"
         },
         {
          "index": 38,
          "value": -7.439048672256389,
          "variable": "α = 0.98"
         },
         {
          "index": 39,
          "value": -6.380243595735619,
          "variable": "α = 0.98"
         },
         {
          "index": 40,
          "value": -6.674914128319364,
          "variable": "α = 0.98"
         },
         {
          "index": 41,
          "value": -5.570209389138155,
          "variable": "α = 0.98"
         },
         {
          "index": 42,
          "value": -4.00993226128146,
          "variable": "α = 0.98"
         },
         {
          "index": 43,
          "value": -3.5348808860050354,
          "variable": "α = 0.98"
         },
         {
          "index": 44,
          "value": -3.197083466203721,
          "variable": "α = 0.98"
         },
         {
          "index": 45,
          "value": -1.7781159430542381,
          "variable": "α = 0.98"
         },
         {
          "index": 46,
          "value": -1.2912824968148506,
          "variable": "α = 0.98"
         },
         {
          "index": 47,
          "value": -1.8722503807431214,
          "variable": "α = 0.98"
         },
         {
          "index": 48,
          "value": -2.6945859789060025,
          "variable": "α = 0.98"
         },
         {
          "index": 49,
          "value": -2.0319469890992297,
          "variable": "α = 0.98"
         },
         {
          "index": 50,
          "value": -1.5073909441713496,
          "variable": "α = 0.98"
         },
         {
          "index": 51,
          "value": -2.89606823067228,
          "variable": "α = 0.98"
         },
         {
          "index": 52,
          "value": -2.365733741767553,
          "variable": "α = 0.98"
         },
         {
          "index": 53,
          "value": -3.829734551108684,
          "variable": "α = 0.98"
         },
         {
          "index": 54,
          "value": -3.7931985589249155,
          "variable": "α = 0.98"
         },
         {
          "index": 55,
          "value": -3.4446763889319354,
          "variable": "α = 0.98"
         },
         {
          "index": 56,
          "value": -4.5810751827294585,
          "variable": "α = 0.98"
         },
         {
          "index": 57,
          "value": -5.694357079066439,
          "variable": "α = 0.98"
         },
         {
          "index": 58,
          "value": -6.018567286323592,
          "variable": "α = 0.98"
         },
         {
          "index": 59,
          "value": -7.166037115055304,
          "variable": "α = 0.98"
         },
         {
          "index": 60,
          "value": -6.432927990186992,
          "variable": "α = 0.98"
         },
         {
          "index": 61,
          "value": -8.013274732573851,
          "variable": "α = 0.98"
         },
         {
          "index": 62,
          "value": -8.611684122424592,
          "variable": "α = 0.98"
         },
         {
          "index": 63,
          "value": -9.36756599033767,
          "variable": "α = 0.98"
         },
         {
          "index": 64,
          "value": -9.666077854255722,
          "variable": "α = 0.98"
         },
         {
          "index": 65,
          "value": -9.858000330582842,
          "variable": "α = 0.98"
         },
         {
          "index": 66,
          "value": -11.26327788541576,
          "variable": "α = 0.98"
         },
         {
          "index": 67,
          "value": -13.111722129974929,
          "variable": "α = 0.98"
         },
         {
          "index": 68,
          "value": -13.055635218107929,
          "variable": "α = 0.98"
         },
         {
          "index": 69,
          "value": -12.259594908305049,
          "variable": "α = 0.98"
         },
         {
          "index": 70,
          "value": -11.268608006553583,
          "variable": "α = 0.98"
         },
         {
          "index": 71,
          "value": -10.000077878854611,
          "variable": "α = 0.98"
         },
         {
          "index": 72,
          "value": -9.22907158320909,
          "variable": "α = 0.98"
         },
         {
          "index": 73,
          "value": -7.947669914544207,
          "variable": "α = 0.98"
         },
         {
          "index": 74,
          "value": -8.021525646403182,
          "variable": "α = 0.98"
         },
         {
          "index": 75,
          "value": -7.628515044711487,
          "variable": "α = 0.98"
         },
         {
          "index": 76,
          "value": -6.1967851117517725,
          "variable": "α = 0.98"
         },
         {
          "index": 77,
          "value": -4.921822523092615,
          "variable": "α = 0.98"
         },
         {
          "index": 78,
          "value": -4.695351149948898,
          "variable": "α = 0.98"
         },
         {
          "index": 79,
          "value": -5.524719672284861,
          "variable": "α = 0.98"
         },
         {
          "index": 80,
          "value": -6.596338579480342,
          "variable": "α = 0.98"
         },
         {
          "index": 81,
          "value": -6.57597601632773,
          "variable": "α = 0.98"
         },
         {
          "index": 82,
          "value": -5.795490911156575,
          "variable": "α = 0.98"
         },
         {
          "index": 83,
          "value": -5.9412236065387605,
          "variable": "α = 0.98"
         },
         {
          "index": 84,
          "value": -6.580291297209676,
          "variable": "α = 0.98"
         },
         {
          "index": 85,
          "value": -5.99126781483077,
          "variable": "α = 0.98"
         },
         {
          "index": 86,
          "value": -4.044318123108996,
          "variable": "α = 0.98"
         },
         {
          "index": 87,
          "value": -2.8189976432072257,
          "variable": "α = 0.98"
         },
         {
          "index": 88,
          "value": -2.963185646646237,
          "variable": "α = 0.98"
         },
         {
          "index": 89,
          "value": -2.9596410218177707,
          "variable": "α = 0.98"
         },
         {
          "index": 90,
          "value": -2.975896079049438,
          "variable": "α = 0.98"
         },
         {
          "index": 91,
          "value": -4.41517470987232,
          "variable": "α = 0.98"
         },
         {
          "index": 92,
          "value": -4.158696995874154,
          "variable": "α = 0.98"
         },
         {
          "index": 93,
          "value": -4.245712872615523,
          "variable": "α = 0.98"
         },
         {
          "index": 94,
          "value": -3.34344800591864,
          "variable": "α = 0.98"
         },
         {
          "index": 95,
          "value": -2.029288261221267,
          "variable": "α = 0.98"
         },
         {
          "index": 96,
          "value": -5.206394701948372,
          "variable": "α = 0.98"
         },
         {
          "index": 97,
          "value": -4.6823879773297055,
          "variable": "α = 0.98"
         },
         {
          "index": 98,
          "value": -5.1429273587398425,
          "variable": "α = 0.98"
         },
         {
          "index": 99,
          "value": -5.268095618662389,
          "variable": "α = 0.98"
         },
         {
          "index": 100,
          "value": -5.825959306048655,
          "variable": "α = 0.98"
         },
         {
          "index": 101,
          "value": -6.440578414117562,
          "variable": "α = 0.98"
         },
         {
          "index": 102,
          "value": -6.63962200133118,
          "variable": "α = 0.98"
         },
         {
          "index": 103,
          "value": -7.3756584162045025,
          "variable": "α = 0.98"
         },
         {
          "index": 104,
          "value": -5.518918076135872,
          "variable": "α = 0.98"
         },
         {
          "index": 105,
          "value": -6.637903214855748,
          "variable": "α = 0.98"
         },
         {
          "index": 106,
          "value": -4.635471171991513,
          "variable": "α = 0.98"
         },
         {
          "index": 107,
          "value": -4.286696519055836,
          "variable": "α = 0.98"
         },
         {
          "index": 108,
          "value": -4.689290490003185,
          "variable": "α = 0.98"
         },
         {
          "index": 109,
          "value": -4.644007375726664,
          "variable": "α = 0.98"
         },
         {
          "index": 110,
          "value": -4.825216460287709,
          "variable": "α = 0.98"
         },
         {
          "index": 111,
          "value": -4.853325888267155,
          "variable": "α = 0.98"
         },
         {
          "index": 112,
          "value": -5.205744311837731,
          "variable": "α = 0.98"
         },
         {
          "index": 113,
          "value": -3.207130757756741,
          "variable": "α = 0.98"
         },
         {
          "index": 114,
          "value": -3.7062786630402447,
          "variable": "α = 0.98"
         },
         {
          "index": 115,
          "value": -2.680746012784523,
          "variable": "α = 0.98"
         },
         {
          "index": 116,
          "value": -3.749118139403399,
          "variable": "α = 0.98"
         },
         {
          "index": 117,
          "value": -3.4448228870925375,
          "variable": "α = 0.98"
         },
         {
          "index": 118,
          "value": -4.6825900014298085,
          "variable": "α = 0.98"
         },
         {
          "index": 119,
          "value": -4.19155790270512,
          "variable": "α = 0.98"
         },
         {
          "index": 120,
          "value": -4.142457375972863,
          "variable": "α = 0.98"
         },
         {
          "index": 121,
          "value": -4.747389054871993,
          "variable": "α = 0.98"
         },
         {
          "index": 122,
          "value": -4.34698185841183,
          "variable": "α = 0.98"
         },
         {
          "index": 123,
          "value": -6.583684363657337,
          "variable": "α = 0.98"
         },
         {
          "index": 124,
          "value": -5.255287515491161,
          "variable": "α = 0.98"
         },
         {
          "index": 125,
          "value": -6.242300445066493,
          "variable": "α = 0.98"
         },
         {
          "index": 126,
          "value": -7.339745737975485,
          "variable": "α = 0.98"
         },
         {
          "index": 127,
          "value": -5.4969663254567065,
          "variable": "α = 0.98"
         },
         {
          "index": 128,
          "value": -5.134003998825212,
          "variable": "α = 0.98"
         },
         {
          "index": 129,
          "value": -3.8465539975713448,
          "variable": "α = 0.98"
         },
         {
          "index": 130,
          "value": -3.2961836321880025,
          "variable": "α = 0.98"
         },
         {
          "index": 131,
          "value": -1.6206615054420765,
          "variable": "α = 0.98"
         },
         {
          "index": 132,
          "value": -2.119349697381417,
          "variable": "α = 0.98"
         },
         {
          "index": 133,
          "value": -2.039285637760154,
          "variable": "α = 0.98"
         },
         {
          "index": 134,
          "value": -3.030890364118898,
          "variable": "α = 0.98"
         },
         {
          "index": 135,
          "value": -1.1150125397654636,
          "variable": "α = 0.98"
         },
         {
          "index": 136,
          "value": -0.4034146310061062,
          "variable": "α = 0.98"
         },
         {
          "index": 137,
          "value": -0.8589248564453007,
          "variable": "α = 0.98"
         },
         {
          "index": 138,
          "value": 0.20314961110136964,
          "variable": "α = 0.98"
         },
         {
          "index": 139,
          "value": 1.5196744920095158,
          "variable": "α = 0.98"
         },
         {
          "index": 140,
          "value": 0.8073194960419611,
          "variable": "α = 0.98"
         },
         {
          "index": 141,
          "value": 0.37367335539239327,
          "variable": "α = 0.98"
         },
         {
          "index": 142,
          "value": 0.9571581269506488,
          "variable": "α = 0.98"
         },
         {
          "index": 143,
          "value": 1.0376635132848775,
          "variable": "α = 0.98"
         },
         {
          "index": 144,
          "value": -0.11994004922336421,
          "variable": "α = 0.98"
         },
         {
          "index": 145,
          "value": -0.5291555403209218,
          "variable": "α = 0.98"
         },
         {
          "index": 146,
          "value": -0.256402622567219,
          "variable": "α = 0.98"
         },
         {
          "index": 147,
          "value": -2.1522684183725347,
          "variable": "α = 0.98"
         },
         {
          "index": 148,
          "value": -2.4641222639207143,
          "variable": "α = 0.98"
         },
         {
          "index": 149,
          "value": -3.2632589717159095,
          "variable": "α = 0.98"
         },
         {
          "index": 150,
          "value": -3.673157431289729,
          "variable": "α = 0.98"
         },
         {
          "index": 151,
          "value": -3.195394359950696,
          "variable": "α = 0.98"
         },
         {
          "index": 152,
          "value": -3.2876113055004796,
          "variable": "α = 0.98"
         },
         {
          "index": 153,
          "value": -1.7226963426908724,
          "variable": "α = 0.98"
         },
         {
          "index": 154,
          "value": -1.898868758715511,
          "variable": "α = 0.98"
         },
         {
          "index": 155,
          "value": -2.407081604464305,
          "variable": "α = 0.98"
         },
         {
          "index": 156,
          "value": -1.4101427521017391,
          "variable": "α = 0.98"
         },
         {
          "index": 157,
          "value": -0.8673321003443013,
          "variable": "α = 0.98"
         },
         {
          "index": 158,
          "value": -0.758888210278835,
          "variable": "α = 0.98"
         },
         {
          "index": 159,
          "value": 0.553637258436526,
          "variable": "α = 0.98"
         },
         {
          "index": 160,
          "value": 0.30062639914311956,
          "variable": "α = 0.98"
         },
         {
          "index": 161,
          "value": 2.0780550761678924,
          "variable": "α = 0.98"
         },
         {
          "index": 162,
          "value": 2.318659278063801,
          "variable": "α = 0.98"
         },
         {
          "index": 163,
          "value": 3.8061939059252174,
          "variable": "α = 0.98"
         },
         {
          "index": 164,
          "value": 5.3737788055718685,
          "variable": "α = 0.98"
         },
         {
          "index": 165,
          "value": 4.831266860723083,
          "variable": "α = 0.98"
         },
         {
          "index": 166,
          "value": 4.46066850714946,
          "variable": "α = 0.98"
         },
         {
          "index": 167,
          "value": 2.703587189713125,
          "variable": "α = 0.98"
         },
         {
          "index": 168,
          "value": 1.2296104441487525,
          "variable": "α = 0.98"
         },
         {
          "index": 169,
          "value": 1.1278847840055786,
          "variable": "α = 0.98"
         },
         {
          "index": 170,
          "value": 0.3578837785569239,
          "variable": "α = 0.98"
         },
         {
          "index": 171,
          "value": 1.2920325095416672,
          "variable": "α = 0.98"
         },
         {
          "index": 172,
          "value": 2.2733503369883077,
          "variable": "α = 0.98"
         },
         {
          "index": 173,
          "value": 2.1046558179060932,
          "variable": "α = 0.98"
         },
         {
          "index": 174,
          "value": 1.3909220979570935,
          "variable": "α = 0.98"
         },
         {
          "index": 175,
          "value": 1.497212618097755,
          "variable": "α = 0.98"
         },
         {
          "index": 176,
          "value": 2.176518328932002,
          "variable": "α = 0.98"
         },
         {
          "index": 177,
          "value": 3.760854298603012,
          "variable": "α = 0.98"
         },
         {
          "index": 178,
          "value": 4.736133609635537,
          "variable": "α = 0.98"
         },
         {
          "index": 179,
          "value": 4.837996216117993,
          "variable": "α = 0.98"
         },
         {
          "index": 180,
          "value": 3.216571935514402,
          "variable": "α = 0.98"
         },
         {
          "index": 181,
          "value": 3.944059649369599,
          "variable": "α = 0.98"
         },
         {
          "index": 182,
          "value": 2.8653392601478607,
          "variable": "α = 0.98"
         },
         {
          "index": 183,
          "value": 2.7722694983736096,
          "variable": "α = 0.98"
         },
         {
          "index": 184,
          "value": 4.650380207945593,
          "variable": "α = 0.98"
         },
         {
          "index": 185,
          "value": 4.196953217820659,
          "variable": "α = 0.98"
         },
         {
          "index": 186,
          "value": 4.212324978300913,
          "variable": "α = 0.98"
         },
         {
          "index": 187,
          "value": 3.608824034741006,
          "variable": "α = 0.98"
         },
         {
          "index": 188,
          "value": 3.9614849210576626,
          "variable": "α = 0.98"
         },
         {
          "index": 189,
          "value": 5.749582014296949,
          "variable": "α = 0.98"
         },
         {
          "index": 190,
          "value": 6.469602762756619,
          "variable": "α = 0.98"
         },
         {
          "index": 191,
          "value": 5.480470962389905,
          "variable": "α = 0.98"
         },
         {
          "index": 192,
          "value": 5.053324232272038,
          "variable": "α = 0.98"
         },
         {
          "index": 193,
          "value": 6.532799871761482,
          "variable": "α = 0.98"
         },
         {
          "index": 194,
          "value": 9.27793311920361,
          "variable": "α = 0.98"
         },
         {
          "index": 195,
          "value": 8.144875490250246,
          "variable": "α = 0.98"
         },
         {
          "index": 196,
          "value": 7.3218751818194,
          "variable": "α = 0.98"
         },
         {
          "index": 197,
          "value": 8.741132247749476,
          "variable": "α = 0.98"
         },
         {
          "index": 198,
          "value": 8.92715216366272,
          "variable": "α = 0.98"
         },
         {
          "index": 199,
          "value": 7.764472595926128,
          "variable": "α = 0.98"
         },
         {
          "index": 200,
          "value": 7.610706348623586,
          "variable": "α = 0.98"
         }
        ]
       },
       "encoding": {
        "color": {
         "field": "variable",
         "legend": {
          "orient": "top-left",
          "title": ""
         },
         "type": "nominal"
        },
        "x": {
         "field": "index",
         "title": "",
         "type": "quantitative"
        },
        "y": {
         "field": "value",
         "title": "",
         "type": "quantitative"
        }
       },
       "height": 400,
       "mark": "line",
       "width": 800
      },
      "image/png": "[encoded data removed]",
      "text/plain": [
       "<VegaLite 2 object>\n",
       "\n",
       "If you see this message, it means the renderer has not been properly enabled\n",
       "for the frontend that you are using. For more information, see\n",
       "https://altair-viz.github.io/user_guide/troubleshooting.html\n"
      ]
     },
     "execution_count": 11,
     "metadata": {},
     "output_type": "execute_result"
    }
   ],
   "source": [
    "data = (\n",
    "    pd.DataFrame({u\"\\u03B1\" + ' = ' + str(param): corr_time(a=param) for param in [0.0, 0.8, 0.98]})\n",
    "    .reset_index()\n",
    "    .melt(id_vars=['index'])\n",
    ")\n",
    "chart = (\n",
    "    alt.Chart(data)\n",
    "    .mark_line()\n",
    "    .encode(\n",
    "        x=alt.X('index:Q', title=''),\n",
    "        y=alt.Y('value:Q', title=''),\n",
    "        color=alt.Color('variable:N', legend=alt.Legend(title='', orient='top-left'))\n",
    "    )\n",
    "    .properties(width=800, height=400)\n",
    ")\n",
    "chart"
   ]
  }
 ],
 "metadata": {
  "kernelspec": {
   "display_name": "Python 3",
   "language": "python",
   "name": "python3"
  },
  "language_info": {
   "codemirror_mode": {
    "name": "ipython",
    "version": 3
   },
   "file_extension": ".py",
   "mimetype": "text/x-python",
   "name": "python",
   "nbconvert_exporter": "python",
   "pygments_lexer": "ipython3",
   "version": "3.7.1"
  }
 },
 "nbformat": 4,
 "nbformat_minor": 2
}
