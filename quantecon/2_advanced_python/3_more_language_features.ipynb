{
 "cells": [
  {
   "cell_type": "markdown",
   "metadata": {},
   "source": [
    "# Exercise 1\n",
    "\n",
    "The Fibonacci numbers are defined by\n",
    "\n",
    "$x_{t+1} = x_{t} + x_{t-1}, \\quad x_0 = 0, x_1 = 1$\n",
    "\n",
    "The first few numbers in the sequence are $0,1,1,2,3,5,8,13,21,34,55$\n",
    "\n",
    "Write a function to recursively compute the $t$th Fibonacci number for any $t$"
   ]
  },
  {
   "cell_type": "code",
   "execution_count": 1,
   "metadata": {},
   "outputs": [],
   "source": [
    "def fibonacci(t):\n",
    "    if not isinstance(t, int):\n",
    "        print('t must be an integer')\n",
    "        return None\n",
    "    if t < 0:\n",
    "        print('t must non-negative')\n",
    "        return None\n",
    "    if t == 1:\n",
    "        return 1\n",
    "    elif t == 0:\n",
    "        return 0\n",
    "    else:\n",
    "        return fibonacci(t-1) + fibonacci(t-2)"
   ]
  },
  {
   "cell_type": "code",
   "execution_count": 2,
   "metadata": {},
   "outputs": [
    {
     "data": {
      "text/plain": [
       "[0, 1, 1, 2, 3, 5, 8, 13, 21, 34, 55]"
      ]
     },
     "execution_count": 2,
     "metadata": {},
     "output_type": "execute_result"
    }
   ],
   "source": [
    "[fibonacci(i) for i in range(11)]"
   ]
  },
  {
   "cell_type": "code",
   "execution_count": 3,
   "metadata": {},
   "outputs": [
    {
     "data": {
      "text/plain": [
       "0"
      ]
     },
     "execution_count": 3,
     "metadata": {},
     "output_type": "execute_result"
    }
   ],
   "source": [
    "fibonacci(0)"
   ]
  },
  {
   "cell_type": "code",
   "execution_count": 4,
   "metadata": {},
   "outputs": [
    {
     "name": "stdout",
     "output_type": "stream",
     "text": [
      "t must non-negative\n"
     ]
    }
   ],
   "source": [
    "fibonacci(-5)"
   ]
  },
  {
   "cell_type": "code",
   "execution_count": 5,
   "metadata": {},
   "outputs": [
    {
     "name": "stdout",
     "output_type": "stream",
     "text": [
      "t must be an integer\n"
     ]
    }
   ],
   "source": [
    "fibonacci(1.2)"
   ]
  },
  {
   "cell_type": "markdown",
   "metadata": {},
   "source": [
    "# Exercise 2\n",
    "\n",
    "Complete the following code, and test it using [this csv file](https://github.com/QuantEcon/QuantEcon.lectures.code/blob/master/python_advanced_features/test_table.csv)\n",
    "\n",
    "```python\n",
    "def column_iterator(target_file, column_number):\n",
    "    \"\"\"A generator function for CSV files.\n",
    "    When called with a file name target_file (string) and column number\n",
    "    column_number (integer), the generator function returns a generator\n",
    "    that steps through the elements of column column_number in file\n",
    "    target_file.\n",
    "    \"\"\"\n",
    "    # put your code here\n",
    "\n",
    "dates = column_iterator('test_table.csv', 1)\n",
    "\n",
    "for date in dates:\n",
    "    print(date)\n",
    "```"
   ]
  },
  {
   "cell_type": "code",
   "execution_count": 6,
   "metadata": {},
   "outputs": [
    {
     "name": "stdout",
     "output_type": "stream",
     "text": [
      "Date\n",
      "2009-05-21\n",
      "2009-05-20\n",
      "2009-05-19\n",
      "2009-05-18\n",
      "2009-05-15\n",
      "2009-05-14\n",
      "2009-05-13\n",
      "2009-05-12\n",
      "2009-05-11\n",
      "2009-05-08\n",
      "2009-05-07\n",
      "2009-05-01\n",
      "2009-04-30\n",
      "2009-04-28\n"
     ]
    }
   ],
   "source": [
    "def column_iterator(target_file, column_number):\n",
    "    \"\"\"A generator function for CSV files.\n",
    "    When called with a file name target_file (string) and column number\n",
    "    column_number (integer), the generator function returns a generator\n",
    "    that steps through the elements of column column_number in file\n",
    "    target_file.\n",
    "    \"\"\"\n",
    "    with open(target_file, 'r') as f:\n",
    "        for row in f:\n",
    "            yield row.split(',')[column_number - 1]\n",
    "\n",
    "dates = column_iterator('test_table.csv', 1)\n",
    "\n",
    "for date in dates:\n",
    "    print(date)\n",
    "    if date == '2009-04-28':\n",
    "        break"
   ]
  },
  {
   "cell_type": "markdown",
   "metadata": {},
   "source": [
    "# Exercise 3\n",
    "\n",
    "Suppose we have a text file `numbers.txt` containing the following lines\n",
    "\n",
    "```\n",
    "prices\n",
    "3\n",
    "8\n",
    "\n",
    "7\n",
    "21\n",
    "```\n",
    "\n",
    "Using `try`-`except`, write a program to read in the contents of the file and sum the numbers, irgnoring lines without numbers"
   ]
  },
  {
   "cell_type": "code",
   "execution_count": 7,
   "metadata": {},
   "outputs": [],
   "source": [
    "def read_nums():\n",
    "    total = 0\n",
    "    with open('numbers.txt', 'r') as f:\n",
    "        for line in f:\n",
    "            try:\n",
    "                total += float(line)\n",
    "            except:\n",
    "                pass\n",
    "    return total\n",
    "            "
   ]
  },
  {
   "cell_type": "code",
   "execution_count": 8,
   "metadata": {},
   "outputs": [
    {
     "data": {
      "text/plain": [
       "39.0"
      ]
     },
     "execution_count": 8,
     "metadata": {},
     "output_type": "execute_result"
    }
   ],
   "source": [
    "read_nums()"
   ]
  },
  {
   "cell_type": "code",
   "execution_count": null,
   "metadata": {},
   "outputs": [],
   "source": []
  }
 ],
 "metadata": {
  "kernelspec": {
   "display_name": "Python 3",
   "language": "python",
   "name": "python3"
  },
  "language_info": {
   "codemirror_mode": {
    "name": "ipython",
    "version": 3
   },
   "file_extension": ".py",
   "mimetype": "text/x-python",
   "name": "python",
   "nbconvert_exporter": "python",
   "pygments_lexer": "ipython3",
   "version": "3.7.1"
  }
 },
 "nbformat": 4,
 "nbformat_minor": 2
}
