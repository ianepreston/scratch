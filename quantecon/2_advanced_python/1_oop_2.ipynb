{
 "cells": [
  {
   "cell_type": "code",
   "execution_count": 1,
   "metadata": {},
   "outputs": [],
   "source": [
    "import numpy as np"
   ]
  },
  {
   "cell_type": "markdown",
   "metadata": {},
   "source": [
    "# Exercise 1\n",
    "\n",
    "The [empirical cumulative distribution function (ecdf)](https://en.wikipedia.org/wiki/Empirical_distribution_function) corresponding to a sample $\\{X_i\\}^n_{i=1}$ is defined as\n",
    "\n",
    "$F_n(x) := \\frac{1}{n}  \\sum_{i=1}^n \\mathbf{1}\\{X_i \\leq x\\}\n",
    "  \\qquad (x \\in \\mathbb{R}) \\tag{3}$\n",
    "\n",
    "Here $\\mathbf{1}\\{X_i \\leq x\\}$ is an indicator function (one if $X_i \\leq x$ and zero otherwise) and hence $F_n(x)$ is the fraction of the sample that falls below $x$\n",
    "\n",
    "The Glivenko-Cantelli Theorem states that, provided that the sample is iid, the ecdf $F_n$ converges to the true distribution $F$\n",
    "\n",
    "Implement $F_n$ as a class called `ECDF`, where\n",
    "\n",
    "- A given sample $\\{X_i\\}^n_{i=1}$ are the instance data, stored as `self.observations`\n",
    "\n",
    "- The class implements a `__call__` method that returns $F_n(x)$ for any $x$\n",
    "\n",
    "Your code should work as follow (modulo randomness)\n",
    "\n",
    "```python\n",
    "from random import uniform\n",
    "\n",
    "samples = [uniform(0, 1) for i in range(10)]\n",
    "F = ECDF(samples)\n",
    "F(0.5) # Evaluate the ecdf at x = 0.5\n",
    "```\n",
    "```python\n",
    "F.observations = [uniform(0, 1) for i in range(1000)]\n",
    "F(0.5)\n",
    "```\n",
    "Aim for clarity, not efficiency"
   ]
  },
  {
   "cell_type": "code",
   "execution_count": 2,
   "metadata": {},
   "outputs": [],
   "source": [
    "class ECDF:\n",
    "    \"\"\"Empirical cumulative distribution function\"\"\"\n",
    "    \n",
    "    def __init__(self, samples):\n",
    "        self.samples = np.asarray(samples)\n",
    "        self.samples.sort()\n",
    "    \n",
    "    def f(self, x):\n",
    "        n = len(self.samples)\n",
    "        below = np.searchsorted(self.samples, x)\n",
    "        return below / n\n",
    "    \n",
    "    def __call__(self, x):\n",
    "        return self.f(x)\n",
    "        \n",
    "    \n",
    "    "
   ]
  },
  {
   "cell_type": "code",
   "execution_count": 3,
   "metadata": {},
   "outputs": [
    {
     "data": {
      "text/plain": [
       "0.477"
      ]
     },
     "execution_count": 3,
     "metadata": {},
     "output_type": "execute_result"
    }
   ],
   "source": [
    "ecdf = ECDF(np.random.uniform(size=1000))\n",
    "ecdf(0.5)"
   ]
  },
  {
   "cell_type": "markdown",
   "metadata": {},
   "source": [
    "# Exercise 2\n",
    "\n",
    "In an [earlier exercise](https://lectures.quantecon.org/py/python_essentials.html#pyess-ex2), you wrote a function for evaluating polynomials\n",
    "\n",
    "This exercise is an extension, where the task is to build a simple class called `Polynomial` for representing and manipulating polynomial functions such as\n",
    "\n",
    "$p(x) = a_0 + a_1x + a_2x^2 + ... + a_Nx^N = \\sum_{n=0}^N a_nx^n \\qquad (x \\in \\mathbb{R}) \\tag{4}$\n",
    "\n",
    "Provide methods that\n",
    "\n",
    "1. Evaluate the polynomial (4), returning $p(x)$ for any $x$\n",
    "\n",
    "2. Differentiate the polynomial, replacing the original coefficients with those of its derivative $p'$\n",
    "\n",
    "Avoid using any `import` statements"
   ]
  },
  {
   "cell_type": "code",
   "execution_count": 4,
   "metadata": {},
   "outputs": [],
   "source": [
    "class Polynomial:\n",
    "    \"\"\"Polynomial of degree N (defined at instantiation)\"\"\"\n",
    "    \n",
    "    def __init__(self, A):\n",
    "        self.A = A\n",
    "    \n",
    "    def differentiate(self):\n",
    "        new_samples = [a * i for i, a in enumerate(self.A[1:], 1)]\n",
    "        return Polynomial(new_samples)\n",
    "    \n",
    "    def p(self, x):\n",
    "        return sum([a * x**i for i, a in enumerate(self.A)])\n",
    "    \n",
    "    def __call__(self, x):\n",
    "        return self.p(x)      \n"
   ]
  },
  {
   "cell_type": "code",
   "execution_count": 5,
   "metadata": {},
   "outputs": [
    {
     "name": "stdout",
     "output_type": "stream",
     "text": [
      "[1, 2, 3]\n",
      "17\n",
      "[2, 6]\n",
      "14\n"
     ]
    }
   ],
   "source": [
    "orig = Polynomial([1, 2, 3])\n",
    "print(orig.A)\n",
    "print(orig(2))\n",
    "deriv = orig.differentiate()\n",
    "print(deriv.A)\n",
    "print(deriv(2))"
   ]
  }
 ],
 "metadata": {
  "kernelspec": {
   "display_name": "Python 3",
   "language": "python",
   "name": "python3"
  },
  "language_info": {
   "codemirror_mode": {
    "name": "ipython",
    "version": 3
   },
   "file_extension": ".py",
   "mimetype": "text/x-python",
   "name": "python",
   "nbconvert_exporter": "python",
   "pygments_lexer": "ipython3",
   "version": "3.7.1"
  }
 },
 "nbformat": 4,
 "nbformat_minor": 2
}
