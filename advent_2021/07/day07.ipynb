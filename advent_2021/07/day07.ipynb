{
 "cells": [
  {
   "cell_type": "markdown",
   "id": "62a138ff-9477-4119-8cfa-83189ad9687f",
   "metadata": {},
   "source": [
    "# Advent of Code 2021 day 7 solution\n",
    "\n",
    "## Intro \n",
    "In trying to figure out the intuition for this problem I ended up finding a brute force solution that worked well enough to get the answer. That kind of defeats the purpose of posting my solution code, since it works but doesn't really teach anything. Instead let's go through some iterations on ways to solve the problem in (hopefully) increasingly more efficient ways and working out how and why they work."
   ]
  },
  {
   "cell_type": "code",
   "execution_count": 1,
   "id": "47acacae-b96b-403c-bf25-2323af3d6f09",
   "metadata": {},
   "outputs": [],
   "source": [
    "from typing import Callable\n",
    "from collections import defaultdict\n",
    "import pandas as pd\n"
   ]
  },
  {
   "cell_type": "code",
   "execution_count": 2,
   "id": "99120193-8a6e-4c60-a6aa-680a68956a83",
   "metadata": {},
   "outputs": [],
   "source": [
    "with open(\"input.txt\", \"r\") as f:\n",
    "    crabs_list = [int(x) for x in f.readline().strip().split(\",\")]"
   ]
  },
  {
   "cell_type": "markdown",
   "id": "c6bd1803-ba14-4cef-a9a6-b079b274ebd9",
   "metadata": {},
   "source": [
    "Below is a sample of the puzzle inputs, it's just a list of integers representing points where we have crabs on the integer number line."
   ]
  },
  {
   "cell_type": "code",
   "execution_count": 3,
   "id": "3f4e66bf-6f31-49ec-afe3-779848e6601d",
   "metadata": {},
   "outputs": [
    {
     "data": {
      "text/plain": [
       "[1101, 1, 29, 67, 1102]"
      ]
     },
     "execution_count": 3,
     "metadata": {},
     "output_type": "execute_result"
    }
   ],
   "source": [
    "crabs_list[:5]"
   ]
  },
  {
   "cell_type": "markdown",
   "id": "fdd513b6-eb84-4490-b47b-32d99a2a44d8",
   "metadata": {},
   "source": [
    "## Puzzle Part 1"
   ]
  },
  {
   "cell_type": "markdown",
   "id": "fd5f2866-302e-4f38-ae7e-24aee2c62a9d",
   "metadata": {},
   "source": [
    "We're trying to find a point on the number line that minimizes the fuel expended by all the crabs to travel to it. So first we have to define a function that computes the amount of fuel a crab needs to use to get to an arbitrary point:\n",
    "\n",
    "Bit of a spoiler for part 2 - the fuel formula changes so I will label this as the calculation for part 1"
   ]
  },
  {
   "cell_type": "code",
   "execution_count": 4,
   "id": "f2c957cc-ac8e-432b-a16c-eb394d838f39",
   "metadata": {},
   "outputs": [],
   "source": [
    "def p1_fuel_calc(crab: int, point: int) -> int:\n",
    "    \"\"\"Compute fuel required for a crab to travel to a point.\"\"\"\n",
    "    return abs(crab - point)"
   ]
  },
  {
   "cell_type": "markdown",
   "id": "75d6f563-2fef-4ac8-bee9-e14ba56be908",
   "metadata": {},
   "source": [
    "The next thing we need is something to calculate the total fuel expenditure used by all the crabs to travel to a given point:\n",
    "\n",
    "I can think of two ways to do this. The first is just to sum up the result of calling the fuel calculation on every crab in the crab list. The slightly fancier way to do it would be to first count up the number of crabs at every position and then return the sum of multiplying the number of crabs at each point by their fuel calculation. I'm pretty sure the simple way is faster but I'm not sure. I'm sure it depends to some extent on how many repetitions there are, and how hard the fuel calculation is, but let's try both and see what works better."
   ]
  },
  {
   "cell_type": "code",
   "execution_count": 5,
   "id": "e2088944-caf3-494d-b80a-5f8917548e93",
   "metadata": {},
   "outputs": [],
   "source": [
    "def tot_fuels_sum_all(point: int, fuel_func: Callable = p1_fuel_calc) -> int:\n",
    "    return sum(fuel_func(crab, point) for crab in crabs_list)\n",
    "\n",
    "def tot_fuels_count_first(point: int, fuel_func: Callable = p1_fuel_calc) -> int:\n",
    "    crab_counter = defaultdict(int)\n",
    "    for crab in crabs_list:\n",
    "        crab_counter[crab] += 1\n",
    "    return sum(crabcount * fuel_func(crab, point) for crab, crabcount in crab_counter.items())\n",
    "\n",
    "def tot_fuels_alt_count_first(point: int, fuel_func: Callable = p1_fuel_calc) -> int:\n",
    "    crab_counter = dict()\n",
    "    for crab in set(crabs_list):\n",
    "        crab_counter[crab] = crabs_list.count(crab)\n",
    "    return sum(crabcount * fuel_func(crab, point) for crab, crabcount in crab_counter.items())"
   ]
  },
  {
   "cell_type": "code",
   "execution_count": 6,
   "id": "b1b13cb1-3c3b-4061-818a-5f6a30e7f243",
   "metadata": {},
   "outputs": [
    {
     "name": "stdout",
     "output_type": "stream",
     "text": [
      "246 µs ± 54.8 µs per loop (mean ± std. dev. of 7 runs, 10000 loops each)\n"
     ]
    }
   ],
   "source": [
    "%timeit tot_fuels_sum_all(7)"
   ]
  },
  {
   "cell_type": "code",
   "execution_count": 7,
   "id": "3c051b6c-23ef-4732-a841-e4316d999475",
   "metadata": {},
   "outputs": [
    {
     "name": "stdout",
     "output_type": "stream",
     "text": [
      "346 µs ± 6.79 µs per loop (mean ± std. dev. of 7 runs, 1000 loops each)\n"
     ]
    }
   ],
   "source": [
    "%timeit tot_fuels_count_first(7)"
   ]
  },
  {
   "cell_type": "code",
   "execution_count": 8,
   "id": "3311fb8f-4973-423e-8ed6-486d0de4f299",
   "metadata": {},
   "outputs": [
    {
     "name": "stdout",
     "output_type": "stream",
     "text": [
      "12.4 ms ± 135 µs per loop (mean ± std. dev. of 7 runs, 100 loops each)\n"
     ]
    }
   ],
   "source": [
    "%timeit tot_fuels_alt_count_first(7)"
   ]
  },
  {
   "cell_type": "markdown",
   "id": "09bb31ac-35a0-4066-b651-c1154681b2e2",
   "metadata": {
    "tags": []
   },
   "source": [
    "In this case it looks like the cost of doing the counting really outweighs the cost of calculating fuel multiple times. Especially that second counting method, that's way slower. I'll come back to this in part 2 where the fuel formula is a little more complicated."
   ]
  },
  {
   "cell_type": "code",
   "execution_count": 9,
   "id": "ce7ec8f9-6cc4-47cf-9f07-544933481b45",
   "metadata": {},
   "outputs": [],
   "source": [
    "# Give the best solution a shorter name\n",
    "tot_fuels = tot_fuels_sum_all"
   ]
  },
  {
   "cell_type": "markdown",
   "id": "9c6e1c3d-dc41-4726-ac65-519be0bd0df6",
   "metadata": {},
   "source": [
    "Now that we have a way of evaluating fuel consumption for an arbitrary point we need to find the point that minimizes that fuel consumption. There are lots of clever ways to do this, but let's try the simplest one first. We'll just check every point, calculate its fuel, and then find the minimum."
   ]
  },
  {
   "cell_type": "code",
   "execution_count": 10,
   "id": "791234b9-8637-4816-8cae-798ccc5e971d",
   "metadata": {},
   "outputs": [],
   "source": [
    "def min_fuel_brute_force(fuel_func: Callable = p1_fuel_calc) -> int:\n",
    "    small_crab = min(crabs_list)\n",
    "    big_crab = max(crabs_list)\n",
    "    fuel_amounts = [tot_fuels(i, fuel_func) for i in range(small_crab, big_crab + 1)]\n",
    "    return min(fuel_amounts)"
   ]
  },
  {
   "cell_type": "code",
   "execution_count": 11,
   "id": "90da91b6-3f76-46ec-819f-aa8f00daa775",
   "metadata": {},
   "outputs": [
    {
     "data": {
      "text/plain": [
       "359648"
      ]
     },
     "execution_count": 11,
     "metadata": {},
     "output_type": "execute_result"
    }
   ],
   "source": [
    "min_fuel_brute_force()"
   ]
  },
  {
   "cell_type": "markdown",
   "id": "71c8583c-c662-4d2e-ae33-6b7451fab47a",
   "metadata": {},
   "source": [
    "That gets the right answer, but let's see how long it takes to run:"
   ]
  },
  {
   "cell_type": "code",
   "execution_count": 12,
   "id": "c0bb1ae1-bba3-4815-bf47-3d071bea7273",
   "metadata": {},
   "outputs": [
    {
     "name": "stdout",
     "output_type": "stream",
     "text": [
      "373 ms ± 6.67 ms per loop (mean ± std. dev. of 7 runs, 1 loop each)\n"
     ]
    }
   ],
   "source": [
    "%timeit min_fuel_brute_force()"
   ]
  },
  {
   "cell_type": "markdown",
   "id": "f5315b56-88ae-4291-b828-29790a28f0ee",
   "metadata": {},
   "source": [
    "Not terrible, but I'm sure we can do better. Before coming up with better solutions let's take a quick look at what all these different fuel amounts look like:"
   ]
  },
  {
   "cell_type": "code",
   "execution_count": 13,
   "id": "fb109843-7156-404f-822c-a2605ed1ef8c",
   "metadata": {},
   "outputs": [
    {
     "data": {
      "image/png": "[encoded data removed]",
      "text/plain": [
       "<Figure size 432x288 with 1 Axes>"
      ]
     },
     "metadata": {
      "needs_background": "light"
     },
     "output_type": "display_data"
    }
   ],
   "source": [
    "df = pd.DataFrame()\n",
    "for i in range(max(crabs_list)):\n",
    "    df.loc[i, \"point\"] = i\n",
    "    df.loc[i, \"fuel\"] = tot_fuels(i)\n",
    "df.plot(x=\"point\", y=\"fuel\");"
   ]
  },
  {
   "cell_type": "markdown",
   "id": "15755f1d-030f-4f28-ab48-3bbbef308d4e",
   "metadata": {},
   "source": [
    "This is a nice smooth looking function plotting fuel used against the destination point. When I see a function like this I start thinking about finding a place where the derivative of the function is == 0, but let's not get ahead of ourselves. There's one more iteration of kind of simple but still potentially faster solutions I want to try:"
   ]
  },
  {
   "cell_type": "code",
   "execution_count": 14,
   "id": "3b0827ec-17fc-4f52-9f6f-8d1a5a354bcb",
   "metadata": {},
   "outputs": [],
   "source": [
    "def min_fuel_descent(fuel_func: Callable = tot_fuels, start_func: Callable = min) -> int:\n",
    "    point_guess = start_func(crabs_list)\n",
    "    # Sketchy but I'm going to just do my return in the loop\n",
    "    while True:\n",
    "        point_fuel = fuel_func(point_guess)\n",
    "        point_plus_fuel = fuel_func(point_guess + 1)\n",
    "        point_minus_fuel = fuel_func(point_guess - 1)\n",
    "        if point_plus_fuel < point_fuel:\n",
    "            point_guess += 1\n",
    "        elif point_minus_fuel < point_fuel:\n",
    "            point_guess -= 1\n",
    "        else:\n",
    "            return point_fuel"
   ]
  },
  {
   "cell_type": "markdown",
   "id": "9be3dd38-35ac-4ed1-98b5-d8a5cbfadb89",
   "metadata": {},
   "source": [
    "For reference here's the old implementation speed for checking every single point:"
   ]
  },
  {
   "cell_type": "code",
   "execution_count": 15,
   "id": "5bb158a6-a071-48ab-b3c9-d25e5272c5a1",
   "metadata": {},
   "outputs": [
    {
     "name": "stdout",
     "output_type": "stream",
     "text": [
      "378 ms ± 2.55 ms per loop (mean ± std. dev. of 7 runs, 1 loop each)\n"
     ]
    }
   ],
   "source": [
    "%timeit min_fuel_brute_force()"
   ]
  },
  {
   "cell_type": "markdown",
   "id": "17a0a0f0-7f71-4ced-8ba1-67447cff3edd",
   "metadata": {},
   "source": [
    "And here's the new implementation, starting at the minimum and the maximum starting points"
   ]
  },
  {
   "cell_type": "code",
   "execution_count": 16,
   "id": "b33c5636-7d6f-4ff4-aa90-808a1f0f54b4",
   "metadata": {},
   "outputs": [
    {
     "name": "stdout",
     "output_type": "stream",
     "text": [
      "206 ms ± 11.4 ms per loop (mean ± std. dev. of 7 runs, 1 loop each)\n"
     ]
    }
   ],
   "source": [
    "%timeit min_fuel_descent(start_func=min)"
   ]
  },
  {
   "cell_type": "code",
   "execution_count": 17,
   "id": "d9db1839-ca20-4c65-b1b8-028f0be8fef1",
   "metadata": {},
   "outputs": [
    {
     "name": "stdout",
     "output_type": "stream",
     "text": [
      "943 ms ± 9.38 ms per loop (mean ± std. dev. of 7 runs, 1 loop each)\n"
     ]
    }
   ],
   "source": [
    "%timeit min_fuel_descent(start_func=max)"
   ]
  },
  {
   "cell_type": "markdown",
   "id": "b9807d7a-2207-49a9-8fa5-6baee0d37e45",
   "metadata": {},
   "source": [
    "A bit of a speed up if we start relatively near the minimum point, but if we start super far away it's actually slower because for each step it has to compute 3 fuel amounts. We could improve this by doing some estimate of the slope of the function at a given point and modifying out step size based on the slope, but this is getting a little tortured so let's skip to the analytic solution.\n",
    "\n",
    "It turns out that all you have to do to minimize the fuel given this formula is to find the median value of the list. [This stackexchange](https://math.stackexchange.com/questions/113270/the-median-minimizes-the-sum-of-absolute-deviations-the-ell-1-norm/113336#113336) thread goes into some details, which I'll reproduce a bit of below after we show that it works."
   ]
  },
  {
   "cell_type": "code",
   "execution_count": 18,
   "id": "ecc6a97c-7136-4fa5-8675-fef393590577",
   "metadata": {},
   "outputs": [
    {
     "data": {
      "text/plain": [
       "359648"
      ]
     },
     "execution_count": 18,
     "metadata": {},
     "output_type": "execute_result"
    }
   ],
   "source": [
    "min_fuel_brute_force()"
   ]
  },
  {
   "cell_type": "code",
   "execution_count": 19,
   "id": "2978e511-ad5a-4c2c-83ad-298857b63d90",
   "metadata": {},
   "outputs": [],
   "source": [
    "from statistics import median\n",
    "def min_fuel_p1_smart():\n",
    "    med_crab = int(median(crabs_list))\n",
    "    return tot_fuels(med_crab)"
   ]
  },
  {
   "cell_type": "code",
   "execution_count": 20,
   "id": "de914283-cb84-459f-bdea-23aad12e66bd",
   "metadata": {},
   "outputs": [
    {
     "data": {
      "text/plain": [
       "359648"
      ]
     },
     "execution_count": 20,
     "metadata": {},
     "output_type": "execute_result"
    }
   ],
   "source": [
    "min_fuel_p1_smart()"
   ]
  },
  {
   "cell_type": "code",
   "execution_count": 21,
   "id": "54631dae-90bf-4291-8550-fc63100ae8ec",
   "metadata": {},
   "outputs": [
    {
     "name": "stdout",
     "output_type": "stream",
     "text": [
      "280 µs ± 13.2 µs per loop (mean ± std. dev. of 7 runs, 1000 loops each)\n"
     ]
    }
   ],
   "source": [
    "%timeit min_fuel_p1_smart()"
   ]
  },
  {
   "cell_type": "markdown",
   "id": "298708c7-833f-44b4-b825-2b17b198b378",
   "metadata": {},
   "source": [
    "Now this runs in almost the same time as doing a single fuel calculation for a point, plus some minimal overhead for finding the median. \n",
    "Significantly faster. But why does this work?\n",
    "\n",
    "There's a calculus based answer in the previously linked thread but it involves taking a derivative of a function that includes absolute values, and I don't feel like doing that. The intuitive answer in the top response makes a lot of sense to me. The shortened version is to imagine your point as being anywhere along the line of all the crabs. If you slightly from that point to the right you will move some amount away from all the crabs that were to the left of you, and the same amount closer to all the crabs that are to the right of you. If there are more crabs to the left of you than the right the total distance increase from them will outweigh the total distance decrease from all the crabs to the right and your total fuel cost will increase. Based on this, as long as you can move towards the direction that has more crabs, you'll always be decreasing your fuel consumption. Which means the minimum will be where there are exactly the same number of crabs to your right and left, which is the definition of the median."
   ]
  },
  {
   "cell_type": "markdown",
   "id": "829ce5d7-7355-475f-b03c-16445fe4f938",
   "metadata": {},
   "source": [
    "## Puzzle part 2"
   ]
  },
  {
   "cell_type": "markdown",
   "id": "845f8ff0-20d0-4acc-86bc-18567cfe2cee",
   "metadata": {},
   "source": [
    "Part 2 modifies the challenge by changing the fuel calculation. In part one it was just the absolute distance between the crab and the point. In part 2 each additional step for the crab costs 1 more fuel than the last, so for a distance of $n$ the total fuel is $1 + 2 + ... + n$ or $\\sum_{i=1}^{n} i$\n",
    "\n",
    "The first thing we have to do is define a new fuel calculation method to account for this new formula. We could do it using just the formula that's defined above, but there's a faster way to do it, let's see how much better that works."
   ]
  },
  {
   "cell_type": "code",
   "execution_count": 22,
   "id": "d5e49d1f-381e-4a14-8939-5b634d076ac8",
   "metadata": {},
   "outputs": [],
   "source": [
    "def p2_fuel_calc_slow(crab: int, point: int) -> int:\n",
    "    \"\"\"Compute fuel required for a crab to travel to a point.\"\"\"\n",
    "    distance = abs(crab - point)\n",
    "    return sum(i for i in range(distance + 1))"
   ]
  },
  {
   "cell_type": "markdown",
   "id": "c669b75f-2850-45b7-8147-1f6882a7d77a",
   "metadata": {},
   "source": [
    "The much faster way to do this is called [Gaussian summation](https://letstalkscience.ca/educational-resources/backgrounders/gauss-summation)\n",
    "Let's implement that and compare:"
   ]
  },
  {
   "cell_type": "code",
   "execution_count": 23,
   "id": "d44d90ab-d8ec-4a96-9174-a60b1c702f54",
   "metadata": {},
   "outputs": [],
   "source": [
    "def p2_fuel_calc(crab: int, point: int) -> int:\n",
    "    \"\"\"Compute fuel required for a crab to travel to a point.\"\"\"\n",
    "    distance = abs(crab - point)\n",
    "    return int(distance * (distance + 1) / 2)"
   ]
  },
  {
   "cell_type": "code",
   "execution_count": 24,
   "id": "26217cf4-0e0b-4590-adf9-23ebd35f8f88",
   "metadata": {},
   "outputs": [
    {
     "name": "stdout",
     "output_type": "stream",
     "text": [
      "28 ms ± 587 µs per loop (mean ± std. dev. of 7 runs, 10 loops each)\n"
     ]
    }
   ],
   "source": [
    "%%timeit\n",
    "point = 0\n",
    "for crab in crabs_list:\n",
    "    _ = p2_fuel_calc_slow(crab, point)"
   ]
  },
  {
   "cell_type": "code",
   "execution_count": 25,
   "id": "2125b1c3-4bb1-4ffb-9c37-705053202665",
   "metadata": {},
   "outputs": [
    {
     "name": "stdout",
     "output_type": "stream",
     "text": [
      "364 µs ± 7.34 µs per loop (mean ± std. dev. of 7 runs, 1000 loops each)\n"
     ]
    }
   ],
   "source": [
    "%%timeit\n",
    "point = 0\n",
    "for crab in crabs_list:\n",
    "    _ = p2_fuel_calc(crab, point)"
   ]
  },
  {
   "cell_type": "markdown",
   "id": "57a9a637-ea92-4ebd-b1d1-c8afe91c692a",
   "metadata": {},
   "source": [
    "That's a pretty significant speedup!"
   ]
  },
  {
   "cell_type": "markdown",
   "id": "7592e8b1-2e29-41ee-bb5c-e203f2f6d299",
   "metadata": {},
   "source": [
    "Now to actually solve part 2. Now that our fuel calculation is much slower (at least with the slow calculation) we can also check if counting crabs first helps things:"
   ]
  },
  {
   "cell_type": "code",
   "execution_count": 26,
   "id": "f190e4f1-d420-4138-bb17-3848ab7a9e4a",
   "metadata": {},
   "outputs": [
    {
     "name": "stdout",
     "output_type": "stream",
     "text": [
      "27.8 ms ± 1.07 ms per loop (mean ± std. dev. of 7 runs, 10 loops each)\n"
     ]
    }
   ],
   "source": [
    "%timeit tot_fuels_sum_all(7, fuel_func=p2_fuel_calc_slow)"
   ]
  },
  {
   "cell_type": "code",
   "execution_count": 27,
   "id": "57acf261-bd1a-403b-b614-6149d27e788e",
   "metadata": {},
   "outputs": [
    {
     "name": "stdout",
     "output_type": "stream",
     "text": [
      "23 ms ± 399 µs per loop (mean ± std. dev. of 7 runs, 10 loops each)\n"
     ]
    }
   ],
   "source": [
    "%timeit tot_fuels_count_first(7, fuel_func=p2_fuel_calc_slow)"
   ]
  },
  {
   "cell_type": "code",
   "execution_count": 28,
   "id": "b117aa8f-4b5e-4658-a289-6d1049eb2331",
   "metadata": {},
   "outputs": [
    {
     "name": "stdout",
     "output_type": "stream",
     "text": [
      "35.1 ms ± 771 µs per loop (mean ± std. dev. of 7 runs, 10 loops each)\n"
     ]
    }
   ],
   "source": [
    "%timeit tot_fuels_alt_count_first(7, fuel_func=p2_fuel_calc_slow)"
   ]
  },
  {
   "cell_type": "markdown",
   "id": "54a28107-53b5-4df2-8cc6-3ac8d66fdb98",
   "metadata": {},
   "source": [
    "It looks like with the slower fuel calculation it's about a draw counting the crabs first with just evaluating it for each of them. So there's really no reason to do the counting, it just makes things more complicated for no real speedup."
   ]
  },
  {
   "cell_type": "markdown",
   "id": "e60c76b9-e9cb-4202-a307-b2d9053f129a",
   "metadata": {},
   "source": [
    "Let's see how long it would take to solve part 2 using the brute force (check every point along the crab line as a candidate) and slower fuel calculation method:"
   ]
  },
  {
   "cell_type": "code",
   "execution_count": 29,
   "id": "aeee9806-ec1b-4d1b-9a78-f430b173f5d6",
   "metadata": {},
   "outputs": [
    {
     "name": "stdout",
     "output_type": "stream",
     "text": [
      "1min 23s ± 7.85 s per loop (mean ± std. dev. of 7 runs, 1 loop each)\n"
     ]
    }
   ],
   "source": [
    "%timeit min_fuel_brute_force(fuel_func=p2_fuel_calc_slow)"
   ]
  },
  {
   "cell_type": "markdown",
   "id": "c8dd9a12-b784-4b6d-8c20-6defbd93417e",
   "metadata": {},
   "source": [
    "Well that's gross. We probably shouldn't use that solution."
   ]
  },
  {
   "cell_type": "markdown",
   "id": "12fc9f87-259b-405c-b030-ad024bd244a8",
   "metadata": {},
   "source": [
    "How does that compare to using the faster calculation?"
   ]
  },
  {
   "cell_type": "code",
   "execution_count": 30,
   "id": "f6b1239c-a428-4891-a7f5-cff19e4883ad",
   "metadata": {},
   "outputs": [
    {
     "name": "stdout",
     "output_type": "stream",
     "text": [
      "848 ms ± 18.5 ms per loop (mean ± std. dev. of 7 runs, 1 loop each)\n"
     ]
    }
   ],
   "source": [
    "%timeit min_fuel_brute_force(fuel_func=p2_fuel_calc)"
   ]
  },
  {
   "cell_type": "markdown",
   "id": "4abc37ef-d4ee-4444-931b-476205187bf4",
   "metadata": {},
   "source": [
    "That's much better. Given that we've already found a solution that takes less than a second to run, there's not really any good reason to take this further, but just for fun let's give it a try."
   ]
  },
  {
   "cell_type": "code",
   "execution_count": 31,
   "id": "cfbe28cc-dbde-4779-9472-25db72d22f9c",
   "metadata": {},
   "outputs": [
    {
     "data": {
      "image/png": "[encoded data removed]",
      "text/plain": [
       "<Figure size 432x288 with 1 Axes>"
      ]
     },
     "metadata": {
      "needs_background": "light"
     },
     "output_type": "display_data"
    }
   ],
   "source": [
    "df = pd.DataFrame()\n",
    "for i in range(max(crabs_list)):\n",
    "    df.loc[i, \"point\"] = i\n",
    "    df.loc[i, \"fuel\"] = tot_fuels(i, fuel_func=p2_fuel_calc)\n",
    "df.plot(x=\"point\", y=\"fuel\");"
   ]
  },
  {
   "cell_type": "markdown",
   "id": "af581ad5-5229-47b5-9511-0052736572fe",
   "metadata": {},
   "source": [
    "Again we can see that this looks like a differentiable function, so if we could find the derivative of the fuel function, the point where that derivative is == 0 would be the minimum fuel. Someone much smarter than me wrote up a derivation that shows the minimum point will be += 0.5 of the mean value of the crab positions. You can find the whole write up [here](https://www.reddit.com/r/adventofcode/comments/rawxad/2021_day_7_part_2_i_wrote_a_paper_on_todays/)"
   ]
  },
  {
   "cell_type": "code",
   "execution_count": 32,
   "id": "936c4e58-9209-4cb9-868d-db9c75182dd8",
   "metadata": {},
   "outputs": [],
   "source": [
    "from statistics import mean\n",
    "def min_fuel_p2_smart():\n",
    "    mean_crab = int(round(mean(crabs_list)))\n",
    "    mean_plus = mean_crab + 1\n",
    "    mean_min = mean_crab - 1\n",
    "    check_points = [mean_crab, mean_plus, mean_min]\n",
    "    return min(tot_fuels(point, fuel_func=p2_fuel_calc) for point in check_points)\n"
   ]
  },
  {
   "cell_type": "code",
   "execution_count": 33,
   "id": "a0ca349c-b0af-4123-b708-73aadc6280e3",
   "metadata": {},
   "outputs": [
    {
     "name": "stdout",
     "output_type": "stream",
     "text": [
      "1.9 ms ± 52.2 µs per loop (mean ± std. dev. of 7 runs, 100 loops each)\n"
     ]
    }
   ],
   "source": [
    "%timeit min_fuel_p2_smart()"
   ]
  },
  {
   "cell_type": "markdown",
   "id": "9a28694d-f2f4-41ff-9276-49ed110b2472",
   "metadata": {},
   "source": [
    "Hundreds of times faster! Amazing! Totally worth all this time to work out."
   ]
  },
  {
   "cell_type": "markdown",
   "id": "f812fa55-b8c5-48cf-8564-3b7766c2aaea",
   "metadata": {},
   "source": [
    "Oh, we should make sure it actually works:"
   ]
  },
  {
   "cell_type": "code",
   "execution_count": 34,
   "id": "06ffcc6a-4f7a-4517-901a-da40ea4070be",
   "metadata": {},
   "outputs": [
    {
     "data": {
      "text/plain": [
       "100727924"
      ]
     },
     "execution_count": 34,
     "metadata": {},
     "output_type": "execute_result"
    }
   ],
   "source": [
    "min_fuel_brute_force(fuel_func=p2_fuel_calc)"
   ]
  },
  {
   "cell_type": "code",
   "execution_count": 35,
   "id": "beb91483-9027-430b-a722-779d9a502249",
   "metadata": {},
   "outputs": [
    {
     "data": {
      "text/plain": [
       "100727924"
      ]
     },
     "execution_count": 35,
     "metadata": {},
     "output_type": "execute_result"
    }
   ],
   "source": [
    "int(df[\"fuel\"].min())"
   ]
  },
  {
   "cell_type": "code",
   "execution_count": 36,
   "id": "e0892cec-4b86-4331-80f5-e98af6e26d60",
   "metadata": {},
   "outputs": [
    {
     "data": {
      "text/plain": [
       "100727924"
      ]
     },
     "execution_count": 36,
     "metadata": {},
     "output_type": "execute_result"
    }
   ],
   "source": [
    "min_fuel_p2_smart()"
   ]
  },
  {
   "cell_type": "markdown",
   "id": "2487b66b-2651-4ec4-bcba-5f1dce20d128",
   "metadata": {},
   "source": [
    "Oh good, they all agree. There we go, here's how to spend a bunch of extra time to get orders of magnitude faster (but also imperceptible to people) speedups in the implementation of day 7 of the 2021 advent of code challenge."
   ]
  }
 ],
 "metadata": {
  "kernelspec": {
   "display_name": "Python 3",
   "language": "python",
   "name": "python3"
  },
  "language_info": {
   "codemirror_mode": {
    "name": "ipython",
    "version": 3
   },
   "file_extension": ".py",
   "mimetype": "text/x-python",
   "name": "python",
   "nbconvert_exporter": "python",
   "pygments_lexer": "ipython3",
   "version": "3.8.8"
  }
 },
 "nbformat": 4,
 "nbformat_minor": 5
}
