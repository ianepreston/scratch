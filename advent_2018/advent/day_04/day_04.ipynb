{
 "cells": [
  {
   "cell_type": "code",
   "execution_count": 1,
   "metadata": {},
   "outputs": [],
   "source": [
    "import datetime as dt\n",
    "from collections import namedtuple\n",
    "import pandas as pd"
   ]
  },
  {
   "cell_type": "code",
   "execution_count": 2,
   "metadata": {},
   "outputs": [],
   "source": [
    "InputLine = namedtuple(\"InputLine\", [\"date\", \"guard\", \"asleep\"])\n",
    "\n",
    "file = \"input.txt\"\n",
    "with open(file, \"r\") as f:\n",
    "    lines = []\n",
    "    for line in f.readlines():\n",
    "        cleaned = line.split(\"] \")\n",
    "        date_str = cleaned[0].replace(\"[\", \"\")\n",
    "        date = dt.datetime.strptime(date_str, \"%Y-%m-%d %H:%M\")\n",
    "        date = date.replace(year= date.year + 500)\n",
    "        text = cleaned[1]\n",
    "        if text.startswith(\"Guard\"):\n",
    "            guard = int(text.replace(\"Guard #\", \"\").replace(\" begins shift\", \"\"))\n",
    "        else:\n",
    "            guard = None\n",
    "        if text.startswith(\"falls asleep\"):\n",
    "            asleep = True\n",
    "        else:\n",
    "            asleep = False\n",
    "        entry = InputLine(date=date, guard=guard, asleep=asleep)\n",
    "        lines.append(entry)\n",
    "\n",
    "lines.sort()\n"
   ]
  },
  {
   "cell_type": "code",
   "execution_count": 3,
   "metadata": {},
   "outputs": [],
   "source": [
    "df = pd.DataFrame(lines).set_index(\"date\").sort_index()"
   ]
  },
  {
   "cell_type": "code",
   "execution_count": 4,
   "metadata": {},
   "outputs": [],
   "source": [
    "df.index = pd.to_datetime(df.index)"
   ]
  },
  {
   "cell_type": "code",
   "execution_count": 5,
   "metadata": {},
   "outputs": [],
   "source": [
    "new_index = pd.date_range(df.index.min(), df.index.max().replace(minute=59), freq=\"T\")"
   ]
  },
  {
   "cell_type": "code",
   "execution_count": 6,
   "metadata": {},
   "outputs": [],
   "source": [
    "reindex = df.reindex(new_index)"
   ]
  },
  {
   "cell_type": "code",
   "execution_count": 7,
   "metadata": {},
   "outputs": [],
   "source": [
    "drop_hours = reindex.fillna(method=\"ffill\").loc[reindex.index.hour < 1].copy()"
   ]
  },
  {
   "cell_type": "code",
   "execution_count": 8,
   "metadata": {},
   "outputs": [],
   "source": [
    "max_guard = int(drop_hours.groupby(\"guard\").sum().idxmax())"
   ]
  },
  {
   "cell_type": "code",
   "execution_count": 9,
   "metadata": {},
   "outputs": [],
   "source": [
    "find_minute = drop_hours.reset_index().loc[lambda anything: anything[\"guard\"] == max_guard]\n",
    "find_minute[\"minute\"] = find_minute[\"index\"].dt.minute\n",
    "max_minute = int(find_minute.groupby(\"minute\").agg({\"asleep\": \"sum\"}).idxmax())"
   ]
  },
  {
   "cell_type": "code",
   "execution_count": 10,
   "metadata": {},
   "outputs": [],
   "source": [
    "answer = max_guard * max_minute"
   ]
  },
  {
   "cell_type": "code",
   "execution_count": 11,
   "metadata": {},
   "outputs": [
    {
     "data": {
      "text/plain": [
       "102688"
      ]
     },
     "execution_count": 11,
     "metadata": {},
     "output_type": "execute_result"
    }
   ],
   "source": [
    "answer"
   ]
  },
  {
   "cell_type": "code",
   "execution_count": 12,
   "metadata": {},
   "outputs": [],
   "source": [
    "df = drop_hours.copy()"
   ]
  },
  {
   "cell_type": "code",
   "execution_count": 13,
   "metadata": {},
   "outputs": [],
   "source": [
    "df['minute'] = df.index.minute\n",
    "df['ones'] = 1\n",
    "df = df.loc[df[\"asleep\"]].copy()"
   ]
  },
  {
   "cell_type": "code",
   "execution_count": 14,
   "metadata": {},
   "outputs": [
    {
     "data": {
      "text/html": [
       "<div>\n",
       "<style scoped>\n",
       "    .dataframe tbody tr th:only-of-type {\n",
       "        vertical-align: middle;\n",
       "    }\n",
       "\n",
       "    .dataframe tbody tr th {\n",
       "        vertical-align: top;\n",
       "    }\n",
       "\n",
       "    .dataframe thead th {\n",
       "        text-align: right;\n",
       "    }\n",
       "</style>\n",
       "<table border=\"1\" class=\"dataframe\">\n",
       "  <thead>\n",
       "    <tr style=\"text-align: right;\">\n",
       "      <th></th>\n",
       "      <th>guard</th>\n",
       "      <th>asleep</th>\n",
       "      <th>minute</th>\n",
       "      <th>ones</th>\n",
       "    </tr>\n",
       "  </thead>\n",
       "  <tbody>\n",
       "    <tr>\n",
       "      <th>2018-03-03 00:42:00</th>\n",
       "      <td>947.0</td>\n",
       "      <td>True</td>\n",
       "      <td>42</td>\n",
       "      <td>1</td>\n",
       "    </tr>\n",
       "    <tr>\n",
       "      <th>2018-03-03 00:43:00</th>\n",
       "      <td>947.0</td>\n",
       "      <td>True</td>\n",
       "      <td>43</td>\n",
       "      <td>1</td>\n",
       "    </tr>\n",
       "    <tr>\n",
       "      <th>2018-03-03 00:44:00</th>\n",
       "      <td>947.0</td>\n",
       "      <td>True</td>\n",
       "      <td>44</td>\n",
       "      <td>1</td>\n",
       "    </tr>\n",
       "    <tr>\n",
       "      <th>2018-03-03 00:45:00</th>\n",
       "      <td>947.0</td>\n",
       "      <td>True</td>\n",
       "      <td>45</td>\n",
       "      <td>1</td>\n",
       "    </tr>\n",
       "    <tr>\n",
       "      <th>2018-03-03 00:46:00</th>\n",
       "      <td>947.0</td>\n",
       "      <td>True</td>\n",
       "      <td>46</td>\n",
       "      <td>1</td>\n",
       "    </tr>\n",
       "  </tbody>\n",
       "</table>\n",
       "</div>"
      ],
      "text/plain": [
       "                     guard  asleep  minute  ones\n",
       "2018-03-03 00:42:00  947.0    True      42     1\n",
       "2018-03-03 00:43:00  947.0    True      43     1\n",
       "2018-03-03 00:44:00  947.0    True      44     1\n",
       "2018-03-03 00:45:00  947.0    True      45     1\n",
       "2018-03-03 00:46:00  947.0    True      46     1"
      ]
     },
     "execution_count": 14,
     "metadata": {},
     "output_type": "execute_result"
    }
   ],
   "source": [
    "df.head()"
   ]
  },
  {
   "cell_type": "code",
   "execution_count": 15,
   "metadata": {},
   "outputs": [],
   "source": [
    "piv = pd.pivot_table(df, index=\"minute\", columns=\"guard\", values=\"ones\", aggfunc=\"count\").fillna(0)"
   ]
  },
  {
   "cell_type": "code",
   "execution_count": 16,
   "metadata": {},
   "outputs": [
    {
     "data": {
      "text/plain": [
       "guard\n",
       "113.0      8.0\n",
       "389.0     15.0\n",
       "409.0      6.0\n",
       "449.0     14.0\n",
       "557.0      9.0\n",
       "601.0      4.0\n",
       "739.0      6.0\n",
       "877.0     11.0\n",
       "947.0     12.0\n",
       "1033.0     6.0\n",
       "1237.0     5.0\n",
       "1307.0    11.0\n",
       "1459.0    18.0\n",
       "1559.0    11.0\n",
       "1811.0     9.0\n",
       "2647.0    10.0\n",
       "3067.0    10.0\n",
       "3209.0    14.0\n",
       "3217.0    14.0\n",
       "3271.0    14.0\n",
       "dtype: float64"
      ]
     },
     "execution_count": 16,
     "metadata": {},
     "output_type": "execute_result"
    }
   ],
   "source": [
    "piv.max()"
   ]
  },
  {
   "cell_type": "code",
   "execution_count": 17,
   "metadata": {},
   "outputs": [],
   "source": [
    "max_guard = piv.max().idxmax()"
   ]
  },
  {
   "cell_type": "code",
   "execution_count": 18,
   "metadata": {},
   "outputs": [
    {
     "data": {
      "text/plain": [
       "guard\n",
       "113.0     35\n",
       "389.0     46\n",
       "409.0     44\n",
       "449.0     45\n",
       "557.0     22\n",
       "601.0     36\n",
       "739.0     46\n",
       "877.0     29\n",
       "947.0     24\n",
       "1033.0    17\n",
       "1237.0    52\n",
       "1307.0    40\n",
       "1459.0    39\n",
       "1559.0    29\n",
       "1811.0    50\n",
       "2647.0    41\n",
       "3067.0    29\n",
       "3209.0    32\n",
       "3217.0    23\n",
       "3271.0    32\n",
       "dtype: int64"
      ]
     },
     "execution_count": 18,
     "metadata": {},
     "output_type": "execute_result"
    }
   ],
   "source": [
    "piv.idxmax()"
   ]
  },
  {
   "cell_type": "code",
   "execution_count": 19,
   "metadata": {},
   "outputs": [],
   "source": [
    "max_minute = piv.idxmax().loc[max_guard]"
   ]
  },
  {
   "cell_type": "code",
   "execution_count": 20,
   "metadata": {},
   "outputs": [],
   "source": [
    "answer = max_guard * max_minute"
   ]
  },
  {
   "cell_type": "code",
   "execution_count": 21,
   "metadata": {},
   "outputs": [
    {
     "data": {
      "text/plain": [
       "56901.0"
      ]
     },
     "execution_count": 21,
     "metadata": {},
     "output_type": "execute_result"
    }
   ],
   "source": [
    "answer"
   ]
  },
  {
   "cell_type": "code",
   "execution_count": null,
   "metadata": {},
   "outputs": [],
   "source": []
  }
 ],
 "metadata": {
  "kernelspec": {
   "display_name": "Python 3",
   "language": "python",
   "name": "python3"
  },
  "language_info": {
   "codemirror_mode": {
    "name": "ipython",
    "version": 3
   },
   "file_extension": ".py",
   "mimetype": "text/x-python",
   "name": "python",
   "nbconvert_exporter": "python",
   "pygments_lexer": "ipython3",
   "version": "3.7.3"
  }
 },
 "nbformat": 4,
 "nbformat_minor": 4
}
