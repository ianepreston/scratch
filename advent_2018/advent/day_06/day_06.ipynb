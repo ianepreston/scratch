{
 "cells": [
  {
   "cell_type": "code",
   "execution_count": null,
   "metadata": {},
   "outputs": [],
   "source": [
    "from itertools import product\n",
    "import math\n",
    "import pandas as pd\n",
    "from IPython.display import display, Markdown\n",
    "pd.options.display.max_rows = 999\n",
    "INPUT = \"input.TXT\"\n",
    "EXAMPLE = \"example.txt\""
   ]
  },
  {
   "cell_type": "code",
   "execution_count": null,
   "metadata": {},
   "outputs": [],
   "source": [
    "def printm(in_str):\n",
    "    \"\"\"Helper function to output strings as markdown\"\"\"\n",
    "    display(Markdown(in_str))"
   ]
  },
  {
   "cell_type": "code",
   "execution_count": null,
   "metadata": {},
   "outputs": [],
   "source": [
    "def read_points(filename):\n",
    "    \"\"\"Input is just a comma separated text file, so we can read it in using read_csv\n",
    "    \n",
    "    Parameters\n",
    "    ----------\n",
    "    filename: str or Path\n",
    "        file containing comma separated coordinates to be read in\n",
    "    \n",
    "    Returns\n",
    "    -------\n",
    "    df: DataFrame\n",
    "        Dataframe with columns corresponding to x and y coordinates\n",
    "    \"\"\"\n",
    "    df = pd.read_csv(filename, sep=\",\", header=None, names=[\"x\", \"y\"])\n",
    "    return df"
   ]
  },
  {
   "cell_type": "code",
   "execution_count": null,
   "metadata": {},
   "outputs": [],
   "source": [
    "def find_corners(points):\n",
    "    \"\"\"lower left and upper right of the space we're considering\n",
    "    \n",
    "    Parameters\n",
    "    ----------\n",
    "    points: DataFrame\n",
    "        Dataframe with columns corresponding to x and y coordinates\n",
    "    \n",
    "    Returns\n",
    "    -------\n",
    "    (point_min, point_max): tuple of x,y coordinates\n",
    "    \"\"\"\n",
    "    point_min = points[\"x\"].min(), points[\"y\"].min()\n",
    "    point_max = points[\"x\"].max(), points[\"y\"].max()\n",
    "    return point_min, point_max"
   ]
  },
  {
   "cell_type": "code",
   "execution_count": null,
   "metadata": {},
   "outputs": [],
   "source": [
    "def search_space(points):\n",
    "    \"\"\"Search space is all points within the rectangle encompassing all\n",
    "    of our candidate points\n",
    "    Parameters\n",
    "    ----------\n",
    "    points: DataFrame\n",
    "        Dataframe with columns corresponding to x and y coordinates\n",
    "    \n",
    "    Returns\n",
    "    -------\n",
    "    df: DataFrame\n",
    "        Dataframe with columns corresponding to x and y coordinates\n",
    "        also has a boolean column which indicates if a point is at\n",
    "        the boundary of the search space\n",
    "    \"\"\"\n",
    "    point_min, point_max = find_corners(points)\n",
    "    x_min = point_min[0]\n",
    "    x_max = point_max[0]\n",
    "    y_min = point_min[1]\n",
    "    y_max = point_max[1]\n",
    "    xrange = range(x_min, x_max + 1)\n",
    "    yrange = range(y_min, y_max + 1)\n",
    "    df = pd.DataFrame(index=pd.MultiIndex.from_product([xrange, yrange], names=[\"x\", \"y\"])).reset_index()\n",
    "    boundary_mask = df[\"x\"].isin([x_min, x_max]) | df[\"y\"].isin([y_min, y_max])\n",
    "    df[\"boundary\"] = False\n",
    "    df.loc[boundary_mask, \"boundary\"] = True\n",
    "    return df"
   ]
  },
  {
   "cell_type": "code",
   "execution_count": null,
   "metadata": {},
   "outputs": [],
   "source": [
    "def find_distance(df, x, y):\n",
    "    \"\"\"Calculate the manhatten distance to a point\n",
    "    \n",
    "    Parameters\n",
    "    ----------\n",
    "    df: DataFrame\n",
    "        Dataframe with columns corresponding to x and y coordinates\n",
    "    x: int\n",
    "        x coordinate of the point to calculate distance to for every point in the dataframe\n",
    "    y: int\n",
    "        y coordinate of the point to calculate distance to for every point in the dataframe\n",
    "    \n",
    "    Returns\n",
    "    pd.Series:\n",
    "        Series of the same length as df, with values corresponding to the distance to the x,y coordinate\n",
    "    \"\"\"\n",
    "    df[(x, y)] = abs(df[\"x\"] - x) + abs(df[\"y\"] - y)\n",
    "    return df[(x, y)]\n"
   ]
  },
  {
   "cell_type": "code",
   "execution_count": null,
   "metadata": {},
   "outputs": [],
   "source": [
    "def solution_part1(search_space, candidates):\n",
    "    \"\"\"Solve the puzzle\n",
    "    \n",
    "    Calculate the manhatten distance to each candidate for all points in the search space\n",
    "    Compute the minimum distance from all the candidate points to each point in the search space\n",
    "    Eliminate points that are an equal minimum distance to more than one candidate point\n",
    "    Drop any candidate points that are closest to any boundary point\n",
    "    Total the number of points in the search space the remaining candidates are closest to\n",
    "    Return the maximum point\n",
    "    \"\"\"\n",
    "    df = search_space.copy()\n",
    "    for x, y in candidates.values:\n",
    "        df[str((x, y))] = find_distance(search_space, x, y)\n",
    "    df[\"min_dist\"] = df.drop(columns=[\"x\", \"y\", \"boundary\"]).min(axis=\"columns\")\n",
    "    candidate_cols = df.drop(columns=[\"x\", \"y\", \"boundary\", \"min_dist\"]).columns\n",
    "    for col in candidate_cols:\n",
    "        df[col] = df[col] == df[\"min_dist\"]\n",
    "    df[\"num_mins\"] = df[candidate_cols].sum(axis=\"columns\")\n",
    "    mask = df[\"num_mins\"] == 1\n",
    "    df = df.loc[mask].copy()\n",
    "    for col in candidate_cols:\n",
    "        if df.loc[df[\"boundary\"], col].sum() > 0:\n",
    "            df = df.drop(columns=[col])\n",
    "    candidate_cols = df.drop(columns=[\"x\", \"y\", \"boundary\", \"min_dist\", \"num_mins\"]).columns\n",
    "    result = df[candidate_cols].sum().max()              \n",
    "    return result"
   ]
  },
  {
   "cell_type": "code",
   "execution_count": null,
   "metadata": {},
   "outputs": [],
   "source": [
    "points = read_points(EXAMPLE)\n",
    "ssdf = search_space(points)\n",
    "solution_part1(ssdf, points)"
   ]
  },
  {
   "cell_type": "code",
   "execution_count": null,
   "metadata": {},
   "outputs": [],
   "source": [
    "points = read_points(INPUT)\n",
    "ssdf = search_space(points)"
   ]
  },
  {
   "cell_type": "code",
   "execution_count": null,
   "metadata": {},
   "outputs": [],
   "source": [
    "def find_distance(df, x, y):\n",
    "    \"\"\"Calculate the manhatten distance to a point\n",
    "    \n",
    "    Parameters\n",
    "    ----------\n",
    "    df: DataFrame\n",
    "        Dataframe with columns corresponding to x and y coordinates\n",
    "    x: int\n",
    "        x coordinate of the point to calculate distance to for every point in the dataframe\n",
    "    y: int\n",
    "        y coordinate of the point to calculate distance to for every point in the dataframe\n",
    "    \n",
    "    Returns\n",
    "    pd.Series:\n",
    "        Series of the same length as df, with values corresponding to the distance to the x,y coordinate\n",
    "    \"\"\"\n",
    "    return abs(df[\"x\"] - x) + abs(df[\"y\"] - y)"
   ]
  },
  {
   "cell_type": "code",
   "execution_count": null,
   "metadata": {},
   "outputs": [],
   "source": [
    "ssdf[\"total_dist\"] = 0\n",
    "for x, y in points.values:\n",
    "    ssdf[\"total_dist\"] += find_distance(ssdf, x, y)"
   ]
  },
  {
   "cell_type": "code",
   "execution_count": null,
   "metadata": {},
   "outputs": [],
   "source": [
    "ssdf.loc[ssdf[\"total_dist\"] < 10_000].shape[0]"
   ]
  },
  {
   "cell_type": "markdown",
   "metadata": {},
   "source": [
    "Should really clean up the part 2 solution but we were pressed for time"
   ]
  },
  {
   "cell_type": "code",
   "execution_count": null,
   "metadata": {},
   "outputs": [],
   "source": []
  }
 ],
 "metadata": {
  "kernelspec": {
   "display_name": "Python 3",
   "language": "python",
   "name": "python3"
  },
  "language_info": {
   "codemirror_mode": {
    "name": "ipython",
    "version": 3
   },
   "file_extension": ".py",
   "mimetype": "text/x-python",
   "name": "python",
   "nbconvert_exporter": "python",
   "pygments_lexer": "ipython3",
   "version": "3.7.3"
  }
 },
 "nbformat": 4,
 "nbformat_minor": 4
}
