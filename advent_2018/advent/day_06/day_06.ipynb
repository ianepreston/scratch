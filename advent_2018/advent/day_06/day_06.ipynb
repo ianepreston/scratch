{
 "cells": [
  {
   "cell_type": "code",
   "execution_count": null,
   "metadata": {},
   "outputs": [],
   "source": [
    "from itertools import product\n",
    "from collections import namedtuple, OrderedDict\n",
    "import math\n",
    "import pandas as pd"
   ]
  },
  {
   "cell_type": "code",
   "execution_count": null,
   "metadata": {},
   "outputs": [],
   "source": [
    "Point = namedtuple('Point', ['x', 'y'])"
   ]
  },
  {
   "cell_type": "code",
   "execution_count": null,
   "metadata": {},
   "outputs": [],
   "source": [
    "def manhattan_distance(point_1, point_2):\n",
    "    x_dist = abs(point_1.x - point_2.x)\n",
    "    y_dist = abs(point_1.y - point_2.y)\n",
    "    return x_dist + y_dist"
   ]
  },
  {
   "cell_type": "code",
   "execution_count": null,
   "metadata": {},
   "outputs": [],
   "source": [
    "def read_points(filename):\n",
    "    points = []\n",
    "    with open(filename, \"r\") as f:\n",
    "        for line in f.readlines():\n",
    "            split_line = line.split(\", \")\n",
    "            points.append(Point(int(split_line[0]), int(split_line[1])))\n",
    "    df = pd.DataFrame(points)\n",
    "    return df"
   ]
  },
  {
   "cell_type": "code",
   "execution_count": null,
   "metadata": {},
   "outputs": [],
   "source": [
    "def find_corners(points):\n",
    "#     points.sort(key=lambda point: point.x)\n",
    "    x_min = points[\"x\"].min()#points[0].x\n",
    "    x_max = points[\"x\"].max()#points[-1].x\n",
    "#     points.sort(key=lambda point: point.y)\n",
    "    y_min = points[\"y\"].min()#points[0].y\n",
    "    y_max = points[\"y\"].max()#points[-1].y\n",
    "    point_min = Point(x_min, y_min)\n",
    "    point_max = Point(x_max, y_max)\n",
    "    return (point_min, point_max)"
   ]
  },
  {
   "cell_type": "code",
   "execution_count": null,
   "metadata": {},
   "outputs": [],
   "source": [
    "def find_boundaries(corners):\n",
    "    point_min, point_max = corners\n",
    "    x_min = point_min.x\n",
    "    x_max = point_max.x\n",
    "    y_min = point_min.y\n",
    "    y_max = point_max.y\n",
    "    boundaries = []\n",
    "    for x in range(x_min, x_max + 1):\n",
    "        boundaries.append(Point(x, y_max))\n",
    "        boundaries.append(Point(x, y_min))\n",
    "    for y in range(y_min, y_max + 1):\n",
    "        boundaries.append(Point(x_min, y))\n",
    "        boundaries.append(Point(x_max, y))\n",
    "    return pd.DataFrame(boundaries)"
   ]
  },
  {
   "cell_type": "code",
   "execution_count": null,
   "metadata": {},
   "outputs": [],
   "source": [
    "def find_closest(point, points):\n",
    "    distances = [{\"x\": candidate_point.x, \"y\": candidate_point.y, \"dist\": manhattan_distance(point, candidate_point)} for candidate_point in points]\n",
    "    df = pd.DataFrame(distances).sort_values(by=\"dist\")\n",
    "    if df.iloc[0][\"dist\"] == df.iloc[1][\"dist\"]:\n",
    "        return None\n",
    "    else:\n",
    "        return Point(df.iloc[0][\"x\"], df.iloc[0][\"y\"])"
   ]
  },
  {
   "cell_type": "code",
   "execution_count": null,
   "metadata": {},
   "outputs": [],
   "source": [
    "def all_points(corners):\n",
    "    point_min, point_max = corners\n",
    "    x_min = point_min.x\n",
    "    x_max = point_max.x\n",
    "    y_min = point_min.y\n",
    "    y_max = point_max.y\n",
    "    xrange = list(range(x_min, x_max + 1))\n",
    "    yrange = list(range(y_min, y_max + 1))\n",
    "    all_points = pd.DataFrame(Point(x, y) for x, y in product(xrange, yrange))\n",
    "    return all_points"
   ]
  },
  {
   "cell_type": "code",
   "execution_count": null,
   "metadata": {},
   "outputs": [],
   "source": [
    "all_candidate_points = read_points(\"example.txt\")\n",
    "corners = find_corners(all_candidate_points)\n",
    "boundaries = find_boundaries(corners)\n",
    "everywhere = all_points(corners)"
   ]
  },
  {
   "cell_type": "code",
   "execution_count": null,
   "metadata": {},
   "outputs": [],
   "source": [
    "everywhere"
   ]
  },
  {
   "cell_type": "code",
   "execution_count": null,
   "metadata": {},
   "outputs": [],
   "source": []
  }
 ],
 "metadata": {
  "kernelspec": {
   "display_name": "Python 3",
   "language": "python",
   "name": "python3"
  },
  "language_info": {
   "codemirror_mode": {
    "name": "ipython",
    "version": 3
   },
   "file_extension": ".py",
   "mimetype": "text/x-python",
   "name": "python",
   "nbconvert_exporter": "python",
   "pygments_lexer": "ipython3",
   "version": "3.7.3"
  }
 },
 "nbformat": 4,
 "nbformat_minor": 4
}
