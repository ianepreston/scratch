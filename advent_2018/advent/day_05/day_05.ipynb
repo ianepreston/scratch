{
 "cells": [
  {
   "cell_type": "markdown",
   "metadata": {},
   "source": [
    "# Advent of Code 2018\n",
    "## Day 5\n",
    "Polymer reactions and performance testing"
   ]
  },
  {
   "cell_type": "code",
   "execution_count": 1,
   "metadata": {},
   "outputs": [],
   "source": [
    "import numpy as np\n",
    "import numba"
   ]
  },
  {
   "cell_type": "markdown",
   "metadata": {},
   "source": [
    "### Read in the file\n",
    "\n",
    "We'll test a number of ways of loading in the string from the text file and converting it to a list (or array) of characters"
   ]
  },
  {
   "cell_type": "markdown",
   "metadata": {},
   "source": [
    "The first one we came up with during the lunch and learn:"
   ]
  },
  {
   "cell_type": "code",
   "execution_count": 2,
   "metadata": {},
   "outputs": [],
   "source": [
    "def read_input_original(filename):\n",
    "    char_list = []\n",
    "    with open(filename, \"r\") as file:\n",
    "        for line in file:\n",
    "            for char in line:\n",
    "                char_list.append(char)\n",
    "    return char_list"
   ]
  },
  {
   "cell_type": "code",
   "execution_count": 3,
   "metadata": {},
   "outputs": [
    {
     "name": "stdout",
     "output_type": "stream",
     "text": [
      "3.4 ms ± 53.5 µs per loop (mean ± std. dev. of 7 runs, 100 loops each)\n"
     ]
    }
   ],
   "source": [
    "%timeit read_input_original(\"input.txt\")"
   ]
  },
  {
   "cell_type": "markdown",
   "metadata": {},
   "source": [
    "Ok, benchmark performance is set. There's a fair bit of code and it's easy to follow, but it's not very pythonic and I bet I can make it faster"
   ]
  },
  {
   "cell_type": "code",
   "execution_count": 4,
   "metadata": {},
   "outputs": [],
   "source": [
    "def read_input_comprehension(filename):\n",
    "    with open(filename, \"r\") as file:\n",
    "        char_list = [char for line in file for char in line]\n",
    "    return char_list"
   ]
  },
  {
   "cell_type": "code",
   "execution_count": 5,
   "metadata": {},
   "outputs": [
    {
     "name": "stdout",
     "output_type": "stream",
     "text": [
      "1.89 ms ± 121 µs per loop (mean ± std. dev. of 7 runs, 1000 loops each)\n"
     ]
    }
   ],
   "source": [
    "%timeit read_input_comprehension(\"input.txt\")"
   ]
  },
  {
   "cell_type": "markdown",
   "metadata": {},
   "source": [
    "The list comprehension is a bit less readable, since you have to work backwards, we want the character, for each line in the file, for each character in the line.\n",
    "On the plus side it's pythonic and it's over twice as fast as the first implementation"
   ]
  },
  {
   "cell_type": "code",
   "execution_count": 6,
   "metadata": {},
   "outputs": [],
   "source": [
    "def read_input_np(filename):\n",
    "    in_str = np.array(list(np.loadtxt(filename, dtype=np.unicode_).tolist()))\n",
    "    return in_str"
   ]
  },
  {
   "cell_type": "code",
   "execution_count": 7,
   "metadata": {},
   "outputs": [
    {
     "name": "stdout",
     "output_type": "stream",
     "text": [
      "5.89 ms ± 705 µs per loop (mean ± std. dev. of 7 runs, 100 loops each)\n"
     ]
    }
   ],
   "source": [
    "%timeit read_input_np(\"input.txt\")"
   ]
  },
  {
   "cell_type": "markdown",
   "metadata": {},
   "source": [
    "I suspect that doing the actual analysis will end up faster if I can work with numpy arrays rather than python lists.\n",
    "This works, but I don't like it. It's slow, and the nested function calls are hard to read."
   ]
  },
  {
   "cell_type": "code",
   "execution_count": 8,
   "metadata": {},
   "outputs": [],
   "source": [
    "def read_input_easy_np(filename):\n",
    "    with open(filename, \"r\") as file:\n",
    "        in_str = [line for line in file][0]\n",
    "    char_arr = np.array(list(in_str))\n",
    "    return char_arr"
   ]
  },
  {
   "cell_type": "code",
   "execution_count": 9,
   "metadata": {},
   "outputs": [
    {
     "name": "stdout",
     "output_type": "stream",
     "text": [
      "4.31 ms ± 178 µs per loop (mean ± std. dev. of 7 runs, 100 loops each)\n"
     ]
    }
   ],
   "source": [
    "%timeit read_input_easy_np(\"input.txt\")"
   ]
  },
  {
   "cell_type": "markdown",
   "metadata": {},
   "source": [
    "This is a little faster, which is interesting since it's using less numpy. It's pretty readable, and it's faster than the first numpy attempt, but it's still not as fast as even the first implementation"
   ]
  },
  {
   "cell_type": "code",
   "execution_count": 10,
   "metadata": {},
   "outputs": [],
   "source": [
    "def read_input_final_np(filename):\n",
    "    with open(filename, \"r\") as file:\n",
    "        char_list = [char for line in file for char in line]\n",
    "    char_arr = np.array(char_list)\n",
    "    return char_arr        "
   ]
  },
  {
   "cell_type": "code",
   "execution_count": 11,
   "metadata": {},
   "outputs": [
    {
     "name": "stdout",
     "output_type": "stream",
     "text": [
      "4.96 ms ± 227 µs per loop (mean ± std. dev. of 7 runs, 100 loops each)\n"
     ]
    }
   ],
   "source": [
    "%timeit read_input_final_np(\"input.txt\")"
   ]
  },
  {
   "cell_type": "markdown",
   "metadata": {},
   "source": [
    "This one's the same as the fast implementation, except I convert the list to a numpy array. It's still slow, so it seems like converting to numpy is the slow part.\n",
    "It's a little slower than easy_np, but it doesn't rely on there only being one line in the file, which is nice"
   ]
  },
  {
   "cell_type": "markdown",
   "metadata": {},
   "source": [
    "### Character comparison\n",
    "\n",
    "The next thing we need to be able to do is compare two characters and determine if they react."
   ]
  },
  {
   "cell_type": "markdown",
   "metadata": {},
   "source": [
    "Do some setup code"
   ]
  },
  {
   "cell_type": "code",
   "execution_count": 12,
   "metadata": {},
   "outputs": [],
   "source": [
    "# Set our fast read input as an easy name to use further\n",
    "read_input = read_input_comprehension"
   ]
  },
  {
   "cell_type": "code",
   "execution_count": 13,
   "metadata": {},
   "outputs": [],
   "source": [
    "# Helper function to compare results\n",
    "def test_comparison(comp_func):\n",
    "    char_list = read_input(\"input.txt\")\n",
    "    for i in range(1, len(char_list)):\n",
    "        comp_func(char_list[i - 1], char_list[i])\n",
    "    return True"
   ]
  },
  {
   "cell_type": "markdown",
   "metadata": {},
   "source": [
    "Here's the method we defined at lunch"
   ]
  },
  {
   "cell_type": "code",
   "execution_count": 14,
   "metadata": {},
   "outputs": [],
   "source": [
    "def compare_characters_original(char1, char2):\n",
    "    if (char1.upper() == char2.upper()) & (char1.isupper() != char2.isupper()):\n",
    "        return True\n",
    "    return False"
   ]
  },
  {
   "cell_type": "code",
   "execution_count": 15,
   "metadata": {},
   "outputs": [
    {
     "name": "stdout",
     "output_type": "stream",
     "text": [
      "21.5 ms ± 887 µs per loop (mean ± std. dev. of 7 runs, 10 loops each)\n"
     ]
    }
   ],
   "source": [
    "%timeit test_comparison(compare_characters_original)"
   ]
  },
  {
   "cell_type": "markdown",
   "metadata": {},
   "source": [
    "During lunch we figured there would be more characters of different case than there would be the same letters, so the comparison should be faster with the more restrictive condition first, let's test that"
   ]
  },
  {
   "cell_type": "code",
   "execution_count": 16,
   "metadata": {},
   "outputs": [],
   "source": [
    "def compare_characters_diff_order(char1, char2):\n",
    "    if (char1.isupper() != char2.isupper()) & (char1.upper() == char2.upper()):\n",
    "        return True\n",
    "    return False"
   ]
  },
  {
   "cell_type": "code",
   "execution_count": 17,
   "metadata": {},
   "outputs": [
    {
     "name": "stdout",
     "output_type": "stream",
     "text": [
      "21.5 ms ± 1.06 ms per loop (mean ± std. dev. of 7 runs, 10 loops each)\n"
     ]
    }
   ],
   "source": [
    "%timeit test_comparison(compare_characters_diff_order)"
   ]
  },
  {
   "cell_type": "markdown",
   "metadata": {},
   "source": [
    "Ok, a little slower, but not material, what if we explicitly nest it?"
   ]
  },
  {
   "cell_type": "code",
   "execution_count": 18,
   "metadata": {},
   "outputs": [],
   "source": [
    "def compare_characters_fast_exit(char1, char2):\n",
    "    if char1.upper() != char2.upper():\n",
    "        return False\n",
    "    elif char1.isupper() == char2.isupper():\n",
    "        return False\n",
    "    return True"
   ]
  },
  {
   "cell_type": "code",
   "execution_count": 19,
   "metadata": {},
   "outputs": [
    {
     "name": "stdout",
     "output_type": "stream",
     "text": [
      "17.1 ms ± 153 µs per loop (mean ± std. dev. of 7 runs, 100 loops each)\n"
     ]
    }
   ],
   "source": [
    "%timeit test_comparison(compare_characters_fast_exit)"
   ]
  },
  {
   "cell_type": "markdown",
   "metadata": {},
   "source": [
    "Ok, that's a lot less readable, but it is a little faster. It's generally a bad idea to return early in a function. It doesn't matter too much in a small function like this, but in a larger one it can make it much harder to interpret. Not a good habit to get in, although taking 75% of the time is pretty nice. Let's see if we can do better"
   ]
  },
  {
   "cell_type": "code",
   "execution_count": 20,
   "metadata": {},
   "outputs": [],
   "source": [
    "def compare_characters(char1, char2):\n",
    "    if (char1.upper() == char2.upper()) & (char1 != char2):\n",
    "        return True\n",
    "    else:\n",
    "        return False"
   ]
  },
  {
   "cell_type": "code",
   "execution_count": 21,
   "metadata": {},
   "outputs": [
    {
     "name": "stdout",
     "output_type": "stream",
     "text": [
      "17.4 ms ± 347 µs per loop (mean ± std. dev. of 7 runs, 100 loops each)\n"
     ]
    }
   ],
   "source": [
    "%timeit test_comparison(compare_characters)"
   ]
  },
  {
   "cell_type": "markdown",
   "metadata": {},
   "source": [
    "Ok, that's in between. As readable as the first implementation, but a little faster. We'll go with that."
   ]
  },
  {
   "cell_type": "markdown",
   "metadata": {},
   "source": [
    "### The full algorithm\n",
    "\n",
    "This is the part that's actually quite slow. Let's see if we can speed it up"
   ]
  },
  {
   "cell_type": "markdown",
   "metadata": {},
   "source": [
    "First we make some helper functions"
   ]
  },
  {
   "cell_type": "code",
   "execution_count": 22,
   "metadata": {},
   "outputs": [],
   "source": [
    "def validate_method(compression_func):\n",
    "    \"\"\"Read in the example text and make sure it gives the result you want\"\"\"\n",
    "    eg_list = read_input(\"example.txt\")\n",
    "    result_list = compression_func(eg_list)\n",
    "    result = len(result_list)\n",
    "    assert result == 10\n",
    "    return True"
   ]
  },
  {
   "cell_type": "code",
   "execution_count": 23,
   "metadata": {},
   "outputs": [],
   "source": [
    "def run_full_method(compression_func):\n",
    "    full_list = read_input(\"input.txt\")\n",
    "    answer = len(compression_func(full_list))\n",
    "    return answer"
   ]
  },
  {
   "cell_type": "markdown",
   "metadata": {},
   "source": [
    "Here's the original method:"
   ]
  },
  {
   "cell_type": "code",
   "execution_count": 24,
   "metadata": {},
   "outputs": [],
   "source": [
    "def compress_polymer_method_1(input_list):\n",
    "    polymers_removed = 1\n",
    "    while polymers_removed > 0:\n",
    "        polymers_removed = 0\n",
    "        for i in range(len(input_list) - 1):\n",
    "            if i >= len(input_list) - 1:\n",
    "                break\n",
    "            if compare_characters(input_list[i], input_list[i + 1]):\n",
    "                input_list.pop(i)\n",
    "                input_list.pop(i)\n",
    "                polymers_removed += 1\n",
    "    return input_list"
   ]
  },
  {
   "cell_type": "code",
   "execution_count": 25,
   "metadata": {},
   "outputs": [
    {
     "data": {
      "text/plain": [
       "True"
      ]
     },
     "execution_count": 25,
     "metadata": {},
     "output_type": "execute_result"
    }
   ],
   "source": [
    "validate_method(compress_polymer_method_1)"
   ]
  },
  {
   "cell_type": "code",
   "execution_count": 26,
   "metadata": {},
   "outputs": [
    {
     "name": "stdout",
     "output_type": "stream",
     "text": [
      "7.32 s ± 110 ms per loop (mean ± std. dev. of 7 runs, 1 loop each)\n"
     ]
    }
   ],
   "source": [
    "%timeit run_full_method(compress_polymer_method_1)"
   ]
  },
  {
   "cell_type": "markdown",
   "metadata": {},
   "source": [
    "Ok, that's a pretty slow speed to beat, let's try and get it faster"
   ]
  },
  {
   "cell_type": "code",
   "execution_count": 27,
   "metadata": {},
   "outputs": [],
   "source": [
    "def compress_polymer_method_2(input_list):\n",
    "    i = 0\n",
    "    while i < len(input_list) - 1:\n",
    "        if compare_characters(input_list[i], input_list[i + 1]):\n",
    "            input_list.pop(i)\n",
    "            input_list.pop(i)\n",
    "            if i != 0:\n",
    "                i -= 1\n",
    "        else:\n",
    "            i += 1\n",
    "    return input_list"
   ]
  },
  {
   "cell_type": "code",
   "execution_count": 28,
   "metadata": {},
   "outputs": [
    {
     "data": {
      "text/plain": [
       "True"
      ]
     },
     "execution_count": 28,
     "metadata": {},
     "output_type": "execute_result"
    }
   ],
   "source": [
    "validate_method(compress_polymer_method_2)"
   ]
  },
  {
   "cell_type": "code",
   "execution_count": 29,
   "metadata": {},
   "outputs": [
    {
     "name": "stdout",
     "output_type": "stream",
     "text": [
      "221 ms ± 7.64 ms per loop (mean ± std. dev. of 7 runs, 1 loop each)\n"
     ]
    }
   ],
   "source": [
    "%timeit run_full_method(compress_polymer_method_2)"
   ]
  },
  {
   "cell_type": "markdown",
   "metadata": {},
   "source": [
    "Well, that's a huge speedup already. But can we go faster?"
   ]
  },
  {
   "cell_type": "code",
   "execution_count": 30,
   "metadata": {},
   "outputs": [],
   "source": [
    "# Have to get a numpy array to do numpy stuff\n",
    "read_input = read_input_final_np"
   ]
  },
  {
   "cell_type": "markdown",
   "metadata": {},
   "source": [
    "Does doing it with a numpy array rather than a list on its own do anything for us?"
   ]
  },
  {
   "cell_type": "code",
   "execution_count": 31,
   "metadata": {},
   "outputs": [],
   "source": [
    "def compress_polymer_method_3(input_list):\n",
    "    i = 0\n",
    "    while i < len(input_list) - 1:\n",
    "        if compare_characters(input_list[i], input_list[i + 1]):\n",
    "            input_list = np.delete(input_list,[i, i+1])\n",
    "            if i != 0:\n",
    "                i -= 1\n",
    "        else:\n",
    "            i += 1\n",
    "    return input_list"
   ]
  },
  {
   "cell_type": "code",
   "execution_count": 32,
   "metadata": {},
   "outputs": [
    {
     "data": {
      "text/plain": [
       "True"
      ]
     },
     "execution_count": 32,
     "metadata": {},
     "output_type": "execute_result"
    }
   ],
   "source": [
    "validate_method(compress_polymer_method_3)"
   ]
  },
  {
   "cell_type": "code",
   "execution_count": 33,
   "metadata": {},
   "outputs": [
    {
     "name": "stdout",
     "output_type": "stream",
     "text": [
      "1.11 s ± 23.5 ms per loop (mean ± std. dev. of 7 runs, 1 loop each)\n"
     ]
    }
   ],
   "source": [
    "%timeit run_full_method(compress_polymer_method_3)"
   ]
  },
  {
   "cell_type": "markdown",
   "metadata": {},
   "source": [
    "Ooooh, counterintuitive! Numpy is slower!"
   ]
  },
  {
   "cell_type": "markdown",
   "metadata": {},
   "source": [
    "[Numba](http://numba.pydata.org/) time!"
   ]
  },
  {
   "cell_type": "code",
   "execution_count": 34,
   "metadata": {},
   "outputs": [],
   "source": [
    "@numba.jit(nopython=True)\n",
    "def compress_polymer_method_4(input_list):\n",
    "    i = 0\n",
    "    while i < len(input_list) - 1:\n",
    "        if (input_list[i].upper() == input_list[i + 1].upper()) & (input_list[i] != input_list[i + 1]):\n",
    "            input_list = np.delete(input_list,[i, i+1])\n",
    "            if i != 0:\n",
    "                i -= 1\n",
    "        else:\n",
    "            i += 1\n",
    "    return input_list"
   ]
  },
  {
   "cell_type": "code",
   "execution_count": 35,
   "metadata": {},
   "outputs": [],
   "source": [
    "# validate_method(compress_polymer_method_4)"
   ]
  },
  {
   "cell_type": "markdown",
   "metadata": {},
   "source": [
    "Ok, upon further investigation it looks like numba only helps with numeric work. I could do the work of converting the characters to a numeric representation, but nahhhhhh"
   ]
  },
  {
   "cell_type": "markdown",
   "metadata": {},
   "source": [
    "# Final fast version"
   ]
  },
  {
   "cell_type": "code",
   "execution_count": 36,
   "metadata": {},
   "outputs": [],
   "source": [
    "def compress_polymer(filename):\n",
    "    with open(filename, \"r\") as f:\n",
    "        input_str = f.read()\n",
    "    output_str = \"\"\n",
    "    for i in range(len(input_str)):\n",
    "        if len(output_str) == 0:\n",
    "            output_str += input_str[i]\n",
    "        elif compare_characters(output_str[-1], input_str[i]):\n",
    "            output_str = output_str[:-1]\n",
    "        else:\n",
    "            output_str += input_str[i]\n",
    "    return len(output_str)"
   ]
  },
  {
   "cell_type": "code",
   "execution_count": 37,
   "metadata": {},
   "outputs": [],
   "source": [
    "assert compress_polymer(\"example.txt\") == 10"
   ]
  },
  {
   "cell_type": "code",
   "execution_count": 38,
   "metadata": {},
   "outputs": [
    {
     "name": "stdout",
     "output_type": "stream",
     "text": [
      "34.8 ms ± 271 µs per loop (mean ± std. dev. of 7 runs, 10 loops each)\n"
     ]
    }
   ],
   "source": [
    "%timeit compress_polymer(\"input.txt\")"
   ]
  },
  {
   "cell_type": "code",
   "execution_count": 39,
   "metadata": {},
   "outputs": [
    {
     "data": {
      "text/plain": [
       "9060"
      ]
     },
     "execution_count": 39,
     "metadata": {},
     "output_type": "execute_result"
    }
   ],
   "source": [
    "compress_polymer(\"input.txt\")"
   ]
  },
  {
   "cell_type": "code",
   "execution_count": null,
   "metadata": {},
   "outputs": [],
   "source": []
  }
 ],
 "metadata": {
  "kernelspec": {
   "display_name": "Python 3",
   "language": "python",
   "name": "python3"
  },
  "language_info": {
   "codemirror_mode": {
    "name": "ipython",
    "version": 3
   },
   "file_extension": ".py",
   "mimetype": "text/x-python",
   "name": "python",
   "nbconvert_exporter": "python",
   "pygments_lexer": "ipython3",
   "version": "3.7.3"
  }
 },
 "nbformat": 4,
 "nbformat_minor": 4
}
