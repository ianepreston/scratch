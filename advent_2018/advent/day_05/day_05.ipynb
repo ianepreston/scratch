{
 "cells": [
  {
   "cell_type": "code",
   "execution_count": null,
   "metadata": {},
   "outputs": [],
   "source": [
    "def read_input(filename):\n",
    "    char_list = []\n",
    "    with open(filename, \"r\") as file:\n",
    "        for line in file:\n",
    "            for char in line:\n",
    "                char_list.append(char)\n",
    "    return char_list"
   ]
  },
  {
   "cell_type": "code",
   "execution_count": null,
   "metadata": {},
   "outputs": [],
   "source": [
    "def compare_characters(char1, char2):\n",
    "    if (char1.upper() == char2.upper()) & (char1.isupper() != char2.isupper()):\n",
    "        return True\n",
    "    return False"
   ]
  },
  {
   "cell_type": "markdown",
   "metadata": {},
   "source": [
    "dabAcCaCBAcCcaDA"
   ]
  },
  {
   "cell_type": "code",
   "execution_count": null,
   "metadata": {},
   "outputs": [],
   "source": [
    "def compress_polymer_method_1(input_list):\n",
    "    polymers_removed = 1\n",
    "    while polymers_removed > 0:\n",
    "        polymers_removed = 0\n",
    "        for i in range(len(input_list) - 1):\n",
    "            if i >= len(input_list) - 1:\n",
    "                break\n",
    "            if compare_characters(input_list[i], input_list[i + 1]):\n",
    "                input_list.pop(i)\n",
    "                input_list.pop(i)\n",
    "                polymers_removed += 1\n",
    "    return input_list"
   ]
  },
  {
   "cell_type": "code",
   "execution_count": null,
   "metadata": {},
   "outputs": [],
   "source": [
    "%%time\n",
    "eg_list = read_input(\"input.txt\")\n",
    "result_list = compress_polymer_method_1(eg_list)\n",
    "result = len(result_list)"
   ]
  },
  {
   "cell_type": "code",
   "execution_count": null,
   "metadata": {},
   "outputs": [],
   "source": [
    "result"
   ]
  },
  {
   "cell_type": "code",
   "execution_count": null,
   "metadata": {},
   "outputs": [],
   "source": []
  }
 ],
 "metadata": {
  "kernelspec": {
   "display_name": "Python 3",
   "language": "python",
   "name": "python3"
  },
  "language_info": {
   "codemirror_mode": {
    "name": "ipython",
    "version": 3
   },
   "file_extension": ".py",
   "mimetype": "text/x-python",
   "name": "python",
   "nbconvert_exporter": "python",
   "pygments_lexer": "ipython3",
   "version": "3.7.3"
  }
 },
 "nbformat": 4,
 "nbformat_minor": 4
}
