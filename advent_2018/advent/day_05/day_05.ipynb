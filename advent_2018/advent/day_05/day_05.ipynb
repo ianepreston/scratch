{
 "cells": [
  {
   "cell_type": "markdown",
   "metadata": {},
   "source": [
    "# Advent of Code 2018\n",
    "## Day 5\n",
    "Polymer reactions and performance testing"
   ]
  },
  {
   "cell_type": "code",
   "execution_count": null,
   "metadata": {},
   "outputs": [],
   "source": [
    "import numpy as np"
   ]
  },
  {
   "cell_type": "markdown",
   "metadata": {},
   "source": [
    "### Read in the file\n",
    "\n",
    "We'll test a number of ways of loading in the string from the text file and converting it to a list (or array) of characters"
   ]
  },
  {
   "cell_type": "markdown",
   "metadata": {},
   "source": [
    "The first one we came up with during the lunch and learn:"
   ]
  },
  {
   "cell_type": "code",
   "execution_count": null,
   "metadata": {},
   "outputs": [],
   "source": [
    "def read_input_original(filename):\n",
    "    char_list = []\n",
    "    with open(filename, \"r\") as file:\n",
    "        for line in file:\n",
    "            for char in line:\n",
    "                char_list.append(char)\n",
    "    return char_list"
   ]
  },
  {
   "cell_type": "code",
   "execution_count": null,
   "metadata": {},
   "outputs": [],
   "source": [
    "%timeit read_input_original(\"input.txt\")"
   ]
  },
  {
   "cell_type": "markdown",
   "metadata": {},
   "source": [
    "Ok, benchmark performance is set. There's a fair bit of code and it's easy to follow, but it's not very pythonic and I bet I can make it faster"
   ]
  },
  {
   "cell_type": "code",
   "execution_count": null,
   "metadata": {},
   "outputs": [],
   "source": [
    "def read_input_comprehension(filename):\n",
    "    with open(filename, \"r\") as file:\n",
    "        char_list = [char for line in file for char in line]\n",
    "    return char_list"
   ]
  },
  {
   "cell_type": "code",
   "execution_count": null,
   "metadata": {},
   "outputs": [],
   "source": [
    "%timeit read_input_comprehension(\"input.txt\")"
   ]
  },
  {
   "cell_type": "markdown",
   "metadata": {},
   "source": [
    "The list comprehension is a bit less readable, since you have to work backwards, we want the character, for each line in the file, for each character in the line.\n",
    "On the plus side it's pythonic and it's over twice as fast as the first implementation"
   ]
  },
  {
   "cell_type": "code",
   "execution_count": null,
   "metadata": {},
   "outputs": [],
   "source": [
    "def read_input_final_np(filename):\n",
    "    with open(filename, \"r\") as file:\n",
    "        char_list = [char for line in file for char in line]\n",
    "    char_arr = np.array(char_list)\n",
    "    return char_arr        "
   ]
  },
  {
   "cell_type": "code",
   "execution_count": null,
   "metadata": {},
   "outputs": [],
   "source": [
    "%timeit read_input_final_np(\"input.txt\")"
   ]
  },
  {
   "cell_type": "markdown",
   "metadata": {},
   "source": [
    "I suspect that doing the actual analysis will end up faster if I can work with numpy arrays rather than python lists.\n",
    "This works, but I don't like it. It's slow, and the nested function calls are hard to read."
   ]
  },
  {
   "cell_type": "code",
   "execution_count": null,
   "metadata": {},
   "outputs": [],
   "source": [
    "# Set our fast read input as an easy name to use further\n",
    "read_input = read_input_comprehension"
   ]
  },
  {
   "cell_type": "markdown",
   "metadata": {},
   "source": [
    "### Character comparison\n",
    "\n",
    "The next thing we need to be able to do is compare two characters and determine if they react."
   ]
  },
  {
   "cell_type": "markdown",
   "metadata": {},
   "source": [
    "Do some setup code"
   ]
  },
  {
   "cell_type": "code",
   "execution_count": null,
   "metadata": {},
   "outputs": [],
   "source": [
    "# Helper function to compare results\n",
    "def test_comparison(comp_func):\n",
    "    \"\"\"Take a function that compares characters and run it through the puzzle input\"\"\"\n",
    "    char_list = read_input(\"input.txt\")\n",
    "    for i in range(1, len(char_list)):\n",
    "        comp_func(char_list[i - 1], char_list[i])\n",
    "    return True"
   ]
  },
  {
   "cell_type": "markdown",
   "metadata": {},
   "source": [
    "Here's the method we defined at lunch"
   ]
  },
  {
   "cell_type": "code",
   "execution_count": null,
   "metadata": {},
   "outputs": [],
   "source": [
    "def compare_characters_original(char1, char2):\n",
    "    if (char1.upper() == char2.upper()) & (char1.isupper() != char2.isupper()):\n",
    "        return True\n",
    "    return False"
   ]
  },
  {
   "cell_type": "code",
   "execution_count": null,
   "metadata": {},
   "outputs": [],
   "source": [
    "%timeit test_comparison(compare_characters_original)"
   ]
  },
  {
   "cell_type": "markdown",
   "metadata": {},
   "source": [
    "During lunch we figured there would be more characters of different case than there would be the same letters, so the comparison should be faster with the more restrictive condition first, let's test that"
   ]
  },
  {
   "cell_type": "code",
   "execution_count": null,
   "metadata": {},
   "outputs": [],
   "source": [
    "def compare_characters_diff_order(char1, char2):\n",
    "    if (char1.isupper() != char2.isupper()) & (char1.upper() == char2.upper()):\n",
    "        return True\n",
    "    return False"
   ]
  },
  {
   "cell_type": "code",
   "execution_count": null,
   "metadata": {},
   "outputs": [],
   "source": [
    "%timeit test_comparison(compare_characters_diff_order)"
   ]
  },
  {
   "cell_type": "markdown",
   "metadata": {},
   "source": [
    "Pretty much the same speed, what if we explicitly nest it?"
   ]
  },
  {
   "cell_type": "code",
   "execution_count": null,
   "metadata": {},
   "outputs": [],
   "source": [
    "def compare_characters_swapcase(char1, char2):\n",
    "    return char1.swapcase() == char2"
   ]
  },
  {
   "cell_type": "code",
   "execution_count": null,
   "metadata": {},
   "outputs": [],
   "source": [
    "%timeit test_comparison(compare_characters_swapcase)"
   ]
  },
  {
   "cell_type": "code",
   "execution_count": null,
   "metadata": {},
   "outputs": [],
   "source": [
    "def compare_characters_fast_exit(char1, char2):\n",
    "    if char1.upper() != char2.upper():\n",
    "        return False\n",
    "    elif char1.isupper() == char2.isupper():\n",
    "        return False\n",
    "    return True"
   ]
  },
  {
   "cell_type": "code",
   "execution_count": null,
   "metadata": {},
   "outputs": [],
   "source": [
    "%timeit test_comparison(compare_characters_fast_exit)"
   ]
  },
  {
   "cell_type": "markdown",
   "metadata": {},
   "source": [
    "Ok, that's a lot less readable, but it is a little faster. It's generally a bad idea to return early in a function. It doesn't matter too much in a small function like this, but in a larger one it can make it much harder to interpret. Not a good habit to get in, although taking 75% of the time is pretty nice. Let's see if we can do better"
   ]
  },
  {
   "cell_type": "code",
   "execution_count": null,
   "metadata": {},
   "outputs": [],
   "source": [
    "def compare_characters(char1, char2):\n",
    "    return (char1.upper() == char2.upper()) & (char1 != char2)"
   ]
  },
  {
   "cell_type": "code",
   "execution_count": null,
   "metadata": {},
   "outputs": [],
   "source": [
    "%timeit test_comparison(compare_characters)"
   ]
  },
  {
   "cell_type": "markdown",
   "metadata": {},
   "source": [
    "One line, about as fast as anything else, quick and to the point. We'll go with that."
   ]
  },
  {
   "cell_type": "markdown",
   "metadata": {},
   "source": [
    "### The full algorithm\n",
    "\n",
    "This is the part that's actually quite slow. Let's see if we can speed it up"
   ]
  },
  {
   "cell_type": "markdown",
   "metadata": {},
   "source": [
    "First we make some helper functions"
   ]
  },
  {
   "cell_type": "code",
   "execution_count": null,
   "metadata": {},
   "outputs": [],
   "source": [
    "def validate_method(compression_func):\n",
    "    \"\"\"Read in the example text and make sure it gives the result you want\"\"\"\n",
    "    eg_list = read_input(\"example.txt\")\n",
    "    result_list = compression_func(eg_list)\n",
    "    result = len(result_list)\n",
    "    assert result == 10\n",
    "    return True"
   ]
  },
  {
   "cell_type": "code",
   "execution_count": null,
   "metadata": {},
   "outputs": [],
   "source": [
    "def run_full_method(compression_func):\n",
    "    full_list = read_input(\"input.txt\")\n",
    "    answer = len(compression_func(full_list))\n",
    "    return answer"
   ]
  },
  {
   "cell_type": "markdown",
   "metadata": {},
   "source": [
    "Here's the original method:"
   ]
  },
  {
   "cell_type": "code",
   "execution_count": null,
   "metadata": {},
   "outputs": [],
   "source": [
    "def compress_polymer_method_1(input_list):\n",
    "    polymers_removed = 1\n",
    "    while polymers_removed > 0:\n",
    "        polymers_removed = 0\n",
    "        for i in range(len(input_list) - 1):\n",
    "            if i >= len(input_list) - 1:\n",
    "                break\n",
    "            if compare_characters(input_list[i], input_list[i + 1]):\n",
    "                input_list.pop(i)\n",
    "                input_list.pop(i)\n",
    "                polymers_removed += 1\n",
    "    return input_list"
   ]
  },
  {
   "cell_type": "code",
   "execution_count": null,
   "metadata": {},
   "outputs": [],
   "source": [
    "validate_method(compress_polymer_method_1)"
   ]
  },
  {
   "cell_type": "code",
   "execution_count": null,
   "metadata": {},
   "outputs": [],
   "source": [
    "%timeit run_full_method(compress_polymer_method_1)"
   ]
  },
  {
   "cell_type": "markdown",
   "metadata": {},
   "source": [
    "Ok, that's a pretty slow speed to beat, let's try and get it faster"
   ]
  },
  {
   "cell_type": "code",
   "execution_count": null,
   "metadata": {},
   "outputs": [],
   "source": [
    "def compress_polymer_method_2(input_list):\n",
    "    i = 0\n",
    "    while i < len(input_list) - 1:\n",
    "        if compare_characters(input_list[i], input_list[i + 1]):\n",
    "            input_list.pop(i)\n",
    "            input_list.pop(i)\n",
    "            if i != 0:\n",
    "                i -= 1\n",
    "        else:\n",
    "            i += 1\n",
    "    return input_list"
   ]
  },
  {
   "cell_type": "code",
   "execution_count": null,
   "metadata": {},
   "outputs": [],
   "source": [
    "validate_method(compress_polymer_method_2)"
   ]
  },
  {
   "cell_type": "code",
   "execution_count": null,
   "metadata": {},
   "outputs": [],
   "source": [
    "%timeit run_full_method(compress_polymer_method_2)"
   ]
  },
  {
   "cell_type": "markdown",
   "metadata": {},
   "source": [
    "Well, that's a huge speedup already. But can we go faster?"
   ]
  },
  {
   "cell_type": "code",
   "execution_count": null,
   "metadata": {},
   "outputs": [],
   "source": [
    "# Have to get a numpy array to do numpy stuff\n",
    "read_input = read_input_final_np"
   ]
  },
  {
   "cell_type": "markdown",
   "metadata": {},
   "source": [
    "Does doing it with a numpy array rather than a list on its own do anything for us?"
   ]
  },
  {
   "cell_type": "code",
   "execution_count": null,
   "metadata": {},
   "outputs": [],
   "source": [
    "def compress_polymer_method_3(input_list):\n",
    "    i = 0\n",
    "    while i < len(input_list) - 1:\n",
    "        if compare_characters(input_list[i], input_list[i + 1]):\n",
    "            input_list = np.delete(input_list,[i, i+1])\n",
    "            if i != 0:\n",
    "                i -= 1\n",
    "        else:\n",
    "            i += 1\n",
    "    return input_list"
   ]
  },
  {
   "cell_type": "code",
   "execution_count": null,
   "metadata": {},
   "outputs": [],
   "source": [
    "validate_method(compress_polymer_method_3)"
   ]
  },
  {
   "cell_type": "code",
   "execution_count": null,
   "metadata": {},
   "outputs": [],
   "source": [
    "%timeit run_full_method(compress_polymer_method_3)"
   ]
  },
  {
   "cell_type": "markdown",
   "metadata": {},
   "source": [
    "Ooooh, counterintuitive! Numpy is slower!"
   ]
  },
  {
   "cell_type": "markdown",
   "metadata": {},
   "source": [
    "# Final fast version"
   ]
  },
  {
   "cell_type": "code",
   "execution_count": null,
   "metadata": {},
   "outputs": [],
   "source": [
    "def compress_polymer(filename):\n",
    "    with open(filename, \"r\") as f:\n",
    "        input_str = f.read()\n",
    "    output_str = \"\"\n",
    "    for i in range(len(input_str)):\n",
    "        if len(output_str) == 0:\n",
    "            output_str += input_str[i]\n",
    "        elif compare_characters(output_str[-1], input_str[i]):\n",
    "            output_str = output_str[:-1]\n",
    "        else:\n",
    "            output_str += input_str[i]\n",
    "    return len(output_str)"
   ]
  },
  {
   "cell_type": "code",
   "execution_count": null,
   "metadata": {},
   "outputs": [],
   "source": [
    "assert compress_polymer(\"example.txt\") == 10"
   ]
  },
  {
   "cell_type": "code",
   "execution_count": null,
   "metadata": {},
   "outputs": [],
   "source": [
    "%timeit compress_polymer(\"input.txt\")"
   ]
  },
  {
   "cell_type": "code",
   "execution_count": null,
   "metadata": {},
   "outputs": [],
   "source": [
    "compress_polymer(\"input.txt\")"
   ]
  },
  {
   "cell_type": "markdown",
   "metadata": {},
   "source": [
    "# Part 2"
   ]
  },
  {
   "cell_type": "code",
   "execution_count": null,
   "metadata": {},
   "outputs": [],
   "source": [
    "lower_alphabet = [chr(i) for i in range(ord('a'),ord('z')+1)]"
   ]
  },
  {
   "cell_type": "code",
   "execution_count": null,
   "metadata": {},
   "outputs": [],
   "source": [
    "def compress_polymer(input_str):\n",
    "    output_str = \"\"\n",
    "    for i in range(len(input_str)):\n",
    "        if len(output_str) == 0:\n",
    "            output_str += input_str[i]\n",
    "        elif compare_characters(output_str[-1], input_str[i]):\n",
    "            output_str = output_str[:-1]\n",
    "        else:\n",
    "            output_str += input_str[i]\n",
    "    return output_str"
   ]
  },
  {
   "cell_type": "code",
   "execution_count": null,
   "metadata": {},
   "outputs": [],
   "source": [
    "def remove_char(input_str, char_to_drop):\n",
    "    output_str = \"\"\n",
    "    for char in input_str:\n",
    "        if char.lower() != char_to_drop:\n",
    "            output_str += char\n",
    "    return output_str"
   ]
  },
  {
   "cell_type": "code",
   "execution_count": null,
   "metadata": {},
   "outputs": [],
   "source": [
    "def solve_part_2(filename):\n",
    "    with open(filename, \"r\") as f:\n",
    "        compressed_str = compress_polymer(f.read())\n",
    "    results_dict = dict()\n",
    "    for char in lower_alphabet:\n",
    "        char_input = remove_char(compressed_str, char)\n",
    "        char_output = compress_polymer(char_input)\n",
    "        results_dict[char] = len(char_output)\n",
    "    return min(results_dict.values())\n",
    "\n",
    "\n"
   ]
  },
  {
   "cell_type": "code",
   "execution_count": null,
   "metadata": {},
   "outputs": [],
   "source": [
    "%timeit solve_part_2('input.txt')"
   ]
  },
  {
   "cell_type": "code",
   "execution_count": null,
   "metadata": {},
   "outputs": [],
   "source": []
  }
 ],
 "metadata": {
  "kernelspec": {
   "display_name": "Python 3",
   "language": "python",
   "name": "python3"
  },
  "language_info": {
   "codemirror_mode": {
    "name": "ipython",
    "version": 3
   },
   "file_extension": ".py",
   "mimetype": "text/x-python",
   "name": "python",
   "nbconvert_exporter": "python",
   "pygments_lexer": "ipython3",
   "version": "3.7.3"
  }
 },
 "nbformat": 4,
 "nbformat_minor": 4
}
