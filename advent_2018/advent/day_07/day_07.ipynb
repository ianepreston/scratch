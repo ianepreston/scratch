{
 "cells": [
  {
   "cell_type": "code",
   "execution_count": null,
   "metadata": {},
   "outputs": [],
   "source": [
    "import string\n",
    "import re\n",
    "import networkx as nx\n",
    "import matplotlib.pyplot as plt"
   ]
  },
  {
   "cell_type": "code",
   "execution_count": null,
   "metadata": {},
   "outputs": [],
   "source": [
    "def read_inputs(in_file):\n",
    "    rgx = \"Step ([A-Z]) must be finished before step ([A-Z]) can begin\"\n",
    "    with open(in_file, \"r\") as f:\n",
    "        steps = [tuple(pair for pair in re.match(rgx, line).groups()) for line in f.readlines()]\n",
    "    graph = nx.DiGraph()\n",
    "    graph.add_edges_from(steps)\n",
    "    return graph"
   ]
  },
  {
   "cell_type": "code",
   "execution_count": null,
   "metadata": {},
   "outputs": [],
   "source": [
    "# nx.draw(g, with_labels=True)\n",
    "# plt.show()"
   ]
  },
  {
   "cell_type": "code",
   "execution_count": null,
   "metadata": {},
   "outputs": [],
   "source": [
    "def find_start_node(graph):\n",
    "    candidates = sorted([node for node in graph if len(graph.pred[node]) == 0])\n",
    "    return candidates[0]"
   ]
  },
  {
   "cell_type": "code",
   "execution_count": null,
   "metadata": {},
   "outputs": [],
   "source": [
    "def solve_it_part1(graph):\n",
    "    nodes = []\n",
    "    while len(g) > 0:\n",
    "        next_node = find_start_node(g)\n",
    "        nodes.append(next_node)\n",
    "        g.remove_node(next_node)\n",
    "    return \"\".join(nodes)"
   ]
  },
  {
   "cell_type": "code",
   "execution_count": null,
   "metadata": {},
   "outputs": [],
   "source": [
    "g = read_inputs(\"example.txt\")\n",
    "solve_it_part1(g)"
   ]
  },
  {
   "cell_type": "code",
   "execution_count": null,
   "metadata": {},
   "outputs": [],
   "source": [
    "g = read_inputs(\"input.txt\")\n",
    "solve_it_part1(g)"
   ]
  },
  {
   "cell_type": "markdown",
   "metadata": {},
   "source": [
    "The psuedocode we typed out for part 2\n",
    "\n",
    "make a worker object, has node, total_work, work_accomplished\n",
    "```\n",
    "time = 0\n",
    "\n",
    "workers = [worker1, worker2,...]\n",
    "\n",
    "while len(g) > 0:\n",
    "    find_candidates.sorted\n",
    "    for worker in workers\n",
    "    \n",
    "    if worker.node is none:\n",
    "        worker.node = candidates.unstack\n",
    "    else\n",
    "        worker.work_accomplished +=1\n",
    "    if worker.work_accomplished == worker.total_work:\n",
    "        g.remove_node(worker.node)\n",
    "        worker.node = None\n",
    "    time +=1\n",
    "    return time\n",
    "``` \n",
    "    "
   ]
  },
  {
   "cell_type": "code",
   "execution_count": null,
   "metadata": {},
   "outputs": [],
   "source": [
    "# dict(zip([c for c in string.ascii_uppercase], range(1, len(string.ascii_uppercase) + 1)))"
   ]
  },
  {
   "cell_type": "code",
   "execution_count": null,
   "metadata": {},
   "outputs": [],
   "source": [
    "def compute_work(letter, base_time=60):\n",
    "    letter_dict = {\n",
    "        'A': 1, 'B': 2, 'C': 3, 'D': 4, 'E': 5, 'F': 6, 'G': 7, 'H': 8, 'I': 9, 'J': 10, 'K': 11, 'L': 12, 'M': 13, 'N': 14,\n",
    "         'O': 15, 'P': 16, 'Q': 17, 'R': 18, 'S': 19, 'T': 20, 'U': 21, 'V': 22, 'W': 23, 'X': 24, 'Y': 25, 'Z': 26\n",
    "    }\n",
    "    return letter_dict[letter] + base_time"
   ]
  },
  {
   "cell_type": "code",
   "execution_count": null,
   "metadata": {},
   "outputs": [],
   "source": [
    "class Worker:\n",
    "    def __init__(self, node=None, time_spent=0, base_time=60):\n",
    "        self.node = node\n",
    "        self.time_spent = time_spent\n",
    "        self.base_time = base_time\n",
    "    \n",
    "    @property\n",
    "    def node_work(self):\n",
    "        if self.node is not None:\n",
    "            return compute_work(self.node, self.base_time)\n",
    "        else:\n",
    "            return 0"
   ]
  },
  {
   "cell_type": "code",
   "execution_count": null,
   "metadata": {},
   "outputs": [],
   "source": [
    "def find_start_nodes(graph):\n",
    "    candidates = sorted([node for node in graph if len(graph.pred[node]) == 0], reverse=True)\n",
    "    return candidates"
   ]
  },
  {
   "cell_type": "code",
   "execution_count": null,
   "metadata": {},
   "outputs": [],
   "source": [
    "def solve_it_part2(graph, n_workers, base_time):\n",
    "    nodes = []\n",
    "    overall_time_spent = 0\n",
    "    worker_list = [Worker(base_time=base_time) for _ in range(n_workers)]\n",
    "    while len(graph) > 0:\n",
    "        # Assign workers\n",
    "        candidates = find_start_nodes(graph)\n",
    "        in_progress = [worker.node for worker in worker_list if worker.node is not None]\n",
    "        candidates = [c for c in candidates if not c in in_progress]\n",
    "        for worker in worker_list:\n",
    "            if worker.node is None:\n",
    "                if len(candidates) > 0:\n",
    "                    worker.node = candidates.pop()\n",
    "                    worker.time_spent = 0\n",
    "            worker.time_spent += 1\n",
    "        # Check for completion\n",
    "        for worker in worker_list:\n",
    "            if (worker.node is not None) & (worker.time_spent >= worker.node_work):\n",
    "                nodes.append(worker.node)\n",
    "                graph.remove_node(worker.node)\n",
    "                worker.node = None\n",
    "                worker.time_spent = 0\n",
    "        overall_time_spent += 1\n",
    "    return overall_time_spent"
   ]
  },
  {
   "cell_type": "code",
   "execution_count": null,
   "metadata": {},
   "outputs": [],
   "source": [
    "g = read_inputs(\"example.txt\")\n",
    "solve_it_part2(g, 2, 0)"
   ]
  },
  {
   "cell_type": "code",
   "execution_count": null,
   "metadata": {},
   "outputs": [],
   "source": [
    "g = read_inputs(\"input.txt\")\n",
    "solve_it_part2(g, 5, 60)"
   ]
  },
  {
   "cell_type": "code",
   "execution_count": null,
   "metadata": {},
   "outputs": [],
   "source": []
  }
 ],
 "metadata": {
  "kernelspec": {
   "display_name": "Python 3",
   "language": "python",
   "name": "python3"
  },
  "language_info": {
   "codemirror_mode": {
    "name": "ipython",
    "version": 3
   },
   "file_extension": ".py",
   "mimetype": "text/x-python",
   "name": "python",
   "nbconvert_exporter": "python",
   "pygments_lexer": "ipython3",
   "version": "3.7.3"
  }
 },
 "nbformat": 4,
 "nbformat_minor": 4
}
