{
 "cells": [
  {
   "cell_type": "code",
   "execution_count": null,
   "metadata": {},
   "outputs": [],
   "source": [
    "import string\n",
    "import re\n",
    "import networkx as nx\n",
    "import matplotlib.pyplot as plt"
   ]
  },
  {
   "cell_type": "code",
   "execution_count": null,
   "metadata": {},
   "outputs": [],
   "source": [
    "def read_inputs(in_file):\n",
    "    rgx = \"Step ([A-Z]) must be finished before step ([A-Z]) can begin\"\n",
    "    with open(in_file, \"r\") as f:\n",
    "        steps = [tuple(pair for pair in re.match(rgx, line).groups()) for line in f.readlines()]\n",
    "    graph = nx.DiGraph()\n",
    "    graph.add_edges_from(steps)\n",
    "    return graph"
   ]
  },
  {
   "cell_type": "code",
   "execution_count": null,
   "metadata": {},
   "outputs": [],
   "source": [
    "g = read_inputs(\"example.txt\")"
   ]
  },
  {
   "cell_type": "code",
   "execution_count": null,
   "metadata": {},
   "outputs": [],
   "source": [
    "# nx.draw(g, with_labels=True)\n",
    "# plt.show()"
   ]
  },
  {
   "cell_type": "code",
   "execution_count": null,
   "metadata": {},
   "outputs": [],
   "source": [
    "def find_start_node(graph):\n",
    "    candidates = sorted([node for node in graph if len(graph.pred[node]) == 0])\n",
    "    return candidates[0]"
   ]
  },
  {
   "cell_type": "code",
   "execution_count": null,
   "metadata": {},
   "outputs": [],
   "source": [
    "def solve_it_part1(graph):\n",
    "    nodes = []\n",
    "    while len(g) > 0:\n",
    "        next_node = find_start_node(g)\n",
    "        nodes.append(next_node)\n",
    "        g.remove_node(next_node)\n",
    "    return \"\".join(nodes)"
   ]
  },
  {
   "cell_type": "code",
   "execution_count": null,
   "metadata": {},
   "outputs": [],
   "source": [
    "solve_it_part1(g)"
   ]
  },
  {
   "cell_type": "code",
   "execution_count": null,
   "metadata": {},
   "outputs": [],
   "source": [
    "def solve_it_part2(graph):\n",
    "    nodes = []\n",
    "    while len(g) > 0:\n",
    "        next_node = find_start_node(g)\n",
    "        nodes.append(next_node)\n",
    "        g.remove_node(next_node)\n",
    "    return \"\".join(nodes)"
   ]
  },
  {
   "cell_type": "markdown",
   "metadata": {},
   "source": [
    "make a worker object, has node, total_work, work_accomplished\n",
    "time = 0\n",
    "workers = [worker1, worker2,...]\n",
    "while len(g) > 0:\n",
    "    find_candidates.sorted\n",
    "    for worker in workers\n",
    "    if worker.node is none:\n",
    "        worker.node = candidates.unstack\n",
    "    else\n",
    "        worker.work_accomplished +=1\n",
    "    if worker.work_accomplished == worker.total_work:\n",
    "        g.remove_node(worker.node)\n",
    "        worker.node = None\n",
    "    time +=1\n",
    "    return time\n",
    "    \n",
    "    "
   ]
  },
  {
   "cell_type": "code",
   "execution_count": null,
   "metadata": {},
   "outputs": [],
   "source": [
    "list(zip([c for c in string.ascii_uppercase], range(61, len(string.ascii_uppercase))))"
   ]
  },
  {
   "cell_type": "code",
   "execution_count": null,
   "metadata": {},
   "outputs": [],
   "source": []
  }
 ],
 "metadata": {
  "kernelspec": {
   "display_name": "Python 3",
   "language": "python",
   "name": "python3"
  },
  "language_info": {
   "codemirror_mode": {
    "name": "ipython",
    "version": 3
   },
   "file_extension": ".py",
   "mimetype": "text/x-python",
   "name": "python",
   "nbconvert_exporter": "python",
   "pygments_lexer": "ipython3",
   "version": "3.7.3"
  }
 },
 "nbformat": 4,
 "nbformat_minor": 4
}
