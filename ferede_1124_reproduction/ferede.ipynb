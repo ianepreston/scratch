{
 "cells": [
  {
   "cell_type": "markdown",
   "metadata": {},
   "source": [
    "# Reproduction of: \n",
    "## *\"ALBERTA’S FISCAL RESPONSES TO FLUCTUATIONS IN NON-RENEWABLE-RESOURCE REVENUE\"*\n",
    "## in python\n",
    "\n",
    "This notebook attempts to replicate the empirical results, tables, and figures produced in the paper by Ergete Ferede, published by the University of Calgary school of public policy in Volume 11:24, September 2018.\n",
    "The original paper is here: [https://www.policyschool.ca/wp-content/uploads/2018/09/NRR-Ferede.pdf](https://www.policyschool.ca/wp-content/uploads/2018/09/NRR-Ferede.pdf)"
   ]
  },
  {
   "cell_type": "markdown",
   "metadata": {},
   "source": [
    "## Setup and data acquisition\n",
    "\n",
    "This section of the code loads required modules, downloads the required data sets, and reads them into DataFrames"
   ]
  },
  {
   "cell_type": "code",
   "execution_count": 1,
   "metadata": {},
   "outputs": [],
   "source": [
    "from pathlib import Path\n",
    "import datetime as dt\n",
    "import requests\n",
    "import pandas as pd\n",
    "import numpy as np\n",
    "import stats_can\n",
    "import altair as alt\n",
    "import seaborn as sns\n",
    "%matplotlib inline"
   ]
  },
  {
   "cell_type": "code",
   "execution_count": 2,
   "metadata": {},
   "outputs": [],
   "source": [
    "def download_data():\n",
    "    \"\"\"Download the excel file for the analysis from the policy school page\n",
    "    \n",
    "    Note the readme sheet on the first file. Credit to Kneebone and Wilkins for\n",
    "    assembling it, and policy school for hosting it\n",
    "    \n",
    "    Returns\n",
    "    -------\n",
    "    fname: pathlib.Path\n",
    "        A path object with the location and name of the data\n",
    "    \"\"\"\n",
    "    print('Downloading data set')\n",
    "#     url = 'https://www.policyschool.ca/wp-content/uploads/2019/01/Provincial-Government-Budget-Data-January-2019FINAL-USE.xlsx'\n",
    "    url = 'https://www.policyschool.ca/wp-content/uploads/2019/03/Provincial-Government-Budget-Data-March-2019.xlsx'\n",
    "    response = requests.get(\n",
    "        url,\n",
    "        stream=True,\n",
    "        headers={'user-agent': None}\n",
    "    )\n",
    "    fname = Path('.').joinpath('data').joinpath('budgets.xlsx')\n",
    "    with open (fname, 'wb') as outfile:\n",
    "        for chunk in response.iter_content(chunk_size=512):\n",
    "            if chunk: # filter out keep-alive new chunks\n",
    "                outfile.write(chunk)\n",
    "    return fname\n",
    "\n",
    "def get_file(force_update=False):\n",
    "    \"\"\"Return the data set, download if necessary\"\"\"\n",
    "    fname = Path('.').joinpath('data').joinpath('budgets.xlsx')\n",
    "    if not fname.exists() or force_update:\n",
    "        download_data()\n",
    "    return fname\n",
    "\n",
    "\n",
    "def get_date_index(df):\n",
    "    \"\"\"Helper function to turn budget year strings into datetimes\"\"\"\n",
    "    date_index = pd.to_datetime(\n",
    "        df\n",
    "        .assign(year=lambda df: df['budget_yr'].str[0:4].astype(int))\n",
    "        .assign(month=1)\n",
    "        .assign(day=1)\n",
    "        [['year', 'month', 'day']]\n",
    "    )\n",
    "    return date_index\n",
    "\n",
    "\n",
    "def read_ab_budget():\n",
    "    \"\"\"Read Alberta budget data \n",
    "    \n",
    "    Downloads the data if necessary, reads it in and gives\n",
    "    the variables easier to work with names\n",
    "    \n",
    "    Returns\n",
    "    -------\n",
    "    df: pandas.DataFrame\n",
    "        Alberta's revenue and expenditure tables\n",
    "    \"\"\"\n",
    "    fname = get_file()\n",
    "    df = (\n",
    "        pd.read_excel(\n",
    "            fname,\n",
    "            sheet_name='Alberta',\n",
    "            header=3,\n",
    "            index_col=1,\n",
    "            skipfooter=21\n",
    "        )\n",
    "        # Because of the merged cells we get an empty first row\n",
    "        .loc[lambda x: x.index.notnull()]\n",
    "        # Not sure where the empty first column comes from but drop it\n",
    "        .drop(columns='Unnamed: 0')\n",
    "        .reset_index()\n",
    "        .rename(columns={\n",
    "            'index': 'budget_yr',\n",
    "            'Personal Income Tax': 'personal_income_tax',\n",
    "            'Corporation Income Tax': 'corporate_income_tax',\n",
    "            'Retail Sales Tax': 'retail_sales_tax',\n",
    "            'Federal Cash Transfers': 'federal_cash_transfers',\n",
    "            'Natural Resource Revenue': 'natural_resource_revenue',\n",
    "            'Other Own-Source Revenue': 'other_own_source_revenue',\n",
    "            'Total Revenue': 'total_revenue',\n",
    "            'Health': 'health_exp',\n",
    "            'Social Services': 'social_services_exp',\n",
    "            'Education': 'education_exp',\n",
    "            'Other Program Expenditures': 'other_program_exp',\n",
    "            'Total Program Expenditures': 'total_prog_exp',\n",
    "            'Debt Service': 'debt_service',\n",
    "            'Total  Expenditures': 'total_exp',\n",
    "            'Unnamed: 16': 'annual_deficit'\n",
    "        })\n",
    "        .assign(budget_dt=lambda df: get_date_index(df))\n",
    "        .set_index('budget_dt')\n",
    "    )  \n",
    "    return df\n",
    "\n",
    "def read_heritage():\n",
    "    \"\"\"Heritage Trust fund deposits are separate\"\"\"\n",
    "    fname = get_file()\n",
    "    df = (\n",
    "        pd.read_excel(\n",
    "            fname,\n",
    "            sheet_name='Alberta',\n",
    "            header=None,\n",
    "            usecols='D:G',\n",
    "            names=['budget_yr', 'resource_allocation', 'deposits', 'advance_edu'],\n",
    "            skiprows=71,\n",
    "            skipfooter=1\n",
    "        )\n",
    "        .loc[lambda df: ~df['budget_yr'].isna()]\n",
    "        .set_index('budget_yr')\n",
    "        .fillna(0)\n",
    "        .assign(total_heritage=lambda df: df.sum(axis='columns'))\n",
    "        # Add a dummy variable to indicate heritage fund deposit years\n",
    "        .assign(heritage_dummy=1)\n",
    "        .reset_index()\n",
    "        .assign(budget_dt=lambda df: get_date_index(df))\n",
    "        .drop(columns='budget_yr')\n",
    "        .set_index('budget_dt')\n",
    "    )\n",
    "    return df\n",
    "\n",
    "\n",
    "def clean_budget():\n",
    "    \"\"\"Combine base budget with heritage deposits\"\"\"\n",
    "    budg = read_ab_budget()\n",
    "    heritage= read_heritage()\n",
    "    budg_clean = (\n",
    "        budg\n",
    "        .assign(other_revenue=lambda df: df[['retail_sales_tax', 'federal_cash_transfers', 'other_own_source_revenue']].sum(axis='columns'))\n",
    "        .reindex(columns=['personal_income_tax', 'corporate_income_tax', 'natural_resource_revenue', 'other_revenue', 'total_prog_exp', 'debt_service'])\n",
    "        .merge(heritage[['total_heritage', 'heritage_dummy']], how='left', left_index=True, right_index=True)\n",
    "        .fillna(0)\n",
    "        .assign(natural_resource_revenue_before_heritage=lambda df: df['natural_resource_revenue'])\n",
    "        .assign(natural_resource_revenue=lambda df: df['natural_resource_revenue'] - df['total_heritage'])\n",
    "        .assign(total_revenue=lambda df: df[['personal_income_tax', 'corporate_income_tax', 'natural_resource_revenue', 'other_revenue']].sum(axis='columns'))\n",
    "        .assign(total_expenditure=lambda df: df[['total_prog_exp', 'debt_service']].sum(axis='columns'))\n",
    "        .assign(deficit=lambda df: df['total_expenditure'] - df['total_revenue'])\n",
    "        .astype('float64')\n",
    "    )\n",
    "    return budg_clean\n",
    "\n",
    "\n",
    "def per_capita_data():\n",
    "    \"\"\"Read in population data to calculate per capita estimates\n",
    "    \n",
    "    Rolling mean indexed on January year N+1 is the March to March\n",
    "    average population for fiscal year N\n",
    "    Applying a date offset of -1 year and taking only\n",
    "    January data of these rolling means gives us a population average\n",
    "    on the same basis as the fiscal tables\n",
    "    \"\"\"\n",
    "    table = '17-10-0009-01'\n",
    "    df = (\n",
    "        stats_can.table_to_df(table, path='data')\n",
    "        .loc[lambda x: x['GEO'] == 'Alberta']\n",
    "        .loc[lambda x: x['REF_DATE'] >= '1965']\n",
    "        .set_index('REF_DATE')\n",
    "        [['VALUE']]\n",
    "        .rename(columns={'VALUE':'population'})\n",
    "        .rolling(4, closed='left')\n",
    "        .mean()\n",
    "        .reset_index()\n",
    "        .assign(budget_dt=lambda df: df['REF_DATE'] - pd.DateOffset(years=1))\n",
    "        .loc[lambda x: x['budget_dt'].dt.year >= 1965]\n",
    "        .loc[lambda x: x['budget_dt'].dt.month == 1]\n",
    "        .drop(columns='REF_DATE')\n",
    "        .set_index('budget_dt')\n",
    "        .copy()\n",
    "    )\n",
    "    return df\n",
    "\n",
    "\n",
    "def inflation_data():\n",
    "    \"\"\"Read in inflation data to calculate real dollar estimates\n",
    "    \n",
    "    Rolling mean indexed on January year N+1 is the March to March\n",
    "    average population for fiscal year N\n",
    "    Applying a date offset of -1 year and taking only\n",
    "    January data of these rolling means gives us an average on the\n",
    "    same basis as the budget dates. The whole series is then scaled so\n",
    "    2017 budget year is = 1\n",
    "    \"\"\"\n",
    "    vecs = ('v41692327', 'v41690973')\n",
    "    df = (\n",
    "        stats_can.vectors_to_df_local(vecs, path='data', start_date=dt.date(1965, 1, 1))\n",
    "        .rename(columns={'v41692327': 'ab_inflation', 'v41690973': 'ca_inflation'})\n",
    "    )\n",
    "    mask = df['ab_inflation'].isna()\n",
    "    df.loc[mask, 'ab_inflation'] = df.loc[mask, 'ca_inflation']\n",
    "    df = (\n",
    "        df\n",
    "        .drop(columns='ca_inflation')\n",
    "        .rolling(4, closed='left')\n",
    "        .mean()\n",
    "        .reset_index()\n",
    "        .assign(budget_dt=lambda df: df['REF_DATE'] - pd.DateOffset(years=1))\n",
    "        .loc[lambda x: x['budget_dt'].dt.year >= 1965]\n",
    "        .loc[lambda x: x['budget_dt'].dt.month == 1]\n",
    "        .drop(columns='REF_DATE')\n",
    "        .set_index('budget_dt')\n",
    "        .copy()\n",
    "    )\n",
    "    # Rescale to 2017 = 100 (this is fiscal year 2017, original may have done calendar year)\n",
    "    inf_2017 = float(df.loc['2017', 'ab_inflation'])\n",
    "    df = df / inf_2017\n",
    "    return df\n",
    "\n",
    "\n",
    "def budget_real_per_capita():\n",
    "    \"\"\"Take total current dollar budget results\n",
    "    and covert them to per capital constant 2017 dollars\n",
    "    \"\"\"\n",
    "    clean_budget_df = clean_budget()\n",
    "    scale_cols = clean_budget_df.columns.drop('heritage_dummy').tolist()\n",
    "    per_capita = per_capita_data()\n",
    "    inflation = inflation_data()\n",
    "    dfpc = (\n",
    "        clean_budget_df\n",
    "        .assign(pop=per_capita)\n",
    "        .assign(cpi=inflation)\n",
    "    )\n",
    "    dfpc[scale_cols] = (\n",
    "        dfpc[scale_cols]\n",
    "        .mul(1_000_000)\n",
    "        .div(dfpc['pop'], axis='index')\n",
    "        .div(dfpc['cpi'], axis='index')\n",
    "    )\n",
    "    return dfpc\n",
    "\n",
    "def exogenous_variables():\n",
    "    \"\"\"Bring in exogenous parameters\n",
    "    \n",
    "    From the paper:\n",
    "    We also include other exogenous variables that are likely to affect\n",
    "    the province’s budget. It is known that the various components of the\n",
    "    provincial budget can be influenced by the business cycle. Thus, following\n",
    "    Buettner and Wildsain (2006), we account for the potential effects of the\n",
    "    business cycle by including one-period lagged changes in the provincial\n",
    "    employment and unemployment rates. Another important exogenous factor\n",
    "    that is often cited in provincial budget documents as being important in\n",
    "    influencing the provincial government’s oil royalty revenue is the Canadian-U.S.\n",
    "    dollar exchange rate. For this reason, we control for this factor by\n",
    "    including oneperiod lagged changes in the Canadian-U.S. dollar exchange rate\n",
    "    \n",
    "    Currency data sourced from: https://fred.stlouisfed.org/series/EXCAUS\n",
    "    \"\"\"\n",
    "    ur_vec = \"v2064516\"\n",
    "    er_vec = \"v2064518\"\n",
    "    cad_usd = (\n",
    "        pd.read_csv('./data/EXCAUS.csv', parse_dates=['DATE'])\n",
    "        .set_index('DATE')\n",
    "    )\n",
    "    return \"working on this section\"\n"
   ]
  },
  {
   "cell_type": "code",
   "execution_count": 3,
   "metadata": {},
   "outputs": [],
   "source": [
    "df = budget_real_per_capita()"
   ]
  },
  {
   "cell_type": "markdown",
   "metadata": {},
   "source": [
    "## Exploratory Figures\n",
    "\n",
    "### Figure 1\n",
    "Page 5 of the report charts Non-renewable Resource Revenue, Total Expenditure, and Total Revenue. All are in per-capita 2017 dollars.\n",
    "Reproducing this chart will be a good starting check that my data extraction and transformation matches the original author's strategy"
   ]
  },
  {
   "cell_type": "code",
   "execution_count": 4,
   "metadata": {},
   "outputs": [
    {
     "data": {
      "application/vnd.vegalite.v2+json": {
       "$schema": "https://vega.github.io/schema/vega-lite/v2.6.0.json",
       "config": {
        "view": {
         "height": 300,
         "width": 400
        }
       },
       "data": {
        "name": "data-1705a1d8e93afb1907a65c8e6fdb3eea"
       },
       "datasets": {
        "data-1705a1d8e93afb1907a65c8e6fdb3eea": [
         {
          "budget_dt": "1970-01-01T00:00:00",
          "value": 977.3640786968494,
          "variable": "Non-renewable Resource Revenue"
         },
         {
          "budget_dt": "1971-01-01T00:00:00",
          "value": 1067.0223414879192,
          "variable": "Non-renewable Resource Revenue"
         },
         {
          "budget_dt": "1972-01-01T00:00:00",
          "value": 1201.1025820569737,
          "variable": "Non-renewable Resource Revenue"
         },
         {
          "budget_dt": "1973-01-01T00:00:00",
          "value": 2087.072923564066,
          "variable": "Non-renewable Resource Revenue"
         },
         {
          "budget_dt": "1974-01-01T00:00:00",
          "value": 4344.9693001222095,
          "variable": "Non-renewable Resource Revenue"
         },
         {
          "budget_dt": "1975-01-01T00:00:00",
          "value": 4242.857801638297,
          "variable": "Non-renewable Resource Revenue"
         },
         {
          "budget_dt": "1976-01-01T00:00:00",
          "value": -121.85714545994051,
          "variable": "Non-renewable Resource Revenue"
         },
         {
          "budget_dt": "1977-01-01T00:00:00",
          "value": 4344.6624665630015,
          "variable": "Non-renewable Resource Revenue"
         },
         {
          "budget_dt": "1978-01-01T00:00:00",
          "value": 4532.395507950054,
          "variable": "Non-renewable Resource Revenue"
         },
         {
          "budget_dt": "1979-01-01T00:00:00",
          "value": 4987.6383603473805,
          "variable": "Non-renewable Resource Revenue"
         },
         {
          "budget_dt": "1980-01-01T00:00:00",
          "value": 4520.631394756142,
          "variable": "Non-renewable Resource Revenue"
         },
         {
          "budget_dt": "1981-01-01T00:00:00",
          "value": 3812.2960110307927,
          "variable": "Non-renewable Resource Revenue"
         },
         {
          "budget_dt": "1982-01-01T00:00:00",
          "value": 2817.6947013899753,
          "variable": "Non-renewable Resource Revenue"
         },
         {
          "budget_dt": "1983-01-01T00:00:00",
          "value": 3974.8333068862876,
          "variable": "Non-renewable Resource Revenue"
         },
         {
          "budget_dt": "1984-01-01T00:00:00",
          "value": 4298.397043111272,
          "variable": "Non-renewable Resource Revenue"
         },
         {
          "budget_dt": "1985-01-01T00:00:00",
          "value": 3913.2587411080403,
          "variable": "Non-renewable Resource Revenue"
         },
         {
          "budget_dt": "1986-01-01T00:00:00",
          "value": 1478.2905453568678,
          "variable": "Non-renewable Resource Revenue"
         },
         {
          "budget_dt": "1987-01-01T00:00:00",
          "value": 2212.73893364488,
          "variable": "Non-renewable Resource Revenue"
         },
         {
          "budget_dt": "1988-01-01T00:00:00",
          "value": 1709.7966674782235,
          "variable": "Non-renewable Resource Revenue"
         },
         {
          "budget_dt": "1989-01-01T00:00:00",
          "value": 1705.7194807933463,
          "variable": "Non-renewable Resource Revenue"
         },
         {
          "budget_dt": "1990-01-01T00:00:00",
          "value": 1882.9647594980074,
          "variable": "Non-renewable Resource Revenue"
         },
         {
          "budget_dt": "1991-01-01T00:00:00",
          "value": 1347.5575777009476,
          "variable": "Non-renewable Resource Revenue"
         },
         {
          "budget_dt": "1992-01-01T00:00:00",
          "value": 1410.8250791167943,
          "variable": "Non-renewable Resource Revenue"
         },
         {
          "budget_dt": "1993-01-01T00:00:00",
          "value": 1775.9345441869511,
          "variable": "Non-renewable Resource Revenue"
         },
         {
          "budget_dt": "1994-01-01T00:00:00",
          "value": 2069.468626166085,
          "variable": "Non-renewable Resource Revenue"
         },
         {
          "budget_dt": "1995-01-01T00:00:00",
          "value": 1651.0981388850323,
          "variable": "Non-renewable Resource Revenue"
         },
         {
          "budget_dt": "1996-01-01T00:00:00",
          "value": 2298.325079005365,
          "variable": "Non-renewable Resource Revenue"
         },
         {
          "budget_dt": "1997-01-01T00:00:00",
          "value": 2080.426536559648,
          "variable": "Non-renewable Resource Revenue"
         },
         {
          "budget_dt": "1998-01-01T00:00:00",
          "value": 1256.1581311448883,
          "variable": "Non-renewable Resource Revenue"
         },
         {
          "budget_dt": "1999-01-01T00:00:00",
          "value": 2346.8982553743353,
          "variable": "Non-renewable Resource Revenue"
         },
         {
          "budget_dt": "2000-01-01T00:00:00",
          "value": 5087.71365250665,
          "variable": "Non-renewable Resource Revenue"
         },
         {
          "budget_dt": "2001-01-01T00:00:00",
          "value": 2925.3776329415946,
          "variable": "Non-renewable Resource Revenue"
         },
         {
          "budget_dt": "2002-01-01T00:00:00",
          "value": 3048.464539628953,
          "variable": "Non-renewable Resource Revenue"
         },
         {
          "budget_dt": "2003-01-01T00:00:00",
          "value": 3179.1781491490824,
          "variable": "Non-renewable Resource Revenue"
         },
         {
          "budget_dt": "2004-01-01T00:00:00",
          "value": 3895.9030546313734,
          "variable": "Non-renewable Resource Revenue"
         },
         {
          "budget_dt": "2005-01-01T00:00:00",
          "value": 4758.237571374258,
          "variable": "Non-renewable Resource Revenue"
         },
         {
          "budget_dt": "2006-01-01T00:00:00",
          "value": 3885.551604942822,
          "variable": "Non-renewable Resource Revenue"
         },
         {
          "budget_dt": "2007-01-01T00:00:00",
          "value": 3334.9380542718663,
          "variable": "Non-renewable Resource Revenue"
         },
         {
          "budget_dt": "2008-01-01T00:00:00",
          "value": 3768.725550181622,
          "variable": "Non-renewable Resource Revenue"
         },
         {
          "budget_dt": "2009-01-01T00:00:00",
          "value": 2078.418164752056,
          "variable": "Non-renewable Resource Revenue"
         },
         {
          "budget_dt": "2010-01-01T00:00:00",
          "value": 2531.977458700038,
          "variable": "Non-renewable Resource Revenue"
         },
         {
          "budget_dt": "2011-01-01T00:00:00",
          "value": 3336.3420314398913,
          "variable": "Non-renewable Resource Revenue"
         },
         {
          "budget_dt": "2012-01-01T00:00:00",
          "value": 2175.996730281691,
          "variable": "Non-renewable Resource Revenue"
         },
         {
          "budget_dt": "2013-01-01T00:00:00",
          "value": 2559.979600401463,
          "variable": "Non-renewable Resource Revenue"
         },
         {
          "budget_dt": "2014-01-01T00:00:00",
          "value": 2290.154283564111,
          "variable": "Non-renewable Resource Revenue"
         },
         {
          "budget_dt": "2015-01-01T00:00:00",
          "value": 691.3571050954622,
          "variable": "Non-renewable Resource Revenue"
         },
         {
          "budget_dt": "2016-01-01T00:00:00",
          "value": 750.3730538213771,
          "variable": "Non-renewable Resource Revenue"
         },
         {
          "budget_dt": "1970-01-01T00:00:00",
          "value": 4726.041887031951,
          "variable": "Total Revenue"
         },
         {
          "budget_dt": "1971-01-01T00:00:00",
          "value": 4869.999404739734,
          "variable": "Total Revenue"
         },
         {
          "budget_dt": "1972-01-01T00:00:00",
          "value": 5112.85056833316,
          "variable": "Total Revenue"
         },
         {
          "budget_dt": "1973-01-01T00:00:00",
          "value": 5705.972452999098,
          "variable": "Total Revenue"
         },
         {
          "budget_dt": "1974-01-01T00:00:00",
          "value": 8375.500032472417,
          "variable": "Total Revenue"
         },
         {
          "budget_dt": "1975-01-01T00:00:00",
          "value": 8404.89926419777,
          "variable": "Total Revenue"
         },
         {
          "budget_dt": "1976-01-01T00:00:00",
          "value": 3956.9084403124084,
          "variable": "Total Revenue"
         },
         {
          "budget_dt": "1977-01-01T00:00:00",
          "value": 8658.970980169111,
          "variable": "Total Revenue"
         },
         {
          "budget_dt": "1978-01-01T00:00:00",
          "value": 8787.44348185658,
          "variable": "Total Revenue"
         },
         {
          "budget_dt": "1979-01-01T00:00:00",
          "value": 8965.761050036215,
          "variable": "Total Revenue"
         },
         {
          "budget_dt": "1980-01-01T00:00:00",
          "value": 8888.066600748252,
          "variable": "Total Revenue"
         },
         {
          "budget_dt": "1981-01-01T00:00:00",
          "value": 10855.955780355338,
          "variable": "Total Revenue"
         },
         {
          "budget_dt": "1982-01-01T00:00:00",
          "value": 9822.000461640273,
          "variable": "Total Revenue"
         },
         {
          "budget_dt": "1983-01-01T00:00:00",
          "value": 11000.07453467693,
          "variable": "Total Revenue"
         },
         {
          "budget_dt": "1984-01-01T00:00:00",
          "value": 12003.558357426471,
          "variable": "Total Revenue"
         },
         {
          "budget_dt": "1985-01-01T00:00:00",
          "value": 11618.149156258838,
          "variable": "Total Revenue"
         },
         {
          "budget_dt": "1986-01-01T00:00:00",
          "value": 8296.078284390782,
          "variable": "Total Revenue"
         },
         {
          "budget_dt": "1987-01-01T00:00:00",
          "value": 10031.476391866829,
          "variable": "Total Revenue"
         },
         {
          "budget_dt": "1988-01-01T00:00:00",
          "value": 9758.551723257007,
          "variable": "Total Revenue"
         },
         {
          "budget_dt": "1989-01-01T00:00:00",
          "value": 9776.666256207935,
          "variable": "Total Revenue"
         },
         {
          "budget_dt": "1990-01-01T00:00:00",
          "value": 9936.702051145548,
          "variable": "Total Revenue"
         },
         {
          "budget_dt": "1991-01-01T00:00:00",
          "value": 9154.994285300652,
          "variable": "Total Revenue"
         },
         {
          "budget_dt": "1992-01-01T00:00:00",
          "value": 9223.034678916983,
          "variable": "Total Revenue"
         },
         {
          "budget_dt": "1993-01-01T00:00:00",
          "value": 9712.476956955687,
          "variable": "Total Revenue"
         },
         {
          "budget_dt": "1994-01-01T00:00:00",
          "value": 9902.572786663291,
          "variable": "Total Revenue"
         },
         {
          "budget_dt": "1995-01-01T00:00:00",
          "value": 9194.826857430466,
          "variable": "Total Revenue"
         },
         {
          "budget_dt": "1996-01-01T00:00:00",
          "value": 9487.285378184763,
          "variable": "Total Revenue"
         },
         {
          "budget_dt": "1997-01-01T00:00:00",
          "value": 9776.572983080994,
          "variable": "Total Revenue"
         },
         {
          "budget_dt": "1998-01-01T00:00:00",
          "value": 8922.011658668021,
          "variable": "Total Revenue"
         },
         {
          "budget_dt": "1999-01-01T00:00:00",
          "value": 10146.171102750595,
          "variable": "Total Revenue"
         },
         {
          "budget_dt": "2000-01-01T00:00:00",
          "value": 12268.474060791354,
          "variable": "Total Revenue"
         },
         {
          "budget_dt": "2001-01-01T00:00:00",
          "value": 10300.599001104449,
          "variable": "Total Revenue"
         },
         {
          "budget_dt": "2002-01-01T00:00:00",
          "value": 9689.243113193734,
          "variable": "Total Revenue"
         },
         {
          "budget_dt": "2003-01-01T00:00:00",
          "value": 10721.649914932554,
          "variable": "Total Revenue"
         },
         {
          "budget_dt": "2004-01-01T00:00:00",
          "value": 11726.092445220538,
          "variable": "Total Revenue"
         },
         {
          "budget_dt": "2005-01-01T00:00:00",
          "value": 12764.17909120258,
          "variable": "Total Revenue"
         },
         {
          "budget_dt": "2006-01-01T00:00:00",
          "value": 12975.483729240032,
          "variable": "Total Revenue"
         },
         {
          "budget_dt": "2007-01-01T00:00:00",
          "value": 12292.675386867335,
          "variable": "Total Revenue"
         },
         {
          "budget_dt": "2008-01-01T00:00:00",
          "value": 11327.052511754431,
          "variable": "Total Revenue"
         },
         {
          "budget_dt": "2009-01-01T00:00:00",
          "value": 10950.389320143147,
          "variable": "Total Revenue"
         },
         {
          "budget_dt": "2010-01-01T00:00:00",
          "value": 10525.070988146315,
          "variable": "Total Revenue"
         },
         {
          "budget_dt": "2011-01-01T00:00:00",
          "value": 11338.000425337541,
          "variable": "Total Revenue"
         },
         {
          "budget_dt": "2012-01-01T00:00:00",
          "value": 10841.10159130958,
          "variable": "Total Revenue"
         },
         {
          "budget_dt": "2013-01-01T00:00:00",
          "value": 12105.779498954213,
          "variable": "Total Revenue"
         },
         {
          "budget_dt": "2014-01-01T00:00:00",
          "value": 11589.491089444578,
          "variable": "Total Revenue"
         },
         {
          "budget_dt": "2015-01-01T00:00:00",
          "value": 9035.732462472104,
          "variable": "Total Revenue"
         },
         {
          "budget_dt": "2016-01-01T00:00:00",
          "value": 8677.14245285921,
          "variable": "Total Revenue"
         },
         {
          "budget_dt": "1970-01-01T00:00:00",
          "value": 4776.814046964255,
          "variable": "Total Expenditure"
         },
         {
          "budget_dt": "1971-01-01T00:00:00",
          "value": 4952.07804639265,
          "variable": "Total Expenditure"
         },
         {
          "budget_dt": "1972-01-01T00:00:00",
          "value": 4974.95963746257,
          "variable": "Total Expenditure"
         },
         {
          "budget_dt": "1973-01-01T00:00:00",
          "value": 4912.29683417896,
          "variable": "Total Expenditure"
         },
         {
          "budget_dt": "1974-01-01T00:00:00",
          "value": 5937.171866022256,
          "variable": "Total Expenditure"
         },
         {
          "budget_dt": "1975-01-01T00:00:00",
          "value": 6871.914332296314,
          "variable": "Total Expenditure"
         },
         {
          "budget_dt": "1976-01-01T00:00:00",
          "value": 6713.638957415591,
          "variable": "Total Expenditure"
         },
         {
          "budget_dt": "1977-01-01T00:00:00",
          "value": 6841.780996483237,
          "variable": "Total Expenditure"
         },
         {
          "budget_dt": "1978-01-01T00:00:00",
          "value": 6625.922055246368,
          "variable": "Total Expenditure"
         },
         {
          "budget_dt": "1979-01-01T00:00:00",
          "value": 8986.266837096467,
          "variable": "Total Expenditure"
         },
         {
          "budget_dt": "1980-01-01T00:00:00",
          "value": 9393.34525842611,
          "variable": "Total Expenditure"
         },
         {
          "budget_dt": "1981-01-01T00:00:00",
          "value": 10051.853513695554,
          "variable": "Total Expenditure"
         },
         {
          "budget_dt": "1982-01-01T00:00:00",
          "value": 12039.706393039505,
          "variable": "Total Expenditure"
         },
         {
          "budget_dt": "1983-01-01T00:00:00",
          "value": 11578.819665095705,
          "variable": "Total Expenditure"
         },
         {
          "budget_dt": "1984-01-01T00:00:00",
          "value": 11516.604407962051,
          "variable": "Total Expenditure"
         },
         {
          "budget_dt": "1985-01-01T00:00:00",
          "value": 12950.51839092854,
          "variable": "Total Expenditure"
         },
         {
          "budget_dt": "1986-01-01T00:00:00",
          "value": 12046.964742758953,
          "variable": "Total Expenditure"
         },
         {
          "budget_dt": "1987-01-01T00:00:00",
          "value": 11181.662471236694,
          "variable": "Total Expenditure"
         },
         {
          "budget_dt": "1988-01-01T00:00:00",
          "value": 11404.384774397917,
          "variable": "Total Expenditure"
         },
         {
          "budget_dt": "1989-01-01T00:00:00",
          "value": 11387.961980028791,
          "variable": "Total Expenditure"
         },
         {
          "budget_dt": "1990-01-01T00:00:00",
          "value": 11220.032199731988,
          "variable": "Total Expenditure"
         },
         {
          "budget_dt": "1991-01-01T00:00:00",
          "value": 10907.08571545683,
          "variable": "Total Expenditure"
         },
         {
          "budget_dt": "1992-01-01T00:00:00",
          "value": 11371.263063243243,
          "variable": "Total Expenditure"
         },
         {
          "budget_dt": "1993-01-01T00:00:00",
          "value": 10576.802927875213,
          "variable": "Total Expenditure"
         },
         {
          "budget_dt": "1994-01-01T00:00:00",
          "value": 9327.92460094873,
          "variable": "Total Expenditure"
         },
         {
          "budget_dt": "1995-01-01T00:00:00",
          "value": 8512.696937166045,
          "variable": "Total Expenditure"
         },
         {
          "budget_dt": "1996-01-01T00:00:00",
          "value": 8069.206270191616,
          "variable": "Total Expenditure"
         },
         {
          "budget_dt": "1997-01-01T00:00:00",
          "value": 8312.344777492825,
          "variable": "Total Expenditure"
         },
         {
          "budget_dt": "1998-01-01T00:00:00",
          "value": 8341.675089634024,
          "variable": "Total Expenditure"
         },
         {
          "budget_dt": "1999-01-01T00:00:00",
          "value": 8737.527440223763,
          "variable": "Total Expenditure"
         },
         {
          "budget_dt": "2000-01-01T00:00:00",
          "value": 9110.400528709244,
          "variable": "Total Expenditure"
         },
         {
          "budget_dt": "2001-01-01T00:00:00",
          "value": 9792.756826508357,
          "variable": "Total Expenditure"
         },
         {
          "budget_dt": "2002-01-01T00:00:00",
          "value": 8777.269079108382,
          "variable": "Total Expenditure"
         },
         {
          "budget_dt": "2003-01-01T00:00:00",
          "value": 9008.63782206119,
          "variable": "Total Expenditure"
         },
         {
          "budget_dt": "2004-01-01T00:00:00",
          "value": 9656.993686218346,
          "variable": "Total Expenditure"
         },
         {
          "budget_dt": "2005-01-01T00:00:00",
          "value": 10195.252067076493,
          "variable": "Total Expenditure"
         },
         {
          "budget_dt": "2006-01-01T00:00:00",
          "value": 10413.34888347392,
          "variable": "Total Expenditure"
         },
         {
          "budget_dt": "2007-01-01T00:00:00",
          "value": 11083.900590429788,
          "variable": "Total Expenditure"
         },
         {
          "budget_dt": "2008-01-01T00:00:00",
          "value": 11596.540901914293,
          "variable": "Total Expenditure"
         },
         {
          "budget_dt": "2009-01-01T00:00:00",
          "value": 11267.311238881935,
          "variable": "Total Expenditure"
         },
         {
          "budget_dt": "2010-01-01T00:00:00",
          "value": 11549.518441179907,
          "variable": "Total Expenditure"
         },
         {
          "budget_dt": "2011-01-01T00:00:00",
          "value": 11344.595119968266,
          "variable": "Total Expenditure"
         },
         {
          "budget_dt": "2012-01-01T00:00:00",
          "value": 11636.085870453499,
          "variable": "Total Expenditure"
         },
         {
          "budget_dt": "2013-01-01T00:00:00",
          "value": 11903.985324982288,
          "variable": "Total Expenditure"
         },
         {
          "budget_dt": "2014-01-01T00:00:00",
          "value": 11222.216682100536,
          "variable": "Total Expenditure"
         },
         {
          "budget_dt": "2015-01-01T00:00:00",
          "value": 10832.170232506818,
          "variable": "Total Expenditure"
         },
         {
          "budget_dt": "2016-01-01T00:00:00",
          "value": 11548.040197363407,
          "variable": "Total Expenditure"
         }
        ]
       },
       "encoding": {
        "color": {
         "field": "variable",
         "legend": {
          "orient": "left",
          "title": null
         },
         "type": "nominal"
        },
        "x": {
         "axis": {
          "title": null
         },
         "field": "budget_dt",
         "type": "temporal"
        },
        "y": {
         "axis": {
          "title": "Per capita in 2017 dollars"
         },
         "field": "value",
         "type": "quantitative"
        }
       },
       "height": 400,
       "mark": "line",
       "width": 800
      },
      "image/png": "[encoded data removed]",
      "text/plain": [
       "<VegaLite 2 object>\n",
       "\n",
       "If you see this message, it means the renderer has not been properly enabled\n",
       "for the frontend that you are using. For more information, see\n",
       "https://altair-viz.github.io/user_guide/troubleshooting.html\n"
      ]
     },
     "execution_count": 4,
     "metadata": {},
     "output_type": "execute_result"
    }
   ],
   "source": [
    "chart_df = (\n",
    "    df\n",
    "    .loc['1970':'2016', ['natural_resource_revenue', 'total_revenue', 'total_expenditure']]\n",
    "    .rename(columns={\n",
    "        'natural_resource_revenue': 'Non-renewable Resource Revenue',\n",
    "        'total_revenue': 'Total Revenue',\n",
    "        'total_expenditure': 'Total Expenditure'\n",
    "    })\n",
    "    .reset_index()\n",
    "    .melt(id_vars='budget_dt')\n",
    ")\n",
    "chart = (\n",
    "    alt.Chart(chart_df)\n",
    "    .mark_line()\n",
    "    .encode(\n",
    "        x=alt.X('budget_dt:T', axis=alt.Axis(title=None)),\n",
    "        y=alt.Y('value:Q', axis=alt.Axis(title='Per capita in 2017 dollars')),\n",
    "        color=alt.Color('variable:N', legend=alt.Legend(title=None, orient='left'))\n",
    "    )\n",
    "    .properties(width=800, height=400)\n",
    ")\n",
    "chart"
   ]
  },
  {
   "cell_type": "markdown",
   "metadata": {},
   "source": [
    "This graph looks very similar to the chart in the paper, with a notable exception of the 1976/1977 budget year. My chart shows Non-renewable Resource Revenue as slightly negative, whereas the original chart has it largely in line with 1975/1976 and 1977/1978. NRR is negative in my chart because I have netted out contributions to the Alberta Heritage Savings Trust Fund (AHSTF). To the best of my understanding, the original paper does the same, and the consistent values between the two in all other years supports that. Quoting the original paper:\n",
    "\n",
    ">The part of resource revenue that is saved in the AHSTF is not expected to influence the provincial government’s spending and revenue-raising choices. For this reason, in our analysis, we exclude the part of the resource revenue that is saved in the AHSTF from the non-renewable-resource revenue data. \n",
    "\n",
    "For comparison, here is the same chart, but without netting AHSTF contributions:"
   ]
  },
  {
   "cell_type": "code",
   "execution_count": 5,
   "metadata": {},
   "outputs": [
    {
     "data": {
      "application/vnd.vegalite.v2+json": {
       "$schema": "https://vega.github.io/schema/vega-lite/v2.6.0.json",
       "config": {
        "view": {
         "height": 300,
         "width": 400
        }
       },
       "data": {
        "name": "data-00a15c4a56d3ff08b05353388845fd91"
       },
       "datasets": {
        "data-00a15c4a56d3ff08b05353388845fd91": [
         {
          "budget_dt": "1970-01-01T00:00:00",
          "value": 977.3640786968494,
          "variable": "Non-renewable Resource Revenue (before AHSTF contributions)"
         },
         {
          "budget_dt": "1971-01-01T00:00:00",
          "value": 1067.0223414879192,
          "variable": "Non-renewable Resource Revenue (before AHSTF contributions)"
         },
         {
          "budget_dt": "1972-01-01T00:00:00",
          "value": 1201.1025820569737,
          "variable": "Non-renewable Resource Revenue (before AHSTF contributions)"
         },
         {
          "budget_dt": "1973-01-01T00:00:00",
          "value": 2087.072923564066,
          "variable": "Non-renewable Resource Revenue (before AHSTF contributions)"
         },
         {
          "budget_dt": "1974-01-01T00:00:00",
          "value": 4344.9693001222095,
          "variable": "Non-renewable Resource Revenue (before AHSTF contributions)"
         },
         {
          "budget_dt": "1975-01-01T00:00:00",
          "value": 4242.857801638297,
          "variable": "Non-renewable Resource Revenue (before AHSTF contributions)"
         },
         {
          "budget_dt": "1976-01-01T00:00:00",
          "value": 4752.42867293768,
          "variable": "Non-renewable Resource Revenue (before AHSTF contributions)"
         },
         {
          "budget_dt": "1977-01-01T00:00:00",
          "value": 6228.631146754037,
          "variable": "Non-renewable Resource Revenue (before AHSTF contributions)"
         },
         {
          "budget_dt": "1978-01-01T00:00:00",
          "value": 6427.305434092615,
          "variable": "Non-renewable Resource Revenue (before AHSTF contributions)"
         },
         {
          "budget_dt": "1979-01-01T00:00:00",
          "value": 7088.692849905479,
          "variable": "Non-renewable Resource Revenue (before AHSTF contributions)"
         },
         {
          "budget_dt": "1980-01-01T00:00:00",
          "value": 6462.460278651096,
          "variable": "Non-renewable Resource Revenue (before AHSTF contributions)"
         },
         {
          "budget_dt": "1981-01-01T00:00:00",
          "value": 5461.913536624685,
          "variable": "Non-renewable Resource Revenue (before AHSTF contributions)"
         },
         {
          "budget_dt": "1982-01-01T00:00:00",
          "value": 4220.398822358095,
          "variable": "Non-renewable Resource Revenue (before AHSTF contributions)"
         },
         {
          "budget_dt": "1983-01-01T00:00:00",
          "value": 4679.903516533523,
          "variable": "Non-renewable Resource Revenue (before AHSTF contributions)"
         },
         {
          "budget_dt": "1984-01-01T00:00:00",
          "value": 5002.519060411494,
          "variable": "Non-renewable Resource Revenue (before AHSTF contributions)"
         },
         {
          "budget_dt": "1985-01-01T00:00:00",
          "value": 4544.429505802886,
          "variable": "Non-renewable Resource Revenue (before AHSTF contributions)"
         },
         {
          "budget_dt": "1986-01-01T00:00:00",
          "value": 1669.8063951135487,
          "variable": "Non-renewable Resource Revenue (before AHSTF contributions)"
         },
         {
          "budget_dt": "1987-01-01T00:00:00",
          "value": 2212.73893364488,
          "variable": "Non-renewable Resource Revenue (before AHSTF contributions)"
         },
         {
          "budget_dt": "1988-01-01T00:00:00",
          "value": 1709.7966674782235,
          "variable": "Non-renewable Resource Revenue (before AHSTF contributions)"
         },
         {
          "budget_dt": "1989-01-01T00:00:00",
          "value": 1705.7194807933463,
          "variable": "Non-renewable Resource Revenue (before AHSTF contributions)"
         },
         {
          "budget_dt": "1990-01-01T00:00:00",
          "value": 1882.9647594980074,
          "variable": "Non-renewable Resource Revenue (before AHSTF contributions)"
         },
         {
          "budget_dt": "1991-01-01T00:00:00",
          "value": 1347.5575777009476,
          "variable": "Non-renewable Resource Revenue (before AHSTF contributions)"
         },
         {
          "budget_dt": "1992-01-01T00:00:00",
          "value": 1410.8250791167943,
          "variable": "Non-renewable Resource Revenue (before AHSTF contributions)"
         },
         {
          "budget_dt": "1993-01-01T00:00:00",
          "value": 1775.9345441869511,
          "variable": "Non-renewable Resource Revenue (before AHSTF contributions)"
         },
         {
          "budget_dt": "1994-01-01T00:00:00",
          "value": 2069.468626166085,
          "variable": "Non-renewable Resource Revenue (before AHSTF contributions)"
         },
         {
          "budget_dt": "1995-01-01T00:00:00",
          "value": 1651.0981388850323,
          "variable": "Non-renewable Resource Revenue (before AHSTF contributions)"
         },
         {
          "budget_dt": "1996-01-01T00:00:00",
          "value": 2298.325079005365,
          "variable": "Non-renewable Resource Revenue (before AHSTF contributions)"
         },
         {
          "budget_dt": "1997-01-01T00:00:00",
          "value": 2080.426536559648,
          "variable": "Non-renewable Resource Revenue (before AHSTF contributions)"
         },
         {
          "budget_dt": "1998-01-01T00:00:00",
          "value": 1256.1581311448883,
          "variable": "Non-renewable Resource Revenue (before AHSTF contributions)"
         },
         {
          "budget_dt": "1999-01-01T00:00:00",
          "value": 2346.8982553743353,
          "variable": "Non-renewable Resource Revenue (before AHSTF contributions)"
         },
         {
          "budget_dt": "2000-01-01T00:00:00",
          "value": 5087.71365250665,
          "variable": "Non-renewable Resource Revenue (before AHSTF contributions)"
         },
         {
          "budget_dt": "2001-01-01T00:00:00",
          "value": 2925.3776329415946,
          "variable": "Non-renewable Resource Revenue (before AHSTF contributions)"
         },
         {
          "budget_dt": "2002-01-01T00:00:00",
          "value": 3048.464539628953,
          "variable": "Non-renewable Resource Revenue (before AHSTF contributions)"
         },
         {
          "budget_dt": "2003-01-01T00:00:00",
          "value": 3179.1781491490824,
          "variable": "Non-renewable Resource Revenue (before AHSTF contributions)"
         },
         {
          "budget_dt": "2004-01-01T00:00:00",
          "value": 3895.9030546313734,
          "variable": "Non-renewable Resource Revenue (before AHSTF contributions)"
         },
         {
          "budget_dt": "2005-01-01T00:00:00",
          "value": 5419.261287330831,
          "variable": "Non-renewable Resource Revenue (before AHSTF contributions)"
         },
         {
          "budget_dt": "2006-01-01T00:00:00",
          "value": 4326.690524668393,
          "variable": "Non-renewable Resource Revenue (before AHSTF contributions)"
         },
         {
          "budget_dt": "2007-01-01T00:00:00",
          "value": 3637.8742440424553,
          "variable": "Non-renewable Resource Revenue (before AHSTF contributions)"
         },
         {
          "budget_dt": "2008-01-01T00:00:00",
          "value": 3768.725550181622,
          "variable": "Non-renewable Resource Revenue (before AHSTF contributions)"
         },
         {
          "budget_dt": "2009-01-01T00:00:00",
          "value": 2078.418164752056,
          "variable": "Non-renewable Resource Revenue (before AHSTF contributions)"
         },
         {
          "budget_dt": "2010-01-01T00:00:00",
          "value": 2531.977458700038,
          "variable": "Non-renewable Resource Revenue (before AHSTF contributions)"
         },
         {
          "budget_dt": "2011-01-01T00:00:00",
          "value": 3336.3420314398913,
          "variable": "Non-renewable Resource Revenue (before AHSTF contributions)"
         },
         {
          "budget_dt": "2012-01-01T00:00:00",
          "value": 2175.996730281691,
          "variable": "Non-renewable Resource Revenue (before AHSTF contributions)"
         },
         {
          "budget_dt": "2013-01-01T00:00:00",
          "value": 2559.979600401463,
          "variable": "Non-renewable Resource Revenue (before AHSTF contributions)"
         },
         {
          "budget_dt": "2014-01-01T00:00:00",
          "value": 2290.154283564111,
          "variable": "Non-renewable Resource Revenue (before AHSTF contributions)"
         },
         {
          "budget_dt": "2015-01-01T00:00:00",
          "value": 691.3571050954622,
          "variable": "Non-renewable Resource Revenue (before AHSTF contributions)"
         },
         {
          "budget_dt": "2016-01-01T00:00:00",
          "value": 750.3730538213771,
          "variable": "Non-renewable Resource Revenue (before AHSTF contributions)"
         },
         {
          "budget_dt": "1970-01-01T00:00:00",
          "value": 4726.041887031951,
          "variable": "Total Revenue"
         },
         {
          "budget_dt": "1971-01-01T00:00:00",
          "value": 4869.999404739734,
          "variable": "Total Revenue"
         },
         {
          "budget_dt": "1972-01-01T00:00:00",
          "value": 5112.85056833316,
          "variable": "Total Revenue"
         },
         {
          "budget_dt": "1973-01-01T00:00:00",
          "value": 5705.972452999098,
          "variable": "Total Revenue"
         },
         {
          "budget_dt": "1974-01-01T00:00:00",
          "value": 8375.500032472417,
          "variable": "Total Revenue"
         },
         {
          "budget_dt": "1975-01-01T00:00:00",
          "value": 8404.89926419777,
          "variable": "Total Revenue"
         },
         {
          "budget_dt": "1976-01-01T00:00:00",
          "value": 3956.9084403124084,
          "variable": "Total Revenue"
         },
         {
          "budget_dt": "1977-01-01T00:00:00",
          "value": 8658.970980169111,
          "variable": "Total Revenue"
         },
         {
          "budget_dt": "1978-01-01T00:00:00",
          "value": 8787.44348185658,
          "variable": "Total Revenue"
         },
         {
          "budget_dt": "1979-01-01T00:00:00",
          "value": 8965.761050036215,
          "variable": "Total Revenue"
         },
         {
          "budget_dt": "1980-01-01T00:00:00",
          "value": 8888.066600748252,
          "variable": "Total Revenue"
         },
         {
          "budget_dt": "1981-01-01T00:00:00",
          "value": 10855.955780355338,
          "variable": "Total Revenue"
         },
         {
          "budget_dt": "1982-01-01T00:00:00",
          "value": 9822.000461640273,
          "variable": "Total Revenue"
         },
         {
          "budget_dt": "1983-01-01T00:00:00",
          "value": 11000.07453467693,
          "variable": "Total Revenue"
         },
         {
          "budget_dt": "1984-01-01T00:00:00",
          "value": 12003.558357426471,
          "variable": "Total Revenue"
         },
         {
          "budget_dt": "1985-01-01T00:00:00",
          "value": 11618.149156258838,
          "variable": "Total Revenue"
         },
         {
          "budget_dt": "1986-01-01T00:00:00",
          "value": 8296.078284390782,
          "variable": "Total Revenue"
         },
         {
          "budget_dt": "1987-01-01T00:00:00",
          "value": 10031.476391866829,
          "variable": "Total Revenue"
         },
         {
          "budget_dt": "1988-01-01T00:00:00",
          "value": 9758.551723257007,
          "variable": "Total Revenue"
         },
         {
          "budget_dt": "1989-01-01T00:00:00",
          "value": 9776.666256207935,
          "variable": "Total Revenue"
         },
         {
          "budget_dt": "1990-01-01T00:00:00",
          "value": 9936.702051145548,
          "variable": "Total Revenue"
         },
         {
          "budget_dt": "1991-01-01T00:00:00",
          "value": 9154.994285300652,
          "variable": "Total Revenue"
         },
         {
          "budget_dt": "1992-01-01T00:00:00",
          "value": 9223.034678916983,
          "variable": "Total Revenue"
         },
         {
          "budget_dt": "1993-01-01T00:00:00",
          "value": 9712.476956955687,
          "variable": "Total Revenue"
         },
         {
          "budget_dt": "1994-01-01T00:00:00",
          "value": 9902.572786663291,
          "variable": "Total Revenue"
         },
         {
          "budget_dt": "1995-01-01T00:00:00",
          "value": 9194.826857430466,
          "variable": "Total Revenue"
         },
         {
          "budget_dt": "1996-01-01T00:00:00",
          "value": 9487.285378184763,
          "variable": "Total Revenue"
         },
         {
          "budget_dt": "1997-01-01T00:00:00",
          "value": 9776.572983080994,
          "variable": "Total Revenue"
         },
         {
          "budget_dt": "1998-01-01T00:00:00",
          "value": 8922.011658668021,
          "variable": "Total Revenue"
         },
         {
          "budget_dt": "1999-01-01T00:00:00",
          "value": 10146.171102750595,
          "variable": "Total Revenue"
         },
         {
          "budget_dt": "2000-01-01T00:00:00",
          "value": 12268.474060791354,
          "variable": "Total Revenue"
         },
         {
          "budget_dt": "2001-01-01T00:00:00",
          "value": 10300.599001104449,
          "variable": "Total Revenue"
         },
         {
          "budget_dt": "2002-01-01T00:00:00",
          "value": 9689.243113193734,
          "variable": "Total Revenue"
         },
         {
          "budget_dt": "2003-01-01T00:00:00",
          "value": 10721.649914932554,
          "variable": "Total Revenue"
         },
         {
          "budget_dt": "2004-01-01T00:00:00",
          "value": 11726.092445220538,
          "variable": "Total Revenue"
         },
         {
          "budget_dt": "2005-01-01T00:00:00",
          "value": 12764.17909120258,
          "variable": "Total Revenue"
         },
         {
          "budget_dt": "2006-01-01T00:00:00",
          "value": 12975.483729240032,
          "variable": "Total Revenue"
         },
         {
          "budget_dt": "2007-01-01T00:00:00",
          "value": 12292.675386867335,
          "variable": "Total Revenue"
         },
         {
          "budget_dt": "2008-01-01T00:00:00",
          "value": 11327.052511754431,
          "variable": "Total Revenue"
         },
         {
          "budget_dt": "2009-01-01T00:00:00",
          "value": 10950.389320143147,
          "variable": "Total Revenue"
         },
         {
          "budget_dt": "2010-01-01T00:00:00",
          "value": 10525.070988146315,
          "variable": "Total Revenue"
         },
         {
          "budget_dt": "2011-01-01T00:00:00",
          "value": 11338.000425337541,
          "variable": "Total Revenue"
         },
         {
          "budget_dt": "2012-01-01T00:00:00",
          "value": 10841.10159130958,
          "variable": "Total Revenue"
         },
         {
          "budget_dt": "2013-01-01T00:00:00",
          "value": 12105.779498954213,
          "variable": "Total Revenue"
         },
         {
          "budget_dt": "2014-01-01T00:00:00",
          "value": 11589.491089444578,
          "variable": "Total Revenue"
         },
         {
          "budget_dt": "2015-01-01T00:00:00",
          "value": 9035.732462472104,
          "variable": "Total Revenue"
         },
         {
          "budget_dt": "2016-01-01T00:00:00",
          "value": 8677.14245285921,
          "variable": "Total Revenue"
         },
         {
          "budget_dt": "1970-01-01T00:00:00",
          "value": 4776.814046964255,
          "variable": "Total Expenditure"
         },
         {
          "budget_dt": "1971-01-01T00:00:00",
          "value": 4952.07804639265,
          "variable": "Total Expenditure"
         },
         {
          "budget_dt": "1972-01-01T00:00:00",
          "value": 4974.95963746257,
          "variable": "Total Expenditure"
         },
         {
          "budget_dt": "1973-01-01T00:00:00",
          "value": 4912.29683417896,
          "variable": "Total Expenditure"
         },
         {
          "budget_dt": "1974-01-01T00:00:00",
          "value": 5937.171866022256,
          "variable": "Total Expenditure"
         },
         {
          "budget_dt": "1975-01-01T00:00:00",
          "value": 6871.914332296314,
          "variable": "Total Expenditure"
         },
         {
          "budget_dt": "1976-01-01T00:00:00",
          "value": 6713.638957415591,
          "variable": "Total Expenditure"
         },
         {
          "budget_dt": "1977-01-01T00:00:00",
          "value": 6841.780996483237,
          "variable": "Total Expenditure"
         },
         {
          "budget_dt": "1978-01-01T00:00:00",
          "value": 6625.922055246368,
          "variable": "Total Expenditure"
         },
         {
          "budget_dt": "1979-01-01T00:00:00",
          "value": 8986.266837096467,
          "variable": "Total Expenditure"
         },
         {
          "budget_dt": "1980-01-01T00:00:00",
          "value": 9393.34525842611,
          "variable": "Total Expenditure"
         },
         {
          "budget_dt": "1981-01-01T00:00:00",
          "value": 10051.853513695554,
          "variable": "Total Expenditure"
         },
         {
          "budget_dt": "1982-01-01T00:00:00",
          "value": 12039.706393039505,
          "variable": "Total Expenditure"
         },
         {
          "budget_dt": "1983-01-01T00:00:00",
          "value": 11578.819665095705,
          "variable": "Total Expenditure"
         },
         {
          "budget_dt": "1984-01-01T00:00:00",
          "value": 11516.604407962051,
          "variable": "Total Expenditure"
         },
         {
          "budget_dt": "1985-01-01T00:00:00",
          "value": 12950.51839092854,
          "variable": "Total Expenditure"
         },
         {
          "budget_dt": "1986-01-01T00:00:00",
          "value": 12046.964742758953,
          "variable": "Total Expenditure"
         },
         {
          "budget_dt": "1987-01-01T00:00:00",
          "value": 11181.662471236694,
          "variable": "Total Expenditure"
         },
         {
          "budget_dt": "1988-01-01T00:00:00",
          "value": 11404.384774397917,
          "variable": "Total Expenditure"
         },
         {
          "budget_dt": "1989-01-01T00:00:00",
          "value": 11387.961980028791,
          "variable": "Total Expenditure"
         },
         {
          "budget_dt": "1990-01-01T00:00:00",
          "value": 11220.032199731988,
          "variable": "Total Expenditure"
         },
         {
          "budget_dt": "1991-01-01T00:00:00",
          "value": 10907.08571545683,
          "variable": "Total Expenditure"
         },
         {
          "budget_dt": "1992-01-01T00:00:00",
          "value": 11371.263063243243,
          "variable": "Total Expenditure"
         },
         {
          "budget_dt": "1993-01-01T00:00:00",
          "value": 10576.802927875213,
          "variable": "Total Expenditure"
         },
         {
          "budget_dt": "1994-01-01T00:00:00",
          "value": 9327.92460094873,
          "variable": "Total Expenditure"
         },
         {
          "budget_dt": "1995-01-01T00:00:00",
          "value": 8512.696937166045,
          "variable": "Total Expenditure"
         },
         {
          "budget_dt": "1996-01-01T00:00:00",
          "value": 8069.206270191616,
          "variable": "Total Expenditure"
         },
         {
          "budget_dt": "1997-01-01T00:00:00",
          "value": 8312.344777492825,
          "variable": "Total Expenditure"
         },
         {
          "budget_dt": "1998-01-01T00:00:00",
          "value": 8341.675089634024,
          "variable": "Total Expenditure"
         },
         {
          "budget_dt": "1999-01-01T00:00:00",
          "value": 8737.527440223763,
          "variable": "Total Expenditure"
         },
         {
          "budget_dt": "2000-01-01T00:00:00",
          "value": 9110.400528709244,
          "variable": "Total Expenditure"
         },
         {
          "budget_dt": "2001-01-01T00:00:00",
          "value": 9792.756826508357,
          "variable": "Total Expenditure"
         },
         {
          "budget_dt": "2002-01-01T00:00:00",
          "value": 8777.269079108382,
          "variable": "Total Expenditure"
         },
         {
          "budget_dt": "2003-01-01T00:00:00",
          "value": 9008.63782206119,
          "variable": "Total Expenditure"
         },
         {
          "budget_dt": "2004-01-01T00:00:00",
          "value": 9656.993686218346,
          "variable": "Total Expenditure"
         },
         {
          "budget_dt": "2005-01-01T00:00:00",
          "value": 10195.252067076493,
          "variable": "Total Expenditure"
         },
         {
          "budget_dt": "2006-01-01T00:00:00",
          "value": 10413.34888347392,
          "variable": "Total Expenditure"
         },
         {
          "budget_dt": "2007-01-01T00:00:00",
          "value": 11083.900590429788,
          "variable": "Total Expenditure"
         },
         {
          "budget_dt": "2008-01-01T00:00:00",
          "value": 11596.540901914293,
          "variable": "Total Expenditure"
         },
         {
          "budget_dt": "2009-01-01T00:00:00",
          "value": 11267.311238881935,
          "variable": "Total Expenditure"
         },
         {
          "budget_dt": "2010-01-01T00:00:00",
          "value": 11549.518441179907,
          "variable": "Total Expenditure"
         },
         {
          "budget_dt": "2011-01-01T00:00:00",
          "value": 11344.595119968266,
          "variable": "Total Expenditure"
         },
         {
          "budget_dt": "2012-01-01T00:00:00",
          "value": 11636.085870453499,
          "variable": "Total Expenditure"
         },
         {
          "budget_dt": "2013-01-01T00:00:00",
          "value": 11903.985324982288,
          "variable": "Total Expenditure"
         },
         {
          "budget_dt": "2014-01-01T00:00:00",
          "value": 11222.216682100536,
          "variable": "Total Expenditure"
         },
         {
          "budget_dt": "2015-01-01T00:00:00",
          "value": 10832.170232506818,
          "variable": "Total Expenditure"
         },
         {
          "budget_dt": "2016-01-01T00:00:00",
          "value": 11548.040197363407,
          "variable": "Total Expenditure"
         }
        ]
       },
       "encoding": {
        "color": {
         "field": "variable",
         "legend": {
          "orient": "left",
          "title": null
         },
         "type": "nominal"
        },
        "x": {
         "axis": {
          "title": null
         },
         "field": "budget_dt",
         "type": "temporal"
        },
        "y": {
         "axis": {
          "title": "Per capita in 2017 dollars"
         },
         "field": "value",
         "type": "quantitative"
        }
       },
       "height": 400,
       "mark": "line",
       "width": 800
      },
      "image/png": "[encoded data removed]",
      "text/plain": [
       "<VegaLite 2 object>\n",
       "\n",
       "If you see this message, it means the renderer has not been properly enabled\n",
       "for the frontend that you are using. For more information, see\n",
       "https://altair-viz.github.io/user_guide/troubleshooting.html\n"
      ]
     },
     "execution_count": 5,
     "metadata": {},
     "output_type": "execute_result"
    }
   ],
   "source": [
    "chart_df = (\n",
    "    df\n",
    "    .loc['1970':'2016', ['natural_resource_revenue_before_heritage', 'total_revenue', 'total_expenditure']]\n",
    "    .rename(columns={\n",
    "        'natural_resource_revenue_before_heritage': 'Non-renewable Resource Revenue (before AHSTF contributions)',\n",
    "        'total_revenue': 'Total Revenue',\n",
    "        'total_expenditure': 'Total Expenditure'\n",
    "    })\n",
    "    .reset_index()\n",
    "    .melt(id_vars='budget_dt')\n",
    ")\n",
    "chart = (\n",
    "    alt.Chart(chart_df)\n",
    "    .mark_line()\n",
    "    .encode(\n",
    "        x=alt.X('budget_dt:T', axis=alt.Axis(title=None)),\n",
    "        y=alt.Y('value:Q', axis=alt.Axis(title='Per capita in 2017 dollars')),\n",
    "        color=alt.Color('variable:N', legend=alt.Legend(title=None, orient='left'))\n",
    "    )\n",
    "    .properties(width=800, height=400)\n",
    ")\n",
    "chart"
   ]
  },
  {
   "cell_type": "markdown",
   "metadata": {},
   "source": [
    "1976/1977 more closely matches the original chart in the paper, but the remaining years in the period of mid 70s to mid 80s when there were significant contributions clearly do not match. Going forward all analysis in this reproduction will treat NRR as net of AHSTF contributions."
   ]
  },
  {
   "cell_type": "markdown",
   "metadata": {},
   "source": [
    "### Figure 2\n",
    "\n",
    "Page 6 of the paper produces a scatter plot of Real per capita non-renewable resource revenue on the X axis vs. Real per capita budget balance on the Y, along with a linear trend fit."
   ]
  },
  {
   "cell_type": "code",
   "execution_count": 6,
   "metadata": {},
   "outputs": [
    {
     "data": {
      "text/plain": [
       "<matplotlib.axes._subplots.AxesSubplot at 0x1794c664da0>"
      ]
     },
     "execution_count": 6,
     "metadata": {},
     "output_type": "execute_result"
    },
    {
     "data": {
      "image/png": "[encoded data removed]",
      "text/plain": [
       "<Figure size 842.4x595.44 with 1 Axes>"
      ]
     },
     "metadata": {},
     "output_type": "display_data"
    }
   ],
   "source": [
    "sns.set(rc={'figure.figsize':(11.7,8.27)})\n",
    "chart_df = (\n",
    "    df\n",
    "    .loc['1970':'2016', ['natural_resource_revenue', 'deficit']]\n",
    "    .rename(columns={\n",
    "        'natural_resource_revenue': 'Non-renewable Resource Revenue',\n",
    "        'deficit': 'Deficit'\n",
    "    })\n",
    "    .assign(balance=lambda df: df['Deficit'] * -1)\n",
    "    .rename(columns={'balance': 'Budget Balance'})\n",
    "    .copy()\n",
    ")\n",
    "sns.regplot(x='Non-renewable Resource Revenue', y='Budget Balance', data=chart_df)"
   ]
  },
  {
   "cell_type": "markdown",
   "metadata": {},
   "source": [
    "With the exception of the outlier previously noted in the time series view of the plot, this representation also looks very similar to what was in the original paper."
   ]
  },
  {
   "cell_type": "code",
   "execution_count": null,
   "metadata": {},
   "outputs": [],
   "source": []
  }
 ],
 "metadata": {
  "kernelspec": {
   "display_name": "Python 3",
   "language": "python",
   "name": "python3"
  },
  "language_info": {
   "codemirror_mode": {
    "name": "ipython",
    "version": 3
   },
   "file_extension": ".py",
   "mimetype": "text/x-python",
   "name": "python",
   "nbconvert_exporter": "python",
   "pygments_lexer": "ipython3",
   "version": "3.7.1"
  }
 },
 "nbformat": 4,
 "nbformat_minor": 2
}
