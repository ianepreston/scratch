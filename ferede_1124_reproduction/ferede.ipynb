{
 "cells": [
  {
   "cell_type": "markdown",
   "metadata": {},
   "source": [
    "# Reproduction of: \n",
    "## *\"ALBERTA’S FISCAL RESPONSES TO FLUCTUATIONS IN NON-RENEWABLE-RESOURCE REVENUE\"*\n",
    "## in python\n",
    "\n",
    "This notebook attempts to replicate the empirical results, tables, and figures produced in the paper by Dr. Ergete Ferede, published by the University of Calgary school of public policy in Volume 11:24, September 2018.\n",
    "The original paper is here: [https://www.policyschool.ca/wp-content/uploads/2018/09/NRR-Ferede.pdf](https://www.policyschool.ca/wp-content/uploads/2018/09/NRR-Ferede.pdf)"
   ]
  },
  {
   "cell_type": "markdown",
   "metadata": {},
   "source": [
    "## Setup and data acquisition\n",
    "\n",
    "This section of the code loads required modules, downloads the required data sets, and reads them into DataFrames"
   ]
  },
  {
   "cell_type": "code",
   "execution_count": 1,
   "metadata": {},
   "outputs": [],
   "source": [
    "from pathlib import Path\n",
    "import datetime as dt\n",
    "import requests\n",
    "import pandas as pd\n",
    "import pandas_datareader as pdr\n",
    "import numpy as np\n",
    "import stats_can\n",
    "import altair as alt\n",
    "import seaborn as sns\n",
    "from arch.unitroot import DFGLS, ADF, PhillipsPerron\n",
    "from statsmodels.tsa.api import VAR\n",
    "%matplotlib inline"
   ]
  },
  {
   "cell_type": "markdown",
   "metadata": {},
   "source": [
    "### Historical budget data\n",
    "\n",
    "Functions in this section are concerned with acquiring historical Alberta budget data and reading it into a DataFrame"
   ]
  },
  {
   "cell_type": "code",
   "execution_count": 2,
   "metadata": {},
   "outputs": [],
   "source": [
    "def download_budget_data():\n",
    "    \"\"\"Download the excel file for the analysis from the policy school page\n",
    "    \n",
    "    Note the readme sheet on the first file. Credit to Kneebone and Wilkins for\n",
    "    assembling it, and policy school for hosting it\n",
    "    \n",
    "    Returns\n",
    "    -------\n",
    "    fname: pathlib.Path\n",
    "        A path object with the location and name of the data\n",
    "    \"\"\"\n",
    "    print('Downloading data set')\n",
    "    # Originally used this URL, but found it was missing some later heritage contributions. After discussion with Dr. Kneebone\n",
    "    # an updated set has been provided\n",
    "    # url = 'https://www.policyschool.ca/wp-content/uploads/2019/01/Provincial-Government-Budget-Data-January-2019FINAL-USE.xlsx'\n",
    "    url = 'https://www.policyschool.ca/wp-content/uploads/2019/03/Provincial-Government-Budget-Data-March-2019.xlsx'\n",
    "    response = requests.get(\n",
    "        url,\n",
    "        stream=True,\n",
    "        headers={'user-agent': None}\n",
    "    )\n",
    "    fname = Path('.').joinpath('data').joinpath('budgets.xlsx')\n",
    "    with open (fname, 'wb') as outfile:\n",
    "        for chunk in response.iter_content(chunk_size=512):\n",
    "            if chunk: # filter out keep-alive new chunks\n",
    "                outfile.write(chunk)\n",
    "    return fname\n",
    "\n",
    "def get_budget_file(force_update=False):\n",
    "    \"\"\"Return the data set, download if necessary\"\"\"\n",
    "    fname = Path('.').joinpath('data').joinpath('budgets.xlsx')\n",
    "    if not fname.exists() or force_update:\n",
    "        download_budget_data()\n",
    "    return fname\n",
    "\n",
    "\n",
    "def get_date_index(df):\n",
    "    \"\"\"Helper function to turn budget year strings into datetimes\"\"\"\n",
    "    date_index = pd.to_datetime(\n",
    "        df\n",
    "        .assign(year=lambda df: df['budget_yr'].str[0:4].astype(int))\n",
    "        .assign(month=1)\n",
    "        .assign(day=1)\n",
    "        [['year', 'month', 'day']]\n",
    "    )\n",
    "    return date_index\n",
    "\n",
    "\n",
    "def read_ab_budget():\n",
    "    \"\"\"Read Alberta budget data \n",
    "    \n",
    "    Downloads the data if necessary, reads it in and gives\n",
    "    the variables easier to work with names\n",
    "    \n",
    "    Returns\n",
    "    -------\n",
    "    df: pandas.DataFrame\n",
    "        Alberta's revenue and expenditure tables\n",
    "    \"\"\"\n",
    "    fname = get_budget_file()\n",
    "    df = (\n",
    "        pd.read_excel(\n",
    "            fname,\n",
    "            sheet_name='Alberta',\n",
    "            header=3,\n",
    "            index_col=1,\n",
    "            skipfooter=21\n",
    "        )\n",
    "        # Because of the merged cells we get an empty first row\n",
    "        .loc[lambda x: x.index.notnull()]\n",
    "        # Not sure where the empty first column comes from but drop it\n",
    "        .drop(columns='Unnamed: 0')\n",
    "        .reset_index()\n",
    "        .rename(columns={\n",
    "            'index': 'budget_yr',\n",
    "            'Personal Income Tax': 'personal_income_tax',\n",
    "            'Corporation Income Tax': 'corporate_income_tax',\n",
    "            'Retail Sales Tax': 'retail_sales_tax',\n",
    "            'Federal Cash Transfers': 'federal_cash_transfers',\n",
    "            'Natural Resource Revenue': 'natural_resource_revenue',\n",
    "            'Other Own-Source Revenue': 'other_own_source_revenue',\n",
    "            'Total Revenue': 'total_revenue',\n",
    "            'Health': 'health_exp',\n",
    "            'Social Services': 'social_services_exp',\n",
    "            'Education': 'education_exp',\n",
    "            'Other Program Expenditures': 'other_program_exp',\n",
    "            'Total Program Expenditures': 'total_prog_exp',\n",
    "            'Debt Service': 'debt_service',\n",
    "            'Total  Expenditures': 'total_exp',\n",
    "            'Unnamed: 16': 'annual_deficit'\n",
    "        })\n",
    "        .assign(budget_dt=lambda df: get_date_index(df))\n",
    "        .set_index('budget_dt')\n",
    "    )  \n",
    "    return df\n",
    "\n",
    "def read_heritage():\n",
    "    \"\"\"Heritage Trust fund deposits are separate\"\"\"\n",
    "    fname = get_budget_file()\n",
    "    df = (\n",
    "        pd.read_excel(\n",
    "            fname,\n",
    "            sheet_name='Alberta',\n",
    "            header=None,\n",
    "            usecols='D:G',\n",
    "            names=['budget_yr', 'resource_allocation', 'deposits', 'advance_edu'],\n",
    "            skiprows=71,\n",
    "            skipfooter=1\n",
    "        )\n",
    "        .loc[lambda df: ~df['budget_yr'].isna()]\n",
    "        .set_index('budget_yr')\n",
    "        .fillna(0)\n",
    "        .assign(total_heritage=lambda df: df.sum(axis='columns'))\n",
    "        # Add a dummy variable to indicate heritage fund deposit years\n",
    "        .assign(heritage_dummy=1)\n",
    "        .reset_index()\n",
    "        .assign(budget_dt=lambda df: get_date_index(df))\n",
    "        .drop(columns='budget_yr')\n",
    "        .set_index('budget_dt')\n",
    "    )\n",
    "    return df\n",
    "\n",
    "\n",
    "def clean_budget():\n",
    "    \"\"\"Combine base budget with heritage deposits\"\"\"\n",
    "    budg = read_ab_budget()\n",
    "    heritage= read_heritage()\n",
    "    budg_clean = (\n",
    "        budg\n",
    "        .assign(other_revenue=lambda df: df[['retail_sales_tax', 'federal_cash_transfers', 'other_own_source_revenue']].sum(axis='columns'))\n",
    "        .reindex(columns=['personal_income_tax', 'corporate_income_tax', 'natural_resource_revenue', 'other_revenue', 'total_prog_exp', 'debt_service'])\n",
    "        .merge(heritage[['total_heritage', 'heritage_dummy']], how='left', left_index=True, right_index=True)\n",
    "        .fillna(0)\n",
    "        .assign(natural_resource_revenue_before_heritage=lambda df: df['natural_resource_revenue'])\n",
    "        .assign(natural_resource_revenue=lambda df: df['natural_resource_revenue'] - df['total_heritage'])\n",
    "        .assign(total_revenue=lambda df: df[['personal_income_tax', 'corporate_income_tax', 'natural_resource_revenue', 'other_revenue']].sum(axis='columns'))\n",
    "        .assign(total_expenditure=lambda df: df[['total_prog_exp', 'debt_service']].sum(axis='columns'))\n",
    "        .assign(deficit=lambda df: df['total_expenditure'] - df['total_revenue'])\n",
    "        .astype('float64')\n",
    "    )\n",
    "    return budg_clean"
   ]
  },
  {
   "cell_type": "markdown",
   "metadata": {},
   "source": [
    "### Real Per Capita budget\n",
    "\n",
    "Functions in this section transform the nominal total budget numbers acquired in the previous section into real per-capita figures"
   ]
  },
  {
   "cell_type": "code",
   "execution_count": 3,
   "metadata": {},
   "outputs": [],
   "source": [
    "def monthly_to_budget_annual(df, index_name):\n",
    "    \"\"\"Take a monthly indexed dataframe and annualize it by budget period\n",
    "\n",
    "    Rolling mean indexed on January year N+1 is the March to March\n",
    "    average population for fiscal year N\n",
    "    Applying a date offset of -1 year and taking only\n",
    "    January data of these rolling means gives us an average on the\n",
    "    same basis as the budget dates.\n",
    "\n",
    "    Parameters\n",
    "    ----------\n",
    "    df: pandas.DataFrame\n",
    "        DataFrame to be piped into this function\n",
    "    index_name: The name of the date index\n",
    "    \"\"\"\n",
    "    df = (\n",
    "        df\n",
    "        .copy()\n",
    "        .rolling(4, closed='left')\n",
    "        .mean()\n",
    "        .reset_index()\n",
    "        .assign(budget_dt=lambda df: df[index_name] - pd.DateOffset(years=1))\n",
    "        .loc[lambda x: x['budget_dt'].dt.year >= 1965]\n",
    "        .loc[lambda x: x['budget_dt'].dt.month == 1]\n",
    "        .drop(columns=index_name)\n",
    "        .set_index('budget_dt')\n",
    "        .copy()\n",
    "    )\n",
    "    return df\n",
    "    \n",
    "\n",
    "def per_capita_data():\n",
    "    \"\"\"Read in population data to calculate per capita estimates\n",
    "    \"\"\"\n",
    "    table = '17-10-0009-01'\n",
    "    df = (\n",
    "        stats_can.table_to_df(table, path='data')\n",
    "        .loc[lambda x: x['GEO'] == 'Alberta']\n",
    "        .loc[lambda x: x['REF_DATE'] >= '1965']\n",
    "        .set_index('REF_DATE')\n",
    "        [['VALUE']]\n",
    "        .rename(columns={'VALUE':'population'})\n",
    "        .pipe(monthly_to_budget_annual, 'REF_DATE')\n",
    "    )\n",
    "    return df\n",
    "\n",
    "\n",
    "def inflation_data():\n",
    "    \"\"\"Read in inflation data to calculate real dollar estimates\n",
    "    The whole series is scaled so 2017 budget year is = 1\n",
    "    \"\"\"\n",
    "    # Alberta inflation doesn't go back far enough, use Canada for earlier dates\n",
    "    vecs = ('v41692327', 'v41690973')\n",
    "    df = (\n",
    "        stats_can.vectors_to_df_local(vecs, path='data', start_date=dt.date(1965, 1, 1))\n",
    "        .rename(columns={'v41692327': 'ab_inflation', 'v41690973': 'ca_inflation'})\n",
    "    )\n",
    "    mask = df['ab_inflation'].isna()\n",
    "    # Could probably do some interpolation or scaling before this, but I looked\n",
    "    # at the raw series and they were pretty comparable\n",
    "    df.loc[mask, 'ab_inflation'] = df.loc[mask, 'ca_inflation']\n",
    "    df = (\n",
    "        df\n",
    "        .drop(columns='ca_inflation')\n",
    "        .pipe(monthly_to_budget_annual, 'REF_DATE')\n",
    "    )\n",
    "    # Rescale to 2017 = 100 (this is fiscal year 2017, original may have done calendar year)\n",
    "    inf_2017 = float(df.loc['2017', 'ab_inflation'])\n",
    "    df = df / inf_2017\n",
    "    return df\n",
    "\n",
    "\n",
    "def budget_real_per_capita():\n",
    "    \"\"\"Take total current dollar budget results\n",
    "    and covert them to per capital constant 2017 dollars\n",
    "    \"\"\"\n",
    "    clean_budget_df = clean_budget()\n",
    "    scale_cols = clean_budget_df.columns.drop('heritage_dummy').tolist()\n",
    "    per_capita = per_capita_data()\n",
    "    inflation = inflation_data()\n",
    "    dfpc = (\n",
    "        clean_budget_df\n",
    "        .assign(pop=per_capita)\n",
    "        .assign(cpi=inflation)\n",
    "    )\n",
    "    dfpc[scale_cols] = (\n",
    "        dfpc[scale_cols]\n",
    "        .mul(1_000_000)\n",
    "        .div(dfpc['pop'], axis='index')\n",
    "        .div(dfpc['cpi'], axis='index')\n",
    "    )\n",
    "    return dfpc"
   ]
  },
  {
   "cell_type": "markdown",
   "metadata": {},
   "source": [
    "### Exogenous factors\n",
    "\n",
    "The paper lists the Alberta employment rate, the Alberta unemployment rate, and the CAD/USD exchange rate as exogenous factors included in the model. Functions in this section acquire that data."
   ]
  },
  {
   "cell_type": "code",
   "execution_count": 4,
   "metadata": {},
   "outputs": [],
   "source": [
    "def download_historical_cad_usd():\n",
    "    \"\"\"FRED live data only goes back to 1971, I need a longer series\n",
    "    This was what I could find. It's annual only, so I can't do it on a budget\n",
    "    year basis, but hopefully it will be close enough\n",
    "    \"\"\"\n",
    "    url = 'https://fxtop.com/en/historical-exchange-rates.php?YA=1&C1=USD&C2=CAD&A=1&YYYY1=1953&MM1=01&DD1=01&YYYY2=2019&MM2=04&DD2=01&LANG=en'\n",
    "    df = pd.read_html(url)[29]\n",
    "    headers = df.iloc[0]\n",
    "    new_df  = (\n",
    "        pd.DataFrame(df.values[1:], columns=headers)\n",
    "        .rename(columns={'Year': 'year', 'Average USD/CAD': 'EXCAUS'})\n",
    "        .assign(month=1)\n",
    "        .assign(day=1)\n",
    "        .assign(budget_dt=lambda df: pd.to_datetime(df[['year', 'month', 'day']]))\n",
    "        .set_index('budget_dt')\n",
    "        .reindex(columns=['EXCAUS'])\n",
    "    )\n",
    "    new_df.to_csv('./data/early_cad_usd.csv')\n",
    "    return new_df\n",
    "\n",
    "\n",
    "def read_historical_cad_usd(force_update=False):\n",
    "    \"\"\"Return the data set, download if necessary\"\"\"\n",
    "    fname = Path('.').joinpath('data').joinpath('early_cad_usd.csv')\n",
    "    if not fname.exists() or force_update:\n",
    "        return download_historical_cad_usd()\n",
    "    else:\n",
    "        return pd.read_csv(fname).set_index('budget_dt')\n",
    "\n",
    "\n",
    "def download_cad_usd():\n",
    "    \"\"\"Download monthly exchange data from FRED\"\"\"\n",
    "    df = pdr.get_data_fred('EXCAUS', start=dt.date(1970, 1, 1))\n",
    "    df.to_csv('./data/cad_usd.csv')\n",
    "    return df\n",
    "\n",
    "\n",
    "def read_cad_usd(force_update=False):\n",
    "    \"\"\"Return the data set, download if necessary\"\"\"\n",
    "    fname = Path('.').joinpath('data').joinpath('cad_usd.csv')\n",
    "    if not fname.exists() or force_update:\n",
    "        return download_cad_usd()\n",
    "    else:\n",
    "        return pd.read_csv(fname, parse_dates=['DATE']).set_index('DATE')\n",
    "\n",
    "    \n",
    "def annual_cad_usd():\n",
    "    \"\"\"Full series of CAD/USD\n",
    "    \n",
    "    Get FRED data and turn the monthly values into annualized on a budget\n",
    "    basis for as much as possible. Fill in the remainder with calendar annual\n",
    "    data from fxtop\n",
    "    \"\"\"\n",
    "    annual_date_range = pd.date_range('1964-01-01', '2018-01-01', freq='AS', name='budget_dt')\n",
    "    old_df = read_historical_cad_usd()\n",
    "    df = (\n",
    "        read_cad_usd()\n",
    "        .pipe(monthly_to_budget_annual, 'DATE')\n",
    "        .reindex(annual_date_range)\n",
    "        .fillna(old_df)\n",
    "    )\n",
    "    return df\n",
    "\n",
    "def stats_can_exog():\n",
    "    \"\"\"Bring in exogenous StatsCan data\"\"\"\n",
    "    ur_vec = \"v2064516\"\n",
    "    er_vec = \"v2064518\"\n",
    "    annual_date_range = pd.date_range('1964-01-01', '2018-01-01', freq='AS', name='budget_dt')\n",
    "    old_df = (\n",
    "        stats_can.table_to_df('36-10-0345-01', path='data')\n",
    "        .loc[lambda x: x['GEO'] == 'Alberta']\n",
    "        .loc[lambda x: x['Economic indicators'].isin(['Population', 'Total employment', 'Unemployment rate'])]\n",
    "        .pivot_table(index='REF_DATE', columns='Economic indicators', values='VALUE')\n",
    "        .rename(columns={'Unemployment rate': 'unemployment_rate'})\n",
    "        .assign(employment_rate=lambda x: (x['Total employment'] / x['Population']) * 100)\n",
    "        .reindex(columns=['unemployment_rate', 'employment_rate'])\n",
    "        .rename_axis('budget_dt', axis='index')\n",
    "        .rename_axis(None, axis='columns')\n",
    "    )\n",
    "\n",
    "    df = (\n",
    "        stats_can.vectors_to_df_local([ur_vec, er_vec], path='data', start_date=dt.date(1964, 1, 1))\n",
    "        .rename(columns={ur_vec: 'unemployment_rate', er_vec: 'employment_rate'})\n",
    "        .pipe(monthly_to_budget_annual, 'REF_DATE')\n",
    "        .reindex(annual_date_range)\n",
    "        .fillna(old_df)\n",
    "        .fillna(method='bfill') # Still can't quite get back far enough\n",
    "    )\n",
    "    return df\n",
    "\n",
    "def exogenous_variables():\n",
    "    \"\"\"Bring in exogenous parameters\n",
    "    \n",
    "    From the paper:\n",
    "    We also include other exogenous variables that are likely to affect\n",
    "    the province’s budget. It is known that the various components of the\n",
    "    provincial budget can be influenced by the business cycle. Thus, following\n",
    "    Buettner and Wildsain (2006), we account for the potential effects of the\n",
    "    business cycle by including one-period lagged changes in the provincial\n",
    "    employment and unemployment rates. Another important exogenous factor\n",
    "    that is often cited in provincial budget documents as being important in\n",
    "    influencing the provincial government’s oil royalty revenue is the Canadian-U.S.\n",
    "    dollar exchange rate. For this reason, we control for this factor by\n",
    "    including one period lagged changes in the Canadian-U.S. dollar exchange rate\n",
    "    \"\"\"\n",
    "    cadusd = annual_cad_usd()\n",
    "    ur_er = stats_can_exog()\n",
    "    df = pd.concat([cadusd, ur_er], axis='columns')\n",
    "    return df"
   ]
  },
  {
   "cell_type": "markdown",
   "metadata": {},
   "source": [
    "## Exploratory Figures\n",
    "\n",
    "### Figure 1\n",
    "Page 5 of the report charts Non-renewable Resource Revenue, Total Expenditure, and Total Revenue. All are in per-capita 2017 dollars.\n",
    "Reproducing this chart will be a good starting check that my data extraction and transformation matches the original author's strategy"
   ]
  },
  {
   "cell_type": "code",
   "execution_count": 5,
   "metadata": {},
   "outputs": [],
   "source": [
    "df = budget_real_per_capita()"
   ]
  },
  {
   "cell_type": "code",
   "execution_count": 6,
   "metadata": {},
   "outputs": [
    {
     "data": {
      "application/vnd.vegalite.v3+json": {
       "$schema": "https://vega.github.io/schema/vega-lite/v3.2.1.json",
       "config": {
        "mark": {
         "tooltip": null
        },
        "view": {
         "height": 300,
         "width": 400
        }
       },
       "data": {
        "name": "data-794a8c9123516b88dcb24f4287d6174a"
       },
       "datasets": {
        "data-794a8c9123516b88dcb24f4287d6174a": [
         {
          "budget_dt": "1970-01-01T00:00:00",
          "value": 977.3640786968494,
          "variable": "Non-renewable Resource Revenue"
         },
         {
          "budget_dt": "1971-01-01T00:00:00",
          "value": 1067.0223414879192,
          "variable": "Non-renewable Resource Revenue"
         },
         {
          "budget_dt": "1972-01-01T00:00:00",
          "value": 1201.1025820569737,
          "variable": "Non-renewable Resource Revenue"
         },
         {
          "budget_dt": "1973-01-01T00:00:00",
          "value": 2087.072923564066,
          "variable": "Non-renewable Resource Revenue"
         },
         {
          "budget_dt": "1974-01-01T00:00:00",
          "value": 4344.9693001222095,
          "variable": "Non-renewable Resource Revenue"
         },
         {
          "budget_dt": "1975-01-01T00:00:00",
          "value": 4242.857801638297,
          "variable": "Non-renewable Resource Revenue"
         },
         {
          "budget_dt": "1976-01-01T00:00:00",
          "value": -121.85714545994051,
          "variable": "Non-renewable Resource Revenue"
         },
         {
          "budget_dt": "1977-01-01T00:00:00",
          "value": 4344.6624665630015,
          "variable": "Non-renewable Resource Revenue"
         },
         {
          "budget_dt": "1978-01-01T00:00:00",
          "value": 4532.395507950054,
          "variable": "Non-renewable Resource Revenue"
         },
         {
          "budget_dt": "1979-01-01T00:00:00",
          "value": 4987.6383603473805,
          "variable": "Non-renewable Resource Revenue"
         },
         {
          "budget_dt": "1980-01-01T00:00:00",
          "value": 4520.631394756142,
          "variable": "Non-renewable Resource Revenue"
         },
         {
          "budget_dt": "1981-01-01T00:00:00",
          "value": 3812.2960110307927,
          "variable": "Non-renewable Resource Revenue"
         },
         {
          "budget_dt": "1982-01-01T00:00:00",
          "value": 2817.6947013899753,
          "variable": "Non-renewable Resource Revenue"
         },
         {
          "budget_dt": "1983-01-01T00:00:00",
          "value": 3974.8333068862876,
          "variable": "Non-renewable Resource Revenue"
         },
         {
          "budget_dt": "1984-01-01T00:00:00",
          "value": 4298.397043111272,
          "variable": "Non-renewable Resource Revenue"
         },
         {
          "budget_dt": "1985-01-01T00:00:00",
          "value": 3913.2587411080403,
          "variable": "Non-renewable Resource Revenue"
         },
         {
          "budget_dt": "1986-01-01T00:00:00",
          "value": 1478.2905453568678,
          "variable": "Non-renewable Resource Revenue"
         },
         {
          "budget_dt": "1987-01-01T00:00:00",
          "value": 2212.73893364488,
          "variable": "Non-renewable Resource Revenue"
         },
         {
          "budget_dt": "1988-01-01T00:00:00",
          "value": 1709.7966674782235,
          "variable": "Non-renewable Resource Revenue"
         },
         {
          "budget_dt": "1989-01-01T00:00:00",
          "value": 1705.7194807933463,
          "variable": "Non-renewable Resource Revenue"
         },
         {
          "budget_dt": "1990-01-01T00:00:00",
          "value": 1882.9647594980074,
          "variable": "Non-renewable Resource Revenue"
         },
         {
          "budget_dt": "1991-01-01T00:00:00",
          "value": 1347.5575777009476,
          "variable": "Non-renewable Resource Revenue"
         },
         {
          "budget_dt": "1992-01-01T00:00:00",
          "value": 1410.8250791167943,
          "variable": "Non-renewable Resource Revenue"
         },
         {
          "budget_dt": "1993-01-01T00:00:00",
          "value": 1775.9345441869511,
          "variable": "Non-renewable Resource Revenue"
         },
         {
          "budget_dt": "1994-01-01T00:00:00",
          "value": 2069.468626166085,
          "variable": "Non-renewable Resource Revenue"
         },
         {
          "budget_dt": "1995-01-01T00:00:00",
          "value": 1651.0981388850323,
          "variable": "Non-renewable Resource Revenue"
         },
         {
          "budget_dt": "1996-01-01T00:00:00",
          "value": 2298.325079005365,
          "variable": "Non-renewable Resource Revenue"
         },
         {
          "budget_dt": "1997-01-01T00:00:00",
          "value": 2080.426536559648,
          "variable": "Non-renewable Resource Revenue"
         },
         {
          "budget_dt": "1998-01-01T00:00:00",
          "value": 1256.1581311448883,
          "variable": "Non-renewable Resource Revenue"
         },
         {
          "budget_dt": "1999-01-01T00:00:00",
          "value": 2346.8982553743353,
          "variable": "Non-renewable Resource Revenue"
         },
         {
          "budget_dt": "2000-01-01T00:00:00",
          "value": 5087.71365250665,
          "variable": "Non-renewable Resource Revenue"
         },
         {
          "budget_dt": "2001-01-01T00:00:00",
          "value": 2925.3776329415946,
          "variable": "Non-renewable Resource Revenue"
         },
         {
          "budget_dt": "2002-01-01T00:00:00",
          "value": 3048.464539628953,
          "variable": "Non-renewable Resource Revenue"
         },
         {
          "budget_dt": "2003-01-01T00:00:00",
          "value": 3179.1781491490824,
          "variable": "Non-renewable Resource Revenue"
         },
         {
          "budget_dt": "2004-01-01T00:00:00",
          "value": 3895.9030546313734,
          "variable": "Non-renewable Resource Revenue"
         },
         {
          "budget_dt": "2005-01-01T00:00:00",
          "value": 4758.237571374258,
          "variable": "Non-renewable Resource Revenue"
         },
         {
          "budget_dt": "2006-01-01T00:00:00",
          "value": 3885.551604942822,
          "variable": "Non-renewable Resource Revenue"
         },
         {
          "budget_dt": "2007-01-01T00:00:00",
          "value": 3334.9380542718663,
          "variable": "Non-renewable Resource Revenue"
         },
         {
          "budget_dt": "2008-01-01T00:00:00",
          "value": 3768.725550181622,
          "variable": "Non-renewable Resource Revenue"
         },
         {
          "budget_dt": "2009-01-01T00:00:00",
          "value": 2078.418164752056,
          "variable": "Non-renewable Resource Revenue"
         },
         {
          "budget_dt": "2010-01-01T00:00:00",
          "value": 2531.977458700038,
          "variable": "Non-renewable Resource Revenue"
         },
         {
          "budget_dt": "2011-01-01T00:00:00",
          "value": 3336.3420314398913,
          "variable": "Non-renewable Resource Revenue"
         },
         {
          "budget_dt": "2012-01-01T00:00:00",
          "value": 2175.996730281691,
          "variable": "Non-renewable Resource Revenue"
         },
         {
          "budget_dt": "2013-01-01T00:00:00",
          "value": 2559.979600401463,
          "variable": "Non-renewable Resource Revenue"
         },
         {
          "budget_dt": "2014-01-01T00:00:00",
          "value": 2290.154283564111,
          "variable": "Non-renewable Resource Revenue"
         },
         {
          "budget_dt": "2015-01-01T00:00:00",
          "value": 691.3571050954622,
          "variable": "Non-renewable Resource Revenue"
         },
         {
          "budget_dt": "2016-01-01T00:00:00",
          "value": 750.3730538213771,
          "variable": "Non-renewable Resource Revenue"
         },
         {
          "budget_dt": "1970-01-01T00:00:00",
          "value": 4726.041887031951,
          "variable": "Total Revenue"
         },
         {
          "budget_dt": "1971-01-01T00:00:00",
          "value": 4869.999404739734,
          "variable": "Total Revenue"
         },
         {
          "budget_dt": "1972-01-01T00:00:00",
          "value": 5112.85056833316,
          "variable": "Total Revenue"
         },
         {
          "budget_dt": "1973-01-01T00:00:00",
          "value": 5705.972452999098,
          "variable": "Total Revenue"
         },
         {
          "budget_dt": "1974-01-01T00:00:00",
          "value": 8375.500032472417,
          "variable": "Total Revenue"
         },
         {
          "budget_dt": "1975-01-01T00:00:00",
          "value": 8404.89926419777,
          "variable": "Total Revenue"
         },
         {
          "budget_dt": "1976-01-01T00:00:00",
          "value": 3956.9084403124084,
          "variable": "Total Revenue"
         },
         {
          "budget_dt": "1977-01-01T00:00:00",
          "value": 8658.970980169111,
          "variable": "Total Revenue"
         },
         {
          "budget_dt": "1978-01-01T00:00:00",
          "value": 8787.44348185658,
          "variable": "Total Revenue"
         },
         {
          "budget_dt": "1979-01-01T00:00:00",
          "value": 8965.761050036215,
          "variable": "Total Revenue"
         },
         {
          "budget_dt": "1980-01-01T00:00:00",
          "value": 8888.066600748252,
          "variable": "Total Revenue"
         },
         {
          "budget_dt": "1981-01-01T00:00:00",
          "value": 10855.955780355338,
          "variable": "Total Revenue"
         },
         {
          "budget_dt": "1982-01-01T00:00:00",
          "value": 9822.000461640273,
          "variable": "Total Revenue"
         },
         {
          "budget_dt": "1983-01-01T00:00:00",
          "value": 11000.07453467693,
          "variable": "Total Revenue"
         },
         {
          "budget_dt": "1984-01-01T00:00:00",
          "value": 12003.558357426471,
          "variable": "Total Revenue"
         },
         {
          "budget_dt": "1985-01-01T00:00:00",
          "value": 11618.149156258838,
          "variable": "Total Revenue"
         },
         {
          "budget_dt": "1986-01-01T00:00:00",
          "value": 8296.078284390782,
          "variable": "Total Revenue"
         },
         {
          "budget_dt": "1987-01-01T00:00:00",
          "value": 10031.476391866829,
          "variable": "Total Revenue"
         },
         {
          "budget_dt": "1988-01-01T00:00:00",
          "value": 9758.551723257007,
          "variable": "Total Revenue"
         },
         {
          "budget_dt": "1989-01-01T00:00:00",
          "value": 9776.666256207935,
          "variable": "Total Revenue"
         },
         {
          "budget_dt": "1990-01-01T00:00:00",
          "value": 9936.702051145548,
          "variable": "Total Revenue"
         },
         {
          "budget_dt": "1991-01-01T00:00:00",
          "value": 9154.994285300652,
          "variable": "Total Revenue"
         },
         {
          "budget_dt": "1992-01-01T00:00:00",
          "value": 9223.034678916983,
          "variable": "Total Revenue"
         },
         {
          "budget_dt": "1993-01-01T00:00:00",
          "value": 9712.476956955687,
          "variable": "Total Revenue"
         },
         {
          "budget_dt": "1994-01-01T00:00:00",
          "value": 9902.572786663291,
          "variable": "Total Revenue"
         },
         {
          "budget_dt": "1995-01-01T00:00:00",
          "value": 9194.826857430466,
          "variable": "Total Revenue"
         },
         {
          "budget_dt": "1996-01-01T00:00:00",
          "value": 9487.285378184763,
          "variable": "Total Revenue"
         },
         {
          "budget_dt": "1997-01-01T00:00:00",
          "value": 9776.572983080994,
          "variable": "Total Revenue"
         },
         {
          "budget_dt": "1998-01-01T00:00:00",
          "value": 8922.011658668021,
          "variable": "Total Revenue"
         },
         {
          "budget_dt": "1999-01-01T00:00:00",
          "value": 10146.171102750595,
          "variable": "Total Revenue"
         },
         {
          "budget_dt": "2000-01-01T00:00:00",
          "value": 12268.474060791354,
          "variable": "Total Revenue"
         },
         {
          "budget_dt": "2001-01-01T00:00:00",
          "value": 10300.599001104449,
          "variable": "Total Revenue"
         },
         {
          "budget_dt": "2002-01-01T00:00:00",
          "value": 9689.243113193734,
          "variable": "Total Revenue"
         },
         {
          "budget_dt": "2003-01-01T00:00:00",
          "value": 10721.649914932554,
          "variable": "Total Revenue"
         },
         {
          "budget_dt": "2004-01-01T00:00:00",
          "value": 11726.092445220538,
          "variable": "Total Revenue"
         },
         {
          "budget_dt": "2005-01-01T00:00:00",
          "value": 12764.17909120258,
          "variable": "Total Revenue"
         },
         {
          "budget_dt": "2006-01-01T00:00:00",
          "value": 12975.483729240032,
          "variable": "Total Revenue"
         },
         {
          "budget_dt": "2007-01-01T00:00:00",
          "value": 12292.675386867335,
          "variable": "Total Revenue"
         },
         {
          "budget_dt": "2008-01-01T00:00:00",
          "value": 11327.052511754431,
          "variable": "Total Revenue"
         },
         {
          "budget_dt": "2009-01-01T00:00:00",
          "value": 10950.389320143147,
          "variable": "Total Revenue"
         },
         {
          "budget_dt": "2010-01-01T00:00:00",
          "value": 10525.070988146315,
          "variable": "Total Revenue"
         },
         {
          "budget_dt": "2011-01-01T00:00:00",
          "value": 11338.000425337541,
          "variable": "Total Revenue"
         },
         {
          "budget_dt": "2012-01-01T00:00:00",
          "value": 10841.10159130958,
          "variable": "Total Revenue"
         },
         {
          "budget_dt": "2013-01-01T00:00:00",
          "value": 12105.779498954213,
          "variable": "Total Revenue"
         },
         {
          "budget_dt": "2014-01-01T00:00:00",
          "value": 11589.491089444578,
          "variable": "Total Revenue"
         },
         {
          "budget_dt": "2015-01-01T00:00:00",
          "value": 9035.732462472104,
          "variable": "Total Revenue"
         },
         {
          "budget_dt": "2016-01-01T00:00:00",
          "value": 8677.14245285921,
          "variable": "Total Revenue"
         },
         {
          "budget_dt": "1970-01-01T00:00:00",
          "value": 4776.814046964255,
          "variable": "Total Expenditure"
         },
         {
          "budget_dt": "1971-01-01T00:00:00",
          "value": 4952.07804639265,
          "variable": "Total Expenditure"
         },
         {
          "budget_dt": "1972-01-01T00:00:00",
          "value": 4974.95963746257,
          "variable": "Total Expenditure"
         },
         {
          "budget_dt": "1973-01-01T00:00:00",
          "value": 4912.29683417896,
          "variable": "Total Expenditure"
         },
         {
          "budget_dt": "1974-01-01T00:00:00",
          "value": 5937.171866022256,
          "variable": "Total Expenditure"
         },
         {
          "budget_dt": "1975-01-01T00:00:00",
          "value": 6871.914332296314,
          "variable": "Total Expenditure"
         },
         {
          "budget_dt": "1976-01-01T00:00:00",
          "value": 6713.638957415591,
          "variable": "Total Expenditure"
         },
         {
          "budget_dt": "1977-01-01T00:00:00",
          "value": 6841.780996483237,
          "variable": "Total Expenditure"
         },
         {
          "budget_dt": "1978-01-01T00:00:00",
          "value": 6625.922055246368,
          "variable": "Total Expenditure"
         },
         {
          "budget_dt": "1979-01-01T00:00:00",
          "value": 8986.266837096467,
          "variable": "Total Expenditure"
         },
         {
          "budget_dt": "1980-01-01T00:00:00",
          "value": 9393.34525842611,
          "variable": "Total Expenditure"
         },
         {
          "budget_dt": "1981-01-01T00:00:00",
          "value": 10051.853513695554,
          "variable": "Total Expenditure"
         },
         {
          "budget_dt": "1982-01-01T00:00:00",
          "value": 12039.706393039505,
          "variable": "Total Expenditure"
         },
         {
          "budget_dt": "1983-01-01T00:00:00",
          "value": 11578.819665095705,
          "variable": "Total Expenditure"
         },
         {
          "budget_dt": "1984-01-01T00:00:00",
          "value": 11516.604407962051,
          "variable": "Total Expenditure"
         },
         {
          "budget_dt": "1985-01-01T00:00:00",
          "value": 12950.51839092854,
          "variable": "Total Expenditure"
         },
         {
          "budget_dt": "1986-01-01T00:00:00",
          "value": 12046.964742758953,
          "variable": "Total Expenditure"
         },
         {
          "budget_dt": "1987-01-01T00:00:00",
          "value": 11181.662471236694,
          "variable": "Total Expenditure"
         },
         {
          "budget_dt": "1988-01-01T00:00:00",
          "value": 11404.384774397917,
          "variable": "Total Expenditure"
         },
         {
          "budget_dt": "1989-01-01T00:00:00",
          "value": 11387.961980028791,
          "variable": "Total Expenditure"
         },
         {
          "budget_dt": "1990-01-01T00:00:00",
          "value": 11220.032199731988,
          "variable": "Total Expenditure"
         },
         {
          "budget_dt": "1991-01-01T00:00:00",
          "value": 10907.08571545683,
          "variable": "Total Expenditure"
         },
         {
          "budget_dt": "1992-01-01T00:00:00",
          "value": 11371.263063243243,
          "variable": "Total Expenditure"
         },
         {
          "budget_dt": "1993-01-01T00:00:00",
          "value": 10576.802927875213,
          "variable": "Total Expenditure"
         },
         {
          "budget_dt": "1994-01-01T00:00:00",
          "value": 9327.92460094873,
          "variable": "Total Expenditure"
         },
         {
          "budget_dt": "1995-01-01T00:00:00",
          "value": 8512.696937166045,
          "variable": "Total Expenditure"
         },
         {
          "budget_dt": "1996-01-01T00:00:00",
          "value": 8069.206270191616,
          "variable": "Total Expenditure"
         },
         {
          "budget_dt": "1997-01-01T00:00:00",
          "value": 8312.344777492825,
          "variable": "Total Expenditure"
         },
         {
          "budget_dt": "1998-01-01T00:00:00",
          "value": 8341.675089634024,
          "variable": "Total Expenditure"
         },
         {
          "budget_dt": "1999-01-01T00:00:00",
          "value": 8737.527440223763,
          "variable": "Total Expenditure"
         },
         {
          "budget_dt": "2000-01-01T00:00:00",
          "value": 9110.400528709244,
          "variable": "Total Expenditure"
         },
         {
          "budget_dt": "2001-01-01T00:00:00",
          "value": 9792.756826508357,
          "variable": "Total Expenditure"
         },
         {
          "budget_dt": "2002-01-01T00:00:00",
          "value": 8777.269079108382,
          "variable": "Total Expenditure"
         },
         {
          "budget_dt": "2003-01-01T00:00:00",
          "value": 9008.63782206119,
          "variable": "Total Expenditure"
         },
         {
          "budget_dt": "2004-01-01T00:00:00",
          "value": 9656.993686218346,
          "variable": "Total Expenditure"
         },
         {
          "budget_dt": "2005-01-01T00:00:00",
          "value": 10195.252067076493,
          "variable": "Total Expenditure"
         },
         {
          "budget_dt": "2006-01-01T00:00:00",
          "value": 10413.34888347392,
          "variable": "Total Expenditure"
         },
         {
          "budget_dt": "2007-01-01T00:00:00",
          "value": 11083.900590429788,
          "variable": "Total Expenditure"
         },
         {
          "budget_dt": "2008-01-01T00:00:00",
          "value": 11596.540901914293,
          "variable": "Total Expenditure"
         },
         {
          "budget_dt": "2009-01-01T00:00:00",
          "value": 11267.311238881935,
          "variable": "Total Expenditure"
         },
         {
          "budget_dt": "2010-01-01T00:00:00",
          "value": 11549.518441179907,
          "variable": "Total Expenditure"
         },
         {
          "budget_dt": "2011-01-01T00:00:00",
          "value": 11344.595119968266,
          "variable": "Total Expenditure"
         },
         {
          "budget_dt": "2012-01-01T00:00:00",
          "value": 11636.085870453499,
          "variable": "Total Expenditure"
         },
         {
          "budget_dt": "2013-01-01T00:00:00",
          "value": 11903.985324982288,
          "variable": "Total Expenditure"
         },
         {
          "budget_dt": "2014-01-01T00:00:00",
          "value": 11222.216682100536,
          "variable": "Total Expenditure"
         },
         {
          "budget_dt": "2015-01-01T00:00:00",
          "value": 10832.170232506818,
          "variable": "Total Expenditure"
         },
         {
          "budget_dt": "2016-01-01T00:00:00",
          "value": 11548.040197363407,
          "variable": "Total Expenditure"
         },
         {
          "budget_dt": "1970-01-01T00:00:00",
          "value": 50.772159932303865,
          "variable": "deficit"
         },
         {
          "budget_dt": "1971-01-01T00:00:00",
          "value": 82.07864165291686,
          "variable": "deficit"
         },
         {
          "budget_dt": "1972-01-01T00:00:00",
          "value": -137.89093087058913,
          "variable": "deficit"
         },
         {
          "budget_dt": "1973-01-01T00:00:00",
          "value": -793.6756188201379,
          "variable": "deficit"
         },
         {
          "budget_dt": "1974-01-01T00:00:00",
          "value": -2438.328166450161,
          "variable": "deficit"
         },
         {
          "budget_dt": "1975-01-01T00:00:00",
          "value": -1532.984931901456,
          "variable": "deficit"
         },
         {
          "budget_dt": "1976-01-01T00:00:00",
          "value": 2756.7305171031826,
          "variable": "deficit"
         },
         {
          "budget_dt": "1977-01-01T00:00:00",
          "value": -1817.189983685876,
          "variable": "deficit"
         },
         {
          "budget_dt": "1978-01-01T00:00:00",
          "value": -2161.521426610211,
          "variable": "deficit"
         },
         {
          "budget_dt": "1979-01-01T00:00:00",
          "value": 20.505787060251723,
          "variable": "deficit"
         },
         {
          "budget_dt": "1980-01-01T00:00:00",
          "value": 505.27865767785653,
          "variable": "deficit"
         },
         {
          "budget_dt": "1981-01-01T00:00:00",
          "value": -804.1022666597839,
          "variable": "deficit"
         },
         {
          "budget_dt": "1982-01-01T00:00:00",
          "value": 2217.7059313992318,
          "variable": "deficit"
         },
         {
          "budget_dt": "1983-01-01T00:00:00",
          "value": 578.7451304187721,
          "variable": "deficit"
         },
         {
          "budget_dt": "1984-01-01T00:00:00",
          "value": -486.95394946441974,
          "variable": "deficit"
         },
         {
          "budget_dt": "1985-01-01T00:00:00",
          "value": 1332.3692346697026,
          "variable": "deficit"
         },
         {
          "budget_dt": "1986-01-01T00:00:00",
          "value": 3750.886458368172,
          "variable": "deficit"
         },
         {
          "budget_dt": "1987-01-01T00:00:00",
          "value": 1150.1860793698631,
          "variable": "deficit"
         },
         {
          "budget_dt": "1988-01-01T00:00:00",
          "value": 1645.8330511409088,
          "variable": "deficit"
         },
         {
          "budget_dt": "1989-01-01T00:00:00",
          "value": 1611.2957238208576,
          "variable": "deficit"
         },
         {
          "budget_dt": "1990-01-01T00:00:00",
          "value": 1283.3301485864397,
          "variable": "deficit"
         },
         {
          "budget_dt": "1991-01-01T00:00:00",
          "value": 1752.091430156178,
          "variable": "deficit"
         },
         {
          "budget_dt": "1992-01-01T00:00:00",
          "value": 2148.22838432626,
          "variable": "deficit"
         },
         {
          "budget_dt": "1993-01-01T00:00:00",
          "value": 864.3259709195278,
          "variable": "deficit"
         },
         {
          "budget_dt": "1994-01-01T00:00:00",
          "value": -574.6481857145612,
          "variable": "deficit"
         },
         {
          "budget_dt": "1995-01-01T00:00:00",
          "value": -682.1299202644193,
          "variable": "deficit"
         },
         {
          "budget_dt": "1996-01-01T00:00:00",
          "value": -1418.0791079931462,
          "variable": "deficit"
         },
         {
          "budget_dt": "1997-01-01T00:00:00",
          "value": -1464.2282055881697,
          "variable": "deficit"
         },
         {
          "budget_dt": "1998-01-01T00:00:00",
          "value": -580.3365690339982,
          "variable": "deficit"
         },
         {
          "budget_dt": "1999-01-01T00:00:00",
          "value": -1408.6436625268323,
          "variable": "deficit"
         },
         {
          "budget_dt": "2000-01-01T00:00:00",
          "value": -3158.0735320821086,
          "variable": "deficit"
         },
         {
          "budget_dt": "2001-01-01T00:00:00",
          "value": -507.84217459609175,
          "variable": "deficit"
         },
         {
          "budget_dt": "2002-01-01T00:00:00",
          "value": -911.9740340853515,
          "variable": "deficit"
         },
         {
          "budget_dt": "2003-01-01T00:00:00",
          "value": -1713.0120928713657,
          "variable": "deficit"
         },
         {
          "budget_dt": "2004-01-01T00:00:00",
          "value": -2069.0987590021923,
          "variable": "deficit"
         },
         {
          "budget_dt": "2005-01-01T00:00:00",
          "value": -2568.927024126088,
          "variable": "deficit"
         },
         {
          "budget_dt": "2006-01-01T00:00:00",
          "value": -2562.1348457661115,
          "variable": "deficit"
         },
         {
          "budget_dt": "2007-01-01T00:00:00",
          "value": -1208.7747964375465,
          "variable": "deficit"
         },
         {
          "budget_dt": "2008-01-01T00:00:00",
          "value": 269.48839015986084,
          "variable": "deficit"
         },
         {
          "budget_dt": "2009-01-01T00:00:00",
          "value": 316.9219187387887,
          "variable": "deficit"
         },
         {
          "budget_dt": "2010-01-01T00:00:00",
          "value": 1024.4474530335938,
          "variable": "deficit"
         },
         {
          "budget_dt": "2011-01-01T00:00:00",
          "value": 6.594694630725121,
          "variable": "deficit"
         },
         {
          "budget_dt": "2012-01-01T00:00:00",
          "value": 794.9842791439215,
          "variable": "deficit"
         },
         {
          "budget_dt": "2013-01-01T00:00:00",
          "value": -201.79417397192572,
          "variable": "deficit"
         },
         {
          "budget_dt": "2014-01-01T00:00:00",
          "value": -367.2744073440433,
          "variable": "deficit"
         },
         {
          "budget_dt": "2015-01-01T00:00:00",
          "value": 1796.4377700347134,
          "variable": "deficit"
         },
         {
          "budget_dt": "2016-01-01T00:00:00",
          "value": 2870.8977445041965,
          "variable": "deficit"
         }
        ]
       },
       "encoding": {
        "color": {
         "field": "variable",
         "legend": {
          "orient": "left",
          "title": null
         },
         "type": "nominal"
        },
        "x": {
         "axis": {
          "title": null
         },
         "field": "budget_dt",
         "type": "temporal"
        },
        "y": {
         "axis": {
          "title": "Per capita in 2017 dollars"
         },
         "field": "value",
         "type": "quantitative"
        }
       },
       "height": 400,
       "mark": "line",
       "width": 800
      },
      "text/plain": [
       "<VegaLite 3 object>\n",
       "\n",
       "If you see this message, it means the renderer has not been properly enabled\n",
       "for the frontend that you are using. For more information, see\n",
       "https://altair-viz.github.io/user_guide/troubleshooting.html\n"
      ]
     },
     "execution_count": 6,
     "metadata": {},
     "output_type": "execute_result"
    }
   ],
   "source": [
    "chart_df = (\n",
    "    df\n",
    "    .loc['1970':'2016', ['natural_resource_revenue', 'total_revenue', 'total_expenditure', 'deficit']]\n",
    "    .rename(columns={\n",
    "        'natural_resource_revenue': 'Non-renewable Resource Revenue',\n",
    "        'total_revenue': 'Total Revenue',\n",
    "        'total_expenditure': 'Total Expenditure'\n",
    "    })\n",
    "    .reset_index()\n",
    "    .melt(id_vars='budget_dt')\n",
    ")\n",
    "chart = (\n",
    "    alt.Chart(chart_df)\n",
    "    .mark_line()\n",
    "    .encode(\n",
    "        x=alt.X('budget_dt:T', axis=alt.Axis(title=None)),\n",
    "        y=alt.Y('value:Q', axis=alt.Axis(title='Per capita in 2017 dollars')),\n",
    "        color=alt.Color('variable:N', legend=alt.Legend(title=None, orient='left'))\n",
    "    )\n",
    "    .properties(width=800, height=400)\n",
    ")\n",
    "chart"
   ]
  },
  {
   "cell_type": "markdown",
   "metadata": {},
   "source": [
    "This graph looks very similar to the chart in the paper, with a notable exception of the 1976/1977 budget year. My chart shows Non-renewable Resource Revenue as slightly negative, whereas the original chart has it largely in line with 1975/1976 and 1977/1978. NRR is negative in my chart because I have netted out contributions to the Alberta Heritage Savings Trust Fund (AHSTF). To the best of my understanding, the original paper does the same, and the consistent values between the two in all other years supports that. Quoting the original paper:\n",
    "\n",
    ">The part of resource revenue that is saved in the AHSTF is not expected to influence the provincial government’s spending and revenue-raising choices. For this reason, in our analysis, we exclude the part of the resource revenue that is saved in the AHSTF from the non-renewable-resource revenue data. \n",
    "\n",
    "For comparison, here is the same chart, but without netting AHSTF contributions from resource revenue, it's still netted out of total revenue, but this is just for comparison:"
   ]
  },
  {
   "cell_type": "code",
   "execution_count": 7,
   "metadata": {},
   "outputs": [
    {
     "data": {
      "application/vnd.vegalite.v3+json": {
       "$schema": "https://vega.github.io/schema/vega-lite/v3.2.1.json",
       "config": {
        "mark": {
         "tooltip": null
        },
        "view": {
         "height": 300,
         "width": 400
        }
       },
       "data": {
        "name": "data-00a15c4a56d3ff08b05353388845fd91"
       },
       "datasets": {
        "data-00a15c4a56d3ff08b05353388845fd91": [
         {
          "budget_dt": "1970-01-01T00:00:00",
          "value": 977.3640786968494,
          "variable": "Non-renewable Resource Revenue (before AHSTF contributions)"
         },
         {
          "budget_dt": "1971-01-01T00:00:00",
          "value": 1067.0223414879192,
          "variable": "Non-renewable Resource Revenue (before AHSTF contributions)"
         },
         {
          "budget_dt": "1972-01-01T00:00:00",
          "value": 1201.1025820569737,
          "variable": "Non-renewable Resource Revenue (before AHSTF contributions)"
         },
         {
          "budget_dt": "1973-01-01T00:00:00",
          "value": 2087.072923564066,
          "variable": "Non-renewable Resource Revenue (before AHSTF contributions)"
         },
         {
          "budget_dt": "1974-01-01T00:00:00",
          "value": 4344.9693001222095,
          "variable": "Non-renewable Resource Revenue (before AHSTF contributions)"
         },
         {
          "budget_dt": "1975-01-01T00:00:00",
          "value": 4242.857801638297,
          "variable": "Non-renewable Resource Revenue (before AHSTF contributions)"
         },
         {
          "budget_dt": "1976-01-01T00:00:00",
          "value": 4752.42867293768,
          "variable": "Non-renewable Resource Revenue (before AHSTF contributions)"
         },
         {
          "budget_dt": "1977-01-01T00:00:00",
          "value": 6228.631146754037,
          "variable": "Non-renewable Resource Revenue (before AHSTF contributions)"
         },
         {
          "budget_dt": "1978-01-01T00:00:00",
          "value": 6427.305434092615,
          "variable": "Non-renewable Resource Revenue (before AHSTF contributions)"
         },
         {
          "budget_dt": "1979-01-01T00:00:00",
          "value": 7088.692849905479,
          "variable": "Non-renewable Resource Revenue (before AHSTF contributions)"
         },
         {
          "budget_dt": "1980-01-01T00:00:00",
          "value": 6462.460278651096,
          "variable": "Non-renewable Resource Revenue (before AHSTF contributions)"
         },
         {
          "budget_dt": "1981-01-01T00:00:00",
          "value": 5461.913536624685,
          "variable": "Non-renewable Resource Revenue (before AHSTF contributions)"
         },
         {
          "budget_dt": "1982-01-01T00:00:00",
          "value": 4220.398822358095,
          "variable": "Non-renewable Resource Revenue (before AHSTF contributions)"
         },
         {
          "budget_dt": "1983-01-01T00:00:00",
          "value": 4679.903516533523,
          "variable": "Non-renewable Resource Revenue (before AHSTF contributions)"
         },
         {
          "budget_dt": "1984-01-01T00:00:00",
          "value": 5002.519060411494,
          "variable": "Non-renewable Resource Revenue (before AHSTF contributions)"
         },
         {
          "budget_dt": "1985-01-01T00:00:00",
          "value": 4544.429505802886,
          "variable": "Non-renewable Resource Revenue (before AHSTF contributions)"
         },
         {
          "budget_dt": "1986-01-01T00:00:00",
          "value": 1669.8063951135487,
          "variable": "Non-renewable Resource Revenue (before AHSTF contributions)"
         },
         {
          "budget_dt": "1987-01-01T00:00:00",
          "value": 2212.73893364488,
          "variable": "Non-renewable Resource Revenue (before AHSTF contributions)"
         },
         {
          "budget_dt": "1988-01-01T00:00:00",
          "value": 1709.7966674782235,
          "variable": "Non-renewable Resource Revenue (before AHSTF contributions)"
         },
         {
          "budget_dt": "1989-01-01T00:00:00",
          "value": 1705.7194807933463,
          "variable": "Non-renewable Resource Revenue (before AHSTF contributions)"
         },
         {
          "budget_dt": "1990-01-01T00:00:00",
          "value": 1882.9647594980074,
          "variable": "Non-renewable Resource Revenue (before AHSTF contributions)"
         },
         {
          "budget_dt": "1991-01-01T00:00:00",
          "value": 1347.5575777009476,
          "variable": "Non-renewable Resource Revenue (before AHSTF contributions)"
         },
         {
          "budget_dt": "1992-01-01T00:00:00",
          "value": 1410.8250791167943,
          "variable": "Non-renewable Resource Revenue (before AHSTF contributions)"
         },
         {
          "budget_dt": "1993-01-01T00:00:00",
          "value": 1775.9345441869511,
          "variable": "Non-renewable Resource Revenue (before AHSTF contributions)"
         },
         {
          "budget_dt": "1994-01-01T00:00:00",
          "value": 2069.468626166085,
          "variable": "Non-renewable Resource Revenue (before AHSTF contributions)"
         },
         {
          "budget_dt": "1995-01-01T00:00:00",
          "value": 1651.0981388850323,
          "variable": "Non-renewable Resource Revenue (before AHSTF contributions)"
         },
         {
          "budget_dt": "1996-01-01T00:00:00",
          "value": 2298.325079005365,
          "variable": "Non-renewable Resource Revenue (before AHSTF contributions)"
         },
         {
          "budget_dt": "1997-01-01T00:00:00",
          "value": 2080.426536559648,
          "variable": "Non-renewable Resource Revenue (before AHSTF contributions)"
         },
         {
          "budget_dt": "1998-01-01T00:00:00",
          "value": 1256.1581311448883,
          "variable": "Non-renewable Resource Revenue (before AHSTF contributions)"
         },
         {
          "budget_dt": "1999-01-01T00:00:00",
          "value": 2346.8982553743353,
          "variable": "Non-renewable Resource Revenue (before AHSTF contributions)"
         },
         {
          "budget_dt": "2000-01-01T00:00:00",
          "value": 5087.71365250665,
          "variable": "Non-renewable Resource Revenue (before AHSTF contributions)"
         },
         {
          "budget_dt": "2001-01-01T00:00:00",
          "value": 2925.3776329415946,
          "variable": "Non-renewable Resource Revenue (before AHSTF contributions)"
         },
         {
          "budget_dt": "2002-01-01T00:00:00",
          "value": 3048.464539628953,
          "variable": "Non-renewable Resource Revenue (before AHSTF contributions)"
         },
         {
          "budget_dt": "2003-01-01T00:00:00",
          "value": 3179.1781491490824,
          "variable": "Non-renewable Resource Revenue (before AHSTF contributions)"
         },
         {
          "budget_dt": "2004-01-01T00:00:00",
          "value": 3895.9030546313734,
          "variable": "Non-renewable Resource Revenue (before AHSTF contributions)"
         },
         {
          "budget_dt": "2005-01-01T00:00:00",
          "value": 5419.261287330831,
          "variable": "Non-renewable Resource Revenue (before AHSTF contributions)"
         },
         {
          "budget_dt": "2006-01-01T00:00:00",
          "value": 4326.690524668393,
          "variable": "Non-renewable Resource Revenue (before AHSTF contributions)"
         },
         {
          "budget_dt": "2007-01-01T00:00:00",
          "value": 3637.8742440424553,
          "variable": "Non-renewable Resource Revenue (before AHSTF contributions)"
         },
         {
          "budget_dt": "2008-01-01T00:00:00",
          "value": 3768.725550181622,
          "variable": "Non-renewable Resource Revenue (before AHSTF contributions)"
         },
         {
          "budget_dt": "2009-01-01T00:00:00",
          "value": 2078.418164752056,
          "variable": "Non-renewable Resource Revenue (before AHSTF contributions)"
         },
         {
          "budget_dt": "2010-01-01T00:00:00",
          "value": 2531.977458700038,
          "variable": "Non-renewable Resource Revenue (before AHSTF contributions)"
         },
         {
          "budget_dt": "2011-01-01T00:00:00",
          "value": 3336.3420314398913,
          "variable": "Non-renewable Resource Revenue (before AHSTF contributions)"
         },
         {
          "budget_dt": "2012-01-01T00:00:00",
          "value": 2175.996730281691,
          "variable": "Non-renewable Resource Revenue (before AHSTF contributions)"
         },
         {
          "budget_dt": "2013-01-01T00:00:00",
          "value": 2559.979600401463,
          "variable": "Non-renewable Resource Revenue (before AHSTF contributions)"
         },
         {
          "budget_dt": "2014-01-01T00:00:00",
          "value": 2290.154283564111,
          "variable": "Non-renewable Resource Revenue (before AHSTF contributions)"
         },
         {
          "budget_dt": "2015-01-01T00:00:00",
          "value": 691.3571050954622,
          "variable": "Non-renewable Resource Revenue (before AHSTF contributions)"
         },
         {
          "budget_dt": "2016-01-01T00:00:00",
          "value": 750.3730538213771,
          "variable": "Non-renewable Resource Revenue (before AHSTF contributions)"
         },
         {
          "budget_dt": "1970-01-01T00:00:00",
          "value": 4726.041887031951,
          "variable": "Total Revenue"
         },
         {
          "budget_dt": "1971-01-01T00:00:00",
          "value": 4869.999404739734,
          "variable": "Total Revenue"
         },
         {
          "budget_dt": "1972-01-01T00:00:00",
          "value": 5112.85056833316,
          "variable": "Total Revenue"
         },
         {
          "budget_dt": "1973-01-01T00:00:00",
          "value": 5705.972452999098,
          "variable": "Total Revenue"
         },
         {
          "budget_dt": "1974-01-01T00:00:00",
          "value": 8375.500032472417,
          "variable": "Total Revenue"
         },
         {
          "budget_dt": "1975-01-01T00:00:00",
          "value": 8404.89926419777,
          "variable": "Total Revenue"
         },
         {
          "budget_dt": "1976-01-01T00:00:00",
          "value": 3956.9084403124084,
          "variable": "Total Revenue"
         },
         {
          "budget_dt": "1977-01-01T00:00:00",
          "value": 8658.970980169111,
          "variable": "Total Revenue"
         },
         {
          "budget_dt": "1978-01-01T00:00:00",
          "value": 8787.44348185658,
          "variable": "Total Revenue"
         },
         {
          "budget_dt": "1979-01-01T00:00:00",
          "value": 8965.761050036215,
          "variable": "Total Revenue"
         },
         {
          "budget_dt": "1980-01-01T00:00:00",
          "value": 8888.066600748252,
          "variable": "Total Revenue"
         },
         {
          "budget_dt": "1981-01-01T00:00:00",
          "value": 10855.955780355338,
          "variable": "Total Revenue"
         },
         {
          "budget_dt": "1982-01-01T00:00:00",
          "value": 9822.000461640273,
          "variable": "Total Revenue"
         },
         {
          "budget_dt": "1983-01-01T00:00:00",
          "value": 11000.07453467693,
          "variable": "Total Revenue"
         },
         {
          "budget_dt": "1984-01-01T00:00:00",
          "value": 12003.558357426471,
          "variable": "Total Revenue"
         },
         {
          "budget_dt": "1985-01-01T00:00:00",
          "value": 11618.149156258838,
          "variable": "Total Revenue"
         },
         {
          "budget_dt": "1986-01-01T00:00:00",
          "value": 8296.078284390782,
          "variable": "Total Revenue"
         },
         {
          "budget_dt": "1987-01-01T00:00:00",
          "value": 10031.476391866829,
          "variable": "Total Revenue"
         },
         {
          "budget_dt": "1988-01-01T00:00:00",
          "value": 9758.551723257007,
          "variable": "Total Revenue"
         },
         {
          "budget_dt": "1989-01-01T00:00:00",
          "value": 9776.666256207935,
          "variable": "Total Revenue"
         },
         {
          "budget_dt": "1990-01-01T00:00:00",
          "value": 9936.702051145548,
          "variable": "Total Revenue"
         },
         {
          "budget_dt": "1991-01-01T00:00:00",
          "value": 9154.994285300652,
          "variable": "Total Revenue"
         },
         {
          "budget_dt": "1992-01-01T00:00:00",
          "value": 9223.034678916983,
          "variable": "Total Revenue"
         },
         {
          "budget_dt": "1993-01-01T00:00:00",
          "value": 9712.476956955687,
          "variable": "Total Revenue"
         },
         {
          "budget_dt": "1994-01-01T00:00:00",
          "value": 9902.572786663291,
          "variable": "Total Revenue"
         },
         {
          "budget_dt": "1995-01-01T00:00:00",
          "value": 9194.826857430466,
          "variable": "Total Revenue"
         },
         {
          "budget_dt": "1996-01-01T00:00:00",
          "value": 9487.285378184763,
          "variable": "Total Revenue"
         },
         {
          "budget_dt": "1997-01-01T00:00:00",
          "value": 9776.572983080994,
          "variable": "Total Revenue"
         },
         {
          "budget_dt": "1998-01-01T00:00:00",
          "value": 8922.011658668021,
          "variable": "Total Revenue"
         },
         {
          "budget_dt": "1999-01-01T00:00:00",
          "value": 10146.171102750595,
          "variable": "Total Revenue"
         },
         {
          "budget_dt": "2000-01-01T00:00:00",
          "value": 12268.474060791354,
          "variable": "Total Revenue"
         },
         {
          "budget_dt": "2001-01-01T00:00:00",
          "value": 10300.599001104449,
          "variable": "Total Revenue"
         },
         {
          "budget_dt": "2002-01-01T00:00:00",
          "value": 9689.243113193734,
          "variable": "Total Revenue"
         },
         {
          "budget_dt": "2003-01-01T00:00:00",
          "value": 10721.649914932554,
          "variable": "Total Revenue"
         },
         {
          "budget_dt": "2004-01-01T00:00:00",
          "value": 11726.092445220538,
          "variable": "Total Revenue"
         },
         {
          "budget_dt": "2005-01-01T00:00:00",
          "value": 12764.17909120258,
          "variable": "Total Revenue"
         },
         {
          "budget_dt": "2006-01-01T00:00:00",
          "value": 12975.483729240032,
          "variable": "Total Revenue"
         },
         {
          "budget_dt": "2007-01-01T00:00:00",
          "value": 12292.675386867335,
          "variable": "Total Revenue"
         },
         {
          "budget_dt": "2008-01-01T00:00:00",
          "value": 11327.052511754431,
          "variable": "Total Revenue"
         },
         {
          "budget_dt": "2009-01-01T00:00:00",
          "value": 10950.389320143147,
          "variable": "Total Revenue"
         },
         {
          "budget_dt": "2010-01-01T00:00:00",
          "value": 10525.070988146315,
          "variable": "Total Revenue"
         },
         {
          "budget_dt": "2011-01-01T00:00:00",
          "value": 11338.000425337541,
          "variable": "Total Revenue"
         },
         {
          "budget_dt": "2012-01-01T00:00:00",
          "value": 10841.10159130958,
          "variable": "Total Revenue"
         },
         {
          "budget_dt": "2013-01-01T00:00:00",
          "value": 12105.779498954213,
          "variable": "Total Revenue"
         },
         {
          "budget_dt": "2014-01-01T00:00:00",
          "value": 11589.491089444578,
          "variable": "Total Revenue"
         },
         {
          "budget_dt": "2015-01-01T00:00:00",
          "value": 9035.732462472104,
          "variable": "Total Revenue"
         },
         {
          "budget_dt": "2016-01-01T00:00:00",
          "value": 8677.14245285921,
          "variable": "Total Revenue"
         },
         {
          "budget_dt": "1970-01-01T00:00:00",
          "value": 4776.814046964255,
          "variable": "Total Expenditure"
         },
         {
          "budget_dt": "1971-01-01T00:00:00",
          "value": 4952.07804639265,
          "variable": "Total Expenditure"
         },
         {
          "budget_dt": "1972-01-01T00:00:00",
          "value": 4974.95963746257,
          "variable": "Total Expenditure"
         },
         {
          "budget_dt": "1973-01-01T00:00:00",
          "value": 4912.29683417896,
          "variable": "Total Expenditure"
         },
         {
          "budget_dt": "1974-01-01T00:00:00",
          "value": 5937.171866022256,
          "variable": "Total Expenditure"
         },
         {
          "budget_dt": "1975-01-01T00:00:00",
          "value": 6871.914332296314,
          "variable": "Total Expenditure"
         },
         {
          "budget_dt": "1976-01-01T00:00:00",
          "value": 6713.638957415591,
          "variable": "Total Expenditure"
         },
         {
          "budget_dt": "1977-01-01T00:00:00",
          "value": 6841.780996483237,
          "variable": "Total Expenditure"
         },
         {
          "budget_dt": "1978-01-01T00:00:00",
          "value": 6625.922055246368,
          "variable": "Total Expenditure"
         },
         {
          "budget_dt": "1979-01-01T00:00:00",
          "value": 8986.266837096467,
          "variable": "Total Expenditure"
         },
         {
          "budget_dt": "1980-01-01T00:00:00",
          "value": 9393.34525842611,
          "variable": "Total Expenditure"
         },
         {
          "budget_dt": "1981-01-01T00:00:00",
          "value": 10051.853513695554,
          "variable": "Total Expenditure"
         },
         {
          "budget_dt": "1982-01-01T00:00:00",
          "value": 12039.706393039505,
          "variable": "Total Expenditure"
         },
         {
          "budget_dt": "1983-01-01T00:00:00",
          "value": 11578.819665095705,
          "variable": "Total Expenditure"
         },
         {
          "budget_dt": "1984-01-01T00:00:00",
          "value": 11516.604407962051,
          "variable": "Total Expenditure"
         },
         {
          "budget_dt": "1985-01-01T00:00:00",
          "value": 12950.51839092854,
          "variable": "Total Expenditure"
         },
         {
          "budget_dt": "1986-01-01T00:00:00",
          "value": 12046.964742758953,
          "variable": "Total Expenditure"
         },
         {
          "budget_dt": "1987-01-01T00:00:00",
          "value": 11181.662471236694,
          "variable": "Total Expenditure"
         },
         {
          "budget_dt": "1988-01-01T00:00:00",
          "value": 11404.384774397917,
          "variable": "Total Expenditure"
         },
         {
          "budget_dt": "1989-01-01T00:00:00",
          "value": 11387.961980028791,
          "variable": "Total Expenditure"
         },
         {
          "budget_dt": "1990-01-01T00:00:00",
          "value": 11220.032199731988,
          "variable": "Total Expenditure"
         },
         {
          "budget_dt": "1991-01-01T00:00:00",
          "value": 10907.08571545683,
          "variable": "Total Expenditure"
         },
         {
          "budget_dt": "1992-01-01T00:00:00",
          "value": 11371.263063243243,
          "variable": "Total Expenditure"
         },
         {
          "budget_dt": "1993-01-01T00:00:00",
          "value": 10576.802927875213,
          "variable": "Total Expenditure"
         },
         {
          "budget_dt": "1994-01-01T00:00:00",
          "value": 9327.92460094873,
          "variable": "Total Expenditure"
         },
         {
          "budget_dt": "1995-01-01T00:00:00",
          "value": 8512.696937166045,
          "variable": "Total Expenditure"
         },
         {
          "budget_dt": "1996-01-01T00:00:00",
          "value": 8069.206270191616,
          "variable": "Total Expenditure"
         },
         {
          "budget_dt": "1997-01-01T00:00:00",
          "value": 8312.344777492825,
          "variable": "Total Expenditure"
         },
         {
          "budget_dt": "1998-01-01T00:00:00",
          "value": 8341.675089634024,
          "variable": "Total Expenditure"
         },
         {
          "budget_dt": "1999-01-01T00:00:00",
          "value": 8737.527440223763,
          "variable": "Total Expenditure"
         },
         {
          "budget_dt": "2000-01-01T00:00:00",
          "value": 9110.400528709244,
          "variable": "Total Expenditure"
         },
         {
          "budget_dt": "2001-01-01T00:00:00",
          "value": 9792.756826508357,
          "variable": "Total Expenditure"
         },
         {
          "budget_dt": "2002-01-01T00:00:00",
          "value": 8777.269079108382,
          "variable": "Total Expenditure"
         },
         {
          "budget_dt": "2003-01-01T00:00:00",
          "value": 9008.63782206119,
          "variable": "Total Expenditure"
         },
         {
          "budget_dt": "2004-01-01T00:00:00",
          "value": 9656.993686218346,
          "variable": "Total Expenditure"
         },
         {
          "budget_dt": "2005-01-01T00:00:00",
          "value": 10195.252067076493,
          "variable": "Total Expenditure"
         },
         {
          "budget_dt": "2006-01-01T00:00:00",
          "value": 10413.34888347392,
          "variable": "Total Expenditure"
         },
         {
          "budget_dt": "2007-01-01T00:00:00",
          "value": 11083.900590429788,
          "variable": "Total Expenditure"
         },
         {
          "budget_dt": "2008-01-01T00:00:00",
          "value": 11596.540901914293,
          "variable": "Total Expenditure"
         },
         {
          "budget_dt": "2009-01-01T00:00:00",
          "value": 11267.311238881935,
          "variable": "Total Expenditure"
         },
         {
          "budget_dt": "2010-01-01T00:00:00",
          "value": 11549.518441179907,
          "variable": "Total Expenditure"
         },
         {
          "budget_dt": "2011-01-01T00:00:00",
          "value": 11344.595119968266,
          "variable": "Total Expenditure"
         },
         {
          "budget_dt": "2012-01-01T00:00:00",
          "value": 11636.085870453499,
          "variable": "Total Expenditure"
         },
         {
          "budget_dt": "2013-01-01T00:00:00",
          "value": 11903.985324982288,
          "variable": "Total Expenditure"
         },
         {
          "budget_dt": "2014-01-01T00:00:00",
          "value": 11222.216682100536,
          "variable": "Total Expenditure"
         },
         {
          "budget_dt": "2015-01-01T00:00:00",
          "value": 10832.170232506818,
          "variable": "Total Expenditure"
         },
         {
          "budget_dt": "2016-01-01T00:00:00",
          "value": 11548.040197363407,
          "variable": "Total Expenditure"
         }
        ]
       },
       "encoding": {
        "color": {
         "field": "variable",
         "legend": {
          "orient": "left",
          "title": null
         },
         "type": "nominal"
        },
        "x": {
         "axis": {
          "title": null
         },
         "field": "budget_dt",
         "type": "temporal"
        },
        "y": {
         "axis": {
          "title": "Per capita in 2017 dollars"
         },
         "field": "value",
         "type": "quantitative"
        }
       },
       "height": 400,
       "mark": "line",
       "width": 800
      },
      "text/plain": [
       "<VegaLite 3 object>\n",
       "\n",
       "If you see this message, it means the renderer has not been properly enabled\n",
       "for the frontend that you are using. For more information, see\n",
       "https://altair-viz.github.io/user_guide/troubleshooting.html\n"
      ]
     },
     "execution_count": 7,
     "metadata": {},
     "output_type": "execute_result"
    }
   ],
   "source": [
    "chart_df = (\n",
    "    df\n",
    "    .loc['1970':'2016', ['natural_resource_revenue_before_heritage', 'total_revenue', 'total_expenditure']]\n",
    "    .rename(columns={\n",
    "        'natural_resource_revenue_before_heritage': 'Non-renewable Resource Revenue (before AHSTF contributions)',\n",
    "        'total_revenue': 'Total Revenue',\n",
    "        'total_expenditure': 'Total Expenditure'\n",
    "    })\n",
    "    .reset_index()\n",
    "    .melt(id_vars='budget_dt')\n",
    ")\n",
    "chart = (\n",
    "    alt.Chart(chart_df)\n",
    "    .mark_line()\n",
    "    .encode(\n",
    "        x=alt.X('budget_dt:T', axis=alt.Axis(title=None)),\n",
    "        y=alt.Y('value:Q', axis=alt.Axis(title='Per capita in 2017 dollars')),\n",
    "        color=alt.Color('variable:N', legend=alt.Legend(title=None, orient='left'))\n",
    "    )\n",
    "    .properties(width=800, height=400)\n",
    ")\n",
    "chart"
   ]
  },
  {
   "cell_type": "markdown",
   "metadata": {},
   "source": [
    "1976/1977 more closely matches the original chart in the paper, but the remaining years in the period of mid 70s to mid 80s when there were significant contributions clearly do not match. Going forward all analysis in this reproduction will treat NRR as net of AHSTF contributions."
   ]
  },
  {
   "cell_type": "markdown",
   "metadata": {},
   "source": [
    "### Figure 2\n",
    "\n",
    "Page 6 of the paper produces a scatter plot of Real per capita non-renewable resource revenue on the X axis vs. Real per capita budget balance on the Y, along with a linear trend fit."
   ]
  },
  {
   "cell_type": "code",
   "execution_count": 8,
   "metadata": {},
   "outputs": [
    {
     "data": {
      "image/png": "[encoded data removed]",
      "text/plain": [
       "<Figure size 842.4x595.44 with 1 Axes>"
      ]
     },
     "metadata": {},
     "output_type": "display_data"
    }
   ],
   "source": [
    "sns.set(rc={'figure.figsize':(11.7,8.27)})\n",
    "chart_df = (\n",
    "    df\n",
    "    .loc['1970':'2016', ['natural_resource_revenue', 'deficit']]\n",
    "    .rename(columns={\n",
    "        'natural_resource_revenue': 'Non-renewable Resource Revenue',\n",
    "        'deficit': 'Deficit'\n",
    "    })\n",
    "    .assign(balance=lambda df: df['Deficit'] * -1)\n",
    "    .rename(columns={'balance': 'Budget Balance'})\n",
    "    .copy()\n",
    ")\n",
    "sns.regplot(x='Non-renewable Resource Revenue', y='Budget Balance', data=chart_df);"
   ]
  },
  {
   "cell_type": "markdown",
   "metadata": {},
   "source": [
    "With the exception of the outlier previously noted in the time series view of the plot, this representation also looks very similar to what was in the original paper."
   ]
  },
  {
   "cell_type": "markdown",
   "metadata": {},
   "source": [
    "## Model Specification and estimation\n",
    "\n",
    "This section combines the previously specified data extraction with transformations necessary to produce summary statistics, statistical tests, and the VAR model itself."
   ]
  },
  {
   "cell_type": "code",
   "execution_count": 9,
   "metadata": {},
   "outputs": [],
   "source": [
    "def model_df_levels():\n",
    "    \"\"\"Combine real per capita budget data to get model data in levels\n",
    "    \n",
    "    lag exogenous variables (unemployment and employment rates, CAD/USD exchange)\n",
    "    \"\"\"\n",
    "    budg = budget_real_per_capita()\n",
    "    exog = exogenous_variables()\n",
    "    df = (\n",
    "        pd.concat([budg, exog], axis='columns')\n",
    "        .rename(columns={'total_prog_exp': 'program_expenditure', 'EXCAUS': 'cad_usd'})\n",
    "        .assign(ur_lag=lambda df: df['unemployment_rate'].shift(periods=1))\n",
    "        .assign(er_lag=lambda df: df['employment_rate'].shift(periods=1))\n",
    "        .assign(cad_usd_lag=lambda df: df['cad_usd'].shift(periods=1))\n",
    "        .reindex(columns=[\n",
    "            'program_expenditure', 'debt_service', 'corporate_income_tax',\n",
    "            'personal_income_tax', 'other_revenue', 'natural_resource_revenue',\n",
    "            'deficit', 'heritage_dummy', 'ur_lag', 'er_lag', 'cad_usd_lag'\n",
    "        ])\n",
    "    )\n",
    "    return df"
   ]
  },
  {
   "cell_type": "code",
   "execution_count": 10,
   "metadata": {},
   "outputs": [],
   "source": [
    "mdfl = model_df_levels()"
   ]
  },
  {
   "cell_type": "markdown",
   "metadata": {},
   "source": [
    "### Sumary statistics for key variables, 1970-71, 2016-17 in levels\n",
    "\n",
    "Reproduce the top half of table 1 from the paper"
   ]
  },
  {
   "cell_type": "code",
   "execution_count": 11,
   "metadata": {},
   "outputs": [
    {
     "data": {
      "text/html": [
       "<style  type=\"text/css\" >\n",
       "</style><table id=\"T_312e73e4_8099_11e9_ac12_70208400f630\" ><thead>    <tr>        <th class=\"blank level0\" ></th>        <th class=\"col_heading level0 col0\" >count</th>        <th class=\"col_heading level0 col1\" >mean</th>        <th class=\"col_heading level0 col2\" >std</th>        <th class=\"col_heading level0 col3\" >min</th>        <th class=\"col_heading level0 col4\" >25%</th>        <th class=\"col_heading level0 col5\" >50%</th>        <th class=\"col_heading level0 col6\" >75%</th>        <th class=\"col_heading level0 col7\" >max</th>    </tr></thead><tbody>\n",
       "                <tr>\n",
       "                        <th id=\"T_312e73e4_8099_11e9_ac12_70208400f630level0_row0\" class=\"row_heading level0 row0\" >natural_resource_revenue</th>\n",
       "                        <td id=\"T_312e73e4_8099_11e9_ac12_70208400f630row0_col0\" class=\"data row0 col0\" >47</td>\n",
       "                        <td id=\"T_312e73e4_8099_11e9_ac12_70208400f630row0_col1\" class=\"data row0 col1\" >2,692.0</td>\n",
       "                        <td id=\"T_312e73e4_8099_11e9_ac12_70208400f630row0_col2\" class=\"data row0 col2\" >1,315.6</td>\n",
       "                        <td id=\"T_312e73e4_8099_11e9_ac12_70208400f630row0_col3\" class=\"data row0 col3\" >-121.9</td>\n",
       "                        <td id=\"T_312e73e4_8099_11e9_ac12_70208400f630row0_col4\" class=\"data row0 col4\" >1,707.8</td>\n",
       "                        <td id=\"T_312e73e4_8099_11e9_ac12_70208400f630row0_col5\" class=\"data row0 col5\" >2,346.9</td>\n",
       "                        <td id=\"T_312e73e4_8099_11e9_ac12_70208400f630row0_col6\" class=\"data row0 col6\" >3,890.7</td>\n",
       "                        <td id=\"T_312e73e4_8099_11e9_ac12_70208400f630row0_col7\" class=\"data row0 col7\" >5,087.7</td>\n",
       "            </tr>\n",
       "            <tr>\n",
       "                        <th id=\"T_312e73e4_8099_11e9_ac12_70208400f630level0_row1\" class=\"row_heading level0 row1\" >corporate_income_tax</th>\n",
       "                        <td id=\"T_312e73e4_8099_11e9_ac12_70208400f630row1_col0\" class=\"data row1 col0\" >47</td>\n",
       "                        <td id=\"T_312e73e4_8099_11e9_ac12_70208400f630row1_col1\" class=\"data row1 col1\" >783.6</td>\n",
       "                        <td id=\"T_312e73e4_8099_11e9_ac12_70208400f630row1_col2\" class=\"data row1 col2\" >351.4</td>\n",
       "                        <td id=\"T_312e73e4_8099_11e9_ac12_70208400f630row1_col3\" class=\"data row1 col3\" >245.4</td>\n",
       "                        <td id=\"T_312e73e4_8099_11e9_ac12_70208400f630row1_col4\" class=\"data row1 col4\" >533.6</td>\n",
       "                        <td id=\"T_312e73e4_8099_11e9_ac12_70208400f630row1_col5\" class=\"data row1 col5\" >718.7</td>\n",
       "                        <td id=\"T_312e73e4_8099_11e9_ac12_70208400f630row1_col6\" class=\"data row1 col6\" >1,009.9</td>\n",
       "                        <td id=\"T_312e73e4_8099_11e9_ac12_70208400f630row1_col7\" class=\"data row1 col7\" >1,549.3</td>\n",
       "            </tr>\n",
       "            <tr>\n",
       "                        <th id=\"T_312e73e4_8099_11e9_ac12_70208400f630level0_row2\" class=\"row_heading level0 row2\" >personal_income_tax</th>\n",
       "                        <td id=\"T_312e73e4_8099_11e9_ac12_70208400f630row2_col0\" class=\"data row2 col0\" >47</td>\n",
       "                        <td id=\"T_312e73e4_8099_11e9_ac12_70208400f630row2_col1\" class=\"data row2 col1\" >1,842.5</td>\n",
       "                        <td id=\"T_312e73e4_8099_11e9_ac12_70208400f630row2_col2\" class=\"data row2 col2\" >615.5</td>\n",
       "                        <td id=\"T_312e73e4_8099_11e9_ac12_70208400f630row2_col3\" class=\"data row2 col3\" >750.4</td>\n",
       "                        <td id=\"T_312e73e4_8099_11e9_ac12_70208400f630row2_col4\" class=\"data row2 col4\" >1,397.7</td>\n",
       "                        <td id=\"T_312e73e4_8099_11e9_ac12_70208400f630row2_col5\" class=\"data row2 col5\" >1,882.8</td>\n",
       "                        <td id=\"T_312e73e4_8099_11e9_ac12_70208400f630row2_col6\" class=\"data row2 col6\" >2,355.8</td>\n",
       "                        <td id=\"T_312e73e4_8099_11e9_ac12_70208400f630row2_col7\" class=\"data row2 col7\" >2,826.1</td>\n",
       "            </tr>\n",
       "            <tr>\n",
       "                        <th id=\"T_312e73e4_8099_11e9_ac12_70208400f630level0_row3\" class=\"row_heading level0 row3\" >other_revenue</th>\n",
       "                        <td id=\"T_312e73e4_8099_11e9_ac12_70208400f630row3_col0\" class=\"data row3 col0\" >47</td>\n",
       "                        <td id=\"T_312e73e4_8099_11e9_ac12_70208400f630row3_col1\" class=\"data row3 col1\" >4,345.7</td>\n",
       "                        <td id=\"T_312e73e4_8099_11e9_ac12_70208400f630row3_col2\" class=\"data row3 col2\" >1,099.9</td>\n",
       "                        <td id=\"T_312e73e4_8099_11e9_ac12_70208400f630row3_col3\" class=\"data row3 col3\" >2,246.8</td>\n",
       "                        <td id=\"T_312e73e4_8099_11e9_ac12_70208400f630row3_col4\" class=\"data row3 col4\" >3,584.9</td>\n",
       "                        <td id=\"T_312e73e4_8099_11e9_ac12_70208400f630row3_col5\" class=\"data row3 col5\" >4,679.0</td>\n",
       "                        <td id=\"T_312e73e4_8099_11e9_ac12_70208400f630row3_col6\" class=\"data row3 col6\" >5,132.5</td>\n",
       "                        <td id=\"T_312e73e4_8099_11e9_ac12_70208400f630row3_col7\" class=\"data row3 col7\" >5,805.1</td>\n",
       "            </tr>\n",
       "            <tr>\n",
       "                        <th id=\"T_312e73e4_8099_11e9_ac12_70208400f630level0_row4\" class=\"row_heading level0 row4\" >debt_service</th>\n",
       "                        <td id=\"T_312e73e4_8099_11e9_ac12_70208400f630row4_col0\" class=\"data row4 col0\" >47</td>\n",
       "                        <td id=\"T_312e73e4_8099_11e9_ac12_70208400f630row4_col1\" class=\"data row4 col1\" >320.1</td>\n",
       "                        <td id=\"T_312e73e4_8099_11e9_ac12_70208400f630row4_col2\" class=\"data row4 col2\" >332.6</td>\n",
       "                        <td id=\"T_312e73e4_8099_11e9_ac12_70208400f630row4_col3\" class=\"data row4 col3\" >29.6</td>\n",
       "                        <td id=\"T_312e73e4_8099_11e9_ac12_70208400f630row4_col4\" class=\"data row4 col4\" >79.6</td>\n",
       "                        <td id=\"T_312e73e4_8099_11e9_ac12_70208400f630row4_col5\" class=\"data row4 col5\" >157.7</td>\n",
       "                        <td id=\"T_312e73e4_8099_11e9_ac12_70208400f630row4_col6\" class=\"data row4 col6\" >482.2</td>\n",
       "                        <td id=\"T_312e73e4_8099_11e9_ac12_70208400f630row4_col7\" class=\"data row4 col7\" >1,069.7</td>\n",
       "            </tr>\n",
       "            <tr>\n",
       "                        <th id=\"T_312e73e4_8099_11e9_ac12_70208400f630level0_row5\" class=\"row_heading level0 row5\" >program_expenditure</th>\n",
       "                        <td id=\"T_312e73e4_8099_11e9_ac12_70208400f630row5_col0\" class=\"data row5 col0\" >47</td>\n",
       "                        <td id=\"T_312e73e4_8099_11e9_ac12_70208400f630row5_col1\" class=\"data row5 col1\" >9,285.4</td>\n",
       "                        <td id=\"T_312e73e4_8099_11e9_ac12_70208400f630row5_col2\" class=\"data row5 col2\" >2,182.3</td>\n",
       "                        <td id=\"T_312e73e4_8099_11e9_ac12_70208400f630row5_col3\" class=\"data row5 col3\" >4,738.7</td>\n",
       "                        <td id=\"T_312e73e4_8099_11e9_ac12_70208400f630row5_col4\" class=\"data row5 col4\" >7,597.3</td>\n",
       "                        <td id=\"T_312e73e4_8099_11e9_ac12_70208400f630row5_col5\" class=\"data row5 col5\" >9,947.2</td>\n",
       "                        <td id=\"T_312e73e4_8099_11e9_ac12_70208400f630row5_col6\" class=\"data row5 col6\" >11,097.7</td>\n",
       "                        <td id=\"T_312e73e4_8099_11e9_ac12_70208400f630row5_col7\" class=\"data row5 col7\" >12,782.8</td>\n",
       "            </tr>\n",
       "            <tr>\n",
       "                        <th id=\"T_312e73e4_8099_11e9_ac12_70208400f630level0_row6\" class=\"row_heading level0 row6\" >deficit</th>\n",
       "                        <td id=\"T_312e73e4_8099_11e9_ac12_70208400f630row6_col0\" class=\"data row6 col0\" >47</td>\n",
       "                        <td id=\"T_312e73e4_8099_11e9_ac12_70208400f630row6_col1\" class=\"data row6 col1\" >-58.3</td>\n",
       "                        <td id=\"T_312e73e4_8099_11e9_ac12_70208400f630row6_col2\" class=\"data row6 col2\" >1,594.7</td>\n",
       "                        <td id=\"T_312e73e4_8099_11e9_ac12_70208400f630row6_col3\" class=\"data row6 col3\" >-3,158.1</td>\n",
       "                        <td id=\"T_312e73e4_8099_11e9_ac12_70208400f630row6_col4\" class=\"data row6 col4\" >-1,308.7</td>\n",
       "                        <td id=\"T_312e73e4_8099_11e9_ac12_70208400f630row6_col5\" class=\"data row6 col5\" >-137.9</td>\n",
       "                        <td id=\"T_312e73e4_8099_11e9_ac12_70208400f630row6_col6\" class=\"data row6 col6\" >1,087.3</td>\n",
       "                        <td id=\"T_312e73e4_8099_11e9_ac12_70208400f630row6_col7\" class=\"data row6 col7\" >3,750.9</td>\n",
       "            </tr>\n",
       "            <tr>\n",
       "                        <th id=\"T_312e73e4_8099_11e9_ac12_70208400f630level0_row7\" class=\"row_heading level0 row7\" >ur_lag</th>\n",
       "                        <td id=\"T_312e73e4_8099_11e9_ac12_70208400f630row7_col0\" class=\"data row7 col0\" >47</td>\n",
       "                        <td id=\"T_312e73e4_8099_11e9_ac12_70208400f630row7_col1\" class=\"data row7 col1\" >6.10</td>\n",
       "                        <td id=\"T_312e73e4_8099_11e9_ac12_70208400f630row7_col2\" class=\"data row7 col2\" >2.20</td>\n",
       "                        <td id=\"T_312e73e4_8099_11e9_ac12_70208400f630row7_col3\" class=\"data row7 col3\" >3.30</td>\n",
       "                        <td id=\"T_312e73e4_8099_11e9_ac12_70208400f630row7_col4\" class=\"data row7 col4\" >4.50</td>\n",
       "                        <td id=\"T_312e73e4_8099_11e9_ac12_70208400f630row7_col5\" class=\"data row7 col5\" >5.30</td>\n",
       "                        <td id=\"T_312e73e4_8099_11e9_ac12_70208400f630row7_col6\" class=\"data row7 col6\" >7.70</td>\n",
       "                        <td id=\"T_312e73e4_8099_11e9_ac12_70208400f630row7_col7\" class=\"data row7 col7\" >11.1</td>\n",
       "            </tr>\n",
       "            <tr>\n",
       "                        <th id=\"T_312e73e4_8099_11e9_ac12_70208400f630level0_row8\" class=\"row_heading level0 row8\" >er_lag</th>\n",
       "                        <td id=\"T_312e73e4_8099_11e9_ac12_70208400f630row8_col0\" class=\"data row8 col0\" >47</td>\n",
       "                        <td id=\"T_312e73e4_8099_11e9_ac12_70208400f630row8_col1\" class=\"data row8 col1\" >63.7</td>\n",
       "                        <td id=\"T_312e73e4_8099_11e9_ac12_70208400f630row8_col2\" class=\"data row8 col2\" >10.0</td>\n",
       "                        <td id=\"T_312e73e4_8099_11e9_ac12_70208400f630row8_col3\" class=\"data row8 col3\" >38.5</td>\n",
       "                        <td id=\"T_312e73e4_8099_11e9_ac12_70208400f630row8_col4\" class=\"data row8 col4\" >64.7</td>\n",
       "                        <td id=\"T_312e73e4_8099_11e9_ac12_70208400f630row8_col5\" class=\"data row8 col5\" >67.3</td>\n",
       "                        <td id=\"T_312e73e4_8099_11e9_ac12_70208400f630row8_col6\" class=\"data row8 col6\" >68.9</td>\n",
       "                        <td id=\"T_312e73e4_8099_11e9_ac12_70208400f630row8_col7\" class=\"data row8 col7\" >71.9</td>\n",
       "            </tr>\n",
       "            <tr>\n",
       "                        <th id=\"T_312e73e4_8099_11e9_ac12_70208400f630level0_row9\" class=\"row_heading level0 row9\" >cad_usd_lag</th>\n",
       "                        <td id=\"T_312e73e4_8099_11e9_ac12_70208400f630row9_col0\" class=\"data row9 col0\" >47</td>\n",
       "                        <td id=\"T_312e73e4_8099_11e9_ac12_70208400f630row9_col1\" class=\"data row9 col1\" >1.20</td>\n",
       "                        <td id=\"T_312e73e4_8099_11e9_ac12_70208400f630row9_col2\" class=\"data row9 col2\" >0.20</td>\n",
       "                        <td id=\"T_312e73e4_8099_11e9_ac12_70208400f630row9_col3\" class=\"data row9 col3\" >1.00</td>\n",
       "                        <td id=\"T_312e73e4_8099_11e9_ac12_70208400f630row9_col4\" class=\"data row9 col4\" >1.10</td>\n",
       "                        <td id=\"T_312e73e4_8099_11e9_ac12_70208400f630row9_col5\" class=\"data row9 col5\" >1.20</td>\n",
       "                        <td id=\"T_312e73e4_8099_11e9_ac12_70208400f630row9_col6\" class=\"data row9 col6\" >1.30</td>\n",
       "                        <td id=\"T_312e73e4_8099_11e9_ac12_70208400f630row9_col7\" class=\"data row9 col7\" >1.60</td>\n",
       "            </tr>\n",
       "    </tbody></table>"
      ],
      "text/plain": [
       "<pandas.io.formats.style.Styler at 0x1e9d4232b70>"
      ]
     },
     "execution_count": 11,
     "metadata": {},
     "output_type": "execute_result"
    }
   ],
   "source": [
    "number = \"{:0<4,.1f}\"\n",
    "percent = '{:.1%}'\n",
    "count = \"{:0.0f}\"\n",
    "\n",
    "df = (\n",
    "    mdfl\n",
    "    .loc['1970':'2016']\n",
    "    .copy()\n",
    "    .drop(columns=['heritage_dummy'])\n",
    "    .reindex(columns=[\n",
    "        'natural_resource_revenue', 'corporate_income_tax', 'personal_income_tax',\n",
    "        'other_revenue', 'debt_service', 'program_expenditure', 'deficit', 'ur_lag',\n",
    "        'er_lag', 'cad_usd_lag'\n",
    "    ])\n",
    "    .describe()\n",
    "    .T\n",
    "    .style.format({\n",
    "        'count': count,\n",
    "        'mean': number,\n",
    "        'std': number,\n",
    "        'min': number,\n",
    "        '25%': number,\n",
    "        '50%': number,\n",
    "        '75%': number,\n",
    "        'max': number\n",
    "    })\n",
    ")\n",
    "df"
   ]
  },
  {
   "cell_type": "markdown",
   "metadata": {},
   "source": [
    "All the figures that I can validate against (exogenous variables aren't reported in the paper) are reasonably close. The one noted difference is the previously described outlier in natural resource revenue which leads to my minimum for that variable being significantly lower than in the paper. My guess for the observed discrepancies are differences in calculating population or CPI. It will be interesting to see how sensitive the rest of the model is to these relatively small differences in transformation methodology."
   ]
  },
  {
   "cell_type": "markdown",
   "metadata": {},
   "source": [
    "### Sumary statistics for key variables, 1970-71, 2016-17, first difference\n",
    "\n",
    "Reproduce the bottom half of table 1 from the paper"
   ]
  },
  {
   "cell_type": "code",
   "execution_count": 12,
   "metadata": {},
   "outputs": [],
   "source": [
    "def model_df_first_diff(mdfl):\n",
    "    \"\"\"Produce the first difference of the level model df\"\"\"\n",
    "    df = (\n",
    "        mdfl\n",
    "        .diff()\n",
    "        .loc['1970':'2016']\n",
    "        .copy()\n",
    "        .assign(heritage_dummy=mdfl['heritage_dummy']) # don't want to lag diff this\n",
    "        .assign(constant=1)\n",
    "        .assign(zero=0)\n",
    "        .assign(nrrd=lambda df: df[['natural_resource_revenue', 'zero']].min(axis='columns'))\n",
    "        .assign(nrri=lambda df: df[['natural_resource_revenue', 'zero']].max(axis='columns'))\n",
    "        .reindex(columns=[\n",
    "            'natural_resource_revenue', 'nrri', 'nrrd', 'corporate_income_tax', 'personal_income_tax',\n",
    "            'other_revenue', 'debt_service', 'program_expenditure', 'deficit', 'ur_lag',\n",
    "            'er_lag', 'cad_usd_lag', 'heritage_dummy', 'constant'\n",
    "        ])\n",
    "    )\n",
    "    return df"
   ]
  },
  {
   "cell_type": "code",
   "execution_count": 13,
   "metadata": {},
   "outputs": [
    {
     "data": {
      "text/html": [
       "<style  type=\"text/css\" >\n",
       "</style><table id=\"T_313c3a28_8099_11e9_be70_70208400f630\" ><thead>    <tr>        <th class=\"blank level0\" ></th>        <th class=\"col_heading level0 col0\" >count</th>        <th class=\"col_heading level0 col1\" >mean</th>        <th class=\"col_heading level0 col2\" >std</th>        <th class=\"col_heading level0 col3\" >min</th>        <th class=\"col_heading level0 col4\" >25%</th>        <th class=\"col_heading level0 col5\" >50%</th>        <th class=\"col_heading level0 col6\" >75%</th>        <th class=\"col_heading level0 col7\" >max</th>    </tr></thead><tbody>\n",
       "                <tr>\n",
       "                        <th id=\"T_313c3a28_8099_11e9_be70_70208400f630level0_row0\" class=\"row_heading level0 row0\" >natural_resource_revenue</th>\n",
       "                        <td id=\"T_313c3a28_8099_11e9_be70_70208400f630row0_col0\" class=\"data row0 col0\" >47</td>\n",
       "                        <td id=\"T_313c3a28_8099_11e9_be70_70208400f630row0_col1\" class=\"data row0 col1\" >-7.9</td>\n",
       "                        <td id=\"T_313c3a28_8099_11e9_be70_70208400f630row0_col2\" class=\"data row0 col2\" >1,325.5</td>\n",
       "                        <td id=\"T_313c3a28_8099_11e9_be70_70208400f630row0_col3\" class=\"data row0 col3\" >-4,364.7</td>\n",
       "                        <td id=\"T_313c3a28_8099_11e9_be70_70208400f630row0_col4\" class=\"data row0 col4\" >-519.2</td>\n",
       "                        <td id=\"T_313c3a28_8099_11e9_be70_70208400f630row0_col5\" class=\"data row0 col5\" >89.7</td>\n",
       "                        <td id=\"T_313c3a28_8099_11e9_be70_70208400f630row0_col6\" class=\"data row0 col6\" >454.4</td>\n",
       "                        <td id=\"T_313c3a28_8099_11e9_be70_70208400f630row0_col7\" class=\"data row0 col7\" >4,466.5</td>\n",
       "            </tr>\n",
       "            <tr>\n",
       "                        <th id=\"T_313c3a28_8099_11e9_be70_70208400f630level0_row1\" class=\"row_heading level0 row1\" >nrri</th>\n",
       "                        <td id=\"T_313c3a28_8099_11e9_be70_70208400f630row1_col0\" class=\"data row1 col0\" >47</td>\n",
       "                        <td id=\"T_313c3a28_8099_11e9_be70_70208400f630row1_col1\" class=\"data row1 col1\" >426.3</td>\n",
       "                        <td id=\"T_313c3a28_8099_11e9_be70_70208400f630row1_col2\" class=\"data row1 col2\" >826.2</td>\n",
       "                        <td id=\"T_313c3a28_8099_11e9_be70_70208400f630row1_col3\" class=\"data row1 col3\" >0.00</td>\n",
       "                        <td id=\"T_313c3a28_8099_11e9_be70_70208400f630row1_col4\" class=\"data row1 col4\" >0.00</td>\n",
       "                        <td id=\"T_313c3a28_8099_11e9_be70_70208400f630row1_col5\" class=\"data row1 col5\" >89.7</td>\n",
       "                        <td id=\"T_313c3a28_8099_11e9_be70_70208400f630row1_col6\" class=\"data row1 col6\" >454.4</td>\n",
       "                        <td id=\"T_313c3a28_8099_11e9_be70_70208400f630row1_col7\" class=\"data row1 col7\" >4,466.5</td>\n",
       "            </tr>\n",
       "            <tr>\n",
       "                        <th id=\"T_313c3a28_8099_11e9_be70_70208400f630level0_row2\" class=\"row_heading level0 row2\" >nrrd</th>\n",
       "                        <td id=\"T_313c3a28_8099_11e9_be70_70208400f630row2_col0\" class=\"data row2 col0\" >47</td>\n",
       "                        <td id=\"T_313c3a28_8099_11e9_be70_70208400f630row2_col1\" class=\"data row2 col1\" >-434.3</td>\n",
       "                        <td id=\"T_313c3a28_8099_11e9_be70_70208400f630row2_col2\" class=\"data row2 col2\" >834.3</td>\n",
       "                        <td id=\"T_313c3a28_8099_11e9_be70_70208400f630row2_col3\" class=\"data row2 col3\" >-4,364.7</td>\n",
       "                        <td id=\"T_313c3a28_8099_11e9_be70_70208400f630row2_col4\" class=\"data row2 col4\" >-519.2</td>\n",
       "                        <td id=\"T_313c3a28_8099_11e9_be70_70208400f630row2_col5\" class=\"data row2 col5\" >0.00</td>\n",
       "                        <td id=\"T_313c3a28_8099_11e9_be70_70208400f630row2_col6\" class=\"data row2 col6\" >0.00</td>\n",
       "                        <td id=\"T_313c3a28_8099_11e9_be70_70208400f630row2_col7\" class=\"data row2 col7\" >0.00</td>\n",
       "            </tr>\n",
       "            <tr>\n",
       "                        <th id=\"T_313c3a28_8099_11e9_be70_70208400f630level0_row3\" class=\"row_heading level0 row3\" >corporate_income_tax</th>\n",
       "                        <td id=\"T_313c3a28_8099_11e9_be70_70208400f630row3_col0\" class=\"data row3 col0\" >47</td>\n",
       "                        <td id=\"T_313c3a28_8099_11e9_be70_70208400f630row3_col1\" class=\"data row3 col1\" >13.4</td>\n",
       "                        <td id=\"T_313c3a28_8099_11e9_be70_70208400f630row3_col2\" class=\"data row3 col2\" >197.7</td>\n",
       "                        <td id=\"T_313c3a28_8099_11e9_be70_70208400f630row3_col3\" class=\"data row3 col3\" >-458.3</td>\n",
       "                        <td id=\"T_313c3a28_8099_11e9_be70_70208400f630row3_col4\" class=\"data row3 col4\" >-101.1</td>\n",
       "                        <td id=\"T_313c3a28_8099_11e9_be70_70208400f630row3_col5\" class=\"data row3 col5\" >26.4</td>\n",
       "                        <td id=\"T_313c3a28_8099_11e9_be70_70208400f630row3_col6\" class=\"data row3 col6\" >139.3</td>\n",
       "                        <td id=\"T_313c3a28_8099_11e9_be70_70208400f630row3_col7\" class=\"data row3 col7\" >422.7</td>\n",
       "            </tr>\n",
       "            <tr>\n",
       "                        <th id=\"T_313c3a28_8099_11e9_be70_70208400f630level0_row4\" class=\"row_heading level0 row4\" >personal_income_tax</th>\n",
       "                        <td id=\"T_313c3a28_8099_11e9_be70_70208400f630row4_col0\" class=\"data row4 col0\" >47</td>\n",
       "                        <td id=\"T_313c3a28_8099_11e9_be70_70208400f630row4_col1\" class=\"data row4 col1\" >42.9</td>\n",
       "                        <td id=\"T_313c3a28_8099_11e9_be70_70208400f630row4_col2\" class=\"data row4 col2\" >221.5</td>\n",
       "                        <td id=\"T_313c3a28_8099_11e9_be70_70208400f630row4_col3\" class=\"data row4 col3\" >-679.0</td>\n",
       "                        <td id=\"T_313c3a28_8099_11e9_be70_70208400f630row4_col4\" class=\"data row4 col4\" >-35.7</td>\n",
       "                        <td id=\"T_313c3a28_8099_11e9_be70_70208400f630row4_col5\" class=\"data row4 col5\" >42.8</td>\n",
       "                        <td id=\"T_313c3a28_8099_11e9_be70_70208400f630row4_col6\" class=\"data row4 col6\" >142.8</td>\n",
       "                        <td id=\"T_313c3a28_8099_11e9_be70_70208400f630row4_col7\" class=\"data row4 col7\" >923.3</td>\n",
       "            </tr>\n",
       "            <tr>\n",
       "                        <th id=\"T_313c3a28_8099_11e9_be70_70208400f630level0_row5\" class=\"row_heading level0 row5\" >other_revenue</th>\n",
       "                        <td id=\"T_313c3a28_8099_11e9_be70_70208400f630row5_col0\" class=\"data row5 col0\" >47</td>\n",
       "                        <td id=\"T_313c3a28_8099_11e9_be70_70208400f630row5_col1\" class=\"data row5 col1\" >42.6</td>\n",
       "                        <td id=\"T_313c3a28_8099_11e9_be70_70208400f630row5_col2\" class=\"data row5 col2\" >570.9</td>\n",
       "                        <td id=\"T_313c3a28_8099_11e9_be70_70208400f630row5_col3\" class=\"data row5 col3\" >-1,219.9</td>\n",
       "                        <td id=\"T_313c3a28_8099_11e9_be70_70208400f630row5_col4\" class=\"data row5 col4\" >-261.3</td>\n",
       "                        <td id=\"T_313c3a28_8099_11e9_be70_70208400f630row5_col5\" class=\"data row5 col5\" >-59.1</td>\n",
       "                        <td id=\"T_313c3a28_8099_11e9_be70_70208400f630row5_col6\" class=\"data row5 col6\" >144.9</td>\n",
       "                        <td id=\"T_313c3a28_8099_11e9_be70_70208400f630row5_col7\" class=\"data row5 col7\" >2,331.0</td>\n",
       "            </tr>\n",
       "            <tr>\n",
       "                        <th id=\"T_313c3a28_8099_11e9_be70_70208400f630level0_row6\" class=\"row_heading level0 row6\" >debt_service</th>\n",
       "                        <td id=\"T_313c3a28_8099_11e9_be70_70208400f630row6_col0\" class=\"data row6 col0\" >47</td>\n",
       "                        <td id=\"T_313c3a28_8099_11e9_be70_70208400f630row6_col1\" class=\"data row6 col1\" >4.50</td>\n",
       "                        <td id=\"T_313c3a28_8099_11e9_be70_70208400f630row6_col2\" class=\"data row6 col2\" >85.0</td>\n",
       "                        <td id=\"T_313c3a28_8099_11e9_be70_70208400f630row6_col3\" class=\"data row6 col3\" >-249.0</td>\n",
       "                        <td id=\"T_313c3a28_8099_11e9_be70_70208400f630row6_col4\" class=\"data row6 col4\" >-20.1</td>\n",
       "                        <td id=\"T_313c3a28_8099_11e9_be70_70208400f630row6_col5\" class=\"data row6 col5\" >1.30</td>\n",
       "                        <td id=\"T_313c3a28_8099_11e9_be70_70208400f630row6_col6\" class=\"data row6 col6\" >35.8</td>\n",
       "                        <td id=\"T_313c3a28_8099_11e9_be70_70208400f630row6_col7\" class=\"data row6 col7\" >219.9</td>\n",
       "            </tr>\n",
       "            <tr>\n",
       "                        <th id=\"T_313c3a28_8099_11e9_be70_70208400f630level0_row7\" class=\"row_heading level0 row7\" >program_expenditure</th>\n",
       "                        <td id=\"T_313c3a28_8099_11e9_be70_70208400f630row7_col0\" class=\"data row7 col0\" >47</td>\n",
       "                        <td id=\"T_313c3a28_8099_11e9_be70_70208400f630row7_col1\" class=\"data row7 col1\" >148.8</td>\n",
       "                        <td id=\"T_313c3a28_8099_11e9_be70_70208400f630row7_col2\" class=\"data row7 col2\" >733.8</td>\n",
       "                        <td id=\"T_313c3a28_8099_11e9_be70_70208400f630row7_col3\" class=\"data row7 col3\" >-1,275.8</td>\n",
       "                        <td id=\"T_313c3a28_8099_11e9_be70_70208400f630row7_col4\" class=\"data row7 col4\" >-248.4</td>\n",
       "                        <td id=\"T_313c3a28_8099_11e9_be70_70208400f630row7_col5\" class=\"data row7 col5\" >146.9</td>\n",
       "                        <td id=\"T_313c3a28_8099_11e9_be70_70208400f630row7_col6\" class=\"data row7 col6\" >541.4</td>\n",
       "                        <td id=\"T_313c3a28_8099_11e9_be70_70208400f630row7_col7\" class=\"data row7 col7\" >2,375.3</td>\n",
       "            </tr>\n",
       "            <tr>\n",
       "                        <th id=\"T_313c3a28_8099_11e9_be70_70208400f630level0_row8\" class=\"row_heading level0 row8\" >deficit</th>\n",
       "                        <td id=\"T_313c3a28_8099_11e9_be70_70208400f630row8_col0\" class=\"data row8 col0\" >47</td>\n",
       "                        <td id=\"T_313c3a28_8099_11e9_be70_70208400f630row8_col1\" class=\"data row8 col1\" >62.3</td>\n",
       "                        <td id=\"T_313c3a28_8099_11e9_be70_70208400f630row8_col2\" class=\"data row8 col2\" >1,543.8</td>\n",
       "                        <td id=\"T_313c3a28_8099_11e9_be70_70208400f630row8_col3\" class=\"data row8 col3\" >-4,573.9</td>\n",
       "                        <td id=\"T_313c3a28_8099_11e9_be70_70208400f630row8_col4\" class=\"data row8 col4\" >-814.7</td>\n",
       "                        <td id=\"T_313c3a28_8099_11e9_be70_70208400f630row8_col5\" class=\"data row8 col5\" >-46.1</td>\n",
       "                        <td id=\"T_313c3a28_8099_11e9_be70_70208400f630row8_col6\" class=\"data row8 col6\" >836.1</td>\n",
       "                        <td id=\"T_313c3a28_8099_11e9_be70_70208400f630row8_col7\" class=\"data row8 col7\" >4,289.7</td>\n",
       "            </tr>\n",
       "            <tr>\n",
       "                        <th id=\"T_313c3a28_8099_11e9_be70_70208400f630level0_row9\" class=\"row_heading level0 row9\" >ur_lag</th>\n",
       "                        <td id=\"T_313c3a28_8099_11e9_be70_70208400f630row9_col0\" class=\"data row9 col0\" >47</td>\n",
       "                        <td id=\"T_313c3a28_8099_11e9_be70_70208400f630row9_col1\" class=\"data row9 col1\" >0.10</td>\n",
       "                        <td id=\"T_313c3a28_8099_11e9_be70_70208400f630row9_col2\" class=\"data row9 col2\" >1.30</td>\n",
       "                        <td id=\"T_313c3a28_8099_11e9_be70_70208400f630row9_col3\" class=\"data row9 col3\" >-2.3</td>\n",
       "                        <td id=\"T_313c3a28_8099_11e9_be70_70208400f630row9_col4\" class=\"data row9 col4\" >-0.6</td>\n",
       "                        <td id=\"T_313c3a28_8099_11e9_be70_70208400f630row9_col5\" class=\"data row9 col5\" >-0.1</td>\n",
       "                        <td id=\"T_313c3a28_8099_11e9_be70_70208400f630row9_col6\" class=\"data row9 col6\" >0.60</td>\n",
       "                        <td id=\"T_313c3a28_8099_11e9_be70_70208400f630row9_col7\" class=\"data row9 col7\" >5.40</td>\n",
       "            </tr>\n",
       "            <tr>\n",
       "                        <th id=\"T_313c3a28_8099_11e9_be70_70208400f630level0_row10\" class=\"row_heading level0 row10\" >er_lag</th>\n",
       "                        <td id=\"T_313c3a28_8099_11e9_be70_70208400f630row10_col0\" class=\"data row10 col0\" >47</td>\n",
       "                        <td id=\"T_313c3a28_8099_11e9_be70_70208400f630row10_col1\" class=\"data row10 col1\" >0.60</td>\n",
       "                        <td id=\"T_313c3a28_8099_11e9_be70_70208400f630row10_col2\" class=\"data row10 col2\" >3.30</td>\n",
       "                        <td id=\"T_313c3a28_8099_11e9_be70_70208400f630row10_col3\" class=\"data row10 col3\" >-4.3</td>\n",
       "                        <td id=\"T_313c3a28_8099_11e9_be70_70208400f630row10_col4\" class=\"data row10 col4\" >-0.3</td>\n",
       "                        <td id=\"T_313c3a28_8099_11e9_be70_70208400f630row10_col5\" class=\"data row10 col5\" >0.30</td>\n",
       "                        <td id=\"T_313c3a28_8099_11e9_be70_70208400f630row10_col6\" class=\"data row10 col6\" >1.00</td>\n",
       "                        <td id=\"T_313c3a28_8099_11e9_be70_70208400f630row10_col7\" class=\"data row10 col7\" >21.4</td>\n",
       "            </tr>\n",
       "            <tr>\n",
       "                        <th id=\"T_313c3a28_8099_11e9_be70_70208400f630level0_row11\" class=\"row_heading level0 row11\" >cad_usd_lag</th>\n",
       "                        <td id=\"T_313c3a28_8099_11e9_be70_70208400f630row11_col0\" class=\"data row11 col0\" >47</td>\n",
       "                        <td id=\"T_313c3a28_8099_11e9_be70_70208400f630row11_col1\" class=\"data row11 col1\" >0.00</td>\n",
       "                        <td id=\"T_313c3a28_8099_11e9_be70_70208400f630row11_col2\" class=\"data row11 col2\" >0.10</td>\n",
       "                        <td id=\"T_313c3a28_8099_11e9_be70_70208400f630row11_col3\" class=\"data row11 col3\" >-0.3</td>\n",
       "                        <td id=\"T_313c3a28_8099_11e9_be70_70208400f630row11_col4\" class=\"data row11 col4\" >-0.0</td>\n",
       "                        <td id=\"T_313c3a28_8099_11e9_be70_70208400f630row11_col5\" class=\"data row11 col5\" >-0.0</td>\n",
       "                        <td id=\"T_313c3a28_8099_11e9_be70_70208400f630row11_col6\" class=\"data row11 col6\" >0.10</td>\n",
       "                        <td id=\"T_313c3a28_8099_11e9_be70_70208400f630row11_col7\" class=\"data row11 col7\" >0.20</td>\n",
       "            </tr>\n",
       "    </tbody></table>"
      ],
      "text/plain": [
       "<pandas.io.formats.style.Styler at 0x1e9ecb2df98>"
      ]
     },
     "execution_count": 13,
     "metadata": {},
     "output_type": "execute_result"
    }
   ],
   "source": [
    "df = (\n",
    "    model_df_first_diff(mdfl)\n",
    "    .drop(columns=['heritage_dummy', 'constant'])\n",
    "    .describe()\n",
    "    .T\n",
    "    .style.format({\n",
    "        'count': count,\n",
    "        'mean': number,\n",
    "        'std': number,\n",
    "        'min': number,\n",
    "        '25%': number,\n",
    "        '50%': number,\n",
    "        '75%': number,\n",
    "        'max': number\n",
    "    })\n",
    ")\n",
    "df"
   ]
  },
  {
   "cell_type": "markdown",
   "metadata": {},
   "source": [
    "The outlier in natural resource revenue really skews the first difference max and min, and increases the standard deviation. Again, it will be interesting to see how this impacts the parameter estimates."
   ]
  },
  {
   "cell_type": "markdown",
   "metadata": {},
   "source": [
    "### Unit-Root Tests\n",
    "\n",
    "Table A1 in the paper shows the results of unit root tests for both the level and first differenced variables in the model. This section will reproduce those tables"
   ]
  },
  {
   "cell_type": "code",
   "execution_count": 14,
   "metadata": {},
   "outputs": [],
   "source": [
    "level_stationarity_df = (\n",
    "    mdfl\n",
    "    .loc['1970':'2016']\n",
    "    .copy()\n",
    "    .drop(columns=['heritage_dummy'])\n",
    "    .reindex(columns=[\n",
    "        'natural_resource_revenue', 'corporate_income_tax', 'personal_income_tax',\n",
    "        'other_revenue', 'debt_service', 'program_expenditure', 'deficit', 'ur_lag',\n",
    "        'er_lag', 'cad_usd_lag'\n",
    "    ])\n",
    ")"
   ]
  },
  {
   "cell_type": "code",
   "execution_count": 15,
   "metadata": {},
   "outputs": [],
   "source": [
    "first_diff_stationarity_df = (\n",
    "    model_df_first_diff(mdfl)\n",
    "    .drop(columns=['heritage_dummy', 'constant'])\n",
    ")"
   ]
  },
  {
   "cell_type": "code",
   "execution_count": 16,
   "metadata": {},
   "outputs": [],
   "source": [
    "def stationarity_tests(df):\n",
    "    tests_dict = {'ADF': ADF, 'Phillips-Perron': PhillipsPerron, 'DF-GLS': DFGLS}\n",
    "    cols = df.columns\n",
    "    tests_df = pd.DataFrame()\n",
    "    for test_label, test in tests_dict.items():\n",
    "        for col in cols:\n",
    "            if test_label != 'Phillips-Perron':\n",
    "                col_test = test(df[col], method='BIC')\n",
    "            else:\n",
    "                col_test = test(df[col])\n",
    "            test_val = col_test.stat\n",
    "            test_p = col_test.pvalue\n",
    "            test_summary = f'val: {test_val:0.3f}, p: {test_p:.1%}'\n",
    "            tests_df.loc[col, test_label] = test_summary\n",
    "    return tests_df"
   ]
  },
  {
   "cell_type": "code",
   "execution_count": 17,
   "metadata": {},
   "outputs": [
    {
     "data": {
      "text/html": [
       "<div>\n",
       "<style scoped>\n",
       "    .dataframe tbody tr th:only-of-type {\n",
       "        vertical-align: middle;\n",
       "    }\n",
       "\n",
       "    .dataframe tbody tr th {\n",
       "        vertical-align: top;\n",
       "    }\n",
       "\n",
       "    .dataframe thead th {\n",
       "        text-align: right;\n",
       "    }\n",
       "</style>\n",
       "<table border=\"1\" class=\"dataframe\">\n",
       "  <thead>\n",
       "    <tr style=\"text-align: right;\">\n",
       "      <th></th>\n",
       "      <th>ADF</th>\n",
       "      <th>Phillips-Perron</th>\n",
       "      <th>DF-GLS</th>\n",
       "    </tr>\n",
       "  </thead>\n",
       "  <tbody>\n",
       "    <tr>\n",
       "      <th>natural_resource_revenue</th>\n",
       "      <td>val: -3.943, p: 0.2%</td>\n",
       "      <td>val: -4.052, p: 0.1%</td>\n",
       "      <td>val: -3.127, p: 0.2%</td>\n",
       "    </tr>\n",
       "    <tr>\n",
       "      <th>corporate_income_tax</th>\n",
       "      <td>val: -2.282, p: 17.8%</td>\n",
       "      <td>val: -2.212, p: 20.2%</td>\n",
       "      <td>val: -1.643, p: 9.8%</td>\n",
       "    </tr>\n",
       "    <tr>\n",
       "      <th>personal_income_tax</th>\n",
       "      <td>val: -1.563, p: 50.2%</td>\n",
       "      <td>val: -1.343, p: 60.9%</td>\n",
       "      <td>val: -0.633, p: 45.8%</td>\n",
       "    </tr>\n",
       "    <tr>\n",
       "      <th>other_revenue</th>\n",
       "      <td>val: -2.123, p: 23.5%</td>\n",
       "      <td>val: -1.989, p: 29.1%</td>\n",
       "      <td>val: -1.557, p: 11.6%</td>\n",
       "    </tr>\n",
       "    <tr>\n",
       "      <th>debt_service</th>\n",
       "      <td>val: -1.552, p: 50.8%</td>\n",
       "      <td>val: -1.696, p: 43.3%</td>\n",
       "      <td>val: -1.380, p: 16.1%</td>\n",
       "    </tr>\n",
       "    <tr>\n",
       "      <th>program_expenditure</th>\n",
       "      <td>val: -2.954, p: 3.9%</td>\n",
       "      <td>val: -2.049, p: 26.6%</td>\n",
       "      <td>val: -0.659, p: 44.5%</td>\n",
       "    </tr>\n",
       "    <tr>\n",
       "      <th>deficit</th>\n",
       "      <td>val: -3.466, p: 0.9%</td>\n",
       "      <td>val: -3.874, p: 0.2%</td>\n",
       "      <td>val: -3.494, p: 0.1%</td>\n",
       "    </tr>\n",
       "    <tr>\n",
       "      <th>ur_lag</th>\n",
       "      <td>val: -2.242, p: 19.1%</td>\n",
       "      <td>val: -2.242, p: 19.1%</td>\n",
       "      <td>val: -1.821, p: 6.8%</td>\n",
       "    </tr>\n",
       "    <tr>\n",
       "      <th>er_lag</th>\n",
       "      <td>val: -2.502, p: 11.5%</td>\n",
       "      <td>val: -2.949, p: 4.0%</td>\n",
       "      <td>val: -0.836, p: 36.3%</td>\n",
       "    </tr>\n",
       "    <tr>\n",
       "      <th>cad_usd_lag</th>\n",
       "      <td>val: -1.720, p: 42.1%</td>\n",
       "      <td>val: -1.792, p: 38.5%</td>\n",
       "      <td>val: -1.543, p: 12.0%</td>\n",
       "    </tr>\n",
       "  </tbody>\n",
       "</table>\n",
       "</div>"
      ],
      "text/plain": [
       "                                            ADF        Phillips-Perron  \\\n",
       "natural_resource_revenue   val: -3.943, p: 0.2%   val: -4.052, p: 0.1%   \n",
       "corporate_income_tax      val: -2.282, p: 17.8%  val: -2.212, p: 20.2%   \n",
       "personal_income_tax       val: -1.563, p: 50.2%  val: -1.343, p: 60.9%   \n",
       "other_revenue             val: -2.123, p: 23.5%  val: -1.989, p: 29.1%   \n",
       "debt_service              val: -1.552, p: 50.8%  val: -1.696, p: 43.3%   \n",
       "program_expenditure        val: -2.954, p: 3.9%  val: -2.049, p: 26.6%   \n",
       "deficit                    val: -3.466, p: 0.9%   val: -3.874, p: 0.2%   \n",
       "ur_lag                    val: -2.242, p: 19.1%  val: -2.242, p: 19.1%   \n",
       "er_lag                    val: -2.502, p: 11.5%   val: -2.949, p: 4.0%   \n",
       "cad_usd_lag               val: -1.720, p: 42.1%  val: -1.792, p: 38.5%   \n",
       "\n",
       "                                         DF-GLS  \n",
       "natural_resource_revenue   val: -3.127, p: 0.2%  \n",
       "corporate_income_tax       val: -1.643, p: 9.8%  \n",
       "personal_income_tax       val: -0.633, p: 45.8%  \n",
       "other_revenue             val: -1.557, p: 11.6%  \n",
       "debt_service              val: -1.380, p: 16.1%  \n",
       "program_expenditure       val: -0.659, p: 44.5%  \n",
       "deficit                    val: -3.494, p: 0.1%  \n",
       "ur_lag                     val: -1.821, p: 6.8%  \n",
       "er_lag                    val: -0.836, p: 36.3%  \n",
       "cad_usd_lag               val: -1.543, p: 12.0%  "
      ]
     },
     "execution_count": 17,
     "metadata": {},
     "output_type": "execute_result"
    }
   ],
   "source": [
    "stationarity_tests(level_stationarity_df)"
   ]
  },
  {
   "cell_type": "code",
   "execution_count": 18,
   "metadata": {},
   "outputs": [
    {
     "data": {
      "text/html": [
       "<div>\n",
       "<style scoped>\n",
       "    .dataframe tbody tr th:only-of-type {\n",
       "        vertical-align: middle;\n",
       "    }\n",
       "\n",
       "    .dataframe tbody tr th {\n",
       "        vertical-align: top;\n",
       "    }\n",
       "\n",
       "    .dataframe thead th {\n",
       "        text-align: right;\n",
       "    }\n",
       "</style>\n",
       "<table border=\"1\" class=\"dataframe\">\n",
       "  <thead>\n",
       "    <tr style=\"text-align: right;\">\n",
       "      <th></th>\n",
       "      <th>ADF</th>\n",
       "      <th>Phillips-Perron</th>\n",
       "      <th>DF-GLS</th>\n",
       "    </tr>\n",
       "  </thead>\n",
       "  <tbody>\n",
       "    <tr>\n",
       "      <th>natural_resource_revenue</th>\n",
       "      <td>val: -7.415, p: 0.0%</td>\n",
       "      <td>val: -10.282, p: 0.0%</td>\n",
       "      <td>val: -7.452, p: 0.0%</td>\n",
       "    </tr>\n",
       "    <tr>\n",
       "      <th>nrri</th>\n",
       "      <td>val: -6.868, p: 0.0%</td>\n",
       "      <td>val: -6.885, p: 0.0%</td>\n",
       "      <td>val: -6.513, p: 0.0%</td>\n",
       "    </tr>\n",
       "    <tr>\n",
       "      <th>nrrd</th>\n",
       "      <td>val: -7.879, p: 0.0%</td>\n",
       "      <td>val: -9.313, p: 0.0%</td>\n",
       "      <td>val: -7.653, p: 0.0%</td>\n",
       "    </tr>\n",
       "    <tr>\n",
       "      <th>corporate_income_tax</th>\n",
       "      <td>val: -7.131, p: 0.0%</td>\n",
       "      <td>val: -8.366, p: 0.0%</td>\n",
       "      <td>val: -7.027, p: 0.0%</td>\n",
       "    </tr>\n",
       "    <tr>\n",
       "      <th>personal_income_tax</th>\n",
       "      <td>val: -5.463, p: 0.0%</td>\n",
       "      <td>val: -8.895, p: 0.0%</td>\n",
       "      <td>val: -6.689, p: 0.0%</td>\n",
       "    </tr>\n",
       "    <tr>\n",
       "      <th>other_revenue</th>\n",
       "      <td>val: -7.929, p: 0.0%</td>\n",
       "      <td>val: -8.147, p: 0.0%</td>\n",
       "      <td>val: -7.634, p: 0.0%</td>\n",
       "    </tr>\n",
       "    <tr>\n",
       "      <th>debt_service</th>\n",
       "      <td>val: -3.880, p: 0.2%</td>\n",
       "      <td>val: -4.216, p: 0.1%</td>\n",
       "      <td>val: -3.892, p: 0.0%</td>\n",
       "    </tr>\n",
       "    <tr>\n",
       "      <th>program_expenditure</th>\n",
       "      <td>val: -2.532, p: 10.8%</td>\n",
       "      <td>val: -6.217, p: 0.0%</td>\n",
       "      <td>val: -2.398, p: 1.7%</td>\n",
       "    </tr>\n",
       "    <tr>\n",
       "      <th>deficit</th>\n",
       "      <td>val: -2.469, p: 12.3%</td>\n",
       "      <td>val: -10.010, p: 0.0%</td>\n",
       "      <td>val: -2.489, p: 1.3%</td>\n",
       "    </tr>\n",
       "    <tr>\n",
       "      <th>ur_lag</th>\n",
       "      <td>val: -5.814, p: 0.0%</td>\n",
       "      <td>val: -5.713, p: 0.0%</td>\n",
       "      <td>val: -5.810, p: 0.0%</td>\n",
       "    </tr>\n",
       "    <tr>\n",
       "      <th>er_lag</th>\n",
       "      <td>val: -2.890, p: 4.6%</td>\n",
       "      <td>val: -6.621, p: 0.0%</td>\n",
       "      <td>val: -6.696, p: 0.0%</td>\n",
       "    </tr>\n",
       "    <tr>\n",
       "      <th>cad_usd_lag</th>\n",
       "      <td>val: -5.777, p: 0.0%</td>\n",
       "      <td>val: -5.707, p: 0.0%</td>\n",
       "      <td>val: -5.791, p: 0.0%</td>\n",
       "    </tr>\n",
       "  </tbody>\n",
       "</table>\n",
       "</div>"
      ],
      "text/plain": [
       "                                            ADF        Phillips-Perron  \\\n",
       "natural_resource_revenue   val: -7.415, p: 0.0%  val: -10.282, p: 0.0%   \n",
       "nrri                       val: -6.868, p: 0.0%   val: -6.885, p: 0.0%   \n",
       "nrrd                       val: -7.879, p: 0.0%   val: -9.313, p: 0.0%   \n",
       "corporate_income_tax       val: -7.131, p: 0.0%   val: -8.366, p: 0.0%   \n",
       "personal_income_tax        val: -5.463, p: 0.0%   val: -8.895, p: 0.0%   \n",
       "other_revenue              val: -7.929, p: 0.0%   val: -8.147, p: 0.0%   \n",
       "debt_service               val: -3.880, p: 0.2%   val: -4.216, p: 0.1%   \n",
       "program_expenditure       val: -2.532, p: 10.8%   val: -6.217, p: 0.0%   \n",
       "deficit                   val: -2.469, p: 12.3%  val: -10.010, p: 0.0%   \n",
       "ur_lag                     val: -5.814, p: 0.0%   val: -5.713, p: 0.0%   \n",
       "er_lag                     val: -2.890, p: 4.6%   val: -6.621, p: 0.0%   \n",
       "cad_usd_lag                val: -5.777, p: 0.0%   val: -5.707, p: 0.0%   \n",
       "\n",
       "                                        DF-GLS  \n",
       "natural_resource_revenue  val: -7.452, p: 0.0%  \n",
       "nrri                      val: -6.513, p: 0.0%  \n",
       "nrrd                      val: -7.653, p: 0.0%  \n",
       "corporate_income_tax      val: -7.027, p: 0.0%  \n",
       "personal_income_tax       val: -6.689, p: 0.0%  \n",
       "other_revenue             val: -7.634, p: 0.0%  \n",
       "debt_service              val: -3.892, p: 0.0%  \n",
       "program_expenditure       val: -2.398, p: 1.7%  \n",
       "deficit                   val: -2.489, p: 1.3%  \n",
       "ur_lag                    val: -5.810, p: 0.0%  \n",
       "er_lag                    val: -6.696, p: 0.0%  \n",
       "cad_usd_lag               val: -5.791, p: 0.0%  "
      ]
     },
     "execution_count": 18,
     "metadata": {},
     "output_type": "execute_result"
    }
   ],
   "source": [
    "stationarity_tests(first_diff_stationarity_df)"
   ]
  },
  {
   "cell_type": "markdown",
   "metadata": {},
   "source": [
    "Documentation on the test tools I used can be found [here](https://arch.readthedocs.io/en/latest/unitroot/tests.html)\n",
    "\n",
    "There are some interesting differences. Most notable is that on the levels of the deficit series I reject the null hypothesis of a unit root using all three tests at a significance level < 1%. The paper specifically notes that if the deficit is stationary in levels then a Vector Error Correction model can be applied. As the original author's fails to reject the null he implements a Vector AutoRegression model on the first differenced data. In levels the only other series that I find to be stationary is natural resource revenue. ADF on program expenditure would also reject the null at 5% significance, but would fail to reject it using the other two tests.\n",
    "\n",
    "Looking at the first differenced series, since that's what the paper ultimately ends up using, I also reject the null hypothesis of a unit root for all variables using all tests at a 1% significant *except* program expenditure and deficit using Augmented Dickey Fuller. Those last two tests differ from what's reported in the paper. \n",
    "\n",
    "The paper notes that it uses the Schwarz Information Criterion (SIC) for determining optimal lags in the DF-GLS test. It doesn't specify what it's using in the other two tests. For ADF and DF-GLS I used the Schwarz/Bayesian IC (BIC), [which is just another name for SIC](https://en.wikipedia.org/wiki/Bayesian_information_criterion). Phillips-Perron only uses 1 lag and then Newey-West for a long run variance estimator. I also ran these tests using Akaike IC (AIC) for optimal lags for ADF and DF-GLS, with similar results. I'm not sure what explains the discrepancies in my results with what's reported in the paper"
   ]
  },
  {
   "cell_type": "markdown",
   "metadata": {},
   "source": [
    "### The Model\n",
    "\n",
    "Take the first differenced dataframe and produce a VAR model using it"
   ]
  },
  {
   "cell_type": "code",
   "execution_count": 19,
   "metadata": {},
   "outputs": [
    {
     "name": "stderr",
     "output_type": "stream",
     "text": [
      "C:\\ProgramData\\Anaconda3\\envs\\fpa_test\\lib\\site-packages\\statsmodels\\tsa\\base\\tsa_model.py:191: FutureWarning: Creating a DatetimeIndex by passing range endpoints is deprecated.  Use `pandas.date_range` instead.\n",
      "  start=index[0], end=index[-1], freq=freq)\n"
     ]
    }
   ],
   "source": [
    "vec_df = (\n",
    "    model_df_first_diff(mdfl)\n",
    "    .drop(columns='natural_resource_revenue')\n",
    ")\n",
    "endog_df = vec_df[[\n",
    "    'nrri', 'nrrd', 'program_expenditure', 'debt_service', 'corporate_income_tax',\n",
    "     'personal_income_tax', 'other_revenue'\n",
    "]]\n",
    "exog_df = vec_df[['ur_lag', 'er_lag', 'cad_usd_lag', 'heritage_dummy']]\n",
    "model = VAR(endog=endog_df, exog=exog_df, freq='AS')"
   ]
  },
  {
   "cell_type": "code",
   "execution_count": 20,
   "metadata": {},
   "outputs": [],
   "source": [
    "# Fit the model with 2 lags\n",
    "results = model.fit(2)\n",
    "summary = results.summary()"
   ]
  },
  {
   "cell_type": "code",
   "execution_count": 21,
   "metadata": {},
   "outputs": [
    {
     "data": {
      "text/html": [
       "<div>\n",
       "<style scoped>\n",
       "    .dataframe tbody tr th:only-of-type {\n",
       "        vertical-align: middle;\n",
       "    }\n",
       "\n",
       "    .dataframe tbody tr th {\n",
       "        vertical-align: top;\n",
       "    }\n",
       "\n",
       "    .dataframe thead th {\n",
       "        text-align: right;\n",
       "    }\n",
       "</style>\n",
       "<table border=\"1\" class=\"dataframe\">\n",
       "  <thead>\n",
       "    <tr style=\"text-align: right;\">\n",
       "      <th></th>\n",
       "      <th>nrri</th>\n",
       "      <th>nrrd</th>\n",
       "      <th>program_expenditure</th>\n",
       "      <th>debt_service</th>\n",
       "      <th>corporate_income_tax</th>\n",
       "      <th>personal_income_tax</th>\n",
       "      <th>other_revenue</th>\n",
       "    </tr>\n",
       "  </thead>\n",
       "  <tbody>\n",
       "    <tr>\n",
       "      <th>L1.nrri</th>\n",
       "      <td>0.335587</td>\n",
       "      <td>0.013639</td>\n",
       "      <td>0.354229</td>\n",
       "      <td>-0.024626</td>\n",
       "      <td>0.100427</td>\n",
       "      <td>-0.010898</td>\n",
       "      <td>-0.194628</td>\n",
       "    </tr>\n",
       "    <tr>\n",
       "      <th>L1.nrrd</th>\n",
       "      <td>-0.045235</td>\n",
       "      <td>-0.133751</td>\n",
       "      <td>0.349379</td>\n",
       "      <td>-0.028090</td>\n",
       "      <td>0.082923</td>\n",
       "      <td>-0.089590</td>\n",
       "      <td>0.214571</td>\n",
       "    </tr>\n",
       "    <tr>\n",
       "      <th>L1.program_expenditure</th>\n",
       "      <td>-0.111302</td>\n",
       "      <td>-0.174689</td>\n",
       "      <td>-0.160279</td>\n",
       "      <td>0.027821</td>\n",
       "      <td>0.009533</td>\n",
       "      <td>-0.028296</td>\n",
       "      <td>0.056821</td>\n",
       "    </tr>\n",
       "    <tr>\n",
       "      <th>L1.debt_service</th>\n",
       "      <td>-2.673574</td>\n",
       "      <td>0.000899</td>\n",
       "      <td>0.752131</td>\n",
       "      <td>0.405649</td>\n",
       "      <td>0.035408</td>\n",
       "      <td>0.538294</td>\n",
       "      <td>0.440518</td>\n",
       "    </tr>\n",
       "    <tr>\n",
       "      <th>L1.corporate_income_tax</th>\n",
       "      <td>-1.342896</td>\n",
       "      <td>0.612350</td>\n",
       "      <td>-1.010501</td>\n",
       "      <td>-0.104237</td>\n",
       "      <td>-0.235839</td>\n",
       "      <td>0.235470</td>\n",
       "      <td>-0.076864</td>\n",
       "    </tr>\n",
       "    <tr>\n",
       "      <th>L1.personal_income_tax</th>\n",
       "      <td>0.490474</td>\n",
       "      <td>0.756336</td>\n",
       "      <td>1.154564</td>\n",
       "      <td>-0.023522</td>\n",
       "      <td>0.351962</td>\n",
       "      <td>-0.187132</td>\n",
       "      <td>-0.163937</td>\n",
       "    </tr>\n",
       "    <tr>\n",
       "      <th>L1.other_revenue</th>\n",
       "      <td>0.255309</td>\n",
       "      <td>-0.208638</td>\n",
       "      <td>0.330238</td>\n",
       "      <td>-0.008308</td>\n",
       "      <td>-0.054537</td>\n",
       "      <td>-0.049728</td>\n",
       "      <td>-0.246645</td>\n",
       "    </tr>\n",
       "    <tr>\n",
       "      <th>L2.nrri</th>\n",
       "      <td>0.007487</td>\n",
       "      <td>-0.063765</td>\n",
       "      <td>0.308044</td>\n",
       "      <td>0.003747</td>\n",
       "      <td>-0.058291</td>\n",
       "      <td>-0.038495</td>\n",
       "      <td>-0.077971</td>\n",
       "    </tr>\n",
       "    <tr>\n",
       "      <th>L2.nrrd</th>\n",
       "      <td>0.204122</td>\n",
       "      <td>-0.132826</td>\n",
       "      <td>0.359765</td>\n",
       "      <td>-0.013707</td>\n",
       "      <td>0.097110</td>\n",
       "      <td>0.033524</td>\n",
       "      <td>-0.133032</td>\n",
       "    </tr>\n",
       "    <tr>\n",
       "      <th>L2.program_expenditure</th>\n",
       "      <td>0.151410</td>\n",
       "      <td>-0.291879</td>\n",
       "      <td>-0.180119</td>\n",
       "      <td>0.016647</td>\n",
       "      <td>-0.005965</td>\n",
       "      <td>0.000836</td>\n",
       "      <td>0.368538</td>\n",
       "    </tr>\n",
       "    <tr>\n",
       "      <th>L2.debt_service</th>\n",
       "      <td>0.870102</td>\n",
       "      <td>-0.098406</td>\n",
       "      <td>-2.746988</td>\n",
       "      <td>0.244239</td>\n",
       "      <td>-0.123092</td>\n",
       "      <td>-0.366877</td>\n",
       "      <td>-0.329031</td>\n",
       "    </tr>\n",
       "    <tr>\n",
       "      <th>L2.corporate_income_tax</th>\n",
       "      <td>-0.223024</td>\n",
       "      <td>-0.317736</td>\n",
       "      <td>0.227899</td>\n",
       "      <td>-0.214937</td>\n",
       "      <td>-0.168968</td>\n",
       "      <td>0.324798</td>\n",
       "      <td>-0.610501</td>\n",
       "    </tr>\n",
       "    <tr>\n",
       "      <th>L2.personal_income_tax</th>\n",
       "      <td>0.572169</td>\n",
       "      <td>-0.517147</td>\n",
       "      <td>0.832458</td>\n",
       "      <td>0.109561</td>\n",
       "      <td>-0.136477</td>\n",
       "      <td>-0.126945</td>\n",
       "      <td>-0.391794</td>\n",
       "    </tr>\n",
       "    <tr>\n",
       "      <th>L2.other_revenue</th>\n",
       "      <td>0.414007</td>\n",
       "      <td>0.061389</td>\n",
       "      <td>-0.123686</td>\n",
       "      <td>-0.001153</td>\n",
       "      <td>0.007478</td>\n",
       "      <td>0.016487</td>\n",
       "      <td>-0.348027</td>\n",
       "    </tr>\n",
       "  </tbody>\n",
       "</table>\n",
       "</div>"
      ],
      "text/plain": [
       "                             nrri      nrrd  program_expenditure  \\\n",
       "L1.nrri                  0.335587  0.013639             0.354229   \n",
       "L1.nrrd                 -0.045235 -0.133751             0.349379   \n",
       "L1.program_expenditure  -0.111302 -0.174689            -0.160279   \n",
       "L1.debt_service         -2.673574  0.000899             0.752131   \n",
       "L1.corporate_income_tax -1.342896  0.612350            -1.010501   \n",
       "L1.personal_income_tax   0.490474  0.756336             1.154564   \n",
       "L1.other_revenue         0.255309 -0.208638             0.330238   \n",
       "L2.nrri                  0.007487 -0.063765             0.308044   \n",
       "L2.nrrd                  0.204122 -0.132826             0.359765   \n",
       "L2.program_expenditure   0.151410 -0.291879            -0.180119   \n",
       "L2.debt_service          0.870102 -0.098406            -2.746988   \n",
       "L2.corporate_income_tax -0.223024 -0.317736             0.227899   \n",
       "L2.personal_income_tax   0.572169 -0.517147             0.832458   \n",
       "L2.other_revenue         0.414007  0.061389            -0.123686   \n",
       "\n",
       "                         debt_service  corporate_income_tax  \\\n",
       "L1.nrri                     -0.024626              0.100427   \n",
       "L1.nrrd                     -0.028090              0.082923   \n",
       "L1.program_expenditure       0.027821              0.009533   \n",
       "L1.debt_service              0.405649              0.035408   \n",
       "L1.corporate_income_tax     -0.104237             -0.235839   \n",
       "L1.personal_income_tax      -0.023522              0.351962   \n",
       "L1.other_revenue            -0.008308             -0.054537   \n",
       "L2.nrri                      0.003747             -0.058291   \n",
       "L2.nrrd                     -0.013707              0.097110   \n",
       "L2.program_expenditure       0.016647             -0.005965   \n",
       "L2.debt_service              0.244239             -0.123092   \n",
       "L2.corporate_income_tax     -0.214937             -0.168968   \n",
       "L2.personal_income_tax       0.109561             -0.136477   \n",
       "L2.other_revenue            -0.001153              0.007478   \n",
       "\n",
       "                         personal_income_tax  other_revenue  \n",
       "L1.nrri                            -0.010898      -0.194628  \n",
       "L1.nrrd                            -0.089590       0.214571  \n",
       "L1.program_expenditure             -0.028296       0.056821  \n",
       "L1.debt_service                     0.538294       0.440518  \n",
       "L1.corporate_income_tax             0.235470      -0.076864  \n",
       "L1.personal_income_tax             -0.187132      -0.163937  \n",
       "L1.other_revenue                   -0.049728      -0.246645  \n",
       "L2.nrri                            -0.038495      -0.077971  \n",
       "L2.nrrd                             0.033524      -0.133032  \n",
       "L2.program_expenditure              0.000836       0.368538  \n",
       "L2.debt_service                    -0.366877      -0.329031  \n",
       "L2.corporate_income_tax             0.324798      -0.610501  \n",
       "L2.personal_income_tax             -0.126945      -0.391794  \n",
       "L2.other_revenue                    0.016487      -0.348027  "
      ]
     },
     "execution_count": 21,
     "metadata": {},
     "output_type": "execute_result"
    }
   ],
   "source": [
    "# Don't show exogenous parameters since I have nothing to compare them to\n",
    "results.params.loc['L1.nrri':]"
   ]
  },
  {
   "cell_type": "code",
   "execution_count": 22,
   "metadata": {},
   "outputs": [],
   "source": [
    "def highlight_significance(val):\n",
    "    \"\"\"\n",
    "    Takes a scalar and returns a string with\n",
    "    the css property `'color: <color>'` where\n",
    "    color is maroon for 1% significance, \n",
    "    red for 5% significance,\n",
    "    orange for 10%, and black otherwise\n",
    "    \"\"\"\n",
    "    \n",
    "    if val <= 0.01:\n",
    "        color = 'maroon'\n",
    "    elif val <= 0.05:\n",
    "        color = 'red'\n",
    "    elif val <= 0.1:\n",
    "        color = 'orange'\n",
    "    else:\n",
    "        color = 'black'\n",
    "    return f'color: {color}'\n",
    "    "
   ]
  },
  {
   "cell_type": "code",
   "execution_count": 23,
   "metadata": {},
   "outputs": [
    {
     "data": {
      "text/html": [
       "<style  type=\"text/css\" >\n",
       "    #T_319eeaa8_8099_11e9_a589_70208400f630row0_col0 {\n",
       "            color:  orange;\n",
       "        }    #T_319eeaa8_8099_11e9_a589_70208400f630row0_col1 {\n",
       "            color:  black;\n",
       "        }    #T_319eeaa8_8099_11e9_a589_70208400f630row0_col2 {\n",
       "            color:  black;\n",
       "        }    #T_319eeaa8_8099_11e9_a589_70208400f630row0_col3 {\n",
       "            color:  black;\n",
       "        }    #T_319eeaa8_8099_11e9_a589_70208400f630row0_col4 {\n",
       "            color:  black;\n",
       "        }    #T_319eeaa8_8099_11e9_a589_70208400f630row0_col5 {\n",
       "            color:  black;\n",
       "        }    #T_319eeaa8_8099_11e9_a589_70208400f630row0_col6 {\n",
       "            color:  black;\n",
       "        }    #T_319eeaa8_8099_11e9_a589_70208400f630row1_col0 {\n",
       "            color:  black;\n",
       "        }    #T_319eeaa8_8099_11e9_a589_70208400f630row1_col1 {\n",
       "            color:  black;\n",
       "        }    #T_319eeaa8_8099_11e9_a589_70208400f630row1_col2 {\n",
       "            color:  black;\n",
       "        }    #T_319eeaa8_8099_11e9_a589_70208400f630row1_col3 {\n",
       "            color:  black;\n",
       "        }    #T_319eeaa8_8099_11e9_a589_70208400f630row1_col4 {\n",
       "            color:  black;\n",
       "        }    #T_319eeaa8_8099_11e9_a589_70208400f630row1_col5 {\n",
       "            color:  black;\n",
       "        }    #T_319eeaa8_8099_11e9_a589_70208400f630row1_col6 {\n",
       "            color:  black;\n",
       "        }    #T_319eeaa8_8099_11e9_a589_70208400f630row2_col0 {\n",
       "            color:  black;\n",
       "        }    #T_319eeaa8_8099_11e9_a589_70208400f630row2_col1 {\n",
       "            color:  black;\n",
       "        }    #T_319eeaa8_8099_11e9_a589_70208400f630row2_col2 {\n",
       "            color:  black;\n",
       "        }    #T_319eeaa8_8099_11e9_a589_70208400f630row2_col3 {\n",
       "            color:  black;\n",
       "        }    #T_319eeaa8_8099_11e9_a589_70208400f630row2_col4 {\n",
       "            color:  black;\n",
       "        }    #T_319eeaa8_8099_11e9_a589_70208400f630row2_col5 {\n",
       "            color:  black;\n",
       "        }    #T_319eeaa8_8099_11e9_a589_70208400f630row2_col6 {\n",
       "            color:  black;\n",
       "        }    #T_319eeaa8_8099_11e9_a589_70208400f630row3_col0 {\n",
       "            color:  orange;\n",
       "        }    #T_319eeaa8_8099_11e9_a589_70208400f630row3_col1 {\n",
       "            color:  black;\n",
       "        }    #T_319eeaa8_8099_11e9_a589_70208400f630row3_col2 {\n",
       "            color:  black;\n",
       "        }    #T_319eeaa8_8099_11e9_a589_70208400f630row3_col3 {\n",
       "            color:  red;\n",
       "        }    #T_319eeaa8_8099_11e9_a589_70208400f630row3_col4 {\n",
       "            color:  black;\n",
       "        }    #T_319eeaa8_8099_11e9_a589_70208400f630row3_col5 {\n",
       "            color:  black;\n",
       "        }    #T_319eeaa8_8099_11e9_a589_70208400f630row3_col6 {\n",
       "            color:  black;\n",
       "        }    #T_319eeaa8_8099_11e9_a589_70208400f630row4_col0 {\n",
       "            color:  red;\n",
       "        }    #T_319eeaa8_8099_11e9_a589_70208400f630row4_col1 {\n",
       "            color:  black;\n",
       "        }    #T_319eeaa8_8099_11e9_a589_70208400f630row4_col2 {\n",
       "            color:  black;\n",
       "        }    #T_319eeaa8_8099_11e9_a589_70208400f630row4_col3 {\n",
       "            color:  black;\n",
       "        }    #T_319eeaa8_8099_11e9_a589_70208400f630row4_col4 {\n",
       "            color:  black;\n",
       "        }    #T_319eeaa8_8099_11e9_a589_70208400f630row4_col5 {\n",
       "            color:  black;\n",
       "        }    #T_319eeaa8_8099_11e9_a589_70208400f630row4_col6 {\n",
       "            color:  black;\n",
       "        }    #T_319eeaa8_8099_11e9_a589_70208400f630row5_col0 {\n",
       "            color:  black;\n",
       "        }    #T_319eeaa8_8099_11e9_a589_70208400f630row5_col1 {\n",
       "            color:  black;\n",
       "        }    #T_319eeaa8_8099_11e9_a589_70208400f630row5_col2 {\n",
       "            color:  red;\n",
       "        }    #T_319eeaa8_8099_11e9_a589_70208400f630row5_col3 {\n",
       "            color:  black;\n",
       "        }    #T_319eeaa8_8099_11e9_a589_70208400f630row5_col4 {\n",
       "            color:  red;\n",
       "        }    #T_319eeaa8_8099_11e9_a589_70208400f630row5_col5 {\n",
       "            color:  black;\n",
       "        }    #T_319eeaa8_8099_11e9_a589_70208400f630row5_col6 {\n",
       "            color:  black;\n",
       "        }    #T_319eeaa8_8099_11e9_a589_70208400f630row6_col0 {\n",
       "            color:  black;\n",
       "        }    #T_319eeaa8_8099_11e9_a589_70208400f630row6_col1 {\n",
       "            color:  black;\n",
       "        }    #T_319eeaa8_8099_11e9_a589_70208400f630row6_col2 {\n",
       "            color:  black;\n",
       "        }    #T_319eeaa8_8099_11e9_a589_70208400f630row6_col3 {\n",
       "            color:  black;\n",
       "        }    #T_319eeaa8_8099_11e9_a589_70208400f630row6_col4 {\n",
       "            color:  black;\n",
       "        }    #T_319eeaa8_8099_11e9_a589_70208400f630row6_col5 {\n",
       "            color:  black;\n",
       "        }    #T_319eeaa8_8099_11e9_a589_70208400f630row6_col6 {\n",
       "            color:  black;\n",
       "        }    #T_319eeaa8_8099_11e9_a589_70208400f630row7_col0 {\n",
       "            color:  black;\n",
       "        }    #T_319eeaa8_8099_11e9_a589_70208400f630row7_col1 {\n",
       "            color:  black;\n",
       "        }    #T_319eeaa8_8099_11e9_a589_70208400f630row7_col2 {\n",
       "            color:  red;\n",
       "        }    #T_319eeaa8_8099_11e9_a589_70208400f630row7_col3 {\n",
       "            color:  black;\n",
       "        }    #T_319eeaa8_8099_11e9_a589_70208400f630row7_col4 {\n",
       "            color:  black;\n",
       "        }    #T_319eeaa8_8099_11e9_a589_70208400f630row7_col5 {\n",
       "            color:  black;\n",
       "        }    #T_319eeaa8_8099_11e9_a589_70208400f630row7_col6 {\n",
       "            color:  black;\n",
       "        }    #T_319eeaa8_8099_11e9_a589_70208400f630row8_col0 {\n",
       "            color:  black;\n",
       "        }    #T_319eeaa8_8099_11e9_a589_70208400f630row8_col1 {\n",
       "            color:  black;\n",
       "        }    #T_319eeaa8_8099_11e9_a589_70208400f630row8_col2 {\n",
       "            color:  orange;\n",
       "        }    #T_319eeaa8_8099_11e9_a589_70208400f630row8_col3 {\n",
       "            color:  black;\n",
       "        }    #T_319eeaa8_8099_11e9_a589_70208400f630row8_col4 {\n",
       "            color:  orange;\n",
       "        }    #T_319eeaa8_8099_11e9_a589_70208400f630row8_col5 {\n",
       "            color:  black;\n",
       "        }    #T_319eeaa8_8099_11e9_a589_70208400f630row8_col6 {\n",
       "            color:  black;\n",
       "        }    #T_319eeaa8_8099_11e9_a589_70208400f630row9_col0 {\n",
       "            color:  black;\n",
       "        }    #T_319eeaa8_8099_11e9_a589_70208400f630row9_col1 {\n",
       "            color:  black;\n",
       "        }    #T_319eeaa8_8099_11e9_a589_70208400f630row9_col2 {\n",
       "            color:  black;\n",
       "        }    #T_319eeaa8_8099_11e9_a589_70208400f630row9_col3 {\n",
       "            color:  black;\n",
       "        }    #T_319eeaa8_8099_11e9_a589_70208400f630row9_col4 {\n",
       "            color:  black;\n",
       "        }    #T_319eeaa8_8099_11e9_a589_70208400f630row9_col5 {\n",
       "            color:  black;\n",
       "        }    #T_319eeaa8_8099_11e9_a589_70208400f630row9_col6 {\n",
       "            color:  red;\n",
       "        }    #T_319eeaa8_8099_11e9_a589_70208400f630row10_col0 {\n",
       "            color:  black;\n",
       "        }    #T_319eeaa8_8099_11e9_a589_70208400f630row10_col1 {\n",
       "            color:  black;\n",
       "        }    #T_319eeaa8_8099_11e9_a589_70208400f630row10_col2 {\n",
       "            color:  orange;\n",
       "        }    #T_319eeaa8_8099_11e9_a589_70208400f630row10_col3 {\n",
       "            color:  black;\n",
       "        }    #T_319eeaa8_8099_11e9_a589_70208400f630row10_col4 {\n",
       "            color:  black;\n",
       "        }    #T_319eeaa8_8099_11e9_a589_70208400f630row10_col5 {\n",
       "            color:  black;\n",
       "        }    #T_319eeaa8_8099_11e9_a589_70208400f630row10_col6 {\n",
       "            color:  black;\n",
       "        }    #T_319eeaa8_8099_11e9_a589_70208400f630row11_col0 {\n",
       "            color:  black;\n",
       "        }    #T_319eeaa8_8099_11e9_a589_70208400f630row11_col1 {\n",
       "            color:  black;\n",
       "        }    #T_319eeaa8_8099_11e9_a589_70208400f630row11_col2 {\n",
       "            color:  black;\n",
       "        }    #T_319eeaa8_8099_11e9_a589_70208400f630row11_col3 {\n",
       "            color:  maroon;\n",
       "        }    #T_319eeaa8_8099_11e9_a589_70208400f630row11_col4 {\n",
       "            color:  black;\n",
       "        }    #T_319eeaa8_8099_11e9_a589_70208400f630row11_col5 {\n",
       "            color:  black;\n",
       "        }    #T_319eeaa8_8099_11e9_a589_70208400f630row11_col6 {\n",
       "            color:  black;\n",
       "        }    #T_319eeaa8_8099_11e9_a589_70208400f630row12_col0 {\n",
       "            color:  black;\n",
       "        }    #T_319eeaa8_8099_11e9_a589_70208400f630row12_col1 {\n",
       "            color:  black;\n",
       "        }    #T_319eeaa8_8099_11e9_a589_70208400f630row12_col2 {\n",
       "            color:  black;\n",
       "        }    #T_319eeaa8_8099_11e9_a589_70208400f630row12_col3 {\n",
       "            color:  orange;\n",
       "        }    #T_319eeaa8_8099_11e9_a589_70208400f630row12_col4 {\n",
       "            color:  black;\n",
       "        }    #T_319eeaa8_8099_11e9_a589_70208400f630row12_col5 {\n",
       "            color:  black;\n",
       "        }    #T_319eeaa8_8099_11e9_a589_70208400f630row12_col6 {\n",
       "            color:  black;\n",
       "        }    #T_319eeaa8_8099_11e9_a589_70208400f630row13_col0 {\n",
       "            color:  red;\n",
       "        }    #T_319eeaa8_8099_11e9_a589_70208400f630row13_col1 {\n",
       "            color:  black;\n",
       "        }    #T_319eeaa8_8099_11e9_a589_70208400f630row13_col2 {\n",
       "            color:  black;\n",
       "        }    #T_319eeaa8_8099_11e9_a589_70208400f630row13_col3 {\n",
       "            color:  black;\n",
       "        }    #T_319eeaa8_8099_11e9_a589_70208400f630row13_col4 {\n",
       "            color:  black;\n",
       "        }    #T_319eeaa8_8099_11e9_a589_70208400f630row13_col5 {\n",
       "            color:  black;\n",
       "        }    #T_319eeaa8_8099_11e9_a589_70208400f630row13_col6 {\n",
       "            color:  orange;\n",
       "        }</style><table id=\"T_319eeaa8_8099_11e9_a589_70208400f630\" ><thead>    <tr>        <th class=\"blank level0\" ></th>        <th class=\"col_heading level0 col0\" >nrri</th>        <th class=\"col_heading level0 col1\" >nrrd</th>        <th class=\"col_heading level0 col2\" >program_expenditure</th>        <th class=\"col_heading level0 col3\" >debt_service</th>        <th class=\"col_heading level0 col4\" >corporate_income_tax</th>        <th class=\"col_heading level0 col5\" >personal_income_tax</th>        <th class=\"col_heading level0 col6\" >other_revenue</th>    </tr></thead><tbody>\n",
       "                <tr>\n",
       "                        <th id=\"T_319eeaa8_8099_11e9_a589_70208400f630level0_row0\" class=\"row_heading level0 row0\" >L1.nrri</th>\n",
       "                        <td id=\"T_319eeaa8_8099_11e9_a589_70208400f630row0_col0\" class=\"data row0 col0\" >7.61%</td>\n",
       "                        <td id=\"T_319eeaa8_8099_11e9_a589_70208400f630row0_col1\" class=\"data row0 col1\" >96.25%</td>\n",
       "                        <td id=\"T_319eeaa8_8099_11e9_a589_70208400f630row0_col2\" class=\"data row0 col2\" >10.81%</td>\n",
       "                        <td id=\"T_319eeaa8_8099_11e9_a589_70208400f630row0_col3\" class=\"data row0 col3\" >31.30%</td>\n",
       "                        <td id=\"T_319eeaa8_8099_11e9_a589_70208400f630row0_col4\" class=\"data row0 col4\" >12.52%</td>\n",
       "                        <td id=\"T_319eeaa8_8099_11e9_a589_70208400f630row0_col5\" class=\"data row0 col5\" >89.00%</td>\n",
       "                        <td id=\"T_319eeaa8_8099_11e9_a589_70208400f630row0_col6\" class=\"data row0 col6\" >29.30%</td>\n",
       "            </tr>\n",
       "            <tr>\n",
       "                        <th id=\"T_319eeaa8_8099_11e9_a589_70208400f630level0_row1\" class=\"row_heading level0 row1\" >L1.nrrd</th>\n",
       "                        <td id=\"T_319eeaa8_8099_11e9_a589_70208400f630row1_col0\" class=\"data row1 col0\" >80.88%</td>\n",
       "                        <td id=\"T_319eeaa8_8099_11e9_a589_70208400f630row1_col1\" class=\"data row1 col1\" >64.04%</td>\n",
       "                        <td id=\"T_319eeaa8_8099_11e9_a589_70208400f630row1_col2\" class=\"data row1 col2\" >10.87%</td>\n",
       "                        <td id=\"T_319eeaa8_8099_11e9_a589_70208400f630row1_col3\" class=\"data row1 col3\" >24.41%</td>\n",
       "                        <td id=\"T_319eeaa8_8099_11e9_a589_70208400f630row1_col4\" class=\"data row1 col4\" >20.01%</td>\n",
       "                        <td id=\"T_319eeaa8_8099_11e9_a589_70208400f630row1_col5\" class=\"data row1 col5\" >24.99%</td>\n",
       "                        <td id=\"T_319eeaa8_8099_11e9_a589_70208400f630row1_col6\" class=\"data row1 col6\" >24.07%</td>\n",
       "            </tr>\n",
       "            <tr>\n",
       "                        <th id=\"T_319eeaa8_8099_11e9_a589_70208400f630level0_row2\" class=\"row_heading level0 row2\" >L1.program_expenditure</th>\n",
       "                        <td id=\"T_319eeaa8_8099_11e9_a589_70208400f630row2_col0\" class=\"data row2 col0\" >48.09%</td>\n",
       "                        <td id=\"T_319eeaa8_8099_11e9_a589_70208400f630row2_col1\" class=\"data row2 col1\" >47.02%</td>\n",
       "                        <td id=\"T_319eeaa8_8099_11e9_a589_70208400f630row2_col2\" class=\"data row2 col2\" >38.38%</td>\n",
       "                        <td id=\"T_319eeaa8_8099_11e9_a589_70208400f630row2_col3\" class=\"data row2 col3\" >17.21%</td>\n",
       "                        <td id=\"T_319eeaa8_8099_11e9_a589_70208400f630row2_col4\" class=\"data row2 col4\" >86.16%</td>\n",
       "                        <td id=\"T_319eeaa8_8099_11e9_a589_70208400f630row2_col5\" class=\"data row2 col5\" >66.72%</td>\n",
       "                        <td id=\"T_319eeaa8_8099_11e9_a589_70208400f630row2_col6\" class=\"data row2 col6\" >71.31%</td>\n",
       "            </tr>\n",
       "            <tr>\n",
       "                        <th id=\"T_319eeaa8_8099_11e9_a589_70208400f630level0_row3\" class=\"row_heading level0 row3\" >L1.debt_service</th>\n",
       "                        <td id=\"T_319eeaa8_8099_11e9_a589_70208400f630row3_col0\" class=\"data row3 col0\" >5.76%</td>\n",
       "                        <td id=\"T_319eeaa8_8099_11e9_a589_70208400f630row3_col1\" class=\"data row3 col1\" >99.97%</td>\n",
       "                        <td id=\"T_319eeaa8_8099_11e9_a589_70208400f630row3_col2\" class=\"data row3 col2\" >64.66%</td>\n",
       "                        <td id=\"T_319eeaa8_8099_11e9_a589_70208400f630row3_col3\" class=\"data row3 col3\" >2.55%</td>\n",
       "                        <td id=\"T_319eeaa8_8099_11e9_a589_70208400f630row3_col4\" class=\"data row3 col4\" >94.21%</td>\n",
       "                        <td id=\"T_319eeaa8_8099_11e9_a589_70208400f630row3_col5\" class=\"data row3 col5\" >35.88%</td>\n",
       "                        <td id=\"T_319eeaa8_8099_11e9_a589_70208400f630row3_col6\" class=\"data row3 col6\" >74.91%</td>\n",
       "            </tr>\n",
       "            <tr>\n",
       "                        <th id=\"T_319eeaa8_8099_11e9_a589_70208400f630level0_row4\" class=\"row_heading level0 row4\" >L1.corporate_income_tax</th>\n",
       "                        <td id=\"T_319eeaa8_8099_11e9_a589_70208400f630row4_col0\" class=\"data row4 col0\" >2.87%</td>\n",
       "                        <td id=\"T_319eeaa8_8099_11e9_a589_70208400f630row4_col1\" class=\"data row4 col1\" >51.50%</td>\n",
       "                        <td id=\"T_319eeaa8_8099_11e9_a589_70208400f630row4_col2\" class=\"data row4 col2\" >15.78%</td>\n",
       "                        <td id=\"T_319eeaa8_8099_11e9_a589_70208400f630row4_col3\" class=\"data row4 col3\" >18.82%</td>\n",
       "                        <td id=\"T_319eeaa8_8099_11e9_a589_70208400f630row4_col4\" class=\"data row4 col4\" >26.73%</td>\n",
       "                        <td id=\"T_319eeaa8_8099_11e9_a589_70208400f630row4_col5\" class=\"data row4 col5\" >35.73%</td>\n",
       "                        <td id=\"T_319eeaa8_8099_11e9_a589_70208400f630row4_col6\" class=\"data row4 col6\" >89.82%</td>\n",
       "            </tr>\n",
       "            <tr>\n",
       "                        <th id=\"T_319eeaa8_8099_11e9_a589_70208400f630level0_row5\" class=\"row_heading level0 row5\" >L1.personal_income_tax</th>\n",
       "                        <td id=\"T_319eeaa8_8099_11e9_a589_70208400f630row5_col0\" class=\"data row5 col0\" >32.03%</td>\n",
       "                        <td id=\"T_319eeaa8_8099_11e9_a589_70208400f630row5_col1\" class=\"data row5 col1\" >31.71%</td>\n",
       "                        <td id=\"T_319eeaa8_8099_11e9_a589_70208400f630row5_col2\" class=\"data row5 col2\" >4.47%</td>\n",
       "                        <td id=\"T_319eeaa8_8099_11e9_a589_70208400f630row5_col3\" class=\"data row5 col3\" >71.19%</td>\n",
       "                        <td id=\"T_319eeaa8_8099_11e9_a589_70208400f630row5_col4\" class=\"data row5 col4\" >3.95%</td>\n",
       "                        <td id=\"T_319eeaa8_8099_11e9_a589_70208400f630row5_col5\" class=\"data row5 col5\" >36.28%</td>\n",
       "                        <td id=\"T_319eeaa8_8099_11e9_a589_70208400f630row5_col6\" class=\"data row5 col6\" >73.43%</td>\n",
       "            </tr>\n",
       "            <tr>\n",
       "                        <th id=\"T_319eeaa8_8099_11e9_a589_70208400f630level0_row6\" class=\"row_heading level0 row6\" >L1.other_revenue</th>\n",
       "                        <td id=\"T_319eeaa8_8099_11e9_a589_70208400f630row6_col0\" class=\"data row6 col0\" >22.36%</td>\n",
       "                        <td id=\"T_319eeaa8_8099_11e9_a589_70208400f630row6_col1\" class=\"data row6 col1\" >51.62%</td>\n",
       "                        <td id=\"T_319eeaa8_8099_11e9_a589_70208400f630row6_col2\" class=\"data row6 col2\" >17.67%</td>\n",
       "                        <td id=\"T_319eeaa8_8099_11e9_a589_70208400f630row6_col3\" class=\"data row6 col3\" >75.89%</td>\n",
       "                        <td id=\"T_319eeaa8_8099_11e9_a589_70208400f630row6_col4\" class=\"data row6 col4\" >45.28%</td>\n",
       "                        <td id=\"T_319eeaa8_8099_11e9_a589_70208400f630row6_col5\" class=\"data row6 col5\" >56.94%</td>\n",
       "                        <td id=\"T_319eeaa8_8099_11e9_a589_70208400f630row6_col6\" class=\"data row6 col6\" >22.95%</td>\n",
       "            </tr>\n",
       "            <tr>\n",
       "                        <th id=\"T_319eeaa8_8099_11e9_a589_70208400f630level0_row7\" class=\"row_heading level0 row7\" >L2.nrri</th>\n",
       "                        <td id=\"T_319eeaa8_8099_11e9_a589_70208400f630row7_col0\" class=\"data row7 col0\" >95.52%</td>\n",
       "                        <td id=\"T_319eeaa8_8099_11e9_a589_70208400f630row7_col1\" class=\"data row7 col1\" >75.49%</td>\n",
       "                        <td id=\"T_319eeaa8_8099_11e9_a589_70208400f630row7_col2\" class=\"data row7 col2\" >4.74%</td>\n",
       "                        <td id=\"T_319eeaa8_8099_11e9_a589_70208400f630row7_col3\" class=\"data row7 col3\" >82.76%</td>\n",
       "                        <td id=\"T_319eeaa8_8099_11e9_a589_70208400f630row7_col4\" class=\"data row7 col4\" >20.68%</td>\n",
       "                        <td id=\"T_319eeaa8_8099_11e9_a589_70208400f630row7_col5\" class=\"data row7 col5\" >48.84%</td>\n",
       "                        <td id=\"T_319eeaa8_8099_11e9_a589_70208400f630row7_col6\" class=\"data row7 col6\" >55.02%</td>\n",
       "            </tr>\n",
       "            <tr>\n",
       "                        <th id=\"T_319eeaa8_8099_11e9_a589_70208400f630level0_row8\" class=\"row_heading level0 row8\" >L2.nrrd</th>\n",
       "                        <td id=\"T_319eeaa8_8099_11e9_a589_70208400f630row8_col0\" class=\"data row8 col0\" >20.67%</td>\n",
       "                        <td id=\"T_319eeaa8_8099_11e9_a589_70208400f630row8_col1\" class=\"data row8 col1\" >59.17%</td>\n",
       "                        <td id=\"T_319eeaa8_8099_11e9_a589_70208400f630row8_col2\" class=\"data row8 col2\" >5.62%</td>\n",
       "                        <td id=\"T_319eeaa8_8099_11e9_a589_70208400f630row8_col3\" class=\"data row8 col3\" >51.11%</td>\n",
       "                        <td id=\"T_319eeaa8_8099_11e9_a589_70208400f630row8_col4\" class=\"data row8 col4\" >8.28%</td>\n",
       "                        <td id=\"T_319eeaa8_8099_11e9_a589_70208400f630row8_col5\" class=\"data row8 col5\" >61.87%</td>\n",
       "                        <td id=\"T_319eeaa8_8099_11e9_a589_70208400f630row8_col6\" class=\"data row8 col6\" >40.04%</td>\n",
       "            </tr>\n",
       "            <tr>\n",
       "                        <th id=\"T_319eeaa8_8099_11e9_a589_70208400f630level0_row9\" class=\"row_heading level0 row9\" >L2.program_expenditure</th>\n",
       "                        <td id=\"T_319eeaa8_8099_11e9_a589_70208400f630row9_col0\" class=\"data row9 col0\" >33.36%</td>\n",
       "                        <td id=\"T_319eeaa8_8099_11e9_a589_70208400f630row9_col1\" class=\"data row9 col1\" >22.37%</td>\n",
       "                        <td id=\"T_319eeaa8_8099_11e9_a589_70208400f630row9_col2\" class=\"data row9 col2\" >32.36%</td>\n",
       "                        <td id=\"T_319eeaa8_8099_11e9_a589_70208400f630row9_col3\" class=\"data row9 col3\" >41.00%</td>\n",
       "                        <td id=\"T_319eeaa8_8099_11e9_a589_70208400f630row9_col4\" class=\"data row9 col4\" >91.24%</td>\n",
       "                        <td id=\"T_319eeaa8_8099_11e9_a589_70208400f630row9_col5\" class=\"data row9 col5\" >98.98%</td>\n",
       "                        <td id=\"T_319eeaa8_8099_11e9_a589_70208400f630row9_col6\" class=\"data row9 col6\" >1.62%</td>\n",
       "            </tr>\n",
       "            <tr>\n",
       "                        <th id=\"T_319eeaa8_8099_11e9_a589_70208400f630level0_row10\" class=\"row_heading level0 row10\" >L2.debt_service</th>\n",
       "                        <td id=\"T_319eeaa8_8099_11e9_a589_70208400f630row10_col0\" class=\"data row10 col0\" >53.35%</td>\n",
       "                        <td id=\"T_319eeaa8_8099_11e9_a589_70208400f630row10_col1\" class=\"data row10 col1\" >96.33%</td>\n",
       "                        <td id=\"T_319eeaa8_8099_11e9_a589_70208400f630row10_col2\" class=\"data row10 col2\" >9.16%</td>\n",
       "                        <td id=\"T_319eeaa8_8099_11e9_a589_70208400f630row10_col3\" class=\"data row10 col3\" >17.56%</td>\n",
       "                        <td id=\"T_319eeaa8_8099_11e9_a589_70208400f630row10_col4\" class=\"data row10 col4\" >79.92%</td>\n",
       "                        <td id=\"T_319eeaa8_8099_11e9_a589_70208400f630row10_col5\" class=\"data row10 col5\" >52.86%</td>\n",
       "                        <td id=\"T_319eeaa8_8099_11e9_a589_70208400f630row10_col6\" class=\"data row10 col6\" >80.98%</td>\n",
       "            </tr>\n",
       "            <tr>\n",
       "                        <th id=\"T_319eeaa8_8099_11e9_a589_70208400f630level0_row11\" class=\"row_heading level0 row11\" >L2.corporate_income_tax</th>\n",
       "                        <td id=\"T_319eeaa8_8099_11e9_a589_70208400f630row11_col0\" class=\"data row11 col0\" >72.15%</td>\n",
       "                        <td id=\"T_319eeaa8_8099_11e9_a589_70208400f630row11_col1\" class=\"data row11 col1\" >74.02%</td>\n",
       "                        <td id=\"T_319eeaa8_8099_11e9_a589_70208400f630row11_col2\" class=\"data row11 col2\" >75.46%</td>\n",
       "                        <td id=\"T_319eeaa8_8099_11e9_a589_70208400f630row11_col3\" class=\"data row11 col3\" >0.78%</td>\n",
       "                        <td id=\"T_319eeaa8_8099_11e9_a589_70208400f630row11_col4\" class=\"data row11 col4\" >43.54%</td>\n",
       "                        <td id=\"T_319eeaa8_8099_11e9_a589_70208400f630row11_col5\" class=\"data row11 col5\" >21.28%</td>\n",
       "                        <td id=\"T_319eeaa8_8099_11e9_a589_70208400f630row11_col6\" class=\"data row11 col6\" >31.86%</td>\n",
       "            </tr>\n",
       "            <tr>\n",
       "                        <th id=\"T_319eeaa8_8099_11e9_a589_70208400f630level0_row12\" class=\"row_heading level0 row12\" >L2.personal_income_tax</th>\n",
       "                        <td id=\"T_319eeaa8_8099_11e9_a589_70208400f630row12_col0\" class=\"data row12 col0\" >25.23%</td>\n",
       "                        <td id=\"T_319eeaa8_8099_11e9_a589_70208400f630row12_col1\" class=\"data row12 col1\" >49.94%</td>\n",
       "                        <td id=\"T_319eeaa8_8099_11e9_a589_70208400f630row12_col2\" class=\"data row12 col2\" >15.29%</td>\n",
       "                        <td id=\"T_319eeaa8_8099_11e9_a589_70208400f630row12_col3\" class=\"data row12 col3\" >8.94%</td>\n",
       "                        <td id=\"T_319eeaa8_8099_11e9_a589_70208400f630row12_col4\" class=\"data row12 col4\" >43.04%</td>\n",
       "                        <td id=\"T_319eeaa8_8099_11e9_a589_70208400f630row12_col5\" class=\"data row12 col5\" >54.22%</td>\n",
       "                        <td id=\"T_319eeaa8_8099_11e9_a589_70208400f630row12_col6\" class=\"data row12 col6\" >42.31%</td>\n",
       "            </tr>\n",
       "            <tr>\n",
       "                        <th id=\"T_319eeaa8_8099_11e9_a589_70208400f630level0_row13\" class=\"row_heading level0 row13\" >L2.other_revenue</th>\n",
       "                        <td id=\"T_319eeaa8_8099_11e9_a589_70208400f630row13_col0\" class=\"data row13 col0\" >3.75%</td>\n",
       "                        <td id=\"T_319eeaa8_8099_11e9_a589_70208400f630row13_col1\" class=\"data row13 col1\" >84.04%</td>\n",
       "                        <td id=\"T_319eeaa8_8099_11e9_a589_70208400f630row13_col2\" class=\"data row13 col2\" >59.38%</td>\n",
       "                        <td id=\"T_319eeaa8_8099_11e9_a589_70208400f630row13_col3\" class=\"data row13 col3\" >96.42%</td>\n",
       "                        <td id=\"T_319eeaa8_8099_11e9_a589_70208400f630row13_col4\" class=\"data row13 col4\" >91.36%</td>\n",
       "                        <td id=\"T_319eeaa8_8099_11e9_a589_70208400f630row13_col5\" class=\"data row13 col5\" >84.24%</td>\n",
       "                        <td id=\"T_319eeaa8_8099_11e9_a589_70208400f630row13_col6\" class=\"data row13 col6\" >7.39%</td>\n",
       "            </tr>\n",
       "    </tbody></table>"
      ],
      "text/plain": [
       "<pandas.io.formats.style.Styler at 0x1e9de49bcc0>"
      ]
     },
     "execution_count": 23,
     "metadata": {},
     "output_type": "execute_result"
    }
   ],
   "source": [
    "results.pvalues.loc['L1.nrri':].style.applymap(highlight_significance).format(\"{:.2%}\")"
   ]
  },
  {
   "cell_type": "markdown",
   "metadata": {},
   "source": [
    "Well this is weird, my coefficient estimates are significantly different than what's in the original paper. Notably I show an increase in program spending in response to an increase *or* a decrease in resource revenue in the first lag, although neither are statistically significant. This is a pretty stark contrast to the original paper, which has the more intuitive result of program spending increasing after a positive resource revenue shock and decreasing with a negative shock (although only the positive response is statistically significant).\n",
    "\n",
    "At this point I can't account for the discrepancy. Some of my earlier results differed, due to the noted difference in resource revenue in the one year, as well as minor discrepancies presumably based on me doing slightly different real per capita calculations, but I'm surprised the change is this big.\n",
    "\n",
    "I'll see what my coefficients imply for the rest of the results, but I imagine they're going to be pretty different going forward."
   ]
  },
  {
   "cell_type": "markdown",
   "metadata": {},
   "source": [
    "### Impulse Response Functions\n",
    "\n",
    "The actual results of the paper involve taking the estimated impulse response functions derived from the VAR model and examining their implications. Let's try and reproduce that now."
   ]
  },
  {
   "cell_type": "code",
   "execution_count": 24,
   "metadata": {},
   "outputs": [],
   "source": [
    "irf = results.irf()"
   ]
  },
  {
   "cell_type": "markdown",
   "metadata": {},
   "source": [
    "#### Table 3\n",
    "IMPACTS ON ALBERTA’S BUDGET OF A ONE-DOLLAR INNOVATION IN NON-RENEWABLE-RESOURCE\n",
    "REVENUE (ASYMMETRIC CASE), 1970/71–2016/17 "
   ]
  },
  {
   "cell_type": "code",
   "execution_count": 25,
   "metadata": {},
   "outputs": [],
   "source": [
    "irfs = irf.irfs\n",
    "irf_stderr = irf.stderr()\n",
    "params = list(results.params.columns)"
   ]
  },
  {
   "cell_type": "code",
   "execution_count": 26,
   "metadata": {},
   "outputs": [
    {
     "data": {
      "text/plain": [
       "['nrri',\n",
       " 'nrrd',\n",
       " 'program_expenditure',\n",
       " 'debt_service',\n",
       " 'corporate_income_tax',\n",
       " 'personal_income_tax',\n",
       " 'other_revenue']"
      ]
     },
     "execution_count": 26,
     "metadata": {},
     "output_type": "execute_result"
    }
   ],
   "source": [
    "params"
   ]
  },
  {
   "cell_type": "code",
   "execution_count": 27,
   "metadata": {},
   "outputs": [
    {
     "data": {
      "text/html": [
       "<div>\n",
       "<style scoped>\n",
       "    .dataframe tbody tr th:only-of-type {\n",
       "        vertical-align: middle;\n",
       "    }\n",
       "\n",
       "    .dataframe tbody tr th {\n",
       "        vertical-align: top;\n",
       "    }\n",
       "\n",
       "    .dataframe thead th {\n",
       "        text-align: right;\n",
       "    }\n",
       "</style>\n",
       "<table border=\"1\" class=\"dataframe\">\n",
       "  <thead>\n",
       "    <tr style=\"text-align: right;\">\n",
       "      <th></th>\n",
       "      <th>1</th>\n",
       "      <th>2</th>\n",
       "      <th>3</th>\n",
       "    </tr>\n",
       "  </thead>\n",
       "  <tbody>\n",
       "    <tr>\n",
       "      <th>program_expenditure_impulse</th>\n",
       "      <td>0.349379</td>\n",
       "      <td>0.103515</td>\n",
       "      <td>-0.227969</td>\n",
       "    </tr>\n",
       "    <tr>\n",
       "      <th>program_expenditure_se</th>\n",
       "      <td>0.217789</td>\n",
       "      <td>0.219938</td>\n",
       "      <td>0.205308</td>\n",
       "    </tr>\n",
       "    <tr>\n",
       "      <th>debt_service_impulse</th>\n",
       "      <td>-0.028090</td>\n",
       "      <td>-0.018830</td>\n",
       "      <td>-0.030256</td>\n",
       "    </tr>\n",
       "    <tr>\n",
       "      <th>debt_service_se</th>\n",
       "      <td>0.024116</td>\n",
       "      <td>0.023817</td>\n",
       "      <td>0.024693</td>\n",
       "    </tr>\n",
       "    <tr>\n",
       "      <th>corporate_income_tax_impulse</th>\n",
       "      <td>0.082923</td>\n",
       "      <td>0.021021</td>\n",
       "      <td>0.006335</td>\n",
       "    </tr>\n",
       "    <tr>\n",
       "      <th>corporate_income_tax_se</th>\n",
       "      <td>0.064716</td>\n",
       "      <td>0.065490</td>\n",
       "      <td>0.054042</td>\n",
       "    </tr>\n",
       "    <tr>\n",
       "      <th>personal_income_tax_impulse</th>\n",
       "      <td>-0.089590</td>\n",
       "      <td>0.046614</td>\n",
       "      <td>0.062242</td>\n",
       "    </tr>\n",
       "    <tr>\n",
       "      <th>personal_income_tax_se</th>\n",
       "      <td>0.077871</td>\n",
       "      <td>0.073970</td>\n",
       "      <td>0.062466</td>\n",
       "    </tr>\n",
       "    <tr>\n",
       "      <th>other_revenue_impulse</th>\n",
       "      <td>0.214571</td>\n",
       "      <td>-0.190059</td>\n",
       "      <td>0.027747</td>\n",
       "    </tr>\n",
       "    <tr>\n",
       "      <th>other_revenue_se</th>\n",
       "      <td>0.182879</td>\n",
       "      <td>0.168829</td>\n",
       "      <td>0.161858</td>\n",
       "    </tr>\n",
       "  </tbody>\n",
       "</table>\n",
       "</div>"
      ],
      "text/plain": [
       "                                     1         2         3\n",
       "program_expenditure_impulse   0.349379  0.103515 -0.227969\n",
       "program_expenditure_se        0.217789  0.219938  0.205308\n",
       "debt_service_impulse         -0.028090 -0.018830 -0.030256\n",
       "debt_service_se               0.024116  0.023817  0.024693\n",
       "corporate_income_tax_impulse  0.082923  0.021021  0.006335\n",
       "corporate_income_tax_se       0.064716  0.065490  0.054042\n",
       "personal_income_tax_impulse  -0.089590  0.046614  0.062242\n",
       "personal_income_tax_se        0.077871  0.073970  0.062466\n",
       "other_revenue_impulse         0.214571 -0.190059  0.027747\n",
       "other_revenue_se              0.182879  0.168829  0.161858"
      ]
     },
     "execution_count": 27,
     "metadata": {},
     "output_type": "execute_result"
    }
   ],
   "source": [
    "def impulse_response(impulse, response):\n",
    "    imp_ind = params.index(impulse)\n",
    "    res_ind = params.index(response)\n",
    "    ir = irfs[:, res_ind, imp_ind]\n",
    "    se = irf_stderr[:, res_ind, imp_ind]\n",
    "    imp_name = response + '_impulse'\n",
    "    se_name = response + '_se'\n",
    "    df = pd.DataFrame({imp_name: ir, se_name: se})\n",
    "    return df.loc[1:3].T\n",
    "\n",
    "def ir_table(impulse):\n",
    "    responses = params[2:]\n",
    "    return pd.concat([impulse_response(impulse, response) for response in responses])\n",
    "ir_table('nrrd')"
   ]
  },
  {
   "cell_type": "markdown",
   "metadata": {},
   "source": [
    "#### Figure 3a\n",
    "The total response of program spending to a one-dollar increase in NRR"
   ]
  },
  {
   "cell_type": "code",
   "execution_count": 28,
   "metadata": {},
   "outputs": [
    {
     "data": {
      "image/png": "[encoded data removed]",
      "text/plain": [
       "<Figure size 720x720 with 1 Axes>"
      ]
     },
     "metadata": {},
     "output_type": "display_data"
    }
   ],
   "source": [
    "# https://github.com/statsmodels/statsmodels/issues/1265\n",
    "_ = irf.plot(impulse='nrri', response='program_expenditure')"
   ]
  },
  {
   "cell_type": "markdown",
   "metadata": {},
   "source": [
    "#### Figure 3b\n",
    "The total response of program spending to a one-dollar decrease in NRR"
   ]
  },
  {
   "cell_type": "code",
   "execution_count": 29,
   "metadata": {},
   "outputs": [
    {
     "data": {
      "image/png": "[encoded data removed]",
      "text/plain": [
       "<Figure size 720x720 with 1 Axes>"
      ]
     },
     "metadata": {},
     "output_type": "display_data"
    }
   ],
   "source": [
    "_ = irf.plot(impulse='nrrd', response='program_expenditure')"
   ]
  },
  {
   "cell_type": "markdown",
   "metadata": {},
   "source": [
    "# TODO\n",
    "Figure 4a, 4b, 5, 6"
   ]
  },
  {
   "cell_type": "code",
   "execution_count": null,
   "metadata": {},
   "outputs": [],
   "source": []
  }
 ],
 "metadata": {
  "kernelspec": {
   "display_name": "Python 3",
   "language": "python",
   "name": "python3"
  },
  "language_info": {
   "codemirror_mode": {
    "name": "ipython",
    "version": 3
   },
   "file_extension": ".py",
   "mimetype": "text/x-python",
   "name": "python",
   "nbconvert_exporter": "python",
   "pygments_lexer": "ipython3",
   "version": "3.7.1"
  }
 },
 "nbformat": 4,
 "nbformat_minor": 2
}
